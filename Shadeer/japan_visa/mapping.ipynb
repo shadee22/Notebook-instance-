{
 "cells": [
  {
   "cell_type": "code",
   "execution_count": 1,
   "metadata": {},
   "outputs": [
    {
     "name": "stdout",
     "output_type": "stream",
     "text": [
      "Requirement already satisfied: pandas in /Users/shadeer/Desktop/HOME/AI/PulseID/Notebook-instance/.venv/lib/python3.12/site-packages (2.2.1)\n",
      "Requirement already satisfied: requests in /Users/shadeer/Desktop/HOME/AI/PulseID/Notebook-instance/.venv/lib/python3.12/site-packages (2.31.0)\n",
      "Requirement already satisfied: numpy<2,>=1.26.0 in /Users/shadeer/Desktop/HOME/AI/PulseID/Notebook-instance/.venv/lib/python3.12/site-packages (from pandas) (1.26.4)\n",
      "Requirement already satisfied: python-dateutil>=2.8.2 in /Users/shadeer/Desktop/HOME/AI/PulseID/Notebook-instance/.venv/lib/python3.12/site-packages (from pandas) (2.9.0.post0)\n",
      "Requirement already satisfied: pytz>=2020.1 in /Users/shadeer/Desktop/HOME/AI/PulseID/Notebook-instance/.venv/lib/python3.12/site-packages (from pandas) (2024.1)\n",
      "Requirement already satisfied: tzdata>=2022.7 in /Users/shadeer/Desktop/HOME/AI/PulseID/Notebook-instance/.venv/lib/python3.12/site-packages (from pandas) (2024.1)\n",
      "Requirement already satisfied: charset-normalizer<4,>=2 in /Users/shadeer/Desktop/HOME/AI/PulseID/Notebook-instance/.venv/lib/python3.12/site-packages (from requests) (3.3.2)\n",
      "Requirement already satisfied: idna<4,>=2.5 in /Users/shadeer/Desktop/HOME/AI/PulseID/Notebook-instance/.venv/lib/python3.12/site-packages (from requests) (3.6)\n",
      "Requirement already satisfied: urllib3<3,>=1.21.1 in /Users/shadeer/Desktop/HOME/AI/PulseID/Notebook-instance/.venv/lib/python3.12/site-packages (from requests) (2.2.1)\n",
      "Requirement already satisfied: certifi>=2017.4.17 in /Users/shadeer/Desktop/HOME/AI/PulseID/Notebook-instance/.venv/lib/python3.12/site-packages (from requests) (2024.2.2)\n",
      "Requirement already satisfied: six>=1.5 in /Users/shadeer/Desktop/HOME/AI/PulseID/Notebook-instance/.venv/lib/python3.12/site-packages (from python-dateutil>=2.8.2->pandas) (1.16.0)\n",
      "\n",
      "\u001b[1m[\u001b[0m\u001b[34;49mnotice\u001b[0m\u001b[1;39;49m]\u001b[0m\u001b[39;49m A new release of pip is available: \u001b[0m\u001b[31;49m24.0\u001b[0m\u001b[39;49m -> \u001b[0m\u001b[32;49m24.1.1\u001b[0m\n",
      "\u001b[1m[\u001b[0m\u001b[34;49mnotice\u001b[0m\u001b[1;39;49m]\u001b[0m\u001b[39;49m To update, run: \u001b[0m\u001b[32;49mpip install --upgrade pip\u001b[0m\n"
     ]
    }
   ],
   "source": [
    "!pip install pandas requests\n"
   ]
  },
  {
   "cell_type": "code",
   "execution_count": 16,
   "metadata": {},
   "outputs": [
    {
     "name": "stdout",
     "output_type": "stream",
     "text": [
      "Error 429: Too Many Requests. Stopping process.\n"
     ]
    }
   ],
   "source": [
    "import pandas as pd\n",
    "import requests\n",
    "import time\n",
    "\n",
    "# Load the CSV file\n",
    "file_path = 'top_issuer.csv'\n",
    "df = pd.read_csv(file_path)\n",
    "df['Issuer bin'] = df['Issuer bin'].astype(int)\n",
    "\n",
    "# Function to get bank details from Binlist API\n",
    "def get_bank_details(bin_number):\n",
    "    url = f\"https://lookup.binlist.net/{bin_number}\"\n",
    "    response = requests.get(url)\n",
    "    if response.status_code == 200:\n",
    "        data = response.json()\n",
    "        bank_name = data.get(\"bank\", {}).get(\"name\", \"Unknown\")\n",
    "        print(f\"BIN: {bin_number}, Bank: {bank_name}\")\n",
    "        return bank_name\n",
    "    elif response.status_code == 429:\n",
    "        print(\"Error 429: Too Many Requests. Stopping process.\")\n",
    "        return \"Error 429\"\n",
    "    else:\n",
    "        print(f\"Error {response.status_code}: {response.reason}\")\n",
    "        return \"Unknown\"\n",
    "\n",
    "# Create a dictionary to map BIN to bank name\n",
    "bin_to_bank = {}\n",
    "for bin_number in df['Issuer bin']:\n",
    "    if not pd.isna(bin_number):\n",
    "        bank_name = get_bank_details(int(bin_number))\n",
    "        if bank_name == \"Error 429\":\n",
    "            break\n",
    "        bin_to_bank[bin_number] = bank_name\n",
    "\n",
    "# Print the map of BIN to bank name\n",
    "for bin_number, bank_name in bin_to_bank.items():\n",
    "    print(f\"BIN: {bin_number}, Bank: {bank_name}\")\n",
    "\n",
    "# Optional: Save the results to a new CSV file\n",
    "result_df = pd.DataFrame(list(bin_to_bank.items()), columns=['Issuer bin', 'Bank'])\n",
    "result_df.to_csv('output/Issuer_bin_to_bank.csv', index=False)\n"
   ]
  },
  {
   "cell_type": "code",
   "execution_count": 11,
   "metadata": {},
   "outputs": [
    {
     "name": "stdout",
     "output_type": "stream",
     "text": [
      "<class 'pandas.core.frame.DataFrame'>\n",
      "RangeIndex: 394 entries, 0 to 393\n",
      "Data columns (total 2 columns):\n",
      " #   Column      Non-Null Count  Dtype \n",
      "---  ------      --------------  ----- \n",
      " 0   Issuer bin  394 non-null    int64 \n",
      " 1   Bank        394 non-null    object\n",
      "dtypes: int64(1), object(1)\n",
      "memory usage: 6.3+ KB\n"
     ]
    }
   ],
   "source": [
    "result_df.info()"
   ]
  },
  {
   "cell_type": "code",
   "execution_count": 4,
   "metadata": {},
   "outputs": [
    {
     "data": {
      "text/html": [
       "<div>\n",
       "<style scoped>\n",
       "    .dataframe tbody tr th:only-of-type {\n",
       "        vertical-align: middle;\n",
       "    }\n",
       "\n",
       "    .dataframe tbody tr th {\n",
       "        vertical-align: top;\n",
       "    }\n",
       "\n",
       "    .dataframe thead th {\n",
       "        text-align: right;\n",
       "    }\n",
       "</style>\n",
       "<table border=\"1\" class=\"dataframe\">\n",
       "  <thead>\n",
       "    <tr style=\"text-align: right;\">\n",
       "      <th></th>\n",
       "      <th>Issuer bin</th>\n",
       "      <th>Bank</th>\n",
       "    </tr>\n",
       "  </thead>\n",
       "  <tbody>\n",
       "    <tr>\n",
       "      <th>4</th>\n",
       "      <td>498011.0</td>\n",
       "      <td>Unknown</td>\n",
       "    </tr>\n",
       "    <tr>\n",
       "      <th>5</th>\n",
       "      <td>453725.0</td>\n",
       "      <td>Unknown</td>\n",
       "    </tr>\n",
       "    <tr>\n",
       "      <th>6</th>\n",
       "      <td>498001.0</td>\n",
       "      <td>Unknown</td>\n",
       "    </tr>\n",
       "    <tr>\n",
       "      <th>7</th>\n",
       "      <td>498003.0</td>\n",
       "      <td>Unknown</td>\n",
       "    </tr>\n",
       "    <tr>\n",
       "      <th>8</th>\n",
       "      <td>498009.0</td>\n",
       "      <td>Unknown</td>\n",
       "    </tr>\n",
       "    <tr>\n",
       "      <th>...</th>\n",
       "      <td>...</td>\n",
       "      <td>...</td>\n",
       "    </tr>\n",
       "    <tr>\n",
       "      <th>389</th>\n",
       "      <td>45412299.0</td>\n",
       "      <td>Unknown</td>\n",
       "    </tr>\n",
       "    <tr>\n",
       "      <th>390</th>\n",
       "      <td>454213.0</td>\n",
       "      <td>Unknown</td>\n",
       "    </tr>\n",
       "    <tr>\n",
       "      <th>391</th>\n",
       "      <td>45412255.0</td>\n",
       "      <td>Unknown</td>\n",
       "    </tr>\n",
       "    <tr>\n",
       "      <th>392</th>\n",
       "      <td>453429.0</td>\n",
       "      <td>Unknown</td>\n",
       "    </tr>\n",
       "    <tr>\n",
       "      <th>393</th>\n",
       "      <td>405743.0</td>\n",
       "      <td>Unknown</td>\n",
       "    </tr>\n",
       "  </tbody>\n",
       "</table>\n",
       "<p>390 rows × 2 columns</p>\n",
       "</div>"
      ],
      "text/plain": [
       "     Issuer bin     Bank\n",
       "4      498011.0  Unknown\n",
       "5      453725.0  Unknown\n",
       "6      498001.0  Unknown\n",
       "7      498003.0  Unknown\n",
       "8      498009.0  Unknown\n",
       "..          ...      ...\n",
       "389  45412299.0  Unknown\n",
       "390    454213.0  Unknown\n",
       "391  45412255.0  Unknown\n",
       "392    453429.0  Unknown\n",
       "393    405743.0  Unknown\n",
       "\n",
       "[390 rows x 2 columns]"
      ]
     },
     "execution_count": 4,
     "metadata": {},
     "output_type": "execute_result"
    }
   ],
   "source": [
    "result_df[result_df[\"Bank\"] == \"Unknown\"]"
   ]
  },
  {
   "cell_type": "code",
   "execution_count": 9,
   "metadata": {},
   "outputs": [
    {
     "data": {
      "text/html": [
       "<div>\n",
       "<style scoped>\n",
       "    .dataframe tbody tr th:only-of-type {\n",
       "        vertical-align: middle;\n",
       "    }\n",
       "\n",
       "    .dataframe tbody tr th {\n",
       "        vertical-align: top;\n",
       "    }\n",
       "\n",
       "    .dataframe thead th {\n",
       "        text-align: right;\n",
       "    }\n",
       "</style>\n",
       "<table border=\"1\" class=\"dataframe\">\n",
       "  <thead>\n",
       "    <tr style=\"text-align: right;\">\n",
       "      <th></th>\n",
       "      <th>Issuer bin</th>\n",
       "      <th>count</th>\n",
       "    </tr>\n",
       "  </thead>\n",
       "  <tbody>\n",
       "    <tr>\n",
       "      <th>0</th>\n",
       "      <td>470881</td>\n",
       "      <td>7930</td>\n",
       "    </tr>\n",
       "    <tr>\n",
       "      <th>1</th>\n",
       "      <td>498000</td>\n",
       "      <td>7639</td>\n",
       "    </tr>\n",
       "    <tr>\n",
       "      <th>2</th>\n",
       "      <td>498005</td>\n",
       "      <td>6876</td>\n",
       "    </tr>\n",
       "    <tr>\n",
       "      <th>3</th>\n",
       "      <td>429769</td>\n",
       "      <td>4443</td>\n",
       "    </tr>\n",
       "    <tr>\n",
       "      <th>4</th>\n",
       "      <td>498011</td>\n",
       "      <td>1838</td>\n",
       "    </tr>\n",
       "  </tbody>\n",
       "</table>\n",
       "</div>"
      ],
      "text/plain": [
       "   Issuer bin  count\n",
       "0      470881   7930\n",
       "1      498000   7639\n",
       "2      498005   6876\n",
       "3      429769   4443\n",
       "4      498011   1838"
      ]
     },
     "execution_count": 9,
     "metadata": {},
     "output_type": "execute_result"
    }
   ],
   "source": [
    "\n",
    "df.head()"
   ]
  },
  {
   "cell_type": "code",
   "execution_count": 5,
   "metadata": {},
   "outputs": [
    {
     "data": {
      "text/plain": [
       "(394, 2)"
      ]
     },
     "execution_count": 5,
     "metadata": {},
     "output_type": "execute_result"
    }
   ],
   "source": [
    "result_df.shape"
   ]
  },
  {
   "cell_type": "code",
   "execution_count": 6,
   "metadata": {},
   "outputs": [],
   "source": [
    "# Optional: Save the results to a new CSV file\n",
    "result_df = pd.DataFrame(list(bin_to_bank.items()), columns=['Issuer bin', 'Bank'])\n",
    "result_df.to_csv('output/Issuer_bin_to_bank.csv', index=False)"
   ]
  },
  {
   "cell_type": "code",
   "execution_count": null,
   "metadata": {},
   "outputs": [],
   "source": []
  }
 ],
 "metadata": {
  "kernelspec": {
   "display_name": ".venv",
   "language": "python",
   "name": "python3"
  },
  "language_info": {
   "codemirror_mode": {
    "name": "ipython",
    "version": 3
   },
   "file_extension": ".py",
   "mimetype": "text/x-python",
   "name": "python",
   "nbconvert_exporter": "python",
   "pygments_lexer": "ipython3",
   "version": "3.12.1"
  }
 },
 "nbformat": 4,
 "nbformat_minor": 2
}
