{
 "cells": [
  {
   "cell_type": "code",
   "execution_count": null,
   "metadata": {
    "_cell_guid": "b1076dfc-b9ad-4769-8c92-a6c4dae69d19",
    "_uuid": "8f2839f25d086af736a60e9eeb907d3b93b6e0e5",
    "execution": {
     "iopub.execute_input": "2024-07-03T02:41:32.992228Z",
     "iopub.status.busy": "2024-07-03T02:41:32.991660Z",
     "iopub.status.idle": "2024-07-03T02:41:34.216673Z",
     "shell.execute_reply": "2024-07-03T02:41:34.215290Z",
     "shell.execute_reply.started": "2024-07-03T02:41:32.992173Z"
    }
   },
   "outputs": [],
   "source": []
  },
  {
   "cell_type": "code",
   "execution_count": 2,
   "metadata": {
    "tags": []
   },
   "outputs": [],
   "source": [
    "import pandas as pd"
   ]
  },
  {
   "cell_type": "code",
   "execution_count": 3,
   "metadata": {
    "tags": []
   },
   "outputs": [],
   "source": [
    "\n",
    "df = pd.read_csv('./Req-3-Top Issuers Analysis.csv')\n",
    "df['issuer_bin'] = df['issuer_bin'].astype(int)\n"
   ]
  },
  {
   "cell_type": "code",
   "execution_count": 4,
   "metadata": {
    "tags": []
   },
   "outputs": [
    {
     "data": {
      "text/html": [
       "<div>\n",
       "<style scoped>\n",
       "    .dataframe tbody tr th:only-of-type {\n",
       "        vertical-align: middle;\n",
       "    }\n",
       "\n",
       "    .dataframe tbody tr th {\n",
       "        vertical-align: top;\n",
       "    }\n",
       "\n",
       "    .dataframe thead th {\n",
       "        text-align: right;\n",
       "    }\n",
       "</style>\n",
       "<table border=\"1\" class=\"dataframe\">\n",
       "  <thead>\n",
       "    <tr style=\"text-align: right;\">\n",
       "      <th></th>\n",
       "      <th>Unnamed: 0</th>\n",
       "      <th>issuer_bin</th>\n",
       "      <th>card_id_count</th>\n",
       "    </tr>\n",
       "  </thead>\n",
       "  <tbody>\n",
       "    <tr>\n",
       "      <th>0</th>\n",
       "      <td>194</td>\n",
       "      <td>470881</td>\n",
       "      <td>8140</td>\n",
       "    </tr>\n",
       "    <tr>\n",
       "      <th>1</th>\n",
       "      <td>262</td>\n",
       "      <td>498000</td>\n",
       "      <td>7862</td>\n",
       "    </tr>\n",
       "    <tr>\n",
       "      <th>2</th>\n",
       "      <td>266</td>\n",
       "      <td>498005</td>\n",
       "      <td>7086</td>\n",
       "    </tr>\n",
       "    <tr>\n",
       "      <th>3</th>\n",
       "      <td>42</td>\n",
       "      <td>429769</td>\n",
       "      <td>4527</td>\n",
       "    </tr>\n",
       "    <tr>\n",
       "      <th>4</th>\n",
       "      <td>270</td>\n",
       "      <td>498011</td>\n",
       "      <td>1888</td>\n",
       "    </tr>\n",
       "    <tr>\n",
       "      <th>...</th>\n",
       "      <td>...</td>\n",
       "      <td>...</td>\n",
       "      <td>...</td>\n",
       "    </tr>\n",
       "    <tr>\n",
       "      <th>389</th>\n",
       "      <td>172</td>\n",
       "      <td>468515</td>\n",
       "      <td>1</td>\n",
       "    </tr>\n",
       "    <tr>\n",
       "      <th>390</th>\n",
       "      <td>288</td>\n",
       "      <td>498070</td>\n",
       "      <td>1</td>\n",
       "    </tr>\n",
       "    <tr>\n",
       "      <th>391</th>\n",
       "      <td>285</td>\n",
       "      <td>498057</td>\n",
       "      <td>1</td>\n",
       "    </tr>\n",
       "    <tr>\n",
       "      <th>392</th>\n",
       "      <td>284</td>\n",
       "      <td>498048</td>\n",
       "      <td>1</td>\n",
       "    </tr>\n",
       "    <tr>\n",
       "      <th>393</th>\n",
       "      <td>0</td>\n",
       "      <td>405743</td>\n",
       "      <td>1</td>\n",
       "    </tr>\n",
       "  </tbody>\n",
       "</table>\n",
       "<p>394 rows × 3 columns</p>\n",
       "</div>"
      ],
      "text/plain": [
       "     Unnamed: 0  issuer_bin  card_id_count\n",
       "0           194      470881           8140\n",
       "1           262      498000           7862\n",
       "2           266      498005           7086\n",
       "3            42      429769           4527\n",
       "4           270      498011           1888\n",
       "..          ...         ...            ...\n",
       "389         172      468515              1\n",
       "390         288      498070              1\n",
       "391         285      498057              1\n",
       "392         284      498048              1\n",
       "393           0      405743              1\n",
       "\n",
       "[394 rows x 3 columns]"
      ]
     },
     "execution_count": 4,
     "metadata": {},
     "output_type": "execute_result"
    }
   ],
   "source": [
    "df "
   ]
  },
  {
   "cell_type": "code",
   "execution_count": 5,
   "metadata": {
    "jupyter": {
     "source_hidden": true
    },
    "tags": []
   },
   "outputs": [],
   "source": [
    "# import pandas as pd\n",
    "# import requests\n",
    "# import time\n",
    "# from requests.exceptions import RequestException\n",
    "\n",
    "# # Load the CSV file\n",
    "# file_path = '/kaggle/input/top-issuer/Top Issuer analysis.csv'\n",
    "# df = pd.read_csv(file_path)\n",
    "# df['Issuer bin'] = df['Issuer bin'].astype(int)\n",
    "\n",
    "# # Function to get bank details from Binlist API with retry logic\n",
    "# def get_bank_details(bin_number, max_retries=5, initial_delay=1):\n",
    "#     delay = initial_delay\n",
    "#     for attempt in range(max_retries):\n",
    "#         try:\n",
    "#             url = f\"https://lookup.binlist.net/{bin_number}\"\n",
    "#             response = requests.get(url)\n",
    "#             if response.status_code == 200:\n",
    "#                 data = response.json()\n",
    "#                 bank_name = data.get(\"bank\", {}).get(\"name\", \"Unknown\")\n",
    "#                 print(f\"BIN: {bin_number}, Bank: {bank_name}\")\n",
    "#                 return bank_name\n",
    "#             elif response.status_code == 429:\n",
    "#                 print(f\"Rate limit hit. Retrying in {delay} seconds...\")\n",
    "#                 time.sleep(delay)\n",
    "#                 delay *= 2  # Exponential backoff\n",
    "#             else:\n",
    "#                 print(f\"Error {response.status_code}: {response.reason}\")\n",
    "#                 return \"Unknown\"\n",
    "#         except RequestException as e:\n",
    "#             print(f\"Request failed: {e}\")\n",
    "#             time.sleep(delay)\n",
    "#             delay *= 2\n",
    "#     print(f\"Max retries reached for BIN {bin_number}. Moving to next.\")\n",
    "#     return \"Max retries reached\"\n",
    "\n",
    "# # Load existing progress if any\n",
    "# try:\n",
    "#     existing_results = pd.read_csv('output/Issuer_bin_to_bank.csv')\n",
    "#     bin_to_bank = dict(zip(existing_results['Issuer bin'], existing_results['Bank']))\n",
    "#     print(f\"Loaded {len(bin_to_bank)} existing results.\")\n",
    "# except FileNotFoundError:\n",
    "#     bin_to_bank = {}\n",
    "\n",
    "# # Process BINs\n",
    "# for bin_number in df['Issuer bin']:\n",
    "#     if not pd.isna(bin_number) and bin_number not in bin_to_bank:\n",
    "#         bank_name = get_bank_details(int(bin_number))\n",
    "#         bin_to_bank[bin_number] = bank_name\n",
    "        \n",
    "#         # Save progress after each successful lookup\n",
    "#         result_df = pd.DataFrame(list(bin_to_bank.items()), columns=['Issuer bin', 'Bank'])\n",
    "#         result_df.to_csv('Issuer_bin_to_bank.csv', index=False)\n",
    "        \n",
    "#         # Add a small delay between requests to respect rate limits\n",
    "#         time.sleep(1)\n",
    "\n",
    "# # Print the final map of BIN to bank name\n",
    "# for bin_number, bank_name in bin_to_bank.items():\n",
    "#     print(f\"BIN: {bin_number}, Bank: {bank_name}\")\n",
    "\n",
    "# print(f\"Processed {len(bin_to_bank)} out of {len(df)} BINs.\")"
   ]
  },
  {
   "cell_type": "markdown",
   "metadata": {},
   "source": [
    "This used to get the 6 digit issuer bin from 4 digit "
   ]
  },
  {
   "cell_type": "code",
   "execution_count": 9,
   "metadata": {
    "tags": []
   },
   "outputs": [
    {
     "data": {
      "text/plain": [
       "'46243702'"
      ]
     },
     "execution_count": 9,
     "metadata": {},
     "output_type": "execute_result"
    }
   ],
   "source": [
    "\n",
    "# Filtering rows where \"Issuer bin\" starts with 498 and has a digit count of 6\n",
    "filtered_df = df[df['issuer_bin'].astype(str).str.startswith('4624')]\n",
    "\n",
    "# Print the filtered dataframe\n",
    "filtered_df.iloc[0][\"issuer_bin\"]\n"
   ]
  },
  {
   "cell_type": "code",
   "execution_count": 7,
   "metadata": {
    "tags": []
   },
   "outputs": [
    {
     "data": {
      "text/html": [
       "<div>\n",
       "<style scoped>\n",
       "    .dataframe tbody tr th:only-of-type {\n",
       "        vertical-align: middle;\n",
       "    }\n",
       "\n",
       "    .dataframe tbody tr th {\n",
       "        vertical-align: top;\n",
       "    }\n",
       "\n",
       "    .dataframe thead th {\n",
       "        text-align: right;\n",
       "    }\n",
       "</style>\n",
       "<table border=\"1\" class=\"dataframe\">\n",
       "  <thead>\n",
       "    <tr style=\"text-align: right;\">\n",
       "      <th></th>\n",
       "      <th>Unnamed: 0</th>\n",
       "      <th>issuer_bin</th>\n",
       "      <th>card_id_count</th>\n",
       "      <th>first_4_digits</th>\n",
       "    </tr>\n",
       "  </thead>\n",
       "  <tbody>\n",
       "    <tr>\n",
       "      <th>0</th>\n",
       "      <td>194</td>\n",
       "      <td>470881</td>\n",
       "      <td>8140</td>\n",
       "      <td>4708</td>\n",
       "    </tr>\n",
       "    <tr>\n",
       "      <th>1</th>\n",
       "      <td>262</td>\n",
       "      <td>498000</td>\n",
       "      <td>7862</td>\n",
       "      <td>4980</td>\n",
       "    </tr>\n",
       "    <tr>\n",
       "      <th>2</th>\n",
       "      <td>266</td>\n",
       "      <td>498005</td>\n",
       "      <td>7086</td>\n",
       "      <td>4980</td>\n",
       "    </tr>\n",
       "    <tr>\n",
       "      <th>3</th>\n",
       "      <td>42</td>\n",
       "      <td>429769</td>\n",
       "      <td>4527</td>\n",
       "      <td>4297</td>\n",
       "    </tr>\n",
       "    <tr>\n",
       "      <th>4</th>\n",
       "      <td>270</td>\n",
       "      <td>498011</td>\n",
       "      <td>1888</td>\n",
       "      <td>4980</td>\n",
       "    </tr>\n",
       "    <tr>\n",
       "      <th>...</th>\n",
       "      <td>...</td>\n",
       "      <td>...</td>\n",
       "      <td>...</td>\n",
       "      <td>...</td>\n",
       "    </tr>\n",
       "    <tr>\n",
       "      <th>389</th>\n",
       "      <td>172</td>\n",
       "      <td>468515</td>\n",
       "      <td>1</td>\n",
       "      <td>4685</td>\n",
       "    </tr>\n",
       "    <tr>\n",
       "      <th>390</th>\n",
       "      <td>288</td>\n",
       "      <td>498070</td>\n",
       "      <td>1</td>\n",
       "      <td>4980</td>\n",
       "    </tr>\n",
       "    <tr>\n",
       "      <th>391</th>\n",
       "      <td>285</td>\n",
       "      <td>498057</td>\n",
       "      <td>1</td>\n",
       "      <td>4980</td>\n",
       "    </tr>\n",
       "    <tr>\n",
       "      <th>392</th>\n",
       "      <td>284</td>\n",
       "      <td>498048</td>\n",
       "      <td>1</td>\n",
       "      <td>4980</td>\n",
       "    </tr>\n",
       "    <tr>\n",
       "      <th>393</th>\n",
       "      <td>0</td>\n",
       "      <td>405743</td>\n",
       "      <td>1</td>\n",
       "      <td>4057</td>\n",
       "    </tr>\n",
       "  </tbody>\n",
       "</table>\n",
       "<p>394 rows × 4 columns</p>\n",
       "</div>"
      ],
      "text/plain": [
       "     Unnamed: 0 issuer_bin  card_id_count first_4_digits\n",
       "0           194     470881           8140           4708\n",
       "1           262     498000           7862           4980\n",
       "2           266     498005           7086           4980\n",
       "3            42     429769           4527           4297\n",
       "4           270     498011           1888           4980\n",
       "..          ...        ...            ...            ...\n",
       "389         172     468515              1           4685\n",
       "390         288     498070              1           4980\n",
       "391         285     498057              1           4980\n",
       "392         284     498048              1           4980\n",
       "393           0     405743              1           4057\n",
       "\n",
       "[394 rows x 4 columns]"
      ]
     },
     "execution_count": 7,
     "metadata": {},
     "output_type": "execute_result"
    }
   ],
   "source": [
    "df[\"issuer_bin\"] = df[\"issuer_bin\"].astype(str)\n",
    "df[\"first_4_digits\"] = df[\"issuer_bin\"].str[:4]\n",
    "\n",
    "df"
   ]
  },
  {
   "cell_type": "markdown",
   "metadata": {},
   "source": [
    "Second dataset"
   ]
  },
  {
   "cell_type": "code",
   "execution_count": 8,
   "metadata": {
    "tags": []
   },
   "outputs": [
    {
     "data": {
      "text/html": [
       "<div>\n",
       "<style scoped>\n",
       "    .dataframe tbody tr th:only-of-type {\n",
       "        vertical-align: middle;\n",
       "    }\n",
       "\n",
       "    .dataframe tbody tr th {\n",
       "        vertical-align: top;\n",
       "    }\n",
       "\n",
       "    .dataframe thead th {\n",
       "        text-align: right;\n",
       "    }\n",
       "</style>\n",
       "<table border=\"1\" class=\"dataframe\">\n",
       "  <thead>\n",
       "    <tr style=\"text-align: right;\">\n",
       "      <th></th>\n",
       "      <th>first_4_digits</th>\n",
       "      <th>card_id_count</th>\n",
       "    </tr>\n",
       "  </thead>\n",
       "  <tbody>\n",
       "    <tr>\n",
       "      <th>0</th>\n",
       "      <td>4980</td>\n",
       "      <td>21286</td>\n",
       "    </tr>\n",
       "    <tr>\n",
       "      <th>1</th>\n",
       "      <td>4708</td>\n",
       "      <td>8765</td>\n",
       "    </tr>\n",
       "    <tr>\n",
       "      <th>2</th>\n",
       "      <td>4297</td>\n",
       "      <td>4977</td>\n",
       "    </tr>\n",
       "    <tr>\n",
       "      <th>3</th>\n",
       "      <td>4537</td>\n",
       "      <td>1540</td>\n",
       "    </tr>\n",
       "    <tr>\n",
       "      <th>4</th>\n",
       "      <td>4205</td>\n",
       "      <td>1530</td>\n",
       "    </tr>\n",
       "    <tr>\n",
       "      <th>5</th>\n",
       "      <td>4534</td>\n",
       "      <td>1200</td>\n",
       "    </tr>\n",
       "    <tr>\n",
       "      <th>6</th>\n",
       "      <td>4541</td>\n",
       "      <td>1049</td>\n",
       "    </tr>\n",
       "    <tr>\n",
       "      <th>7</th>\n",
       "      <td>4649</td>\n",
       "      <td>973</td>\n",
       "    </tr>\n",
       "    <tr>\n",
       "      <th>8</th>\n",
       "      <td>4363</td>\n",
       "      <td>968</td>\n",
       "    </tr>\n",
       "    <tr>\n",
       "      <th>9</th>\n",
       "      <td>4616</td>\n",
       "      <td>828</td>\n",
       "    </tr>\n",
       "    <tr>\n",
       "      <th>10</th>\n",
       "      <td>4986</td>\n",
       "      <td>751</td>\n",
       "    </tr>\n",
       "    <tr>\n",
       "      <th>11</th>\n",
       "      <td>4539</td>\n",
       "      <td>515</td>\n",
       "    </tr>\n",
       "    <tr>\n",
       "      <th>12</th>\n",
       "      <td>4097</td>\n",
       "      <td>466</td>\n",
       "    </tr>\n",
       "    <tr>\n",
       "      <th>13</th>\n",
       "      <td>4924</td>\n",
       "      <td>408</td>\n",
       "    </tr>\n",
       "    <tr>\n",
       "      <th>14</th>\n",
       "      <td>4987</td>\n",
       "      <td>387</td>\n",
       "    </tr>\n",
       "    <tr>\n",
       "      <th>15</th>\n",
       "      <td>4162</td>\n",
       "      <td>358</td>\n",
       "    </tr>\n",
       "    <tr>\n",
       "      <th>16</th>\n",
       "      <td>4721</td>\n",
       "      <td>349</td>\n",
       "    </tr>\n",
       "    <tr>\n",
       "      <th>17</th>\n",
       "      <td>4538</td>\n",
       "      <td>344</td>\n",
       "    </tr>\n",
       "    <tr>\n",
       "      <th>18</th>\n",
       "      <td>4984</td>\n",
       "      <td>335</td>\n",
       "    </tr>\n",
       "    <tr>\n",
       "      <th>19</th>\n",
       "      <td>4901</td>\n",
       "      <td>315</td>\n",
       "    </tr>\n",
       "  </tbody>\n",
       "</table>\n",
       "</div>"
      ],
      "text/plain": [
       "   first_4_digits  card_id_count\n",
       "0            4980          21286\n",
       "1            4708           8765\n",
       "2            4297           4977\n",
       "3            4537           1540\n",
       "4            4205           1530\n",
       "5            4534           1200\n",
       "6            4541           1049\n",
       "7            4649            973\n",
       "8            4363            968\n",
       "9            4616            828\n",
       "10           4986            751\n",
       "11           4539            515\n",
       "12           4097            466\n",
       "13           4924            408\n",
       "14           4987            387\n",
       "15           4162            358\n",
       "16           4721            349\n",
       "17           4538            344\n",
       "18           4984            335\n",
       "19           4901            315"
      ]
     },
     "execution_count": 8,
     "metadata": {},
     "output_type": "execute_result"
    }
   ],
   "source": [
    "# Group by the first 4 digits and sum the counts\n",
    "grouped_df = df.groupby(\"first_4_digits\")[\"card_id_count\"].sum().reset_index()\n",
    "grouped_df = grouped_df.sort_values(by=\"card_id_count\", ascending=False).reset_index(drop=True)\n",
    "grouped_df[:20]\n"
   ]
  },
  {
   "cell_type": "code",
   "execution_count": 11,
   "metadata": {
    "tags": []
   },
   "outputs": [
    {
     "data": {
      "text/html": [
       "<div>\n",
       "<style scoped>\n",
       "    .dataframe tbody tr th:only-of-type {\n",
       "        vertical-align: middle;\n",
       "    }\n",
       "\n",
       "    .dataframe tbody tr th {\n",
       "        vertical-align: top;\n",
       "    }\n",
       "\n",
       "    .dataframe thead th {\n",
       "        text-align: right;\n",
       "    }\n",
       "</style>\n",
       "<table border=\"1\" class=\"dataframe\">\n",
       "  <thead>\n",
       "    <tr style=\"text-align: right;\">\n",
       "      <th></th>\n",
       "      <th>first_4_digits</th>\n",
       "      <th>Bank Name</th>\n",
       "      <th>card_id_count</th>\n",
       "    </tr>\n",
       "  </thead>\n",
       "  <tbody>\n",
       "    <tr>\n",
       "      <th>0</th>\n",
       "      <td>4980</td>\n",
       "      <td>Sumitomo Mitsui Card Company Limited</td>\n",
       "      <td>21286</td>\n",
       "    </tr>\n",
       "    <tr>\n",
       "      <th>1</th>\n",
       "      <td>4708</td>\n",
       "      <td>YES BANK, LTD.</td>\n",
       "      <td>8765</td>\n",
       "    </tr>\n",
       "    <tr>\n",
       "      <th>2</th>\n",
       "      <td>4297</td>\n",
       "      <td>RAKUTEN KC CO., LTD.</td>\n",
       "      <td>4977</td>\n",
       "    </tr>\n",
       "    <tr>\n",
       "      <th>3</th>\n",
       "      <td>4537</td>\n",
       "      <td>WELLS FARGO BANK, N.A.</td>\n",
       "      <td>1540</td>\n",
       "    </tr>\n",
       "    <tr>\n",
       "      <th>4</th>\n",
       "      <td>4205</td>\n",
       "      <td>AEON CREDIT SERVICE CO., LTD.</td>\n",
       "      <td>1530</td>\n",
       "    </tr>\n",
       "    <tr>\n",
       "      <th>5</th>\n",
       "      <td>4534</td>\n",
       "      <td>DC CARD CO., LTD.</td>\n",
       "      <td>1200</td>\n",
       "    </tr>\n",
       "    <tr>\n",
       "      <th>6</th>\n",
       "      <td>4541</td>\n",
       "      <td>REDIT SAISON CO., LTD.</td>\n",
       "      <td>1049</td>\n",
       "    </tr>\n",
       "    <tr>\n",
       "      <th>7</th>\n",
       "      <td>4649</td>\n",
       "      <td>YAMAGIN CREDIT CO., LTD.</td>\n",
       "      <td>973</td>\n",
       "    </tr>\n",
       "    <tr>\n",
       "      <th>8</th>\n",
       "      <td>4363</td>\n",
       "      <td>UNITED COMMERCIAL BANK</td>\n",
       "      <td>968</td>\n",
       "    </tr>\n",
       "    <tr>\n",
       "      <th>9</th>\n",
       "      <td>4616</td>\n",
       "      <td>U.S. BANK N.A. ND</td>\n",
       "      <td>828</td>\n",
       "    </tr>\n",
       "    <tr>\n",
       "      <th>10</th>\n",
       "      <td>4986</td>\n",
       "      <td>MITSUBISHI UFJ FINANCIAL GROUP, INC.</td>\n",
       "      <td>751</td>\n",
       "    </tr>\n",
       "    <tr>\n",
       "      <th>11</th>\n",
       "      <td>4539</td>\n",
       "      <td>OSTGIROT BANK AB</td>\n",
       "      <td>515</td>\n",
       "    </tr>\n",
       "    <tr>\n",
       "      <th>12</th>\n",
       "      <td>4097</td>\n",
       "      <td>CAJA AHORROS GERONA</td>\n",
       "      <td>466</td>\n",
       "    </tr>\n",
       "    <tr>\n",
       "      <th>13</th>\n",
       "      <td>4924</td>\n",
       "      <td>BANK OF AMERICA, N.A.</td>\n",
       "      <td>408</td>\n",
       "    </tr>\n",
       "    <tr>\n",
       "      <th>14</th>\n",
       "      <td>4987</td>\n",
       "      <td>YAMAGIN CREDIT CO., LTD.</td>\n",
       "      <td>387</td>\n",
       "    </tr>\n",
       "    <tr>\n",
       "      <th>15</th>\n",
       "      <td>4162</td>\n",
       "      <td>UNKNOWN</td>\n",
       "      <td>358</td>\n",
       "    </tr>\n",
       "    <tr>\n",
       "      <th>16</th>\n",
       "      <td>4721</td>\n",
       "      <td>WELLS FARGO BANK IOWA, N.A.</td>\n",
       "      <td>349</td>\n",
       "    </tr>\n",
       "    <tr>\n",
       "      <th>17</th>\n",
       "      <td>4538</td>\n",
       "      <td>MITSUBISHI UFJ FINANCIAL GROUP, INC.</td>\n",
       "      <td>344</td>\n",
       "    </tr>\n",
       "    <tr>\n",
       "      <th>18</th>\n",
       "      <td>4984</td>\n",
       "      <td>BANCO DO BRASIL, S.A.</td>\n",
       "      <td>335</td>\n",
       "    </tr>\n",
       "    <tr>\n",
       "      <th>19</th>\n",
       "      <td>4901</td>\n",
       "      <td>OMC CARD, INC.</td>\n",
       "      <td>315</td>\n",
       "    </tr>\n",
       "  </tbody>\n",
       "</table>\n",
       "</div>"
      ],
      "text/plain": [
       "   first_4_digits                             Bank Name  card_id_count\n",
       "0            4980  Sumitomo Mitsui Card Company Limited          21286\n",
       "1            4708                        YES BANK, LTD.           8765\n",
       "2            4297                  RAKUTEN KC CO., LTD.           4977\n",
       "3            4537                WELLS FARGO BANK, N.A.           1540\n",
       "4            4205         AEON CREDIT SERVICE CO., LTD.           1530\n",
       "5            4534                     DC CARD CO., LTD.           1200\n",
       "6            4541                REDIT SAISON CO., LTD.           1049\n",
       "7            4649              YAMAGIN CREDIT CO., LTD.            973\n",
       "8            4363                UNITED COMMERCIAL BANK            968\n",
       "9            4616                     U.S. BANK N.A. ND            828\n",
       "10           4986  MITSUBISHI UFJ FINANCIAL GROUP, INC.            751\n",
       "11           4539                      OSTGIROT BANK AB            515\n",
       "12           4097                   CAJA AHORROS GERONA            466\n",
       "13           4924                 BANK OF AMERICA, N.A.            408\n",
       "14           4987              YAMAGIN CREDIT CO., LTD.            387\n",
       "15           4162                               UNKNOWN            358\n",
       "16           4721           WELLS FARGO BANK IOWA, N.A.            349\n",
       "17           4538  MITSUBISHI UFJ FINANCIAL GROUP, INC.            344\n",
       "18           4984                 BANCO DO BRASIL, S.A.            335\n",
       "19           4901                        OMC CARD, INC.            315"
      ]
     },
     "execution_count": 11,
     "metadata": {},
     "output_type": "execute_result"
    }
   ],
   "source": [
    "import pandas as pd\n",
    "\n",
    "\n",
    "# Bank mapping data\n",
    "bank_mapping = {\n",
    "    '4980': 'Sumitomo Mitsui Card Company Limited',\n",
    "    '4708': 'YES BANK, LTD.',\n",
    "    '4297': 'RAKUTEN KC CO., LTD.',\n",
    "    '4537': 'WELLS FARGO BANK, N.A.',\n",
    "    '4205': 'AEON CREDIT SERVICE CO., LTD.',\n",
    "    '4534': 'DC CARD CO., LTD.',\n",
    "    '4541': 'REDIT SAISON CO., LTD.',\n",
    "    '4363': 'UNITED COMMERCIAL BANK',\n",
    "    '4649': 'YAMAGIN CREDIT CO., LTD.',\n",
    "    '4616': 'U.S. BANK N.A. ND',\n",
    "    '4986': 'MITSUBISHI UFJ FINANCIAL GROUP, INC.',\n",
    "    '4539': 'OSTGIROT BANK AB',\n",
    "    '4097': 'CAJA AHORROS GERONA',\n",
    "    '4924': 'BANK OF AMERICA, N.A.',\n",
    "    '4987': 'YAMAGIN CREDIT CO., LTD.',\n",
    "    '4162': 'UNKNOWN',\n",
    "    '4721': 'WELLS FARGO BANK IOWA, N.A.',\n",
    "    '4538': 'MITSUBISHI UFJ FINANCIAL GROUP, INC.',\n",
    "    '4984': 'BANCO DO BRASIL, S.A.',\n",
    "    '4122': 'UNITED BANK, LTD.',\n",
    "    # '4901': 'OMC CARD, INC.'\n",
    "}\n",
    "\n",
    "# Create DataFrame\n",
    "grouped_df = grouped_df[:20]\n",
    "\n",
    "# Map the bank names\n",
    "grouped_df['Bank Name'] = grouped_df['first_4_digits'].map(bank_mapping)\n",
    "\n",
    "# Reshape the columns\n",
    "grouped_df = grouped_df[['first_4_digits', 'Bank Name', 'card_id_count']]\n",
    "\n",
    "grouped_df.head(20)\n"
   ]
  },
  {
   "cell_type": "code",
   "execution_count": null,
   "metadata": {},
   "outputs": [],
   "source": []
  },
  {
   "cell_type": "code",
   "execution_count": null,
   "metadata": {},
   "outputs": [],
   "source": [
    "first_4_digits\tcount\tIssuer Bank\n",
    "4980\t21286\tSumitomo Mitsui Card Company Limited\n",
    "4708\t8765\tYES BANK, LTD.\n",
    "4297\t4977\tRAKUTEN KC CO., LTD.\n",
    "4537\t1540\tWELLS FARGO BANK, N.A.\n",
    "4205\t1530\tAEON CREDIT SERVICE CO., LTD.\n",
    "4534\t1200\tDC CARD CO., LTD.\n",
    "4541\t1049\tREDIT SAISON CO., LTD.\n",
    "4363\t973\tUNITED COMMERCIAL BANK\n",
    "4649\t968\tYAMAGIN CREDIT CO., LTD.\n",
    "4616\t828\tU.S. BANK N.A. ND\n",
    "4986\t751\tMITSUBISHI UFJ FINANCIAL GROUP, INC.\n",
    "4539\t515\tOSTGIROT BANK AB\n",
    "4097\t466\tCAJA AHORROS GERONA\",\n",
    "4924\t408\tBANK OF AMERICA, N.A.\n",
    "4987\t387\tYAMAGIN CREDIT CO., LTD.\n",
    "4162\t358\tUNKOWN\n",
    "4721\t349\tWELLS FARGO BANK IOWA, N.A.\n",
    "4538\t344\tMITSUBISHI UFJ FINANCIAL GROUP, INC.\n",
    "4984\t335\tBANCO DO BRASIL, S.A.\n",
    "4122\t315\tUNITED BANK, LTD.\n",
    "# 4901    315\tOMC CARD, INC."
   ]
  },
  {
   "cell_type": "code",
   "execution_count": null,
   "metadata": {},
   "outputs": [],
   "source": [
    "4980\tSumitomo Mitsui Card Company Limited\n",
    "4708\tYES BANK, LTD.\n",
    "4297\tRAKUTEN KC CO., LTD.\n",
    "4537\tWELLS FARGO BANK, N.A.\n",
    "4205\tAEON CREDIT SERVICE CO., LTD.\n",
    "4534\tDC CARD CO., LTD.\n",
    "4541\tREDIT SAISON CO., LTD.\n",
    "4363\tUNITED COMMERCIAL BANK\n",
    "4649\tYAMAGIN CREDIT CO., LTD.\n",
    "4616\tU.S. BANK N.A. ND\n",
    "4986\tMITSUBISHI UFJ FINANCIAL GROUP, INC.\n",
    "4539\tOSTGIROT BANK AB\n",
    "4097\tCAJA AHORROS GERONA\",\n",
    "4924\tBANK OF AMERICA, N.A.\n",
    "4987\tYAMAGIN CREDIT CO., LTD.\n",
    "4162\tUNKOWN\n",
    "4721\tWELLS FARGO BANK IOWA, N.A.\n",
    "4538\tMITSUBISHI UFJ FINANCIAL GROUP, INC.\n",
    "4984\tBANCO DO BRASIL, S.A.\n",
    "4122\tUNITED BANK, LTD."
   ]
  },
  {
   "cell_type": "code",
   "execution_count": null,
   "metadata": {},
   "outputs": [],
   "source": []
  },
  {
   "cell_type": "code",
   "execution_count": null,
   "metadata": {},
   "outputs": [],
   "source": [
    "def sing_song():\n",
    "    print(\"මම ගීතය ගැන ගීතය ගැන ගීතය ගැන ගීතය ගැන\")\n",
    "    print(\"මම ගීතය ගැන ගීතය ගැන ගීතය ගැන ගීතය ගැන\")\n",
    "    print(\"මම ගීතය ගැන ගීතය ගැන ගීතය ගැන ගීතය ගැන\")\n",
    "    print(\"මම ගීතය ගැන ගීතය ගැන ගීතය ගැන ගීතය ගැන\")\n",
    "\n",
    "sing_song()\n",
    "\n",
    "\n"
   ]
  },
  {
   "cell_type": "code",
   "execution_count": 1,
   "metadata": {},
   "outputs": [
    {
     "name": "stdout",
     "output_type": "stream",
     "text": [
      "niwiya niya sada senehase sindu ranjana, renda,\n",
      "wala wena, nya hene renda, Liyuma niya dethi\n",
      "ranjana, ranjana, mage renda, senehase sada\n",
      "kaara wala Liyuma Adhariya kaara hene gee ranjana,\n",
      "niwiya mage Adhariya ranjana, Adhariya\n",
      "sada senehase niwiya sindu dethi wena, renda,\n",
      "wena, dethi niwiya renda, sindu sindu ran wena,\n",
      "nya athi athi pichchuwe mage Sandun dethi\n",
      "wena, senehase Sandun sada wala sindu pichchuwe gee\n",
      "wena, kaara wena, Adhariya wala\n"
     ]
    }
   ],
   "source": []
  },
  {
   "cell_type": "code",
   "execution_count": null,
   "metadata": {},
   "outputs": [],
   "source": []
  },
  {
   "cell_type": "code",
   "execution_count": null,
   "metadata": {},
   "outputs": [],
   "source": []
  },
  {
   "cell_type": "code",
   "execution_count": 1,
   "metadata": {
    "tags": []
   },
   "outputs": [
    {
     "name": "stdout",
     "output_type": "stream",
     "text": [
      "Collecting sweetviz\n",
      "  Downloading sweetviz-2.3.1-py3-none-any.whl.metadata (24 kB)\n",
      "Requirement already satisfied: pandas!=1.0.0,!=1.0.1,!=1.0.2,>=0.25.3 in /home/ec2-user/anaconda3/envs/python3/lib/python3.10/site-packages (from sweetviz) (2.2.1)\n",
      "Requirement already satisfied: numpy>=1.16.0 in /home/ec2-user/anaconda3/envs/python3/lib/python3.10/site-packages (from sweetviz) (1.22.4)\n",
      "Requirement already satisfied: matplotlib>=3.1.3 in /home/ec2-user/anaconda3/envs/python3/lib/python3.10/site-packages (from sweetviz) (3.8.3)\n",
      "Requirement already satisfied: tqdm>=4.43.0 in /home/ec2-user/anaconda3/envs/python3/lib/python3.10/site-packages (from sweetviz) (4.66.2)\n",
      "Requirement already satisfied: scipy>=1.3.2 in /home/ec2-user/anaconda3/envs/python3/lib/python3.10/site-packages (from sweetviz) (1.12.0)\n",
      "Requirement already satisfied: jinja2>=2.11.1 in /home/ec2-user/anaconda3/envs/python3/lib/python3.10/site-packages (from sweetviz) (3.1.3)\n",
      "Requirement already satisfied: importlib-resources>=1.2.0 in /home/ec2-user/anaconda3/envs/python3/lib/python3.10/site-packages (from sweetviz) (6.4.0)\n",
      "Requirement already satisfied: MarkupSafe>=2.0 in /home/ec2-user/anaconda3/envs/python3/lib/python3.10/site-packages (from jinja2>=2.11.1->sweetviz) (2.1.5)\n",
      "Requirement already satisfied: contourpy>=1.0.1 in /home/ec2-user/anaconda3/envs/python3/lib/python3.10/site-packages (from matplotlib>=3.1.3->sweetviz) (1.2.0)\n",
      "Requirement already satisfied: cycler>=0.10 in /home/ec2-user/anaconda3/envs/python3/lib/python3.10/site-packages (from matplotlib>=3.1.3->sweetviz) (0.12.1)\n",
      "Requirement already satisfied: fonttools>=4.22.0 in /home/ec2-user/anaconda3/envs/python3/lib/python3.10/site-packages (from matplotlib>=3.1.3->sweetviz) (4.50.0)\n",
      "Requirement already satisfied: kiwisolver>=1.3.1 in /home/ec2-user/anaconda3/envs/python3/lib/python3.10/site-packages (from matplotlib>=3.1.3->sweetviz) (1.4.5)\n",
      "Requirement already satisfied: packaging>=20.0 in /home/ec2-user/anaconda3/envs/python3/lib/python3.10/site-packages (from matplotlib>=3.1.3->sweetviz) (21.3)\n",
      "Requirement already satisfied: pillow>=8 in /home/ec2-user/anaconda3/envs/python3/lib/python3.10/site-packages (from matplotlib>=3.1.3->sweetviz) (10.2.0)\n",
      "Requirement already satisfied: pyparsing>=2.3.1 in /home/ec2-user/anaconda3/envs/python3/lib/python3.10/site-packages (from matplotlib>=3.1.3->sweetviz) (3.1.2)\n",
      "Requirement already satisfied: python-dateutil>=2.7 in /home/ec2-user/anaconda3/envs/python3/lib/python3.10/site-packages (from matplotlib>=3.1.3->sweetviz) (2.9.0)\n",
      "Requirement already satisfied: pytz>=2020.1 in /home/ec2-user/anaconda3/envs/python3/lib/python3.10/site-packages (from pandas!=1.0.0,!=1.0.1,!=1.0.2,>=0.25.3->sweetviz) (2024.1)\n",
      "Requirement already satisfied: tzdata>=2022.7 in /home/ec2-user/anaconda3/envs/python3/lib/python3.10/site-packages (from pandas!=1.0.0,!=1.0.1,!=1.0.2,>=0.25.3->sweetviz) (2024.1)\n",
      "Requirement already satisfied: six>=1.5 in /home/ec2-user/anaconda3/envs/python3/lib/python3.10/site-packages (from python-dateutil>=2.7->matplotlib>=3.1.3->sweetviz) (1.16.0)\n",
      "Downloading sweetviz-2.3.1-py3-none-any.whl (15.1 MB)\n",
      "\u001b[2K   \u001b[90m━━━━━━━━━━━━━━━━━━━━━━━━━━━━━━━━━━━━━━━━\u001b[0m \u001b[32m15.1/15.1 MB\u001b[0m \u001b[31m39.5 MB/s\u001b[0m eta \u001b[36m0:00:00\u001b[0m:00:01\u001b[0m00:01\u001b[0m\n",
      "\u001b[?25hInstalling collected packages: sweetviz\n",
      "Successfully installed sweetviz-2.3.1\n"
     ]
    }
   ],
   "source": [
    "!pip install sweetviz"
   ]
  },
  {
   "cell_type": "code",
   "execution_count": 4,
   "metadata": {
    "tags": []
   },
   "outputs": [],
   "source": [
    "import sweetviz as sv\n",
    "import pandas as pd"
   ]
  },
  {
   "cell_type": "code",
   "execution_count": 5,
   "metadata": {
    "tags": []
   },
   "outputs": [],
   "source": [
    "df = pd.read_csv('Req-1-VISA Japan Card Info.csv')"
   ]
  },
  {
   "cell_type": "code",
   "execution_count": 6,
   "metadata": {
    "tags": []
   },
   "outputs": [
    {
     "data": {
      "application/vnd.jupyter.widget-view+json": {
       "model_id": "6fcce9b20697438f9229118a62d6f81f",
       "version_major": 2,
       "version_minor": 0
      },
      "text/plain": [
       "                                             |          | [  0%]   00:00 -> (? left)"
      ]
     },
     "metadata": {},
     "output_type": "display_data"
    }
   ],
   "source": [
    "analyz = sv.analyze(df)"
   ]
  },
  {
   "cell_type": "code",
   "execution_count": 7,
   "metadata": {
    "tags": []
   },
   "outputs": [
    {
     "name": "stdout",
     "output_type": "stream",
     "text": [
      "Report VISA JAPAN CARD INFO Sweetviz analyz.html was generated! NOTEBOOK/COLAB USERS: the web browser MAY not pop up, regardless, the report IS saved in your notebook/colab files.\n"
     ]
    }
   ],
   "source": [
    "analyz.show_html('VISA JAPAN CARD INFO Sweetviz analyz.html')"
   ]
  },
  {
   "cell_type": "code",
   "execution_count": 8,
   "metadata": {
    "tags": []
   },
   "outputs": [
    {
     "data": {
      "application/vnd.jupyter.widget-view+json": {
       "model_id": "b163b153279b4462bf890762d102b661",
       "version_major": 2,
       "version_minor": 0
      },
      "text/plain": [
       "                                             |          | [  0%]   00:00 -> (? left)"
      ]
     },
     "metadata": {},
     "output_type": "display_data"
    },
    {
     "name": "stdout",
     "output_type": "stream",
     "text": [
      "Report VISA JAPAN cardholder_card_counts sweetviz analyz.html was generated! NOTEBOOK/COLAB USERS: the web browser MAY not pop up, regardless, the report IS saved in your notebook/colab files.\n"
     ]
    }
   ],
   "source": [
    "df = pd.read_csv('Req-2-cardholder_card_counts.csv')\n",
    "analyz = sv.analyze(df)\n",
    "analyz.show_html('VISA JAPAN cardholder_card_counts sweetviz analyz.html')"
   ]
  },
  {
   "cell_type": "code",
   "execution_count": null,
   "metadata": {},
   "outputs": [],
   "source": []
  },
  {
   "cell_type": "code",
   "execution_count": null,
   "metadata": {},
   "outputs": [],
   "source": []
  }
 ],
 "metadata": {
  "kaggle": {
   "accelerator": "none",
   "dataSources": [
    {
     "datasetId": 5323840,
     "sourceId": 8845412,
     "sourceType": "datasetVersion"
    },
    {
     "datasetId": 5325101,
     "sourceId": 8847216,
     "sourceType": "datasetVersion"
    }
   ],
   "dockerImageVersionId": 30732,
   "isGpuEnabled": false,
   "isInternetEnabled": true,
   "language": "python",
   "sourceType": "notebook"
  },
  "kernelspec": {
   "display_name": ".venv",
   "language": "python",
   "name": "python3"
  },
  "language_info": {
   "codemirror_mode": {
    "name": "ipython",
    "version": 3
   },
   "file_extension": ".py",
   "mimetype": "text/x-python",
   "name": "python",
   "nbconvert_exporter": "python",
   "pygments_lexer": "ipython3",
   "version": "3.12.1"
  }
 },
 "nbformat": 4,
 "nbformat_minor": 4
}
