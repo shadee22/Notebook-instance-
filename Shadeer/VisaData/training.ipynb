{
 "cells": [
  {
   "cell_type": "code",
   "execution_count": 6,
   "metadata": {},
   "outputs": [],
   "source": [
    "import pandas as pd\n",
    "import numpy as np\n",
    "import matplotlib.pyplot as plt\n",
    "import seaborn as sns\n",
    "from datetime import datetime\n",
    "from sklearn.cluster import KMeans\n"
   ]
  },
  {
   "cell_type": "code",
   "execution_count": 3,
   "metadata": {},
   "outputs": [],
   "source": [
    "pat = \"./DataSources/training.csv\"\n",
    "X = pd.read_csv(pat)\n",
    "X.drop(columns=[\"cluster\"], inplace=True)"
   ]
  },
  {
   "cell_type": "code",
   "execution_count": 4,
   "metadata": {},
   "outputs": [],
   "source": [
    "y_df = X"
   ]
  },
  {
   "cell_type": "markdown",
   "metadata": {},
   "source": [
    "# K-Means"
   ]
  },
  {
   "cell_type": "code",
   "execution_count": 7,
   "metadata": {},
   "outputs": [
    {
     "data": {
      "image/png": "[encoded data removed]",
      "text/plain": [
       "<Figure size 640x480 with 1 Axes>"
      ]
     },
     "metadata": {},
     "output_type": "display_data"
    }
   ],
   "source": [
    "inertia_values = []\n",
    "\n",
    "# Fit and plot the data for each k\n",
    "for k in range(1, 10):\n",
    "    kmeans = KMeans(n_clusters=k, init='k-means++', random_state=42)\n",
    "    kmeans.fit(X)\n",
    "    inertia_values.append(kmeans.inertia_)\n",
    "\n",
    "# Plotting the Elbow Method graph\n",
    "plt.plot(range(1, 10), inertia_values, marker='o')\n",
    "plt.title('Elbow Method')\n",
    "plt.xlabel('Number of clusters (k)')\n",
    "plt.ylabel('Inertia')\n",
    "plt.show()"
   ]
  },
  {
   "cell_type": "code",
   "execution_count": 8,
   "metadata": {},
   "outputs": [],
   "source": [
    "\n",
    "# Create KMeans instance\n",
    "kmeans = KMeans(n_clusters=3)\n",
    "\n",
    "# Fit the model to your data\n",
    "kmeans.fit(X)\n",
    "\n",
    "# Get cluster labels\n",
    "labels = kmeans.labels_\n",
    "y_df['k_means'] = labels\n"
   ]
  },
  {
   "cell_type": "code",
   "execution_count": 9,
   "metadata": {},
   "outputs": [
    {
     "data": {
      "text/html": [
       "<div>\n",
       "<style scoped>\n",
       "    .dataframe tbody tr th:only-of-type {\n",
       "        vertical-align: middle;\n",
       "    }\n",
       "\n",
       "    .dataframe tbody tr th {\n",
       "        vertical-align: top;\n",
       "    }\n",
       "\n",
       "    .dataframe thead th {\n",
       "        text-align: right;\n",
       "    }\n",
       "</style>\n",
       "<table border=\"1\" class=\"dataframe\">\n",
       "  <thead>\n",
       "    <tr style=\"text-align: right;\">\n",
       "      <th></th>\n",
       "      <th>recency</th>\n",
       "      <th>frequency</th>\n",
       "      <th>monetary</th>\n",
       "      <th>order_value_total</th>\n",
       "      <th>wallet_share_by_category</th>\n",
       "    </tr>\n",
       "    <tr>\n",
       "      <th>k_means</th>\n",
       "      <th></th>\n",
       "      <th></th>\n",
       "      <th></th>\n",
       "      <th></th>\n",
       "      <th></th>\n",
       "    </tr>\n",
       "  </thead>\n",
       "  <tbody>\n",
       "    <tr>\n",
       "      <th>0</th>\n",
       "      <td>202.167</td>\n",
       "      <td>7.989</td>\n",
       "      <td>967.272</td>\n",
       "      <td>940890.398</td>\n",
       "      <td>0.056</td>\n",
       "    </tr>\n",
       "    <tr>\n",
       "      <th>1</th>\n",
       "      <td>204.322</td>\n",
       "      <td>8.957</td>\n",
       "      <td>1129.151</td>\n",
       "      <td>949584.322</td>\n",
       "      <td>0.049</td>\n",
       "    </tr>\n",
       "    <tr>\n",
       "      <th>2</th>\n",
       "      <td>202.024</td>\n",
       "      <td>8.932</td>\n",
       "      <td>1075.441</td>\n",
       "      <td>978821.456</td>\n",
       "      <td>0.047</td>\n",
       "    </tr>\n",
       "  </tbody>\n",
       "</table>\n",
       "</div>"
      ],
      "text/plain": [
       "         recency  frequency  monetary  order_value_total  \\\n",
       "k_means                                                    \n",
       "0        202.167      7.989   967.272         940890.398   \n",
       "1        204.322      8.957  1129.151         949584.322   \n",
       "2        202.024      8.932  1075.441         978821.456   \n",
       "\n",
       "         wallet_share_by_category  \n",
       "k_means                            \n",
       "0                           0.056  \n",
       "1                           0.049  \n",
       "2                           0.047  "
      ]
     },
     "execution_count": 9,
     "metadata": {},
     "output_type": "execute_result"
    }
   ],
   "source": [
    "\n",
    "cluster_agg = X.groupby('k_means').agg({\n",
    "    'recency': 'mean',\n",
    "    'frequency': 'mean',\n",
    "    'monetary': 'mean',\n",
    "    'order_value_total': 'mean',\n",
    "    'wallet_share_by_category': 'mean'\n",
    "}).round(3)\n",
    "\n",
    "cluster_agg\n"
   ]
  },
  {
   "cell_type": "code",
   "execution_count": 13,
   "metadata": {},
   "outputs": [],
   "source": [
    "# save the cluster agg in to the  \n",
    "X.to_csv('./DataSources/Segmented/clustered_df_k_means.csv', index=False)"
   ]
  },
  {
   "cell_type": "code",
   "execution_count": 21,
   "metadata": {},
   "outputs": [],
   "source": [
    "from sklearn.cluster import AgglomerativeClustering\n",
    "\n",
    "# Create AgglomerativeClustering instance\n",
    "agg_clustering = AgglomerativeClustering(n_clusters=3)\n",
    "\n",
    "# Fit the model to your data\n",
    "agg_clustering.fit(X)\n",
    "\n",
    "# Get cluster labels\n",
    "labels = agg_clustering.labels_\n",
    "y_df['h_clusters'] = labels\n"
   ]
  },
  {
   "cell_type": "code",
   "execution_count": 22,
   "metadata": {},
   "outputs": [
    {
     "data": {
      "text/html": [
       "<div>\n",
       "<style scoped>\n",
       "    .dataframe tbody tr th:only-of-type {\n",
       "        vertical-align: middle;\n",
       "    }\n",
       "\n",
       "    .dataframe tbody tr th {\n",
       "        vertical-align: top;\n",
       "    }\n",
       "\n",
       "    .dataframe thead th {\n",
       "        text-align: right;\n",
       "    }\n",
       "</style>\n",
       "<table border=\"1\" class=\"dataframe\">\n",
       "  <thead>\n",
       "    <tr style=\"text-align: right;\">\n",
       "      <th></th>\n",
       "      <th>recency</th>\n",
       "      <th>frequency</th>\n",
       "      <th>monetary</th>\n",
       "      <th>order_value_total</th>\n",
       "      <th>wallet_share_by_category</th>\n",
       "    </tr>\n",
       "    <tr>\n",
       "      <th>h_clusters</th>\n",
       "      <th></th>\n",
       "      <th></th>\n",
       "      <th></th>\n",
       "      <th></th>\n",
       "      <th></th>\n",
       "    </tr>\n",
       "  </thead>\n",
       "  <tbody>\n",
       "    <tr>\n",
       "      <th>0</th>\n",
       "      <td>203.278</td>\n",
       "      <td>9.370</td>\n",
       "      <td>1145.061</td>\n",
       "      <td>948311.013</td>\n",
       "      <td>0.051</td>\n",
       "    </tr>\n",
       "    <tr>\n",
       "      <th>1</th>\n",
       "      <td>202.024</td>\n",
       "      <td>8.932</td>\n",
       "      <td>1075.441</td>\n",
       "      <td>978821.456</td>\n",
       "      <td>0.047</td>\n",
       "    </tr>\n",
       "    <tr>\n",
       "      <th>2</th>\n",
       "      <td>204.295</td>\n",
       "      <td>7.204</td>\n",
       "      <td>940.927</td>\n",
       "      <td>943677.826</td>\n",
       "      <td>0.051</td>\n",
       "    </tr>\n",
       "  </tbody>\n",
       "</table>\n",
       "</div>"
      ],
      "text/plain": [
       "            recency  frequency  monetary  order_value_total  \\\n",
       "h_clusters                                                    \n",
       "0           203.278      9.370  1145.061         948311.013   \n",
       "1           202.024      8.932  1075.441         978821.456   \n",
       "2           204.295      7.204   940.927         943677.826   \n",
       "\n",
       "            wallet_share_by_category  \n",
       "h_clusters                            \n",
       "0                              0.051  \n",
       "1                              0.047  \n",
       "2                              0.051  "
      ]
     },
     "execution_count": 22,
     "metadata": {},
     "output_type": "execute_result"
    }
   ],
   "source": [
    "\n",
    "cluster_agg = X.groupby('h_clusters').agg({\n",
    "    'recency': 'mean',\n",
    "    'frequency': 'mean',\n",
    "    'monetary': 'mean',\n",
    "    'order_value_total': 'mean',\n",
    "    'wallet_share_by_category': 'mean'\n",
    "}).round(3)\n",
    "\n",
    "cluster_agg\n"
   ]
  },
  {
   "cell_type": "code",
   "execution_count": 24,
   "metadata": {},
   "outputs": [],
   "source": [
    "from sklearn.cluster import MeanShift\n",
    "\n",
    "# Create MeanShift instance\n",
    "meanshift = MeanShift()\n",
    "\n",
    "# Fit the model to your data\n",
    "meanshift.fit(X)\n",
    "\n",
    "# Get cluster labels\n",
    "labels = meanshift.labels_\n",
    "y_df['m_clusters'] = labels"
   ]
  },
  {
   "cell_type": "code",
   "execution_count": 25,
   "metadata": {},
   "outputs": [
    {
     "data": {
      "text/html": [
       "<div>\n",
       "<style scoped>\n",
       "    .dataframe tbody tr th:only-of-type {\n",
       "        vertical-align: middle;\n",
       "    }\n",
       "\n",
       "    .dataframe tbody tr th {\n",
       "        vertical-align: top;\n",
       "    }\n",
       "\n",
       "    .dataframe thead th {\n",
       "        text-align: right;\n",
       "    }\n",
       "</style>\n",
       "<table border=\"1\" class=\"dataframe\">\n",
       "  <thead>\n",
       "    <tr style=\"text-align: right;\">\n",
       "      <th></th>\n",
       "      <th>recency</th>\n",
       "      <th>frequency</th>\n",
       "      <th>monetary</th>\n",
       "      <th>order_value_total</th>\n",
       "      <th>wallet_share_by_category</th>\n",
       "    </tr>\n",
       "    <tr>\n",
       "      <th>m_clusters</th>\n",
       "      <th></th>\n",
       "      <th></th>\n",
       "      <th></th>\n",
       "      <th></th>\n",
       "      <th></th>\n",
       "    </tr>\n",
       "  </thead>\n",
       "  <tbody>\n",
       "    <tr>\n",
       "      <th>0</th>\n",
       "      <td>203.620</td>\n",
       "      <td>8.642</td>\n",
       "      <td>1076.444</td>\n",
       "      <td>946753.634</td>\n",
       "      <td>0.051</td>\n",
       "    </tr>\n",
       "    <tr>\n",
       "      <th>1</th>\n",
       "      <td>202.024</td>\n",
       "      <td>8.932</td>\n",
       "      <td>1075.441</td>\n",
       "      <td>978821.456</td>\n",
       "      <td>0.047</td>\n",
       "    </tr>\n",
       "  </tbody>\n",
       "</table>\n",
       "</div>"
      ],
      "text/plain": [
       "            recency  frequency  monetary  order_value_total  \\\n",
       "m_clusters                                                    \n",
       "0           203.620      8.642  1076.444         946753.634   \n",
       "1           202.024      8.932  1075.441         978821.456   \n",
       "\n",
       "            wallet_share_by_category  \n",
       "m_clusters                            \n",
       "0                              0.051  \n",
       "1                              0.047  "
      ]
     },
     "execution_count": 25,
     "metadata": {},
     "output_type": "execute_result"
    }
   ],
   "source": [
    "\n",
    "cluster_agg = X.groupby('m_clusters').agg({\n",
    "    'recency': 'mean',\n",
    "    'frequency': 'mean',\n",
    "    'monetary': 'mean',\n",
    "    'order_value_total': 'mean',\n",
    "    'wallet_share_by_category': 'mean'\n",
    "}).round(3)\n",
    "\n",
    "cluster_agg\n"
   ]
  },
  {
   "cell_type": "code",
   "execution_count": null,
   "metadata": {},
   "outputs": [],
   "source": []
  }
 ],
 "metadata": {
  "kernelspec": {
   "display_name": ".venv",
   "language": "python",
   "name": "python3"
  },
  "language_info": {
   "codemirror_mode": {
    "name": "ipython",
    "version": 3
   },
   "file_extension": ".py",
   "mimetype": "text/x-python",
   "name": "python",
   "nbconvert_exporter": "python",
   "pygments_lexer": "ipython3",
   "version": "3.12.1"
  }
 },
 "nbformat": 4,
 "nbformat_minor": 2
}
