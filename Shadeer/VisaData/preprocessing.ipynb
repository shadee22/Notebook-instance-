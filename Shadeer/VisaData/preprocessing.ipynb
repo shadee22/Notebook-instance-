{
 "cells": [
  {
   "cell_type": "markdown",
   "metadata": {},
   "source": [
    "# Preprocessing\n",
    "- data to be used: with_wallet_share.csv\n",
    "- path = '/DataSources/with_wallet_share.csv'\n",
    "\n"
   ]
  },
  {
   "cell_type": "code",
   "execution_count": 1,
   "metadata": {},
   "outputs": [],
   "source": [
    "import pandas as pd\n",
    "import numpy as np\n",
    "import matplotlib.pyplot as plt\n",
    "import seaborn as sns\n",
    "from datetime import datetime, timedelta"
   ]
  },
  {
   "cell_type": "code",
   "execution_count": 84,
   "metadata": {},
   "outputs": [
    {
     "name": "stdout",
     "output_type": "stream",
     "text": [
      "Shape: ----------\n",
      "(10000, 11)\n",
      "Columns: ----------\n",
      "['transaction_id', 'uid', 'order_value', 'created_at', 'merchant_name', 'category', 'recency', 'frequency', 'monetary', 'order_value_total', 'wallet_share_by_category']\n",
      "Table: ----------\n"
     ]
    },
    {
     "data": {
      "text/html": [
       "<div>\n",
       "<style scoped>\n",
       "    .dataframe tbody tr th:only-of-type {\n",
       "        vertical-align: middle;\n",
       "    }\n",
       "\n",
       "    .dataframe tbody tr th {\n",
       "        vertical-align: top;\n",
       "    }\n",
       "\n",
       "    .dataframe thead th {\n",
       "        text-align: right;\n",
       "    }\n",
       "</style>\n",
       "<table border=\"1\" class=\"dataframe\">\n",
       "  <thead>\n",
       "    <tr style=\"text-align: right;\">\n",
       "      <th></th>\n",
       "      <th>transaction_id</th>\n",
       "      <th>uid</th>\n",
       "      <th>order_value</th>\n",
       "      <th>created_at</th>\n",
       "      <th>merchant_name</th>\n",
       "      <th>category</th>\n",
       "      <th>recency</th>\n",
       "      <th>frequency</th>\n",
       "      <th>monetary</th>\n",
       "      <th>order_value_total</th>\n",
       "      <th>wallet_share_by_category</th>\n",
       "    </tr>\n",
       "  </thead>\n",
       "  <tbody>\n",
       "    <tr>\n",
       "      <th>0</th>\n",
       "      <td>464050142633304</td>\n",
       "      <td>VOXLAT0006010732025283345</td>\n",
       "      <td>22.08</td>\n",
       "      <td>2024-02-19 03:57:48</td>\n",
       "      <td>MILKRUN New Zealand</td>\n",
       "      <td>Retailers</td>\n",
       "      <td>8</td>\n",
       "      <td>1</td>\n",
       "      <td>22.08</td>\n",
       "      <td>1164391.00</td>\n",
       "      <td>0.001896</td>\n",
       "    </tr>\n",
       "    <tr>\n",
       "      <th>1</th>\n",
       "      <td>304050138039532</td>\n",
       "      <td>VOXLAT0006010732026096480</td>\n",
       "      <td>36.99</td>\n",
       "      <td>2024-02-19 03:50:07</td>\n",
       "      <td>Cotton On New Zealand</td>\n",
       "      <td>Fashion &amp; Retail</td>\n",
       "      <td>8</td>\n",
       "      <td>1</td>\n",
       "      <td>36.99</td>\n",
       "      <td>261796.18</td>\n",
       "      <td>0.014129</td>\n",
       "    </tr>\n",
       "    <tr>\n",
       "      <th>2</th>\n",
       "      <td>384050128359200</td>\n",
       "      <td>VOXLAT0006010732026401300</td>\n",
       "      <td>180.44</td>\n",
       "      <td>2024-02-19 03:33:59</td>\n",
       "      <td>MILKRUN New Zealand</td>\n",
       "      <td>Retailers</td>\n",
       "      <td>8</td>\n",
       "      <td>1</td>\n",
       "      <td>180.44</td>\n",
       "      <td>1164391.00</td>\n",
       "      <td>0.015497</td>\n",
       "    </tr>\n",
       "    <tr>\n",
       "      <th>3</th>\n",
       "      <td>384050123292049</td>\n",
       "      <td>VOXLAT0006010732021856243</td>\n",
       "      <td>270.00</td>\n",
       "      <td>2024-02-19 03:25:33</td>\n",
       "      <td>Foot Locker New Zealand</td>\n",
       "      <td>Fashion &amp; Retail</td>\n",
       "      <td>8</td>\n",
       "      <td>3</td>\n",
       "      <td>611.13</td>\n",
       "      <td>261796.18</td>\n",
       "      <td>0.103134</td>\n",
       "    </tr>\n",
       "    <tr>\n",
       "      <th>4</th>\n",
       "      <td>584050056781674</td>\n",
       "      <td>VOXLAT0006010732020290139</td>\n",
       "      <td>105.95</td>\n",
       "      <td>2024-02-19 01:34:43</td>\n",
       "      <td>Sportsfuel New Zealand</td>\n",
       "      <td>Retailers</td>\n",
       "      <td>8</td>\n",
       "      <td>12</td>\n",
       "      <td>768.28</td>\n",
       "      <td>1164391.00</td>\n",
       "      <td>0.009099</td>\n",
       "    </tr>\n",
       "  </tbody>\n",
       "</table>\n",
       "</div>"
      ],
      "text/plain": [
       "    transaction_id                        uid  order_value  \\\n",
       "0  464050142633304  VOXLAT0006010732025283345        22.08   \n",
       "1  304050138039532  VOXLAT0006010732026096480        36.99   \n",
       "2  384050128359200  VOXLAT0006010732026401300       180.44   \n",
       "3  384050123292049  VOXLAT0006010732021856243       270.00   \n",
       "4  584050056781674  VOXLAT0006010732020290139       105.95   \n",
       "\n",
       "            created_at            merchant_name          category  recency  \\\n",
       "0  2024-02-19 03:57:48      MILKRUN New Zealand         Retailers        8   \n",
       "1  2024-02-19 03:50:07    Cotton On New Zealand  Fashion & Retail        8   \n",
       "2  2024-02-19 03:33:59      MILKRUN New Zealand         Retailers        8   \n",
       "3  2024-02-19 03:25:33  Foot Locker New Zealand  Fashion & Retail        8   \n",
       "4  2024-02-19 01:34:43   Sportsfuel New Zealand         Retailers        8   \n",
       "\n",
       "   frequency  monetary  order_value_total  wallet_share_by_category  \n",
       "0          1     22.08         1164391.00                  0.001896  \n",
       "1          1     36.99          261796.18                  0.014129  \n",
       "2          1    180.44         1164391.00                  0.015497  \n",
       "3          3    611.13          261796.18                  0.103134  \n",
       "4         12    768.28         1164391.00                  0.009099  "
      ]
     },
     "execution_count": 84,
     "metadata": {},
     "output_type": "execute_result"
    }
   ],
   "source": [
    "df_path = \"./DataSources/with_wallet_share.csv\"\n",
    "df = pd.read_csv(df_path)\n",
    "print(\"Shape:\", \"-\"*10)\n",
    "print(df.shape)\n",
    "print(\"Columns:\", \"-\"*10)\n",
    "print(df.columns.to_list())\n",
    "print(\"Table:\", \"-\"*10)\n",
    "df.head()\n"
   ]
  },
  {
   "cell_type": "markdown",
   "metadata": {},
   "source": [
    "# Initial Process to do"
   ]
  },
  {
   "cell_type": "code",
   "execution_count": 85,
   "metadata": {},
   "outputs": [],
   "source": [
    "# Drop rows where uid does not start with 'VOXLAT'\n",
    "df = df[df['uid'].str.startswith('VOXLAT')]\n",
    "\n",
    "# Changing uid to numerical\n",
    "df['uid_without_string'] = df['uid'].str.replace('VOXLAT', '')\n",
    "df['uid_without_string'].str.startswith(\"\").sum()\n",
    "\n",
    "# Extract relevant features from the timestamp\n",
    "df['hour_of_day'] = pd.to_datetime(df['created_at']).dt.hour\n",
    "df['day_of_week'] = pd.to_datetime(df['created_at']).dt.dayofweek\n",
    "df['month'] = pd.to_datetime(df['created_at']).dt.month\n",
    "\n",
    "\n",
    "c_nums = pd.Categorical(df['category']).codes\n",
    "df['category'] = c_nums\n",
    "\n",
    "category_mapping =pd.Categorical(df['category']).categories\n",
    "#output\n",
    "# ----------------------------------\n",
    "# ['Beauty', 'Fashion & Retail', 'Health and Wellness', 'Retailers',\n",
    "#        'Travel']\n",
    "\n",
    "# this will be used for after prediction process\n",
    "\n",
    "\n",
    "\n",
    "# dropping columns that are not needed \n",
    "df = df.drop(['merchant_name', 'uid','created_at'], axis=1)\n",
    "\n"
   ]
  },
  {
   "cell_type": "markdown",
   "metadata": {},
   "source": [
    "# Saving Training Dataset"
   ]
  },
  {
   "cell_type": "code",
   "execution_count": 125,
   "metadata": {},
   "outputs": [],
   "source": [
    "# df.to_csv(\"./DataSources/training.csv\", index=False)"
   ]
  },
  {
   "cell_type": "code",
   "execution_count": 87,
   "metadata": {},
   "outputs": [],
   "source": [
    "\n",
    "# from sklearn.cluster import KMeans\n",
    "\n",
    "# # Selecting relevant columns for clustering\n",
    "# X = df\n",
    "\n",
    "# # Initialize KMeans with 3 clusters\n",
    "# kmeans = KMeans(n_clusters=3, random_state=42)\n",
    "\n",
    "# # Fit the KMeans model\n",
    "# kmeans.fit(X)\n",
    "\n",
    "# # Add the cluster labels to the dataframe\n",
    "# df['cluster'] = kmeans.labels_\n",
    "\n"
   ]
  },
  {
   "cell_type": "code",
   "execution_count": 20,
   "metadata": {},
   "outputs": [
    {
     "data": {
      "text/plain": [
       "array(['transaction_id', 'recency', 'frequency', 'monetary',\n",
       "       'order_value_total', 'wallet_share_by_category'], dtype=object)"
      ]
     },
     "execution_count": 20,
     "metadata": {},
     "output_type": "execute_result"
    }
   ],
   "source": [
    "# kmeans.feature_names_in_"
   ]
  },
  {
   "cell_type": "code",
   "execution_count": 94,
   "metadata": {},
   "outputs": [],
   "source": [
    "# from sklearn.cluster import DBSCAN\n",
    "\n",
    "# # Initialize DBSCAN\n",
    "# dbscan = DBSCAN(eps=2, min_samples=5)\n",
    "\n",
    "# # Fit the model\n",
    "# dbscan.fit(X)\n",
    "\n",
    "# # Add the cluster labels to the dataframe\n",
    "# df['cluster'] = dbscan.labels_\n",
    "\n",
    "# np.unique(dbscan.labels_, return_counts=True)\n"
   ]
  },
  {
   "cell_type": "code",
   "execution_count": 124,
   "metadata": {},
   "outputs": [
    {
     "data": {
      "text/html": [
       "<div>\n",
       "<style scoped>\n",
       "    .dataframe tbody tr th:only-of-type {\n",
       "        vertical-align: middle;\n",
       "    }\n",
       "\n",
       "    .dataframe tbody tr th {\n",
       "        vertical-align: top;\n",
       "    }\n",
       "\n",
       "    .dataframe thead th {\n",
       "        text-align: right;\n",
       "    }\n",
       "</style>\n",
       "<table border=\"1\" class=\"dataframe\">\n",
       "  <thead>\n",
       "    <tr style=\"text-align: right;\">\n",
       "      <th></th>\n",
       "      <th>recency</th>\n",
       "      <th>frequency</th>\n",
       "      <th>monetary</th>\n",
       "      <th>order_value_total</th>\n",
       "      <th>wallet_share_by_category</th>\n",
       "    </tr>\n",
       "    <tr>\n",
       "      <th>cluster</th>\n",
       "      <th></th>\n",
       "      <th></th>\n",
       "      <th></th>\n",
       "      <th></th>\n",
       "      <th></th>\n",
       "    </tr>\n",
       "  </thead>\n",
       "  <tbody>\n",
       "    <tr>\n",
       "      <th>0</th>\n",
       "      <td>203.620</td>\n",
       "      <td>8.642</td>\n",
       "      <td>1076.444</td>\n",
       "      <td>946753.634</td>\n",
       "      <td>0.051</td>\n",
       "    </tr>\n",
       "    <tr>\n",
       "      <th>1</th>\n",
       "      <td>202.024</td>\n",
       "      <td>8.932</td>\n",
       "      <td>1075.441</td>\n",
       "      <td>978821.456</td>\n",
       "      <td>0.047</td>\n",
       "    </tr>\n",
       "  </tbody>\n",
       "</table>\n",
       "</div>"
      ],
      "text/plain": [
       "         recency  frequency  monetary  order_value_total  \\\n",
       "cluster                                                    \n",
       "0        203.620      8.642  1076.444         946753.634   \n",
       "1        202.024      8.932  1075.441         978821.456   \n",
       "\n",
       "         wallet_share_by_category  \n",
       "cluster                            \n",
       "0                           0.051  \n",
       "1                           0.047  "
      ]
     },
     "execution_count": 124,
     "metadata": {},
     "output_type": "execute_result"
    }
   ],
   "source": [
    "\n",
    "# cluster_agg = df.groupby('cluster').agg({\n",
    "#     'recency': 'mean',\n",
    "#     'frequency': 'mean',\n",
    "#     'monetary': 'mean',\n",
    "#     'order_value_total': 'mean',\n",
    "#     'wallet_share_by_category': 'mean'\n",
    "# }).round(3)\n",
    "\n",
    "# cluster_agg\n"
   ]
  },
  {
   "cell_type": "code",
   "execution_count": null,
   "metadata": {},
   "outputs": [],
   "source": [
    "\n",
    "\n"
   ]
  },
  {
   "cell_type": "code",
   "execution_count": null,
   "metadata": {},
   "outputs": [],
   "source": []
  },
  {
   "cell_type": "code",
   "execution_count": null,
   "metadata": {},
   "outputs": [],
   "source": []
  },
  {
   "cell_type": "code",
   "execution_count": null,
   "metadata": {},
   "outputs": [],
   "source": []
  },
  {
   "cell_type": "code",
   "execution_count": null,
   "metadata": {},
   "outputs": [],
   "source": []
  },
  {
   "cell_type": "code",
   "execution_count": null,
   "metadata": {},
   "outputs": [],
   "source": []
  }
 ],
 "metadata": {
  "kernelspec": {
   "display_name": ".venv",
   "language": "python",
   "name": "python3"
  },
  "language_info": {
   "codemirror_mode": {
    "name": "ipython",
    "version": 3
   },
   "file_extension": ".py",
   "mimetype": "text/x-python",
   "name": "python",
   "nbconvert_exporter": "python",
   "pygments_lexer": "ipython3",
   "version": "3.12.1"
  }
 },
 "nbformat": 4,
 "nbformat_minor": 2
}
