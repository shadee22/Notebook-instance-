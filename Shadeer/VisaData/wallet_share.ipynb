{
 "cells": [
  {
   "cell_type": "markdown",
   "metadata": {},
   "source": [
    "# Calculate Wallet Share \n",
    "- this will output a dataframe with wallet share by category for each customer\n"
   ]
  },
  {
   "cell_type": "code",
   "execution_count": 1,
   "metadata": {},
   "outputs": [],
   "source": [
    "import pandas as pd\n",
    "import numpy as np\n",
    "import matplotlib.pyplot as plt\n",
    "import seaborn as sns\n",
    "from datetime import datetime, timedelta"
   ]
  },
  {
   "cell_type": "code",
   "execution_count": 2,
   "metadata": {},
   "outputs": [
    {
     "data": {
      "text/plain": [
       "Index(['transaction_id', 'uid', 'order_value', 'created_at', 'merchant_name',\n",
       "       'category', 'recency', 'frequency', 'monetary'],\n",
       "      dtype='object')"
      ]
     },
     "execution_count": 2,
     "metadata": {},
     "output_type": "execute_result"
    }
   ],
   "source": [
    "df = pd.read_csv('./DataSources/df_rfm.csv')\n",
    "df.columns"
   ]
  },
  {
   "cell_type": "code",
   "execution_count": 3,
   "metadata": {},
   "outputs": [],
   "source": [
    "# Step 1: Calculate Total Spend by Customer on All Categories\n",
    "total_spend_by_customer = df.groupby('uid')['order_value'].sum().reset_index()"
   ]
  },
  {
   "cell_type": "code",
   "execution_count": 4,
   "metadata": {},
   "outputs": [],
   "source": [
    "# Step 2: Calculate Total Spend by All Customers on All Categories\n",
    "total_spend_all_customers = df['order_value'].sum()"
   ]
  },
  {
   "cell_type": "code",
   "execution_count": 5,
   "metadata": {},
   "outputs": [],
   "source": [
    "# Step 3: Calculate Wallet Share by Merchant for each customer\n",
    "# Note: Since the \"merchant\" is not specified for a specific calculation, we'll calculate a general wallet share for now.\n",
    "total_spend_by_customer['wallet_share'] = (total_spend_by_customer['order_value'] / total_spend_all_customers) * 100"
   ]
  },
  {
   "cell_type": "code",
   "execution_count": 6,
   "metadata": {},
   "outputs": [
    {
     "data": {
      "text/html": [
       "<div>\n",
       "<style scoped>\n",
       "    .dataframe tbody tr th:only-of-type {\n",
       "        vertical-align: middle;\n",
       "    }\n",
       "\n",
       "    .dataframe tbody tr th {\n",
       "        vertical-align: top;\n",
       "    }\n",
       "\n",
       "    .dataframe thead th {\n",
       "        text-align: right;\n",
       "    }\n",
       "</style>\n",
       "<table border=\"1\" class=\"dataframe\">\n",
       "  <thead>\n",
       "    <tr style=\"text-align: right;\">\n",
       "      <th></th>\n",
       "      <th>uid</th>\n",
       "      <th>order_value</th>\n",
       "      <th>wallet_share</th>\n",
       "    </tr>\n",
       "  </thead>\n",
       "  <tbody>\n",
       "    <tr>\n",
       "      <th>0</th>\n",
       "      <td>1897bfcf9c2bcab8462930b3d0d952f35cb6</td>\n",
       "      <td>317.00</td>\n",
       "      <td>0.019147</td>\n",
       "    </tr>\n",
       "    <tr>\n",
       "      <th>1</th>\n",
       "      <td>56cc9e626b422ecbe87247f6f0dffc289bce</td>\n",
       "      <td>94.08</td>\n",
       "      <td>0.005682</td>\n",
       "    </tr>\n",
       "    <tr>\n",
       "      <th>2</th>\n",
       "      <td>VOXLAT0006010732020002203</td>\n",
       "      <td>63.92</td>\n",
       "      <td>0.003861</td>\n",
       "    </tr>\n",
       "    <tr>\n",
       "      <th>3</th>\n",
       "      <td>VOXLAT0006010732020002641</td>\n",
       "      <td>290.00</td>\n",
       "      <td>0.017516</td>\n",
       "    </tr>\n",
       "    <tr>\n",
       "      <th>4</th>\n",
       "      <td>VOXLAT0006010732020003193</td>\n",
       "      <td>92.55</td>\n",
       "      <td>0.005590</td>\n",
       "    </tr>\n",
       "  </tbody>\n",
       "</table>\n",
       "</div>"
      ],
      "text/plain": [
       "                                    uid  order_value  wallet_share\n",
       "0  1897bfcf9c2bcab8462930b3d0d952f35cb6       317.00      0.019147\n",
       "1  56cc9e626b422ecbe87247f6f0dffc289bce        94.08      0.005682\n",
       "2             VOXLAT0006010732020002203        63.92      0.003861\n",
       "3             VOXLAT0006010732020002641       290.00      0.017516\n",
       "4             VOXLAT0006010732020003193        92.55      0.005590"
      ]
     },
     "execution_count": 6,
     "metadata": {},
     "output_type": "execute_result"
    }
   ],
   "source": [
    "total_spend_by_customer.head()"
   ]
  },
  {
   "cell_type": "code",
   "execution_count": 7,
   "metadata": {},
   "outputs": [
    {
     "data": {
      "text/html": [
       "<div>\n",
       "<style scoped>\n",
       "    .dataframe tbody tr th:only-of-type {\n",
       "        vertical-align: middle;\n",
       "    }\n",
       "\n",
       "    .dataframe tbody tr th {\n",
       "        vertical-align: top;\n",
       "    }\n",
       "\n",
       "    .dataframe thead th {\n",
       "        text-align: right;\n",
       "    }\n",
       "</style>\n",
       "<table border=\"1\" class=\"dataframe\">\n",
       "  <thead>\n",
       "    <tr style=\"text-align: right;\">\n",
       "      <th></th>\n",
       "      <th>uid</th>\n",
       "      <th>order_value</th>\n",
       "      <th>wallet_share</th>\n",
       "    </tr>\n",
       "  </thead>\n",
       "  <tbody>\n",
       "    <tr>\n",
       "      <th>0</th>\n",
       "      <td>1897bfcf9c2bcab8462930b3d0d952f35cb6</td>\n",
       "      <td>317.00</td>\n",
       "      <td>0.019147</td>\n",
       "    </tr>\n",
       "    <tr>\n",
       "      <th>1</th>\n",
       "      <td>56cc9e626b422ecbe87247f6f0dffc289bce</td>\n",
       "      <td>94.08</td>\n",
       "      <td>0.005682</td>\n",
       "    </tr>\n",
       "    <tr>\n",
       "      <th>2</th>\n",
       "      <td>VOXLAT0006010732020002203</td>\n",
       "      <td>63.92</td>\n",
       "      <td>0.003861</td>\n",
       "    </tr>\n",
       "    <tr>\n",
       "      <th>3</th>\n",
       "      <td>VOXLAT0006010732020002641</td>\n",
       "      <td>290.00</td>\n",
       "      <td>0.017516</td>\n",
       "    </tr>\n",
       "    <tr>\n",
       "      <th>4</th>\n",
       "      <td>VOXLAT0006010732020003193</td>\n",
       "      <td>92.55</td>\n",
       "      <td>0.005590</td>\n",
       "    </tr>\n",
       "    <tr>\n",
       "      <th>...</th>\n",
       "      <td>...</td>\n",
       "      <td>...</td>\n",
       "      <td>...</td>\n",
       "    </tr>\n",
       "    <tr>\n",
       "      <th>4463</th>\n",
       "      <td>VOXLAT0006010732026626773</td>\n",
       "      <td>138.51</td>\n",
       "      <td>0.008366</td>\n",
       "    </tr>\n",
       "    <tr>\n",
       "      <th>4464</th>\n",
       "      <td>VOXLAT0006010732026628894</td>\n",
       "      <td>24.99</td>\n",
       "      <td>0.001509</td>\n",
       "    </tr>\n",
       "    <tr>\n",
       "      <th>4465</th>\n",
       "      <td>VOXLAT0006010732026629546</td>\n",
       "      <td>127.42</td>\n",
       "      <td>0.007696</td>\n",
       "    </tr>\n",
       "    <tr>\n",
       "      <th>4466</th>\n",
       "      <td>VOXLAT0006010732026630502</td>\n",
       "      <td>926.48</td>\n",
       "      <td>0.055960</td>\n",
       "    </tr>\n",
       "    <tr>\n",
       "      <th>4467</th>\n",
       "      <td>VOXLAT0006010732026692833</td>\n",
       "      <td>117.16</td>\n",
       "      <td>0.007077</td>\n",
       "    </tr>\n",
       "  </tbody>\n",
       "</table>\n",
       "<p>4468 rows × 3 columns</p>\n",
       "</div>"
      ],
      "text/plain": [
       "                                       uid  order_value  wallet_share\n",
       "0     1897bfcf9c2bcab8462930b3d0d952f35cb6       317.00      0.019147\n",
       "1     56cc9e626b422ecbe87247f6f0dffc289bce        94.08      0.005682\n",
       "2                VOXLAT0006010732020002203        63.92      0.003861\n",
       "3                VOXLAT0006010732020002641       290.00      0.017516\n",
       "4                VOXLAT0006010732020003193        92.55      0.005590\n",
       "...                                    ...          ...           ...\n",
       "4463             VOXLAT0006010732026626773       138.51      0.008366\n",
       "4464             VOXLAT0006010732026628894        24.99      0.001509\n",
       "4465             VOXLAT0006010732026629546       127.42      0.007696\n",
       "4466             VOXLAT0006010732026630502       926.48      0.055960\n",
       "4467             VOXLAT0006010732026692833       117.16      0.007077\n",
       "\n",
       "[4468 rows x 3 columns]"
      ]
     },
     "execution_count": 7,
     "metadata": {},
     "output_type": "execute_result"
    }
   ],
   "source": [
    "total_spend_by_customer\n",
    "# TODO Remove the unique ness in this and add recency for all customers"
   ]
  },
  {
   "cell_type": "markdown",
   "metadata": {},
   "source": [
    "Wallet Share calculation by Category"
   ]
  },
  {
   "cell_type": "markdown",
   "metadata": {},
   "source": []
  },
  {
   "cell_type": "code",
   "execution_count": 9,
   "metadata": {},
   "outputs": [
    {
     "data": {
      "text/html": [
       "<div>\n",
       "<style scoped>\n",
       "    .dataframe tbody tr th:only-of-type {\n",
       "        vertical-align: middle;\n",
       "    }\n",
       "\n",
       "    .dataframe tbody tr th {\n",
       "        vertical-align: top;\n",
       "    }\n",
       "\n",
       "    .dataframe thead th {\n",
       "        text-align: right;\n",
       "    }\n",
       "</style>\n",
       "<table border=\"1\" class=\"dataframe\">\n",
       "  <thead>\n",
       "    <tr style=\"text-align: right;\">\n",
       "      <th></th>\n",
       "      <th>uid</th>\n",
       "      <th>category</th>\n",
       "      <th>order_value_customer</th>\n",
       "      <th>order_value_total</th>\n",
       "      <th>wallet_share_by_category</th>\n",
       "    </tr>\n",
       "  </thead>\n",
       "  <tbody>\n",
       "    <tr>\n",
       "      <th>0</th>\n",
       "      <td>1897bfcf9c2bcab8462930b3d0d952f35cb6</td>\n",
       "      <td>Miscellaneous</td>\n",
       "      <td>317.00</td>\n",
       "      <td>317.00</td>\n",
       "      <td>100.000000</td>\n",
       "    </tr>\n",
       "    <tr>\n",
       "      <th>1</th>\n",
       "      <td>56cc9e626b422ecbe87247f6f0dffc289bce</td>\n",
       "      <td>Marketplace</td>\n",
       "      <td>94.08</td>\n",
       "      <td>94.08</td>\n",
       "      <td>100.000000</td>\n",
       "    </tr>\n",
       "    <tr>\n",
       "      <th>2</th>\n",
       "      <td>VOXLAT0006010732020002203</td>\n",
       "      <td>Retailers</td>\n",
       "      <td>63.92</td>\n",
       "      <td>1164391.00</td>\n",
       "      <td>0.005490</td>\n",
       "    </tr>\n",
       "    <tr>\n",
       "      <th>3</th>\n",
       "      <td>VOXLAT0006010732020002641</td>\n",
       "      <td>Fashion &amp; Retail</td>\n",
       "      <td>290.00</td>\n",
       "      <td>261796.18</td>\n",
       "      <td>0.110773</td>\n",
       "    </tr>\n",
       "    <tr>\n",
       "      <th>4</th>\n",
       "      <td>VOXLAT0006010732020003193</td>\n",
       "      <td>Retailers</td>\n",
       "      <td>92.55</td>\n",
       "      <td>1164391.00</td>\n",
       "      <td>0.007948</td>\n",
       "    </tr>\n",
       "  </tbody>\n",
       "</table>\n",
       "</div>"
      ],
      "text/plain": [
       "                                    uid          category  \\\n",
       "0  1897bfcf9c2bcab8462930b3d0d952f35cb6     Miscellaneous   \n",
       "1  56cc9e626b422ecbe87247f6f0dffc289bce       Marketplace   \n",
       "2             VOXLAT0006010732020002203         Retailers   \n",
       "3             VOXLAT0006010732020002641  Fashion & Retail   \n",
       "4             VOXLAT0006010732020003193         Retailers   \n",
       "\n",
       "   order_value_customer  order_value_total  wallet_share_by_category  \n",
       "0                317.00             317.00                100.000000  \n",
       "1                 94.08              94.08                100.000000  \n",
       "2                 63.92         1164391.00                  0.005490  \n",
       "3                290.00          261796.18                  0.110773  \n",
       "4                 92.55         1164391.00                  0.007948  "
      ]
     },
     "execution_count": 9,
     "metadata": {},
     "output_type": "execute_result"
    }
   ],
   "source": [
    "total_spend_by_category = df.groupby('category')['order_value'].sum().reset_index()\n",
    "spend_by_customer_in_category = df.groupby(['uid', 'category'])['order_value'].sum().reset_index()\n",
    "\n",
    "# Step 3: Merging the data for wallet share calculation\n",
    "spend_by_customer_in_category = pd.merge(spend_by_customer_in_category, total_spend_by_category, on='category', suffixes=('_customer', '_total'))\n",
    "\n",
    "# Step 4: Calculate Wallet Share by Category for Each Customer\n",
    "spend_by_customer_in_category['wallet_share_by_category'] = (spend_by_customer_in_category['order_value_customer'] / spend_by_customer_in_category['order_value_total']) * 100\n",
    "\n",
    "# Trying to display the results again\n",
    "spend_by_customer_in_category.head()"
   ]
  },
  {
   "cell_type": "markdown",
   "metadata": {},
   "source": [
    "## Validating dataframe"
   ]
  },
  {
   "cell_type": "code",
   "execution_count": 10,
   "metadata": {},
   "outputs": [
    {
     "data": {
      "text/html": [
       "<div>\n",
       "<style scoped>\n",
       "    .dataframe tbody tr th:only-of-type {\n",
       "        vertical-align: middle;\n",
       "    }\n",
       "\n",
       "    .dataframe tbody tr th {\n",
       "        vertical-align: top;\n",
       "    }\n",
       "\n",
       "    .dataframe thead th {\n",
       "        text-align: right;\n",
       "    }\n",
       "</style>\n",
       "<table border=\"1\" class=\"dataframe\">\n",
       "  <thead>\n",
       "    <tr style=\"text-align: right;\">\n",
       "      <th></th>\n",
       "      <th>transaction_id</th>\n",
       "      <th>uid</th>\n",
       "      <th>order_value</th>\n",
       "      <th>created_at</th>\n",
       "      <th>merchant_name</th>\n",
       "      <th>category</th>\n",
       "      <th>recency</th>\n",
       "      <th>frequency</th>\n",
       "      <th>monetary</th>\n",
       "    </tr>\n",
       "  </thead>\n",
       "  <tbody>\n",
       "    <tr>\n",
       "      <th>828</th>\n",
       "      <td>303357338091875</td>\n",
       "      <td>1897bfcf9c2bcab8462930b3d0d952f35cb6</td>\n",
       "      <td>317.0</td>\n",
       "      <td>2023-12-23 09:23:32</td>\n",
       "      <td>Deliveroo Hong Kong</td>\n",
       "      <td>Miscellaneous</td>\n",
       "      <td>66</td>\n",
       "      <td>1</td>\n",
       "      <td>317.0</td>\n",
       "    </tr>\n",
       "  </tbody>\n",
       "</table>\n",
       "</div>"
      ],
      "text/plain": [
       "      transaction_id                                   uid  order_value  \\\n",
       "828  303357338091875  1897bfcf9c2bcab8462930b3d0d952f35cb6        317.0   \n",
       "\n",
       "              created_at        merchant_name       category  recency  \\\n",
       "828  2023-12-23 09:23:32  Deliveroo Hong Kong  Miscellaneous       66   \n",
       "\n",
       "     frequency  monetary  \n",
       "828          1     317.0  "
      ]
     },
     "execution_count": 10,
     "metadata": {},
     "output_type": "execute_result"
    }
   ],
   "source": [
    "df[df.category == 'Miscellaneous']\n"
   ]
  },
  {
   "cell_type": "code",
   "execution_count": 11,
   "metadata": {},
   "outputs": [
    {
     "data": {
      "text/html": [
       "<div>\n",
       "<style scoped>\n",
       "    .dataframe tbody tr th:only-of-type {\n",
       "        vertical-align: middle;\n",
       "    }\n",
       "\n",
       "    .dataframe tbody tr th {\n",
       "        vertical-align: top;\n",
       "    }\n",
       "\n",
       "    .dataframe thead th {\n",
       "        text-align: right;\n",
       "    }\n",
       "</style>\n",
       "<table border=\"1\" class=\"dataframe\">\n",
       "  <thead>\n",
       "    <tr style=\"text-align: right;\">\n",
       "      <th></th>\n",
       "      <th>transaction_id</th>\n",
       "      <th>uid</th>\n",
       "      <th>order_value</th>\n",
       "      <th>created_at</th>\n",
       "      <th>merchant_name</th>\n",
       "      <th>category</th>\n",
       "      <th>recency</th>\n",
       "      <th>frequency</th>\n",
       "      <th>monetary</th>\n",
       "    </tr>\n",
       "  </thead>\n",
       "  <tbody>\n",
       "    <tr>\n",
       "      <th>9598</th>\n",
       "      <td>383082084983572</td>\n",
       "      <td>56cc9e626b422ecbe87247f6f0dffc289bce</td>\n",
       "      <td>59.09</td>\n",
       "      <td>2023-03-23 02:21:41</td>\n",
       "      <td>Amazon Singapore INTERNAL</td>\n",
       "      <td>Marketplace</td>\n",
       "      <td>341</td>\n",
       "      <td>2</td>\n",
       "      <td>94.08</td>\n",
       "    </tr>\n",
       "    <tr>\n",
       "      <th>9779</th>\n",
       "      <td>583077310840333</td>\n",
       "      <td>56cc9e626b422ecbe87247f6f0dffc289bce</td>\n",
       "      <td>34.99</td>\n",
       "      <td>2023-03-18 08:38:08</td>\n",
       "      <td>Amazon Singapore INTERNAL</td>\n",
       "      <td>Marketplace</td>\n",
       "      <td>346</td>\n",
       "      <td>2</td>\n",
       "      <td>94.08</td>\n",
       "    </tr>\n",
       "  </tbody>\n",
       "</table>\n",
       "</div>"
      ],
      "text/plain": [
       "       transaction_id                                   uid  order_value  \\\n",
       "9598  383082084983572  56cc9e626b422ecbe87247f6f0dffc289bce        59.09   \n",
       "9779  583077310840333  56cc9e626b422ecbe87247f6f0dffc289bce        34.99   \n",
       "\n",
       "               created_at              merchant_name     category  recency  \\\n",
       "9598  2023-03-23 02:21:41  Amazon Singapore INTERNAL  Marketplace      341   \n",
       "9779  2023-03-18 08:38:08  Amazon Singapore INTERNAL  Marketplace      346   \n",
       "\n",
       "      frequency  monetary  \n",
       "9598          2     94.08  \n",
       "9779          2     94.08  "
      ]
     },
     "execution_count": 11,
     "metadata": {},
     "output_type": "execute_result"
    }
   ],
   "source": [
    "\n",
    "df[df.category == 'Marketplace']"
   ]
  },
  {
   "cell_type": "code",
   "execution_count": 12,
   "metadata": {},
   "outputs": [
    {
     "data": {
      "text/html": [
       "<div>\n",
       "<style scoped>\n",
       "    .dataframe tbody tr th:only-of-type {\n",
       "        vertical-align: middle;\n",
       "    }\n",
       "\n",
       "    .dataframe tbody tr th {\n",
       "        vertical-align: top;\n",
       "    }\n",
       "\n",
       "    .dataframe thead th {\n",
       "        text-align: right;\n",
       "    }\n",
       "</style>\n",
       "<table border=\"1\" class=\"dataframe\">\n",
       "  <thead>\n",
       "    <tr style=\"text-align: right;\">\n",
       "      <th></th>\n",
       "      <th>uid</th>\n",
       "      <th>category</th>\n",
       "      <th>order_value_customer</th>\n",
       "      <th>order_value_total</th>\n",
       "      <th>wallet_share_by_category</th>\n",
       "    </tr>\n",
       "  </thead>\n",
       "  <tbody>\n",
       "    <tr>\n",
       "      <th>3779</th>\n",
       "      <td>VOXLAT0006010732026109416</td>\n",
       "      <td>Fashion &amp; Retail</td>\n",
       "      <td>71.99</td>\n",
       "      <td>261796.18</td>\n",
       "      <td>0.027498</td>\n",
       "    </tr>\n",
       "    <tr>\n",
       "      <th>3780</th>\n",
       "      <td>VOXLAT0006010732026109416</td>\n",
       "      <td>Health and Wellness</td>\n",
       "      <td>80.00</td>\n",
       "      <td>4946.46</td>\n",
       "      <td>1.617318</td>\n",
       "    </tr>\n",
       "    <tr>\n",
       "      <th>3781</th>\n",
       "      <td>VOXLAT0006010732026109416</td>\n",
       "      <td>Retailers</td>\n",
       "      <td>185.87</td>\n",
       "      <td>1164391.00</td>\n",
       "      <td>0.015963</td>\n",
       "    </tr>\n",
       "  </tbody>\n",
       "</table>\n",
       "</div>"
      ],
      "text/plain": [
       "                            uid             category  order_value_customer  \\\n",
       "3779  VOXLAT0006010732026109416     Fashion & Retail                 71.99   \n",
       "3780  VOXLAT0006010732026109416  Health and Wellness                 80.00   \n",
       "3781  VOXLAT0006010732026109416            Retailers                185.87   \n",
       "\n",
       "      order_value_total  wallet_share_by_category  \n",
       "3779          261796.18                  0.027498  \n",
       "3780            4946.46                  1.617318  \n",
       "3781         1164391.00                  0.015963  "
      ]
     },
     "execution_count": 12,
     "metadata": {},
     "output_type": "execute_result"
    }
   ],
   "source": [
    "spend_by_customer_in_category[spend_by_customer_in_category.uid == \"VOXLAT0006010732026109416\" ]"
   ]
  },
  {
   "cell_type": "code",
   "execution_count": 13,
   "metadata": {},
   "outputs": [
    {
     "data": {
      "text/plain": [
       "4946.46"
      ]
     },
     "execution_count": 13,
     "metadata": {},
     "output_type": "execute_result"
    }
   ],
   "source": [
    "spend_by_customer_in_category[spend_by_customer_in_category.category == \"Health and Wellness\"].order_value_customer.sum()"
   ]
  },
  {
   "cell_type": "code",
   "execution_count": 14,
   "metadata": {},
   "outputs": [
    {
     "data": {
      "text/plain": [
       "1.6173182437541191"
      ]
     },
     "execution_count": 14,
     "metadata": {},
     "output_type": "execute_result"
    }
   ],
   "source": [
    "(80.00 /4946.46) * 100"
   ]
  },
  {
   "cell_type": "markdown",
   "metadata": {},
   "source": [
    "creating a dataframe for wallet share by category for each transaction"
   ]
  },
  {
   "cell_type": "markdown",
   "metadata": {},
   "source": [
    "# wallet share by category"
   ]
  },
  {
   "cell_type": "code",
   "execution_count": null,
   "metadata": {},
   "outputs": [],
   "source": [
    "# Calculate Total Spend by Category\n",
    "total_spend_by_category = df.groupby('category')['order_value'].sum().reset_index()\n",
    "\n",
    "# Join this total spend by category back to the original transactions dataframe\n",
    "df_with_total_spend = pd.merge(df, total_spend_by_category, on='category', suffixes=('', '_total'))\n",
    "\n",
    "# Calculate Wallet Share directly in the dataframe\n",
    "df_with_total_spend['wallet_share_by_category'] = (df_with_total_spend['order_value'] / df_with_total_spend['order_value_total']) * 100\n",
    "\n",
    "# Now, df_with_total_spend contains each transaction, with an additional column for the wallet share by category\n"
   ]
  },
  {
   "cell_type": "code",
   "execution_count": 39,
   "metadata": {},
   "outputs": [],
   "source": [
    "# Store the results\n",
    "df_with_total_spend.to_csv('./DataSources/with_wallet_share.csv', index=False)"
   ]
  },
  {
   "cell_type": "code",
   "execution_count": null,
   "metadata": {},
   "outputs": [],
   "source": []
  },
  {
   "cell_type": "code",
   "execution_count": null,
   "metadata": {},
   "outputs": [],
   "source": []
  }
 ],
 "metadata": {
  "kernelspec": {
   "display_name": ".venv",
   "language": "python",
   "name": "python3"
  },
  "language_info": {
   "codemirror_mode": {
    "name": "ipython",
    "version": 3
   },
   "file_extension": ".py",
   "mimetype": "text/x-python",
   "name": "python",
   "nbconvert_exporter": "python",
   "pygments_lexer": "ipython3",
   "version": "3.12.1"
  }
 },
 "nbformat": 4,
 "nbformat_minor": 2
}
