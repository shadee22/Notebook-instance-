{
 "cells": [
  {
   "cell_type": "code",
   "execution_count": null,
   "metadata": {},
   "outputs": [],
   "source": []
  },
  {
   "cell_type": "code",
   "execution_count": 36,
   "metadata": {},
   "outputs": [],
   "source": [
    "import pandas as pd\n",
    "import numpy as np\n",
    "import matplotlib.pyplot as plt\n",
    "import seaborn as sns\n"
   ]
  },
  {
   "cell_type": "code",
   "execution_count": 9,
   "metadata": {},
   "outputs": [],
   "source": [
    "path = \"./DataSources/VISA_transaction_summary - visa_new.csv\"\n",
    "df = pd.read_csv(path)\n",
    "\n"
   ]
  },
  {
   "cell_type": "code",
   "execution_count": 10,
   "metadata": {},
   "outputs": [
    {
     "data": {
      "text/html": [
       "<div>\n",
       "<style scoped>\n",
       "    .dataframe tbody tr th:only-of-type {\n",
       "        vertical-align: middle;\n",
       "    }\n",
       "\n",
       "    .dataframe tbody tr th {\n",
       "        vertical-align: top;\n",
       "    }\n",
       "\n",
       "    .dataframe thead th {\n",
       "        text-align: right;\n",
       "    }\n",
       "</style>\n",
       "<table border=\"1\" class=\"dataframe\">\n",
       "  <thead>\n",
       "    <tr style=\"text-align: right;\">\n",
       "      <th></th>\n",
       "      <th>transaction_id</th>\n",
       "      <th>external_user_id</th>\n",
       "      <th>transaction_amount</th>\n",
       "      <th>created_at</th>\n",
       "      <th>name</th>\n",
       "      <th>category</th>\n",
       "    </tr>\n",
       "  </thead>\n",
       "  <tbody>\n",
       "    <tr>\n",
       "      <th>0</th>\n",
       "      <td>464050142633304</td>\n",
       "      <td>VOXLAT0006010732025283345</td>\n",
       "      <td>22.08</td>\n",
       "      <td>2024-02-19 3:57:48</td>\n",
       "      <td>MILKRUN New Zealand</td>\n",
       "      <td>Retailers</td>\n",
       "    </tr>\n",
       "    <tr>\n",
       "      <th>1</th>\n",
       "      <td>304050138039532</td>\n",
       "      <td>VOXLAT0006010732026096480</td>\n",
       "      <td>36.99</td>\n",
       "      <td>2024-02-19 3:50:07</td>\n",
       "      <td>Cotton On New Zealand</td>\n",
       "      <td>Fashion &amp; Retail</td>\n",
       "    </tr>\n",
       "    <tr>\n",
       "      <th>2</th>\n",
       "      <td>384050128359200</td>\n",
       "      <td>VOXLAT0006010732026401300</td>\n",
       "      <td>180.44</td>\n",
       "      <td>2024-02-19 3:33:59</td>\n",
       "      <td>MILKRUN New Zealand</td>\n",
       "      <td>Retailers</td>\n",
       "    </tr>\n",
       "    <tr>\n",
       "      <th>3</th>\n",
       "      <td>384050123292049</td>\n",
       "      <td>VOXLAT0006010732021856243</td>\n",
       "      <td>270.00</td>\n",
       "      <td>2024-02-19 3:25:33</td>\n",
       "      <td>Foot Locker New Zealand</td>\n",
       "      <td>Fashion &amp; Retail</td>\n",
       "    </tr>\n",
       "    <tr>\n",
       "      <th>4</th>\n",
       "      <td>584050056781674</td>\n",
       "      <td>VOXLAT0006010732020290139</td>\n",
       "      <td>105.95</td>\n",
       "      <td>2024-02-19 1:34:43</td>\n",
       "      <td>Sportsfuel New Zealand</td>\n",
       "      <td>Retailers</td>\n",
       "    </tr>\n",
       "    <tr>\n",
       "      <th>...</th>\n",
       "      <td>...</td>\n",
       "      <td>...</td>\n",
       "      <td>...</td>\n",
       "      <td>...</td>\n",
       "      <td>...</td>\n",
       "      <td>...</td>\n",
       "    </tr>\n",
       "    <tr>\n",
       "      <th>9995</th>\n",
       "      <td>583072224012725</td>\n",
       "      <td>VOXLAT0006010732024789201</td>\n",
       "      <td>200.00</td>\n",
       "      <td>2023-03-13 6:13:27</td>\n",
       "      <td>Foot Locker New Zealand</td>\n",
       "      <td>Fashion &amp; Retail</td>\n",
       "    </tr>\n",
       "    <tr>\n",
       "      <th>9996</th>\n",
       "      <td>383072140617909</td>\n",
       "      <td>VOXLAT0006010732021659027</td>\n",
       "      <td>25.10</td>\n",
       "      <td>2023-03-13 3:54:30</td>\n",
       "      <td>Menulog NZ</td>\n",
       "      <td>Retailers</td>\n",
       "    </tr>\n",
       "    <tr>\n",
       "      <th>9997</th>\n",
       "      <td>463072111137846</td>\n",
       "      <td>VOXLAT0006010732021914109</td>\n",
       "      <td>91.98</td>\n",
       "      <td>2023-03-13 3:05:24</td>\n",
       "      <td>Menulog NZ</td>\n",
       "      <td>Retailers</td>\n",
       "    </tr>\n",
       "    <tr>\n",
       "      <th>9998</th>\n",
       "      <td>463072068007932</td>\n",
       "      <td>VOXLAT0006010732021426575</td>\n",
       "      <td>49.99</td>\n",
       "      <td>2023-03-13 1:53:26</td>\n",
       "      <td>Laithwaites New Zealand</td>\n",
       "      <td>Retailers</td>\n",
       "    </tr>\n",
       "    <tr>\n",
       "      <th>9999</th>\n",
       "      <td>303072051368000</td>\n",
       "      <td>VOXLAT0006010732024303979</td>\n",
       "      <td>114.99</td>\n",
       "      <td>2023-03-13 1:25:41</td>\n",
       "      <td>HelloFresh New Zealand</td>\n",
       "      <td>Retailers</td>\n",
       "    </tr>\n",
       "  </tbody>\n",
       "</table>\n",
       "<p>10000 rows × 6 columns</p>\n",
       "</div>"
      ],
      "text/plain": [
       "       transaction_id           external_user_id  transaction_amount  \\\n",
       "0     464050142633304  VOXLAT0006010732025283345               22.08   \n",
       "1     304050138039532  VOXLAT0006010732026096480               36.99   \n",
       "2     384050128359200  VOXLAT0006010732026401300              180.44   \n",
       "3     384050123292049  VOXLAT0006010732021856243              270.00   \n",
       "4     584050056781674  VOXLAT0006010732020290139              105.95   \n",
       "...               ...                        ...                 ...   \n",
       "9995  583072224012725  VOXLAT0006010732024789201              200.00   \n",
       "9996  383072140617909  VOXLAT0006010732021659027               25.10   \n",
       "9997  463072111137846  VOXLAT0006010732021914109               91.98   \n",
       "9998  463072068007932  VOXLAT0006010732021426575               49.99   \n",
       "9999  303072051368000  VOXLAT0006010732024303979              114.99   \n",
       "\n",
       "              created_at                     name          category  \n",
       "0     2024-02-19 3:57:48      MILKRUN New Zealand         Retailers  \n",
       "1     2024-02-19 3:50:07    Cotton On New Zealand  Fashion & Retail  \n",
       "2     2024-02-19 3:33:59      MILKRUN New Zealand         Retailers  \n",
       "3     2024-02-19 3:25:33  Foot Locker New Zealand  Fashion & Retail  \n",
       "4     2024-02-19 1:34:43   Sportsfuel New Zealand         Retailers  \n",
       "...                  ...                      ...               ...  \n",
       "9995  2023-03-13 6:13:27  Foot Locker New Zealand  Fashion & Retail  \n",
       "9996  2023-03-13 3:54:30               Menulog NZ         Retailers  \n",
       "9997  2023-03-13 3:05:24               Menulog NZ         Retailers  \n",
       "9998  2023-03-13 1:53:26  Laithwaites New Zealand         Retailers  \n",
       "9999  2023-03-13 1:25:41   HelloFresh New Zealand         Retailers  \n",
       "\n",
       "[10000 rows x 6 columns]"
      ]
     },
     "execution_count": 10,
     "metadata": {},
     "output_type": "execute_result"
    }
   ],
   "source": [
    "df"
   ]
  },
  {
   "cell_type": "code",
   "execution_count": 25,
   "metadata": {},
   "outputs": [
    {
     "name": "stdout",
     "output_type": "stream",
     "text": [
      "2023-03-13 2024-02-19\n"
     ]
    },
    {
     "data": {
      "text/plain": [
       "' 11 Months data '"
      ]
     },
     "execution_count": 25,
     "metadata": {},
     "output_type": "execute_result"
    }
   ],
   "source": [
    "df['created_at'] = pd.to_datetime(df['created_at'])\n",
    "first_day = df['created_at'].min().strftime('%Y-%m-%d')\n",
    "last_day = df['created_at'].max().strftime('%Y-%m-%d')\n",
    "\n",
    "print(first_day, last_day )\n",
    "\"\"\" 11 Months data \"\"\""
   ]
  },
  {
   "cell_type": "code",
   "execution_count": 26,
   "metadata": {},
   "outputs": [
    {
     "data": {
      "text/plain": [
       "Index(['transaction_id', 'external_user_id', 'transaction_amount',\n",
       "       'created_at', 'name', 'category'],\n",
       "      dtype='object')"
      ]
     },
     "execution_count": 26,
     "metadata": {},
     "output_type": "execute_result"
    }
   ],
   "source": [
    "df.columns"
   ]
  },
  {
   "cell_type": "markdown",
   "metadata": {},
   "source": [
    "### Unique Categories"
   ]
  },
  {
   "cell_type": "code",
   "execution_count": 27,
   "metadata": {},
   "outputs": [
    {
     "data": {
      "text/plain": [
       "array(['Retailers', 'Fashion & Retail', 'Travel', 'Beauty',\n",
       "       'Health and Wellness', 'Miscellaneous', 'Marketplace'],\n",
       "      dtype=object)"
      ]
     },
     "execution_count": 27,
     "metadata": {},
     "output_type": "execute_result"
    }
   ],
   "source": [
    "unique_categories = df['category'].unique()\n",
    "unique_categories\n"
   ]
  },
  {
   "cell_type": "code",
   "execution_count": 37,
   "metadata": {},
   "outputs": [
    {
     "data": {
      "text/plain": [
       "Index(['transaction_id', 'external_user_id', 'transaction_amount',\n",
       "       'created_at', 'name', 'category'],\n",
       "      dtype='object')"
      ]
     },
     "execution_count": 37,
     "metadata": {},
     "output_type": "execute_result"
    }
   ],
   "source": [
    "df.columns"
   ]
  },
  {
   "cell_type": "code",
   "execution_count": null,
   "metadata": {},
   "outputs": [],
   "source": []
  },
  {
   "cell_type": "markdown",
   "metadata": {},
   "source": [
    "### Renaming Columns"
   ]
  },
  {
   "cell_type": "code",
   "execution_count": 41,
   "metadata": {},
   "outputs": [],
   "source": [
    "\n",
    "df.rename(columns={'external_user_id': 'uid'}, inplace=True)\n",
    "df.rename(columns={'name': 'merchant_name'}, inplace=True)\n",
    "df.rename(columns={'transaction_amount': 'order_value'}, inplace=True)\n",
    "\n"
   ]
  },
  {
   "cell_type": "code",
   "execution_count": 43,
   "metadata": {},
   "outputs": [],
   "source": [
    "df.to_csv(\"DataSources/before_analysis.csv\", index=False)"
   ]
  },
  {
   "cell_type": "code",
   "execution_count": null,
   "metadata": {},
   "outputs": [],
   "source": []
  }
 ],
 "metadata": {
  "kernelspec": {
   "display_name": ".venv",
   "language": "python",
   "name": "python3"
  },
  "language_info": {
   "codemirror_mode": {
    "name": "ipython",
    "version": 3
   },
   "file_extension": ".py",
   "mimetype": "text/x-python",
   "name": "python",
   "nbconvert_exporter": "python",
   "pygments_lexer": "ipython3",
   "version": "3.12.1"
  }
 },
 "nbformat": 4,
 "nbformat_minor": 2
}
