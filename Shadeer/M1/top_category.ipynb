{
 "cells": [
  {
   "cell_type": "code",
   "execution_count": 2,
   "metadata": {},
   "outputs": [],
   "source": [
    "\n",
    "import pandas as pd\n",
    "df = pd.read_csv('./DataSources/k_means_with_5_features.csv') #where the K=4\n",
    "df_cluster_0  = df[df['Cluster'] == 0]\n",
    "df_cluster_0\n"
   ]
  },
  {
   "cell_type": "code",
   "execution_count": 6,
   "metadata": {},
   "outputs": [
    {
     "data": {
      "text/plain": [
       "Index(['Conversion ID', 'Advertiser', 'Campaign', 'Conversion Status',\n",
       "       'Order ID', 'Conversion Time', 'Click Time', 'Timezone', 'Currency',\n",
       "       'Original Order Value', 'Country Code', 'Device Type', 'ex3/category',\n",
       "       'Cust Type', 'UID', 'Year', 'Month', 'Recency', 'Frequency',\n",
       "       'Total Spend by Customer', 'Total Spend by Customer (All Advertisers)',\n",
       "       'Wallet Share', 'Wallet Share by Merchant%', 'Total Spend in Category',\n",
       "       'Total Spend by Customer in Category', 'Category Wallet Share',\n",
       "       'Wallet Share by category %', 'Cluster'],\n",
       "      dtype='object')"
      ]
     },
     "execution_count": 6,
     "metadata": {},
     "output_type": "execute_result"
    }
   ],
   "source": []
  },
  {
   "cell_type": "code",
   "execution_count": 9,
   "metadata": {},
   "outputs": [],
   "source": [
    "df = df_cluster_0\n",
    "# Normalize your metrics (You might want to adjust the normalization method)\n",
    "df['Recency_Score'] = 1 / (1 + df['Recency'])  # Assuming lower recency is better\n",
    "df['Frequency_Score'] = (df['Frequency'] - df['Frequency'].min()) / (df['Frequency'].max() - df['Frequency'].min())\n",
    "#['Spend_Score'] = (df['Total Spend by Customer'] - df['Total Spend by Customer'].min()) / (df['Total Spend by Customer'].max() - df['Total Spend by Customer'].min())\n",
    "df['Wallet_Share_Merchant_Score'] = df['Wallet Share by Merchant%'] / 100  # Assuming it's in percent and normalizing\n",
    "df['Wallet_Share_Category_Score'] = df['Wallet Share by category %'] / 100  # Assuming it's in percent and normalizing\n",
    "\n",
    "# Composite Score - Feel free to adjust weights\n",
    "df['Value_Score'] = (df['Recency_Score'] * 0.2) + (df['Frequency_Score'] * 0.2)  + \\\n",
    "                    (df['Wallet_Share_Merchant_Score'] * 0.2) + (df['Wallet_Share_Category_Score'] * 0.2)\n",
    "                    \n",
    "df['ABC_Category'] = pd.qcut(df['Value_Score'], [0, 0.5, 0.8, 1.0], labels=['C', 'B', 'A'])\n"
   ]
  },
  {
   "cell_type": "code",
   "execution_count": 14,
   "metadata": {},
   "outputs": [],
   "source": []
  },
  {
   "cell_type": "code",
   "execution_count": 18,
   "metadata": {},
   "outputs": [
    {
     "data": {
      "text/plain": [
       "ex3/category\n",
       "Groceries                     95\n",
       "Home & Living                 66\n",
       "Food & Beverage               60\n",
       "Beauty                        36\n",
       "Fashion Accessories           28\n",
       "Women's Shoes and Clothing    24\n",
       "Women Clothes                 19\n",
       "Women Bags                    16\n",
       "Hobbies & Collections         16\n",
       "Household Supplies            15\n",
       "Name: count, dtype: int64"
      ]
     },
     "execution_count": 18,
     "metadata": {},
     "output_type": "execute_result"
    }
   ],
   "source": [
    "cluster_0_label_A_categories = df[df['ABC_Category'] == 'A']['ex3/category'].value_counts().head(10)\n",
    "cluster_0_label_A_categories"
   ]
  },
  {
   "cell_type": "code",
   "execution_count": 20,
   "metadata": {},
   "outputs": [
    {
     "data": {
      "text/plain": [
       "{'Groceries': 95,\n",
       " 'Home & Living': 66,\n",
       " 'Food & Beverage': 60,\n",
       " 'Beauty': 36,\n",
       " 'Fashion Accessories': 28,\n",
       " \"Women's Shoes and Clothing\": 24,\n",
       " 'Women Clothes': 19,\n",
       " 'Women Bags': 16,\n",
       " 'Hobbies & Collections': 16,\n",
       " 'Household Supplies': 15}"
      ]
     },
     "execution_count": 20,
     "metadata": {},
     "output_type": "execute_result"
    }
   ],
   "source": [
    "df = pd.read_csv(\"./DataSources/ABC_for_cluster_0.csv\")\n",
    "cluster_0_label_A_categories = df[df['ABC_Category'] == 'A']['ex3/category'].value_counts().head(10).to_dict()\n",
    "cluster_0_label_A_categories"
   ]
  },
  {
   "cell_type": "code",
   "execution_count": 22,
   "metadata": {},
   "outputs": [
    {
     "name": "stdout",
     "output_type": "stream",
     "text": [
      "   cluster label                                     top_categories\n",
      "0        0     A  {'Groceries': 95, 'Home & Living': 66, 'Food &...\n"
     ]
    }
   ],
   "source": [
    "import pandas as pd\n",
    "\n",
    "# Read the CSV file\n",
    "df = pd.read_csv(\"./DataSources/ABC_for_cluster_0.csv\")\n",
    "\n",
    "# Filter data for category 'A' and get the top 10 categories\n",
    "cluster_0_label_A_categories = df[df['ABC_Category'] == 'A']['ex3/category'].value_counts().head(10).to_dict()\n",
    "\n",
    "# Create a DataFrame with the required columns\n",
    "data = {'cluster': [0], 'label': ['A'], 'top_categories': [cluster_0_label_A_categories]}\n",
    "result_df = pd.DataFrame(data)\n",
    "\n",
    "# Display the table\n",
    "print(result_df)"
   ]
  },
  {
   "cell_type": "code",
   "execution_count": 24,
   "metadata": {},
   "outputs": [
    {
     "name": "stdout",
     "output_type": "stream",
     "text": [
      "  cluster label                                     top_categories\n",
      "0       0     A  {'Groceries': 95, 'Home & Living': 66, 'Food &...\n",
      "0       0     B  {'Home & Living': 158, 'Beauty': 69, 'Food & B...\n",
      "0       0     C  {'Home & Living': 255, 'Beauty': 176, 'Mobile ...\n",
      "0       1     A  {'Women's Shoes and Clothing': 10, 'Kitchen & ...\n",
      "0       1     B  {'Motors': 37, 'Mother & Baby': 22, 'Lighting ...\n",
      "0       1     C  {'Beauty': 42, 'Groceries': 30, 'Household Sup...\n",
      "0       2     A  {'Mom & Baby': 22, 'Beauty': 13, 'Stationery &...\n",
      "0       2     B  {'Pets': 29, 'Women's Shoes and Clothing': 28,...\n",
      "0       2     C  {'Beauty': 33, 'Groceries': 29, 'Health': 19, ...\n",
      "0       3     A  {'Beauty': 48, 'Pet Supplies': 28, 'Groceries'...\n",
      "0       3     B  {'Groceries': 58, 'Mother & Baby': 42, 'Beauty...\n",
      "0       3     C  {'Beauty': 47, 'Home & Living': 47, 'Electroni...\n"
     ]
    }
   ],
   "source": [
    "import pandas as pd\n",
    "\n",
    "# Define file paths for cluster data\n",
    "cluster_file_paths = {\n",
    "  0: \"./DataSources/ABC_for_cluster_0.csv\",\n",
    "  1: \"./DataSources/ABC_for_cluster_1.csv\",\n",
    "  2: \"./DataSources/ABC_for_cluster_2.csv\",\n",
    "  3: \"./DataSources/ABC_for_cluster_3.csv\"\n",
    "}\n",
    "\n",
    "# Function to process cluster data and generate DataFrame\n",
    "def process_cluster_data(cluster_data_path):\n",
    "  # Read data from CSV using pd.read_csv\n",
    "  cluster_df = pd.read_csv(cluster_data_path)\n",
    "\n",
    "  # Iterate through unique values in 'ABC_Category' column (assuming labels)\n",
    "  for label in cluster_df['ABC_Category'].unique():\n",
    "    cluster_label_categories = (cluster_df[cluster_df['ABC_Category'] == label]\n",
    "                               ['ex3/category'].value_counts().head(10).to_dict())\n",
    "    data = {'cluster': [cluster_data_path.split('/')[-1].split('_')[-1][0]], \n",
    "             'label': [label], 'top_categories': [cluster_label_categories]}\n",
    "    yield pd.DataFrame(data)  # Use yield for generator expression\n",
    "\n",
    "# Generate DataFrames for each cluster with labels\n",
    "result_dfs = []\n",
    "for cluster_file_path in cluster_file_paths.values():\n",
    "  for df in process_cluster_data(cluster_file_path):\n",
    "    result_dfs.append(df)\n",
    "\n",
    "# Concatenate DataFrames\n",
    "result_df = pd.concat(result_dfs)\n",
    "\n",
    "# Display the table\n",
    "print(result_df)\n"
   ]
  },
  {
   "cell_type": "code",
   "execution_count": 29,
   "metadata": {},
   "outputs": [],
   "source": [
    "result_df.reset_index(drop=True, inplace=True)\n",
    "result_df.to_csv(\"./DataSources/top_category.csv\", index=False)"
   ]
  },
  {
   "cell_type": "code",
   "execution_count": null,
   "metadata": {},
   "outputs": [],
   "source": []
  }
 ],
 "metadata": {
  "kernelspec": {
   "display_name": ".venv",
   "language": "python",
   "name": "python3"
  },
  "language_info": {
   "codemirror_mode": {
    "name": "ipython",
    "version": 3
   },
   "file_extension": ".py",
   "mimetype": "text/x-python",
   "name": "python",
   "nbconvert_exporter": "python",
   "pygments_lexer": "ipython3",
   "version": "3.12.1"
  }
 },
 "nbformat": 4,
 "nbformat_minor": 2
}
