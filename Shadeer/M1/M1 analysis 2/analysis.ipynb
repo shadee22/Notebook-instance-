{
 "cells": [
  {
   "cell_type": "markdown",
   "metadata": {},
   "source": [
    "# Cashback analysis\n",
    "\n",
    "\n",
    "- Merchant wise\n",
    "- Month wise \n",
    "- Year wisw\n",
    "- Weekend wise\n"
   ]
  },
  {
   "cell_type": "code",
   "execution_count": 5,
   "metadata": {},
   "outputs": [],
   "source": [
    "import pandas as pd\n",
    "# load df\n",
    "df = pd.read_csv('./datasource/preprocessed_data.csv')"
   ]
  },
  {
   "cell_type": "markdown",
   "metadata": {},
   "source": [
    "## Merchant Wise\n"
   ]
  },
  {
   "cell_type": "markdown",
   "metadata": {},
   "source": [
    "### Whole Dataset 2021 - 2024"
   ]
  },
  {
   "cell_type": "code",
   "execution_count": 6,
   "metadata": {},
   "outputs": [
    {
     "data": {
      "text/html": [
       "<div>\n",
       "<style scoped>\n",
       "    .dataframe tbody tr th:only-of-type {\n",
       "        vertical-align: middle;\n",
       "    }\n",
       "\n",
       "    .dataframe tbody tr th {\n",
       "        vertical-align: top;\n",
       "    }\n",
       "\n",
       "    .dataframe thead th {\n",
       "        text-align: right;\n",
       "    }\n",
       "</style>\n",
       "<table border=\"1\" class=\"dataframe\">\n",
       "  <thead>\n",
       "    <tr style=\"text-align: right;\">\n",
       "      <th></th>\n",
       "      <th>Advertiser</th>\n",
       "      <th>Total Cashback Value</th>\n",
       "    </tr>\n",
       "  </thead>\n",
       "  <tbody>\n",
       "    <tr>\n",
       "      <th>0</th>\n",
       "      <td>Adidas</td>\n",
       "      <td>23.183</td>\n",
       "    </tr>\n",
       "    <tr>\n",
       "      <th>1</th>\n",
       "      <td>Agoda</td>\n",
       "      <td>129.319</td>\n",
       "    </tr>\n",
       "    <tr>\n",
       "      <th>2</th>\n",
       "      <td>AliExpress (Global) - CPS</td>\n",
       "      <td>0.566</td>\n",
       "    </tr>\n",
       "    <tr>\n",
       "      <th>3</th>\n",
       "      <td>Charles &amp; Keith (SG) CPS</td>\n",
       "      <td>8.183</td>\n",
       "    </tr>\n",
       "    <tr>\n",
       "      <th>4</th>\n",
       "      <td>Decathlon</td>\n",
       "      <td>0.253</td>\n",
       "    </tr>\n",
       "    <tr>\n",
       "      <th>5</th>\n",
       "      <td>Decathlon SG</td>\n",
       "      <td>8.928</td>\n",
       "    </tr>\n",
       "    <tr>\n",
       "      <th>6</th>\n",
       "      <td>EnfaStore</td>\n",
       "      <td>27.590</td>\n",
       "    </tr>\n",
       "    <tr>\n",
       "      <th>7</th>\n",
       "      <td>Fairprice ON</td>\n",
       "      <td>119.281</td>\n",
       "    </tr>\n",
       "    <tr>\n",
       "      <th>8</th>\n",
       "      <td>KFC</td>\n",
       "      <td>8.000</td>\n",
       "    </tr>\n",
       "    <tr>\n",
       "      <th>9</th>\n",
       "      <td>Klook</td>\n",
       "      <td>7.870</td>\n",
       "    </tr>\n",
       "    <tr>\n",
       "      <th>10</th>\n",
       "      <td>Klook Travel (CPS)</td>\n",
       "      <td>14.547</td>\n",
       "    </tr>\n",
       "    <tr>\n",
       "      <th>11</th>\n",
       "      <td>Lazada SG</td>\n",
       "      <td>1571.389</td>\n",
       "    </tr>\n",
       "    <tr>\n",
       "      <th>12</th>\n",
       "      <td>Nike (APAC)</td>\n",
       "      <td>6.234</td>\n",
       "    </tr>\n",
       "    <tr>\n",
       "      <th>13</th>\n",
       "      <td>Nike APAC</td>\n",
       "      <td>29.483</td>\n",
       "    </tr>\n",
       "    <tr>\n",
       "      <th>14</th>\n",
       "      <td>PatPat</td>\n",
       "      <td>2.633</td>\n",
       "    </tr>\n",
       "    <tr>\n",
       "      <th>15</th>\n",
       "      <td>Pedro Shoes</td>\n",
       "      <td>19.049</td>\n",
       "    </tr>\n",
       "    <tr>\n",
       "      <th>16</th>\n",
       "      <td>Puma</td>\n",
       "      <td>30.529</td>\n",
       "    </tr>\n",
       "    <tr>\n",
       "      <th>17</th>\n",
       "      <td>Samsung SG</td>\n",
       "      <td>215.241</td>\n",
       "    </tr>\n",
       "    <tr>\n",
       "      <th>18</th>\n",
       "      <td>Sephora Singapore</td>\n",
       "      <td>0.667</td>\n",
       "    </tr>\n",
       "    <tr>\n",
       "      <th>19</th>\n",
       "      <td>Shopee SG</td>\n",
       "      <td>1562.582</td>\n",
       "    </tr>\n",
       "    <tr>\n",
       "      <th>20</th>\n",
       "      <td>Shopee SG - CPS</td>\n",
       "      <td>15.468</td>\n",
       "    </tr>\n",
       "    <tr>\n",
       "      <th>21</th>\n",
       "      <td>Shopee Singapore</td>\n",
       "      <td>1220.903</td>\n",
       "    </tr>\n",
       "    <tr>\n",
       "      <th>22</th>\n",
       "      <td>Singapore Airlines</td>\n",
       "      <td>6.428</td>\n",
       "    </tr>\n",
       "    <tr>\n",
       "      <th>23</th>\n",
       "      <td>Trip.com</td>\n",
       "      <td>59.976</td>\n",
       "    </tr>\n",
       "    <tr>\n",
       "      <th>24</th>\n",
       "      <td>Under Armour</td>\n",
       "      <td>12.256</td>\n",
       "    </tr>\n",
       "    <tr>\n",
       "      <th>25</th>\n",
       "      <td>Watsons SG</td>\n",
       "      <td>2.845</td>\n",
       "    </tr>\n",
       "    <tr>\n",
       "      <th>26</th>\n",
       "      <td>Watsons Singapore</td>\n",
       "      <td>23.870</td>\n",
       "    </tr>\n",
       "    <tr>\n",
       "      <th>27</th>\n",
       "      <td>Zalora SG</td>\n",
       "      <td>193.208</td>\n",
       "    </tr>\n",
       "    <tr>\n",
       "      <th>28</th>\n",
       "      <td>iHerb</td>\n",
       "      <td>27.381</td>\n",
       "    </tr>\n",
       "    <tr>\n",
       "      <th>29</th>\n",
       "      <td>tripcom</td>\n",
       "      <td>87.250</td>\n",
       "    </tr>\n",
       "  </tbody>\n",
       "</table>\n",
       "</div>"
      ],
      "text/plain": [
       "                   Advertiser  Total Cashback Value\n",
       "0                      Adidas                23.183\n",
       "1                       Agoda               129.319\n",
       "2   AliExpress (Global) - CPS                 0.566\n",
       "3    Charles & Keith (SG) CPS                 8.183\n",
       "4                   Decathlon                 0.253\n",
       "5                Decathlon SG                 8.928\n",
       "6                   EnfaStore                27.590\n",
       "7                Fairprice ON               119.281\n",
       "8                         KFC                 8.000\n",
       "9                       Klook                 7.870\n",
       "10         Klook Travel (CPS)                14.547\n",
       "11                  Lazada SG              1571.389\n",
       "12                Nike (APAC)                 6.234\n",
       "13                  Nike APAC                29.483\n",
       "14                     PatPat                 2.633\n",
       "15                Pedro Shoes                19.049\n",
       "16                       Puma                30.529\n",
       "17                 Samsung SG               215.241\n",
       "18          Sephora Singapore                 0.667\n",
       "19                  Shopee SG              1562.582\n",
       "20            Shopee SG - CPS                15.468\n",
       "21           Shopee Singapore              1220.903\n",
       "22         Singapore Airlines                 6.428\n",
       "23                   Trip.com                59.976\n",
       "24               Under Armour                12.256\n",
       "25                 Watsons SG                 2.845\n",
       "26          Watsons Singapore                23.870\n",
       "27                  Zalora SG               193.208\n",
       "28                      iHerb                27.381\n",
       "29                    tripcom                87.250"
      ]
     },
     "execution_count": 6,
     "metadata": {},
     "output_type": "execute_result"
    }
   ],
   "source": [
    "import datetime\n",
    "data = df\n",
    "\n",
    "# Convert the 'Conversion Time' to datetime format\n",
    "data['Conversion Time'] = pd.to_datetime(data['Conversion Time'], format='%d/%m/%Y %H:%M')\n",
    "\n",
    "# Group by 'Advertiser' and sum the 'Estimate M1 Cashback Value'\n",
    "data['Estimate M1 Cashback Value'] = pd.to_numeric(data['Estimate M1 Cashback Value'], errors='coerce')\n",
    "cashback_analysis = data.groupby('Advertiser')['Estimate M1 Cashback Value'].sum().reset_index()\n",
    "\n",
    "# Rename columns for clarity\n",
    "cashback_analysis.columns = ['Advertiser', 'Total Cashback Value']\n",
    "\n",
    "\n",
    "cashback_analysis"
   ]
  },
  {
   "cell_type": "code",
   "execution_count": 7,
   "metadata": {},
   "outputs": [
    {
     "data": {
      "application/vnd.plotly.v1+json": {
       "config": {
        "plotlyServerURL": "https://plot.ly"
       },
       "data": [
        {
         "alignmentgroup": "True",
         "hovertemplate": "Advertiser=%{x}<br>Total Cashback Value=%{y}<extra></extra>",
         "legendgroup": "",
         "marker": {
          "color": "#636efa",
          "pattern": {
           "shape": ""
          }
         },
         "name": "",
         "offsetgroup": "",
         "orientation": "v",
         "showlegend": false,
         "textposition": "auto",
         "type": "bar",
         "x": [
          "Adidas",
          "Agoda",
          "AliExpress (Global) - CPS",
          "Charles & Keith (SG) CPS",
          "Decathlon",
          "Decathlon SG",
          "EnfaStore",
          "Fairprice ON",
          "KFC",
          "Klook",
          "Klook Travel (CPS)",
          "Lazada SG",
          "Nike (APAC)",
          "Nike APAC",
          "PatPat",
          "Pedro Shoes",
          "Puma",
          "Samsung SG",
          "Sephora Singapore",
          "Shopee SG",
          "Shopee SG - CPS",
          "Shopee Singapore",
          "Singapore Airlines",
          "Trip.com",
          "Under Armour",
          "Watsons SG",
          "Watsons Singapore",
          "Zalora SG",
          "iHerb",
          "tripcom"
         ],
         "xaxis": "x",
         "y": [
          23.183,
          129.319,
          0.5660000000000001,
          8.183,
          0.253,
          8.928,
          27.59,
          119.281,
          8,
          7.87,
          14.547,
          1571.389,
          6.234,
          29.483,
          2.633,
          19.049,
          30.529,
          215.24099999999999,
          0.667,
          1562.582,
          15.468,
          1220.903,
          6.428,
          59.976,
          12.256,
          2.8449999999999998,
          23.87,
          193.208,
          27.381,
          87.25
         ],
         "yaxis": "y"
        }
       ],
       "layout": {
        "barmode": "relative",
        "legend": {
         "tracegroupgap": 0
        },
        "template": {
         "data": {
          "bar": [
           {
            "error_x": {
             "color": "#2a3f5f"
            },
            "error_y": {
             "color": "#2a3f5f"
            },
            "marker": {
             "line": {
              "color": "#E5ECF6",
              "width": 0.5
             },
             "pattern": {
              "fillmode": "overlay",
              "size": 10,
              "solidity": 0.2
             }
            },
            "type": "bar"
           }
          ],
          "barpolar": [
           {
            "marker": {
             "line": {
              "color": "#E5ECF6",
              "width": 0.5
             },
             "pattern": {
              "fillmode": "overlay",
              "size": 10,
              "solidity": 0.2
             }
            },
            "type": "barpolar"
           }
          ],
          "carpet": [
           {
            "aaxis": {
             "endlinecolor": "#2a3f5f",
             "gridcolor": "white",
             "linecolor": "white",
             "minorgridcolor": "white",
             "startlinecolor": "#2a3f5f"
            },
            "baxis": {
             "endlinecolor": "#2a3f5f",
             "gridcolor": "white",
             "linecolor": "white",
             "minorgridcolor": "white",
             "startlinecolor": "#2a3f5f"
            },
            "type": "carpet"
           }
          ],
          "choropleth": [
           {
            "colorbar": {
             "outlinewidth": 0,
             "ticks": ""
            },
            "type": "choropleth"
           }
          ],
          "contour": [
           {
            "colorbar": {
             "outlinewidth": 0,
             "ticks": ""
            },
            "colorscale": [
             [
              0,
              "#0d0887"
             ],
             [
              0.1111111111111111,
              "#46039f"
             ],
             [
              0.2222222222222222,
              "#7201a8"
             ],
             [
              0.3333333333333333,
              "#9c179e"
             ],
             [
              0.4444444444444444,
              "#bd3786"
             ],
             [
              0.5555555555555556,
              "#d8576b"
             ],
             [
              0.6666666666666666,
              "#ed7953"
             ],
             [
              0.7777777777777778,
              "#fb9f3a"
             ],
             [
              0.8888888888888888,
              "#fdca26"
             ],
             [
              1,
              "#f0f921"
             ]
            ],
            "type": "contour"
           }
          ],
          "contourcarpet": [
           {
            "colorbar": {
             "outlinewidth": 0,
             "ticks": ""
            },
            "type": "contourcarpet"
           }
          ],
          "heatmap": [
           {
            "colorbar": {
             "outlinewidth": 0,
             "ticks": ""
            },
            "colorscale": [
             [
              0,
              "#0d0887"
             ],
             [
              0.1111111111111111,
              "#46039f"
             ],
             [
              0.2222222222222222,
              "#7201a8"
             ],
             [
              0.3333333333333333,
              "#9c179e"
             ],
             [
              0.4444444444444444,
              "#bd3786"
             ],
             [
              0.5555555555555556,
              "#d8576b"
             ],
             [
              0.6666666666666666,
              "#ed7953"
             ],
             [
              0.7777777777777778,
              "#fb9f3a"
             ],
             [
              0.8888888888888888,
              "#fdca26"
             ],
             [
              1,
              "#f0f921"
             ]
            ],
            "type": "heatmap"
           }
          ],
          "heatmapgl": [
           {
            "colorbar": {
             "outlinewidth": 0,
             "ticks": ""
            },
            "colorscale": [
             [
              0,
              "#0d0887"
             ],
             [
              0.1111111111111111,
              "#46039f"
             ],
             [
              0.2222222222222222,
              "#7201a8"
             ],
             [
              0.3333333333333333,
              "#9c179e"
             ],
             [
              0.4444444444444444,
              "#bd3786"
             ],
             [
              0.5555555555555556,
              "#d8576b"
             ],
             [
              0.6666666666666666,
              "#ed7953"
             ],
             [
              0.7777777777777778,
              "#fb9f3a"
             ],
             [
              0.8888888888888888,
              "#fdca26"
             ],
             [
              1,
              "#f0f921"
             ]
            ],
            "type": "heatmapgl"
           }
          ],
          "histogram": [
           {
            "marker": {
             "pattern": {
              "fillmode": "overlay",
              "size": 10,
              "solidity": 0.2
             }
            },
            "type": "histogram"
           }
          ],
          "histogram2d": [
           {
            "colorbar": {
             "outlinewidth": 0,
             "ticks": ""
            },
            "colorscale": [
             [
              0,
              "#0d0887"
             ],
             [
              0.1111111111111111,
              "#46039f"
             ],
             [
              0.2222222222222222,
              "#7201a8"
             ],
             [
              0.3333333333333333,
              "#9c179e"
             ],
             [
              0.4444444444444444,
              "#bd3786"
             ],
             [
              0.5555555555555556,
              "#d8576b"
             ],
             [
              0.6666666666666666,
              "#ed7953"
             ],
             [
              0.7777777777777778,
              "#fb9f3a"
             ],
             [
              0.8888888888888888,
              "#fdca26"
             ],
             [
              1,
              "#f0f921"
             ]
            ],
            "type": "histogram2d"
           }
          ],
          "histogram2dcontour": [
           {
            "colorbar": {
             "outlinewidth": 0,
             "ticks": ""
            },
            "colorscale": [
             [
              0,
              "#0d0887"
             ],
             [
              0.1111111111111111,
              "#46039f"
             ],
             [
              0.2222222222222222,
              "#7201a8"
             ],
             [
              0.3333333333333333,
              "#9c179e"
             ],
             [
              0.4444444444444444,
              "#bd3786"
             ],
             [
              0.5555555555555556,
              "#d8576b"
             ],
             [
              0.6666666666666666,
              "#ed7953"
             ],
             [
              0.7777777777777778,
              "#fb9f3a"
             ],
             [
              0.8888888888888888,
              "#fdca26"
             ],
             [
              1,
              "#f0f921"
             ]
            ],
            "type": "histogram2dcontour"
           }
          ],
          "mesh3d": [
           {
            "colorbar": {
             "outlinewidth": 0,
             "ticks": ""
            },
            "type": "mesh3d"
           }
          ],
          "parcoords": [
           {
            "line": {
             "colorbar": {
              "outlinewidth": 0,
              "ticks": ""
             }
            },
            "type": "parcoords"
           }
          ],
          "pie": [
           {
            "automargin": true,
            "type": "pie"
           }
          ],
          "scatter": [
           {
            "fillpattern": {
             "fillmode": "overlay",
             "size": 10,
             "solidity": 0.2
            },
            "type": "scatter"
           }
          ],
          "scatter3d": [
           {
            "line": {
             "colorbar": {
              "outlinewidth": 0,
              "ticks": ""
             }
            },
            "marker": {
             "colorbar": {
              "outlinewidth": 0,
              "ticks": ""
             }
            },
            "type": "scatter3d"
           }
          ],
          "scattercarpet": [
           {
            "marker": {
             "colorbar": {
              "outlinewidth": 0,
              "ticks": ""
             }
            },
            "type": "scattercarpet"
           }
          ],
          "scattergeo": [
           {
            "marker": {
             "colorbar": {
              "outlinewidth": 0,
              "ticks": ""
             }
            },
            "type": "scattergeo"
           }
          ],
          "scattergl": [
           {
            "marker": {
             "colorbar": {
              "outlinewidth": 0,
              "ticks": ""
             }
            },
            "type": "scattergl"
           }
          ],
          "scattermapbox": [
           {
            "marker": {
             "colorbar": {
              "outlinewidth": 0,
              "ticks": ""
             }
            },
            "type": "scattermapbox"
           }
          ],
          "scatterpolar": [
           {
            "marker": {
             "colorbar": {
              "outlinewidth": 0,
              "ticks": ""
             }
            },
            "type": "scatterpolar"
           }
          ],
          "scatterpolargl": [
           {
            "marker": {
             "colorbar": {
              "outlinewidth": 0,
              "ticks": ""
             }
            },
            "type": "scatterpolargl"
           }
          ],
          "scatterternary": [
           {
            "marker": {
             "colorbar": {
              "outlinewidth": 0,
              "ticks": ""
             }
            },
            "type": "scatterternary"
           }
          ],
          "surface": [
           {
            "colorbar": {
             "outlinewidth": 0,
             "ticks": ""
            },
            "colorscale": [
             [
              0,
              "#0d0887"
             ],
             [
              0.1111111111111111,
              "#46039f"
             ],
             [
              0.2222222222222222,
              "#7201a8"
             ],
             [
              0.3333333333333333,
              "#9c179e"
             ],
             [
              0.4444444444444444,
              "#bd3786"
             ],
             [
              0.5555555555555556,
              "#d8576b"
             ],
             [
              0.6666666666666666,
              "#ed7953"
             ],
             [
              0.7777777777777778,
              "#fb9f3a"
             ],
             [
              0.8888888888888888,
              "#fdca26"
             ],
             [
              1,
              "#f0f921"
             ]
            ],
            "type": "surface"
           }
          ],
          "table": [
           {
            "cells": {
             "fill": {
              "color": "#EBF0F8"
             },
             "line": {
              "color": "white"
             }
            },
            "header": {
             "fill": {
              "color": "#C8D4E3"
             },
             "line": {
              "color": "white"
             }
            },
            "type": "table"
           }
          ]
         },
         "layout": {
          "annotationdefaults": {
           "arrowcolor": "#2a3f5f",
           "arrowhead": 0,
           "arrowwidth": 1
          },
          "autotypenumbers": "strict",
          "coloraxis": {
           "colorbar": {
            "outlinewidth": 0,
            "ticks": ""
           }
          },
          "colorscale": {
           "diverging": [
            [
             0,
             "#8e0152"
            ],
            [
             0.1,
             "#c51b7d"
            ],
            [
             0.2,
             "#de77ae"
            ],
            [
             0.3,
             "#f1b6da"
            ],
            [
             0.4,
             "#fde0ef"
            ],
            [
             0.5,
             "#f7f7f7"
            ],
            [
             0.6,
             "#e6f5d0"
            ],
            [
             0.7,
             "#b8e186"
            ],
            [
             0.8,
             "#7fbc41"
            ],
            [
             0.9,
             "#4d9221"
            ],
            [
             1,
             "#276419"
            ]
           ],
           "sequential": [
            [
             0,
             "#0d0887"
            ],
            [
             0.1111111111111111,
             "#46039f"
            ],
            [
             0.2222222222222222,
             "#7201a8"
            ],
            [
             0.3333333333333333,
             "#9c179e"
            ],
            [
             0.4444444444444444,
             "#bd3786"
            ],
            [
             0.5555555555555556,
             "#d8576b"
            ],
            [
             0.6666666666666666,
             "#ed7953"
            ],
            [
             0.7777777777777778,
             "#fb9f3a"
            ],
            [
             0.8888888888888888,
             "#fdca26"
            ],
            [
             1,
             "#f0f921"
            ]
           ],
           "sequentialminus": [
            [
             0,
             "#0d0887"
            ],
            [
             0.1111111111111111,
             "#46039f"
            ],
            [
             0.2222222222222222,
             "#7201a8"
            ],
            [
             0.3333333333333333,
             "#9c179e"
            ],
            [
             0.4444444444444444,
             "#bd3786"
            ],
            [
             0.5555555555555556,
             "#d8576b"
            ],
            [
             0.6666666666666666,
             "#ed7953"
            ],
            [
             0.7777777777777778,
             "#fb9f3a"
            ],
            [
             0.8888888888888888,
             "#fdca26"
            ],
            [
             1,
             "#f0f921"
            ]
           ]
          },
          "colorway": [
           "#636efa",
           "#EF553B",
           "#00cc96",
           "#ab63fa",
           "#FFA15A",
           "#19d3f3",
           "#FF6692",
           "#B6E880",
           "#FF97FF",
           "#FECB52"
          ],
          "font": {
           "color": "#2a3f5f"
          },
          "geo": {
           "bgcolor": "white",
           "lakecolor": "white",
           "landcolor": "#E5ECF6",
           "showlakes": true,
           "showland": true,
           "subunitcolor": "white"
          },
          "hoverlabel": {
           "align": "left"
          },
          "hovermode": "closest",
          "mapbox": {
           "style": "light"
          },
          "paper_bgcolor": "white",
          "plot_bgcolor": "#E5ECF6",
          "polar": {
           "angularaxis": {
            "gridcolor": "white",
            "linecolor": "white",
            "ticks": ""
           },
           "bgcolor": "#E5ECF6",
           "radialaxis": {
            "gridcolor": "white",
            "linecolor": "white",
            "ticks": ""
           }
          },
          "scene": {
           "xaxis": {
            "backgroundcolor": "#E5ECF6",
            "gridcolor": "white",
            "gridwidth": 2,
            "linecolor": "white",
            "showbackground": true,
            "ticks": "",
            "zerolinecolor": "white"
           },
           "yaxis": {
            "backgroundcolor": "#E5ECF6",
            "gridcolor": "white",
            "gridwidth": 2,
            "linecolor": "white",
            "showbackground": true,
            "ticks": "",
            "zerolinecolor": "white"
           },
           "zaxis": {
            "backgroundcolor": "#E5ECF6",
            "gridcolor": "white",
            "gridwidth": 2,
            "linecolor": "white",
            "showbackground": true,
            "ticks": "",
            "zerolinecolor": "white"
           }
          },
          "shapedefaults": {
           "line": {
            "color": "#2a3f5f"
           }
          },
          "ternary": {
           "aaxis": {
            "gridcolor": "white",
            "linecolor": "white",
            "ticks": ""
           },
           "baxis": {
            "gridcolor": "white",
            "linecolor": "white",
            "ticks": ""
           },
           "bgcolor": "#E5ECF6",
           "caxis": {
            "gridcolor": "white",
            "linecolor": "white",
            "ticks": ""
           }
          },
          "title": {
           "x": 0.05
          },
          "xaxis": {
           "automargin": true,
           "gridcolor": "white",
           "linecolor": "white",
           "ticks": "",
           "title": {
            "standoff": 15
           },
           "zerolinecolor": "white",
           "zerolinewidth": 2
          },
          "yaxis": {
           "automargin": true,
           "gridcolor": "white",
           "linecolor": "white",
           "ticks": "",
           "title": {
            "standoff": 15
           },
           "zerolinecolor": "white",
           "zerolinewidth": 2
          }
         }
        },
        "title": {
         "text": "Sum of Cashback by Advertiser 2021 - 2024"
        },
        "xaxis": {
         "anchor": "y",
         "domain": [
          0,
          1
         ],
         "tickangle": -45,
         "title": {
          "text": "Advertiser"
         }
        },
        "yaxis": {
         "anchor": "x",
         "domain": [
          0,
          1
         ],
         "title": {
          "text": "Total Cashback Value"
         }
        }
       }
      }
     },
     "metadata": {},
     "output_type": "display_data"
    }
   ],
   "source": [
    "\n",
    "import plotly.express as px\n",
    "\n",
    "# Plotting the Total Cashback Value for each Advertiser\n",
    "fig = px.bar(cashback_analysis, x='Advertiser', y='Total Cashback Value', title='Sum of Cashback by Advertiser 2021 - 2024')\n",
    "fig.update_layout(xaxis_tickangle=-45)\n",
    "fig.show()\n"
   ]
  },
  {
   "cell_type": "markdown",
   "metadata": {},
   "source": [
    "### Year Specific"
   ]
  },
  {
   "cell_type": "code",
   "execution_count": 8,
   "metadata": {},
   "outputs": [
    {
     "data": {
      "text/plain": [
       "array([2024, 2023, 2022, 2021], dtype=int32)"
      ]
     },
     "execution_count": 8,
     "metadata": {},
     "output_type": "execute_result"
    }
   ],
   "source": [
    "\n",
    "# unique uears\n",
    "data['Year'] = data['Conversion Time'].dt.year\n",
    "unique_years = data['Year'].unique()\n",
    "unique_years"
   ]
  },
  {
   "cell_type": "code",
   "execution_count": 11,
   "metadata": {},
   "outputs": [
    {
     "data": {
      "image/png": "[encoded data removed]",
      "text/plain": [
       "<Figure size 1400x2800 with 4 Axes>"
      ]
     },
     "metadata": {},
     "output_type": "display_data"
    }
   ],
   "source": [
    "import plotly.express as px\n",
    "import matplotlib.pyplot as plt\n",
    "import seaborn as sns\n",
    "# Convert the 'Conversion Time' to datetime format\n",
    "data['Conversion Time'] = pd.to_datetime(data['Conversion Time'], format='%d/%m/%Y %H:%M')\n",
    "\n",
    "# Extract the year from 'Conversion Time'\n",
    "data['Year'] = data['Conversion Time'].dt.year\n",
    "\n",
    "# Group by 'Year' and 'Advertiser' and sum the 'Estimate M1 Cashback Value'\n",
    "data['Estimate M1 Cashback Value'] = pd.to_numeric(data['Estimate M1 Cashback Value'], errors='coerce')\n",
    "yearly_cashback_analysis = data.groupby(['Year', 'Advertiser'])['Estimate M1 Cashback Value'].sum().reset_index()\n",
    "# Plotting\n",
    "fig, axes = plt.subplots(nrows=4, ncols=1, figsize=(14, 28))\n",
    "\n",
    "years = sorted(yearly_cashback_analysis['Year'].unique())\n",
    "\n",
    "for i, year in enumerate(years):\n",
    "    yearly_data = yearly_cashback_analysis[yearly_cashback_analysis['Year'] == year]\n",
    "    sns.barplot(data=yearly_data, x='Advertiser', y='Estimate M1 Cashback Value', ax=axes[i], hue='Advertiser', legend=False, palette='viridis')\n",
    "    axes[i].set_title(f'Total Cashback Value for {year}')\n",
    "    axes[i].set_ylabel('Total Cashback Value')\n",
    "    axes[i].tick_params(axis='x', rotation=45)\n",
    "    axes[i].grid(axis='y', linestyle='--', alpha=0.7)\n",
    "\n",
    "    # Ensure x-axis labels are shown for every plot\n",
    "    for label in axes[i].get_xticklabels():\n",
    "        label.set_visible(True)\n",
    "\n",
    "plt.tight_layout()\n",
    "plt.show()\n",
    "\n",
    "\n",
    "\n"
   ]
  },
  {
   "cell_type": "code",
   "execution_count": null,
   "metadata": {},
   "outputs": [],
   "source": []
  },
  {
   "cell_type": "markdown",
   "metadata": {},
   "source": [
    "### Plotly"
   ]
  },
  {
   "cell_type": "code",
   "execution_count": null,
   "metadata": {},
   "outputs": [
    {
     "data": {
      "application/vnd.plotly.v1+json": {
       "config": {
        "plotlyServerURL": "https://plot.ly"
       },
       "data": [
        {
         "name": "2021",
         "type": "bar",
         "x": [
          "KFC",
          "PatPat",
          "Watsons Singapore",
          "Zalora SG"
         ],
         "xaxis": "x",
         "y": [
          8,
          2.633,
          3.061,
          26.985
         ],
         "yaxis": "y"
        },
        {
         "name": "2022",
         "type": "bar",
         "x": [
          "Adidas",
          "Decathlon",
          "EnfaStore",
          "Fairprice ON",
          "Lazada SG",
          "Nike APAC",
          "Pedro Shoes",
          "Puma",
          "Samsung SG",
          "Shopee SG",
          "Under Armour",
          "Watsons Singapore",
          "Zalora SG"
         ],
         "xaxis": "x2",
         "y": [
          17.971,
          0.059,
          27.59,
          66.032,
          315.851,
          19.526,
          19.049,
          24.781,
          215.24099999999999,
          69.333,
          10.689,
          6.758,
          111.36
         ],
         "yaxis": "y2"
        },
        {
         "name": "2023",
         "type": "bar",
         "x": [
          "Adidas",
          "Agoda",
          "Decathlon",
          "Decathlon SG",
          "Fairprice ON",
          "Klook",
          "Klook Travel (CPS)",
          "Lazada SG",
          "Nike APAC",
          "Puma",
          "Sephora Singapore",
          "Shopee SG",
          "Shopee SG - CPS",
          "Under Armour",
          "Watsons SG",
          "Watsons Singapore",
          "Zalora SG",
          "iHerb",
          "tripcom"
         ],
         "xaxis": "x3",
         "y": [
          5.212,
          129.319,
          0.194,
          4.14,
          29.476000000000003,
          7.87,
          11.081,
          1164.208,
          9.957,
          5.747999999999999,
          0.667,
          746.081,
          15.468,
          1.567,
          1.089,
          11.046000000000001,
          47.054,
          18.316,
          54.883
         ],
         "yaxis": "y3"
        },
        {
         "name": "2024",
         "type": "bar",
         "x": [
          "AliExpress (Global) - CPS",
          "Charles & Keith (SG) CPS",
          "Decathlon SG",
          "Fairprice ON",
          "Klook Travel (CPS)",
          "Lazada SG",
          "Nike (APAC)",
          "Shopee SG",
          "Shopee Singapore",
          "Singapore Airlines",
          "Trip.com",
          "Watsons SG",
          "Watsons Singapore",
          "Zalora SG",
          "iHerb",
          "tripcom"
         ],
         "xaxis": "x4",
         "y": [
          0.5660000000000001,
          8.183,
          4.788,
          23.773,
          3.466,
          91.33,
          6.234,
          747.168,
          1220.903,
          6.428,
          59.976,
          1.7559999999999998,
          3.005,
          7.809,
          9.065000000000001,
          32.367
         ],
         "yaxis": "y4"
        }
       ],
       "layout": {
        "annotations": [
         {
          "font": {
           "size": 16
          },
          "showarrow": false,
          "text": "Total Cashback Value for 2021",
          "x": 0.5,
          "xanchor": "center",
          "xref": "paper",
          "y": 1,
          "yanchor": "bottom",
          "yref": "paper"
         },
         {
          "font": {
           "size": 16
          },
          "showarrow": false,
          "text": "Total Cashback Value for 2022",
          "x": 0.5,
          "xanchor": "center",
          "xref": "paper",
          "y": 0.71875,
          "yanchor": "bottom",
          "yref": "paper"
         },
         {
          "font": {
           "size": 16
          },
          "showarrow": false,
          "text": "Total Cashback Value for 2023",
          "x": 0.5,
          "xanchor": "center",
          "xref": "paper",
          "y": 0.4375,
          "yanchor": "bottom",
          "yref": "paper"
         },
         {
          "font": {
           "size": 16
          },
          "showarrow": false,
          "text": "Total Cashback Value for 2024",
          "x": 0.5,
          "xanchor": "center",
          "xref": "paper",
          "y": 0.15625,
          "yanchor": "bottom",
          "yref": "paper"
         }
        ],
        "height": 1600,
        "template": {
         "data": {
          "bar": [
           {
            "error_x": {
             "color": "#2a3f5f"
            },
            "error_y": {
             "color": "#2a3f5f"
            },
            "marker": {
             "line": {
              "color": "#E5ECF6",
              "width": 0.5
             },
             "pattern": {
              "fillmode": "overlay",
              "size": 10,
              "solidity": 0.2
             }
            },
            "type": "bar"
           }
          ],
          "barpolar": [
           {
            "marker": {
             "line": {
              "color": "#E5ECF6",
              "width": 0.5
             },
             "pattern": {
              "fillmode": "overlay",
              "size": 10,
              "solidity": 0.2
             }
            },
            "type": "barpolar"
           }
          ],
          "carpet": [
           {
            "aaxis": {
             "endlinecolor": "#2a3f5f",
             "gridcolor": "white",
             "linecolor": "white",
             "minorgridcolor": "white",
             "startlinecolor": "#2a3f5f"
            },
            "baxis": {
             "endlinecolor": "#2a3f5f",
             "gridcolor": "white",
             "linecolor": "white",
             "minorgridcolor": "white",
             "startlinecolor": "#2a3f5f"
            },
            "type": "carpet"
           }
          ],
          "choropleth": [
           {
            "colorbar": {
             "outlinewidth": 0,
             "ticks": ""
            },
            "type": "choropleth"
           }
          ],
          "contour": [
           {
            "colorbar": {
             "outlinewidth": 0,
             "ticks": ""
            },
            "colorscale": [
             [
              0,
              "#0d0887"
             ],
             [
              0.1111111111111111,
              "#46039f"
             ],
             [
              0.2222222222222222,
              "#7201a8"
             ],
             [
              0.3333333333333333,
              "#9c179e"
             ],
             [
              0.4444444444444444,
              "#bd3786"
             ],
             [
              0.5555555555555556,
              "#d8576b"
             ],
             [
              0.6666666666666666,
              "#ed7953"
             ],
             [
              0.7777777777777778,
              "#fb9f3a"
             ],
             [
              0.8888888888888888,
              "#fdca26"
             ],
             [
              1,
              "#f0f921"
             ]
            ],
            "type": "contour"
           }
          ],
          "contourcarpet": [
           {
            "colorbar": {
             "outlinewidth": 0,
             "ticks": ""
            },
            "type": "contourcarpet"
           }
          ],
          "heatmap": [
           {
            "colorbar": {
             "outlinewidth": 0,
             "ticks": ""
            },
            "colorscale": [
             [
              0,
              "#0d0887"
             ],
             [
              0.1111111111111111,
              "#46039f"
             ],
             [
              0.2222222222222222,
              "#7201a8"
             ],
             [
              0.3333333333333333,
              "#9c179e"
             ],
             [
              0.4444444444444444,
              "#bd3786"
             ],
             [
              0.5555555555555556,
              "#d8576b"
             ],
             [
              0.6666666666666666,
              "#ed7953"
             ],
             [
              0.7777777777777778,
              "#fb9f3a"
             ],
             [
              0.8888888888888888,
              "#fdca26"
             ],
             [
              1,
              "#f0f921"
             ]
            ],
            "type": "heatmap"
           }
          ],
          "heatmapgl": [
           {
            "colorbar": {
             "outlinewidth": 0,
             "ticks": ""
            },
            "colorscale": [
             [
              0,
              "#0d0887"
             ],
             [
              0.1111111111111111,
              "#46039f"
             ],
             [
              0.2222222222222222,
              "#7201a8"
             ],
             [
              0.3333333333333333,
              "#9c179e"
             ],
             [
              0.4444444444444444,
              "#bd3786"
             ],
             [
              0.5555555555555556,
              "#d8576b"
             ],
             [
              0.6666666666666666,
              "#ed7953"
             ],
             [
              0.7777777777777778,
              "#fb9f3a"
             ],
             [
              0.8888888888888888,
              "#fdca26"
             ],
             [
              1,
              "#f0f921"
             ]
            ],
            "type": "heatmapgl"
           }
          ],
          "histogram": [
           {
            "marker": {
             "pattern": {
              "fillmode": "overlay",
              "size": 10,
              "solidity": 0.2
             }
            },
            "type": "histogram"
           }
          ],
          "histogram2d": [
           {
            "colorbar": {
             "outlinewidth": 0,
             "ticks": ""
            },
            "colorscale": [
             [
              0,
              "#0d0887"
             ],
             [
              0.1111111111111111,
              "#46039f"
             ],
             [
              0.2222222222222222,
              "#7201a8"
             ],
             [
              0.3333333333333333,
              "#9c179e"
             ],
             [
              0.4444444444444444,
              "#bd3786"
             ],
             [
              0.5555555555555556,
              "#d8576b"
             ],
             [
              0.6666666666666666,
              "#ed7953"
             ],
             [
              0.7777777777777778,
              "#fb9f3a"
             ],
             [
              0.8888888888888888,
              "#fdca26"
             ],
             [
              1,
              "#f0f921"
             ]
            ],
            "type": "histogram2d"
           }
          ],
          "histogram2dcontour": [
           {
            "colorbar": {
             "outlinewidth": 0,
             "ticks": ""
            },
            "colorscale": [
             [
              0,
              "#0d0887"
             ],
             [
              0.1111111111111111,
              "#46039f"
             ],
             [
              0.2222222222222222,
              "#7201a8"
             ],
             [
              0.3333333333333333,
              "#9c179e"
             ],
             [
              0.4444444444444444,
              "#bd3786"
             ],
             [
              0.5555555555555556,
              "#d8576b"
             ],
             [
              0.6666666666666666,
              "#ed7953"
             ],
             [
              0.7777777777777778,
              "#fb9f3a"
             ],
             [
              0.8888888888888888,
              "#fdca26"
             ],
             [
              1,
              "#f0f921"
             ]
            ],
            "type": "histogram2dcontour"
           }
          ],
          "mesh3d": [
           {
            "colorbar": {
             "outlinewidth": 0,
             "ticks": ""
            },
            "type": "mesh3d"
           }
          ],
          "parcoords": [
           {
            "line": {
             "colorbar": {
              "outlinewidth": 0,
              "ticks": ""
             }
            },
            "type": "parcoords"
           }
          ],
          "pie": [
           {
            "automargin": true,
            "type": "pie"
           }
          ],
          "scatter": [
           {
            "fillpattern": {
             "fillmode": "overlay",
             "size": 10,
             "solidity": 0.2
            },
            "type": "scatter"
           }
          ],
          "scatter3d": [
           {
            "line": {
             "colorbar": {
              "outlinewidth": 0,
              "ticks": ""
             }
            },
            "marker": {
             "colorbar": {
              "outlinewidth": 0,
              "ticks": ""
             }
            },
            "type": "scatter3d"
           }
          ],
          "scattercarpet": [
           {
            "marker": {
             "colorbar": {
              "outlinewidth": 0,
              "ticks": ""
             }
            },
            "type": "scattercarpet"
           }
          ],
          "scattergeo": [
           {
            "marker": {
             "colorbar": {
              "outlinewidth": 0,
              "ticks": ""
             }
            },
            "type": "scattergeo"
           }
          ],
          "scattergl": [
           {
            "marker": {
             "colorbar": {
              "outlinewidth": 0,
              "ticks": ""
             }
            },
            "type": "scattergl"
           }
          ],
          "scattermapbox": [
           {
            "marker": {
             "colorbar": {
              "outlinewidth": 0,
              "ticks": ""
             }
            },
            "type": "scattermapbox"
           }
          ],
          "scatterpolar": [
           {
            "marker": {
             "colorbar": {
              "outlinewidth": 0,
              "ticks": ""
             }
            },
            "type": "scatterpolar"
           }
          ],
          "scatterpolargl": [
           {
            "marker": {
             "colorbar": {
              "outlinewidth": 0,
              "ticks": ""
             }
            },
            "type": "scatterpolargl"
           }
          ],
          "scatterternary": [
           {
            "marker": {
             "colorbar": {
              "outlinewidth": 0,
              "ticks": ""
             }
            },
            "type": "scatterternary"
           }
          ],
          "surface": [
           {
            "colorbar": {
             "outlinewidth": 0,
             "ticks": ""
            },
            "colorscale": [
             [
              0,
              "#0d0887"
             ],
             [
              0.1111111111111111,
              "#46039f"
             ],
             [
              0.2222222222222222,
              "#7201a8"
             ],
             [
              0.3333333333333333,
              "#9c179e"
             ],
             [
              0.4444444444444444,
              "#bd3786"
             ],
             [
              0.5555555555555556,
              "#d8576b"
             ],
             [
              0.6666666666666666,
              "#ed7953"
             ],
             [
              0.7777777777777778,
              "#fb9f3a"
             ],
             [
              0.8888888888888888,
              "#fdca26"
             ],
             [
              1,
              "#f0f921"
             ]
            ],
            "type": "surface"
           }
          ],
          "table": [
           {
            "cells": {
             "fill": {
              "color": "#EBF0F8"
             },
             "line": {
              "color": "white"
             }
            },
            "header": {
             "fill": {
              "color": "#C8D4E3"
             },
             "line": {
              "color": "white"
             }
            },
            "type": "table"
           }
          ]
         },
         "layout": {
          "annotationdefaults": {
           "arrowcolor": "#2a3f5f",
           "arrowhead": 0,
           "arrowwidth": 1
          },
          "autotypenumbers": "strict",
          "coloraxis": {
           "colorbar": {
            "outlinewidth": 0,
            "ticks": ""
           }
          },
          "colorscale": {
           "diverging": [
            [
             0,
             "#8e0152"
            ],
            [
             0.1,
             "#c51b7d"
            ],
            [
             0.2,
             "#de77ae"
            ],
            [
             0.3,
             "#f1b6da"
            ],
            [
             0.4,
             "#fde0ef"
            ],
            [
             0.5,
             "#f7f7f7"
            ],
            [
             0.6,
             "#e6f5d0"
            ],
            [
             0.7,
             "#b8e186"
            ],
            [
             0.8,
             "#7fbc41"
            ],
            [
             0.9,
             "#4d9221"
            ],
            [
             1,
             "#276419"
            ]
           ],
           "sequential": [
            [
             0,
             "#0d0887"
            ],
            [
             0.1111111111111111,
             "#46039f"
            ],
            [
             0.2222222222222222,
             "#7201a8"
            ],
            [
             0.3333333333333333,
             "#9c179e"
            ],
            [
             0.4444444444444444,
             "#bd3786"
            ],
            [
             0.5555555555555556,
             "#d8576b"
            ],
            [
             0.6666666666666666,
             "#ed7953"
            ],
            [
             0.7777777777777778,
             "#fb9f3a"
            ],
            [
             0.8888888888888888,
             "#fdca26"
            ],
            [
             1,
             "#f0f921"
            ]
           ],
           "sequentialminus": [
            [
             0,
             "#0d0887"
            ],
            [
             0.1111111111111111,
             "#46039f"
            ],
            [
             0.2222222222222222,
             "#7201a8"
            ],
            [
             0.3333333333333333,
             "#9c179e"
            ],
            [
             0.4444444444444444,
             "#bd3786"
            ],
            [
             0.5555555555555556,
             "#d8576b"
            ],
            [
             0.6666666666666666,
             "#ed7953"
            ],
            [
             0.7777777777777778,
             "#fb9f3a"
            ],
            [
             0.8888888888888888,
             "#fdca26"
            ],
            [
             1,
             "#f0f921"
            ]
           ]
          },
          "colorway": [
           "#636efa",
           "#EF553B",
           "#00cc96",
           "#ab63fa",
           "#FFA15A",
           "#19d3f3",
           "#FF6692",
           "#B6E880",
           "#FF97FF",
           "#FECB52"
          ],
          "font": {
           "color": "#2a3f5f"
          },
          "geo": {
           "bgcolor": "white",
           "lakecolor": "white",
           "landcolor": "#E5ECF6",
           "showlakes": true,
           "showland": true,
           "subunitcolor": "white"
          },
          "hoverlabel": {
           "align": "left"
          },
          "hovermode": "closest",
          "mapbox": {
           "style": "light"
          },
          "paper_bgcolor": "white",
          "plot_bgcolor": "#E5ECF6",
          "polar": {
           "angularaxis": {
            "gridcolor": "white",
            "linecolor": "white",
            "ticks": ""
           },
           "bgcolor": "#E5ECF6",
           "radialaxis": {
            "gridcolor": "white",
            "linecolor": "white",
            "ticks": ""
           }
          },
          "scene": {
           "xaxis": {
            "backgroundcolor": "#E5ECF6",
            "gridcolor": "white",
            "gridwidth": 2,
            "linecolor": "white",
            "showbackground": true,
            "ticks": "",
            "zerolinecolor": "white"
           },
           "yaxis": {
            "backgroundcolor": "#E5ECF6",
            "gridcolor": "white",
            "gridwidth": 2,
            "linecolor": "white",
            "showbackground": true,
            "ticks": "",
            "zerolinecolor": "white"
           },
           "zaxis": {
            "backgroundcolor": "#E5ECF6",
            "gridcolor": "white",
            "gridwidth": 2,
            "linecolor": "white",
            "showbackground": true,
            "ticks": "",
            "zerolinecolor": "white"
           }
          },
          "shapedefaults": {
           "line": {
            "color": "#2a3f5f"
           }
          },
          "ternary": {
           "aaxis": {
            "gridcolor": "white",
            "linecolor": "white",
            "ticks": ""
           },
           "baxis": {
            "gridcolor": "white",
            "linecolor": "white",
            "ticks": ""
           },
           "bgcolor": "#E5ECF6",
           "caxis": {
            "gridcolor": "white",
            "linecolor": "white",
            "ticks": ""
           }
          },
          "title": {
           "x": 0.05
          },
          "xaxis": {
           "automargin": true,
           "gridcolor": "white",
           "linecolor": "white",
           "ticks": "",
           "title": {
            "standoff": 15
           },
           "zerolinecolor": "white",
           "zerolinewidth": 2
          },
          "yaxis": {
           "automargin": true,
           "gridcolor": "white",
           "linecolor": "white",
           "ticks": "",
           "title": {
            "standoff": 15
           },
           "zerolinecolor": "white",
           "zerolinewidth": 2
          }
         }
        },
        "title": {
         "text": "Total Cashback Value by Advertiser (2021 - 2024)"
        },
        "width": 900,
        "xaxis": {
         "anchor": "y",
         "domain": [
          0,
          1
         ],
         "matches": "x4",
         "showticklabels": false,
         "tickangle": 45,
         "title": {
          "text": "Advertiser"
         }
        },
        "xaxis2": {
         "anchor": "y2",
         "domain": [
          0,
          1
         ],
         "matches": "x4",
         "showticklabels": false,
         "tickangle": 45,
         "title": {
          "text": "Advertiser"
         }
        },
        "xaxis3": {
         "anchor": "y3",
         "domain": [
          0,
          1
         ],
         "matches": "x4",
         "showticklabels": false,
         "tickangle": 45,
         "title": {
          "text": "Advertiser"
         }
        },
        "xaxis4": {
         "anchor": "y4",
         "domain": [
          0,
          1
         ],
         "tickangle": 45,
         "title": {
          "text": "Advertiser"
         }
        },
        "yaxis": {
         "anchor": "x",
         "domain": [
          0.84375,
          1
         ]
        },
        "yaxis2": {
         "anchor": "x2",
         "domain": [
          0.5625,
          0.71875
         ]
        },
        "yaxis3": {
         "anchor": "x3",
         "domain": [
          0.28125,
          0.4375
         ]
        },
        "yaxis4": {
         "anchor": "x4",
         "domain": [
          0,
          0.15625
         ]
        }
       }
      }
     },
     "metadata": {},
     "output_type": "display_data"
    }
   ],
   "source": [
    "import plotly.express as px\n",
    "import plotly.graph_objects as go\n",
    "from plotly.subplots import make_subplots\n",
    "\n",
    "# Create a subplot figure with 4 rows and 1 column\n",
    "fig = make_subplots(rows=4, cols=1, shared_xaxes=True, subplot_titles=[f\"Total Cashback Value for {year}\" for year in years])\n",
    "\n",
    "# Add a bar plot for each year to the subplot\n",
    "for i, year in enumerate(years):\n",
    "    yearly_data = yearly_cashback_analysis[yearly_cashback_analysis['Year'] == year]\n",
    "    fig.add_trace(\n",
    "        go.Bar(x=yearly_data['Advertiser'], y=yearly_data['Estimate M1 Cashback Value'], name=f\"{year}\"),\n",
    "        row=i+1, col=1\n",
    "    )\n",
    "    \n",
    "\n",
    "# Update layout for the subplot figure\n",
    "fig.update_layout(height=1600, width=900, title_text=\"Total Cashback Value by Advertiser (2021 - 2024)\")\n",
    "fig.update_xaxes(tickangle=45, title_text=\"Advertiser\")\n",
    "\n",
    "# Show the figure\n",
    "fig.show()\n"
   ]
  },
  {
   "cell_type": "code",
   "execution_count": null,
   "metadata": {},
   "outputs": [],
   "source": []
  },
  {
   "cell_type": "code",
   "execution_count": null,
   "metadata": {},
   "outputs": [],
   "source": []
  },
  {
   "cell_type": "markdown",
   "metadata": {},
   "source": [
    "## Month Wise"
   ]
  },
  {
   "cell_type": "code",
   "execution_count": 13,
   "metadata": {},
   "outputs": [
    {
     "data": {
      "application/vnd.plotly.v1+json": {
       "config": {
        "plotlyServerURL": "https://plot.ly"
       },
       "data": [
        {
         "name": "2021",
         "type": "bar",
         "x": [
          11,
          12
         ],
         "y": [
          1.2000000000000002,
          3.434875
         ]
        }
       ],
       "layout": {
        "height": 600,
        "template": {
         "data": {
          "bar": [
           {
            "error_x": {
             "color": "#2a3f5f"
            },
            "error_y": {
             "color": "#2a3f5f"
            },
            "marker": {
             "line": {
              "color": "#E5ECF6",
              "width": 0.5
             },
             "pattern": {
              "fillmode": "overlay",
              "size": 10,
              "solidity": 0.2
             }
            },
            "type": "bar"
           }
          ],
          "barpolar": [
           {
            "marker": {
             "line": {
              "color": "#E5ECF6",
              "width": 0.5
             },
             "pattern": {
              "fillmode": "overlay",
              "size": 10,
              "solidity": 0.2
             }
            },
            "type": "barpolar"
           }
          ],
          "carpet": [
           {
            "aaxis": {
             "endlinecolor": "#2a3f5f",
             "gridcolor": "white",
             "linecolor": "white",
             "minorgridcolor": "white",
             "startlinecolor": "#2a3f5f"
            },
            "baxis": {
             "endlinecolor": "#2a3f5f",
             "gridcolor": "white",
             "linecolor": "white",
             "minorgridcolor": "white",
             "startlinecolor": "#2a3f5f"
            },
            "type": "carpet"
           }
          ],
          "choropleth": [
           {
            "colorbar": {
             "outlinewidth": 0,
             "ticks": ""
            },
            "type": "choropleth"
           }
          ],
          "contour": [
           {
            "colorbar": {
             "outlinewidth": 0,
             "ticks": ""
            },
            "colorscale": [
             [
              0,
              "#0d0887"
             ],
             [
              0.1111111111111111,
              "#46039f"
             ],
             [
              0.2222222222222222,
              "#7201a8"
             ],
             [
              0.3333333333333333,
              "#9c179e"
             ],
             [
              0.4444444444444444,
              "#bd3786"
             ],
             [
              0.5555555555555556,
              "#d8576b"
             ],
             [
              0.6666666666666666,
              "#ed7953"
             ],
             [
              0.7777777777777778,
              "#fb9f3a"
             ],
             [
              0.8888888888888888,
              "#fdca26"
             ],
             [
              1,
              "#f0f921"
             ]
            ],
            "type": "contour"
           }
          ],
          "contourcarpet": [
           {
            "colorbar": {
             "outlinewidth": 0,
             "ticks": ""
            },
            "type": "contourcarpet"
           }
          ],
          "heatmap": [
           {
            "colorbar": {
             "outlinewidth": 0,
             "ticks": ""
            },
            "colorscale": [
             [
              0,
              "#0d0887"
             ],
             [
              0.1111111111111111,
              "#46039f"
             ],
             [
              0.2222222222222222,
              "#7201a8"
             ],
             [
              0.3333333333333333,
              "#9c179e"
             ],
             [
              0.4444444444444444,
              "#bd3786"
             ],
             [
              0.5555555555555556,
              "#d8576b"
             ],
             [
              0.6666666666666666,
              "#ed7953"
             ],
             [
              0.7777777777777778,
              "#fb9f3a"
             ],
             [
              0.8888888888888888,
              "#fdca26"
             ],
             [
              1,
              "#f0f921"
             ]
            ],
            "type": "heatmap"
           }
          ],
          "heatmapgl": [
           {
            "colorbar": {
             "outlinewidth": 0,
             "ticks": ""
            },
            "colorscale": [
             [
              0,
              "#0d0887"
             ],
             [
              0.1111111111111111,
              "#46039f"
             ],
             [
              0.2222222222222222,
              "#7201a8"
             ],
             [
              0.3333333333333333,
              "#9c179e"
             ],
             [
              0.4444444444444444,
              "#bd3786"
             ],
             [
              0.5555555555555556,
              "#d8576b"
             ],
             [
              0.6666666666666666,
              "#ed7953"
             ],
             [
              0.7777777777777778,
              "#fb9f3a"
             ],
             [
              0.8888888888888888,
              "#fdca26"
             ],
             [
              1,
              "#f0f921"
             ]
            ],
            "type": "heatmapgl"
           }
          ],
          "histogram": [
           {
            "marker": {
             "pattern": {
              "fillmode": "overlay",
              "size": 10,
              "solidity": 0.2
             }
            },
            "type": "histogram"
           }
          ],
          "histogram2d": [
           {
            "colorbar": {
             "outlinewidth": 0,
             "ticks": ""
            },
            "colorscale": [
             [
              0,
              "#0d0887"
             ],
             [
              0.1111111111111111,
              "#46039f"
             ],
             [
              0.2222222222222222,
              "#7201a8"
             ],
             [
              0.3333333333333333,
              "#9c179e"
             ],
             [
              0.4444444444444444,
              "#bd3786"
             ],
             [
              0.5555555555555556,
              "#d8576b"
             ],
             [
              0.6666666666666666,
              "#ed7953"
             ],
             [
              0.7777777777777778,
              "#fb9f3a"
             ],
             [
              0.8888888888888888,
              "#fdca26"
             ],
             [
              1,
              "#f0f921"
             ]
            ],
            "type": "histogram2d"
           }
          ],
          "histogram2dcontour": [
           {
            "colorbar": {
             "outlinewidth": 0,
             "ticks": ""
            },
            "colorscale": [
             [
              0,
              "#0d0887"
             ],
             [
              0.1111111111111111,
              "#46039f"
             ],
             [
              0.2222222222222222,
              "#7201a8"
             ],
             [
              0.3333333333333333,
              "#9c179e"
             ],
             [
              0.4444444444444444,
              "#bd3786"
             ],
             [
              0.5555555555555556,
              "#d8576b"
             ],
             [
              0.6666666666666666,
              "#ed7953"
             ],
             [
              0.7777777777777778,
              "#fb9f3a"
             ],
             [
              0.8888888888888888,
              "#fdca26"
             ],
             [
              1,
              "#f0f921"
             ]
            ],
            "type": "histogram2dcontour"
           }
          ],
          "mesh3d": [
           {
            "colorbar": {
             "outlinewidth": 0,
             "ticks": ""
            },
            "type": "mesh3d"
           }
          ],
          "parcoords": [
           {
            "line": {
             "colorbar": {
              "outlinewidth": 0,
              "ticks": ""
             }
            },
            "type": "parcoords"
           }
          ],
          "pie": [
           {
            "automargin": true,
            "type": "pie"
           }
          ],
          "scatter": [
           {
            "fillpattern": {
             "fillmode": "overlay",
             "size": 10,
             "solidity": 0.2
            },
            "type": "scatter"
           }
          ],
          "scatter3d": [
           {
            "line": {
             "colorbar": {
              "outlinewidth": 0,
              "ticks": ""
             }
            },
            "marker": {
             "colorbar": {
              "outlinewidth": 0,
              "ticks": ""
             }
            },
            "type": "scatter3d"
           }
          ],
          "scattercarpet": [
           {
            "marker": {
             "colorbar": {
              "outlinewidth": 0,
              "ticks": ""
             }
            },
            "type": "scattercarpet"
           }
          ],
          "scattergeo": [
           {
            "marker": {
             "colorbar": {
              "outlinewidth": 0,
              "ticks": ""
             }
            },
            "type": "scattergeo"
           }
          ],
          "scattergl": [
           {
            "marker": {
             "colorbar": {
              "outlinewidth": 0,
              "ticks": ""
             }
            },
            "type": "scattergl"
           }
          ],
          "scattermapbox": [
           {
            "marker": {
             "colorbar": {
              "outlinewidth": 0,
              "ticks": ""
             }
            },
            "type": "scattermapbox"
           }
          ],
          "scatterpolar": [
           {
            "marker": {
             "colorbar": {
              "outlinewidth": 0,
              "ticks": ""
             }
            },
            "type": "scatterpolar"
           }
          ],
          "scatterpolargl": [
           {
            "marker": {
             "colorbar": {
              "outlinewidth": 0,
              "ticks": ""
             }
            },
            "type": "scatterpolargl"
           }
          ],
          "scatterternary": [
           {
            "marker": {
             "colorbar": {
              "outlinewidth": 0,
              "ticks": ""
             }
            },
            "type": "scatterternary"
           }
          ],
          "surface": [
           {
            "colorbar": {
             "outlinewidth": 0,
             "ticks": ""
            },
            "colorscale": [
             [
              0,
              "#0d0887"
             ],
             [
              0.1111111111111111,
              "#46039f"
             ],
             [
              0.2222222222222222,
              "#7201a8"
             ],
             [
              0.3333333333333333,
              "#9c179e"
             ],
             [
              0.4444444444444444,
              "#bd3786"
             ],
             [
              0.5555555555555556,
              "#d8576b"
             ],
             [
              0.6666666666666666,
              "#ed7953"
             ],
             [
              0.7777777777777778,
              "#fb9f3a"
             ],
             [
              0.8888888888888888,
              "#fdca26"
             ],
             [
              1,
              "#f0f921"
             ]
            ],
            "type": "surface"
           }
          ],
          "table": [
           {
            "cells": {
             "fill": {
              "color": "#EBF0F8"
             },
             "line": {
              "color": "white"
             }
            },
            "header": {
             "fill": {
              "color": "#C8D4E3"
             },
             "line": {
              "color": "white"
             }
            },
            "type": "table"
           }
          ]
         },
         "layout": {
          "annotationdefaults": {
           "arrowcolor": "#2a3f5f",
           "arrowhead": 0,
           "arrowwidth": 1
          },
          "autotypenumbers": "strict",
          "coloraxis": {
           "colorbar": {
            "outlinewidth": 0,
            "ticks": ""
           }
          },
          "colorscale": {
           "diverging": [
            [
             0,
             "#8e0152"
            ],
            [
             0.1,
             "#c51b7d"
            ],
            [
             0.2,
             "#de77ae"
            ],
            [
             0.3,
             "#f1b6da"
            ],
            [
             0.4,
             "#fde0ef"
            ],
            [
             0.5,
             "#f7f7f7"
            ],
            [
             0.6,
             "#e6f5d0"
            ],
            [
             0.7,
             "#b8e186"
            ],
            [
             0.8,
             "#7fbc41"
            ],
            [
             0.9,
             "#4d9221"
            ],
            [
             1,
             "#276419"
            ]
           ],
           "sequential": [
            [
             0,
             "#0d0887"
            ],
            [
             0.1111111111111111,
             "#46039f"
            ],
            [
             0.2222222222222222,
             "#7201a8"
            ],
            [
             0.3333333333333333,
             "#9c179e"
            ],
            [
             0.4444444444444444,
             "#bd3786"
            ],
            [
             0.5555555555555556,
             "#d8576b"
            ],
            [
             0.6666666666666666,
             "#ed7953"
            ],
            [
             0.7777777777777778,
             "#fb9f3a"
            ],
            [
             0.8888888888888888,
             "#fdca26"
            ],
            [
             1,
             "#f0f921"
            ]
           ],
           "sequentialminus": [
            [
             0,
             "#0d0887"
            ],
            [
             0.1111111111111111,
             "#46039f"
            ],
            [
             0.2222222222222222,
             "#7201a8"
            ],
            [
             0.3333333333333333,
             "#9c179e"
            ],
            [
             0.4444444444444444,
             "#bd3786"
            ],
            [
             0.5555555555555556,
             "#d8576b"
            ],
            [
             0.6666666666666666,
             "#ed7953"
            ],
            [
             0.7777777777777778,
             "#fb9f3a"
            ],
            [
             0.8888888888888888,
             "#fdca26"
            ],
            [
             1,
             "#f0f921"
            ]
           ]
          },
          "colorway": [
           "#636efa",
           "#EF553B",
           "#00cc96",
           "#ab63fa",
           "#FFA15A",
           "#19d3f3",
           "#FF6692",
           "#B6E880",
           "#FF97FF",
           "#FECB52"
          ],
          "font": {
           "color": "#2a3f5f"
          },
          "geo": {
           "bgcolor": "white",
           "lakecolor": "white",
           "landcolor": "#E5ECF6",
           "showlakes": true,
           "showland": true,
           "subunitcolor": "white"
          },
          "hoverlabel": {
           "align": "left"
          },
          "hovermode": "closest",
          "mapbox": {
           "style": "light"
          },
          "paper_bgcolor": "white",
          "plot_bgcolor": "#E5ECF6",
          "polar": {
           "angularaxis": {
            "gridcolor": "white",
            "linecolor": "white",
            "ticks": ""
           },
           "bgcolor": "#E5ECF6",
           "radialaxis": {
            "gridcolor": "white",
            "linecolor": "white",
            "ticks": ""
           }
          },
          "scene": {
           "xaxis": {
            "backgroundcolor": "#E5ECF6",
            "gridcolor": "white",
            "gridwidth": 2,
            "linecolor": "white",
            "showbackground": true,
            "ticks": "",
            "zerolinecolor": "white"
           },
           "yaxis": {
            "backgroundcolor": "#E5ECF6",
            "gridcolor": "white",
            "gridwidth": 2,
            "linecolor": "white",
            "showbackground": true,
            "ticks": "",
            "zerolinecolor": "white"
           },
           "zaxis": {
            "backgroundcolor": "#E5ECF6",
            "gridcolor": "white",
            "gridwidth": 2,
            "linecolor": "white",
            "showbackground": true,
            "ticks": "",
            "zerolinecolor": "white"
           }
          },
          "shapedefaults": {
           "line": {
            "color": "#2a3f5f"
           }
          },
          "ternary": {
           "aaxis": {
            "gridcolor": "white",
            "linecolor": "white",
            "ticks": ""
           },
           "baxis": {
            "gridcolor": "white",
            "linecolor": "white",
            "ticks": ""
           },
           "bgcolor": "#E5ECF6",
           "caxis": {
            "gridcolor": "white",
            "linecolor": "white",
            "ticks": ""
           }
          },
          "title": {
           "x": 0.05
          },
          "xaxis": {
           "automargin": true,
           "gridcolor": "white",
           "linecolor": "white",
           "ticks": "",
           "title": {
            "standoff": 15
           },
           "zerolinecolor": "white",
           "zerolinewidth": 2
          },
          "yaxis": {
           "automargin": true,
           "gridcolor": "white",
           "linecolor": "white",
           "ticks": "",
           "title": {
            "standoff": 15
           },
           "zerolinecolor": "white",
           "zerolinewidth": 2
          }
         }
        },
        "title": {
         "text": "Total Cashback Value for 2021"
        },
        "width": 900,
        "xaxis": {
         "ticktext": [
          "Jan",
          "Feb",
          "Mar",
          "Apr",
          "May",
          "Jun",
          "Jul",
          "Aug",
          "Sep",
          "Oct",
          "Nov",
          "Dec"
         ],
         "tickvals": [
          1,
          2,
          3,
          4,
          5,
          6,
          7,
          8,
          9,
          10,
          11,
          12
         ],
         "title": {
          "text": "Month"
         }
        },
        "yaxis": {
         "title": {
          "text": "Total Cashback Value"
         }
        }
       }
      }
     },
     "metadata": {},
     "output_type": "display_data"
    },
    {
     "data": {
      "application/vnd.plotly.v1+json": {
       "config": {
        "plotlyServerURL": "https://plot.ly"
       },
       "data": [
        {
         "name": "2022",
         "type": "bar",
         "x": [
          1,
          3,
          4,
          5,
          6,
          7,
          8,
          9,
          10,
          11,
          12
         ],
         "y": [
          1.2746666666666666,
          0.509625,
          0.47731250000000003,
          0.3490264317180617,
          0.6916796116504854,
          0.3426305732484076,
          0.33762105263157893,
          1.0047883597883598,
          0.5649238095238096,
          0.258953216374269,
          0.2944402173913043
         ]
        }
       ],
       "layout": {
        "height": 600,
        "template": {
         "data": {
          "bar": [
           {
            "error_x": {
             "color": "#2a3f5f"
            },
            "error_y": {
             "color": "#2a3f5f"
            },
            "marker": {
             "line": {
              "color": "#E5ECF6",
              "width": 0.5
             },
             "pattern": {
              "fillmode": "overlay",
              "size": 10,
              "solidity": 0.2
             }
            },
            "type": "bar"
           }
          ],
          "barpolar": [
           {
            "marker": {
             "line": {
              "color": "#E5ECF6",
              "width": 0.5
             },
             "pattern": {
              "fillmode": "overlay",
              "size": 10,
              "solidity": 0.2
             }
            },
            "type": "barpolar"
           }
          ],
          "carpet": [
           {
            "aaxis": {
             "endlinecolor": "#2a3f5f",
             "gridcolor": "white",
             "linecolor": "white",
             "minorgridcolor": "white",
             "startlinecolor": "#2a3f5f"
            },
            "baxis": {
             "endlinecolor": "#2a3f5f",
             "gridcolor": "white",
             "linecolor": "white",
             "minorgridcolor": "white",
             "startlinecolor": "#2a3f5f"
            },
            "type": "carpet"
           }
          ],
          "choropleth": [
           {
            "colorbar": {
             "outlinewidth": 0,
             "ticks": ""
            },
            "type": "choropleth"
           }
          ],
          "contour": [
           {
            "colorbar": {
             "outlinewidth": 0,
             "ticks": ""
            },
            "colorscale": [
             [
              0,
              "#0d0887"
             ],
             [
              0.1111111111111111,
              "#46039f"
             ],
             [
              0.2222222222222222,
              "#7201a8"
             ],
             [
              0.3333333333333333,
              "#9c179e"
             ],
             [
              0.4444444444444444,
              "#bd3786"
             ],
             [
              0.5555555555555556,
              "#d8576b"
             ],
             [
              0.6666666666666666,
              "#ed7953"
             ],
             [
              0.7777777777777778,
              "#fb9f3a"
             ],
             [
              0.8888888888888888,
              "#fdca26"
             ],
             [
              1,
              "#f0f921"
             ]
            ],
            "type": "contour"
           }
          ],
          "contourcarpet": [
           {
            "colorbar": {
             "outlinewidth": 0,
             "ticks": ""
            },
            "type": "contourcarpet"
           }
          ],
          "heatmap": [
           {
            "colorbar": {
             "outlinewidth": 0,
             "ticks": ""
            },
            "colorscale": [
             [
              0,
              "#0d0887"
             ],
             [
              0.1111111111111111,
              "#46039f"
             ],
             [
              0.2222222222222222,
              "#7201a8"
             ],
             [
              0.3333333333333333,
              "#9c179e"
             ],
             [
              0.4444444444444444,
              "#bd3786"
             ],
             [
              0.5555555555555556,
              "#d8576b"
             ],
             [
              0.6666666666666666,
              "#ed7953"
             ],
             [
              0.7777777777777778,
              "#fb9f3a"
             ],
             [
              0.8888888888888888,
              "#fdca26"
             ],
             [
              1,
              "#f0f921"
             ]
            ],
            "type": "heatmap"
           }
          ],
          "heatmapgl": [
           {
            "colorbar": {
             "outlinewidth": 0,
             "ticks": ""
            },
            "colorscale": [
             [
              0,
              "#0d0887"
             ],
             [
              0.1111111111111111,
              "#46039f"
             ],
             [
              0.2222222222222222,
              "#7201a8"
             ],
             [
              0.3333333333333333,
              "#9c179e"
             ],
             [
              0.4444444444444444,
              "#bd3786"
             ],
             [
              0.5555555555555556,
              "#d8576b"
             ],
             [
              0.6666666666666666,
              "#ed7953"
             ],
             [
              0.7777777777777778,
              "#fb9f3a"
             ],
             [
              0.8888888888888888,
              "#fdca26"
             ],
             [
              1,
              "#f0f921"
             ]
            ],
            "type": "heatmapgl"
           }
          ],
          "histogram": [
           {
            "marker": {
             "pattern": {
              "fillmode": "overlay",
              "size": 10,
              "solidity": 0.2
             }
            },
            "type": "histogram"
           }
          ],
          "histogram2d": [
           {
            "colorbar": {
             "outlinewidth": 0,
             "ticks": ""
            },
            "colorscale": [
             [
              0,
              "#0d0887"
             ],
             [
              0.1111111111111111,
              "#46039f"
             ],
             [
              0.2222222222222222,
              "#7201a8"
             ],
             [
              0.3333333333333333,
              "#9c179e"
             ],
             [
              0.4444444444444444,
              "#bd3786"
             ],
             [
              0.5555555555555556,
              "#d8576b"
             ],
             [
              0.6666666666666666,
              "#ed7953"
             ],
             [
              0.7777777777777778,
              "#fb9f3a"
             ],
             [
              0.8888888888888888,
              "#fdca26"
             ],
             [
              1,
              "#f0f921"
             ]
            ],
            "type": "histogram2d"
           }
          ],
          "histogram2dcontour": [
           {
            "colorbar": {
             "outlinewidth": 0,
             "ticks": ""
            },
            "colorscale": [
             [
              0,
              "#0d0887"
             ],
             [
              0.1111111111111111,
              "#46039f"
             ],
             [
              0.2222222222222222,
              "#7201a8"
             ],
             [
              0.3333333333333333,
              "#9c179e"
             ],
             [
              0.4444444444444444,
              "#bd3786"
             ],
             [
              0.5555555555555556,
              "#d8576b"
             ],
             [
              0.6666666666666666,
              "#ed7953"
             ],
             [
              0.7777777777777778,
              "#fb9f3a"
             ],
             [
              0.8888888888888888,
              "#fdca26"
             ],
             [
              1,
              "#f0f921"
             ]
            ],
            "type": "histogram2dcontour"
           }
          ],
          "mesh3d": [
           {
            "colorbar": {
             "outlinewidth": 0,
             "ticks": ""
            },
            "type": "mesh3d"
           }
          ],
          "parcoords": [
           {
            "line": {
             "colorbar": {
              "outlinewidth": 0,
              "ticks": ""
             }
            },
            "type": "parcoords"
           }
          ],
          "pie": [
           {
            "automargin": true,
            "type": "pie"
           }
          ],
          "scatter": [
           {
            "fillpattern": {
             "fillmode": "overlay",
             "size": 10,
             "solidity": 0.2
            },
            "type": "scatter"
           }
          ],
          "scatter3d": [
           {
            "line": {
             "colorbar": {
              "outlinewidth": 0,
              "ticks": ""
             }
            },
            "marker": {
             "colorbar": {
              "outlinewidth": 0,
              "ticks": ""
             }
            },
            "type": "scatter3d"
           }
          ],
          "scattercarpet": [
           {
            "marker": {
             "colorbar": {
              "outlinewidth": 0,
              "ticks": ""
             }
            },
            "type": "scattercarpet"
           }
          ],
          "scattergeo": [
           {
            "marker": {
             "colorbar": {
              "outlinewidth": 0,
              "ticks": ""
             }
            },
            "type": "scattergeo"
           }
          ],
          "scattergl": [
           {
            "marker": {
             "colorbar": {
              "outlinewidth": 0,
              "ticks": ""
             }
            },
            "type": "scattergl"
           }
          ],
          "scattermapbox": [
           {
            "marker": {
             "colorbar": {
              "outlinewidth": 0,
              "ticks": ""
             }
            },
            "type": "scattermapbox"
           }
          ],
          "scatterpolar": [
           {
            "marker": {
             "colorbar": {
              "outlinewidth": 0,
              "ticks": ""
             }
            },
            "type": "scatterpolar"
           }
          ],
          "scatterpolargl": [
           {
            "marker": {
             "colorbar": {
              "outlinewidth": 0,
              "ticks": ""
             }
            },
            "type": "scatterpolargl"
           }
          ],
          "scatterternary": [
           {
            "marker": {
             "colorbar": {
              "outlinewidth": 0,
              "ticks": ""
             }
            },
            "type": "scatterternary"
           }
          ],
          "surface": [
           {
            "colorbar": {
             "outlinewidth": 0,
             "ticks": ""
            },
            "colorscale": [
             [
              0,
              "#0d0887"
             ],
             [
              0.1111111111111111,
              "#46039f"
             ],
             [
              0.2222222222222222,
              "#7201a8"
             ],
             [
              0.3333333333333333,
              "#9c179e"
             ],
             [
              0.4444444444444444,
              "#bd3786"
             ],
             [
              0.5555555555555556,
              "#d8576b"
             ],
             [
              0.6666666666666666,
              "#ed7953"
             ],
             [
              0.7777777777777778,
              "#fb9f3a"
             ],
             [
              0.8888888888888888,
              "#fdca26"
             ],
             [
              1,
              "#f0f921"
             ]
            ],
            "type": "surface"
           }
          ],
          "table": [
           {
            "cells": {
             "fill": {
              "color": "#EBF0F8"
             },
             "line": {
              "color": "white"
             }
            },
            "header": {
             "fill": {
              "color": "#C8D4E3"
             },
             "line": {
              "color": "white"
             }
            },
            "type": "table"
           }
          ]
         },
         "layout": {
          "annotationdefaults": {
           "arrowcolor": "#2a3f5f",
           "arrowhead": 0,
           "arrowwidth": 1
          },
          "autotypenumbers": "strict",
          "coloraxis": {
           "colorbar": {
            "outlinewidth": 0,
            "ticks": ""
           }
          },
          "colorscale": {
           "diverging": [
            [
             0,
             "#8e0152"
            ],
            [
             0.1,
             "#c51b7d"
            ],
            [
             0.2,
             "#de77ae"
            ],
            [
             0.3,
             "#f1b6da"
            ],
            [
             0.4,
             "#fde0ef"
            ],
            [
             0.5,
             "#f7f7f7"
            ],
            [
             0.6,
             "#e6f5d0"
            ],
            [
             0.7,
             "#b8e186"
            ],
            [
             0.8,
             "#7fbc41"
            ],
            [
             0.9,
             "#4d9221"
            ],
            [
             1,
             "#276419"
            ]
           ],
           "sequential": [
            [
             0,
             "#0d0887"
            ],
            [
             0.1111111111111111,
             "#46039f"
            ],
            [
             0.2222222222222222,
             "#7201a8"
            ],
            [
             0.3333333333333333,
             "#9c179e"
            ],
            [
             0.4444444444444444,
             "#bd3786"
            ],
            [
             0.5555555555555556,
             "#d8576b"
            ],
            [
             0.6666666666666666,
             "#ed7953"
            ],
            [
             0.7777777777777778,
             "#fb9f3a"
            ],
            [
             0.8888888888888888,
             "#fdca26"
            ],
            [
             1,
             "#f0f921"
            ]
           ],
           "sequentialminus": [
            [
             0,
             "#0d0887"
            ],
            [
             0.1111111111111111,
             "#46039f"
            ],
            [
             0.2222222222222222,
             "#7201a8"
            ],
            [
             0.3333333333333333,
             "#9c179e"
            ],
            [
             0.4444444444444444,
             "#bd3786"
            ],
            [
             0.5555555555555556,
             "#d8576b"
            ],
            [
             0.6666666666666666,
             "#ed7953"
            ],
            [
             0.7777777777777778,
             "#fb9f3a"
            ],
            [
             0.8888888888888888,
             "#fdca26"
            ],
            [
             1,
             "#f0f921"
            ]
           ]
          },
          "colorway": [
           "#636efa",
           "#EF553B",
           "#00cc96",
           "#ab63fa",
           "#FFA15A",
           "#19d3f3",
           "#FF6692",
           "#B6E880",
           "#FF97FF",
           "#FECB52"
          ],
          "font": {
           "color": "#2a3f5f"
          },
          "geo": {
           "bgcolor": "white",
           "lakecolor": "white",
           "landcolor": "#E5ECF6",
           "showlakes": true,
           "showland": true,
           "subunitcolor": "white"
          },
          "hoverlabel": {
           "align": "left"
          },
          "hovermode": "closest",
          "mapbox": {
           "style": "light"
          },
          "paper_bgcolor": "white",
          "plot_bgcolor": "#E5ECF6",
          "polar": {
           "angularaxis": {
            "gridcolor": "white",
            "linecolor": "white",
            "ticks": ""
           },
           "bgcolor": "#E5ECF6",
           "radialaxis": {
            "gridcolor": "white",
            "linecolor": "white",
            "ticks": ""
           }
          },
          "scene": {
           "xaxis": {
            "backgroundcolor": "#E5ECF6",
            "gridcolor": "white",
            "gridwidth": 2,
            "linecolor": "white",
            "showbackground": true,
            "ticks": "",
            "zerolinecolor": "white"
           },
           "yaxis": {
            "backgroundcolor": "#E5ECF6",
            "gridcolor": "white",
            "gridwidth": 2,
            "linecolor": "white",
            "showbackground": true,
            "ticks": "",
            "zerolinecolor": "white"
           },
           "zaxis": {
            "backgroundcolor": "#E5ECF6",
            "gridcolor": "white",
            "gridwidth": 2,
            "linecolor": "white",
            "showbackground": true,
            "ticks": "",
            "zerolinecolor": "white"
           }
          },
          "shapedefaults": {
           "line": {
            "color": "#2a3f5f"
           }
          },
          "ternary": {
           "aaxis": {
            "gridcolor": "white",
            "linecolor": "white",
            "ticks": ""
           },
           "baxis": {
            "gridcolor": "white",
            "linecolor": "white",
            "ticks": ""
           },
           "bgcolor": "#E5ECF6",
           "caxis": {
            "gridcolor": "white",
            "linecolor": "white",
            "ticks": ""
           }
          },
          "title": {
           "x": 0.05
          },
          "xaxis": {
           "automargin": true,
           "gridcolor": "white",
           "linecolor": "white",
           "ticks": "",
           "title": {
            "standoff": 15
           },
           "zerolinecolor": "white",
           "zerolinewidth": 2
          },
          "yaxis": {
           "automargin": true,
           "gridcolor": "white",
           "linecolor": "white",
           "ticks": "",
           "title": {
            "standoff": 15
           },
           "zerolinecolor": "white",
           "zerolinewidth": 2
          }
         }
        },
        "title": {
         "text": "Total Cashback Value for 2022"
        },
        "width": 900,
        "xaxis": {
         "ticktext": [
          "Jan",
          "Feb",
          "Mar",
          "Apr",
          "May",
          "Jun",
          "Jul",
          "Aug",
          "Sep",
          "Oct",
          "Nov",
          "Dec"
         ],
         "tickvals": [
          1,
          2,
          3,
          4,
          5,
          6,
          7,
          8,
          9,
          10,
          11,
          12
         ],
         "title": {
          "text": "Month"
         }
        },
        "yaxis": {
         "title": {
          "text": "Total Cashback Value"
         }
        }
       }
      }
     },
     "metadata": {},
     "output_type": "display_data"
    },
    {
     "data": {
      "application/vnd.plotly.v1+json": {
       "config": {
        "plotlyServerURL": "https://plot.ly"
       },
       "data": [
        {
         "name": "2023",
         "type": "bar",
         "x": [
          1,
          2,
          3,
          4,
          5,
          6,
          7,
          8,
          9,
          10,
          11,
          12
         ],
         "y": [
          0.2047003610108303,
          0.12559779614325067,
          0.23221374045801527,
          0.17573076923076922,
          0.24818072289156626,
          0.22536320754716982,
          0.22197069597069596,
          0.279280701754386,
          0.4146061204343534,
          0.3769863861386139,
          0.7278395604395603,
          0.2577471861471861
         ]
        }
       ],
       "layout": {
        "height": 600,
        "template": {
         "data": {
          "bar": [
           {
            "error_x": {
             "color": "#2a3f5f"
            },
            "error_y": {
             "color": "#2a3f5f"
            },
            "marker": {
             "line": {
              "color": "#E5ECF6",
              "width": 0.5
             },
             "pattern": {
              "fillmode": "overlay",
              "size": 10,
              "solidity": 0.2
             }
            },
            "type": "bar"
           }
          ],
          "barpolar": [
           {
            "marker": {
             "line": {
              "color": "#E5ECF6",
              "width": 0.5
             },
             "pattern": {
              "fillmode": "overlay",
              "size": 10,
              "solidity": 0.2
             }
            },
            "type": "barpolar"
           }
          ],
          "carpet": [
           {
            "aaxis": {
             "endlinecolor": "#2a3f5f",
             "gridcolor": "white",
             "linecolor": "white",
             "minorgridcolor": "white",
             "startlinecolor": "#2a3f5f"
            },
            "baxis": {
             "endlinecolor": "#2a3f5f",
             "gridcolor": "white",
             "linecolor": "white",
             "minorgridcolor": "white",
             "startlinecolor": "#2a3f5f"
            },
            "type": "carpet"
           }
          ],
          "choropleth": [
           {
            "colorbar": {
             "outlinewidth": 0,
             "ticks": ""
            },
            "type": "choropleth"
           }
          ],
          "contour": [
           {
            "colorbar": {
             "outlinewidth": 0,
             "ticks": ""
            },
            "colorscale": [
             [
              0,
              "#0d0887"
             ],
             [
              0.1111111111111111,
              "#46039f"
             ],
             [
              0.2222222222222222,
              "#7201a8"
             ],
             [
              0.3333333333333333,
              "#9c179e"
             ],
             [
              0.4444444444444444,
              "#bd3786"
             ],
             [
              0.5555555555555556,
              "#d8576b"
             ],
             [
              0.6666666666666666,
              "#ed7953"
             ],
             [
              0.7777777777777778,
              "#fb9f3a"
             ],
             [
              0.8888888888888888,
              "#fdca26"
             ],
             [
              1,
              "#f0f921"
             ]
            ],
            "type": "contour"
           }
          ],
          "contourcarpet": [
           {
            "colorbar": {
             "outlinewidth": 0,
             "ticks": ""
            },
            "type": "contourcarpet"
           }
          ],
          "heatmap": [
           {
            "colorbar": {
             "outlinewidth": 0,
             "ticks": ""
            },
            "colorscale": [
             [
              0,
              "#0d0887"
             ],
             [
              0.1111111111111111,
              "#46039f"
             ],
             [
              0.2222222222222222,
              "#7201a8"
             ],
             [
              0.3333333333333333,
              "#9c179e"
             ],
             [
              0.4444444444444444,
              "#bd3786"
             ],
             [
              0.5555555555555556,
              "#d8576b"
             ],
             [
              0.6666666666666666,
              "#ed7953"
             ],
             [
              0.7777777777777778,
              "#fb9f3a"
             ],
             [
              0.8888888888888888,
              "#fdca26"
             ],
             [
              1,
              "#f0f921"
             ]
            ],
            "type": "heatmap"
           }
          ],
          "heatmapgl": [
           {
            "colorbar": {
             "outlinewidth": 0,
             "ticks": ""
            },
            "colorscale": [
             [
              0,
              "#0d0887"
             ],
             [
              0.1111111111111111,
              "#46039f"
             ],
             [
              0.2222222222222222,
              "#7201a8"
             ],
             [
              0.3333333333333333,
              "#9c179e"
             ],
             [
              0.4444444444444444,
              "#bd3786"
             ],
             [
              0.5555555555555556,
              "#d8576b"
             ],
             [
              0.6666666666666666,
              "#ed7953"
             ],
             [
              0.7777777777777778,
              "#fb9f3a"
             ],
             [
              0.8888888888888888,
              "#fdca26"
             ],
             [
              1,
              "#f0f921"
             ]
            ],
            "type": "heatmapgl"
           }
          ],
          "histogram": [
           {
            "marker": {
             "pattern": {
              "fillmode": "overlay",
              "size": 10,
              "solidity": 0.2
             }
            },
            "type": "histogram"
           }
          ],
          "histogram2d": [
           {
            "colorbar": {
             "outlinewidth": 0,
             "ticks": ""
            },
            "colorscale": [
             [
              0,
              "#0d0887"
             ],
             [
              0.1111111111111111,
              "#46039f"
             ],
             [
              0.2222222222222222,
              "#7201a8"
             ],
             [
              0.3333333333333333,
              "#9c179e"
             ],
             [
              0.4444444444444444,
              "#bd3786"
             ],
             [
              0.5555555555555556,
              "#d8576b"
             ],
             [
              0.6666666666666666,
              "#ed7953"
             ],
             [
              0.7777777777777778,
              "#fb9f3a"
             ],
             [
              0.8888888888888888,
              "#fdca26"
             ],
             [
              1,
              "#f0f921"
             ]
            ],
            "type": "histogram2d"
           }
          ],
          "histogram2dcontour": [
           {
            "colorbar": {
             "outlinewidth": 0,
             "ticks": ""
            },
            "colorscale": [
             [
              0,
              "#0d0887"
             ],
             [
              0.1111111111111111,
              "#46039f"
             ],
             [
              0.2222222222222222,
              "#7201a8"
             ],
             [
              0.3333333333333333,
              "#9c179e"
             ],
             [
              0.4444444444444444,
              "#bd3786"
             ],
             [
              0.5555555555555556,
              "#d8576b"
             ],
             [
              0.6666666666666666,
              "#ed7953"
             ],
             [
              0.7777777777777778,
              "#fb9f3a"
             ],
             [
              0.8888888888888888,
              "#fdca26"
             ],
             [
              1,
              "#f0f921"
             ]
            ],
            "type": "histogram2dcontour"
           }
          ],
          "mesh3d": [
           {
            "colorbar": {
             "outlinewidth": 0,
             "ticks": ""
            },
            "type": "mesh3d"
           }
          ],
          "parcoords": [
           {
            "line": {
             "colorbar": {
              "outlinewidth": 0,
              "ticks": ""
             }
            },
            "type": "parcoords"
           }
          ],
          "pie": [
           {
            "automargin": true,
            "type": "pie"
           }
          ],
          "scatter": [
           {
            "fillpattern": {
             "fillmode": "overlay",
             "size": 10,
             "solidity": 0.2
            },
            "type": "scatter"
           }
          ],
          "scatter3d": [
           {
            "line": {
             "colorbar": {
              "outlinewidth": 0,
              "ticks": ""
             }
            },
            "marker": {
             "colorbar": {
              "outlinewidth": 0,
              "ticks": ""
             }
            },
            "type": "scatter3d"
           }
          ],
          "scattercarpet": [
           {
            "marker": {
             "colorbar": {
              "outlinewidth": 0,
              "ticks": ""
             }
            },
            "type": "scattercarpet"
           }
          ],
          "scattergeo": [
           {
            "marker": {
             "colorbar": {
              "outlinewidth": 0,
              "ticks": ""
             }
            },
            "type": "scattergeo"
           }
          ],
          "scattergl": [
           {
            "marker": {
             "colorbar": {
              "outlinewidth": 0,
              "ticks": ""
             }
            },
            "type": "scattergl"
           }
          ],
          "scattermapbox": [
           {
            "marker": {
             "colorbar": {
              "outlinewidth": 0,
              "ticks": ""
             }
            },
            "type": "scattermapbox"
           }
          ],
          "scatterpolar": [
           {
            "marker": {
             "colorbar": {
              "outlinewidth": 0,
              "ticks": ""
             }
            },
            "type": "scatterpolar"
           }
          ],
          "scatterpolargl": [
           {
            "marker": {
             "colorbar": {
              "outlinewidth": 0,
              "ticks": ""
             }
            },
            "type": "scatterpolargl"
           }
          ],
          "scatterternary": [
           {
            "marker": {
             "colorbar": {
              "outlinewidth": 0,
              "ticks": ""
             }
            },
            "type": "scatterternary"
           }
          ],
          "surface": [
           {
            "colorbar": {
             "outlinewidth": 0,
             "ticks": ""
            },
            "colorscale": [
             [
              0,
              "#0d0887"
             ],
             [
              0.1111111111111111,
              "#46039f"
             ],
             [
              0.2222222222222222,
              "#7201a8"
             ],
             [
              0.3333333333333333,
              "#9c179e"
             ],
             [
              0.4444444444444444,
              "#bd3786"
             ],
             [
              0.5555555555555556,
              "#d8576b"
             ],
             [
              0.6666666666666666,
              "#ed7953"
             ],
             [
              0.7777777777777778,
              "#fb9f3a"
             ],
             [
              0.8888888888888888,
              "#fdca26"
             ],
             [
              1,
              "#f0f921"
             ]
            ],
            "type": "surface"
           }
          ],
          "table": [
           {
            "cells": {
             "fill": {
              "color": "#EBF0F8"
             },
             "line": {
              "color": "white"
             }
            },
            "header": {
             "fill": {
              "color": "#C8D4E3"
             },
             "line": {
              "color": "white"
             }
            },
            "type": "table"
           }
          ]
         },
         "layout": {
          "annotationdefaults": {
           "arrowcolor": "#2a3f5f",
           "arrowhead": 0,
           "arrowwidth": 1
          },
          "autotypenumbers": "strict",
          "coloraxis": {
           "colorbar": {
            "outlinewidth": 0,
            "ticks": ""
           }
          },
          "colorscale": {
           "diverging": [
            [
             0,
             "#8e0152"
            ],
            [
             0.1,
             "#c51b7d"
            ],
            [
             0.2,
             "#de77ae"
            ],
            [
             0.3,
             "#f1b6da"
            ],
            [
             0.4,
             "#fde0ef"
            ],
            [
             0.5,
             "#f7f7f7"
            ],
            [
             0.6,
             "#e6f5d0"
            ],
            [
             0.7,
             "#b8e186"
            ],
            [
             0.8,
             "#7fbc41"
            ],
            [
             0.9,
             "#4d9221"
            ],
            [
             1,
             "#276419"
            ]
           ],
           "sequential": [
            [
             0,
             "#0d0887"
            ],
            [
             0.1111111111111111,
             "#46039f"
            ],
            [
             0.2222222222222222,
             "#7201a8"
            ],
            [
             0.3333333333333333,
             "#9c179e"
            ],
            [
             0.4444444444444444,
             "#bd3786"
            ],
            [
             0.5555555555555556,
             "#d8576b"
            ],
            [
             0.6666666666666666,
             "#ed7953"
            ],
            [
             0.7777777777777778,
             "#fb9f3a"
            ],
            [
             0.8888888888888888,
             "#fdca26"
            ],
            [
             1,
             "#f0f921"
            ]
           ],
           "sequentialminus": [
            [
             0,
             "#0d0887"
            ],
            [
             0.1111111111111111,
             "#46039f"
            ],
            [
             0.2222222222222222,
             "#7201a8"
            ],
            [
             0.3333333333333333,
             "#9c179e"
            ],
            [
             0.4444444444444444,
             "#bd3786"
            ],
            [
             0.5555555555555556,
             "#d8576b"
            ],
            [
             0.6666666666666666,
             "#ed7953"
            ],
            [
             0.7777777777777778,
             "#fb9f3a"
            ],
            [
             0.8888888888888888,
             "#fdca26"
            ],
            [
             1,
             "#f0f921"
            ]
           ]
          },
          "colorway": [
           "#636efa",
           "#EF553B",
           "#00cc96",
           "#ab63fa",
           "#FFA15A",
           "#19d3f3",
           "#FF6692",
           "#B6E880",
           "#FF97FF",
           "#FECB52"
          ],
          "font": {
           "color": "#2a3f5f"
          },
          "geo": {
           "bgcolor": "white",
           "lakecolor": "white",
           "landcolor": "#E5ECF6",
           "showlakes": true,
           "showland": true,
           "subunitcolor": "white"
          },
          "hoverlabel": {
           "align": "left"
          },
          "hovermode": "closest",
          "mapbox": {
           "style": "light"
          },
          "paper_bgcolor": "white",
          "plot_bgcolor": "#E5ECF6",
          "polar": {
           "angularaxis": {
            "gridcolor": "white",
            "linecolor": "white",
            "ticks": ""
           },
           "bgcolor": "#E5ECF6",
           "radialaxis": {
            "gridcolor": "white",
            "linecolor": "white",
            "ticks": ""
           }
          },
          "scene": {
           "xaxis": {
            "backgroundcolor": "#E5ECF6",
            "gridcolor": "white",
            "gridwidth": 2,
            "linecolor": "white",
            "showbackground": true,
            "ticks": "",
            "zerolinecolor": "white"
           },
           "yaxis": {
            "backgroundcolor": "#E5ECF6",
            "gridcolor": "white",
            "gridwidth": 2,
            "linecolor": "white",
            "showbackground": true,
            "ticks": "",
            "zerolinecolor": "white"
           },
           "zaxis": {
            "backgroundcolor": "#E5ECF6",
            "gridcolor": "white",
            "gridwidth": 2,
            "linecolor": "white",
            "showbackground": true,
            "ticks": "",
            "zerolinecolor": "white"
           }
          },
          "shapedefaults": {
           "line": {
            "color": "#2a3f5f"
           }
          },
          "ternary": {
           "aaxis": {
            "gridcolor": "white",
            "linecolor": "white",
            "ticks": ""
           },
           "baxis": {
            "gridcolor": "white",
            "linecolor": "white",
            "ticks": ""
           },
           "bgcolor": "#E5ECF6",
           "caxis": {
            "gridcolor": "white",
            "linecolor": "white",
            "ticks": ""
           }
          },
          "title": {
           "x": 0.05
          },
          "xaxis": {
           "automargin": true,
           "gridcolor": "white",
           "linecolor": "white",
           "ticks": "",
           "title": {
            "standoff": 15
           },
           "zerolinecolor": "white",
           "zerolinewidth": 2
          },
          "yaxis": {
           "automargin": true,
           "gridcolor": "white",
           "linecolor": "white",
           "ticks": "",
           "title": {
            "standoff": 15
           },
           "zerolinecolor": "white",
           "zerolinewidth": 2
          }
         }
        },
        "title": {
         "text": "Total Cashback Value for 2023"
        },
        "width": 900,
        "xaxis": {
         "ticktext": [
          "Jan",
          "Feb",
          "Mar",
          "Apr",
          "May",
          "Jun",
          "Jul",
          "Aug",
          "Sep",
          "Oct",
          "Nov",
          "Dec"
         ],
         "tickvals": [
          1,
          2,
          3,
          4,
          5,
          6,
          7,
          8,
          9,
          10,
          11,
          12
         ],
         "title": {
          "text": "Month"
         }
        },
        "yaxis": {
         "title": {
          "text": "Total Cashback Value"
         }
        }
       }
      }
     },
     "metadata": {},
     "output_type": "display_data"
    },
    {
     "data": {
      "application/vnd.plotly.v1+json": {
       "config": {
        "plotlyServerURL": "https://plot.ly"
       },
       "data": [
        {
         "name": "2024",
         "type": "bar",
         "x": [
          1,
          2,
          3,
          4,
          5,
          6
         ],
         "y": [
          0.3544413043478261,
          0.4098389513108614,
          0.4187105943152455,
          0.36346639784946233,
          0.28294774011299434,
          7.261318681318681
         ]
        }
       ],
       "layout": {
        "height": 600,
        "template": {
         "data": {
          "bar": [
           {
            "error_x": {
             "color": "#2a3f5f"
            },
            "error_y": {
             "color": "#2a3f5f"
            },
            "marker": {
             "line": {
              "color": "#E5ECF6",
              "width": 0.5
             },
             "pattern": {
              "fillmode": "overlay",
              "size": 10,
              "solidity": 0.2
             }
            },
            "type": "bar"
           }
          ],
          "barpolar": [
           {
            "marker": {
             "line": {
              "color": "#E5ECF6",
              "width": 0.5
             },
             "pattern": {
              "fillmode": "overlay",
              "size": 10,
              "solidity": 0.2
             }
            },
            "type": "barpolar"
           }
          ],
          "carpet": [
           {
            "aaxis": {
             "endlinecolor": "#2a3f5f",
             "gridcolor": "white",
             "linecolor": "white",
             "minorgridcolor": "white",
             "startlinecolor": "#2a3f5f"
            },
            "baxis": {
             "endlinecolor": "#2a3f5f",
             "gridcolor": "white",
             "linecolor": "white",
             "minorgridcolor": "white",
             "startlinecolor": "#2a3f5f"
            },
            "type": "carpet"
           }
          ],
          "choropleth": [
           {
            "colorbar": {
             "outlinewidth": 0,
             "ticks": ""
            },
            "type": "choropleth"
           }
          ],
          "contour": [
           {
            "colorbar": {
             "outlinewidth": 0,
             "ticks": ""
            },
            "colorscale": [
             [
              0,
              "#0d0887"
             ],
             [
              0.1111111111111111,
              "#46039f"
             ],
             [
              0.2222222222222222,
              "#7201a8"
             ],
             [
              0.3333333333333333,
              "#9c179e"
             ],
             [
              0.4444444444444444,
              "#bd3786"
             ],
             [
              0.5555555555555556,
              "#d8576b"
             ],
             [
              0.6666666666666666,
              "#ed7953"
             ],
             [
              0.7777777777777778,
              "#fb9f3a"
             ],
             [
              0.8888888888888888,
              "#fdca26"
             ],
             [
              1,
              "#f0f921"
             ]
            ],
            "type": "contour"
           }
          ],
          "contourcarpet": [
           {
            "colorbar": {
             "outlinewidth": 0,
             "ticks": ""
            },
            "type": "contourcarpet"
           }
          ],
          "heatmap": [
           {
            "colorbar": {
             "outlinewidth": 0,
             "ticks": ""
            },
            "colorscale": [
             [
              0,
              "#0d0887"
             ],
             [
              0.1111111111111111,
              "#46039f"
             ],
             [
              0.2222222222222222,
              "#7201a8"
             ],
             [
              0.3333333333333333,
              "#9c179e"
             ],
             [
              0.4444444444444444,
              "#bd3786"
             ],
             [
              0.5555555555555556,
              "#d8576b"
             ],
             [
              0.6666666666666666,
              "#ed7953"
             ],
             [
              0.7777777777777778,
              "#fb9f3a"
             ],
             [
              0.8888888888888888,
              "#fdca26"
             ],
             [
              1,
              "#f0f921"
             ]
            ],
            "type": "heatmap"
           }
          ],
          "heatmapgl": [
           {
            "colorbar": {
             "outlinewidth": 0,
             "ticks": ""
            },
            "colorscale": [
             [
              0,
              "#0d0887"
             ],
             [
              0.1111111111111111,
              "#46039f"
             ],
             [
              0.2222222222222222,
              "#7201a8"
             ],
             [
              0.3333333333333333,
              "#9c179e"
             ],
             [
              0.4444444444444444,
              "#bd3786"
             ],
             [
              0.5555555555555556,
              "#d8576b"
             ],
             [
              0.6666666666666666,
              "#ed7953"
             ],
             [
              0.7777777777777778,
              "#fb9f3a"
             ],
             [
              0.8888888888888888,
              "#fdca26"
             ],
             [
              1,
              "#f0f921"
             ]
            ],
            "type": "heatmapgl"
           }
          ],
          "histogram": [
           {
            "marker": {
             "pattern": {
              "fillmode": "overlay",
              "size": 10,
              "solidity": 0.2
             }
            },
            "type": "histogram"
           }
          ],
          "histogram2d": [
           {
            "colorbar": {
             "outlinewidth": 0,
             "ticks": ""
            },
            "colorscale": [
             [
              0,
              "#0d0887"
             ],
             [
              0.1111111111111111,
              "#46039f"
             ],
             [
              0.2222222222222222,
              "#7201a8"
             ],
             [
              0.3333333333333333,
              "#9c179e"
             ],
             [
              0.4444444444444444,
              "#bd3786"
             ],
             [
              0.5555555555555556,
              "#d8576b"
             ],
             [
              0.6666666666666666,
              "#ed7953"
             ],
             [
              0.7777777777777778,
              "#fb9f3a"
             ],
             [
              0.8888888888888888,
              "#fdca26"
             ],
             [
              1,
              "#f0f921"
             ]
            ],
            "type": "histogram2d"
           }
          ],
          "histogram2dcontour": [
           {
            "colorbar": {
             "outlinewidth": 0,
             "ticks": ""
            },
            "colorscale": [
             [
              0,
              "#0d0887"
             ],
             [
              0.1111111111111111,
              "#46039f"
             ],
             [
              0.2222222222222222,
              "#7201a8"
             ],
             [
              0.3333333333333333,
              "#9c179e"
             ],
             [
              0.4444444444444444,
              "#bd3786"
             ],
             [
              0.5555555555555556,
              "#d8576b"
             ],
             [
              0.6666666666666666,
              "#ed7953"
             ],
             [
              0.7777777777777778,
              "#fb9f3a"
             ],
             [
              0.8888888888888888,
              "#fdca26"
             ],
             [
              1,
              "#f0f921"
             ]
            ],
            "type": "histogram2dcontour"
           }
          ],
          "mesh3d": [
           {
            "colorbar": {
             "outlinewidth": 0,
             "ticks": ""
            },
            "type": "mesh3d"
           }
          ],
          "parcoords": [
           {
            "line": {
             "colorbar": {
              "outlinewidth": 0,
              "ticks": ""
             }
            },
            "type": "parcoords"
           }
          ],
          "pie": [
           {
            "automargin": true,
            "type": "pie"
           }
          ],
          "scatter": [
           {
            "fillpattern": {
             "fillmode": "overlay",
             "size": 10,
             "solidity": 0.2
            },
            "type": "scatter"
           }
          ],
          "scatter3d": [
           {
            "line": {
             "colorbar": {
              "outlinewidth": 0,
              "ticks": ""
             }
            },
            "marker": {
             "colorbar": {
              "outlinewidth": 0,
              "ticks": ""
             }
            },
            "type": "scatter3d"
           }
          ],
          "scattercarpet": [
           {
            "marker": {
             "colorbar": {
              "outlinewidth": 0,
              "ticks": ""
             }
            },
            "type": "scattercarpet"
           }
          ],
          "scattergeo": [
           {
            "marker": {
             "colorbar": {
              "outlinewidth": 0,
              "ticks": ""
             }
            },
            "type": "scattergeo"
           }
          ],
          "scattergl": [
           {
            "marker": {
             "colorbar": {
              "outlinewidth": 0,
              "ticks": ""
             }
            },
            "type": "scattergl"
           }
          ],
          "scattermapbox": [
           {
            "marker": {
             "colorbar": {
              "outlinewidth": 0,
              "ticks": ""
             }
            },
            "type": "scattermapbox"
           }
          ],
          "scatterpolar": [
           {
            "marker": {
             "colorbar": {
              "outlinewidth": 0,
              "ticks": ""
             }
            },
            "type": "scatterpolar"
           }
          ],
          "scatterpolargl": [
           {
            "marker": {
             "colorbar": {
              "outlinewidth": 0,
              "ticks": ""
             }
            },
            "type": "scatterpolargl"
           }
          ],
          "scatterternary": [
           {
            "marker": {
             "colorbar": {
              "outlinewidth": 0,
              "ticks": ""
             }
            },
            "type": "scatterternary"
           }
          ],
          "surface": [
           {
            "colorbar": {
             "outlinewidth": 0,
             "ticks": ""
            },
            "colorscale": [
             [
              0,
              "#0d0887"
             ],
             [
              0.1111111111111111,
              "#46039f"
             ],
             [
              0.2222222222222222,
              "#7201a8"
             ],
             [
              0.3333333333333333,
              "#9c179e"
             ],
             [
              0.4444444444444444,
              "#bd3786"
             ],
             [
              0.5555555555555556,
              "#d8576b"
             ],
             [
              0.6666666666666666,
              "#ed7953"
             ],
             [
              0.7777777777777778,
              "#fb9f3a"
             ],
             [
              0.8888888888888888,
              "#fdca26"
             ],
             [
              1,
              "#f0f921"
             ]
            ],
            "type": "surface"
           }
          ],
          "table": [
           {
            "cells": {
             "fill": {
              "color": "#EBF0F8"
             },
             "line": {
              "color": "white"
             }
            },
            "header": {
             "fill": {
              "color": "#C8D4E3"
             },
             "line": {
              "color": "white"
             }
            },
            "type": "table"
           }
          ]
         },
         "layout": {
          "annotationdefaults": {
           "arrowcolor": "#2a3f5f",
           "arrowhead": 0,
           "arrowwidth": 1
          },
          "autotypenumbers": "strict",
          "coloraxis": {
           "colorbar": {
            "outlinewidth": 0,
            "ticks": ""
           }
          },
          "colorscale": {
           "diverging": [
            [
             0,
             "#8e0152"
            ],
            [
             0.1,
             "#c51b7d"
            ],
            [
             0.2,
             "#de77ae"
            ],
            [
             0.3,
             "#f1b6da"
            ],
            [
             0.4,
             "#fde0ef"
            ],
            [
             0.5,
             "#f7f7f7"
            ],
            [
             0.6,
             "#e6f5d0"
            ],
            [
             0.7,
             "#b8e186"
            ],
            [
             0.8,
             "#7fbc41"
            ],
            [
             0.9,
             "#4d9221"
            ],
            [
             1,
             "#276419"
            ]
           ],
           "sequential": [
            [
             0,
             "#0d0887"
            ],
            [
             0.1111111111111111,
             "#46039f"
            ],
            [
             0.2222222222222222,
             "#7201a8"
            ],
            [
             0.3333333333333333,
             "#9c179e"
            ],
            [
             0.4444444444444444,
             "#bd3786"
            ],
            [
             0.5555555555555556,
             "#d8576b"
            ],
            [
             0.6666666666666666,
             "#ed7953"
            ],
            [
             0.7777777777777778,
             "#fb9f3a"
            ],
            [
             0.8888888888888888,
             "#fdca26"
            ],
            [
             1,
             "#f0f921"
            ]
           ],
           "sequentialminus": [
            [
             0,
             "#0d0887"
            ],
            [
             0.1111111111111111,
             "#46039f"
            ],
            [
             0.2222222222222222,
             "#7201a8"
            ],
            [
             0.3333333333333333,
             "#9c179e"
            ],
            [
             0.4444444444444444,
             "#bd3786"
            ],
            [
             0.5555555555555556,
             "#d8576b"
            ],
            [
             0.6666666666666666,
             "#ed7953"
            ],
            [
             0.7777777777777778,
             "#fb9f3a"
            ],
            [
             0.8888888888888888,
             "#fdca26"
            ],
            [
             1,
             "#f0f921"
            ]
           ]
          },
          "colorway": [
           "#636efa",
           "#EF553B",
           "#00cc96",
           "#ab63fa",
           "#FFA15A",
           "#19d3f3",
           "#FF6692",
           "#B6E880",
           "#FF97FF",
           "#FECB52"
          ],
          "font": {
           "color": "#2a3f5f"
          },
          "geo": {
           "bgcolor": "white",
           "lakecolor": "white",
           "landcolor": "#E5ECF6",
           "showlakes": true,
           "showland": true,
           "subunitcolor": "white"
          },
          "hoverlabel": {
           "align": "left"
          },
          "hovermode": "closest",
          "mapbox": {
           "style": "light"
          },
          "paper_bgcolor": "white",
          "plot_bgcolor": "#E5ECF6",
          "polar": {
           "angularaxis": {
            "gridcolor": "white",
            "linecolor": "white",
            "ticks": ""
           },
           "bgcolor": "#E5ECF6",
           "radialaxis": {
            "gridcolor": "white",
            "linecolor": "white",
            "ticks": ""
           }
          },
          "scene": {
           "xaxis": {
            "backgroundcolor": "#E5ECF6",
            "gridcolor": "white",
            "gridwidth": 2,
            "linecolor": "white",
            "showbackground": true,
            "ticks": "",
            "zerolinecolor": "white"
           },
           "yaxis": {
            "backgroundcolor": "#E5ECF6",
            "gridcolor": "white",
            "gridwidth": 2,
            "linecolor": "white",
            "showbackground": true,
            "ticks": "",
            "zerolinecolor": "white"
           },
           "zaxis": {
            "backgroundcolor": "#E5ECF6",
            "gridcolor": "white",
            "gridwidth": 2,
            "linecolor": "white",
            "showbackground": true,
            "ticks": "",
            "zerolinecolor": "white"
           }
          },
          "shapedefaults": {
           "line": {
            "color": "#2a3f5f"
           }
          },
          "ternary": {
           "aaxis": {
            "gridcolor": "white",
            "linecolor": "white",
            "ticks": ""
           },
           "baxis": {
            "gridcolor": "white",
            "linecolor": "white",
            "ticks": ""
           },
           "bgcolor": "#E5ECF6",
           "caxis": {
            "gridcolor": "white",
            "linecolor": "white",
            "ticks": ""
           }
          },
          "title": {
           "x": 0.05
          },
          "xaxis": {
           "automargin": true,
           "gridcolor": "white",
           "linecolor": "white",
           "ticks": "",
           "title": {
            "standoff": 15
           },
           "zerolinecolor": "white",
           "zerolinewidth": 2
          },
          "yaxis": {
           "automargin": true,
           "gridcolor": "white",
           "linecolor": "white",
           "ticks": "",
           "title": {
            "standoff": 15
           },
           "zerolinecolor": "white",
           "zerolinewidth": 2
          }
         }
        },
        "title": {
         "text": "Total Cashback Value for 2024"
        },
        "width": 900,
        "xaxis": {
         "ticktext": [
          "Jan",
          "Feb",
          "Mar",
          "Apr",
          "May",
          "Jun",
          "Jul",
          "Aug",
          "Sep",
          "Oct",
          "Nov",
          "Dec"
         ],
         "tickvals": [
          1,
          2,
          3,
          4,
          5,
          6,
          7,
          8,
          9,
          10,
          11,
          12
         ],
         "title": {
          "text": "Month"
         }
        },
        "yaxis": {
         "title": {
          "text": "Total Cashback Value"
         }
        }
       }
      }
     },
     "metadata": {},
     "output_type": "display_data"
    }
   ],
   "source": [
    "import plotly.graph_objects as go\n",
    "from plotly.subplots import make_subplots\n",
    "import calendar\n",
    "data = df\n",
    "# Assuming you have 'data' and 'years' defined appropriately\n",
    "\n",
    "# Group by year and month to get monthly cashback analysis\n",
    "data['Month'] = data['Conversion Time'].dt.month\n",
    "monthly_cashback_analysis = data.groupby(['Year', 'Month'])['Estimate M1 Cashback Value'].mean().reset_index()\n",
    "\n",
    "# Create separate figures for each year\n",
    "figures = []\n",
    "\n",
    "for year in years:\n",
    "    yearly_data = monthly_cashback_analysis[monthly_cashback_analysis['Year'] == year]\n",
    "\n",
    "    # Create a new figure for each year\n",
    "    fig = go.Figure()\n",
    "\n",
    "    # Add a bar plot for the specific year\n",
    "    fig.add_trace(\n",
    "        go.Bar(x=yearly_data['Month'], y=yearly_data['Estimate M1 Cashback Value'], name=f\"{year}\")\n",
    "    )\n",
    "\n",
    "    # Update layout for the figure\n",
    "    fig.update_layout(\n",
    "        title=f\"Total Cashback Value for {year}\",\n",
    "        xaxis_title=\"Month\",\n",
    "        yaxis_title=\"Total Cashback Value\",\n",
    "        xaxis=dict(\n",
    "            tickvals=list(range(1, 13)),\n",
    "            ticktext=[calendar.month_abbr[m] for m in range(1, 13)]\n",
    "        ),\n",
    "        height=600,\n",
    "        width=900\n",
    "    )\n",
    "\n",
    "    # Append the figure to the list of figures\n",
    "    figures.append(fig)\n",
    "\n",
    "# Show each figure separately\n",
    "for fig in figures:\n",
    "    fig.show()"
   ]
  },
  {
   "cell_type": "code",
   "execution_count": null,
   "metadata": {},
   "outputs": [
    {
     "data": {
      "application/vnd.plotly.v1+json": {
       "config": {
        "plotlyServerURL": "https://plot.ly"
       },
       "data": [
        {
         "name": "2021",
         "type": "bar",
         "x": [
          11,
          12
         ],
         "xaxis": "x",
         "y": [
          13.200000000000001,
          27.479
         ],
         "yaxis": "y"
        },
        {
         "name": "2022",
         "type": "bar",
         "x": [
          1,
          3,
          4,
          5,
          6,
          7,
          8,
          9,
          10,
          11,
          12
         ],
         "xaxis": "x2",
         "y": [
          3.824,
          12.231,
          99.281,
          79.229,
          71.243,
          53.793,
          64.148,
          189.905,
          177.95100000000002,
          44.281,
          108.354
         ],
         "yaxis": "y2"
        },
        {
         "name": "2023",
         "type": "bar",
         "x": [
          1,
          2,
          3,
          4,
          5,
          6,
          7,
          8,
          9,
          10,
          11,
          12
         ],
         "xaxis": "x3",
         "y": [
          56.702,
          45.592,
          91.26,
          4.569,
          20.599,
          95.554,
          121.196,
          143.27100000000002,
          419.996,
          304.605,
          662.334,
          297.698
         ],
         "yaxis": "y3"
        },
        {
         "name": "2024",
         "type": "bar",
         "x": [
          1,
          2,
          3,
          4,
          5,
          6
         ],
         "xaxis": "x4",
         "y": [
          163.043,
          109.42699999999999,
          162.041,
          270.419,
          200.327,
          1321.56
         ],
         "yaxis": "y4"
        }
       ],
       "layout": {
        "annotations": [
         {
          "font": {
           "size": 16
          },
          "showarrow": false,
          "text": "Total Cashback Value for 2021",
          "x": 0.5,
          "xanchor": "center",
          "xref": "paper",
          "y": 1,
          "yanchor": "bottom",
          "yref": "paper"
         },
         {
          "font": {
           "size": 16
          },
          "showarrow": false,
          "text": "Total Cashback Value for 2022",
          "x": 0.5,
          "xanchor": "center",
          "xref": "paper",
          "y": 0.71875,
          "yanchor": "bottom",
          "yref": "paper"
         },
         {
          "font": {
           "size": 16
          },
          "showarrow": false,
          "text": "Total Cashback Value for 2023",
          "x": 0.5,
          "xanchor": "center",
          "xref": "paper",
          "y": 0.4375,
          "yanchor": "bottom",
          "yref": "paper"
         },
         {
          "font": {
           "size": 16
          },
          "showarrow": false,
          "text": "Total Cashback Value for 2024",
          "x": 0.5,
          "xanchor": "center",
          "xref": "paper",
          "y": 0.15625,
          "yanchor": "bottom",
          "yref": "paper"
         }
        ],
        "height": 1600,
        "template": {
         "data": {
          "bar": [
           {
            "error_x": {
             "color": "#2a3f5f"
            },
            "error_y": {
             "color": "#2a3f5f"
            },
            "marker": {
             "line": {
              "color": "#E5ECF6",
              "width": 0.5
             },
             "pattern": {
              "fillmode": "overlay",
              "size": 10,
              "solidity": 0.2
             }
            },
            "type": "bar"
           }
          ],
          "barpolar": [
           {
            "marker": {
             "line": {
              "color": "#E5ECF6",
              "width": 0.5
             },
             "pattern": {
              "fillmode": "overlay",
              "size": 10,
              "solidity": 0.2
             }
            },
            "type": "barpolar"
           }
          ],
          "carpet": [
           {
            "aaxis": {
             "endlinecolor": "#2a3f5f",
             "gridcolor": "white",
             "linecolor": "white",
             "minorgridcolor": "white",
             "startlinecolor": "#2a3f5f"
            },
            "baxis": {
             "endlinecolor": "#2a3f5f",
             "gridcolor": "white",
             "linecolor": "white",
             "minorgridcolor": "white",
             "startlinecolor": "#2a3f5f"
            },
            "type": "carpet"
           }
          ],
          "choropleth": [
           {
            "colorbar": {
             "outlinewidth": 0,
             "ticks": ""
            },
            "type": "choropleth"
           }
          ],
          "contour": [
           {
            "colorbar": {
             "outlinewidth": 0,
             "ticks": ""
            },
            "colorscale": [
             [
              0,
              "#0d0887"
             ],
             [
              0.1111111111111111,
              "#46039f"
             ],
             [
              0.2222222222222222,
              "#7201a8"
             ],
             [
              0.3333333333333333,
              "#9c179e"
             ],
             [
              0.4444444444444444,
              "#bd3786"
             ],
             [
              0.5555555555555556,
              "#d8576b"
             ],
             [
              0.6666666666666666,
              "#ed7953"
             ],
             [
              0.7777777777777778,
              "#fb9f3a"
             ],
             [
              0.8888888888888888,
              "#fdca26"
             ],
             [
              1,
              "#f0f921"
             ]
            ],
            "type": "contour"
           }
          ],
          "contourcarpet": [
           {
            "colorbar": {
             "outlinewidth": 0,
             "ticks": ""
            },
            "type": "contourcarpet"
           }
          ],
          "heatmap": [
           {
            "colorbar": {
             "outlinewidth": 0,
             "ticks": ""
            },
            "colorscale": [
             [
              0,
              "#0d0887"
             ],
             [
              0.1111111111111111,
              "#46039f"
             ],
             [
              0.2222222222222222,
              "#7201a8"
             ],
             [
              0.3333333333333333,
              "#9c179e"
             ],
             [
              0.4444444444444444,
              "#bd3786"
             ],
             [
              0.5555555555555556,
              "#d8576b"
             ],
             [
              0.6666666666666666,
              "#ed7953"
             ],
             [
              0.7777777777777778,
              "#fb9f3a"
             ],
             [
              0.8888888888888888,
              "#fdca26"
             ],
             [
              1,
              "#f0f921"
             ]
            ],
            "type": "heatmap"
           }
          ],
          "heatmapgl": [
           {
            "colorbar": {
             "outlinewidth": 0,
             "ticks": ""
            },
            "colorscale": [
             [
              0,
              "#0d0887"
             ],
             [
              0.1111111111111111,
              "#46039f"
             ],
             [
              0.2222222222222222,
              "#7201a8"
             ],
             [
              0.3333333333333333,
              "#9c179e"
             ],
             [
              0.4444444444444444,
              "#bd3786"
             ],
             [
              0.5555555555555556,
              "#d8576b"
             ],
             [
              0.6666666666666666,
              "#ed7953"
             ],
             [
              0.7777777777777778,
              "#fb9f3a"
             ],
             [
              0.8888888888888888,
              "#fdca26"
             ],
             [
              1,
              "#f0f921"
             ]
            ],
            "type": "heatmapgl"
           }
          ],
          "histogram": [
           {
            "marker": {
             "pattern": {
              "fillmode": "overlay",
              "size": 10,
              "solidity": 0.2
             }
            },
            "type": "histogram"
           }
          ],
          "histogram2d": [
           {
            "colorbar": {
             "outlinewidth": 0,
             "ticks": ""
            },
            "colorscale": [
             [
              0,
              "#0d0887"
             ],
             [
              0.1111111111111111,
              "#46039f"
             ],
             [
              0.2222222222222222,
              "#7201a8"
             ],
             [
              0.3333333333333333,
              "#9c179e"
             ],
             [
              0.4444444444444444,
              "#bd3786"
             ],
             [
              0.5555555555555556,
              "#d8576b"
             ],
             [
              0.6666666666666666,
              "#ed7953"
             ],
             [
              0.7777777777777778,
              "#fb9f3a"
             ],
             [
              0.8888888888888888,
              "#fdca26"
             ],
             [
              1,
              "#f0f921"
             ]
            ],
            "type": "histogram2d"
           }
          ],
          "histogram2dcontour": [
           {
            "colorbar": {
             "outlinewidth": 0,
             "ticks": ""
            },
            "colorscale": [
             [
              0,
              "#0d0887"
             ],
             [
              0.1111111111111111,
              "#46039f"
             ],
             [
              0.2222222222222222,
              "#7201a8"
             ],
             [
              0.3333333333333333,
              "#9c179e"
             ],
             [
              0.4444444444444444,
              "#bd3786"
             ],
             [
              0.5555555555555556,
              "#d8576b"
             ],
             [
              0.6666666666666666,
              "#ed7953"
             ],
             [
              0.7777777777777778,
              "#fb9f3a"
             ],
             [
              0.8888888888888888,
              "#fdca26"
             ],
             [
              1,
              "#f0f921"
             ]
            ],
            "type": "histogram2dcontour"
           }
          ],
          "mesh3d": [
           {
            "colorbar": {
             "outlinewidth": 0,
             "ticks": ""
            },
            "type": "mesh3d"
           }
          ],
          "parcoords": [
           {
            "line": {
             "colorbar": {
              "outlinewidth": 0,
              "ticks": ""
             }
            },
            "type": "parcoords"
           }
          ],
          "pie": [
           {
            "automargin": true,
            "type": "pie"
           }
          ],
          "scatter": [
           {
            "fillpattern": {
             "fillmode": "overlay",
             "size": 10,
             "solidity": 0.2
            },
            "type": "scatter"
           }
          ],
          "scatter3d": [
           {
            "line": {
             "colorbar": {
              "outlinewidth": 0,
              "ticks": ""
             }
            },
            "marker": {
             "colorbar": {
              "outlinewidth": 0,
              "ticks": ""
             }
            },
            "type": "scatter3d"
           }
          ],
          "scattercarpet": [
           {
            "marker": {
             "colorbar": {
              "outlinewidth": 0,
              "ticks": ""
             }
            },
            "type": "scattercarpet"
           }
          ],
          "scattergeo": [
           {
            "marker": {
             "colorbar": {
              "outlinewidth": 0,
              "ticks": ""
             }
            },
            "type": "scattergeo"
           }
          ],
          "scattergl": [
           {
            "marker": {
             "colorbar": {
              "outlinewidth": 0,
              "ticks": ""
             }
            },
            "type": "scattergl"
           }
          ],
          "scattermapbox": [
           {
            "marker": {
             "colorbar": {
              "outlinewidth": 0,
              "ticks": ""
             }
            },
            "type": "scattermapbox"
           }
          ],
          "scatterpolar": [
           {
            "marker": {
             "colorbar": {
              "outlinewidth": 0,
              "ticks": ""
             }
            },
            "type": "scatterpolar"
           }
          ],
          "scatterpolargl": [
           {
            "marker": {
             "colorbar": {
              "outlinewidth": 0,
              "ticks": ""
             }
            },
            "type": "scatterpolargl"
           }
          ],
          "scatterternary": [
           {
            "marker": {
             "colorbar": {
              "outlinewidth": 0,
              "ticks": ""
             }
            },
            "type": "scatterternary"
           }
          ],
          "surface": [
           {
            "colorbar": {
             "outlinewidth": 0,
             "ticks": ""
            },
            "colorscale": [
             [
              0,
              "#0d0887"
             ],
             [
              0.1111111111111111,
              "#46039f"
             ],
             [
              0.2222222222222222,
              "#7201a8"
             ],
             [
              0.3333333333333333,
              "#9c179e"
             ],
             [
              0.4444444444444444,
              "#bd3786"
             ],
             [
              0.5555555555555556,
              "#d8576b"
             ],
             [
              0.6666666666666666,
              "#ed7953"
             ],
             [
              0.7777777777777778,
              "#fb9f3a"
             ],
             [
              0.8888888888888888,
              "#fdca26"
             ],
             [
              1,
              "#f0f921"
             ]
            ],
            "type": "surface"
           }
          ],
          "table": [
           {
            "cells": {
             "fill": {
              "color": "#EBF0F8"
             },
             "line": {
              "color": "white"
             }
            },
            "header": {
             "fill": {
              "color": "#C8D4E3"
             },
             "line": {
              "color": "white"
             }
            },
            "type": "table"
           }
          ]
         },
         "layout": {
          "annotationdefaults": {
           "arrowcolor": "#2a3f5f",
           "arrowhead": 0,
           "arrowwidth": 1
          },
          "autotypenumbers": "strict",
          "coloraxis": {
           "colorbar": {
            "outlinewidth": 0,
            "ticks": ""
           }
          },
          "colorscale": {
           "diverging": [
            [
             0,
             "#8e0152"
            ],
            [
             0.1,
             "#c51b7d"
            ],
            [
             0.2,
             "#de77ae"
            ],
            [
             0.3,
             "#f1b6da"
            ],
            [
             0.4,
             "#fde0ef"
            ],
            [
             0.5,
             "#f7f7f7"
            ],
            [
             0.6,
             "#e6f5d0"
            ],
            [
             0.7,
             "#b8e186"
            ],
            [
             0.8,
             "#7fbc41"
            ],
            [
             0.9,
             "#4d9221"
            ],
            [
             1,
             "#276419"
            ]
           ],
           "sequential": [
            [
             0,
             "#0d0887"
            ],
            [
             0.1111111111111111,
             "#46039f"
            ],
            [
             0.2222222222222222,
             "#7201a8"
            ],
            [
             0.3333333333333333,
             "#9c179e"
            ],
            [
             0.4444444444444444,
             "#bd3786"
            ],
            [
             0.5555555555555556,
             "#d8576b"
            ],
            [
             0.6666666666666666,
             "#ed7953"
            ],
            [
             0.7777777777777778,
             "#fb9f3a"
            ],
            [
             0.8888888888888888,
             "#fdca26"
            ],
            [
             1,
             "#f0f921"
            ]
           ],
           "sequentialminus": [
            [
             0,
             "#0d0887"
            ],
            [
             0.1111111111111111,
             "#46039f"
            ],
            [
             0.2222222222222222,
             "#7201a8"
            ],
            [
             0.3333333333333333,
             "#9c179e"
            ],
            [
             0.4444444444444444,
             "#bd3786"
            ],
            [
             0.5555555555555556,
             "#d8576b"
            ],
            [
             0.6666666666666666,
             "#ed7953"
            ],
            [
             0.7777777777777778,
             "#fb9f3a"
            ],
            [
             0.8888888888888888,
             "#fdca26"
            ],
            [
             1,
             "#f0f921"
            ]
           ]
          },
          "colorway": [
           "#636efa",
           "#EF553B",
           "#00cc96",
           "#ab63fa",
           "#FFA15A",
           "#19d3f3",
           "#FF6692",
           "#B6E880",
           "#FF97FF",
           "#FECB52"
          ],
          "font": {
           "color": "#2a3f5f"
          },
          "geo": {
           "bgcolor": "white",
           "lakecolor": "white",
           "landcolor": "#E5ECF6",
           "showlakes": true,
           "showland": true,
           "subunitcolor": "white"
          },
          "hoverlabel": {
           "align": "left"
          },
          "hovermode": "closest",
          "mapbox": {
           "style": "light"
          },
          "paper_bgcolor": "white",
          "plot_bgcolor": "#E5ECF6",
          "polar": {
           "angularaxis": {
            "gridcolor": "white",
            "linecolor": "white",
            "ticks": ""
           },
           "bgcolor": "#E5ECF6",
           "radialaxis": {
            "gridcolor": "white",
            "linecolor": "white",
            "ticks": ""
           }
          },
          "scene": {
           "xaxis": {
            "backgroundcolor": "#E5ECF6",
            "gridcolor": "white",
            "gridwidth": 2,
            "linecolor": "white",
            "showbackground": true,
            "ticks": "",
            "zerolinecolor": "white"
           },
           "yaxis": {
            "backgroundcolor": "#E5ECF6",
            "gridcolor": "white",
            "gridwidth": 2,
            "linecolor": "white",
            "showbackground": true,
            "ticks": "",
            "zerolinecolor": "white"
           },
           "zaxis": {
            "backgroundcolor": "#E5ECF6",
            "gridcolor": "white",
            "gridwidth": 2,
            "linecolor": "white",
            "showbackground": true,
            "ticks": "",
            "zerolinecolor": "white"
           }
          },
          "shapedefaults": {
           "line": {
            "color": "#2a3f5f"
           }
          },
          "ternary": {
           "aaxis": {
            "gridcolor": "white",
            "linecolor": "white",
            "ticks": ""
           },
           "baxis": {
            "gridcolor": "white",
            "linecolor": "white",
            "ticks": ""
           },
           "bgcolor": "#E5ECF6",
           "caxis": {
            "gridcolor": "white",
            "linecolor": "white",
            "ticks": ""
           }
          },
          "title": {
           "x": 0.05
          },
          "xaxis": {
           "automargin": true,
           "gridcolor": "white",
           "linecolor": "white",
           "ticks": "",
           "title": {
            "standoff": 15
           },
           "zerolinecolor": "white",
           "zerolinewidth": 2
          },
          "yaxis": {
           "automargin": true,
           "gridcolor": "white",
           "linecolor": "white",
           "ticks": "",
           "title": {
            "standoff": 15
           },
           "zerolinecolor": "white",
           "zerolinewidth": 2
          }
         }
        },
        "title": {
         "text": "Total Cashback Value by Month (2021 - 2024)"
        },
        "width": 900,
        "xaxis": {
         "anchor": "y",
         "domain": [
          0,
          1
         ],
         "matches": "x4",
         "showticklabels": false,
         "ticktext": [
          "Jan",
          "Feb",
          "Mar",
          "Apr",
          "May",
          "Jun",
          "Jul",
          "Aug",
          "Sep",
          "Oct",
          "Nov",
          "Dec"
         ],
         "tickvals": [
          1,
          2,
          3,
          4,
          5,
          6,
          7,
          8,
          9,
          10,
          11,
          12
         ]
        },
        "xaxis2": {
         "anchor": "y2",
         "domain": [
          0,
          1
         ],
         "matches": "x4",
         "showticklabels": false,
         "ticktext": [
          "Jan",
          "Feb",
          "Mar",
          "Apr",
          "May",
          "Jun",
          "Jul",
          "Aug",
          "Sep",
          "Oct",
          "Nov",
          "Dec"
         ],
         "tickvals": [
          1,
          2,
          3,
          4,
          5,
          6,
          7,
          8,
          9,
          10,
          11,
          12
         ]
        },
        "xaxis3": {
         "anchor": "y3",
         "domain": [
          0,
          1
         ],
         "matches": "x4",
         "showticklabels": false,
         "ticktext": [
          "Jan",
          "Feb",
          "Mar",
          "Apr",
          "May",
          "Jun",
          "Jul",
          "Aug",
          "Sep",
          "Oct",
          "Nov",
          "Dec"
         ],
         "tickvals": [
          1,
          2,
          3,
          4,
          5,
          6,
          7,
          8,
          9,
          10,
          11,
          12
         ]
        },
        "xaxis4": {
         "anchor": "y4",
         "domain": [
          0,
          1
         ],
         "ticktext": [
          "Jan",
          "Feb",
          "Mar",
          "Apr",
          "May",
          "Jun",
          "Jul",
          "Aug",
          "Sep",
          "Oct",
          "Nov",
          "Dec"
         ],
         "tickvals": [
          1,
          2,
          3,
          4,
          5,
          6,
          7,
          8,
          9,
          10,
          11,
          12
         ]
        },
        "yaxis": {
         "anchor": "x",
         "domain": [
          0.84375,
          1
         ]
        },
        "yaxis2": {
         "anchor": "x2",
         "domain": [
          0.5625,
          0.71875
         ]
        },
        "yaxis3": {
         "anchor": "x3",
         "domain": [
          0.28125,
          0.4375
         ]
        },
        "yaxis4": {
         "anchor": "x4",
         "domain": [
          0,
          0.15625
         ]
        }
       }
      }
     },
     "metadata": {},
     "output_type": "display_data"
    }
   ],
   "source": [
    "import plotly.graph_objects as go\n",
    "from plotly.subplots import make_subplots\n",
    "import calendar\n",
    "\n",
    "\n",
    "data['Month'] = data['Conversion Time'].dt.month\n",
    "monthly_cashback_analysis = data.groupby(['Year', 'Month'])['Estimate M1 Cashback Value'].sum().reset_index()\n",
    "\n",
    "fig = make_subplots(rows=4, cols=1, shared_xaxes=True, subplot_titles=[f\"Total Cashback Value for {year}\" for year in years])\n",
    "\n",
    "# Add a bar plot for each year and month to the subplot\n",
    "for i, year in enumerate(years):\n",
    "    yearly_data = monthly_cashback_analysis[monthly_cashback_analysis['Year'] == year]\n",
    "    fig.add_trace(\n",
    "        go.Bar(x=yearly_data['Month'], y=yearly_data['Estimate M1 Cashback Value'], name=f\"{year}\"),\n",
    "        row=i+1, col=1\n",
    "    )\n",
    "\n",
    "# Update layout for the subplot figure\n",
    "fig.update_layout(height=1600, width=900, title_text=\"Total Cashback Value by Month (2021 - 2024)\")\n",
    "\n",
    "# Explicitly set x-axis labels for each subplot\n",
    "months = [calendar.month_abbr[m] for m in range(1, 13)]\n",
    "for i in range(4):\n",
    "    fig.update_xaxes(\n",
    "        tickvals=list(range(1, 13)),\n",
    "        ticktext=months,\n",
    "        row=i+1, col=1\n",
    "    )\n",
    "\n",
    "# Show the figure\n",
    "fig.show()"
   ]
  },
  {
   "cell_type": "code",
   "execution_count": null,
   "metadata": {},
   "outputs": [
    {
     "name": "stdout",
     "output_type": "stream",
     "text": [
      "(2021, 11)\n",
      "['KFC', 'Zalora SG', 'Zalora SG', 'PatPat', 'Watsons Singapore', 'Watsons Singapore', 'Watsons Singapore', 'Watsons Singapore', 'Watsons Singapore', 'Watsons Singapore', 'Watsons Singapore']\n",
      "\n",
      "(2021, 12)\n",
      "['Zalora SG', 'KFC', 'Zalora SG', 'Zalora SG', 'Zalora SG', 'KFC', 'KFC', 'Zalora SG']\n",
      "\n",
      "(2022, 1)\n",
      "['Adidas', 'Watsons Singapore', 'Zalora SG']\n",
      "\n",
      "(2022, 3)\n",
      "['Lazada SG', 'Lazada SG', 'Lazada SG', 'Adidas', 'Lazada SG', 'Lazada SG', 'Lazada SG', 'Lazada SG', 'Lazada SG', 'Lazada SG', 'Lazada SG', 'Lazada SG', 'Lazada SG', 'Lazada SG', 'Lazada SG', 'Lazada SG', 'Lazada SG', 'Lazada SG', 'Lazada SG', 'Lazada SG', 'Lazada SG', 'Lazada SG', 'Puma', 'Watsons Singapore']\n",
      "\n",
      "(2022, 4)\n",
      "['Zalora SG', 'Lazada SG', 'Lazada SG', 'Lazada SG', 'Lazada SG', 'Lazada SG', 'Lazada SG', 'Zalora SG', 'Lazada SG', 'Lazada SG', 'Lazada SG', 'Lazada SG', 'Lazada SG', 'Lazada SG', 'Lazada SG', 'Lazada SG', 'Lazada SG', 'Lazada SG', 'Lazada SG', 'Lazada SG', 'Lazada SG', 'Lazada SG', 'Lazada SG', 'Lazada SG', 'Lazada SG', 'Zalora SG', 'Lazada SG', 'Lazada SG', 'Lazada SG', 'Lazada SG', 'Lazada SG', 'Lazada SG', 'Lazada SG', 'Lazada SG', 'Lazada SG', 'Lazada SG', 'Lazada SG', 'Lazada SG', 'Lazada SG', 'Lazada SG', 'Lazada SG', 'Lazada SG', 'Lazada SG', 'Lazada SG', 'Lazada SG', 'Lazada SG', 'Lazada SG', 'Lazada SG', 'Lazada SG', 'Lazada SG', 'Zalora SG', 'Lazada SG', 'Lazada SG', 'Lazada SG', 'Lazada SG', 'Lazada SG', 'Lazada SG', 'Lazada SG', 'Zalora SG', 'Lazada SG', 'Lazada SG', 'Zalora SG', 'Lazada SG', 'Nike APAC', 'Lazada SG', 'Lazada SG', 'Lazada SG', 'Lazada SG', 'Lazada SG', 'Lazada SG', 'Lazada SG', 'Lazada SG', 'Lazada SG', 'Lazada SG', 'Lazada SG', 'Lazada SG', 'Lazada SG', 'Fairprice ON', 'Lazada SG', 'Lazada SG', 'Lazada SG', 'Lazada SG', 'Lazada SG', 'Lazada SG', 'Lazada SG', 'Lazada SG', 'Lazada SG', 'Lazada SG', 'Lazada SG', 'Lazada SG', 'Lazada SG', 'Lazada SG', 'Lazada SG', 'Lazada SG', 'Lazada SG', 'Lazada SG', 'Lazada SG', 'Lazada SG', 'Lazada SG', 'Lazada SG', 'Zalora SG', 'Zalora SG', 'Lazada SG', 'Lazada SG', 'Lazada SG', 'Lazada SG', 'Lazada SG', 'Lazada SG', 'Zalora SG', 'Lazada SG', 'Lazada SG', 'Lazada SG', 'Lazada SG', 'Lazada SG', 'Lazada SG', 'Lazada SG', 'Lazada SG', 'Lazada SG', 'Lazada SG', 'Lazada SG', 'Lazada SG', 'Lazada SG', 'Lazada SG', 'Lazada SG', 'Lazada SG', 'Lazada SG', 'Lazada SG', 'Lazada SG', 'Lazada SG', 'Lazada SG', 'Lazada SG', 'Lazada SG', 'Lazada SG', 'Lazada SG', 'Lazada SG', 'Lazada SG', 'Lazada SG', 'Lazada SG', 'Lazada SG', 'Lazada SG', 'Lazada SG', 'Lazada SG', 'Lazada SG', 'Lazada SG', 'Lazada SG', 'Lazada SG', 'Lazada SG', 'Lazada SG', 'Lazada SG', 'Lazada SG', 'Lazada SG', 'Lazada SG', 'Lazada SG', 'Lazada SG', 'Lazada SG', 'Lazada SG', 'Lazada SG', 'Lazada SG', 'Lazada SG', 'Lazada SG', 'Lazada SG', 'Lazada SG', 'Lazada SG', 'Lazada SG', 'Lazada SG', 'Lazada SG', 'Lazada SG', 'Lazada SG', 'Lazada SG', 'Lazada SG', 'Lazada SG', 'Lazada SG', 'Lazada SG', 'Zalora SG', 'Watsons Singapore', 'Zalora SG', 'Lazada SG', 'Lazada SG', 'Lazada SG', 'Lazada SG', 'Lazada SG', 'Lazada SG', 'Lazada SG', 'Lazada SG', 'Lazada SG', 'Lazada SG', 'Lazada SG', 'Under Armour', 'Lazada SG', 'Lazada SG', 'Zalora SG', 'Lazada SG', 'Lazada SG', 'Lazada SG', 'Lazada SG', 'Lazada SG', 'Lazada SG', 'Lazada SG', 'Lazada SG', 'Lazada SG', 'Zalora SG', 'Lazada SG', 'Lazada SG', 'Lazada SG', 'Fairprice ON', 'Lazada SG', 'Fairprice ON', 'Puma']\n",
      "\n",
      "(2022, 5)\n",
      "['Watsons Singapore', 'Lazada SG', 'Lazada SG', 'Lazada SG', 'Lazada SG', 'Lazada SG', 'Lazada SG', 'Lazada SG', 'Lazada SG', 'Lazada SG', 'Lazada SG', 'Lazada SG', 'Lazada SG', 'Lazada SG', 'Lazada SG', 'Watsons Singapore', 'Zalora SG', 'Lazada SG', 'Lazada SG', 'Lazada SG', 'Lazada SG', 'Lazada SG', 'Lazada SG', 'Lazada SG', 'Lazada SG', 'Lazada SG', 'Lazada SG', 'Lazada SG', 'Under Armour', 'Lazada SG', 'Lazada SG', 'Lazada SG', 'Lazada SG', 'Lazada SG', 'Lazada SG', 'Lazada SG', 'Lazada SG', 'Lazada SG', 'Lazada SG', 'Lazada SG', 'Lazada SG', 'Lazada SG', 'Lazada SG', 'Lazada SG', 'Lazada SG', 'Lazada SG', 'Lazada SG', 'Lazada SG', 'Lazada SG', 'Lazada SG', 'Lazada SG', 'Lazada SG', 'Zalora SG', 'Fairprice ON', 'Lazada SG', 'Lazada SG', 'Lazada SG', 'Lazada SG', 'Lazada SG', 'Lazada SG', 'Lazada SG', 'Lazada SG', 'Lazada SG', 'Lazada SG', 'Lazada SG', 'Lazada SG', 'Lazada SG', 'Lazada SG', 'Lazada SG', 'Lazada SG', 'Lazada SG', 'Lazada SG', 'Lazada SG', 'Lazada SG', 'Lazada SG', 'Lazada SG', 'Lazada SG', 'Lazada SG', 'Lazada SG', 'Lazada SG', 'Lazada SG', 'Lazada SG', 'Lazada SG', 'Lazada SG', 'Lazada SG', 'Lazada SG', 'Lazada SG', 'Zalora SG', 'Lazada SG', 'Lazada SG', 'Lazada SG', 'Lazada SG', 'Lazada SG', 'Lazada SG', 'Lazada SG', 'Lazada SG', 'Lazada SG', 'Lazada SG', 'Lazada SG', 'Lazada SG', 'Lazada SG', 'Lazada SG', 'Lazada SG', 'Lazada SG', 'Lazada SG', 'Lazada SG', 'Lazada SG', 'Lazada SG', 'Lazada SG', 'Lazada SG', 'Lazada SG', 'Lazada SG', 'Lazada SG', 'Lazada SG', 'Lazada SG', 'Lazada SG', 'Lazada SG', 'Lazada SG', 'Lazada SG', 'Lazada SG', 'Lazada SG', 'Lazada SG', 'Lazada SG', 'Lazada SG', 'Lazada SG', 'Lazada SG', 'Lazada SG', 'Lazada SG', 'Lazada SG', 'Lazada SG', 'Lazada SG', 'Lazada SG', 'Lazada SG', 'Lazada SG', 'Lazada SG', 'Lazada SG', 'Lazada SG', 'Lazada SG', 'Lazada SG', 'Lazada SG', 'Lazada SG', 'Lazada SG', 'Lazada SG', 'Lazada SG', 'Lazada SG', 'Lazada SG', 'Lazada SG', 'Lazada SG', 'Lazada SG', 'Lazada SG', 'Lazada SG', 'Lazada SG', 'Lazada SG', 'Lazada SG', 'Lazada SG', 'Lazada SG', 'Lazada SG', 'Lazada SG', 'Lazada SG', 'Lazada SG', 'Lazada SG', 'Lazada SG', 'Lazada SG', 'Lazada SG', 'Lazada SG', 'Lazada SG', 'Lazada SG', 'Lazada SG', 'Lazada SG', 'Lazada SG', 'Lazada SG', 'Lazada SG', 'Lazada SG', 'Lazada SG', 'Lazada SG', 'Lazada SG', 'Lazada SG', 'Lazada SG', 'Lazada SG', 'Lazada SG', 'Lazada SG', 'Lazada SG', 'Lazada SG', 'Lazada SG', 'Lazada SG', 'Lazada SG', 'Lazada SG', 'Lazada SG', 'Lazada SG', 'Lazada SG', 'Lazada SG', 'Lazada SG', 'Lazada SG', 'Lazada SG', 'Lazada SG', 'Lazada SG', 'Lazada SG', 'Lazada SG', 'Lazada SG', 'Lazada SG', 'Lazada SG', 'Lazada SG', 'Lazada SG', 'Zalora SG', 'Lazada SG', 'Lazada SG', 'Lazada SG', 'Lazada SG', 'Lazada SG', 'Lazada SG', 'Lazada SG', 'Lazada SG', 'Lazada SG', 'Lazada SG', 'Lazada SG', 'Lazada SG', 'Lazada SG', 'Lazada SG', 'Lazada SG', 'Lazada SG', 'Lazada SG', 'Lazada SG', 'Lazada SG', 'Lazada SG', 'Lazada SG', 'Lazada SG', 'Lazada SG']\n",
      "\n",
      "(2022, 6)\n",
      "['Lazada SG', 'Lazada SG', 'EnfaStore', 'Lazada SG', 'Zalora SG', 'Lazada SG', 'Nike APAC', 'Lazada SG', 'Lazada SG', 'Lazada SG', 'Lazada SG', 'Lazada SG', 'Lazada SG', 'Zalora SG', 'Lazada SG', 'Lazada SG', 'Lazada SG', 'Lazada SG', 'Lazada SG', 'Lazada SG', 'Lazada SG', 'Lazada SG', 'Lazada SG', 'Lazada SG', 'Lazada SG', 'Lazada SG', 'Zalora SG', 'Lazada SG', 'Lazada SG', 'Lazada SG', 'Lazada SG', 'Lazada SG', 'Zalora SG', 'Fairprice ON', 'Lazada SG', 'Lazada SG', 'Lazada SG', 'Lazada SG', 'Zalora SG', 'Lazada SG', 'Lazada SG', 'Lazada SG', 'Lazada SG', 'Lazada SG', 'Lazada SG', 'Lazada SG', 'Lazada SG', 'Lazada SG', 'Lazada SG', 'Lazada SG', 'Lazada SG', 'Lazada SG', 'Lazada SG', 'Lazada SG', 'Lazada SG', 'Lazada SG', 'Lazada SG', 'Lazada SG', 'Lazada SG', 'Lazada SG', 'Lazada SG', 'Lazada SG', 'Lazada SG', 'Lazada SG', 'Nike APAC', 'Lazada SG', 'Lazada SG', 'Lazada SG', 'Lazada SG', 'Lazada SG', 'Lazada SG', 'Lazada SG', 'Lazada SG', 'Lazada SG', 'Lazada SG', 'Lazada SG', 'Lazada SG', 'Lazada SG', 'Lazada SG', 'Lazada SG', 'Lazada SG', 'Lazada SG', 'Lazada SG', 'Lazada SG', 'Lazada SG', 'Lazada SG', 'Lazada SG', 'Lazada SG', 'Lazada SG', 'Lazada SG', 'Lazada SG', 'Lazada SG', 'Lazada SG', 'Lazada SG', 'Lazada SG', 'Lazada SG', 'Lazada SG', 'Lazada SG', 'Lazada SG', 'Lazada SG', 'Lazada SG', 'Lazada SG', 'Lazada SG']\n",
      "\n",
      "(2022, 7)\n",
      "['Lazada SG', 'Lazada SG', 'Lazada SG', 'Lazada SG', 'Lazada SG', 'Lazada SG', 'Fairprice ON', 'Adidas', 'Fairprice ON', 'Fairprice ON', 'Lazada SG', 'Lazada SG', 'Lazada SG', 'Lazada SG', 'Lazada SG', 'Lazada SG', 'Lazada SG', 'Lazada SG', 'Lazada SG', 'Lazada SG', 'Lazada SG', 'Lazada SG', 'Lazada SG', 'Lazada SG', 'Lazada SG', 'Lazada SG', 'Lazada SG', 'Lazada SG', 'Lazada SG', 'Lazada SG', 'Lazada SG', 'Lazada SG', 'Lazada SG', 'Lazada SG', 'Lazada SG', 'Lazada SG', 'Lazada SG', 'Lazada SG', 'Lazada SG', 'Lazada SG', 'Lazada SG', 'Lazada SG', 'Lazada SG', 'Lazada SG', 'Lazada SG', 'Lazada SG', 'Lazada SG', 'Lazada SG', 'Lazada SG', 'Lazada SG', 'Puma', 'Lazada SG', 'Lazada SG', 'Lazada SG', 'Lazada SG', 'Lazada SG', 'Lazada SG', 'Lazada SG', 'Lazada SG', 'Lazada SG', 'Lazada SG', 'Lazada SG', 'Lazada SG', 'Lazada SG', 'Lazada SG', 'Lazada SG', 'Lazada SG', 'Lazada SG', 'Lazada SG', 'Lazada SG', 'Zalora SG', 'Lazada SG', 'Lazada SG', 'Lazada SG', 'Lazada SG', 'Lazada SG', 'Lazada SG', 'Lazada SG', 'Lazada SG', 'Lazada SG', 'Lazada SG', 'Lazada SG', 'Lazada SG', 'Lazada SG', 'Lazada SG', 'Lazada SG', 'Lazada SG', 'Lazada SG', 'Lazada SG', 'Lazada SG', 'Lazada SG', 'Lazada SG', 'Lazada SG', 'Lazada SG', 'Lazada SG', 'Lazada SG', 'Lazada SG', 'Lazada SG', 'Lazada SG', 'Lazada SG', 'Lazada SG', 'Zalora SG', 'Zalora SG', 'Lazada SG', 'Lazada SG', 'Lazada SG', 'Lazada SG', 'Lazada SG', 'Lazada SG', 'Lazada SG', 'Lazada SG', 'Lazada SG', 'Lazada SG', 'Lazada SG', 'Lazada SG', 'Zalora SG', 'Lazada SG', 'Lazada SG', 'Lazada SG', 'Lazada SG', 'Lazada SG', 'Lazada SG', 'Lazada SG', 'Lazada SG', 'Lazada SG', 'Lazada SG', 'Lazada SG', 'Lazada SG', 'Lazada SG', 'Lazada SG', 'Lazada SG', 'Lazada SG', 'Lazada SG', 'Lazada SG', 'Lazada SG', 'Lazada SG', 'Lazada SG', 'Lazada SG', 'Lazada SG', 'Lazada SG', 'Lazada SG', 'Lazada SG', 'Lazada SG', 'Lazada SG', 'Lazada SG', 'Lazada SG', 'Nike APAC', 'Lazada SG', 'Lazada SG', 'Lazada SG', 'Lazada SG', 'Lazada SG', 'Lazada SG', 'Lazada SG', 'Lazada SG', 'Lazada SG', 'Lazada SG']\n",
      "\n",
      "(2022, 8)\n",
      "['Lazada SG', 'Lazada SG', 'Lazada SG', 'Lazada SG', 'Lazada SG', 'Lazada SG', 'Lazada SG', 'Lazada SG', 'Lazada SG', 'Lazada SG', 'Lazada SG', 'Lazada SG', 'Lazada SG', 'Lazada SG', 'Lazada SG', 'Lazada SG', 'Lazada SG', 'Lazada SG', 'Lazada SG', 'Lazada SG', 'Lazada SG', 'Lazada SG', 'Lazada SG', 'Lazada SG', 'Lazada SG', 'Lazada SG', 'Lazada SG', 'Lazada SG', 'Lazada SG', 'Lazada SG', 'Lazada SG', 'Lazada SG', 'Fairprice ON', 'Lazada SG', 'Lazada SG', 'Lazada SG', 'Lazada SG', 'Lazada SG', 'Lazada SG', 'Lazada SG', 'Fairprice ON', 'Lazada SG', 'Lazada SG', 'Lazada SG', 'Lazada SG', 'Lazada SG', 'Lazada SG', 'Lazada SG', 'Lazada SG', 'Lazada SG', 'Lazada SG', 'Lazada SG', 'Lazada SG', 'Lazada SG', 'Lazada SG', 'Lazada SG', 'Lazada SG', 'Lazada SG', 'Lazada SG', 'EnfaStore', 'Zalora SG', 'Zalora SG', 'Lazada SG', 'Lazada SG', 'Lazada SG', 'Lazada SG', 'Lazada SG', 'Watsons Singapore', 'Fairprice ON', 'Lazada SG', 'Lazada SG', 'Lazada SG', 'Lazada SG', 'Lazada SG', 'Lazada SG', 'Fairprice ON', 'Lazada SG', 'Lazada SG', 'Lazada SG', 'Lazada SG', 'Lazada SG', 'Lazada SG', 'Lazada SG', 'Lazada SG', 'Lazada SG', 'Lazada SG', 'Lazada SG', 'Lazada SG', 'Lazada SG', 'Lazada SG', 'Lazada SG', 'Lazada SG', 'Lazada SG', 'Lazada SG', 'Lazada SG', 'Lazada SG', 'Lazada SG', 'Lazada SG', 'Lazada SG', 'Lazada SG', 'Lazada SG', 'Lazada SG', 'Lazada SG', 'Lazada SG', 'Lazada SG', 'Lazada SG', 'Lazada SG', 'Lazada SG', 'Lazada SG', 'Lazada SG', 'Lazada SG', 'Lazada SG', 'Lazada SG', 'Lazada SG', 'Lazada SG', 'Lazada SG', 'Lazada SG', 'Lazada SG', 'Lazada SG', 'Lazada SG', 'Lazada SG', 'Lazada SG', 'Lazada SG', 'Lazada SG', 'Lazada SG', 'Lazada SG', 'Lazada SG', 'Lazada SG', 'Lazada SG', 'Lazada SG', 'Lazada SG', 'Lazada SG', 'Lazada SG', 'Fairprice ON', 'Zalora SG', 'Lazada SG', 'Lazada SG', 'Lazada SG', 'Lazada SG', 'Lazada SG', 'Lazada SG', 'Lazada SG', 'Lazada SG', 'Lazada SG', 'Lazada SG', 'Lazada SG', 'Lazada SG', 'Lazada SG', 'Lazada SG', 'Lazada SG', 'Lazada SG', 'Lazada SG', 'Lazada SG', 'Lazada SG', 'Lazada SG', 'Lazada SG', 'Lazada SG', 'Lazada SG', 'Lazada SG', 'Lazada SG', 'Lazada SG', 'Lazada SG', 'Lazada SG', 'Lazada SG', 'Lazada SG', 'Lazada SG', 'Lazada SG', 'Lazada SG', 'Lazada SG', 'Lazada SG', 'Lazada SG', 'Lazada SG', 'Lazada SG', 'Lazada SG', 'Lazada SG', 'Lazada SG', 'Lazada SG', 'Lazada SG', 'Fairprice ON', 'Lazada SG', 'Lazada SG', 'Adidas', 'Fairprice ON', 'Lazada SG', 'Lazada SG', 'Lazada SG', 'Lazada SG', 'Lazada SG', 'Lazada SG', 'Lazada SG']\n",
      "\n",
      "(2022, 9)\n",
      "['Zalora SG', 'Lazada SG', 'Shopee SG', 'Shopee SG', 'Shopee SG', 'Lazada SG', 'Lazada SG', 'Lazada SG', 'Lazada SG', 'Shopee SG', 'Shopee SG', 'Shopee SG', 'Shopee SG', 'Shopee SG', 'Shopee SG', 'Watsons Singapore', 'Samsung SG', 'Shopee SG', 'Shopee SG', 'Shopee SG', 'Fairprice ON', 'Shopee SG', 'Shopee SG', 'Shopee SG', 'Shopee SG', 'Lazada SG', 'Shopee SG', 'Shopee SG', 'Shopee SG', 'Shopee SG', 'Shopee SG', 'Lazada SG', 'Lazada SG', 'Lazada SG', 'Lazada SG', 'Lazada SG', 'Lazada SG', 'Lazada SG', 'Lazada SG', 'Lazada SG', 'Lazada SG', 'Fairprice ON', 'Lazada SG', 'Shopee SG', 'Fairprice ON', 'Fairprice ON', 'Lazada SG', 'Lazada SG', 'Lazada SG', 'Lazada SG', 'Lazada SG', 'Lazada SG', 'Lazada SG', 'Lazada SG', 'Lazada SG', 'Lazada SG', 'Lazada SG', 'Lazada SG', 'Lazada SG', 'Lazada SG', 'Lazada SG', 'Lazada SG', 'Lazada SG', 'Shopee SG', 'Shopee SG', 'Shopee SG', 'Lazada SG', 'Lazada SG', 'Lazada SG', 'Fairprice ON', 'Lazada SG', 'Lazada SG', 'Lazada SG', 'Lazada SG', 'Lazada SG', 'Lazada SG', 'Zalora SG', 'Fairprice ON', 'Lazada SG', 'Lazada SG', 'Lazada SG', 'Lazada SG', 'Lazada SG', 'Lazada SG', 'Lazada SG', 'Lazada SG', 'Lazada SG', 'Lazada SG', 'Lazada SG', 'Lazada SG', 'Lazada SG', 'Lazada SG', 'Lazada SG', 'Lazada SG', 'Lazada SG', 'Lazada SG', 'Lazada SG', 'Lazada SG', 'Lazada SG', 'Lazada SG', 'Lazada SG', 'Lazada SG', 'Lazada SG', 'Lazada SG', 'Lazada SG', 'Lazada SG', 'Lazada SG', 'Lazada SG', 'Lazada SG', 'Lazada SG', 'Lazada SG', 'Lazada SG', 'Lazada SG', 'Lazada SG', 'Lazada SG', 'Lazada SG', 'Lazada SG', 'Lazada SG', 'Lazada SG', 'Lazada SG', 'Lazada SG', 'Lazada SG', 'Lazada SG', 'Lazada SG', 'Lazada SG', 'Lazada SG', 'Lazada SG', 'Lazada SG', 'Lazada SG', 'Lazada SG', 'Lazada SG', 'Lazada SG', 'Lazada SG', 'Lazada SG', 'Lazada SG', 'Lazada SG', 'Lazada SG', 'Lazada SG', 'Lazada SG', 'Lazada SG', 'Lazada SG', 'Lazada SG', 'Lazada SG', 'Lazada SG', 'Lazada SG', 'Lazada SG', 'Lazada SG', 'Lazada SG', 'Lazada SG', 'Lazada SG', 'Lazada SG', 'Lazada SG', 'Lazada SG', 'Lazada SG', 'Lazada SG', 'Lazada SG', 'Lazada SG', 'Lazada SG', 'Lazada SG', 'Lazada SG', 'Lazada SG', 'Lazada SG', 'Lazada SG', 'Lazada SG', 'Lazada SG', 'Lazada SG', 'Lazada SG', 'Lazada SG', 'Lazada SG', 'Lazada SG', 'Lazada SG', 'Lazada SG', 'Lazada SG', 'Lazada SG', 'Lazada SG', 'Lazada SG', 'Lazada SG', 'Samsung SG', 'Lazada SG', 'Lazada SG', 'Lazada SG', 'Lazada SG', 'Lazada SG', 'Lazada SG', 'Lazada SG', 'Lazada SG', 'Lazada SG', 'Fairprice ON', 'Samsung SG']\n",
      "\n",
      "(2022, 10)\n",
      "['Lazada SG', 'Shopee SG', 'Shopee SG', 'Shopee SG', 'Shopee SG', 'Shopee SG', 'Shopee SG', 'Shopee SG', 'Lazada SG', 'Shopee SG', 'Shopee SG', 'Shopee SG', 'Shopee SG', 'Shopee SG', 'Shopee SG', 'Shopee SG', 'Shopee SG', 'Shopee SG', 'Shopee SG', 'Shopee SG', 'Shopee SG', 'Shopee SG', 'Shopee SG', 'Shopee SG', 'Shopee SG', 'Shopee SG', 'Fairprice ON', 'Shopee SG', 'Lazada SG', 'Lazada SG', 'Lazada SG', 'Lazada SG', 'Lazada SG', 'Lazada SG', 'Lazada SG', 'Lazada SG', 'Lazada SG', 'Lazada SG', 'Lazada SG', 'EnfaStore', 'Puma', 'Lazada SG', 'Lazada SG', 'Lazada SG', 'Lazada SG', 'Lazada SG', 'Lazada SG', 'Shopee SG', 'Nike APAC', 'Shopee SG', 'Shopee SG', 'Lazada SG', 'Lazada SG', 'Shopee SG', 'Lazada SG', 'Lazada SG', 'Lazada SG', 'Lazada SG', 'Lazada SG', 'Lazada SG', 'Lazada SG', 'Lazada SG', 'Lazada SG', 'Lazada SG', 'Lazada SG', 'Lazada SG', 'Lazada SG', 'Lazada SG', 'Lazada SG', 'Lazada SG', 'Lazada SG', 'Lazada SG', 'Lazada SG', 'Lazada SG', 'Lazada SG', 'Lazada SG', 'Lazada SG', 'Lazada SG', 'Lazada SG', 'Lazada SG', 'Lazada SG', 'Lazada SG', 'Lazada SG', 'Lazada SG', 'Lazada SG', 'Lazada SG', 'Lazada SG', 'Lazada SG', 'Lazada SG', 'Lazada SG', 'Shopee SG', 'Lazada SG', 'Lazada SG', 'Lazada SG', 'Lazada SG', 'Lazada SG', 'Lazada SG', 'Lazada SG', 'Lazada SG', 'Lazada SG', 'Lazada SG', 'Lazada SG', 'Shopee SG', 'Shopee SG', 'Lazada SG', 'Lazada SG', 'Shopee SG', 'Shopee SG', 'Shopee SG', 'Zalora SG', 'Lazada SG', 'Lazada SG', 'Lazada SG', 'Lazada SG', 'Lazada SG', 'Lazada SG', 'Lazada SG', 'Shopee SG', 'Zalora SG', 'Lazada SG', 'Lazada SG', 'Lazada SG', 'Lazada SG', 'Lazada SG', 'Lazada SG', 'Lazada SG', 'Lazada SG', 'Lazada SG', 'Lazada SG', 'Shopee SG', 'Shopee SG', 'Fairprice ON', 'Shopee SG', 'Shopee SG', 'Shopee SG', 'Lazada SG', 'Lazada SG', 'Lazada SG', 'Shopee SG', 'Shopee SG', 'Shopee SG', 'Shopee SG', 'Lazada SG', 'Lazada SG', 'Lazada SG', 'Lazada SG', 'Lazada SG', 'Lazada SG', 'Lazada SG', 'Lazada SG', 'Lazada SG', 'Lazada SG', 'Lazada SG', 'Lazada SG', 'Lazada SG', 'Lazada SG', 'Lazada SG', 'Lazada SG', 'Lazada SG', 'Lazada SG', 'Lazada SG', 'Lazada SG', 'Lazada SG', 'Lazada SG', 'Lazada SG', 'Lazada SG', 'Shopee SG', 'Shopee SG', 'Shopee SG', 'Shopee SG', 'Shopee SG', 'Lazada SG', 'Lazada SG', 'Lazada SG', 'Lazada SG', 'Lazada SG', 'Lazada SG', 'Lazada SG', 'Lazada SG', 'Lazada SG', 'Lazada SG', 'Lazada SG', 'Lazada SG', 'Lazada SG', 'Lazada SG', 'Watsons Singapore', 'Shopee SG', 'Shopee SG', 'Shopee SG', 'Shopee SG', 'Shopee SG', 'Shopee SG', 'Shopee SG', 'Shopee SG', 'Shopee SG', 'Shopee SG', 'Shopee SG', 'Shopee SG', 'Shopee SG', 'Shopee SG', 'Shopee SG', 'Shopee SG', 'Shopee SG', 'Shopee SG', 'Shopee SG', 'Shopee SG', 'Shopee SG', 'Shopee SG', 'Shopee SG', 'Shopee SG', 'Lazada SG', 'Lazada SG', 'Lazada SG', 'Lazada SG', 'Lazada SG', 'Lazada SG', 'Lazada SG', 'Lazada SG', 'Lazada SG', 'Lazada SG', 'Lazada SG', 'Lazada SG', 'Lazada SG', 'Lazada SG', 'Lazada SG', 'Lazada SG', 'Shopee SG', 'Shopee SG', 'Shopee SG', 'Shopee SG', 'Shopee SG', 'Lazada SG', 'Lazada SG', 'Lazada SG', 'Under Armour', 'Fairprice ON', 'Shopee SG', 'Lazada SG', 'Zalora SG', 'Shopee SG', 'Shopee SG', 'Lazada SG', 'Lazada SG', 'Lazada SG', 'Lazada SG', 'Lazada SG', 'Lazada SG', 'Shopee SG', 'Shopee SG', 'Shopee SG', 'Fairprice ON', 'Zalora SG', 'Lazada SG', 'Lazada SG', 'Lazada SG', 'Lazada SG', 'Lazada SG', 'Lazada SG', 'Lazada SG', 'Lazada SG', 'Lazada SG', 'Lazada SG', 'Lazada SG', 'Lazada SG', 'Lazada SG', 'Lazada SG', 'Lazada SG', 'Lazada SG', 'Lazada SG', 'Lazada SG', 'Lazada SG', 'Lazada SG', 'Lazada SG', 'Lazada SG', 'Lazada SG', 'Lazada SG', 'Lazada SG', 'Lazada SG', 'Lazada SG', 'Lazada SG', 'Lazada SG', 'Lazada SG', 'Lazada SG', 'Lazada SG', 'Lazada SG', 'Lazada SG', 'Lazada SG', 'Lazada SG', 'Lazada SG', 'Lazada SG', 'Lazada SG', 'Lazada SG', 'Lazada SG', 'Lazada SG', 'Lazada SG', 'Lazada SG', 'Lazada SG', 'Lazada SG', 'Watsons Singapore', 'Lazada SG', 'Lazada SG', 'Lazada SG', 'Lazada SG', 'Lazada SG', 'Lazada SG', 'Lazada SG', 'Shopee SG', 'Shopee SG', 'Shopee SG', 'Shopee SG', 'Lazada SG', 'Lazada SG', 'Lazada SG', 'Lazada SG', 'Samsung SG']\n",
      "\n",
      "(2022, 11)\n",
      "['Lazada SG', 'Lazada SG', 'Lazada SG', 'Lazada SG', 'Shopee SG', 'Shopee SG', 'Shopee SG', 'Shopee SG', 'Shopee SG', 'Shopee SG', 'Fairprice ON', 'Lazada SG', 'Lazada SG', 'Lazada SG', 'Lazada SG', 'Shopee SG', 'Lazada SG', 'Shopee SG', 'Shopee SG', 'Shopee SG', 'Shopee SG', 'Shopee SG', 'Shopee SG', 'Shopee SG', 'Shopee SG', 'Shopee SG', 'Shopee SG', 'Shopee SG', 'Shopee SG', 'Shopee SG', 'Shopee SG', 'Shopee SG', 'Shopee SG', 'Shopee SG', 'Lazada SG', 'Lazada SG', 'Lazada SG', 'Lazada SG', 'Lazada SG', 'Lazada SG', 'Shopee SG', 'Shopee SG', 'Shopee SG', 'Zalora SG', 'Shopee SG', 'Shopee SG', 'Shopee SG', 'Shopee SG', 'Shopee SG', 'Shopee SG', 'Shopee SG', 'Shopee SG', 'Shopee SG', 'Shopee SG', 'Lazada SG', 'Lazada SG', 'Lazada SG', 'Lazada SG', 'Lazada SG', 'Lazada SG', 'Lazada SG', 'Lazada SG', 'Shopee SG', 'Lazada SG', 'Lazada SG', 'Lazada SG', 'Lazada SG', 'Lazada SG', 'Lazada SG', 'Lazada SG', 'Lazada SG', 'Lazada SG', 'Shopee SG', 'Lazada SG', 'Lazada SG', 'Lazada SG', 'Lazada SG', 'Lazada SG', 'Shopee SG', 'Shopee SG', 'Shopee SG', 'Shopee SG', 'Shopee SG', 'Shopee SG', 'Shopee SG', 'Lazada SG', 'Lazada SG', 'Lazada SG', 'Lazada SG', 'Lazada SG', 'Lazada SG', 'Lazada SG', 'Lazada SG', 'Lazada SG', 'Lazada SG', 'Lazada SG', 'Lazada SG', 'Lazada SG', 'Lazada SG', 'Lazada SG', 'Lazada SG', 'Lazada SG', 'Lazada SG', 'Lazada SG', 'Lazada SG', 'Lazada SG', 'Lazada SG', 'Shopee SG', 'Shopee SG', 'Shopee SG', 'Shopee SG', 'Shopee SG', 'Shopee SG', 'Shopee SG', 'Shopee SG', 'Shopee SG', 'Shopee SG', 'Shopee SG', 'Lazada SG', 'Lazada SG', 'Shopee SG', 'Shopee SG', 'Shopee SG', 'Lazada SG', 'Lazada SG', 'Lazada SG', 'Lazada SG', 'Lazada SG', 'Lazada SG', 'Lazada SG', 'Shopee SG', 'Shopee SG', 'Shopee SG', 'Shopee SG', 'Shopee SG', 'Shopee SG', 'Shopee SG', 'Shopee SG', 'Lazada SG', 'Lazada SG', 'Lazada SG', 'Shopee SG', 'Lazada SG', 'Lazada SG', 'Shopee SG', 'Shopee SG', 'Shopee SG', 'Shopee SG', 'Shopee SG', 'Shopee SG', 'Shopee SG', 'Shopee SG', 'Adidas', 'Lazada SG', 'Lazada SG', 'Lazada SG', 'Shopee SG', 'Shopee SG', 'Samsung SG', 'Shopee SG', 'Shopee SG', 'Shopee SG', 'Shopee SG', 'Shopee SG', 'Shopee SG', 'Shopee SG', 'Shopee SG', 'Shopee SG', 'Shopee SG', 'Shopee SG', 'Shopee SG']\n",
      "\n",
      "(2022, 12)\n",
      "['Lazada SG', 'Lazada SG', 'Lazada SG', 'Lazada SG', 'Lazada SG', 'Lazada SG', 'Lazada SG', 'Lazada SG', 'Lazada SG', 'Lazada SG', 'Lazada SG', 'Lazada SG', 'Lazada SG', 'Lazada SG', 'Lazada SG', 'Lazada SG', 'Lazada SG', 'Lazada SG', 'Lazada SG', 'Lazada SG', 'Lazada SG', 'Lazada SG', 'Lazada SG', 'Lazada SG', 'Lazada SG', 'Lazada SG', 'Lazada SG', 'Lazada SG', 'Lazada SG', 'Lazada SG', 'Lazada SG', 'Lazada SG', 'Lazada SG', 'Lazada SG', 'Lazada SG', 'Lazada SG', 'Shopee SG', 'Shopee SG', 'Lazada SG', 'Lazada SG', 'Shopee SG', 'Shopee SG', 'Shopee SG', 'Lazada SG', 'Lazada SG', 'Lazada SG', 'Lazada SG', 'Lazada SG', 'Lazada SG', 'Lazada SG', 'Lazada SG', 'Shopee SG', 'Lazada SG', 'Lazada SG', 'Lazada SG', 'Shopee SG', 'Shopee SG', 'Shopee SG', 'Shopee SG', 'Lazada SG', 'Lazada SG', 'Lazada SG', 'Shopee SG', 'Shopee SG', 'Shopee SG', 'Lazada SG', 'Lazada SG', 'Lazada SG', 'Lazada SG', 'Lazada SG', 'Lazada SG', 'Lazada SG', 'Lazada SG', 'Lazada SG', 'Lazada SG', 'Pedro Shoes', 'Lazada SG', 'Shopee SG', 'Lazada SG', 'Lazada SG', 'Lazada SG', 'Lazada SG', 'Lazada SG', 'Lazada SG', 'Lazada SG', 'Lazada SG', 'Lazada SG', 'Lazada SG', 'Lazada SG', 'Lazada SG', 'Lazada SG', 'Lazada SG', 'Lazada SG', 'Lazada SG', 'Lazada SG', 'Lazada SG', 'Lazada SG', 'Lazada SG', 'Lazada SG', 'Shopee SG', 'Shopee SG', 'Shopee SG', 'Shopee SG', 'Shopee SG', 'Lazada SG', 'Lazada SG', 'Lazada SG', 'Lazada SG', 'Shopee SG', 'Shopee SG', 'Lazada SG', 'Lazada SG', 'Lazada SG', 'Shopee SG', 'Shopee SG', 'Shopee SG', 'Shopee SG', 'Shopee SG', 'Shopee SG', 'Shopee SG', 'Shopee SG', 'Lazada SG', 'Lazada SG', 'Lazada SG', 'Lazada SG', 'Shopee SG', 'Shopee SG', 'Shopee SG', 'Shopee SG', 'Shopee SG', 'Lazada SG', 'Lazada SG', 'Lazada SG', 'Lazada SG', 'Shopee SG', 'Shopee SG', 'Shopee SG', 'Lazada SG', 'Lazada SG', 'Lazada SG', 'Lazada SG', 'Lazada SG', 'Lazada SG', 'Lazada SG', 'Lazada SG', 'Lazada SG', 'Lazada SG', 'Lazada SG', 'Lazada SG', 'Shopee SG', 'Shopee SG', 'Lazada SG', 'Lazada SG', 'Lazada SG', 'Lazada SG', 'Lazada SG', 'Lazada SG', 'Lazada SG', 'Lazada SG', 'Lazada SG', 'Lazada SG', 'Lazada SG', 'Lazada SG', 'Lazada SG', 'Lazada SG', 'Lazada SG', 'Lazada SG', 'Lazada SG', 'Lazada SG', 'Lazada SG', 'Lazada SG', 'Lazada SG', 'Lazada SG', 'Lazada SG', 'Lazada SG', 'Lazada SG', 'Lazada SG', 'Lazada SG', 'Lazada SG', 'Lazada SG', 'Shopee SG', 'Lazada SG', 'Lazada SG', 'Lazada SG', 'Lazada SG', 'Lazada SG', 'Lazada SG', 'Shopee SG', 'Shopee SG', 'Lazada SG', 'Shopee SG', 'Decathlon', 'Shopee SG', 'Lazada SG', 'Lazada SG', 'Lazada SG', 'Shopee SG', 'Zalora SG', 'Lazada SG', 'Lazada SG', 'Lazada SG', 'Lazada SG', 'Lazada SG', 'Lazada SG', 'Lazada SG', 'Lazada SG', 'Lazada SG', 'Lazada SG', 'Lazada SG', 'Lazada SG', 'Lazada SG', 'Lazada SG', 'Fairprice ON', 'Lazada SG', 'Lazada SG', 'Lazada SG', 'Lazada SG', 'Shopee SG', 'Shopee SG', 'Shopee SG', 'Shopee SG', 'Lazada SG', 'Lazada SG', 'Lazada SG', 'Lazada SG', 'Lazada SG', 'Shopee SG', 'Shopee SG', 'Shopee SG', 'Shopee SG', 'Shopee SG', 'Lazada SG', 'Lazada SG', 'Lazada SG', 'Lazada SG', 'Lazada SG', 'Lazada SG', 'Lazada SG', 'Lazada SG', 'Lazada SG', 'Lazada SG', 'Lazada SG', 'Lazada SG', 'Lazada SG', 'Lazada SG', 'Shopee SG', 'Lazada SG', 'Lazada SG', 'Lazada SG', 'Lazada SG', 'Lazada SG', 'Lazada SG', 'Lazada SG', 'Lazada SG', 'Lazada SG', 'Lazada SG', 'Lazada SG', 'Lazada SG', 'Lazada SG', 'Lazada SG', 'Lazada SG', 'Lazada SG', 'Lazada SG', 'Lazada SG', 'Lazada SG', 'Lazada SG', 'Lazada SG', 'Lazada SG', 'Lazada SG', 'Lazada SG', 'Lazada SG', 'Lazada SG', 'Lazada SG', 'Lazada SG', 'Lazada SG', 'Lazada SG', 'Lazada SG', 'Lazada SG', 'Lazada SG', 'Lazada SG', 'Lazada SG', 'Lazada SG', 'Lazada SG', 'Lazada SG', 'Lazada SG', 'Lazada SG', 'Shopee SG', 'Shopee SG', 'Lazada SG', 'Lazada SG', 'Adidas', 'Shopee SG', 'Shopee SG', 'Shopee SG', 'Lazada SG', 'Shopee SG', 'Shopee SG', 'Shopee SG', 'Zalora SG', 'Lazada SG', 'Lazada SG', 'Shopee SG', 'Shopee SG', 'Shopee SG', 'Shopee SG', 'Shopee SG', 'Shopee SG', 'Shopee SG', 'Shopee SG', 'Shopee SG', 'Shopee SG', 'Shopee SG', 'Shopee SG', 'Shopee SG', 'Shopee SG', 'Shopee SG', 'Shopee SG', 'Lazada SG', 'Shopee SG', 'Shopee SG', 'Shopee SG', 'Shopee SG', 'Shopee SG', 'Shopee SG', 'Shopee SG', 'Shopee SG', 'Shopee SG', 'Shopee SG', 'Shopee SG', 'Shopee SG', 'Shopee SG', 'Shopee SG', 'Shopee SG', 'Shopee SG', 'Shopee SG', 'Shopee SG', 'Shopee SG', 'Shopee SG', 'Shopee SG', 'Lazada SG', 'Shopee SG', 'Shopee SG', 'Shopee SG', 'Lazada SG', 'Lazada SG', 'Lazada SG', 'Lazada SG', 'Lazada SG', 'Lazada SG', 'Lazada SG', 'Lazada SG', 'Shopee SG', 'Shopee SG', 'Lazada SG', 'Lazada SG', 'Lazada SG', 'Shopee SG', 'Shopee SG', 'Shopee SG', 'Shopee SG', 'Shopee SG', 'Shopee SG', 'Shopee SG', 'Shopee SG', 'Shopee SG', 'Shopee SG', 'Shopee SG', 'Shopee SG']\n",
      "\n",
      "(2023, 1)\n",
      "['Lazada SG', 'Lazada SG', 'Lazada SG', 'Lazada SG', 'Decathlon', 'Shopee SG', 'Shopee SG', 'Shopee SG', 'Lazada SG', 'Lazada SG', 'Lazada SG', 'Shopee SG', 'Shopee SG', 'Shopee SG', 'Shopee SG', 'Shopee SG', 'Shopee SG', 'Shopee SG', 'Shopee SG', 'Shopee SG', 'Shopee SG', 'Shopee SG', 'Shopee SG', 'Shopee SG', 'Shopee SG', 'Lazada SG', 'Shopee SG', 'Shopee SG', 'Shopee SG', 'Shopee SG', 'Shopee SG', 'Watsons Singapore', 'Lazada SG', 'Lazada SG', 'Lazada SG', 'Lazada SG', 'Lazada SG', 'Shopee SG', 'Shopee SG', 'Shopee SG', 'Shopee SG', 'Shopee SG', 'Shopee SG', 'Shopee SG', 'Shopee SG', 'Shopee SG', 'Shopee SG', 'Shopee SG', 'Shopee SG', 'Lazada SG', 'Lazada SG', 'Lazada SG', 'Lazada SG', 'Shopee SG', 'Lazada SG', 'Lazada SG', 'Lazada SG', 'Shopee SG', 'Lazada SG', 'Lazada SG', 'Shopee SG', 'Lazada SG', 'Shopee SG', 'Shopee SG', 'Shopee SG', 'Lazada SG', 'Lazada SG', 'Lazada SG', 'Lazada SG', 'Lazada SG', 'Shopee SG', 'Shopee SG', 'Shopee SG', 'Shopee SG', 'Shopee SG', 'Shopee SG', 'Lazada SG', 'Lazada SG', 'Lazada SG', 'Lazada SG', 'Shopee SG', 'Lazada SG', 'Lazada SG', 'Shopee SG', 'Shopee SG', 'Shopee SG', 'Lazada SG', 'Lazada SG', 'Zalora SG', 'Shopee SG', 'Shopee SG', 'Shopee SG', 'Shopee SG', 'Shopee SG', 'Shopee SG', 'Shopee SG', 'Shopee SG', 'Shopee SG', 'Shopee SG', 'Shopee SG', 'Shopee SG', 'Shopee SG', 'Shopee SG', 'Shopee SG', 'Lazada SG', 'Lazada SG', 'Shopee SG', 'Lazada SG', 'Lazada SG', 'Lazada SG', 'Lazada SG', 'Lazada SG', 'Lazada SG', 'Lazada SG', 'Shopee SG', 'Shopee SG', 'Shopee SG', 'Shopee SG', 'Shopee SG', 'Shopee SG', 'Lazada SG', 'Lazada SG', 'Lazada SG', 'Watsons Singapore', 'Shopee SG', 'Shopee SG', 'Zalora SG', 'Lazada SG', 'Shopee SG', 'Lazada SG', 'Zalora SG', 'Shopee SG', 'Shopee SG', 'Lazada SG', 'Lazada SG', 'Lazada SG', 'Lazada SG', 'Lazada SG', 'Lazada SG', 'Lazada SG', 'Lazada SG', 'Lazada SG', 'Lazada SG', 'Lazada SG', 'Lazada SG', 'Lazada SG', 'Lazada SG', 'Lazada SG', 'Lazada SG', 'Shopee SG', 'Lazada SG', 'Shopee SG', 'Shopee SG', 'Shopee SG', 'Shopee SG', 'Shopee SG', 'Shopee SG', 'Shopee SG', 'Shopee SG', 'Shopee SG', 'Shopee SG', 'Shopee SG', 'Lazada SG', 'Lazada SG', 'Lazada SG', 'Lazada SG', 'Lazada SG', 'Lazada SG', 'Lazada SG', 'Lazada SG', 'Lazada SG', 'Lazada SG', 'Lazada SG', 'Lazada SG', 'Lazada SG', 'Lazada SG', 'Lazada SG', 'Lazada SG', 'Lazada SG', 'Lazada SG', 'Lazada SG', 'Lazada SG', 'Lazada SG', 'Lazada SG', 'Lazada SG', 'Lazada SG', 'Lazada SG', 'Lazada SG', 'Lazada SG', 'Lazada SG', 'Lazada SG', 'Lazada SG', 'Shopee SG', 'Zalora SG', 'Lazada SG', 'Shopee SG', 'Shopee SG', 'Shopee SG', 'Shopee SG', 'Lazada SG', 'Lazada SG', 'Lazada SG', 'Lazada SG', 'Lazada SG', 'Lazada SG', 'Lazada SG', 'Lazada SG', 'Lazada SG', 'Lazada SG', 'Lazada SG', 'Lazada SG', 'Lazada SG', 'Lazada SG', 'Lazada SG', 'Lazada SG', 'Lazada SG', 'Shopee SG', 'Shopee SG', 'Lazada SG', 'Puma', 'Lazada SG', 'Lazada SG', 'Lazada SG', 'Lazada SG', 'Lazada SG', 'Lazada SG', 'Lazada SG', 'Lazada SG', 'Nike APAC', 'Lazada SG', 'Lazada SG', 'Lazada SG', 'Lazada SG', 'Shopee SG', 'Lazada SG', 'Lazada SG', 'Lazada SG', 'Lazada SG', 'Lazada SG', 'Lazada SG', 'Lazada SG', 'Lazada SG', 'Lazada SG', 'Lazada SG', 'Lazada SG', 'Shopee SG', 'Lazada SG', 'Lazada SG', 'Lazada SG', 'Lazada SG', 'Lazada SG', 'Lazada SG', 'Lazada SG', 'Lazada SG', 'Lazada SG', 'Lazada SG', 'Lazada SG', 'Lazada SG', 'Lazada SG', 'Lazada SG', 'Lazada SG', 'Lazada SG', 'Lazada SG', 'Lazada SG', 'Lazada SG', 'Lazada SG', 'Lazada SG', 'Lazada SG', 'Lazada SG', 'Lazada SG', 'Lazada SG', 'Lazada SG', 'Lazada SG', 'Lazada SG', 'Lazada SG', 'Lazada SG', 'Lazada SG']\n",
      "\n",
      "(2023, 2)\n",
      "['Shopee SG', 'Shopee SG', 'Shopee SG', 'Shopee SG', 'Shopee SG', 'Shopee SG', 'Shopee SG', 'Shopee SG', 'Shopee SG', 'Shopee SG', 'Shopee SG', 'Shopee SG', 'Zalora SG', 'Lazada SG', 'Lazada SG', 'Lazada SG', 'Shopee SG', 'Shopee SG', 'Shopee SG', 'Shopee SG', 'Shopee SG', 'Shopee SG', 'Lazada SG', 'Shopee SG', 'Shopee SG', 'Shopee SG', 'Shopee SG', 'Shopee SG', 'Shopee SG', 'Shopee SG', 'Shopee SG', 'Shopee SG', 'Shopee SG', 'Shopee SG', 'Shopee SG', 'Shopee SG', 'Shopee SG', 'Shopee SG', 'Shopee SG', 'Shopee SG', 'Shopee SG', 'Shopee SG', 'Shopee SG', 'Lazada SG', 'Lazada SG', 'Shopee SG', 'Shopee SG', 'Shopee SG', 'Shopee SG', 'Shopee SG', 'Shopee SG', 'Shopee SG', 'Shopee SG', 'Shopee SG', 'Shopee SG', 'Shopee SG', 'Shopee SG', 'Shopee SG', 'Lazada SG', 'Lazada SG', 'Lazada SG', 'Lazada SG', 'Lazada SG', 'Lazada SG', 'Lazada SG', 'Lazada SG', 'Lazada SG', 'Lazada SG', 'Lazada SG', 'Shopee SG', 'Shopee SG', 'Shopee SG', 'Shopee SG', 'Shopee SG', 'Shopee SG', 'Shopee SG', 'Shopee SG', 'Shopee SG', 'Shopee SG', 'Shopee SG', 'Shopee SG', 'Lazada SG', 'Lazada SG', 'Lazada SG', 'Lazada SG', 'Lazada SG', 'Lazada SG', 'Lazada SG', 'Lazada SG', 'Lazada SG', 'Lazada SG', 'Lazada SG', 'Lazada SG', 'Lazada SG', 'Lazada SG', 'Lazada SG', 'Lazada SG', 'Lazada SG', 'Lazada SG', 'Lazada SG', 'Lazada SG', 'Lazada SG', 'Lazada SG', 'Lazada SG', 'Lazada SG', 'Lazada SG', 'Lazada SG', 'Lazada SG', 'Lazada SG', 'Lazada SG', 'Lazada SG', 'Lazada SG', 'Lazada SG', 'Lazada SG', 'Lazada SG', 'Lazada SG', 'Lazada SG', 'Lazada SG', 'Lazada SG', 'Shopee SG', 'Lazada SG', 'Shopee SG', 'Shopee SG', 'Shopee SG', 'Shopee SG', 'Lazada SG', 'Shopee SG', 'Lazada SG', 'Lazada SG', 'Lazada SG', 'Lazada SG', 'Lazada SG', 'Lazada SG', 'Shopee SG', 'Shopee SG', 'Shopee SG', 'Shopee SG', 'Shopee SG', 'Shopee SG', 'Shopee SG', 'Lazada SG', 'Lazada SG', 'Lazada SG', 'Lazada SG', 'Lazada SG', 'Lazada SG', 'Shopee SG', 'Shopee SG', 'Shopee SG', 'Shopee SG', 'Shopee SG', 'Shopee SG', 'Shopee SG', 'Shopee SG', 'Shopee SG', 'Shopee SG', 'Shopee SG', 'Shopee SG', 'Shopee SG', 'Lazada SG', 'Lazada SG', 'Lazada SG', 'Lazada SG', 'Shopee SG', 'Shopee SG', 'Lazada SG', 'Lazada SG', 'Lazada SG', 'Shopee SG', 'Shopee SG', 'Shopee SG', 'Lazada SG', 'Lazada SG', 'Lazada SG', 'Shopee SG', 'Shopee SG', 'Shopee SG', 'Shopee SG', 'Shopee SG', 'Shopee SG', 'Shopee SG', 'Shopee SG', 'Lazada SG', 'Lazada SG', 'Lazada SG', 'Lazada SG', 'Lazada SG', 'Shopee SG', 'Shopee SG', 'Shopee SG', 'Shopee SG', 'Shopee SG', 'Shopee SG', 'Shopee SG', 'Shopee SG', 'Lazada SG', 'Lazada SG', 'Lazada SG', 'Lazada SG', 'Lazada SG', 'Lazada SG', 'Lazada SG', 'Lazada SG', 'Lazada SG', 'Lazada SG', 'Lazada SG', 'Lazada SG', 'Lazada SG', 'Lazada SG', 'Lazada SG', 'Lazada SG', 'Lazada SG', 'Lazada SG', 'Lazada SG', 'Lazada SG', 'Lazada SG', 'Lazada SG', 'Lazada SG', 'Lazada SG', 'Lazada SG', 'Lazada SG', 'Lazada SG', 'Lazada SG', 'Lazada SG', 'Lazada SG', 'Lazada SG', 'Lazada SG', 'Lazada SG', 'Lazada SG', 'Shopee SG', 'Shopee SG', 'Lazada SG', 'Lazada SG', 'Lazada SG', 'Shopee SG', 'Lazada SG', 'Lazada SG', 'Lazada SG', 'Lazada SG', 'Lazada SG', 'Lazada SG', 'Lazada SG', 'Lazada SG', 'Lazada SG', 'Lazada SG', 'Lazada SG', 'Lazada SG', 'Shopee SG', 'Shopee SG', 'Shopee SG', 'Shopee SG', 'Shopee SG', 'Shopee SG', 'Shopee SG', 'Shopee SG', 'Shopee SG', 'Shopee SG', 'Shopee SG', 'Lazada SG', 'Shopee SG', 'Shopee SG', 'Shopee SG', 'Shopee SG', 'Shopee SG', 'Fairprice ON', 'Lazada SG', 'Shopee SG', 'Shopee SG', 'Shopee SG', 'Shopee SG', 'Shopee SG', 'Shopee SG', 'Shopee SG', 'Shopee SG', 'Shopee SG', 'Shopee SG', 'Lazada SG', 'Lazada SG', 'Shopee SG', 'Shopee SG', 'Shopee SG', 'Lazada SG', 'Watsons Singapore', 'Shopee SG', 'Shopee SG', 'Shopee SG', 'Shopee SG', 'Shopee SG', 'Shopee SG', 'Shopee SG', 'Shopee SG', 'Shopee SG', 'Lazada SG', 'Lazada SG', 'Lazada SG', 'Lazada SG', 'Lazada SG', 'Lazada SG', 'Lazada SG', 'Lazada SG', 'Lazada SG', 'Lazada SG', 'Lazada SG', 'Lazada SG', 'Lazada SG', 'Lazada SG', 'Lazada SG', 'Lazada SG', 'Lazada SG', 'Lazada SG', 'Lazada SG', 'Lazada SG', 'Lazada SG', 'Lazada SG', 'Lazada SG', 'Lazada SG', 'Lazada SG', 'Lazada SG', 'Lazada SG', 'Lazada SG', 'Lazada SG', 'Lazada SG', 'Lazada SG', 'Lazada SG', 'Lazada SG', 'Lazada SG', 'Lazada SG', 'Lazada SG', 'Lazada SG', 'Lazada SG', 'Shopee SG', 'Shopee SG', 'Shopee SG', 'Shopee SG', 'Lazada SG', 'Lazada SG', 'Lazada SG', 'Lazada SG', 'Lazada SG', 'Lazada SG', 'Lazada SG', 'Shopee SG', 'Lazada SG', 'Lazada SG', 'Lazada SG', 'Lazada SG', 'Lazada SG', 'Lazada SG', 'Lazada SG', 'Lazada SG', 'Lazada SG', 'Lazada SG', 'Shopee SG', 'Shopee SG', 'Shopee SG', 'Shopee SG', 'Shopee SG', 'Shopee SG', 'Shopee SG', 'Shopee SG', 'Shopee SG', 'Shopee SG', 'Shopee SG']\n",
      "\n",
      "(2023, 3)\n",
      "['Lazada SG', 'Lazada SG', 'Lazada SG', 'Lazada SG', 'Lazada SG', 'Shopee SG', 'Shopee SG', 'Shopee SG', 'Shopee SG', 'Shopee SG', 'Shopee SG', 'Shopee SG', 'Shopee SG', 'Shopee SG', 'Shopee SG', 'Shopee SG', 'Shopee SG', 'Shopee SG', 'Shopee SG', 'Shopee SG', 'Shopee SG', 'Shopee SG', 'Shopee SG', 'Shopee SG', 'Shopee SG', 'Shopee SG', 'Zalora SG', 'Shopee SG', 'Lazada SG', 'Lazada SG', 'Lazada SG', 'Lazada SG', 'Lazada SG', 'Lazada SG', 'Lazada SG', 'Lazada SG', 'Lazada SG', 'Lazada SG', 'Lazada SG', 'Lazada SG', 'Lazada SG', 'Lazada SG', 'Lazada SG', 'Lazada SG', 'Lazada SG', 'Lazada SG', 'Lazada SG', 'Lazada SG', 'Lazada SG', 'Lazada SG', 'Lazada SG', 'Lazada SG', 'Lazada SG', 'Lazada SG', 'Lazada SG', 'Lazada SG', 'Lazada SG', 'Lazada SG', 'Lazada SG', 'Lazada SG', 'Lazada SG', 'Lazada SG', 'Nike APAC', 'Shopee SG', 'Lazada SG', 'Lazada SG', 'Zalora SG', 'Lazada SG', 'Zalora SG', 'Lazada SG', 'Shopee SG', 'Lazada SG', 'Lazada SG', 'Lazada SG', 'Shopee SG', 'Shopee SG', 'Shopee SG', 'Shopee SG', 'Shopee SG', 'Shopee SG', 'Shopee SG', 'Shopee SG', 'Shopee SG', 'Lazada SG', 'Lazada SG', 'Shopee SG', 'Shopee SG', 'Shopee SG', 'Shopee SG', 'Shopee SG', 'Lazada SG', 'Lazada SG', 'Lazada SG', 'Shopee SG', 'Shopee SG', 'Shopee SG', 'Shopee SG', 'Shopee SG', 'Shopee SG', 'Shopee SG', 'Shopee SG', 'Shopee SG', 'Shopee SG', 'Zalora SG', 'Shopee SG', 'Lazada SG', 'Shopee SG', 'Watsons Singapore', 'Lazada SG', 'Lazada SG', 'Lazada SG', 'Lazada SG', 'Lazada SG', 'Shopee SG', 'Shopee SG', 'Shopee SG', 'Lazada SG', 'Lazada SG', 'Lazada SG', 'Lazada SG', 'Lazada SG', 'Lazada SG', 'Lazada SG', 'Lazada SG', 'Lazada SG', 'Lazada SG', 'Lazada SG', 'Lazada SG', 'Lazada SG', 'Lazada SG', 'Lazada SG', 'Lazada SG', 'Lazada SG', 'Lazada SG', 'Lazada SG', 'Lazada SG', 'Lazada SG', 'Lazada SG', 'Shopee SG', 'Shopee SG', 'Shopee SG', 'Shopee SG', 'Shopee SG', 'Shopee SG', 'Shopee SG', 'Shopee SG', 'Shopee SG', 'Lazada SG', 'Lazada SG', 'Lazada SG', 'Lazada SG', 'Shopee SG', 'Shopee SG', 'Shopee SG', 'Shopee SG', 'Lazada SG', 'Lazada SG', 'Lazada SG', 'Lazada SG', 'Lazada SG', 'Lazada SG', 'Lazada SG', 'Shopee SG', 'Lazada SG', 'Lazada SG', 'Lazada SG', 'Lazada SG', 'Lazada SG', 'Lazada SG', 'Lazada SG', 'Lazada SG', 'Lazada SG', 'Lazada SG', 'Lazada SG', 'Lazada SG', 'Shopee SG', 'Shopee SG', 'Shopee SG', 'Shopee SG', 'Lazada SG', 'Lazada SG', 'Lazada SG', 'Lazada SG', 'Lazada SG', 'Lazada SG', 'Lazada SG', 'Lazada SG', 'Lazada SG', 'Lazada SG', 'Lazada SG', 'Lazada SG', 'Lazada SG', 'Lazada SG', 'Lazada SG', 'Lazada SG', 'Lazada SG', 'Lazada SG', 'Lazada SG', 'Lazada SG', 'Lazada SG', 'Lazada SG', 'Shopee SG', 'Shopee SG', 'Lazada SG', 'Lazada SG', 'Lazada SG', 'Lazada SG', 'Lazada SG', 'Lazada SG', 'Lazada SG', 'Lazada SG', 'Lazada SG', 'Shopee SG', 'Shopee SG', 'Shopee SG', 'Shopee SG', 'Shopee SG', 'Shopee SG', 'Shopee SG', 'Shopee SG', 'Shopee SG', 'Lazada SG', 'Lazada SG', 'Shopee SG', 'Lazada SG', 'Shopee SG', 'Shopee SG', 'Shopee SG', 'Shopee SG', 'Shopee SG', 'Shopee SG', 'Shopee SG', 'Shopee SG', 'Shopee SG', 'Shopee SG', 'Shopee SG', 'Shopee SG', 'Shopee SG', 'Shopee SG', 'Lazada SG', 'Lazada SG', 'Lazada SG', 'Lazada SG', 'Lazada SG', 'Lazada SG', 'Lazada SG', 'Lazada SG', 'Lazada SG', 'Lazada SG', 'Lazada SG', 'Lazada SG', 'Lazada SG', 'Shopee SG', 'Shopee SG', 'Lazada SG', 'Lazada SG', 'Lazada SG', 'Lazada SG', 'Lazada SG', 'Lazada SG', 'Lazada SG', 'Lazada SG', 'Lazada SG', 'Lazada SG', 'Lazada SG', 'Lazada SG', 'Lazada SG', 'Lazada SG', 'Lazada SG', 'Lazada SG', 'Lazada SG', 'Lazada SG', 'Lazada SG', 'Lazada SG', 'Lazada SG', 'Lazada SG', 'Lazada SG', 'Lazada SG', 'Lazada SG', 'Lazada SG', 'Lazada SG', 'Lazada SG', 'Lazada SG', 'Lazada SG', 'Lazada SG', 'Lazada SG', 'Lazada SG', 'Lazada SG', 'Lazada SG', 'Lazada SG', 'Lazada SG', 'Lazada SG', 'Lazada SG', 'Lazada SG', 'Lazada SG', 'Lazada SG', 'Lazada SG', 'Lazada SG', 'Lazada SG', 'Lazada SG', 'Lazada SG', 'Lazada SG', 'Lazada SG', 'Lazada SG', 'Lazada SG', 'Lazada SG', 'Lazada SG', 'Lazada SG', 'Lazada SG', 'Lazada SG', 'Lazada SG', 'Lazada SG', 'Lazada SG', 'Lazada SG', 'Lazada SG', 'Lazada SG', 'Lazada SG', 'Lazada SG', 'Lazada SG', 'Lazada SG', 'Lazada SG', 'Lazada SG', 'Lazada SG', 'Lazada SG', 'Lazada SG', 'Lazada SG', 'Lazada SG', 'Lazada SG', 'Lazada SG', 'Lazada SG', 'Lazada SG', 'Lazada SG', 'Lazada SG', 'Lazada SG', 'Lazada SG', 'Lazada SG', 'Lazada SG', 'Lazada SG', 'Lazada SG', 'Lazada SG', 'Lazada SG', 'Lazada SG', 'Lazada SG', 'Lazada SG', 'Lazada SG', 'Lazada SG', 'Shopee SG', 'Shopee SG', 'Lazada SG', 'Lazada SG', 'Lazada SG', 'Lazada SG', 'Lazada SG', 'Puma', 'Lazada SG', 'Lazada SG', 'Lazada SG', 'Lazada SG', 'Lazada SG', 'Lazada SG', 'Lazada SG', 'Lazada SG', 'Lazada SG', 'Lazada SG', 'Shopee SG', 'Lazada SG', 'Lazada SG', 'Shopee SG', 'Lazada SG', 'Lazada SG', 'Lazada SG', 'Lazada SG', 'Lazada SG', 'Lazada SG', 'Lazada SG', 'Lazada SG', 'Lazada SG', 'Lazada SG', 'Lazada SG', 'Lazada SG', 'Lazada SG', 'Lazada SG', 'Lazada SG', 'Shopee SG', 'Lazada SG', 'Lazada SG', 'Lazada SG', 'Lazada SG', 'Lazada SG', 'Shopee SG', 'Shopee SG', 'Shopee SG', 'Lazada SG']\n",
      "\n",
      "(2023, 4)\n",
      "['Shopee SG', 'Shopee SG', 'Lazada SG', 'Shopee SG', 'Shopee SG', 'Shopee SG', 'Shopee SG', 'Shopee SG', 'Lazada SG', 'Lazada SG', 'Lazada SG', 'Lazada SG', 'Lazada SG', 'Lazada SG', 'Lazada SG', 'Lazada SG', 'Lazada SG', 'Lazada SG', 'Lazada SG', 'Shopee SG', 'Shopee SG', 'Shopee SG', 'Lazada SG', 'Lazada SG', 'Lazada SG', 'Lazada SG']\n",
      "\n",
      "(2023, 5)\n",
      "['Lazada SG', 'Lazada SG', 'Lazada SG', 'Lazada SG', 'Lazada SG', 'Lazada SG', 'Lazada SG', 'Lazada SG', 'Lazada SG', 'Lazada SG', 'Lazada SG', 'Lazada SG', 'Lazada SG', 'Lazada SG', 'Lazada SG', 'Lazada SG', 'Lazada SG', 'Lazada SG', 'Shopee SG', 'Fairprice ON', 'Lazada SG', 'Lazada SG', 'Shopee SG', 'Lazada SG', 'Lazada SG', 'Lazada SG', 'Lazada SG', 'Lazada SG', 'Lazada SG', 'Lazada SG', 'Lazada SG', 'Lazada SG', 'Lazada SG', 'Lazada SG', 'Lazada SG', 'Lazada SG', 'Lazada SG', 'Lazada SG', 'Lazada SG', 'Lazada SG', 'Lazada SG', 'Lazada SG', 'Lazada SG', 'Lazada SG', 'Lazada SG', 'Lazada SG', 'Lazada SG', 'Lazada SG', 'Lazada SG', 'Lazada SG', 'Lazada SG', 'Lazada SG', 'Lazada SG', 'Lazada SG', 'Lazada SG', 'Nike APAC', 'Lazada SG', 'Lazada SG', 'Shopee SG', 'Shopee SG', 'Shopee SG', 'Shopee SG', 'Shopee SG', 'Shopee SG', 'Shopee SG', 'Shopee SG', 'Shopee SG', 'Shopee SG', 'Shopee SG', 'Lazada SG', 'Lazada SG', 'Lazada SG', 'Lazada SG', 'Lazada SG', 'Lazada SG', 'Lazada SG', 'Lazada SG', 'Lazada SG', 'Lazada SG', 'Lazada SG', 'Lazada SG', 'Lazada SG', 'Lazada SG']\n",
      "\n",
      "(2023, 6)\n",
      "['Lazada SG', 'Lazada SG', 'Lazada SG', 'Lazada SG', 'Lazada SG', 'Lazada SG', 'Lazada SG', 'Lazada SG', 'Lazada SG', 'Lazada SG', 'Lazada SG', 'Lazada SG', 'Lazada SG', 'Zalora SG', 'Shopee SG', 'Shopee SG', 'Shopee SG', 'Shopee SG', 'Shopee SG', 'Lazada SG', 'Lazada SG', 'Lazada SG', 'Lazada SG', 'Shopee SG', 'Lazada SG', 'Lazada SG', 'Lazada SG', 'Shopee SG', 'Shopee SG', 'Lazada SG', 'Lazada SG', 'Lazada SG', 'Shopee SG', 'Shopee SG', 'Shopee SG', 'Shopee SG', 'Lazada SG', 'Lazada SG', 'Lazada SG', 'Lazada SG', 'Lazada SG', 'Lazada SG', 'Lazada SG', 'Lazada SG', 'Lazada SG', 'Lazada SG', 'Lazada SG', 'Lazada SG', 'Lazada SG', 'Lazada SG', 'Lazada SG', 'Lazada SG', 'Lazada SG', 'Lazada SG', 'Lazada SG', 'Lazada SG', 'Lazada SG', 'Lazada SG', 'Lazada SG', 'Lazada SG', 'Lazada SG', 'Lazada SG', 'Lazada SG', 'Lazada SG', 'Lazada SG', 'Lazada SG', 'Lazada SG', 'Lazada SG', 'Lazada SG', 'Lazada SG', 'Shopee SG', 'Shopee SG', 'Shopee SG', 'Shopee SG', 'Shopee SG', 'Shopee SG', 'Lazada SG', 'Lazada SG', 'Lazada SG', 'Lazada SG', 'Lazada SG', 'Shopee SG', 'Shopee SG', 'Shopee SG', 'Shopee SG', 'Shopee SG', 'Lazada SG', 'Lazada SG', 'Lazada SG', 'Lazada SG', 'Lazada SG', 'Lazada SG', 'Lazada SG', 'Lazada SG', 'Lazada SG', 'Watsons Singapore', 'Shopee SG', 'Lazada SG', 'Lazada SG', 'Lazada SG', 'Lazada SG', 'Lazada SG', 'Lazada SG', 'Shopee SG', 'Shopee SG', 'Shopee SG', 'Shopee SG', 'Lazada SG', 'Shopee SG', 'Lazada SG', 'Lazada SG', 'Lazada SG', 'Lazada SG', 'Lazada SG', 'Lazada SG', 'Lazada SG', 'Lazada SG', 'Shopee SG', 'Lazada SG', 'Lazada SG', 'Shopee SG', 'Shopee SG', 'Shopee SG', 'Shopee SG', 'Shopee SG', 'Shopee SG', 'Shopee SG', 'Shopee SG', 'Shopee SG', 'Shopee SG', 'Lazada SG', 'Shopee SG', 'Lazada SG', 'Shopee SG', 'Shopee SG', 'Shopee SG', 'Shopee SG', 'Shopee SG', 'Lazada SG', 'Lazada SG', 'Shopee SG', 'Shopee SG', 'Lazada SG', 'Lazada SG', 'Lazada SG', 'Lazada SG', 'Lazada SG', 'Lazada SG', 'Lazada SG', 'Lazada SG', 'Lazada SG', 'Lazada SG', 'Lazada SG', 'Lazada SG', 'Lazada SG', 'Lazada SG', 'Lazada SG', 'Lazada SG', 'Lazada SG', 'Lazada SG', 'Lazada SG', 'Lazada SG', 'Lazada SG', 'Lazada SG', 'Lazada SG', 'Lazada SG', 'Lazada SG', 'Lazada SG', 'Lazada SG', 'Lazada SG', 'Lazada SG', 'Lazada SG', 'Shopee SG', 'Lazada SG', 'Lazada SG', 'Shopee SG', 'Lazada SG', 'Lazada SG', 'Lazada SG', 'Shopee SG', 'Shopee SG', 'Shopee SG', 'Shopee SG', 'Lazada SG', 'Lazada SG', 'Lazada SG', 'Shopee SG', 'Lazada SG', 'Lazada SG', 'Lazada SG', 'Shopee SG', 'Lazada SG', 'Lazada SG', 'Lazada SG', 'Lazada SG', 'Lazada SG', 'Lazada SG', 'Lazada SG', 'Lazada SG', 'Lazada SG', 'Lazada SG', 'Lazada SG', 'Lazada SG', 'Lazada SG', 'Lazada SG', 'Lazada SG', 'Lazada SG', 'Lazada SG', 'Shopee SG', 'Shopee SG', 'Shopee SG', 'Lazada SG', 'Lazada SG', 'Lazada SG', 'Lazada SG', 'Lazada SG', 'Lazada SG', 'Lazada SG', 'Lazada SG', 'Lazada SG', 'Lazada SG', 'Lazada SG', 'Lazada SG', 'Lazada SG', 'Lazada SG', 'Lazada SG', 'Lazada SG', 'Lazada SG', 'Lazada SG', 'Lazada SG', 'Lazada SG', 'Lazada SG', 'Lazada SG', 'Lazada SG', 'Lazada SG', 'Lazada SG', 'Lazada SG', 'Shopee SG', 'Shopee SG', 'Shopee SG', 'Shopee SG', 'Shopee SG', 'Shopee SG', 'Shopee SG', 'Shopee SG', 'Shopee SG', 'Shopee SG', 'Shopee SG', 'Lazada SG', 'Lazada SG', 'Shopee SG', 'Shopee SG', 'Lazada SG', 'Shopee SG', 'Shopee SG', 'Shopee SG', 'Shopee SG', 'Shopee SG', 'Shopee SG', 'Shopee SG', 'Shopee SG', 'Shopee SG', 'Shopee SG', 'Shopee SG', 'Shopee SG', 'Shopee SG', 'Shopee SG', 'Shopee SG', 'Shopee SG', 'Shopee SG', 'Shopee SG', 'Shopee SG', 'Shopee SG', 'Shopee SG', 'Lazada SG', 'Fairprice ON', 'Lazada SG', 'Lazada SG', 'Lazada SG', 'Shopee SG', 'Shopee SG', 'Lazada SG', 'Lazada SG', 'Lazada SG', 'Lazada SG', 'Lazada SG', 'Lazada SG', 'Lazada SG', 'Lazada SG', 'Lazada SG', 'Lazada SG', 'Lazada SG', 'Lazada SG', 'Lazada SG', 'Lazada SG', 'Lazada SG', 'Lazada SG', 'Shopee SG', 'Shopee SG', 'Shopee SG', 'Shopee SG', 'Shopee SG', 'Shopee SG', 'Shopee SG', 'Shopee SG', 'Shopee SG', 'Shopee SG', 'Lazada SG', 'Lazada SG', 'Lazada SG', 'Lazada SG', 'Lazada SG', 'Lazada SG', 'Lazada SG', 'Lazada SG', 'Lazada SG', 'Lazada SG', 'Lazada SG', 'Lazada SG', 'Lazada SG', 'Lazada SG', 'Shopee SG', 'Lazada SG', 'Lazada SG', 'Shopee SG', 'Lazada SG', 'Lazada SG', 'Shopee SG', 'Shopee SG', 'Shopee SG', 'Shopee SG', 'Shopee SG', 'Shopee SG', 'Shopee SG', 'Shopee SG', 'Shopee SG', 'Lazada SG', 'Lazada SG', 'Lazada SG', 'Lazada SG', 'Lazada SG', 'Lazada SG', 'Lazada SG', 'Shopee SG', 'Shopee SG', 'Shopee SG', 'Lazada SG', 'Lazada SG', 'Lazada SG', 'Lazada SG', 'Lazada SG', 'Lazada SG', 'Lazada SG', 'Lazada SG', 'Lazada SG', 'Lazada SG', 'Lazada SG', 'Lazada SG', 'Lazada SG', 'Lazada SG', 'Lazada SG', 'Lazada SG', 'Lazada SG', 'Lazada SG', 'Lazada SG', 'Lazada SG', 'Lazada SG', 'Shopee SG', 'Shopee SG', 'Shopee SG', 'Shopee SG', 'Shopee SG', 'Shopee SG', 'Shopee SG', 'Shopee SG', 'Shopee SG', 'Shopee SG', 'Shopee SG', 'Shopee SG', 'Lazada SG', 'Lazada SG', 'Shopee SG', 'Lazada SG', 'Lazada SG', 'Lazada SG', 'Lazada SG', 'Shopee SG', 'Shopee SG', 'Shopee SG', 'Shopee SG', 'Shopee SG', 'Shopee SG', 'Shopee SG', 'Shopee SG', 'Shopee SG', 'Shopee SG', 'Shopee SG', 'Shopee SG', 'Shopee SG', 'Shopee SG', 'Shopee SG', 'Shopee SG', 'Shopee SG', 'Lazada SG', 'Lazada SG', 'Lazada SG', 'Lazada SG', 'Lazada SG', 'Lazada SG', 'Lazada SG', 'Lazada SG', 'Lazada SG', 'Lazada SG', 'Lazada SG', 'Lazada SG', 'Shopee SG', 'Shopee SG', 'Shopee SG', 'Lazada SG', 'Lazada SG', 'Lazada SG', 'Lazada SG', 'Lazada SG', 'Lazada SG']\n",
      "\n",
      "(2023, 7)\n",
      "['Lazada SG', 'Shopee SG', 'Shopee SG', 'Shopee SG', 'Shopee SG', 'Lazada SG', 'Lazada SG', 'Lazada SG', 'Lazada SG', 'Shopee SG', 'Shopee SG', 'Shopee SG', 'Lazada SG', 'Lazada SG', 'Lazada SG', 'Lazada SG', 'Lazada SG', 'Lazada SG', 'Lazada SG', 'Lazada SG', 'Lazada SG', 'Lazada SG', 'Lazada SG', 'Lazada SG', 'Lazada SG', 'Shopee SG', 'Shopee SG', 'Shopee SG', 'Shopee SG', 'Shopee SG', 'Shopee SG', 'Shopee SG', 'Shopee SG', 'Shopee SG', 'Shopee SG', 'Lazada SG', 'Lazada SG', 'Lazada SG', 'Lazada SG', 'Lazada SG', 'Lazada SG', 'Shopee SG', 'Shopee SG', 'Shopee SG', 'Adidas', 'Shopee SG', 'Shopee SG', 'Lazada SG', 'Shopee SG', 'Shopee SG', 'Shopee SG', 'Shopee SG', 'Shopee SG', 'Shopee SG', 'Lazada SG', 'Shopee SG', 'Shopee SG', 'Shopee SG', 'Shopee SG', 'Shopee SG', 'Shopee SG', 'Shopee SG', 'Shopee SG', 'Shopee SG', 'Shopee SG', 'Shopee SG', 'Shopee SG', 'Shopee SG', 'Shopee SG', 'Shopee SG', 'Shopee SG', 'Lazada SG', 'Lazada SG', 'Shopee SG', 'Shopee SG', 'Shopee SG', 'Shopee SG', 'Lazada SG', 'Lazada SG', 'Lazada SG', 'Lazada SG', 'Lazada SG', 'Shopee SG', 'Shopee SG', 'Lazada SG', 'Shopee SG', 'Lazada SG', 'Lazada SG', 'Lazada SG', 'Lazada SG', 'Lazada SG', 'Shopee SG', 'Shopee SG', 'Shopee SG', 'Shopee SG', 'Shopee SG', 'Shopee SG', 'Lazada SG', 'Lazada SG', 'Shopee SG', 'Shopee SG', 'Shopee SG', 'Shopee SG', 'Shopee SG', 'Shopee SG', 'Shopee SG', 'Lazada SG', 'Shopee SG', 'Shopee SG', 'Shopee SG', 'Lazada SG', 'Lazada SG', 'Shopee SG', 'Shopee SG', 'Shopee SG', 'Shopee SG', 'Shopee SG', 'Lazada SG', 'Lazada SG', 'Lazada SG', 'Lazada SG', 'Lazada SG', 'Lazada SG', 'Lazada SG', 'Lazada SG', 'Lazada SG', 'Lazada SG', 'Lazada SG', 'Lazada SG', 'Lazada SG', 'Lazada SG', 'Lazada SG', 'Lazada SG', 'Lazada SG', 'Lazada SG', 'Lazada SG', 'Lazada SG', 'Lazada SG', 'Lazada SG', 'Lazada SG', 'Lazada SG', 'Lazada SG', 'Lazada SG', 'Lazada SG', 'Lazada SG', 'Lazada SG', 'Lazada SG', 'Lazada SG', 'Lazada SG', 'Lazada SG', 'Lazada SG', 'Lazada SG', 'Lazada SG', 'Lazada SG', 'Lazada SG', 'Lazada SG', 'Lazada SG', 'Lazada SG', 'Lazada SG', 'Lazada SG', 'Lazada SG', 'Lazada SG', 'Lazada SG', 'Lazada SG', 'Lazada SG', 'Shopee SG', 'Shopee SG', 'Shopee SG', 'Lazada SG', 'Lazada SG', 'Shopee SG', 'Shopee SG', 'Shopee SG', 'Shopee SG', 'Shopee SG', 'Shopee SG', 'Shopee SG', 'Shopee SG', 'Shopee SG', 'Shopee SG', 'Shopee SG', 'Lazada SG', 'Lazada SG', 'Shopee SG', 'Shopee SG', 'Shopee SG', 'Shopee SG', 'Shopee SG', 'Shopee SG', 'Shopee SG', 'Lazada SG', 'Lazada SG', 'Lazada SG', 'Lazada SG', 'Lazada SG', 'Lazada SG', 'Lazada SG', 'Lazada SG', 'Lazada SG', 'Lazada SG', 'Lazada SG', 'Lazada SG', 'Lazada SG', 'Lazada SG', 'Shopee SG', 'Shopee SG', 'Shopee SG', 'Shopee SG', 'Lazada SG', 'Lazada SG', 'Lazada SG', 'Shopee SG', 'Shopee SG', 'Lazada SG', 'Lazada SG', 'Lazada SG', 'Lazada SG', 'Lazada SG', 'Lazada SG', 'Lazada SG', 'Lazada SG', 'Lazada SG', 'Lazada SG', 'Lazada SG', 'Lazada SG', 'Lazada SG', 'Lazada SG', 'Lazada SG', 'Lazada SG', 'Lazada SG', 'Lazada SG', 'Lazada SG', 'Lazada SG', 'Lazada SG', 'Lazada SG', 'Lazada SG', 'Lazada SG', 'Lazada SG', 'Lazada SG', 'Lazada SG', 'Lazada SG', 'Lazada SG', 'Lazada SG', 'Lazada SG', 'Lazada SG', 'Lazada SG', 'Lazada SG', 'Lazada SG', 'Lazada SG', 'Lazada SG', 'Lazada SG', 'Lazada SG', 'Shopee SG', 'Shopee SG', 'Shopee SG', 'Lazada SG', 'Lazada SG', 'Lazada SG', 'Shopee SG', 'Lazada SG', 'Lazada SG', 'Shopee SG', 'Lazada SG', 'Lazada SG', 'Lazada SG', 'Lazada SG', 'Lazada SG', 'Lazada SG', 'Lazada SG', 'Shopee SG', 'Shopee SG', 'Lazada SG', 'Shopee SG', 'Shopee SG', 'Shopee SG', 'Lazada SG', 'Shopee SG', 'Lazada SG', 'Shopee SG', 'Lazada SG', 'Lazada SG', 'Lazada SG', 'Lazada SG', 'Shopee SG', 'Shopee SG', 'Shopee SG', 'Shopee SG', 'Shopee SG', 'Shopee SG', 'Lazada SG', 'Lazada SG', 'Lazada SG', 'Lazada SG', 'Lazada SG', 'Lazada SG', 'Lazada SG', 'Lazada SG', 'Lazada SG', 'Lazada SG', 'Lazada SG', 'Lazada SG', 'Lazada SG', 'Lazada SG', 'Lazada SG', 'Lazada SG', 'Lazada SG', 'Lazada SG', 'Lazada SG', 'Lazada SG', 'Lazada SG', 'Lazada SG', 'Lazada SG', 'Lazada SG', 'Lazada SG', 'Lazada SG', 'Lazada SG', 'Lazada SG', 'Lazada SG', 'Lazada SG', 'Lazada SG', 'Lazada SG', 'Lazada SG', 'Lazada SG', 'Lazada SG', 'Lazada SG', 'Lazada SG', 'Lazada SG', 'Lazada SG', 'Lazada SG', 'Lazada SG', 'Lazada SG', 'Lazada SG', 'Lazada SG', 'Lazada SG', 'Lazada SG', 'Lazada SG', 'Lazada SG', 'Lazada SG', 'Lazada SG', 'Lazada SG', 'Lazada SG', 'Lazada SG', 'Lazada SG', 'Lazada SG', 'Lazada SG', 'Lazada SG', 'Lazada SG', 'Lazada SG', 'Lazada SG', 'Lazada SG', 'Lazada SG', 'Lazada SG', 'Lazada SG', 'Lazada SG', 'Lazada SG', 'Lazada SG', 'Lazada SG', 'Lazada SG', 'Lazada SG', 'Lazada SG', 'Lazada SG', 'Shopee SG', 'Lazada SG', 'Shopee SG', 'Lazada SG', 'Lazada SG', 'Lazada SG', 'Shopee SG', 'Lazada SG', 'Lazada SG', 'Lazada SG', 'Lazada SG', 'Lazada SG', 'Lazada SG', 'Lazada SG', 'Shopee SG', 'Lazada SG', 'Lazada SG', 'Lazada SG', 'Shopee SG', 'Lazada SG', 'Shopee SG', 'Lazada SG', 'Lazada SG', 'Lazada SG', 'Lazada SG', 'Lazada SG', 'Shopee SG', 'Lazada SG', 'Lazada SG', 'Lazada SG', 'Lazada SG', 'Lazada SG', 'Lazada SG', 'Shopee SG', 'Shopee SG', 'Shopee SG', 'Shopee SG', 'Shopee SG', 'Shopee SG', 'Shopee SG', 'Shopee SG', 'Shopee SG', 'Shopee SG', 'Lazada SG', 'Lazada SG', 'Lazada SG', 'Lazada SG', 'Lazada SG', 'Lazada SG', 'Lazada SG', 'Lazada SG', 'Lazada SG', 'Shopee SG', 'Shopee SG', 'Shopee SG', 'Shopee SG', 'Shopee SG', 'Shopee SG', 'Shopee SG', 'Lazada SG', 'Shopee SG', 'Shopee SG', 'Shopee SG', 'Shopee SG', 'Shopee SG', 'Lazada SG', 'Lazada SG', 'Lazada SG', 'Lazada SG', 'Lazada SG', 'Lazada SG', 'Shopee SG', 'Lazada SG', 'Lazada SG', 'Lazada SG', 'Lazada SG', 'Lazada SG', 'Shopee SG', 'Shopee SG', 'Shopee SG', 'Shopee SG', 'Lazada SG', 'Lazada SG', 'Lazada SG', 'Lazada SG', 'Lazada SG', 'Lazada SG', 'Lazada SG', 'Shopee SG', 'Shopee SG', 'Shopee SG', 'Shopee SG', 'Shopee SG', 'Lazada SG', 'Shopee SG', 'Shopee SG', 'Lazada SG', 'Lazada SG', 'Lazada SG', 'Lazada SG', 'Lazada SG', 'Lazada SG', 'Lazada SG', 'Lazada SG', 'Lazada SG', 'Lazada SG', 'Lazada SG', 'Lazada SG', 'Lazada SG', 'Lazada SG', 'Shopee SG', 'Shopee SG', 'Lazada SG', 'Lazada SG', 'Lazada SG', 'Lazada SG', 'Lazada SG', 'Lazada SG', 'Lazada SG', 'Lazada SG', 'Lazada SG', 'Shopee SG', 'Shopee SG', 'Shopee SG', 'Shopee SG', 'Shopee SG', 'Shopee SG', 'Shopee SG', 'Shopee SG', 'Shopee SG', 'Shopee SG', 'Lazada SG', 'Lazada SG', 'Lazada SG', 'Lazada SG', 'Lazada SG', 'Lazada SG', 'Lazada SG', 'Lazada SG', 'Lazada SG', 'Lazada SG', 'Shopee SG', 'Shopee SG', 'Shopee SG', 'Shopee SG', 'Lazada SG', 'Shopee SG', 'Shopee SG', 'Shopee SG', 'Shopee SG', 'Shopee SG', 'Shopee SG', 'Shopee SG', 'Lazada SG', 'Lazada SG', 'Lazada SG', 'Shopee SG', 'Lazada SG', 'Lazada SG', 'Lazada SG', 'Lazada SG', 'Lazada SG', 'Lazada SG', 'Lazada SG', 'Lazada SG', 'Shopee SG', 'Lazada SG', 'Lazada SG', 'Lazada SG', 'Shopee SG', 'Shopee SG', 'Shopee SG', 'Shopee SG', 'Shopee SG', 'Shopee SG', 'Lazada SG', 'Lazada SG', 'Shopee SG', 'Lazada SG', 'Lazada SG', 'Lazada SG', 'Lazada SG', 'Lazada SG', 'Lazada SG', 'Lazada SG']\n",
      "\n",
      "(2023, 8)\n",
      "['Shopee SG', 'Shopee SG', 'Watsons Singapore', 'Lazada SG', 'Lazada SG', 'Shopee SG', 'Shopee SG', 'Shopee SG', 'Shopee SG', 'Lazada SG', 'Lazada SG', 'Lazada SG', 'Lazada SG', 'Lazada SG', 'Lazada SG', 'Lazada SG', 'Lazada SG', 'Lazada SG', 'Lazada SG', 'Lazada SG', 'Lazada SG', 'Lazada SG', 'Lazada SG', 'Lazada SG', 'Lazada SG', 'Lazada SG', 'Lazada SG', 'Lazada SG', 'Lazada SG', 'Lazada SG', 'Lazada SG', 'Lazada SG', 'Shopee SG', 'Shopee SG', 'Shopee SG', 'Shopee SG', 'Shopee SG', 'Shopee SG', 'Shopee SG', 'Shopee SG', 'Shopee SG', 'Shopee SG', 'Shopee SG', 'Shopee SG', 'Shopee SG', 'Shopee SG', 'Shopee SG', 'Shopee SG', 'Shopee SG', 'Shopee SG', 'Shopee SG', 'Shopee SG', 'Shopee SG', 'Shopee SG', 'Shopee SG', 'Shopee SG', 'Shopee SG', 'Lazada SG', 'Lazada SG', 'Shopee SG', 'Shopee SG', 'Shopee SG', 'Shopee SG', 'Shopee SG', 'Shopee SG', 'Shopee SG', 'Shopee SG', 'Shopee SG', 'Shopee SG', 'Shopee SG', 'Lazada SG', 'Shopee SG', 'Lazada SG', 'Lazada SG', 'Lazada SG', 'Shopee SG', 'Shopee SG', 'Lazada SG', 'Lazada SG', 'Shopee SG', 'Shopee SG', 'Shopee SG', 'Lazada SG', 'Lazada SG', 'Lazada SG', 'Lazada SG', 'Lazada SG', 'Lazada SG', 'Lazada SG', 'Lazada SG', 'Lazada SG', 'Lazada SG', 'Lazada SG', 'Lazada SG', 'Lazada SG', 'Lazada SG', 'Lazada SG', 'Shopee SG', 'Shopee SG', 'Shopee SG', 'Lazada SG', 'Lazada SG', 'Lazada SG', 'Lazada SG', 'Lazada SG', 'Lazada SG', 'Lazada SG', 'Lazada SG', 'Lazada SG', 'Shopee SG', 'Shopee SG', 'Shopee SG', 'Shopee SG', 'Lazada SG', 'Lazada SG', 'Fairprice ON', 'Lazada SG', 'Shopee SG', 'Shopee SG', 'Shopee SG', 'Shopee SG', 'Shopee SG', 'Shopee SG', 'Shopee SG', 'Shopee SG', 'Shopee SG', 'Shopee SG', 'Shopee SG', 'Shopee SG', 'Shopee SG', 'Lazada SG', 'Lazada SG', 'Lazada SG', 'Lazada SG', 'Shopee SG', 'Shopee SG', 'Shopee SG', 'Shopee SG', 'Shopee SG', 'Shopee SG', 'Shopee SG', 'Shopee SG', 'Shopee SG', 'Lazada SG', 'Shopee SG', 'Lazada SG', 'Shopee SG', 'Shopee SG', 'Shopee SG', 'Shopee SG', 'Shopee SG', 'Shopee SG', 'Shopee SG', 'Shopee SG', 'Shopee SG', 'Lazada SG', 'Lazada SG', 'Lazada SG', 'Shopee SG', 'Shopee SG', 'Shopee SG', 'Shopee SG', 'Shopee SG', 'Shopee SG', 'Shopee SG', 'Shopee SG', 'Shopee SG', 'Shopee SG', 'Shopee SG', 'Shopee SG', 'Shopee SG', 'Lazada SG', 'Lazada SG', 'Lazada SG', 'Lazada SG', 'Lazada SG', 'Lazada SG', 'Lazada SG', 'Lazada SG', 'Lazada SG', 'Lazada SG', 'Lazada SG', 'Lazada SG', 'Lazada SG', 'Lazada SG', 'Lazada SG', 'Lazada SG', 'Lazada SG', 'Lazada SG', 'Shopee SG', 'Shopee SG', 'Shopee SG', 'Shopee SG', 'Shopee SG', 'Shopee SG', 'Shopee SG', 'Shopee SG', 'Shopee SG', 'Shopee SG', 'Shopee SG', 'Shopee SG', 'Shopee SG', 'Shopee SG', 'Shopee SG', 'Lazada SG', 'Lazada SG', 'Lazada SG', 'Lazada SG', 'Lazada SG', 'Shopee SG', 'Lazada SG', 'Lazada SG', 'Shopee SG', 'Lazada SG', 'Lazada SG', 'Shopee SG', 'Shopee SG', 'Shopee SG', 'Shopee SG', 'Shopee SG', 'Shopee SG', 'Lazada SG', 'Lazada SG', 'Lazada SG', 'Lazada SG', 'Lazada SG', 'Lazada SG', 'Shopee SG', 'Shopee SG', 'Shopee SG', 'Shopee SG', 'Shopee SG', 'Shopee SG', 'Shopee SG', 'Shopee SG', 'Shopee SG', 'Shopee SG', 'Shopee SG', 'Shopee SG', 'Shopee SG', 'Shopee SG', 'Lazada SG', 'Shopee SG', 'Shopee SG', 'Shopee SG', 'Lazada SG', 'Shopee SG', 'Shopee SG', 'Lazada SG', 'Lazada SG', 'Shopee SG', 'Shopee SG', 'Shopee SG', 'Lazada SG', 'Lazada SG', 'Lazada SG', 'Lazada SG', 'Shopee SG', 'Shopee SG', 'Shopee SG', 'Shopee SG', 'Shopee SG', 'Shopee SG', 'Shopee SG', 'Shopee SG', 'Shopee SG', 'Shopee SG', 'Shopee SG', 'Shopee SG', 'Shopee SG', 'Shopee SG', 'Lazada SG', 'Lazada SG', 'Lazada SG', 'Shopee SG', 'Lazada SG', 'Lazada SG', 'Lazada SG', 'Lazada SG', 'Lazada SG', 'Lazada SG', 'Lazada SG', 'Lazada SG', 'Lazada SG', 'Lazada SG', 'Lazada SG', 'Lazada SG', 'Lazada SG', 'Lazada SG', 'Lazada SG', 'Lazada SG', 'Lazada SG', 'Lazada SG', 'Lazada SG', 'Lazada SG', 'Lazada SG', 'Lazada SG', 'Shopee SG', 'Shopee SG', 'Shopee SG', 'Shopee SG', 'Shopee SG', 'Shopee SG', 'Shopee SG', 'Shopee SG', 'Shopee SG', 'Shopee SG', 'Shopee SG', 'Shopee SG', 'Shopee SG', 'Shopee SG', 'Shopee SG', 'Shopee SG', 'Shopee SG', 'Shopee SG', 'Shopee SG', 'Shopee SG', 'Shopee SG', 'Shopee SG', 'Shopee SG', 'Shopee SG', 'Shopee SG', 'Shopee SG', 'Shopee SG', 'Shopee SG', 'Shopee SG', 'Shopee SG', 'Shopee SG', 'Lazada SG', 'Shopee SG', 'Shopee SG', 'Shopee SG', 'Shopee SG', 'Shopee SG', 'Shopee SG', 'Shopee SG', 'Shopee SG', 'Shopee SG', 'Shopee SG', 'Shopee SG', 'Shopee SG', 'Shopee SG', 'Shopee SG', 'Zalora SG', 'Shopee SG', 'Shopee SG', 'Shopee SG', 'Shopee SG', 'Shopee SG', 'Shopee SG', 'Shopee SG', 'Shopee SG', 'Shopee SG', 'Shopee SG', 'Shopee SG', 'Shopee SG', 'Shopee SG', 'Shopee SG', 'Shopee SG', 'Shopee SG', 'Shopee SG', 'Shopee SG', 'Shopee SG', 'Lazada SG', 'Lazada SG', 'Shopee SG', 'Shopee SG', 'Shopee SG', 'Shopee SG', 'Shopee SG', 'Shopee SG', 'Shopee SG', 'Shopee SG', 'Shopee SG', 'Shopee SG', 'Shopee SG', 'Shopee SG', 'Lazada SG', 'Shopee SG', 'Shopee SG', 'Lazada SG', 'Lazada SG', 'Lazada SG', 'Shopee SG', 'Shopee SG', 'Shopee SG', 'Shopee SG', 'Shopee SG', 'Shopee SG', 'Lazada SG', 'Lazada SG', 'Lazada SG', 'Lazada SG', 'Lazada SG', 'Shopee SG', 'Shopee SG', 'Shopee SG', 'Shopee SG', 'Shopee SG', 'Shopee SG', 'Shopee SG', 'Shopee SG', 'Shopee SG', 'Shopee SG', 'Shopee SG', 'Shopee SG', 'Shopee SG', 'Shopee SG', 'Shopee SG', 'Shopee SG', 'Shopee SG', 'Shopee SG', 'Lazada SG', 'Shopee SG', 'Shopee SG', 'Shopee SG', 'Shopee SG', 'Shopee SG', 'Shopee SG', 'Shopee SG', 'Shopee SG', 'Shopee SG', 'Shopee SG', 'Shopee SG', 'Shopee SG', 'Shopee SG', 'Shopee SG', 'Lazada SG', 'Lazada SG', 'Lazada SG', 'Lazada SG', 'Lazada SG', 'Lazada SG', 'Lazada SG', 'Lazada SG', 'Lazada SG', 'Shopee SG', 'Shopee SG', 'Lazada SG', 'Shopee SG', 'Shopee SG', 'Shopee SG', 'Shopee SG', 'Shopee SG', 'Shopee SG', 'Shopee SG', 'Shopee SG', 'Shopee SG', 'Lazada SG', 'Lazada SG', 'Lazada SG', 'Lazada SG', 'Lazada SG', 'Lazada SG', 'Shopee SG', 'Shopee SG', 'Shopee SG', 'Shopee SG', 'Shopee SG', 'Shopee SG', 'Shopee SG', 'Shopee SG', 'Shopee SG', 'Shopee SG', 'Lazada SG', 'Lazada SG', 'Lazada SG', 'Lazada SG', 'Lazada SG', 'Shopee SG', 'Shopee SG', 'Shopee SG', 'Shopee SG', 'Shopee SG', 'Shopee SG', 'Shopee SG', 'Lazada SG', 'Shopee SG', 'Lazada SG', 'Lazada SG', 'Lazada SG', 'Lazada SG', 'Lazada SG', 'Lazada SG', 'Lazada SG', 'Lazada SG', 'Lazada SG', 'Shopee SG', 'Shopee SG', 'Shopee SG', 'Lazada SG', 'Lazada SG', 'Lazada SG', 'Lazada SG', 'Lazada SG', 'Lazada SG', 'Lazada SG', 'Lazada SG', 'Lazada SG', 'Lazada SG', 'Lazada SG', 'Lazada SG', 'Lazada SG', 'Lazada SG', 'Lazada SG', 'Lazada SG', 'Shopee SG', 'Shopee SG', 'Shopee SG', 'Shopee SG', 'Shopee SG', 'Shopee SG', 'Shopee SG']\n",
      "\n",
      "(2023, 9)\n",
      "['Agoda', 'Shopee SG', 'Lazada SG', 'Shopee SG', 'Lazada SG', 'Fairprice ON', 'Lazada SG', 'Lazada SG', 'Lazada SG', 'Shopee SG', 'Shopee SG', 'Shopee SG', 'Shopee SG', 'Shopee SG', 'Shopee SG', 'Shopee SG', 'Lazada SG', 'Lazada SG', 'Lazada SG', 'Lazada SG', 'Lazada SG', 'Lazada SG', 'Shopee SG', 'Shopee SG', 'Shopee SG', 'Lazada SG', 'Lazada SG', 'Lazada SG', 'Lazada SG', 'Shopee SG', 'Lazada SG', 'Lazada SG', 'Adidas', 'Shopee SG', 'Shopee SG', 'Shopee SG', 'Shopee SG', 'Shopee SG', 'Shopee SG', 'Shopee SG', 'Shopee SG', 'Shopee SG', 'Lazada SG', 'Lazada SG', 'Shopee SG', 'Shopee SG', 'Shopee SG', 'Shopee SG', 'Shopee SG', 'Shopee SG', 'Shopee SG', 'Shopee SG', 'Shopee SG', 'Shopee SG', 'Shopee SG', 'Shopee SG', 'Shopee SG', 'Lazada SG', 'Lazada SG', 'Lazada SG', 'Lazada SG', 'Shopee SG', 'Shopee SG', 'Shopee SG', 'Shopee SG', 'Shopee SG', 'Shopee SG', 'Shopee SG', 'Shopee SG', 'Shopee SG', 'Shopee SG', 'Shopee SG', 'Shopee SG', 'Shopee SG', 'Shopee SG', 'Shopee SG', 'Shopee SG', 'Shopee SG', 'Shopee SG', 'Shopee SG', 'Lazada SG', 'Lazada SG', 'Lazada SG', 'Lazada SG', 'Shopee SG', 'Shopee SG', 'Shopee SG', 'Shopee SG', 'Shopee SG', 'Shopee SG', 'Shopee SG', 'Shopee SG', 'Shopee SG', 'Shopee SG', 'Lazada SG', 'Lazada SG', 'Lazada SG', 'Lazada SG', 'Lazada SG', 'Lazada SG', 'Lazada SG', 'Lazada SG', 'Lazada SG', 'Shopee SG', 'Shopee SG', 'Shopee SG', 'Shopee SG', 'Shopee SG', 'Lazada SG', 'Lazada SG', 'Lazada SG', 'Lazada SG', 'Shopee SG', 'Shopee SG', 'Shopee SG', 'Shopee SG', 'Shopee SG', 'Shopee SG', 'Shopee SG', 'Shopee SG', 'Shopee SG', 'Shopee SG', 'Shopee SG', 'Shopee SG', 'Shopee SG', 'Shopee SG', 'Shopee SG', 'Shopee SG', 'Lazada SG', 'Lazada SG', 'Lazada SG', 'Lazada SG', 'Lazada SG', 'Lazada SG', 'Lazada SG', 'Lazada SG', 'Shopee SG', 'Shopee SG', 'Lazada SG', 'Lazada SG', 'Lazada SG', 'Lazada SG', 'Lazada SG', 'Lazada SG', 'Lazada SG', 'Lazada SG', 'Lazada SG', 'Lazada SG', 'Lazada SG', 'Lazada SG', 'Lazada SG', 'Shopee SG', 'Lazada SG', 'Shopee SG', 'Shopee SG', 'Shopee SG', 'Shopee SG', 'Shopee SG', 'Shopee SG', 'Shopee SG', 'Shopee SG', 'Shopee SG', 'Shopee SG', 'Shopee SG', 'Shopee SG', 'Shopee SG', 'Shopee SG', 'Shopee SG', 'Shopee SG', 'Shopee SG', 'Shopee SG', 'Shopee SG', 'Shopee SG', 'Shopee SG', 'Shopee SG', 'Fairprice ON', 'Shopee SG', 'Shopee SG', 'Shopee SG', 'Lazada SG', 'Shopee SG', 'Shopee SG', 'Shopee SG', 'Shopee SG', 'Shopee SG', 'Shopee SG', 'Fairprice ON', 'Shopee SG', 'Lazada SG', 'Shopee SG', 'Shopee SG', 'Fairprice ON', 'Lazada SG', 'Shopee SG', 'Shopee SG', 'Shopee SG', 'Shopee SG', 'Shopee SG', 'Shopee SG', 'Shopee SG', 'Shopee SG', 'Lazada SG', 'Lazada SG', 'Klook Travel (CPS)', 'Lazada SG', 'Lazada SG', 'Lazada SG', 'Lazada SG', 'Lazada SG', 'Shopee SG', 'Shopee SG', 'Shopee SG', 'Lazada SG', 'Lazada SG', 'Lazada SG', 'Lazada SG', 'Shopee SG', 'Shopee SG', 'Shopee SG', 'Lazada SG', 'Lazada SG', 'Lazada SG', 'Shopee SG', 'Lazada SG', 'Lazada SG', 'Lazada SG', 'Lazada SG', 'Lazada SG', 'Lazada SG', 'Lazada SG', 'Lazada SG', 'Lazada SG', 'Lazada SG', 'Lazada SG', 'Lazada SG', 'Lazada SG', 'Lazada SG', 'Lazada SG', 'Lazada SG', 'Lazada SG', 'Lazada SG', 'Lazada SG', 'Lazada SG', 'Lazada SG', 'Lazada SG', 'Lazada SG', 'Lazada SG', 'Lazada SG', 'Lazada SG', 'Lazada SG', 'Lazada SG', 'Lazada SG', 'Lazada SG', 'Lazada SG', 'Lazada SG', 'Lazada SG', 'Lazada SG', 'Lazada SG', 'Lazada SG', 'Lazada SG', 'Lazada SG', 'Lazada SG', 'Lazada SG', 'Lazada SG', 'Lazada SG', 'Lazada SG', 'Lazada SG', 'Lazada SG', 'Lazada SG', 'Lazada SG', 'Lazada SG', 'Shopee SG', 'Lazada SG', 'Shopee SG', 'Shopee SG', 'Shopee SG', 'Shopee SG', 'Shopee SG', 'Shopee SG', 'Lazada SG', 'Lazada SG', 'Lazada SG', 'Lazada SG', 'Lazada SG', 'Lazada SG', 'Lazada SG', 'Lazada SG', 'Lazada SG', 'Lazada SG', 'Lazada SG', 'Lazada SG', 'Lazada SG', 'Lazada SG', 'Lazada SG', 'Lazada SG', 'Lazada SG', 'Lazada SG', 'Lazada SG', 'Lazada SG', 'Shopee SG', 'Shopee SG', 'Shopee SG', 'Shopee SG', 'Shopee SG', 'Shopee SG', 'Shopee SG', 'Shopee SG', 'Shopee SG', 'Shopee SG', 'Shopee SG', 'Shopee SG', 'Shopee SG', 'Shopee SG', 'Shopee SG', 'Shopee SG', 'Shopee SG', 'Shopee SG', 'Shopee SG', 'Shopee SG', 'Shopee SG', 'Shopee SG', 'Shopee SG', 'Shopee SG', 'Lazada SG', 'Lazada SG', 'Shopee SG', 'Shopee SG', 'Shopee SG', 'Shopee SG', 'Shopee SG', 'Shopee SG', 'Lazada SG', 'Lazada SG', 'Lazada SG', 'Shopee SG', 'Shopee SG', 'Shopee SG', 'Shopee SG', 'Lazada SG', 'Lazada SG', 'Shopee SG', 'Shopee SG', 'Shopee SG', 'Shopee SG', 'Shopee SG', 'Shopee SG', 'Shopee SG', 'Shopee SG', 'Shopee SG', 'Shopee SG', 'Shopee SG', 'Shopee SG', 'Shopee SG', 'Shopee SG', 'Shopee SG', 'Lazada SG', 'Lazada SG', 'Shopee SG', 'Shopee SG', 'Shopee SG', 'Shopee SG', 'Shopee SG', 'Shopee SG', 'Shopee SG', 'Shopee SG', 'Shopee SG', 'Lazada SG', 'Fairprice ON', 'Shopee SG', 'Shopee SG', 'Shopee SG', 'Shopee SG', 'Shopee SG', 'Shopee SG', 'Shopee SG', 'Shopee SG', 'Lazada SG', 'Lazada SG', 'Lazada SG', 'Lazada SG', 'Lazada SG', 'Lazada SG', 'Lazada SG', 'Lazada SG', 'Lazada SG', 'Lazada SG', 'Lazada SG', 'Lazada SG', 'Shopee SG', 'Shopee SG', 'Shopee SG', 'Watsons Singapore', 'Lazada SG', 'Lazada SG', 'Lazada SG', 'Shopee SG', 'Shopee SG', 'Shopee SG', 'Shopee SG', 'Shopee SG', 'Shopee SG', 'Shopee SG', 'Shopee SG', 'Shopee SG', 'Shopee SG', 'Shopee SG', 'Lazada SG', 'Shopee SG', 'Shopee SG', 'Shopee SG', 'Shopee SG', 'Shopee SG', 'Shopee SG', 'Shopee SG', 'Lazada SG', 'Lazada SG', 'Lazada SG', 'Lazada SG', 'Fairprice ON', 'Shopee SG', 'Shopee SG', 'Shopee SG', 'Shopee SG', 'Lazada SG', 'Lazada SG', 'Shopee SG', 'Shopee SG', 'Shopee SG', 'Lazada SG', 'Lazada SG', 'Shopee SG', 'Shopee SG', 'Shopee SG', 'Shopee SG', 'Shopee SG', 'Shopee SG', 'Shopee SG', 'Shopee SG', 'Shopee SG', 'Shopee SG', 'Shopee SG', 'Lazada SG', 'Lazada SG', 'Lazada SG', 'Lazada SG', 'Lazada SG', 'Lazada SG', 'Lazada SG', 'Lazada SG', 'Lazada SG', 'Lazada SG', 'Lazada SG', 'Lazada SG', 'Lazada SG', 'Lazada SG', 'Lazada SG', 'Lazada SG', 'Shopee SG', 'Fairprice ON', 'Lazada SG', 'Lazada SG', 'Lazada SG', 'Shopee SG', 'Shopee SG', 'Shopee SG', 'Shopee SG', 'Shopee SG', 'Lazada SG', 'Lazada SG', 'Lazada SG', 'Shopee SG', 'Shopee SG', 'Shopee SG', 'Lazada SG', 'Lazada SG', 'Lazada SG', 'Lazada SG', 'Lazada SG', 'Lazada SG', 'Lazada SG', 'Lazada SG', 'Lazada SG', 'Lazada SG', 'Lazada SG', 'Lazada SG', 'Lazada SG', 'Lazada SG', 'Lazada SG', 'Lazada SG', 'Lazada SG', 'Lazada SG', 'Lazada SG', 'Lazada SG', 'Lazada SG', 'Lazada SG', 'Shopee SG', 'Shopee SG', 'Shopee SG', 'Shopee SG', 'Shopee SG', 'Lazada SG', 'Lazada SG', 'Lazada SG', 'Shopee SG', 'Shopee SG', 'Shopee SG', 'Shopee SG', 'Lazada SG', 'Lazada SG', 'Lazada SG', 'Lazada SG', 'Lazada SG', 'Lazada SG', 'Lazada SG', 'Lazada SG', 'Shopee SG', 'Lazada SG', 'Lazada SG', 'Lazada SG', 'Lazada SG', 'Lazada SG', 'Lazada SG', 'Shopee SG', 'Lazada SG', 'Shopee SG', 'Lazada SG', 'Shopee SG', 'Shopee SG', 'Shopee SG', 'Lazada SG', 'Lazada SG', 'Lazada SG', 'Lazada SG', 'Lazada SG', 'Lazada SG', 'Lazada SG', 'Lazada SG', 'Lazada SG', 'Lazada SG', 'Lazada SG', 'Lazada SG', 'Lazada SG', 'Lazada SG', 'Lazada SG', 'Lazada SG', 'Lazada SG', 'Shopee SG', 'Shopee SG', 'Shopee SG', 'Shopee SG', 'Shopee SG', 'Shopee SG', 'Shopee SG', 'Lazada SG', 'Lazada SG', 'Shopee SG', 'Shopee SG', 'Lazada SG', 'Lazada SG', 'Lazada SG', 'Shopee SG', 'Shopee SG', 'Shopee SG', 'Shopee SG', 'Shopee SG', 'Shopee SG', 'Shopee SG', 'Shopee SG', 'Shopee SG', 'Shopee SG', 'Lazada SG', 'Lazada SG', 'Shopee SG', 'Lazada SG', 'Lazada SG', 'Lazada SG', 'Shopee SG', 'Shopee SG', 'Shopee SG', 'Shopee SG', 'Shopee SG', 'Shopee SG', 'Shopee SG', 'Shopee SG', 'Lazada SG', 'Lazada SG', 'Lazada SG', 'Lazada SG', 'Shopee SG', 'Shopee SG', 'Shopee SG', 'Shopee SG', 'Lazada SG', 'Shopee SG', 'Shopee SG', 'Lazada SG', 'Lazada SG', 'Shopee SG', 'Shopee SG', 'Shopee SG', 'Shopee SG', 'Shopee SG', 'Shopee SG', 'Shopee SG', 'Shopee SG', 'Lazada SG', 'Shopee SG', 'Shopee SG', 'Shopee SG', 'Shopee SG', 'Shopee SG', 'Shopee SG', 'Shopee SG', 'Shopee SG', 'Shopee SG', 'Shopee SG', 'Shopee SG', 'Shopee SG', 'Shopee SG', 'Shopee SG', 'Lazada SG', 'Lazada SG', 'Lazada SG', 'Lazada SG', 'Lazada SG', 'Lazada SG', 'Shopee SG', 'Shopee SG', 'Shopee SG', 'Shopee SG', 'Shopee SG', 'Shopee SG', 'Shopee SG', 'Lazada SG', 'Lazada SG', 'Lazada SG', 'Shopee SG', 'Shopee SG', 'Lazada SG', 'Shopee SG', 'Lazada SG', 'Lazada SG', 'Lazada SG', 'Lazada SG', 'Lazada SG', 'Lazada SG', 'Shopee SG', 'Shopee SG', 'Lazada SG', 'Lazada SG', 'Lazada SG', 'Lazada SG', 'Lazada SG', 'Lazada SG', 'Shopee SG', 'Shopee SG', 'Shopee SG', 'Shopee SG', 'Shopee SG', 'Shopee SG', 'Shopee SG', 'Shopee SG', 'Shopee SG', 'Nike APAC', 'Lazada SG', 'Lazada SG', 'Lazada SG', 'Shopee SG', 'Shopee SG', 'Shopee SG', 'Shopee SG', 'Shopee SG', 'Shopee SG', 'Shopee SG', 'Shopee SG', 'Shopee SG', 'Lazada SG', 'Shopee SG', 'Lazada SG', 'Shopee SG', 'Shopee SG', 'Shopee SG', 'Lazada SG', 'Lazada SG', 'Lazada SG', 'Shopee SG', 'Shopee SG', 'Shopee SG', 'Shopee SG', 'Shopee SG', 'Lazada SG', 'Lazada SG', 'Lazada SG', 'Lazada SG', 'Lazada SG', 'Lazada SG', 'Lazada SG', 'Lazada SG', 'Lazada SG', 'Lazada SG', 'Lazada SG', 'Lazada SG', 'Shopee SG', 'Shopee SG', 'Shopee SG', 'Shopee SG', 'Shopee SG', 'Shopee SG', 'Shopee SG', 'Shopee SG', 'Shopee SG', 'Shopee SG', 'Shopee SG', 'Shopee SG', 'Shopee SG', 'Lazada SG', 'Lazada SG', 'Lazada SG', 'Lazada SG', 'Lazada SG', 'Lazada SG', 'Lazada SG', 'Lazada SG', 'Lazada SG', 'Lazada SG', 'Lazada SG', 'Lazada SG', 'Lazada SG', 'Lazada SG', 'Lazada SG', 'Lazada SG', 'Lazada SG', 'Lazada SG', 'Lazada SG', 'Lazada SG', 'Shopee SG', 'Shopee SG', 'Shopee SG', 'Shopee SG', 'Shopee SG', 'Shopee SG', 'Shopee SG', 'Shopee SG', 'Shopee SG', 'Shopee SG', 'Shopee SG', 'Shopee SG', 'Shopee SG', 'Shopee SG', 'Shopee SG', 'Shopee SG', 'Lazada SG', 'Lazada SG', 'Lazada SG', 'Fairprice ON', 'Shopee SG', 'Shopee SG', 'Lazada SG', 'Under Armour', 'Lazada SG', 'Lazada SG', 'Lazada SG', 'Lazada SG', 'Lazada SG', 'Lazada SG', 'Lazada SG', 'Lazada SG', 'Lazada SG', 'Shopee SG', 'Shopee SG', 'Shopee SG', 'Lazada SG', 'Lazada SG', 'Lazada SG', 'Shopee SG', 'Shopee SG', 'Shopee SG', 'Shopee SG', 'Shopee SG', 'Shopee SG', 'Shopee SG', 'Shopee SG', 'Shopee SG', 'Shopee SG', 'Shopee SG', 'Shopee SG', 'Shopee SG', 'Shopee SG', 'Shopee SG', 'Shopee SG', 'Lazada SG', 'Lazada SG', 'Lazada SG', 'Lazada SG', 'Lazada SG', 'Lazada SG', 'Lazada SG', 'Lazada SG', 'Lazada SG', 'Lazada SG', 'Lazada SG', 'Lazada SG', 'Lazada SG', 'Lazada SG', 'Lazada SG', 'Lazada SG', 'Lazada SG', 'Lazada SG', 'Lazada SG', 'Lazada SG', 'Lazada SG', 'Lazada SG', 'Lazada SG', 'Lazada SG', 'Shopee SG', 'Lazada SG', 'Lazada SG', 'Lazada SG', 'Lazada SG', 'Lazada SG', 'Lazada SG', 'Shopee SG', 'Shopee SG', 'Shopee SG', 'Shopee SG', 'Shopee SG', 'Shopee SG', 'Shopee SG', 'Shopee SG', 'Shopee SG', 'Shopee SG', 'Shopee SG', 'Shopee SG', 'Lazada SG', 'Lazada SG', 'Lazada SG', 'Lazada SG', 'Lazada SG', 'Lazada SG', 'Lazada SG', 'Lazada SG', 'Lazada SG', 'Lazada SG', 'Lazada SG', 'Lazada SG', 'Lazada SG', 'Lazada SG', 'Lazada SG', 'Lazada SG', 'Lazada SG', 'Lazada SG', 'Shopee SG', 'Shopee SG', 'Lazada SG', 'Lazada SG', 'Lazada SG', 'Lazada SG', 'Lazada SG', 'Fairprice ON', 'Shopee SG', 'Shopee SG', 'Shopee SG', 'Shopee SG', 'Shopee SG', 'Lazada SG', 'Lazada SG', 'Lazada SG', 'Lazada SG', 'Lazada SG', 'Lazada SG', 'Lazada SG', 'Lazada SG', 'Lazada SG', 'Lazada SG', 'Lazada SG', 'Lazada SG', 'Lazada SG', 'Lazada SG', 'Lazada SG', 'Lazada SG', 'Lazada SG', 'Lazada SG', 'Lazada SG', 'Lazada SG', 'Shopee SG', 'Shopee SG', 'Shopee SG', 'Shopee SG', 'Shopee SG', 'Shopee SG', 'Shopee SG', 'Shopee SG', 'Shopee SG', 'Shopee SG', 'Lazada SG', 'Shopee SG', 'Shopee SG', 'Lazada SG', 'Lazada SG', 'Lazada SG', 'Lazada SG', 'Lazada SG', 'Lazada SG', 'Shopee SG', 'Lazada SG', 'Lazada SG', 'Lazada SG', 'Shopee SG', 'Lazada SG', 'Lazada SG', 'Lazada SG', 'Lazada SG', 'Lazada SG', 'Lazada SG', 'Lazada SG', 'Lazada SG', 'Lazada SG', 'Lazada SG', 'Lazada SG', 'Lazada SG', 'Lazada SG', 'Lazada SG', 'Lazada SG', 'Lazada SG', 'Lazada SG', 'Shopee SG', 'Lazada SG', 'Shopee SG', 'Shopee SG', 'Shopee SG', 'Shopee SG', 'Shopee SG', 'Shopee SG', 'Shopee SG', 'Shopee SG', 'Shopee SG', 'Shopee SG', 'Shopee SG', 'Shopee SG', 'Shopee SG', 'Shopee SG', 'Shopee SG', 'Lazada SG', 'Lazada SG', 'Shopee SG', 'Shopee SG', 'Shopee SG', 'Shopee SG', 'Lazada SG', 'Lazada SG', 'Lazada SG', 'Lazada SG', 'Lazada SG', 'Shopee SG', 'Shopee SG', 'Shopee SG', 'Shopee SG', 'Fairprice ON', 'Shopee SG', 'Shopee SG', 'Shopee SG', 'Shopee SG', 'Lazada SG', 'Lazada SG', 'Lazada SG', 'Lazada SG', 'Lazada SG', 'Shopee SG', 'Lazada SG', 'Lazada SG', 'Lazada SG', 'Lazada SG', 'Lazada SG', 'Lazada SG', 'Shopee SG', 'Lazada SG', 'Lazada SG', 'Lazada SG', 'Fairprice ON', 'Decathlon SG', 'Shopee SG', 'Shopee SG', 'Shopee SG', 'Shopee SG', 'Shopee SG', 'Shopee SG', 'Shopee SG', 'Lazada SG', 'Lazada SG', 'Lazada SG', 'Lazada SG', 'Lazada SG', 'Shopee SG', 'Shopee SG', 'Shopee SG', 'Lazada SG', 'Lazada SG', 'Lazada SG', 'Lazada SG', 'Lazada SG', 'Lazada SG', 'Lazada SG', 'Lazada SG', 'Lazada SG', 'Lazada SG', 'Lazada SG', 'Shopee SG', 'Shopee SG', 'Lazada SG', 'Lazada SG', 'Lazada SG', 'Lazada SG', 'Shopee SG']\n",
      "\n",
      "(2023, 10)\n",
      "['iHerb', 'tripcom', 'tripcom', 'tripcom', 'tripcom', 'tripcom', 'tripcom', 'tripcom', 'tripcom', 'tripcom', 'iHerb', 'Lazada SG', 'Lazada SG', 'Lazada SG', 'Shopee SG', 'Shopee SG', 'Lazada SG', 'Shopee SG', 'Shopee SG', 'Shopee SG', 'Shopee SG', 'Lazada SG', 'Lazada SG', 'Lazada SG', 'Lazada SG', 'Lazada SG', 'Lazada SG', 'Lazada SG', 'Lazada SG', 'Lazada SG', 'Lazada SG', 'Lazada SG', 'Lazada SG', 'Lazada SG', 'Lazada SG', 'Shopee SG', 'Shopee SG', 'Lazada SG', 'Lazada SG', 'Shopee SG', 'Shopee SG', 'Shopee SG', 'Shopee SG', 'Shopee SG', 'Shopee SG', 'Lazada SG', 'Lazada SG', 'Lazada SG', 'Lazada SG', 'Shopee SG', 'Shopee SG', 'Shopee SG', 'Shopee SG', 'Shopee SG', 'Lazada SG', 'Lazada SG', 'Lazada SG', 'Lazada SG', 'Lazada SG', 'Lazada SG', 'Shopee SG', 'Lazada SG', 'Lazada SG', 'Lazada SG', 'Lazada SG', 'Lazada SG', 'Shopee SG', 'Shopee SG', 'Shopee SG', 'Shopee SG', 'Shopee SG', 'Shopee SG', 'Shopee SG', 'Shopee SG', 'Shopee SG', 'Lazada SG', 'Lazada SG', 'Lazada SG', 'Lazada SG', 'Lazada SG', 'Lazada SG', 'Lazada SG', 'Lazada SG', 'Lazada SG', 'Lazada SG', 'Shopee SG', 'Shopee SG', 'Shopee SG', 'Fairprice ON', 'Fairprice ON', 'Lazada SG', 'Lazada SG', 'Lazada SG', 'Lazada SG', 'Shopee SG', 'Shopee SG', 'Lazada SG', 'Lazada SG', 'Fairprice ON', 'Lazada SG', 'Shopee SG', 'Shopee SG', 'Shopee SG', 'Shopee SG', 'Shopee SG', 'Shopee SG', 'Shopee SG', 'Fairprice ON', 'Lazada SG', 'Lazada SG', 'Lazada SG', 'Lazada SG', 'Lazada SG', 'Lazada SG', 'Lazada SG', 'Lazada SG', 'Shopee SG', 'Shopee SG', 'Lazada SG', 'Lazada SG', 'Lazada SG', 'Shopee SG', 'Shopee SG', 'Lazada SG', 'Lazada SG', 'Lazada SG', 'Lazada SG', 'Lazada SG', 'Lazada SG', 'Lazada SG', 'Lazada SG', 'Shopee SG', 'Shopee SG', 'Lazada SG', 'Shopee SG', 'Shopee SG', 'Lazada SG', 'Shopee SG', 'Shopee SG', 'Shopee SG', 'Shopee SG', 'Shopee SG', 'Shopee SG', 'Lazada SG', 'Lazada SG', 'Lazada SG', 'Lazada SG', 'Shopee SG', 'Shopee SG', 'Shopee SG', 'Shopee SG', 'Lazada SG', 'Lazada SG', 'Lazada SG', 'Lazada SG', 'Lazada SG', 'Lazada SG', 'Lazada SG', 'Lazada SG', 'Lazada SG', 'Lazada SG', 'Lazada SG', 'Lazada SG', 'Lazada SG', 'Lazada SG', 'Lazada SG', 'Lazada SG', 'Lazada SG', 'Lazada SG', 'Lazada SG', 'Lazada SG', 'Lazada SG', 'Lazada SG', 'Lazada SG', 'Lazada SG', 'Lazada SG', 'Lazada SG', 'Shopee SG', 'Lazada SG', 'Lazada SG', 'Shopee SG', 'Shopee SG', 'Lazada SG', 'Shopee SG', 'Shopee SG', 'Shopee SG', 'Shopee SG', 'Shopee SG', 'Shopee SG', 'Shopee SG', 'Lazada SG', 'Lazada SG', 'Lazada SG', 'Lazada SG', 'Lazada SG', 'Lazada SG', 'Shopee SG', 'Shopee SG', 'Shopee SG', 'Shopee SG', 'Shopee SG', 'Shopee SG', 'Shopee SG', 'Shopee SG', 'Shopee SG', 'Shopee SG', 'Shopee SG', 'Shopee SG', 'Shopee SG', 'Shopee SG', 'Shopee SG', 'Shopee SG', 'Lazada SG', 'Lazada SG', 'Lazada SG', 'Lazada SG', 'Lazada SG', 'Lazada SG', 'Lazada SG', 'Lazada SG', 'Lazada SG', 'Klook Travel (CPS)', 'Klook Travel (CPS)', 'Klook Travel (CPS)', 'Shopee SG', 'Shopee SG', 'Klook Travel (CPS)', 'Shopee SG', 'Shopee SG', 'Shopee SG', 'Shopee SG', 'Shopee SG', 'Lazada SG', 'Shopee SG', 'Shopee SG', 'Lazada SG', 'Lazada SG', 'Lazada SG', 'Lazada SG', 'Lazada SG', 'Lazada SG', 'Lazada SG', 'Lazada SG', 'Lazada SG', 'Lazada SG', 'Lazada SG', 'Lazada SG', 'Lazada SG', 'Shopee SG', 'Lazada SG', 'Lazada SG', 'Lazada SG', 'Lazada SG', 'Lazada SG', 'Lazada SG', 'Lazada SG', 'Lazada SG', 'Lazada SG', 'Shopee SG', 'Lazada SG', 'Lazada SG', 'Lazada SG', 'Lazada SG', 'Lazada SG', 'Lazada SG', 'Lazada SG', 'Lazada SG', 'Lazada SG', 'Shopee SG', 'Shopee SG', 'Shopee SG', 'Shopee SG', 'Shopee SG', 'Shopee SG', 'Shopee SG', 'Shopee SG', 'Lazada SG', 'Shopee SG', 'Shopee SG', 'Shopee SG', 'Shopee SG', 'Shopee SG', 'Lazada SG', 'Lazada SG', 'Shopee SG', 'Lazada SG', 'Lazada SG', 'Lazada SG', 'Lazada SG', 'Lazada SG', 'Lazada SG', 'Lazada SG', 'Lazada SG', 'Lazada SG', 'Lazada SG', 'Lazada SG', 'Lazada SG', 'Shopee SG', 'Shopee SG', 'Shopee SG', 'Shopee SG', 'Shopee SG', 'Shopee SG', 'Lazada SG', 'Lazada SG', 'Lazada SG', 'Lazada SG', 'Lazada SG', 'Lazada SG', 'Lazada SG', 'Shopee SG', 'Shopee SG', 'Lazada SG', 'Shopee SG', 'Shopee SG', 'Shopee SG', 'Shopee SG', 'Shopee SG', 'Shopee SG', 'Shopee SG', 'Lazada SG', 'Lazada SG', 'Lazada SG', 'Lazada SG', 'Shopee SG', 'Shopee SG', 'Lazada SG', 'Lazada SG', 'Shopee SG', 'Shopee SG', 'Shopee SG', 'Shopee SG', 'Shopee SG', 'Shopee SG', 'Shopee SG', 'Shopee SG', 'Shopee SG', 'Shopee SG', 'Shopee SG', 'Shopee SG', 'Shopee SG', 'Shopee SG', 'Lazada SG', 'Lazada SG', 'Lazada SG', 'Lazada SG', 'Lazada SG', 'Shopee SG', 'Lazada SG', 'Shopee SG', 'Lazada SG', 'Shopee SG', 'Shopee SG', 'Shopee SG', 'Shopee SG', 'Lazada SG', 'Lazada SG', 'Lazada SG', 'Shopee SG', 'Lazada SG', 'Lazada SG', 'Shopee SG', 'Shopee SG', 'Shopee SG', 'Shopee SG', 'Shopee SG', 'Shopee SG', 'Shopee SG', 'Shopee SG', 'Shopee SG', 'Shopee SG', 'Shopee SG', 'Lazada SG', 'Lazada SG', 'Lazada SG', 'Shopee SG', 'Lazada SG', 'Lazada SG', 'Shopee SG', 'Shopee SG', 'Shopee SG', 'Shopee SG', 'Lazada SG', 'Fairprice ON', 'Lazada SG', 'Lazada SG', 'Lazada SG', 'Lazada SG', 'Lazada SG', 'Lazada SG', 'Lazada SG', 'Lazada SG', 'Lazada SG', 'Lazada SG', 'Lazada SG', 'Lazada SG', 'Lazada SG', 'Lazada SG', 'Lazada SG', 'Lazada SG', 'Lazada SG', 'Lazada SG', 'Lazada SG', 'Lazada SG', 'Lazada SG', 'Shopee SG', 'Lazada SG', 'Lazada SG', 'Lazada SG', 'Lazada SG', 'Lazada SG', 'Lazada SG', 'Shopee SG', 'Shopee SG', 'Shopee SG', 'Shopee SG', 'Shopee SG', 'Shopee SG', 'Shopee SG', 'Shopee SG', 'Shopee SG', 'Shopee SG', 'Shopee SG', 'Shopee SG', 'Shopee SG', 'Shopee SG', 'Shopee SG', 'Shopee SG', 'Shopee SG', 'Shopee SG', 'Shopee SG', 'Shopee SG', 'Shopee SG', 'Shopee SG', 'Shopee SG', 'Shopee SG', 'Shopee SG', 'Shopee SG', 'Shopee SG', 'Shopee SG', 'Shopee SG', 'Shopee SG', 'Shopee SG', 'Lazada SG', 'Shopee SG', 'Shopee SG', 'Lazada SG', 'Shopee SG', 'Shopee SG', 'Shopee SG', 'Shopee SG', 'Shopee SG', 'Shopee SG', 'Shopee SG', 'Shopee SG', 'Shopee SG', 'Lazada SG', 'Lazada SG', 'Shopee SG', 'Shopee SG', 'Shopee SG', 'Shopee SG', 'Lazada SG', 'Lazada SG', 'Lazada SG', 'Shopee SG', 'Lazada SG', 'Lazada SG', 'Lazada SG', 'Lazada SG', 'Lazada SG', 'Shopee SG', 'Shopee SG', 'Shopee SG', 'Shopee SG', 'Shopee SG', 'Lazada SG', 'Lazada SG', 'Lazada SG', 'Lazada SG', 'Lazada SG', 'Lazada SG', 'Lazada SG', 'Lazada SG', 'Lazada SG', 'Lazada SG', 'Lazada SG', 'Lazada SG', 'Lazada SG', 'Lazada SG', 'Lazada SG', 'Lazada SG', 'Lazada SG', 'Lazada SG', 'Lazada SG', 'Lazada SG', 'Lazada SG', 'Lazada SG', 'Lazada SG', 'Lazada SG', 'Lazada SG', 'Lazada SG', 'Lazada SG', 'Lazada SG', 'Shopee SG', 'Shopee SG', 'Lazada SG', 'Lazada SG', 'Lazada SG', 'Lazada SG', 'Lazada SG', 'Lazada SG', 'Lazada SG', 'Lazada SG', 'Lazada SG', 'Lazada SG', 'Lazada SG', 'Lazada SG', 'Lazada SG', 'Lazada SG', 'Lazada SG', 'Lazada SG', 'Lazada SG', 'Lazada SG', 'Lazada SG', 'Lazada SG', 'Lazada SG', 'Lazada SG', 'Lazada SG', 'Lazada SG', 'Lazada SG', 'Lazada SG', 'Lazada SG', 'Lazada SG', 'Lazada SG', 'Lazada SG', 'Shopee SG', 'Lazada SG', 'Lazada SG', 'Lazada SG', 'Lazada SG', 'Lazada SG', 'Lazada SG', 'Lazada SG', 'Lazada SG', 'Lazada SG', 'Lazada SG', 'Lazada SG', 'Lazada SG', 'Lazada SG', 'Lazada SG', 'Shopee SG', 'Shopee SG', 'Shopee SG', 'Shopee SG', 'Shopee SG', 'Lazada SG', 'Lazada SG', 'Shopee SG', 'Shopee SG', 'Lazada SG', 'Lazada SG', 'Shopee SG', 'Shopee SG', 'Shopee SG', 'Shopee SG', 'Shopee SG', 'Shopee SG', 'Shopee SG', 'Shopee SG', 'Shopee SG', 'Shopee SG', 'Shopee SG', 'Shopee SG', 'Shopee SG', 'Shopee SG', 'Shopee SG', 'Lazada SG', 'Lazada SG', 'Lazada SG', 'Lazada SG', 'Lazada SG', 'Lazada SG', 'Lazada SG', 'Lazada SG', 'Lazada SG', 'Lazada SG', 'Lazada SG', 'Shopee SG', 'Lazada SG', 'Lazada SG', 'Lazada SG', 'Shopee SG', 'Shopee SG', 'Shopee SG', 'Shopee SG', 'Shopee SG', 'Shopee SG', 'Shopee SG', 'Shopee SG', 'Lazada SG', 'Lazada SG', 'Lazada SG', 'Lazada SG', 'Shopee SG', 'Shopee SG', 'Shopee SG', 'Lazada SG', 'Lazada SG', 'Lazada SG', 'Lazada SG', 'Lazada SG', 'Lazada SG', 'Lazada SG', 'Lazada SG', 'Lazada SG', 'Lazada SG', 'Lazada SG', 'Lazada SG', 'Shopee SG', 'Lazada SG', 'Lazada SG', 'Lazada SG', 'Lazada SG', 'Lazada SG', 'Lazada SG', 'Shopee SG', 'Shopee SG', 'Shopee SG', 'Shopee SG', 'Shopee SG', 'Shopee SG', 'Shopee SG', 'Shopee SG', 'Shopee SG', 'Shopee SG', 'Shopee SG', 'Lazada SG', 'Shopee SG', 'Shopee SG', 'Lazada SG', 'Shopee SG', 'Lazada SG', 'Lazada SG', 'Shopee SG', 'Shopee SG', 'Shopee SG', 'Shopee SG', 'Shopee SG', 'Lazada SG', 'Lazada SG', 'Lazada SG', 'Lazada SG', 'Shopee SG', 'Shopee SG', 'Shopee SG', 'Shopee SG', 'Shopee SG', 'Shopee SG', 'Shopee SG', 'Shopee SG', 'Shopee SG', 'Shopee SG', 'Shopee SG', 'Shopee SG', 'Shopee SG', 'Shopee SG', 'Shopee SG', 'Shopee SG', 'Shopee SG', 'Shopee SG', 'Shopee SG', 'Lazada SG', 'Shopee SG', 'Lazada SG', 'Lazada SG', 'Shopee SG', 'Shopee SG', 'Shopee SG', 'Lazada SG', 'Shopee SG', 'Shopee SG', 'Lazada SG', 'Lazada SG', 'Lazada SG', 'Lazada SG', 'Lazada SG', 'Lazada SG', 'Lazada SG', 'Lazada SG', 'Shopee SG', 'Shopee SG', 'Shopee SG', 'Shopee SG', 'Shopee SG', 'Shopee SG', 'Shopee SG', 'Shopee SG', 'Shopee SG', 'Shopee SG', 'Shopee SG', 'Lazada SG', 'Lazada SG', 'Lazada SG', 'Shopee SG', 'Shopee SG', 'Lazada SG', 'Lazada SG', 'Lazada SG', 'Lazada SG', 'Lazada SG', 'Lazada SG', 'Lazada SG', 'Lazada SG', 'Lazada SG', 'Lazada SG', 'Shopee SG', 'Shopee SG', 'Lazada SG', 'Lazada SG', 'Lazada SG', 'Lazada SG', 'Lazada SG', 'Lazada SG', 'Shopee SG', 'Shopee SG', 'Lazada SG', 'Lazada SG', 'Lazada SG', 'Lazada SG', 'Lazada SG', 'Lazada SG', 'Lazada SG', 'Lazada SG', 'Lazada SG', 'Lazada SG', 'Lazada SG', 'Lazada SG', 'Lazada SG', 'Lazada SG', 'Lazada SG', 'Shopee SG', 'Shopee SG', 'Shopee SG', 'Shopee SG', 'Shopee SG', 'Shopee SG', 'Shopee SG', 'Shopee SG', 'Shopee SG', 'Shopee SG', 'Shopee SG', 'Shopee SG', 'Shopee SG', 'Shopee SG', 'Shopee SG', 'Shopee SG', 'Shopee SG', 'Lazada SG', 'Lazada SG', 'Lazada SG', 'Lazada SG', 'Lazada SG', 'Shopee SG', 'Lazada SG', 'Lazada SG', 'Lazada SG', 'Lazada SG', 'Lazada SG', 'Lazada SG', 'Shopee SG', 'Lazada SG', 'Lazada SG', 'Lazada SG', 'Lazada SG', 'Lazada SG', 'Shopee SG', 'Shopee SG', 'Shopee SG', 'Shopee SG', 'Shopee SG', 'Shopee SG', 'Shopee SG', 'Shopee SG', 'Shopee SG', 'Shopee SG', 'Shopee SG', 'Shopee SG', 'Shopee SG', 'Watsons Singapore', 'Lazada SG', 'Lazada SG', 'Lazada SG', 'Lazada SG', 'Lazada SG', 'Lazada SG', 'Fairprice ON', 'Shopee SG', 'Shopee SG', 'Shopee SG', 'Shopee SG', 'Fairprice ON', 'Lazada SG', 'Lazada SG', 'Lazada SG', 'Shopee SG', 'Lazada SG', 'Sephora Singapore']\n",
      "\n",
      "(2023, 11)\n",
      "['Agoda', 'Agoda', 'Agoda', 'iHerb', 'iHerb', 'Lazada SG', 'Lazada SG', 'Lazada SG', 'Lazada SG', 'Lazada SG', 'Lazada SG', 'Lazada SG', 'Lazada SG', 'Lazada SG', 'Lazada SG', 'Lazada SG', 'Lazada SG', 'Lazada SG', 'Lazada SG', 'Lazada SG', 'Lazada SG', 'Lazada SG', 'Lazada SG', 'Shopee SG', 'Shopee SG', 'Shopee SG', 'Shopee SG', 'Shopee SG', 'Shopee SG', 'Shopee SG', 'Shopee SG', 'Shopee SG', 'Shopee SG', 'Shopee SG', 'Shopee SG', 'Shopee SG', 'Lazada SG', 'Lazada SG', 'Lazada SG', 'Lazada SG', 'Lazada SG', 'Lazada SG', 'Lazada SG', 'Lazada SG', 'Lazada SG', 'Lazada SG', 'Lazada SG', 'Lazada SG', 'Lazada SG', 'Lazada SG', 'Lazada SG', 'Lazada SG', 'Shopee SG', 'Shopee SG', 'Shopee SG', 'Shopee SG', 'Shopee SG', 'Shopee SG', 'Shopee SG', 'Shopee SG', 'Shopee SG', 'Shopee SG', 'Shopee SG', 'Shopee SG', 'Shopee SG', 'Lazada SG', 'Lazada SG', 'Lazada SG', 'Lazada SG', 'Lazada SG', 'Lazada SG', 'Lazada SG', 'Lazada SG', 'Shopee SG', 'Shopee SG', 'Shopee SG', 'Shopee SG', 'Shopee SG', 'Shopee SG', 'Shopee SG', 'Shopee SG', 'Shopee SG', 'Lazada SG', 'Lazada SG', 'Lazada SG', 'Lazada SG', 'Lazada SG', 'Lazada SG', 'Lazada SG', 'Lazada SG', 'Lazada SG', 'Lazada SG', 'Lazada SG', 'Lazada SG', 'Lazada SG', 'Lazada SG', 'Lazada SG', 'Lazada SG', 'Lazada SG', 'Lazada SG', 'Lazada SG', 'Lazada SG', 'Lazada SG', 'Lazada SG', 'Lazada SG', 'Lazada SG', 'Lazada SG', 'Lazada SG', 'Lazada SG', 'Lazada SG', 'Lazada SG', 'Lazada SG', 'Lazada SG', 'Lazada SG', 'Lazada SG', 'Lazada SG', 'Lazada SG', 'Lazada SG', 'Lazada SG', 'Lazada SG', 'Lazada SG', 'Lazada SG', 'Lazada SG', 'Lazada SG', 'Lazada SG', 'Lazada SG', 'Lazada SG', 'Lazada SG', 'Lazada SG', 'Shopee SG', 'Shopee SG', 'Shopee SG', 'Shopee SG', 'Shopee SG', 'Shopee SG', 'Shopee SG', 'Shopee SG', 'Shopee SG', 'Shopee SG', 'Shopee SG', 'Shopee SG', 'Shopee SG', 'Shopee SG', 'Shopee SG', 'Shopee SG', 'Shopee SG', 'Shopee SG', 'Shopee SG', 'Shopee SG', 'Shopee SG', 'Shopee SG', 'Shopee SG', 'Shopee SG', 'Shopee SG', 'Shopee SG', 'Shopee SG', 'Shopee SG', 'Shopee SG', 'Shopee SG', 'Shopee SG', 'Shopee SG', 'Shopee SG', 'Shopee SG', 'Shopee SG', 'Shopee SG', 'Shopee SG', 'Shopee SG', 'Shopee SG', 'Shopee SG', 'Shopee SG', 'Shopee SG', 'Shopee SG', 'Shopee SG', 'Shopee SG', 'Shopee SG', 'Shopee SG', 'Shopee SG', 'Shopee SG', 'Shopee SG', 'Shopee SG', 'Shopee SG', 'Shopee SG', 'Shopee SG', 'Lazada SG', 'Lazada SG', 'Lazada SG', 'Lazada SG', 'Lazada SG', 'Lazada SG', 'Lazada SG', 'Lazada SG', 'Lazada SG', 'Lazada SG', 'Lazada SG', 'Lazada SG', 'Lazada SG', 'Lazada SG', 'Lazada SG', 'Shopee SG', 'Shopee SG', 'Shopee SG', 'Shopee SG', 'Shopee SG', 'Shopee SG', 'Lazada SG', 'Lazada SG', 'Lazada SG', 'Lazada SG', 'Lazada SG', 'Lazada SG', 'Lazada SG', 'Lazada SG', 'Lazada SG', 'Lazada SG', 'Lazada SG', 'Lazada SG', 'Lazada SG', 'Lazada SG', 'Lazada SG', 'Lazada SG', 'Lazada SG', 'Lazada SG', 'Lazada SG', 'Lazada SG', 'Lazada SG', 'Lazada SG', 'Lazada SG', 'Lazada SG', 'Lazada SG', 'Lazada SG', 'Lazada SG', 'Lazada SG', 'Lazada SG', 'Lazada SG', 'Lazada SG', 'Lazada SG', 'Lazada SG', 'Lazada SG', 'Lazada SG', 'Lazada SG', 'Lazada SG', 'Lazada SG', 'Lazada SG', 'Lazada SG', 'Lazada SG', 'Lazada SG', 'Lazada SG', 'Lazada SG', 'Lazada SG', 'Lazada SG', 'Lazada SG', 'Lazada SG', 'Lazada SG', 'Lazada SG', 'Lazada SG', 'Lazada SG', 'Lazada SG', 'Lazada SG', 'Lazada SG', 'Lazada SG', 'Lazada SG', 'Lazada SG', 'Lazada SG', 'Lazada SG', 'Lazada SG', 'Lazada SG', 'Lazada SG', 'Lazada SG', 'Lazada SG', 'Lazada SG', 'Lazada SG', 'Lazada SG', 'Lazada SG', 'Lazada SG', 'Lazada SG', 'Lazada SG', 'Lazada SG', 'Lazada SG', 'Lazada SG', 'Lazada SG', 'Lazada SG', 'Lazada SG', 'Lazada SG', 'Lazada SG', 'Lazada SG', 'Lazada SG', 'Lazada SG', 'Lazada SG', 'Lazada SG', 'Lazada SG', 'Lazada SG', 'Lazada SG', 'Lazada SG', 'Lazada SG', 'Lazada SG', 'Lazada SG', 'Lazada SG', 'Lazada SG', 'Lazada SG', 'Lazada SG', 'Lazada SG', 'Lazada SG', 'Lazada SG', 'Lazada SG', 'Lazada SG', 'Lazada SG', 'Lazada SG', 'Lazada SG', 'Lazada SG', 'Lazada SG', 'Lazada SG', 'Lazada SG', 'Lazada SG', 'Lazada SG', 'Lazada SG', 'Lazada SG', 'Lazada SG', 'Lazada SG', 'Lazada SG', 'Lazada SG', 'Lazada SG', 'Lazada SG', 'Lazada SG', 'Lazada SG', 'Lazada SG', 'Lazada SG', 'Lazada SG', 'Lazada SG', 'Lazada SG', 'Lazada SG', 'Lazada SG', 'Lazada SG', 'Lazada SG', 'Lazada SG', 'Lazada SG', 'Lazada SG', 'Lazada SG', 'Lazada SG', 'Lazada SG', 'Lazada SG', 'Lazada SG', 'Lazada SG', 'Lazada SG', 'Lazada SG', 'Lazada SG', 'Lazada SG', 'Lazada SG', 'Lazada SG', 'Lazada SG', 'Lazada SG', 'Lazada SG', 'Lazada SG', 'Lazada SG', 'Lazada SG', 'Lazada SG', 'Lazada SG', 'Lazada SG', 'Lazada SG', 'Lazada SG', 'Lazada SG', 'Lazada SG', 'Lazada SG', 'Lazada SG', 'Lazada SG', 'Lazada SG', 'Lazada SG', 'Lazada SG', 'Lazada SG', 'Lazada SG', 'Lazada SG', 'Lazada SG', 'Lazada SG', 'Lazada SG', 'Lazada SG', 'Lazada SG', 'Lazada SG', 'Lazada SG', 'Lazada SG', 'Lazada SG', 'Shopee SG', 'Shopee SG', 'Shopee SG', 'Shopee SG', 'Shopee SG', 'Shopee SG', 'Shopee SG', 'Shopee SG', 'Shopee SG', 'Shopee SG', 'Shopee SG', 'Shopee SG', 'Shopee SG', 'Shopee SG', 'Shopee SG', 'Shopee SG', 'Shopee SG', 'Shopee SG', 'Shopee SG', 'Shopee SG', 'Shopee SG', 'Shopee SG', 'Shopee SG', 'Shopee SG', 'Shopee SG', 'Shopee SG', 'Shopee SG', 'Shopee SG', 'Shopee SG', 'Shopee SG', 'Shopee SG', 'Shopee SG', 'Shopee SG', 'Shopee SG', 'Shopee SG', 'Lazada SG', 'Lazada SG', 'Lazada SG', 'Fairprice ON', 'Shopee SG', 'Shopee SG', 'Shopee SG', 'Shopee SG', 'Shopee SG', 'Shopee SG', 'Shopee SG', 'Shopee SG', 'Shopee SG', 'Shopee SG', 'Shopee SG', 'Shopee SG', 'Shopee SG', 'Shopee SG', 'Lazada SG', 'Lazada SG', 'Lazada SG', 'Fairprice ON', 'Fairprice ON', 'Fairprice ON', 'Shopee SG', 'Shopee SG', 'Shopee SG', 'Shopee SG', 'Shopee SG', 'Shopee SG', 'Shopee SG', 'Shopee SG', 'Lazada SG', 'Lazada SG', 'Lazada SG', 'Lazada SG', 'Lazada SG', 'Lazada SG', 'Lazada SG', 'Lazada SG', 'Lazada SG', 'Lazada SG', 'Lazada SG', 'Lazada SG', 'Lazada SG', 'Lazada SG', 'Lazada SG', 'Lazada SG', 'Lazada SG', 'Lazada SG', 'Lazada SG', 'Lazada SG', 'Lazada SG', 'Lazada SG', 'Lazada SG', 'Lazada SG', 'Lazada SG', 'Lazada SG', 'Lazada SG', 'Lazada SG', 'Lazada SG', 'Lazada SG', 'Lazada SG', 'Lazada SG', 'Lazada SG', 'Lazada SG', 'Lazada SG', 'Lazada SG', 'Lazada SG', 'Lazada SG', 'Lazada SG', 'Lazada SG', 'Lazada SG', 'Lazada SG', 'Lazada SG', 'Lazada SG', 'Lazada SG', 'Lazada SG', 'Lazada SG', 'Lazada SG', 'Lazada SG', 'Lazada SG', 'Lazada SG', 'Lazada SG', 'Lazada SG', 'Lazada SG', 'Lazada SG', 'Lazada SG', 'Lazada SG', 'Lazada SG', 'Lazada SG', 'Lazada SG', 'Lazada SG', 'Lazada SG', 'Lazada SG', 'Lazada SG', 'Lazada SG', 'Lazada SG', 'Lazada SG', 'Lazada SG', 'Lazada SG', 'Lazada SG', 'Shopee SG', 'Zalora SG', 'Shopee SG', 'Lazada SG', 'Lazada SG', 'Lazada SG', 'Lazada SG', 'Lazada SG', 'Lazada SG', 'Lazada SG', 'Lazada SG', 'Lazada SG', 'Lazada SG', 'Lazada SG', 'Lazada SG', 'Lazada SG', 'Lazada SG', 'Lazada SG', 'Lazada SG', 'Lazada SG', 'Lazada SG', 'Lazada SG', 'Lazada SG', 'Lazada SG', 'Lazada SG', 'Lazada SG', 'Lazada SG', 'Lazada SG', 'Lazada SG', 'Lazada SG', 'Lazada SG', 'Lazada SG', 'Lazada SG', 'Lazada SG', 'Lazada SG', 'Lazada SG', 'Lazada SG', 'Lazada SG', 'Lazada SG', 'Lazada SG', 'Lazada SG', 'Lazada SG', 'Lazada SG', 'Lazada SG', 'Lazada SG', 'Lazada SG', 'Lazada SG', 'Lazada SG', 'Lazada SG', 'Lazada SG', 'Lazada SG', 'Lazada SG', 'Lazada SG', 'Lazada SG', 'Lazada SG', 'Lazada SG', 'Lazada SG', 'Lazada SG', 'Lazada SG', 'Lazada SG', 'Lazada SG', 'Lazada SG', 'Lazada SG', 'Lazada SG', 'Lazada SG', 'Lazada SG', 'Lazada SG', 'Lazada SG', 'Lazada SG', 'Lazada SG', 'Lazada SG', 'Lazada SG', 'Lazada SG', 'Lazada SG', 'Lazada SG', 'Lazada SG', 'Lazada SG', 'Lazada SG', 'Lazada SG', 'Lazada SG', 'Lazada SG', 'Lazada SG', 'Lazada SG', 'Lazada SG', 'Watsons SG', 'Shopee SG', 'Shopee SG', 'Shopee SG', 'Shopee SG', 'Shopee SG', 'Shopee SG', 'Shopee SG', 'Shopee SG', 'Shopee SG', 'Shopee SG', 'Shopee SG', 'Shopee SG', 'Shopee SG', 'Shopee SG', 'Shopee SG', 'Shopee SG', 'Shopee SG', 'Shopee SG', 'Shopee SG', 'Shopee SG', 'Shopee SG', 'Shopee SG', 'Shopee SG', 'Shopee SG', 'Shopee SG', 'Shopee SG', 'Shopee SG', 'Shopee SG', 'Shopee SG', 'Shopee SG', 'Shopee SG', 'Shopee SG', 'Shopee SG', 'Shopee SG', 'Shopee SG', 'Shopee SG', 'Shopee SG', 'Shopee SG', 'Shopee SG', 'Shopee SG', 'Shopee SG', 'Zalora SG', 'Shopee SG', 'Shopee SG', 'Shopee SG', 'Shopee SG', 'Shopee SG', 'Shopee SG', 'Shopee SG', 'Shopee SG', 'Shopee SG', 'Shopee SG', 'Shopee SG', 'Shopee SG', 'Shopee SG', 'Shopee SG', 'Shopee SG', 'Shopee SG', 'Shopee SG', 'Shopee SG', 'Shopee SG', 'Shopee SG', 'Shopee SG', 'Shopee SG', 'Shopee SG', 'Shopee SG', 'Shopee SG', 'Shopee SG', 'Shopee SG', 'Shopee SG', 'Shopee SG', 'Shopee SG', 'Shopee SG', 'Shopee SG', 'Shopee SG', 'Shopee SG', 'Shopee SG', 'Shopee SG', 'Shopee SG', 'Watsons SG', 'Shopee SG', 'Shopee SG', 'Shopee SG', 'Shopee SG', 'Shopee SG', 'Shopee SG', 'Shopee SG', 'Shopee SG', 'Shopee SG', 'Shopee SG', 'Shopee SG', 'Shopee SG', 'Shopee SG', 'Shopee SG', 'Shopee SG', 'Shopee SG', 'Shopee SG', 'Shopee SG', 'Shopee SG', 'Shopee SG', 'Shopee SG', 'Shopee SG', 'Shopee SG', 'Shopee SG', 'Shopee SG', 'Shopee SG', 'Shopee SG', 'Shopee SG', 'Shopee SG', 'Shopee SG', 'Shopee SG', 'Shopee SG', 'Shopee SG', 'Shopee SG', 'Shopee SG', 'Shopee SG', 'Shopee SG', 'Shopee SG', 'Shopee SG', 'Shopee SG', 'Shopee SG', 'Shopee SG', 'Shopee SG', 'Shopee SG', 'Shopee SG', 'Shopee SG', 'Shopee SG', 'Shopee SG', 'Shopee SG', 'Lazada SG', 'Lazada SG', 'Lazada SG', 'Lazada SG', 'Lazada SG', 'Lazada SG', 'Lazada SG', 'Lazada SG', 'Lazada SG', 'Lazada SG', 'Lazada SG', 'Lazada SG', 'Lazada SG', 'Lazada SG', 'Lazada SG', 'Lazada SG', 'Lazada SG', 'Lazada SG', 'Lazada SG', 'Lazada SG', 'Lazada SG', 'Lazada SG', 'Lazada SG', 'Lazada SG', 'Lazada SG', 'Lazada SG', 'Lazada SG', 'Lazada SG', 'Lazada SG', 'Lazada SG', 'Lazada SG', 'Lazada SG', 'Lazada SG', 'Lazada SG', 'Lazada SG', 'Lazada SG', 'Lazada SG', 'Lazada SG', 'Lazada SG', 'Lazada SG', 'Lazada SG', 'Lazada SG', 'Lazada SG', 'Shopee SG', 'Shopee SG', 'Shopee SG', 'Shopee SG', 'Shopee SG', 'Shopee SG', 'Shopee SG', 'Shopee SG', 'Shopee SG', 'Shopee SG', 'Shopee SG', 'Shopee SG', 'Shopee SG', 'Shopee SG', 'Shopee SG', 'Shopee SG', 'Shopee SG', 'Shopee SG', 'Shopee SG', 'Shopee SG', 'Shopee SG', 'Shopee SG', 'Shopee SG', 'Shopee SG', 'Shopee SG', 'Shopee SG', 'Shopee SG', 'Lazada SG', 'Lazada SG', 'Lazada SG', 'Lazada SG', 'Lazada SG', 'Lazada SG', 'Lazada SG', 'Lazada SG', 'Lazada SG', 'Lazada SG', 'Lazada SG', 'Lazada SG', 'Lazada SG', 'Lazada SG', 'Lazada SG', 'Lazada SG', 'Lazada SG', 'Lazada SG', 'Lazada SG', 'Lazada SG', 'Lazada SG', 'Lazada SG', 'Lazada SG', 'Lazada SG', 'Lazada SG', 'Lazada SG', 'Lazada SG', 'Lazada SG', 'Lazada SG', 'Lazada SG', 'Lazada SG', 'Lazada SG', 'Shopee SG', 'Shopee SG', 'Shopee SG', 'Shopee SG', 'Shopee SG', 'Shopee SG', 'Fairprice ON', 'Shopee SG', 'Shopee SG', 'Shopee SG', 'Shopee SG', 'Shopee SG', 'Shopee SG', 'Shopee SG', 'Shopee SG', 'Shopee SG', 'Shopee SG', 'Shopee SG', 'Shopee SG', 'Shopee SG', 'Lazada SG', 'Lazada SG', 'Shopee SG', 'Shopee SG', 'Shopee SG', 'Shopee SG', 'Shopee SG', 'Shopee SG', 'Shopee SG', 'Shopee SG', 'Fairprice ON', 'Lazada SG', 'Lazada SG', 'Lazada SG', 'Lazada SG', 'Shopee SG', 'Shopee SG', 'Shopee SG', 'Shopee SG', 'Shopee SG', 'Lazada SG', 'Lazada SG', 'Lazada SG', 'Shopee SG', 'Lazada SG', 'Lazada SG', 'Lazada SG', 'Lazada SG', 'Lazada SG', 'Lazada SG', 'Lazada SG', 'Shopee SG', 'Lazada SG', 'Lazada SG', 'Lazada SG', 'Lazada SG', 'Lazada SG', 'Shopee SG', 'Shopee SG', 'Lazada SG', 'Lazada SG', 'Lazada SG', 'Lazada SG', 'Lazada SG', 'Lazada SG', 'Lazada SG', 'Lazada SG', 'Shopee SG', 'Shopee SG', 'Shopee SG', 'Shopee SG', 'Lazada SG', 'Lazada SG', 'Shopee SG', 'Shopee SG', 'Shopee SG', 'Zalora SG', 'Lazada SG']\n",
      "\n",
      "(2023, 12)\n",
      "['tripcom', 'iHerb', 'tripcom', 'tripcom', 'Lazada SG', 'Lazada SG', 'Lazada SG', 'Lazada SG', 'Lazada SG', 'Lazada SG', 'Lazada SG', 'Lazada SG', 'Lazada SG', 'Lazada SG', 'Lazada SG', 'Lazada SG', 'Lazada SG', 'Shopee SG', 'Shopee SG', 'Shopee SG', 'Shopee SG', 'Shopee SG', 'Shopee SG', 'Shopee SG', 'Shopee SG', 'Shopee SG', 'Shopee SG', 'Shopee SG', 'Shopee SG', 'Shopee SG', 'Shopee SG', 'Shopee SG', 'Shopee SG', 'Shopee SG', 'Shopee SG', 'Shopee SG', 'Shopee SG', 'Shopee SG', 'Shopee SG', 'Shopee SG', 'Shopee SG', 'Shopee SG', 'Shopee SG', 'Shopee SG', 'Shopee SG', 'Shopee SG', 'Shopee SG', 'Shopee SG', 'Shopee SG', 'Shopee SG', 'Shopee SG', 'Shopee SG', 'Shopee SG', 'Shopee SG', 'Shopee SG', 'Shopee SG', 'Shopee SG', 'Shopee SG', 'Shopee SG', 'Shopee SG', 'Shopee SG', 'Shopee SG', 'Shopee SG', 'Shopee SG', 'Shopee SG', 'Lazada SG', 'Lazada SG', 'Lazada SG', 'Lazada SG', 'Lazada SG', 'Lazada SG', 'Lazada SG', 'Lazada SG', 'Lazada SG', 'Lazada SG', 'Lazada SG', 'Lazada SG', 'Lazada SG', 'Lazada SG', 'Lazada SG', 'Lazada SG', 'Lazada SG', 'Lazada SG', 'Lazada SG', 'Lazada SG', 'Lazada SG', 'Lazada SG', 'Shopee SG', 'Shopee SG', 'Shopee SG', 'Shopee SG', 'Shopee SG', 'Shopee SG', 'Klook', 'Lazada SG', 'Lazada SG', 'Lazada SG', 'Lazada SG', 'Lazada SG', 'Lazada SG', 'Lazada SG', 'Lazada SG', 'Lazada SG', 'Lazada SG', 'Lazada SG', 'Lazada SG', 'Lazada SG', 'Lazada SG', 'Lazada SG', 'Lazada SG', 'Lazada SG', 'Lazada SG', 'Lazada SG', 'Lazada SG', 'Lazada SG', 'Lazada SG', 'Lazada SG', 'Lazada SG', 'Lazada SG', 'Lazada SG', 'Fairprice ON', 'Shopee SG', 'Shopee SG', 'Shopee SG', 'Shopee SG', 'Shopee SG', 'Shopee SG', 'Shopee SG', 'Shopee SG', 'Shopee SG', 'Shopee SG', 'Shopee SG', 'Shopee SG', 'Shopee SG', 'Shopee SG', 'Shopee SG', 'Shopee SG', 'Shopee SG', 'Shopee SG', 'Shopee SG', 'Shopee SG', 'Shopee SG', 'Shopee SG', 'Shopee SG', 'Shopee SG', 'Shopee SG', 'Shopee SG', 'Shopee SG', 'Shopee SG', 'Shopee SG', 'Shopee SG', 'Shopee SG', 'Shopee SG', 'Shopee SG', 'Shopee SG', 'Shopee SG', 'Shopee SG', 'Shopee SG', 'Shopee SG', 'Shopee SG', 'Shopee SG', 'Shopee SG', 'Shopee SG', 'Shopee SG', 'Shopee SG', 'Shopee SG', 'Shopee SG', 'Shopee SG', 'Shopee SG', 'Shopee SG', 'Shopee SG', 'Shopee SG', 'Shopee SG', 'Shopee SG', 'Shopee SG', 'Shopee SG', 'Shopee SG', 'Shopee SG', 'Shopee SG', 'Shopee SG', 'Shopee SG', 'Shopee SG', 'Shopee SG', 'Shopee SG', 'Shopee SG', 'Shopee SG', 'Shopee SG', 'Shopee SG', 'Shopee SG', 'Shopee SG', 'Shopee SG', 'Shopee SG', 'Shopee SG', 'Shopee SG', 'Lazada SG', 'Lazada SG', 'Lazada SG', 'Lazada SG', 'Lazada SG', 'Lazada SG', 'Lazada SG', 'Lazada SG', 'Lazada SG', 'Lazada SG', 'Lazada SG', 'Lazada SG', 'Lazada SG', 'Lazada SG', 'Lazada SG', 'Lazada SG', 'Lazada SG', 'Lazada SG', 'Lazada SG', 'Lazada SG', 'Lazada SG', 'Lazada SG', 'Lazada SG', 'Lazada SG', 'Shopee SG', 'Shopee SG', 'Shopee SG', 'Shopee SG', 'Shopee SG', 'Shopee SG', 'Shopee SG', 'Shopee SG', 'Shopee SG', 'Shopee SG', 'Shopee SG', 'Shopee SG', 'Shopee SG', 'Shopee SG', 'Shopee SG', 'Shopee SG', 'Shopee SG', 'Shopee SG', 'Shopee SG', 'Shopee SG', 'Lazada SG', 'Lazada SG', 'Lazada SG', 'Lazada SG', 'Lazada SG', 'Lazada SG', 'Lazada SG', 'Lazada SG', 'Lazada SG', 'Lazada SG', 'Lazada SG', 'Lazada SG', 'Lazada SG', 'Lazada SG', 'Lazada SG', 'Shopee SG', 'Shopee SG', 'Shopee SG', 'Shopee SG', 'Shopee SG', 'Shopee SG', 'Shopee SG', 'Shopee SG', 'Shopee SG', 'Shopee SG', 'Shopee SG', 'Shopee SG', 'Shopee SG', 'Shopee SG', 'Shopee SG', 'Shopee SG', 'Shopee SG', 'Shopee SG', 'Shopee SG - CPS', 'Shopee SG - CPS', 'Lazada SG', 'Lazada SG', 'Lazada SG', 'Lazada SG', 'Shopee SG - CPS', 'Shopee SG - CPS', 'Shopee SG - CPS', 'Shopee SG - CPS', 'Shopee SG - CPS', 'Shopee SG - CPS', 'Lazada SG', 'Lazada SG', 'Shopee SG - CPS', 'Lazada SG', 'Lazada SG', 'Shopee SG - CPS', 'Lazada SG', 'Lazada SG', 'Lazada SG', 'Lazada SG', 'Lazada SG', 'Lazada SG', 'Lazada SG', 'Lazada SG', 'Lazada SG', 'Shopee SG - CPS', 'Shopee SG - CPS', 'Shopee SG - CPS', 'Lazada SG', 'Lazada SG', 'Lazada SG', 'Lazada SG', 'Lazada SG', 'Lazada SG', 'Lazada SG', 'Lazada SG', 'Lazada SG', 'Lazada SG', 'Lazada SG', 'Shopee SG - CPS', 'Shopee SG - CPS', 'Shopee SG - CPS', 'Shopee SG - CPS', 'Shopee SG - CPS', 'Shopee SG - CPS', 'Shopee SG - CPS', 'Shopee SG - CPS', 'Lazada SG', 'Lazada SG', 'Lazada SG', 'Lazada SG', 'Lazada SG', 'Lazada SG', 'Lazada SG', 'Lazada SG', 'Lazada SG', 'Lazada SG', 'Lazada SG', 'Shopee SG - CPS', 'Shopee SG - CPS', 'Shopee SG - CPS', 'Shopee SG - CPS', 'Lazada SG', 'Lazada SG', 'Lazada SG', 'Shopee SG - CPS', 'Lazada SG', 'Lazada SG', 'Lazada SG', 'Lazada SG', 'Lazada SG', 'Lazada SG', 'Shopee SG - CPS', 'Shopee SG - CPS', 'Lazada SG', 'Shopee SG - CPS', 'Shopee SG - CPS', 'Shopee SG - CPS', 'Shopee SG - CPS', 'Shopee SG - CPS', 'Shopee SG - CPS', 'Shopee SG - CPS', 'Shopee SG - CPS', 'Lazada SG', 'Lazada SG', 'Lazada SG', 'Lazada SG', 'Lazada SG', 'Lazada SG', 'Lazada SG', 'Lazada SG', 'Lazada SG', 'Lazada SG', 'Lazada SG', 'Lazada SG', 'Lazada SG', 'Lazada SG', 'Lazada SG', 'Lazada SG', 'Lazada SG', 'Lazada SG', 'Lazada SG', 'Lazada SG', 'Lazada SG', 'Lazada SG', 'Lazada SG', 'Lazada SG', 'Lazada SG', 'Lazada SG', 'Lazada SG', 'Lazada SG', 'Lazada SG', 'Lazada SG', 'Lazada SG', 'Lazada SG', 'Lazada SG', 'Lazada SG', 'Shopee SG - CPS', 'Shopee SG - CPS', 'Shopee SG - CPS', 'Lazada SG', 'Lazada SG', 'Lazada SG', 'Lazada SG', 'Lazada SG', 'Lazada SG', 'Lazada SG', 'Lazada SG', 'Lazada SG', 'Lazada SG', 'Lazada SG', 'Lazada SG', 'Lazada SG', 'Lazada SG', 'Lazada SG', 'Shopee SG - CPS', 'Shopee SG - CPS', 'Shopee SG - CPS', 'Shopee SG - CPS', 'Shopee SG - CPS', 'Shopee SG - CPS', 'Lazada SG', 'Lazada SG', 'Lazada SG', 'Lazada SG', 'Lazada SG', 'Lazada SG', 'Lazada SG', 'Lazada SG', 'Lazada SG', 'Lazada SG', 'Lazada SG', 'Lazada SG', 'Lazada SG', 'Lazada SG', 'Lazada SG', 'Lazada SG', 'Lazada SG', 'Lazada SG', 'Lazada SG', 'Lazada SG', 'Lazada SG', 'Lazada SG', 'Lazada SG', 'Lazada SG', 'Lazada SG', 'Lazada SG', 'Lazada SG', 'Lazada SG', 'Lazada SG', 'Lazada SG', 'Lazada SG', 'Lazada SG', 'Lazada SG', 'Lazada SG', 'Lazada SG', 'Lazada SG', 'Shopee SG - CPS', 'Lazada SG', 'Shopee SG - CPS', 'Shopee SG - CPS', 'Lazada SG', 'Lazada SG', 'Lazada SG', 'Lazada SG', 'Shopee SG - CPS', 'Shopee SG - CPS', 'Shopee SG - CPS', 'Shopee SG - CPS', 'Shopee SG - CPS', 'Lazada SG', 'Lazada SG', 'Lazada SG', 'Lazada SG', 'Lazada SG', 'Lazada SG', 'Lazada SG', 'Lazada SG', 'Lazada SG', 'Lazada SG', 'Lazada SG', 'Lazada SG', 'Lazada SG', 'Lazada SG', 'Lazada SG', 'Lazada SG', 'Lazada SG', 'Lazada SG', 'Lazada SG', 'Lazada SG', 'Lazada SG', 'Lazada SG', 'Lazada SG', 'Lazada SG', 'Lazada SG', 'Lazada SG', 'Lazada SG', 'Lazada SG', 'Lazada SG', 'Lazada SG', 'Lazada SG', 'Lazada SG', 'Lazada SG', 'Lazada SG', 'Lazada SG', 'Lazada SG', 'Lazada SG', 'Lazada SG', 'Lazada SG', 'Lazada SG', 'Lazada SG', 'Lazada SG', 'Lazada SG', 'Lazada SG', 'Lazada SG', 'Lazada SG', 'Lazada SG', 'Lazada SG', 'Lazada SG', 'Lazada SG', 'Lazada SG', 'Lazada SG', 'Lazada SG', 'Lazada SG', 'Lazada SG', 'Lazada SG', 'Lazada SG', 'Lazada SG', 'Lazada SG', 'Lazada SG', 'Lazada SG', 'Lazada SG', 'Lazada SG', 'Lazada SG', 'Lazada SG', 'Lazada SG', 'Lazada SG', 'Lazada SG', 'Lazada SG', 'Lazada SG', 'Lazada SG', 'Lazada SG', 'Lazada SG', 'Lazada SG', 'Lazada SG', 'Lazada SG', 'Lazada SG', 'Lazada SG', 'Lazada SG', 'Lazada SG', 'Lazada SG', 'Lazada SG', 'Lazada SG', 'Lazada SG', 'Lazada SG', 'Lazada SG', 'Lazada SG', 'Lazada SG', 'Lazada SG', 'Lazada SG', 'Lazada SG', 'Lazada SG', 'Lazada SG', 'Lazada SG', 'Lazada SG', 'Lazada SG', 'Lazada SG', 'Lazada SG', 'Lazada SG', 'Lazada SG', 'Lazada SG', 'Lazada SG', 'Lazada SG', 'Lazada SG', 'Lazada SG', 'Lazada SG', 'Lazada SG', 'Lazada SG', 'Lazada SG', 'Lazada SG', 'Lazada SG', 'Lazada SG', 'Lazada SG', 'Lazada SG', 'Lazada SG', 'Lazada SG', 'Lazada SG', 'Lazada SG', 'Lazada SG', 'Lazada SG', 'Lazada SG', 'Lazada SG', 'Lazada SG', 'Lazada SG', 'Shopee SG', 'Shopee SG', 'Shopee SG', 'Shopee SG', 'Shopee SG', 'Shopee SG', 'Shopee SG', 'Shopee SG', 'Shopee SG', 'Shopee SG', 'Shopee SG', 'Shopee SG', 'Watsons Singapore', 'Shopee SG', 'Shopee SG', 'Shopee SG', 'Shopee SG', 'Shopee SG', 'Shopee SG', 'Shopee SG', 'Fairprice ON', 'Shopee SG', 'Shopee SG', 'Shopee SG', 'Shopee SG', 'Shopee SG', 'Fairprice ON', 'Shopee SG', 'Shopee SG', 'Shopee SG', 'Shopee SG', 'Shopee SG', 'Shopee SG', 'Shopee SG', 'Shopee SG', 'Shopee SG', 'Shopee SG', 'Shopee SG', 'Shopee SG', 'Shopee SG', 'Shopee SG', 'Shopee SG', 'Shopee SG', 'Shopee SG', 'Shopee SG', 'Shopee SG', 'Shopee SG', 'Shopee SG', 'Shopee SG', 'Shopee SG', 'Shopee SG', 'Shopee SG', 'Shopee SG', 'Shopee SG', 'Shopee SG', 'Shopee SG', 'Shopee SG', 'Shopee SG', 'Shopee SG', 'Shopee SG', 'Shopee SG', 'Shopee SG', 'Shopee SG', 'Shopee SG', 'Shopee SG', 'Shopee SG', 'Shopee SG', 'Shopee SG', 'Shopee SG', 'Shopee SG', 'Shopee SG', 'Shopee SG', 'Shopee SG', 'Shopee SG', 'Shopee SG', 'Shopee SG', 'Shopee SG', 'Shopee SG', 'Shopee SG', 'Shopee SG', 'Shopee SG', 'Shopee SG', 'Shopee SG', 'Shopee SG', 'Shopee SG', 'Shopee SG', 'Shopee SG', 'Shopee SG', 'Shopee SG', 'Shopee SG', 'Shopee SG', 'Shopee SG', 'Shopee SG', 'Shopee SG', 'Shopee SG', 'Shopee SG', 'Shopee SG', 'Shopee SG', 'Shopee SG', 'Shopee SG', 'Shopee SG', 'Shopee SG', 'Shopee SG', 'Shopee SG', 'Shopee SG', 'Shopee SG', 'Shopee SG', 'Shopee SG', 'Shopee SG', 'Shopee SG', 'Shopee SG', 'Shopee SG', 'Shopee SG', 'Shopee SG', 'Shopee SG', 'Shopee SG', 'Shopee SG', 'Shopee SG', 'Shopee SG', 'Shopee SG', 'Shopee SG', 'Shopee SG', 'Shopee SG', 'Shopee SG', 'Shopee SG', 'Shopee SG', 'Shopee SG', 'Shopee SG', 'Shopee SG', 'Shopee SG', 'Shopee SG', 'Shopee SG', 'Shopee SG', 'Shopee SG', 'Shopee SG', 'Shopee SG', 'Shopee SG', 'Shopee SG', 'Shopee SG', 'Shopee SG', 'Shopee SG', 'Shopee SG', 'Shopee SG', 'Shopee SG', 'Shopee SG', 'Shopee SG', 'Shopee SG', 'Shopee SG', 'Shopee SG', 'Shopee SG', 'Shopee SG', 'Shopee SG', 'Shopee SG', 'Shopee SG', 'Shopee SG', 'Shopee SG', 'Shopee SG', 'Shopee SG', 'Shopee SG', 'Shopee SG', 'Shopee SG', 'Shopee SG', 'Shopee SG', 'Shopee SG', 'Shopee SG', 'Shopee SG', 'Shopee SG', 'Shopee SG', 'Shopee SG', 'Shopee SG', 'Shopee SG', 'Shopee SG', 'Shopee SG', 'Shopee SG', 'Shopee SG', 'Shopee SG', 'Shopee SG', 'Shopee SG', 'Shopee SG', 'Shopee SG', 'Shopee SG', 'Shopee SG', 'Shopee SG', 'Shopee SG', 'Shopee SG', 'Shopee SG', 'Shopee SG', 'Shopee SG', 'Shopee SG', 'Shopee SG', 'Shopee SG', 'Shopee SG', 'Shopee SG', 'Shopee SG', 'Shopee SG', 'Lazada SG', 'Lazada SG', 'Lazada SG', 'Lazada SG', 'Lazada SG', 'Lazada SG', 'Lazada SG', 'Lazada SG', 'Lazada SG', 'Lazada SG', 'Lazada SG', 'Lazada SG', 'Lazada SG', 'Lazada SG', 'Lazada SG', 'Lazada SG', 'Lazada SG', 'Lazada SG', 'Lazada SG', 'Lazada SG', 'Lazada SG', 'Lazada SG', 'Lazada SG', 'Lazada SG', 'Lazada SG', 'Lazada SG', 'Lazada SG', 'Lazada SG', 'Lazada SG', 'Lazada SG', 'Lazada SG', 'Lazada SG', 'Lazada SG', 'Lazada SG', 'Lazada SG', 'Lazada SG', 'Lazada SG', 'Lazada SG', 'Lazada SG', 'Lazada SG', 'Lazada SG', 'Lazada SG', 'Lazada SG', 'Lazada SG', 'Lazada SG', 'Lazada SG', 'Lazada SG', 'Lazada SG', 'Lazada SG', 'Lazada SG', 'Lazada SG', 'Lazada SG', 'Lazada SG', 'Lazada SG', 'Lazada SG', 'Lazada SG', 'Lazada SG', 'Lazada SG', 'Lazada SG', 'Lazada SG', 'Lazada SG', 'Lazada SG', 'Lazada SG', 'Lazada SG', 'Lazada SG', 'Lazada SG', 'Lazada SG', 'Lazada SG', 'Lazada SG', 'Lazada SG', 'Lazada SG', 'Lazada SG', 'Lazada SG', 'Lazada SG', 'Lazada SG', 'Lazada SG', 'Lazada SG', 'Lazada SG', 'Lazada SG', 'Lazada SG', 'Lazada SG', 'Lazada SG', 'Lazada SG', 'Lazada SG', 'Lazada SG', 'Lazada SG', 'Lazada SG', 'Lazada SG', 'Lazada SG', 'Lazada SG', 'Lazada SG', 'Lazada SG', 'Lazada SG', 'Lazada SG', 'Lazada SG', 'Lazada SG', 'Lazada SG', 'Lazada SG', 'Lazada SG', 'Lazada SG', 'Lazada SG', 'Lazada SG', 'Lazada SG', 'Lazada SG', 'Lazada SG', 'Lazada SG', 'Lazada SG', 'Lazada SG', 'Lazada SG', 'Lazada SG', 'Lazada SG', 'Lazada SG', 'Lazada SG', 'Lazada SG', 'Lazada SG', 'Lazada SG', 'Lazada SG', 'Lazada SG', 'Lazada SG', 'Lazada SG', 'Lazada SG', 'Lazada SG', 'Lazada SG', 'Lazada SG', 'Lazada SG', 'Lazada SG', 'Shopee SG', 'Shopee SG', 'Shopee SG', 'Shopee SG', 'Shopee SG', 'Shopee SG', 'Shopee SG', 'Shopee SG', 'Shopee SG', 'Shopee SG', 'Shopee SG', 'Shopee SG', 'Shopee SG', 'Shopee SG', 'Shopee SG', 'Shopee SG', 'Shopee SG', 'Shopee SG', 'Shopee SG', 'Shopee SG', 'Shopee SG', 'Shopee SG', 'Shopee SG', 'Shopee SG', 'Shopee SG', 'Shopee SG', 'Shopee SG', 'Shopee SG', 'Klook Travel (CPS)', 'Lazada SG', 'Lazada SG', 'Lazada SG', 'Lazada SG', 'Lazada SG', 'Lazada SG', 'Lazada SG', 'Lazada SG', 'Lazada SG', 'Lazada SG', 'Lazada SG', 'Lazada SG', 'Lazada SG', 'Lazada SG', 'Lazada SG', 'Lazada SG', 'Lazada SG', 'Lazada SG', 'Lazada SG', 'Lazada SG', 'Lazada SG', 'Lazada SG', 'Lazada SG', 'Lazada SG', 'Lazada SG', 'Lazada SG', 'Lazada SG', 'Lazada SG', 'Lazada SG', 'Lazada SG', 'Lazada SG', 'Lazada SG', 'Lazada SG', 'Lazada SG', 'Lazada SG', 'Lazada SG', 'Lazada SG', 'Lazada SG', 'Fairprice ON', 'Shopee SG', 'Shopee SG', 'Shopee SG', 'Shopee SG', 'Shopee SG', 'Shopee SG', 'Shopee SG', 'Shopee SG', 'Shopee SG', 'Shopee SG', 'Shopee SG', 'Shopee SG', 'Shopee SG', 'Shopee SG', 'Shopee SG', 'Shopee SG', 'Shopee SG', 'Shopee SG', 'Shopee SG', 'Shopee SG', 'Shopee SG', 'Shopee SG', 'Shopee SG', 'Shopee SG', 'Shopee SG', 'Shopee SG', 'Shopee SG', 'Shopee SG', 'Shopee SG', 'Shopee SG', 'Shopee SG', 'Shopee SG', 'Shopee SG', 'Shopee SG', 'Shopee SG', 'Shopee SG', 'Shopee SG', 'Shopee SG', 'Shopee SG', 'Shopee SG', 'Shopee SG', 'Shopee SG', 'Shopee SG', 'Shopee SG', 'Shopee SG', 'Shopee SG', 'Shopee SG', 'Shopee SG', 'Shopee SG', 'Shopee SG', 'Shopee SG', 'Shopee SG', 'Shopee SG', 'Fairprice ON', 'Shopee SG', 'Shopee SG', 'Shopee SG', 'Shopee SG', 'Shopee SG', 'Shopee SG', 'Shopee SG', 'Shopee SG', 'Shopee SG', 'Shopee SG', 'Shopee SG', 'Shopee SG', 'Shopee SG', 'Shopee SG', 'Shopee SG', 'Shopee SG', 'Shopee SG', 'Shopee SG', 'Shopee SG', 'Shopee SG', 'Shopee SG', 'Shopee SG', 'Shopee SG', 'Shopee SG', 'Shopee SG', 'Shopee SG', 'Shopee SG', 'Shopee SG', 'Shopee SG', 'Shopee SG', 'Shopee SG', 'Shopee SG', 'Shopee SG', 'Shopee SG', 'Shopee SG', 'Shopee SG', 'Shopee SG', 'Shopee SG', 'Shopee SG', 'Shopee SG', 'Shopee SG', 'Shopee SG', 'Shopee SG', 'Shopee SG', 'Lazada SG', 'Lazada SG', 'Lazada SG', 'Lazada SG', 'Lazada SG', 'Lazada SG', 'Lazada SG', 'Lazada SG', 'Lazada SG', 'Lazada SG', 'Lazada SG', 'Lazada SG', 'Lazada SG', 'Lazada SG', 'Lazada SG', 'Lazada SG', 'Lazada SG', 'Lazada SG', 'Lazada SG', 'Lazada SG', 'Lazada SG', 'Lazada SG', 'Lazada SG', 'Lazada SG', 'Lazada SG', 'Lazada SG', 'Lazada SG', 'Lazada SG', 'Lazada SG', 'Lazada SG', 'Lazada SG', 'Watsons Singapore', 'Shopee SG', 'Shopee SG', 'Shopee SG', 'Shopee SG', 'Shopee SG', 'Shopee SG', 'Shopee SG', 'Shopee SG', 'Shopee SG', 'Shopee SG', 'Shopee SG', 'Shopee SG', 'Shopee SG', 'Lazada SG', 'Lazada SG', 'Lazada SG', 'Lazada SG', 'Lazada SG', 'Lazada SG', 'Shopee SG', 'Shopee SG', 'Shopee SG', 'Shopee SG', 'Shopee SG', 'Shopee SG', 'Shopee SG', 'Shopee SG', 'Shopee SG', 'Shopee SG', 'Shopee SG', 'Shopee SG', 'Shopee SG', 'Shopee SG', 'Shopee SG', 'Shopee SG', 'Shopee SG', 'Shopee SG', 'Shopee SG', 'Shopee SG', 'Shopee SG', 'Shopee SG', 'Shopee SG', 'Fairprice ON', 'Shopee SG', 'Shopee SG', 'Shopee SG', 'Shopee SG', 'Shopee SG', 'Shopee SG', 'Shopee SG', 'Shopee SG']\n",
      "\n",
      "(2024, 1)\n",
      "['tripcom', 'Shopee SG', 'Shopee SG', 'Shopee SG', 'Shopee SG', 'Shopee SG', 'Shopee SG', 'Shopee SG', 'Shopee SG', 'Shopee SG', 'Shopee SG', 'Shopee SG', 'Shopee SG', 'Shopee SG', 'Shopee SG', 'Shopee SG', 'Shopee SG', 'Shopee SG', 'Fairprice ON', 'Fairprice ON', 'Shopee SG', 'Shopee SG', 'Shopee SG', 'Shopee SG', 'Shopee SG', 'Shopee SG', 'Shopee SG', 'Shopee SG', 'Shopee SG', 'Shopee SG', 'Shopee SG', 'Shopee SG', 'Shopee SG', 'Shopee SG', 'Shopee SG', 'Shopee SG', 'Shopee SG', 'Shopee SG', 'Shopee SG', 'Shopee SG', 'Shopee SG', 'Shopee SG', 'Shopee SG', 'Shopee SG', 'Shopee SG', 'Shopee SG', 'Shopee SG', 'Shopee SG', 'Shopee SG', 'Shopee SG', 'Shopee SG', 'Shopee SG', 'Shopee SG', 'Shopee SG', 'Shopee SG', 'Shopee SG', 'Shopee SG', 'Shopee SG', 'Shopee SG', 'Shopee SG', 'Shopee SG', 'Shopee SG', 'Shopee SG', 'Shopee SG', 'Shopee SG', 'Shopee SG', 'Charles & Keith (SG) CPS', 'Lazada SG', 'Lazada SG', 'Lazada SG', 'Lazada SG', 'Lazada SG', 'Lazada SG', 'Lazada SG', 'Lazada SG', 'Lazada SG', 'Lazada SG', 'Lazada SG', 'Lazada SG', 'Lazada SG', 'Lazada SG', 'Lazada SG', 'Lazada SG', 'Lazada SG', 'Lazada SG', 'Lazada SG', 'Lazada SG', 'Lazada SG', 'Lazada SG', 'Lazada SG', 'Lazada SG', 'Lazada SG', 'Lazada SG', 'Lazada SG', 'Lazada SG', 'Lazada SG', 'Lazada SG', 'Lazada SG', 'Lazada SG', 'Lazada SG', 'Lazada SG', 'Lazada SG', 'Lazada SG', 'Lazada SG', 'Lazada SG', 'Fairprice ON', 'Shopee SG', 'Shopee SG', 'Shopee SG', 'Shopee SG', 'Shopee SG', 'Shopee SG', 'Shopee SG', 'Shopee SG', 'Shopee SG', 'Shopee SG', 'Shopee SG', 'Shopee SG', 'Shopee SG', 'Shopee SG', 'Shopee SG', 'Shopee SG', 'Shopee SG', 'Shopee SG', 'Shopee SG', 'Lazada SG', 'Lazada SG', 'Lazada SG', 'Lazada SG', 'Lazada SG', 'Lazada SG', 'Lazada SG', 'Lazada SG', 'Lazada SG', 'Lazada SG', 'Lazada SG', 'Lazada SG', 'Lazada SG', 'Lazada SG', 'Lazada SG', 'Lazada SG', 'Lazada SG', 'Lazada SG', 'Lazada SG', 'Lazada SG', 'Lazada SG', 'Lazada SG', 'Lazada SG', 'Lazada SG', 'Shopee SG', 'Shopee SG', 'Shopee SG', 'Shopee SG', 'Shopee SG', 'Shopee SG', 'Shopee SG', 'Lazada SG', 'Lazada SG', 'Lazada SG', 'Lazada SG', 'Lazada SG', 'Lazada SG', 'Lazada SG', 'Lazada SG', 'Lazada SG', 'Lazada SG', 'Lazada SG', 'Lazada SG', 'Lazada SG', 'Lazada SG', 'Lazada SG', 'Lazada SG', 'Lazada SG', 'Lazada SG', 'Lazada SG', 'Lazada SG', 'Lazada SG', 'Lazada SG', 'Lazada SG', 'Lazada SG', 'Lazada SG', 'Lazada SG', 'Shopee SG', 'Shopee SG', 'Shopee SG', 'Shopee SG', 'Shopee SG', 'Shopee SG', 'Shopee SG', 'Shopee SG', 'Shopee SG', 'Shopee SG', 'Shopee SG', 'Shopee SG', 'Shopee SG', 'Shopee SG', 'Shopee SG', 'Shopee SG', 'Shopee SG', 'Shopee SG', 'Shopee SG', 'Shopee SG', 'Shopee SG', 'Shopee SG', 'Shopee SG', 'Shopee SG', 'Shopee SG', 'Shopee SG', 'Lazada SG', 'Lazada SG', 'Lazada SG', 'Lazada SG', 'Lazada SG', 'Lazada SG', 'Lazada SG', 'Lazada SG', 'Lazada SG', 'Lazada SG', 'Lazada SG', 'Lazada SG', 'Lazada SG', 'Lazada SG', 'Lazada SG', 'Lazada SG', 'Lazada SG', 'Lazada SG', 'Lazada SG', 'Lazada SG', 'Lazada SG', 'Lazada SG', 'Lazada SG', 'Shopee SG', 'Shopee SG', 'Shopee SG', 'Shopee SG', 'Shopee SG', 'Shopee SG', 'Shopee SG', 'Shopee SG', 'Shopee SG', 'Shopee SG', 'Shopee SG', 'Shopee SG', 'Lazada SG', 'Lazada SG', 'Lazada SG', 'Lazada SG', 'Lazada SG', 'Lazada SG', 'Lazada SG', 'Lazada SG', 'Lazada SG', 'Lazada SG', 'Lazada SG', 'Lazada SG', 'Lazada SG', 'Lazada SG', 'Lazada SG', 'Lazada SG', 'Lazada SG', 'Lazada SG', 'Lazada SG', 'Lazada SG', 'Lazada SG', 'Lazada SG', 'Lazada SG', 'Lazada SG', 'Lazada SG', 'Lazada SG', 'Lazada SG', 'Lazada SG', 'Lazada SG', 'Lazada SG', 'Lazada SG', 'Lazada SG', 'Lazada SG', 'Lazada SG', 'Lazada SG', 'Lazada SG', 'Lazada SG', 'Lazada SG', 'Lazada SG', 'Lazada SG', 'Lazada SG', 'Lazada SG', 'Lazada SG', 'Lazada SG', 'Lazada SG', 'Lazada SG', 'Lazada SG', 'Shopee SG', 'Shopee SG', 'Shopee SG', 'Shopee SG', 'Shopee SG', 'Shopee SG', 'Shopee SG', 'Fairprice ON', 'Shopee SG', 'Shopee SG', 'Shopee SG', 'Shopee SG', 'Shopee SG', 'Shopee SG', 'Shopee SG', 'Shopee SG', 'Shopee SG', 'Shopee SG', 'Shopee SG', 'Fairprice ON', 'Shopee SG', 'Shopee SG', 'Shopee SG', 'Shopee SG', 'Shopee SG', 'Shopee SG', 'Shopee SG', 'Shopee SG', 'Shopee SG', 'Shopee SG', 'Lazada SG', 'Lazada SG', 'Lazada SG', 'Lazada SG', 'Lazada SG', 'Lazada SG', 'Lazada SG', 'Lazada SG', 'Lazada SG', 'Lazada SG', 'Lazada SG', 'Lazada SG', 'Lazada SG', 'Lazada SG', 'Lazada SG', 'Lazada SG', 'Lazada SG', 'Lazada SG', 'Lazada SG', 'Lazada SG', 'Lazada SG', 'Lazada SG', 'Lazada SG', 'Lazada SG', 'Lazada SG', 'Lazada SG', 'Lazada SG', 'Lazada SG', 'Shopee SG', 'Shopee SG', 'Shopee SG', 'Shopee SG', 'Shopee SG', 'Shopee SG', 'Shopee SG', 'Shopee SG', 'Lazada SG', 'Lazada SG', 'Lazada SG', 'Lazada SG', 'Lazada SG', 'Lazada SG', 'Lazada SG', 'Lazada SG', 'Lazada SG', 'Lazada SG', 'Lazada SG', 'Lazada SG', 'Lazada SG', 'Lazada SG', 'Lazada SG', 'Lazada SG', 'Lazada SG', 'Lazada SG', 'Lazada SG', 'Lazada SG', 'Lazada SG', 'Lazada SG', 'Lazada SG', 'Lazada SG', 'Lazada SG', 'Lazada SG', 'Lazada SG', 'Lazada SG', 'Lazada SG', 'Lazada SG', 'Lazada SG', 'Lazada SG', 'Lazada SG', 'Lazada SG', 'Lazada SG', 'Lazada SG', 'Lazada SG', 'Lazada SG', 'Lazada SG', 'Lazada SG', 'Shopee SG', 'Shopee SG', 'Shopee SG', 'Shopee SG', 'Shopee SG', 'Shopee SG', 'Shopee SG', 'Shopee SG', 'Shopee SG', 'Shopee SG', 'Shopee SG', 'Shopee SG', 'Shopee SG', 'Shopee SG', 'Shopee SG', 'Shopee SG', 'Shopee SG', 'Shopee SG', 'Shopee SG', 'Shopee SG', 'Shopee SG', 'Shopee SG', 'Shopee SG', 'Shopee SG', 'Shopee SG', 'Shopee SG', 'Shopee SG', 'Shopee SG', 'Shopee SG', 'Shopee SG', 'Shopee SG', 'Shopee SG', 'Shopee SG', 'Shopee SG', 'Shopee SG', 'Shopee SG', 'Shopee SG', 'Shopee SG', 'Shopee SG', 'Shopee SG', 'Shopee SG', 'Shopee SG', 'Shopee SG', 'Shopee SG', 'Shopee SG', 'Shopee SG', 'Shopee SG', 'Shopee SG', 'Shopee SG', 'Shopee SG', 'Shopee SG', 'Lazada SG', 'Lazada SG', 'Lazada SG', 'Lazada SG', 'Lazada SG', 'Lazada SG', 'Lazada SG', 'Lazada SG', 'Lazada SG', 'Lazada SG', 'Lazada SG', 'Shopee SG', 'Shopee SG']\n",
      "\n",
      "(2024, 2)\n",
      "['iHerb', 'AliExpress (Global) - CPS', 'AliExpress (Global) - CPS', 'AliExpress (Global) - CPS', 'AliExpress (Global) - CPS', 'AliExpress (Global) - CPS', 'AliExpress (Global) - CPS', 'Nike (APAC)', 'Shopee SG', 'Shopee SG', 'Shopee SG', 'Shopee SG', 'Shopee SG', 'Shopee SG', 'Shopee SG', 'Shopee SG', 'Shopee SG', 'Shopee SG', 'Shopee SG', 'Shopee SG', 'Shopee SG', 'Shopee SG', 'Shopee SG', 'Decathlon SG', 'Shopee SG', 'Shopee SG', 'Shopee SG', 'Shopee SG', 'Shopee SG', 'Shopee SG', 'Shopee SG', 'Shopee SG', 'Shopee SG', 'Shopee SG', 'Shopee SG', 'Shopee SG', 'Shopee SG', 'Shopee SG', 'Shopee SG', 'Shopee SG', 'Shopee SG', 'Shopee SG', 'Shopee SG', 'Shopee SG', 'Shopee SG', 'Shopee SG', 'Shopee SG', 'Shopee SG', 'Shopee SG', 'Shopee SG', 'Shopee SG', 'Shopee SG', 'Shopee SG', 'Shopee SG', 'Shopee SG', 'Shopee SG', 'Shopee SG', 'Shopee SG', 'Shopee SG', 'Shopee SG', 'Shopee SG', 'Shopee SG', 'Shopee SG', 'Shopee SG', 'Shopee SG', 'Shopee SG', 'Shopee SG', 'Shopee SG', 'Fairprice ON', 'Shopee SG', 'Shopee SG', 'Shopee SG', 'Shopee SG', 'Shopee SG', 'Shopee SG', 'Shopee SG', 'Shopee SG', 'Shopee SG', 'Shopee SG', 'Shopee SG', 'Shopee SG', 'Shopee SG', 'Shopee SG', 'Shopee SG', 'Shopee SG', 'Shopee SG', 'Shopee SG', 'Shopee SG', 'Shopee SG', 'Shopee SG', 'Shopee SG', 'Shopee SG', 'Shopee SG', 'Shopee SG', 'Shopee SG', 'Shopee SG', 'Shopee SG', 'Shopee SG', 'Shopee SG', 'Shopee SG', 'Shopee SG', 'Shopee SG', 'Shopee SG', 'Shopee SG', 'Shopee SG', 'Shopee SG', 'Shopee SG', 'Shopee SG', 'Shopee SG', 'Shopee SG', 'Shopee SG', 'Shopee SG', 'Shopee SG', 'Shopee SG', 'Shopee SG', 'Shopee SG', 'Shopee SG', 'Shopee SG', 'Shopee SG', 'Shopee SG', 'Shopee SG', 'Shopee SG', 'Shopee SG', 'Shopee SG', 'Shopee SG', 'Shopee SG', 'Shopee SG', 'Shopee SG', 'Fairprice ON', 'Fairprice ON', 'Shopee SG', 'Shopee SG', 'Shopee SG', 'Shopee SG', 'Shopee SG', 'Shopee SG', 'Shopee SG', 'Shopee SG', 'Watsons SG', 'Shopee SG', 'Shopee SG', 'Shopee SG', 'Fairprice ON', 'Fairprice ON', 'Shopee SG', 'Shopee SG', 'Shopee SG', 'Shopee SG', 'Shopee SG', 'Shopee SG', 'Shopee SG', 'Shopee SG', 'Shopee SG', 'Shopee SG', 'Shopee SG', 'Shopee SG', 'Shopee SG', 'Shopee SG', 'Shopee SG', 'Shopee SG', 'Shopee SG', 'Shopee SG', 'Shopee SG', 'Shopee SG', 'Shopee SG', 'Shopee SG', 'Shopee SG', 'Shopee SG', 'Shopee SG', 'Shopee SG', 'Shopee SG', 'Shopee SG', 'Shopee SG', 'Shopee SG', 'Shopee SG', 'Shopee SG', 'Shopee SG', 'Shopee SG', 'Shopee SG', 'Shopee SG', 'Shopee SG', 'Shopee SG', 'Shopee SG', 'Shopee SG', 'Shopee SG', 'Shopee SG', 'Shopee SG', 'Shopee SG', 'Shopee SG', 'Shopee SG', 'Shopee SG', 'Shopee SG', 'Shopee SG', 'Shopee SG', 'Shopee SG', 'Shopee SG', 'Shopee SG', 'Shopee SG', 'Shopee SG', 'Shopee SG', 'Shopee SG', 'Shopee SG', 'Shopee SG', 'Shopee SG', 'Shopee SG', 'Shopee SG', 'Shopee SG', 'Shopee SG', 'Shopee SG', 'Shopee SG', 'Shopee SG', 'Shopee SG', 'Shopee SG', 'Shopee SG', 'Shopee SG', 'Shopee SG', 'Shopee SG', 'Shopee SG', 'Shopee SG', 'Shopee SG', 'Shopee SG', 'Shopee SG', 'Shopee SG', 'Shopee SG', 'Shopee SG', 'Shopee SG', 'Shopee SG', 'Shopee SG', 'Shopee SG', 'Shopee SG', 'Shopee SG', 'Shopee SG', 'Shopee SG', 'Shopee SG', 'Shopee SG', 'Shopee SG', 'Shopee SG', 'Shopee SG', 'Shopee SG', 'Shopee SG', 'Shopee SG', 'Shopee SG', 'Shopee SG', 'Shopee SG', 'Shopee SG', 'Shopee SG', 'Shopee SG', 'Shopee SG', 'Shopee SG', 'Shopee SG', 'Shopee SG', 'Shopee SG', 'Shopee SG', 'Shopee SG', 'Shopee SG', 'Shopee SG', 'Shopee SG', 'Shopee SG', 'Shopee SG', 'Shopee SG', 'Shopee SG', 'Shopee SG', 'Shopee SG', 'Shopee SG', 'Shopee SG', 'Shopee SG', 'Fairprice ON']\n",
      "\n",
      "(2024, 3)\n",
      "['Shopee SG', 'Shopee SG', 'Shopee SG', 'Shopee SG', 'Shopee SG', 'Shopee SG', 'Shopee SG', 'Shopee SG', 'Shopee SG', 'Shopee SG', 'Shopee SG', 'Shopee SG', 'Shopee SG', 'Shopee SG', 'Shopee SG', 'Shopee SG', 'Shopee SG', 'Shopee SG', 'Shopee SG', 'Shopee SG', 'Shopee SG', 'Shopee SG', 'Shopee SG', 'Shopee SG', 'Shopee SG', 'Shopee SG', 'Shopee SG', 'Shopee SG', 'Shopee SG', 'Shopee SG', 'Shopee SG', 'Shopee SG', 'Shopee SG', 'Shopee SG', 'Shopee SG', 'Shopee SG', 'Shopee SG', 'Shopee SG', 'Shopee SG', 'Shopee SG', 'Shopee SG', 'Shopee SG', 'Shopee SG', 'Shopee SG', 'Shopee SG', 'Shopee SG', 'Shopee SG', 'Shopee SG', 'Shopee SG', 'Shopee SG', 'Shopee SG', 'Shopee SG', 'Shopee SG', 'Shopee SG', 'Shopee SG', 'Shopee SG', 'Shopee SG', 'Shopee SG', 'Shopee SG', 'Shopee SG', 'Shopee SG', 'Shopee SG', 'Shopee SG', 'Shopee SG', 'Shopee SG', 'Shopee SG', 'Shopee SG', 'Shopee SG', 'Shopee SG', 'Shopee SG', 'Shopee SG', 'Shopee SG', 'Shopee SG', 'Shopee SG', 'Shopee SG', 'Shopee SG', 'Shopee SG', 'Shopee SG', 'Shopee SG', 'Shopee SG', 'Shopee SG', 'Shopee SG', 'Shopee SG', 'Shopee SG', 'Shopee SG', 'Shopee SG', 'Shopee SG', 'Shopee SG', 'Shopee SG', 'Shopee SG', 'Shopee SG', 'Shopee SG', 'Shopee SG', 'Shopee SG', 'Shopee SG', 'Shopee SG', 'Shopee SG', 'Shopee SG', 'Shopee SG', 'Shopee SG', 'Shopee SG', 'Shopee SG', 'Shopee SG', 'Shopee SG', 'Shopee SG', 'Shopee SG', 'Shopee SG', 'Shopee SG', 'Shopee SG', 'Shopee SG', 'Shopee SG', 'Shopee SG', 'Shopee SG', 'Shopee SG', 'Shopee SG', 'Shopee SG', 'Shopee SG', 'Shopee SG', 'Shopee SG', 'Shopee SG', 'Shopee SG', 'Shopee SG', 'Shopee SG', 'Shopee SG', 'Shopee SG', 'Shopee SG', 'Shopee SG', 'Shopee SG', 'Shopee SG', 'Shopee SG', 'Shopee SG', 'Shopee SG', 'Shopee SG', 'Shopee SG', 'Shopee SG', 'Shopee SG', 'Shopee SG', 'Shopee SG', 'Shopee SG', 'Shopee SG', 'Shopee SG', 'Shopee SG', 'Shopee SG', 'Shopee SG', 'Shopee SG', 'Shopee SG', 'Shopee SG', 'Shopee SG', 'Shopee SG', 'Shopee SG', 'Shopee SG', 'Shopee SG', 'Shopee SG', 'Shopee SG', 'Shopee SG', 'Shopee SG', 'Shopee SG', 'Shopee SG', 'Shopee SG', 'Shopee SG', 'Shopee SG', 'Shopee SG', 'Shopee SG', 'Shopee SG', 'Shopee SG', 'Shopee SG', 'Shopee SG', 'Shopee SG', 'Shopee SG', 'Shopee SG', 'Shopee SG', 'Shopee SG', 'Shopee SG', 'Shopee SG', 'Shopee SG', 'Shopee SG', 'Shopee SG', 'Shopee SG', 'Shopee SG', 'Shopee SG', 'Shopee SG', 'Shopee SG', 'Shopee SG', 'Shopee SG', 'Shopee SG', 'Shopee SG', 'Shopee SG', 'Shopee SG', 'Shopee SG', 'Shopee SG', 'Shopee SG', 'Shopee SG', 'Shopee SG', 'Shopee SG', 'Shopee SG', 'Shopee SG', 'Shopee SG', 'Shopee SG', 'Shopee SG', 'Shopee SG', 'Shopee SG', 'Shopee SG', 'Shopee SG', 'Shopee SG', 'Shopee SG', 'Shopee SG', 'Shopee SG', 'Shopee SG', 'Shopee SG', 'Shopee SG', 'Shopee SG', 'Shopee SG', 'Shopee SG', 'Shopee SG', 'Shopee SG', 'Shopee SG', 'Shopee SG', 'Shopee SG', 'Shopee SG', 'Shopee SG', 'Shopee SG', 'Shopee SG', 'Shopee SG', 'Shopee SG', 'Shopee SG', 'Shopee SG', 'Fairprice ON', 'Shopee SG', 'Shopee SG', 'Shopee SG', 'Shopee SG', 'Shopee SG', 'Shopee SG', 'Shopee SG', 'Shopee SG', 'Shopee SG', 'Shopee SG', 'Shopee SG', 'Shopee SG', 'Shopee SG', 'Shopee SG', 'Shopee SG', 'Shopee SG', 'Shopee SG', 'Shopee SG', 'Shopee SG', 'Shopee SG', 'Shopee SG', 'Shopee SG', 'Shopee SG', 'Shopee SG', 'Shopee SG', 'Fairprice ON', 'Fairprice ON', 'Shopee SG', 'Shopee SG', 'Shopee SG', 'Shopee SG', 'Shopee SG', 'Shopee SG', 'Shopee SG', 'Shopee SG', 'Shopee SG', 'Shopee SG', 'Shopee SG', 'Shopee SG', 'Shopee SG', 'Shopee SG', 'Shopee SG', 'Shopee SG', 'Shopee SG', 'Shopee SG', 'Shopee SG', 'Shopee SG', 'Shopee SG', 'Shopee SG', 'Shopee SG', 'Shopee SG', 'Shopee SG', 'Shopee SG', 'Shopee SG', 'Shopee SG', 'Shopee SG', 'Shopee SG', 'Shopee SG', 'Shopee SG', 'Shopee SG', 'Shopee SG', 'Shopee SG', 'Klook Travel (CPS)', 'Fairprice ON', 'Fairprice ON', 'Shopee SG', 'Shopee SG', 'Shopee SG', 'Shopee SG', 'Shopee SG', 'Shopee SG', 'Shopee SG', 'Shopee SG', 'Shopee SG', 'Shopee SG', 'Shopee SG', 'Shopee SG', 'Shopee SG', 'Shopee SG', 'Shopee SG', 'Shopee SG', 'Shopee SG', 'Shopee SG', 'Shopee SG', 'Shopee SG', 'Shopee SG', 'Shopee SG', 'Shopee SG', 'Shopee SG', 'Shopee SG', 'Shopee SG', 'Shopee SG', 'Shopee SG', 'Shopee SG', 'Shopee SG', 'Shopee SG', 'Shopee SG', 'Shopee SG', 'Shopee SG', 'Shopee SG', 'Shopee SG', 'Shopee SG', 'Shopee SG', 'Shopee SG', 'Shopee SG', 'Shopee SG', 'Shopee SG', 'Shopee SG', 'Shopee SG', 'Shopee SG', 'Shopee SG', 'Shopee SG', 'Shopee SG', 'Shopee SG', 'Shopee SG', 'Shopee SG', 'Shopee SG', 'Shopee SG', 'Shopee SG', 'Shopee SG', 'Shopee SG', 'Shopee SG', 'Shopee SG', 'Shopee SG', 'Shopee SG', 'Shopee SG', 'Shopee SG', 'Shopee SG', 'Shopee SG', 'Shopee SG', 'Shopee SG', 'Shopee SG', 'Shopee SG', 'Shopee SG', 'Shopee SG', 'Shopee SG', 'Shopee SG', 'Shopee SG', 'Shopee SG', 'Shopee SG', 'Shopee SG', 'Shopee SG', 'Shopee SG', 'Shopee SG', 'Shopee SG', 'Shopee SG', 'Shopee SG', 'Shopee SG', 'Shopee SG', 'Shopee SG', 'Shopee SG', 'Shopee SG', 'Zalora SG', 'Shopee SG', 'Shopee SG', 'Shopee SG', 'Shopee SG', 'Shopee SG', 'Shopee SG', 'Shopee SG']\n",
      "\n",
      "(2024, 4)\n",
      "['Shopee SG', 'Shopee SG', 'Shopee SG', 'Shopee SG', 'Shopee SG', 'Shopee SG', 'Shopee SG', 'Shopee SG', 'Shopee SG', 'Shopee SG', 'Shopee SG', 'Shopee SG', 'Shopee SG', 'Shopee SG', 'Shopee SG', 'Shopee SG', 'Shopee SG', 'Shopee SG', 'Shopee SG', 'Shopee SG', 'Shopee SG', 'Shopee SG', 'Shopee SG', 'Shopee SG', 'Shopee SG', 'Shopee SG', 'Shopee SG', 'Shopee SG', 'Shopee SG', 'Shopee SG', 'Shopee SG', 'Shopee SG', 'Shopee SG', 'Shopee SG', 'Shopee SG', 'Shopee SG', 'Shopee SG', 'Shopee SG', 'Shopee SG', 'Shopee SG', 'Shopee SG', 'Shopee SG', 'Shopee SG', 'Shopee SG', 'Shopee SG', 'Shopee SG', 'Shopee SG', 'Singapore Airlines', 'Shopee SG', 'Shopee SG', 'Shopee SG', 'Shopee SG', 'Shopee SG', 'Shopee SG', 'Shopee SG', 'Shopee SG', 'Shopee SG', 'Shopee SG', 'Shopee SG', 'Shopee SG', 'Shopee SG', 'Shopee SG', 'Shopee SG', 'Shopee SG', 'Shopee SG', 'Shopee SG', 'Shopee SG', 'Shopee SG', 'Shopee SG', 'Shopee SG', 'Shopee SG', 'Shopee SG', 'Shopee SG', 'Shopee SG', 'Shopee SG', 'Shopee SG', 'Shopee SG', 'Shopee SG', 'Shopee SG', 'Shopee SG', 'Shopee SG', 'Shopee SG', 'Shopee SG', 'Shopee SG', 'Shopee SG', 'Shopee SG', 'Shopee SG', 'Shopee SG', 'Shopee SG', 'Shopee SG', 'Shopee SG', 'Shopee SG', 'Shopee SG', 'Shopee SG', 'Shopee SG', 'Shopee SG', 'Shopee SG', 'Shopee SG', 'Shopee SG', 'Shopee SG', 'Shopee SG', 'Shopee SG', 'Shopee SG', 'Shopee SG', 'Shopee SG', 'Shopee SG', 'Shopee SG', 'Shopee SG', 'Shopee SG', 'Shopee SG', 'Shopee SG', 'Shopee SG', 'Shopee SG', 'Shopee SG', 'Shopee SG', 'Shopee SG', 'Shopee SG', 'Shopee SG', 'Shopee SG', 'Shopee SG', 'Shopee SG', 'Shopee SG', 'Shopee SG', 'Shopee SG', 'Shopee SG', 'Shopee SG', 'Shopee SG', 'Shopee SG', 'Shopee SG', 'Shopee SG', 'Shopee SG', 'Shopee SG', 'Shopee SG', 'Shopee SG', 'Shopee SG', 'Shopee SG', 'Shopee SG', 'Shopee SG', 'Shopee SG', 'Shopee SG', 'Shopee SG', 'Shopee SG', 'Shopee SG', 'Shopee SG', 'Shopee SG', 'Shopee SG', 'Shopee SG', 'Shopee SG', 'Shopee SG', 'Shopee SG', 'Shopee SG', 'Shopee SG', 'Shopee SG', 'Shopee SG', 'Shopee SG', 'Shopee SG', 'Shopee SG', 'Shopee SG', 'Shopee SG', 'Shopee SG', 'Shopee SG', 'Shopee SG', 'Shopee SG', 'Shopee SG', 'Shopee SG', 'Shopee SG', 'Shopee SG', 'Shopee SG', 'Shopee SG', 'Shopee SG', 'Shopee SG', 'Shopee SG', 'Shopee SG', 'Shopee SG', 'Shopee SG', 'Shopee SG', 'Shopee SG', 'Shopee SG', 'Shopee SG', 'Shopee SG', 'Shopee SG', 'Shopee SG', 'Shopee SG', 'Shopee SG', 'Shopee SG', 'Shopee SG', 'Shopee SG', 'Shopee SG', 'Shopee SG', 'Shopee SG', 'Shopee SG', 'Shopee SG', 'Shopee SG', 'Shopee SG', 'Shopee SG', 'Shopee SG', 'Shopee SG', 'Shopee SG', 'Shopee SG', 'Shopee SG', 'Shopee SG', 'Shopee SG', 'Shopee SG', 'Shopee SG', 'Shopee SG', 'Shopee SG', 'Shopee SG', 'Shopee SG', 'Shopee SG', 'Shopee SG', 'Shopee SG', 'Shopee SG', 'Shopee SG', 'Shopee SG', 'Shopee SG', 'Shopee SG', 'Shopee SG', 'Shopee SG', 'Shopee SG', 'Shopee SG', 'Shopee SG', 'Shopee SG', 'Shopee SG', 'Shopee SG', 'Shopee SG', 'Shopee SG', 'Shopee SG', 'Shopee SG', 'Shopee SG', 'Shopee SG', 'Shopee SG', 'Shopee SG', 'Shopee SG', 'Shopee SG', 'Shopee SG', 'Shopee SG', 'Shopee SG', 'Shopee SG', 'Shopee SG', 'Shopee SG', 'Shopee SG', 'Shopee SG', 'Shopee SG', 'Shopee SG', 'Shopee SG', 'Shopee SG', 'Shopee SG', 'Shopee SG', 'Shopee SG', 'Shopee SG', 'Shopee SG', 'Shopee SG', 'Shopee SG', 'Shopee SG', 'Shopee SG', 'Shopee SG', 'Shopee SG', 'Shopee SG', 'Shopee SG', 'Shopee SG', 'Shopee SG', 'Shopee SG', 'Shopee SG', 'Shopee SG', 'Shopee SG', 'Shopee SG', 'Shopee SG', 'Shopee SG', 'Shopee SG', 'Shopee SG', 'Shopee SG', 'Fairprice ON', 'Shopee SG', 'Shopee SG', 'Shopee SG', 'Shopee SG', 'Shopee SG', 'Shopee SG', 'Shopee SG', 'Shopee SG', 'Shopee SG', 'Shopee SG', 'Shopee SG', 'Shopee SG', 'Shopee SG', 'Shopee SG', 'Shopee SG', 'Shopee SG', 'Shopee SG', 'Shopee SG', 'Shopee SG', 'Shopee SG', 'Shopee SG', 'Shopee SG', 'Shopee SG', 'Shopee SG', 'Shopee SG', 'Shopee SG', 'Shopee SG', 'Shopee SG', 'Shopee SG', 'Shopee SG', 'Shopee SG', 'Shopee SG', 'Shopee SG', 'Shopee SG', 'Shopee SG', 'Shopee SG', 'Shopee SG', 'Shopee SG', 'Shopee SG', 'Shopee SG', 'Shopee SG', 'tripcom', 'tripcom', 'Watsons Singapore', 'Shopee SG', 'Shopee SG', 'Shopee SG', 'Shopee SG', 'Shopee SG', 'Shopee SG', 'Shopee SG', 'Shopee SG', 'Shopee SG', 'Shopee SG', 'Shopee SG', 'Shopee SG', 'Shopee SG', 'Shopee SG', 'Shopee SG', 'Shopee SG', 'Shopee SG', 'Shopee SG', 'Shopee SG', 'Shopee SG', 'Shopee SG', 'Shopee SG', 'Shopee SG', 'Shopee SG', 'Shopee SG', 'Shopee SG', 'Shopee SG', 'Shopee SG', 'Shopee SG', 'Shopee SG', 'Shopee SG', 'Shopee SG', 'Shopee SG', 'Shopee SG', 'Shopee SG', 'Shopee SG', 'Shopee SG', 'Shopee SG', 'Shopee SG', 'Shopee SG', 'Shopee SG', 'Shopee SG', 'Shopee SG', 'Shopee SG', 'Shopee SG', 'Shopee SG', 'Shopee SG', 'Shopee SG', 'Shopee SG', 'Shopee SG', 'Shopee SG', 'Shopee SG', 'Shopee SG', 'Shopee SG', 'Shopee SG', 'Shopee SG', 'Shopee SG', 'Shopee SG', 'Shopee SG', 'Shopee SG', 'Shopee SG', 'Shopee SG', 'Shopee SG', 'Shopee SG', 'Shopee SG', 'Shopee SG', 'Shopee SG', 'Shopee SG', 'Shopee SG', 'Shopee SG', 'Shopee SG', 'Shopee SG', 'Shopee SG', 'Shopee SG', 'Shopee SG', 'Shopee SG', 'Shopee SG', 'Shopee SG', 'Shopee SG', 'Shopee SG', 'Shopee SG', 'Shopee SG', 'Shopee SG', 'Shopee SG', 'Shopee SG', 'Shopee SG', 'Shopee SG', 'Shopee SG', 'Shopee SG', 'Shopee SG', 'Shopee SG', 'Shopee SG', 'Shopee SG', 'Shopee SG', 'Shopee SG', 'Shopee SG', 'Shopee SG', 'Shopee SG', 'Shopee SG', 'Shopee SG', 'Shopee SG', 'Shopee SG', 'Shopee SG', 'Shopee SG', 'Shopee SG', 'Shopee SG', 'Shopee SG', 'Shopee SG', 'Shopee SG', 'Shopee SG', 'Shopee SG', 'Shopee SG', 'Shopee SG', 'Shopee SG', 'Shopee SG', 'Shopee SG', 'Shopee SG', 'Shopee SG', 'Shopee SG', 'Shopee SG', 'Shopee SG', 'Shopee SG', 'Shopee SG', 'Shopee SG', 'Shopee SG', 'Shopee SG', 'Shopee SG', 'Shopee SG', 'Shopee SG', 'Shopee SG', 'Shopee SG', 'Shopee SG', 'Shopee SG', 'Shopee SG', 'Shopee SG', 'Shopee SG', 'Shopee SG', 'Shopee SG', 'Shopee SG', 'Shopee SG', 'Shopee SG', 'Shopee SG', 'Shopee SG', 'Shopee SG', 'Shopee SG', 'Shopee SG', 'Shopee SG', 'Shopee SG', 'Shopee SG', 'Shopee SG', 'Shopee SG', 'Shopee SG', 'Shopee SG', 'Shopee SG', 'Shopee SG', 'Shopee SG', 'Shopee SG', 'Shopee SG', 'Shopee SG', 'Shopee SG', 'Shopee SG', 'Shopee SG', 'Shopee SG', 'Shopee SG', 'Shopee SG', 'Shopee SG', 'Shopee SG', 'Shopee SG', 'Shopee SG', 'Shopee SG', 'Shopee SG', 'Shopee SG', 'Shopee SG', 'Shopee SG', 'Shopee SG', 'Shopee SG', 'Shopee SG', 'Shopee SG', 'Shopee SG', 'Shopee SG', 'Shopee SG', 'Shopee SG', 'Shopee SG', 'Shopee SG', 'Shopee SG', 'Shopee SG', 'Shopee SG', 'Shopee SG', 'Shopee SG', 'Shopee SG', 'Shopee SG', 'Shopee SG', 'Shopee SG', 'Shopee SG', 'Shopee SG', 'Shopee SG', 'Shopee SG', 'Shopee SG', 'Shopee SG', 'Shopee SG', 'Shopee SG', 'Shopee SG', 'Shopee SG', 'Shopee SG', 'Shopee SG', 'Shopee SG', 'Shopee SG', 'Shopee SG', 'Shopee SG', 'Shopee SG', 'Shopee SG', 'Shopee SG', 'Shopee SG', 'Shopee SG', 'Shopee SG', 'Shopee SG', 'Shopee SG', 'Shopee SG', 'Shopee SG', 'Shopee SG', 'Shopee SG', 'Shopee SG', 'Shopee SG', 'Shopee SG', 'Shopee SG', 'Shopee SG', 'Shopee SG', 'Shopee SG', 'Shopee SG', 'Shopee SG', 'Shopee SG', 'Shopee SG', 'Shopee SG', 'Shopee SG', 'Shopee SG', 'Shopee SG', 'Shopee SG', 'Shopee SG', 'Shopee SG', 'Shopee SG', 'Shopee SG', 'Shopee SG', 'Shopee SG', 'Shopee SG', 'Shopee SG', 'Shopee SG', 'Shopee SG', 'Shopee SG', 'Shopee SG', 'Shopee SG', 'Shopee SG', 'Shopee SG', 'Shopee SG', 'Shopee SG', 'Shopee SG', 'Shopee SG', 'Fairprice ON', 'Shopee SG', 'Shopee SG', 'Shopee SG', 'Shopee SG', 'Shopee SG', 'Shopee SG', 'Shopee SG', 'Shopee SG', 'Shopee SG', 'Shopee SG', 'Shopee SG', 'Fairprice ON', 'Shopee SG', 'Shopee SG', 'Shopee SG', 'Shopee SG', 'Shopee SG', 'Shopee SG', 'Shopee SG', 'Shopee SG', 'Shopee SG', 'Shopee SG', 'Shopee SG', 'Shopee SG', 'Shopee SG', 'Shopee SG', 'Shopee SG', 'Shopee SG', 'Shopee SG', 'Shopee SG', 'Fairprice ON', 'Shopee SG', 'Shopee SG', 'Shopee SG', 'Shopee SG', 'Shopee SG', 'Shopee SG', 'Shopee SG', 'Shopee SG', 'Shopee SG', 'Shopee SG', 'Shopee SG', 'Shopee SG', 'Shopee SG', 'Shopee SG', 'Shopee SG', 'Shopee SG', 'Shopee SG', 'Shopee SG', 'Shopee SG', 'Shopee SG', 'Shopee SG', 'Shopee SG', 'Shopee SG', 'Shopee SG', 'Shopee SG', 'Shopee SG', 'Shopee SG', 'Shopee SG', 'Shopee SG', 'Shopee SG', 'Shopee SG', 'Shopee SG', 'Shopee SG', 'Shopee SG', 'Shopee SG', 'Shopee SG', 'Shopee SG', 'Shopee SG', 'Shopee SG', 'Shopee SG', 'Shopee SG', 'Shopee SG', 'Shopee SG', 'Shopee SG', 'Shopee SG', 'Shopee SG', 'Shopee SG', 'Shopee SG', 'Shopee SG', 'Shopee SG', 'Shopee SG', 'Shopee SG', 'Shopee SG', 'Shopee SG', 'Shopee SG', 'Shopee SG', 'Shopee SG', 'Shopee SG', 'Shopee SG', 'Shopee SG', 'Shopee SG', 'Shopee SG', 'Shopee SG', 'Shopee SG', 'Shopee SG', 'Shopee SG', 'Shopee SG', 'Shopee SG', 'Shopee SG', 'Shopee SG', 'Shopee SG', 'Shopee SG', 'Shopee SG', 'Shopee SG', 'Shopee SG', 'Shopee SG', 'Shopee SG', 'Shopee SG', 'Shopee SG', 'Shopee SG', 'Shopee SG', 'Shopee SG', 'Shopee SG', 'Shopee SG', 'Shopee SG', 'Shopee SG', 'Shopee SG', 'Shopee SG', 'Shopee SG', 'Shopee SG', 'Shopee SG', 'Shopee SG', 'Shopee SG', 'Shopee SG', 'Shopee SG', 'Shopee SG', 'Shopee SG', 'Shopee SG', 'Shopee SG', 'Shopee SG', 'Shopee SG', 'Shopee SG', 'Shopee SG', 'Shopee SG', 'Shopee SG', 'Shopee SG', 'Shopee SG', 'Shopee SG', 'Shopee SG', 'Shopee SG', 'Shopee SG', 'Shopee SG', 'Shopee SG', 'Shopee SG', 'Shopee SG', 'Shopee SG', 'Shopee SG', 'Shopee SG', 'Shopee SG', 'Shopee SG', 'Shopee SG', 'Shopee SG', 'Shopee SG', 'Shopee SG', 'Shopee SG', 'Shopee SG', 'Shopee SG', 'Shopee SG', 'Shopee SG', 'Shopee SG', 'Shopee SG', 'Shopee SG', 'Shopee SG', 'Shopee SG', 'Shopee SG', 'Shopee SG', 'Shopee SG', 'Shopee SG', 'Shopee SG', 'Shopee SG']\n",
      "\n",
      "(2024, 5)\n",
      "['Shopee SG', 'Shopee SG', 'Shopee SG', 'Shopee SG', 'Shopee SG', 'Shopee SG', 'Shopee SG', 'Shopee SG', 'Shopee SG', 'Shopee SG', 'Shopee SG', 'Shopee SG', 'Shopee SG', 'Shopee SG', 'Shopee SG', 'Shopee SG', 'Shopee SG', 'Shopee SG', 'Shopee SG', 'Shopee SG', 'Shopee SG', 'Shopee SG', 'Shopee SG', 'Shopee SG', 'Shopee SG', 'Shopee SG', 'Shopee SG', 'Shopee SG', 'Shopee SG', 'Shopee SG', 'Shopee SG', 'Shopee SG', 'Shopee SG', 'Shopee SG', 'Shopee SG', 'Shopee SG', 'Shopee SG', 'Shopee SG', 'Shopee SG', 'Shopee SG', 'Shopee SG', 'Shopee SG', 'Shopee SG', 'Shopee SG', 'Shopee SG', 'Shopee SG', 'Shopee SG', 'Shopee SG', 'Shopee SG', 'Shopee SG', 'Shopee SG', 'Shopee SG', 'Shopee SG', 'Shopee SG', 'Shopee SG', 'Shopee SG', 'Shopee SG', 'Shopee SG', 'Shopee SG', 'Shopee SG', 'Shopee SG', 'Shopee SG', 'Shopee SG', 'Shopee SG', 'Shopee SG', 'Shopee SG', 'Shopee SG', 'Shopee SG', 'Shopee SG', 'Shopee SG', 'Shopee SG', 'Shopee SG', 'Shopee SG', 'Shopee SG', 'Shopee SG', 'Shopee SG', 'Shopee SG', 'Shopee SG', 'Shopee SG', 'Shopee SG', 'Shopee SG', 'Shopee SG', 'Shopee SG', 'Shopee SG', 'Shopee SG', 'Shopee SG', 'Shopee SG', 'Shopee SG', 'Shopee SG', 'Shopee SG', 'Shopee SG', 'Shopee SG', 'Shopee SG', 'Shopee SG', 'Shopee SG', 'Shopee SG', 'Shopee SG', 'Shopee SG', 'Shopee SG', 'Shopee SG', 'Shopee SG', 'Shopee SG', 'Shopee SG', 'Shopee SG', 'Shopee SG', 'Shopee SG', 'Shopee SG', 'Shopee SG', 'Shopee SG', 'Shopee SG', 'Shopee SG', 'Shopee SG', 'Shopee SG', 'Shopee SG', 'Shopee SG', 'Shopee SG', 'Shopee SG', 'Shopee SG', 'Shopee SG', 'Shopee SG', 'Shopee SG', 'Shopee SG', 'Shopee SG', 'Shopee SG', 'Shopee SG', 'Shopee SG', 'Shopee SG', 'Shopee SG', 'Shopee SG', 'Shopee SG', 'Shopee SG', 'Shopee SG', 'Shopee SG', 'Shopee SG', 'Shopee SG', 'Shopee SG', 'Shopee SG', 'Shopee SG', 'Shopee SG', 'Shopee SG', 'Shopee SG', 'Shopee SG', 'Shopee SG', 'Shopee SG', 'Shopee SG', 'Shopee SG', 'Shopee SG', 'Shopee SG', 'Shopee SG', 'Shopee SG', 'Shopee SG', 'Shopee SG', 'Shopee SG', 'iHerb', 'tripcom', 'Shopee SG', 'Shopee SG', 'Shopee SG', 'Shopee SG', 'Shopee SG', 'Shopee SG', 'Shopee SG', 'Shopee SG', 'Shopee SG', 'Shopee SG', 'Shopee SG', 'Shopee SG', 'Shopee SG', 'Shopee SG', 'Shopee SG', 'Shopee SG', 'Shopee SG', 'Shopee SG', 'Shopee SG', 'Shopee SG', 'Shopee SG', 'Shopee SG', 'Shopee SG', 'Shopee SG', 'Shopee SG', 'Shopee SG', 'Shopee SG', 'Shopee SG', 'Shopee SG', 'Shopee SG', 'Shopee SG', 'Shopee SG', 'Shopee SG', 'Shopee SG', 'Shopee SG', 'Shopee SG', 'Shopee SG', 'Shopee SG', 'Shopee SG', 'Shopee SG', 'Shopee SG', 'Shopee SG', 'Shopee SG', 'Shopee SG', 'Shopee SG', 'Shopee SG', 'Shopee SG', 'Shopee SG', 'Shopee SG', 'Shopee SG', 'Shopee SG', 'Shopee SG', 'Shopee SG', 'Shopee SG', 'Shopee SG', 'Shopee SG', 'Shopee SG', 'Shopee SG', 'Shopee SG', 'Shopee SG', 'Shopee SG', 'Shopee SG', 'Shopee SG', 'Shopee SG', 'Shopee SG', 'Shopee SG', 'Shopee SG', 'Shopee SG', 'Shopee SG', 'Shopee SG', 'Shopee SG', 'Shopee SG', 'Shopee SG', 'Shopee SG', 'Shopee SG', 'Shopee SG', 'Shopee SG', 'Shopee SG', 'Shopee SG', 'Shopee SG', 'Shopee SG', 'Shopee SG', 'Shopee SG', 'Shopee SG', 'Shopee SG', 'Shopee SG', 'Shopee SG', 'Shopee SG', 'Shopee SG', 'Shopee SG', 'Shopee SG', 'Shopee SG', 'Shopee SG', 'Shopee SG', 'Shopee SG', 'Shopee SG', 'Shopee SG', 'Shopee SG', 'Shopee SG', 'Shopee SG', 'Shopee SG', 'Shopee SG', 'Shopee SG', 'Shopee SG', 'Shopee SG', 'Shopee SG', 'Shopee SG', 'Shopee SG', 'Shopee SG', 'Shopee SG', 'Shopee SG', 'Shopee SG', 'Shopee SG', 'Shopee SG', 'Shopee SG', 'Shopee SG', 'Shopee SG', 'Shopee SG', 'Shopee SG', 'Shopee SG', 'Shopee SG', 'Shopee SG', 'Shopee SG', 'Shopee SG', 'Shopee SG', 'Shopee SG', 'Shopee SG', 'Shopee SG', 'Shopee SG', 'Shopee SG', 'Shopee SG', 'Shopee SG', 'Shopee SG', 'Shopee SG', 'Shopee SG', 'Shopee SG', 'Shopee SG', 'Shopee SG', 'Shopee SG', 'Shopee SG', 'Shopee SG', 'Shopee SG', 'Shopee SG', 'Shopee SG', 'Shopee SG', 'Shopee SG', 'Shopee SG', 'Shopee SG', 'Shopee SG', 'Shopee SG', 'Shopee SG', 'Shopee SG', 'Shopee SG', 'Shopee SG', 'Shopee SG', 'Shopee SG', 'Shopee SG', 'Shopee SG', 'Shopee SG', 'Shopee SG', 'Shopee SG', 'Shopee SG', 'Shopee SG', 'Shopee SG', 'Shopee SG', 'Shopee SG', 'Shopee SG', 'Shopee SG', 'Shopee SG', 'Shopee SG', 'Shopee SG', 'Shopee SG', 'Shopee SG', 'Shopee SG', 'Shopee SG', 'Shopee SG', 'Shopee SG', 'Shopee SG', 'Shopee SG', 'Shopee SG', 'Shopee SG', 'Shopee SG', 'Shopee SG', 'Shopee SG', 'Shopee SG', 'Shopee SG', 'Shopee SG', 'Shopee SG', 'Shopee SG', 'Shopee SG', 'Shopee SG', 'Shopee SG', 'Shopee SG', 'Shopee SG', 'Shopee SG', 'Shopee SG', 'Shopee SG', 'Shopee SG', 'Shopee SG', 'Shopee SG', 'Shopee SG', 'Shopee SG', 'Shopee SG', 'Shopee SG', 'Shopee SG', 'Shopee SG', 'Shopee SG', 'Shopee SG', 'Shopee SG', 'Shopee SG', 'Shopee SG', 'Shopee SG', 'Shopee SG', 'Shopee SG', 'Shopee SG', 'Shopee SG', 'Shopee SG', 'Shopee SG', 'Shopee SG', 'Shopee SG', 'Shopee SG', 'Shopee SG', 'Shopee SG', 'Shopee SG', 'Shopee SG', 'Shopee SG', 'Shopee SG', 'Shopee SG', 'Shopee SG', 'Shopee SG', 'Shopee SG', 'Shopee SG', 'Shopee SG', 'Shopee SG', 'Shopee SG', 'Shopee SG', 'Shopee SG', 'Shopee SG', 'Shopee SG', 'Shopee SG', 'Shopee SG', 'Shopee SG', 'Shopee SG', 'Shopee SG', 'Shopee SG', 'Shopee SG', 'Shopee SG', 'Shopee SG', 'Shopee SG', 'Shopee SG', 'Shopee SG', 'Shopee SG', 'Shopee SG', 'Shopee SG', 'Shopee SG', 'Shopee SG', 'Shopee SG', 'Shopee SG', 'Shopee SG', 'Shopee SG', 'Shopee SG', 'Shopee SG', 'Shopee SG', 'Shopee SG', 'Shopee SG', 'Shopee SG', 'Shopee SG', 'Shopee SG', 'Shopee SG', 'Shopee SG', 'Shopee SG', 'Shopee SG', 'Shopee SG', 'Shopee SG', 'Shopee SG', 'Shopee SG', 'Shopee SG', 'Shopee SG', 'Shopee SG', 'Shopee SG', 'Shopee SG', 'Shopee SG', 'Shopee SG', 'Shopee SG', 'Shopee SG', 'Shopee SG', 'Shopee SG', 'Shopee SG', 'Shopee SG', 'Shopee SG', 'Shopee SG', 'Shopee SG', 'Shopee SG', 'Shopee SG', 'Shopee SG', 'Shopee SG', 'Shopee SG', 'Shopee SG', 'Shopee SG', 'Shopee SG', 'Shopee SG', 'Shopee SG', 'Shopee SG', 'Shopee SG', 'Shopee SG', 'Shopee SG', 'Shopee SG', 'Shopee SG', 'Shopee SG', 'Shopee SG', 'Shopee SG', 'Shopee SG', 'Shopee SG', 'Shopee SG', 'Shopee SG', 'Shopee SG', 'Shopee SG', 'Shopee SG', 'Shopee SG', 'Shopee SG', 'Shopee SG', 'Shopee SG', 'Shopee SG', 'Shopee SG', 'Shopee SG', 'Shopee SG', 'Shopee SG', 'Shopee SG', 'Shopee SG', 'Shopee SG', 'Shopee SG', 'Shopee SG', 'Shopee SG', 'Shopee SG', 'Zalora SG', 'Shopee SG', 'Shopee SG', 'Shopee SG', 'Shopee SG', 'Shopee SG', 'Shopee SG', 'Shopee SG', 'Shopee SG', 'Shopee SG', 'Shopee SG', 'Shopee SG', 'Shopee SG', 'Shopee SG', 'Shopee SG', 'Shopee SG', 'Shopee SG', 'Shopee SG', 'Shopee SG', 'Shopee SG', 'Shopee SG', 'Shopee SG', 'Shopee SG', 'Shopee SG', 'Shopee SG', 'Shopee SG', 'Shopee SG', 'Shopee SG', 'Shopee SG', 'Shopee SG', 'Shopee SG', 'Shopee SG', 'Shopee SG', 'Shopee SG', 'Shopee SG', 'Shopee SG', 'Shopee SG', 'Shopee SG', 'Shopee SG', 'Shopee SG', 'Shopee SG', 'Shopee SG', 'Shopee SG', 'Shopee SG', 'Shopee SG', 'Shopee SG', 'Shopee SG', 'Shopee SG', 'Shopee SG', 'Shopee SG', 'Shopee SG', 'Shopee SG', 'Shopee SG', 'Shopee SG', 'Shopee SG', 'Shopee SG', 'Shopee SG', 'Shopee SG', 'Shopee SG', 'Shopee SG', 'Shopee SG', 'Shopee SG', 'Shopee SG', 'Shopee SG', 'Shopee SG', 'Shopee SG', 'Shopee SG', 'Shopee SG', 'Shopee SG', 'Shopee SG', 'Shopee SG', 'Shopee SG', 'Shopee SG', 'Shopee SG', 'Shopee SG', 'Shopee SG', 'Shopee SG', 'Shopee SG', 'Shopee SG', 'Shopee SG', 'Shopee SG', 'Shopee SG', 'Shopee SG', 'Shopee SG', 'Shopee SG', 'Shopee SG', 'Shopee SG', 'Shopee SG', 'Shopee SG', 'Shopee SG', 'Shopee SG', 'Shopee SG', 'Shopee SG', 'Shopee SG', 'Shopee SG', 'Shopee SG', 'Shopee SG', 'Shopee SG', 'Shopee SG', 'Shopee SG', 'Shopee SG', 'Shopee SG', 'Shopee SG', 'Shopee SG', 'Shopee SG', 'Shopee SG', 'Shopee SG', 'Shopee SG', 'Shopee SG', 'Shopee SG', 'Shopee SG', 'Shopee SG', 'Shopee SG', 'Shopee SG', 'Shopee SG', 'Shopee SG', 'Shopee SG', 'Shopee SG', 'Shopee SG', 'Shopee SG', 'Shopee SG', 'Shopee SG', 'Shopee SG', 'Shopee SG', 'Shopee SG', 'Shopee SG', 'Shopee SG', 'Shopee SG', 'Shopee SG', 'Shopee SG', 'Shopee SG', 'Shopee SG', 'Shopee SG', 'Shopee SG', 'Shopee SG', 'Shopee SG', 'Shopee SG', 'Shopee SG', 'Shopee SG', 'Shopee SG', 'Watsons SG', 'Shopee SG', 'Shopee SG', 'Shopee SG', 'Shopee SG', 'Shopee SG', 'Shopee SG', 'Shopee SG', 'Shopee SG', 'Shopee SG', 'Shopee SG', 'Shopee SG', 'Shopee SG', 'Shopee SG', 'Shopee SG', 'Shopee SG', 'Shopee SG', 'Shopee SG', 'Shopee SG', 'Shopee SG', 'Shopee SG', 'Shopee SG', 'Shopee SG', 'Shopee SG', 'Shopee SG', 'Shopee SG', 'Shopee SG', 'Shopee SG', 'Shopee SG', 'Shopee SG', 'Shopee SG', 'Shopee SG', 'Shopee SG', 'Shopee SG', 'Shopee SG', 'Shopee SG', 'Shopee SG', 'Shopee SG', 'Shopee SG', 'Shopee SG', 'Shopee SG', 'Shopee SG', 'Shopee SG', 'Shopee SG', 'Shopee SG', 'Shopee SG', 'Shopee SG', 'Shopee SG', 'Shopee SG', 'Shopee SG', 'Shopee SG', 'Shopee SG', 'Shopee SG', 'Shopee SG', 'Shopee SG', 'Shopee SG', 'Shopee SG', 'Shopee SG', 'Shopee SG', 'Shopee SG', 'Shopee SG', 'Shopee SG', 'Shopee SG', 'Shopee SG', 'Shopee SG', 'Shopee SG', 'Shopee SG', 'Shopee SG', 'Shopee SG', 'Shopee SG', 'Shopee SG', 'Shopee SG', 'Shopee SG', 'Shopee SG', 'Shopee SG', 'Shopee SG', 'Shopee SG', 'Zalora SG', 'Shopee SG']\n",
      "\n",
      "(2024, 6)\n",
      "['Shopee Singapore', 'Shopee Singapore', 'Shopee Singapore', 'Shopee Singapore', 'Shopee Singapore', 'Shopee Singapore', 'Shopee Singapore', 'Shopee Singapore', 'Shopee Singapore', 'Shopee Singapore', 'Shopee Singapore', 'Shopee Singapore', 'Shopee Singapore', 'Shopee Singapore', 'Trip.com', 'Shopee Singapore', 'Trip.com', 'Shopee Singapore', 'Shopee Singapore', 'Shopee Singapore', 'Shopee Singapore', 'Shopee Singapore', 'Shopee Singapore', 'Shopee Singapore', 'Shopee Singapore', 'Shopee Singapore', 'Shopee Singapore', 'Shopee Singapore', 'Shopee Singapore', 'Shopee Singapore', 'Shopee Singapore', 'Shopee Singapore', 'Shopee Singapore', 'Shopee Singapore', 'Shopee Singapore', 'Shopee Singapore', 'Shopee Singapore', 'Shopee Singapore', 'Shopee Singapore', 'Shopee Singapore', 'Shopee Singapore', 'Shopee Singapore', 'Shopee Singapore', 'Shopee Singapore', 'Shopee Singapore', 'Shopee Singapore', 'Shopee Singapore', 'Shopee Singapore', 'Shopee Singapore', 'Shopee Singapore', 'Shopee Singapore', 'Shopee Singapore', 'Shopee Singapore', 'Shopee Singapore', 'Shopee Singapore', 'Shopee Singapore', 'Shopee Singapore', 'Shopee Singapore', 'Shopee Singapore', 'Shopee Singapore', 'Shopee Singapore', 'Shopee Singapore', 'Shopee Singapore', 'Shopee Singapore', 'Shopee Singapore', 'Shopee Singapore', 'Shopee Singapore', 'Shopee Singapore', 'Shopee Singapore', 'Shopee Singapore', 'Shopee Singapore', 'Shopee Singapore', 'Shopee Singapore', 'Shopee Singapore', 'Shopee Singapore', 'Shopee Singapore', 'Shopee Singapore', 'Shopee Singapore', 'Shopee Singapore', 'Shopee Singapore', 'Shopee Singapore', 'Shopee Singapore', 'Shopee Singapore', 'Shopee Singapore', 'Shopee Singapore', 'Shopee Singapore', 'Shopee Singapore', 'Shopee Singapore', 'Shopee Singapore', 'Shopee Singapore', 'Shopee Singapore', 'Shopee Singapore', 'Shopee Singapore', 'Shopee Singapore', 'Shopee Singapore', 'Shopee Singapore', 'Shopee Singapore', 'Shopee Singapore', 'Shopee Singapore', 'Shopee Singapore', 'Shopee Singapore', 'Shopee Singapore', 'Shopee Singapore', 'Shopee Singapore', 'Shopee Singapore', 'Shopee SG', 'Shopee SG', 'Shopee SG', 'Shopee SG', 'Shopee SG', 'Shopee SG', 'Shopee SG', 'Shopee SG', 'Shopee SG', 'Shopee SG', 'Shopee SG', 'Shopee SG', 'Shopee SG', 'Shopee SG', 'Shopee SG', 'Shopee SG', 'Shopee SG', 'Shopee SG', 'Shopee SG', 'Trip.com', 'Shopee SG', 'Shopee SG', 'Shopee SG', 'Trip.com', 'Trip.com', 'Shopee SG', 'Shopee SG', 'Shopee SG', 'Shopee SG', 'Shopee SG', 'Shopee SG', 'Shopee SG', 'Shopee SG', 'Shopee SG', 'Shopee SG', 'Shopee SG', 'Shopee SG', 'Shopee SG', 'Shopee SG', 'Shopee SG', 'Shopee SG', 'Shopee SG', 'Shopee SG', 'Shopee SG', 'Shopee SG', 'Shopee SG', 'Shopee SG', 'Shopee SG', 'Shopee SG', 'Shopee SG', 'Shopee SG', 'Shopee SG', 'Shopee SG', 'Shopee SG', 'Shopee SG', 'Shopee SG', 'Shopee SG', 'Shopee SG', 'Shopee SG', 'Shopee SG', 'Shopee SG', 'Shopee SG', 'Shopee SG', 'Shopee SG', 'Shopee SG', 'Shopee SG', 'Shopee SG', 'Shopee SG', 'Shopee SG', 'Shopee SG', 'Shopee SG', 'Shopee SG', 'Shopee SG', 'Shopee SG', 'Shopee SG', 'Shopee SG', 'Shopee SG']\n",
      "\n"
     ]
    }
   ],
   "source": [
    "grouped = df.groupby([\"Year\", \"Month\"])[\"Advertiser\"]\n",
    "\n",
    "# Iterating over groups or accessing specific groups\n",
    "for group, advertisers in grouped:\n",
    "    print(group)\n",
    "    print(advertisers.tolist())\n",
    "    print()"
   ]
  },
  {
   "cell_type": "code",
   "execution_count": null,
   "metadata": {},
   "outputs": [],
   "source": []
  },
  {
   "cell_type": "markdown",
   "metadata": {},
   "source": [
    "## Seasonal trends"
   ]
  },
  {
   "cell_type": "markdown",
   "metadata": {},
   "source": []
  },
  {
   "cell_type": "code",
   "execution_count": null,
   "metadata": {},
   "outputs": [
    {
     "data": {
      "text/html": [
       "<div>\n",
       "<style scoped>\n",
       "    .dataframe tbody tr th:only-of-type {\n",
       "        vertical-align: middle;\n",
       "    }\n",
       "\n",
       "    .dataframe tbody tr th {\n",
       "        vertical-align: top;\n",
       "    }\n",
       "\n",
       "    .dataframe thead th {\n",
       "        text-align: right;\n",
       "    }\n",
       "</style>\n",
       "<table border=\"1\" class=\"dataframe\">\n",
       "  <thead>\n",
       "    <tr style=\"text-align: right;\">\n",
       "      <th></th>\n",
       "      <th>Conversion ID</th>\n",
       "      <th>Advertiser</th>\n",
       "      <th>Status</th>\n",
       "      <th>Conversion Time</th>\n",
       "      <th>Estimate M1 Cashback Value</th>\n",
       "      <th>Year</th>\n",
       "      <th>Month</th>\n",
       "    </tr>\n",
       "  </thead>\n",
       "  <tbody>\n",
       "    <tr>\n",
       "      <th>0</th>\n",
       "      <td>4ce2be5b098a4122b60c5959890b61dc-1</td>\n",
       "      <td>Shopee Singapore</td>\n",
       "      <td>Pending</td>\n",
       "      <td>2024-06-10 23:35:00</td>\n",
       "      <td>20.448</td>\n",
       "      <td>2024</td>\n",
       "      <td>6</td>\n",
       "    </tr>\n",
       "    <tr>\n",
       "      <th>1</th>\n",
       "      <td>98d7396291e1428497d4fe2ff632a432-1</td>\n",
       "      <td>Shopee Singapore</td>\n",
       "      <td>Pending</td>\n",
       "      <td>2024-06-10 21:58:00</td>\n",
       "      <td>34.272</td>\n",
       "      <td>2024</td>\n",
       "      <td>6</td>\n",
       "    </tr>\n",
       "    <tr>\n",
       "      <th>2</th>\n",
       "      <td>ff89a960824142ce8db6e24fac773abb-1</td>\n",
       "      <td>Shopee Singapore</td>\n",
       "      <td>Pending</td>\n",
       "      <td>2024-06-10 21:58:00</td>\n",
       "      <td>5.728</td>\n",
       "      <td>2024</td>\n",
       "      <td>6</td>\n",
       "    </tr>\n",
       "    <tr>\n",
       "      <th>3</th>\n",
       "      <td>992fb4ca916f450fac0c3a7bf8e65709-1</td>\n",
       "      <td>Shopee Singapore</td>\n",
       "      <td>Pending</td>\n",
       "      <td>2024-06-10 14:34:00</td>\n",
       "      <td>2.799</td>\n",
       "      <td>2024</td>\n",
       "      <td>6</td>\n",
       "    </tr>\n",
       "    <tr>\n",
       "      <th>4</th>\n",
       "      <td>02a9552ad3b34b5690c5656c1b2440c8-1</td>\n",
       "      <td>Shopee Singapore</td>\n",
       "      <td>Pending</td>\n",
       "      <td>2024-06-10 14:34:00</td>\n",
       "      <td>2.790</td>\n",
       "      <td>2024</td>\n",
       "      <td>6</td>\n",
       "    </tr>\n",
       "    <tr>\n",
       "      <th>...</th>\n",
       "      <td>...</td>\n",
       "      <td>...</td>\n",
       "      <td>...</td>\n",
       "      <td>...</td>\n",
       "      <td>...</td>\n",
       "      <td>...</td>\n",
       "      <td>...</td>\n",
       "    </tr>\n",
       "    <tr>\n",
       "      <th>11230</th>\n",
       "      <td>e7fc921a109d47bfb7425b8a3cf8b7a4-1</td>\n",
       "      <td>Watsons Singapore</td>\n",
       "      <td>Approved</td>\n",
       "      <td>2021-11-16 21:05:00</td>\n",
       "      <td>0.401</td>\n",
       "      <td>2021</td>\n",
       "      <td>11</td>\n",
       "    </tr>\n",
       "    <tr>\n",
       "      <th>11231</th>\n",
       "      <td>de54d92e124d4b3296ee4ba8e52c457a-1</td>\n",
       "      <td>Watsons Singapore</td>\n",
       "      <td>Approved</td>\n",
       "      <td>2021-11-13 09:23:00</td>\n",
       "      <td>0.471</td>\n",
       "      <td>2021</td>\n",
       "      <td>11</td>\n",
       "    </tr>\n",
       "    <tr>\n",
       "      <th>11232</th>\n",
       "      <td>3a2694a088af4072a730f06b2571913c-1</td>\n",
       "      <td>Watsons Singapore</td>\n",
       "      <td>Approved</td>\n",
       "      <td>2021-11-11 11:09:00</td>\n",
       "      <td>0.096</td>\n",
       "      <td>2021</td>\n",
       "      <td>11</td>\n",
       "    </tr>\n",
       "    <tr>\n",
       "      <th>11233</th>\n",
       "      <td>17c74deaa4564c5a94e92e5084498231-1</td>\n",
       "      <td>Watsons Singapore</td>\n",
       "      <td>Approved</td>\n",
       "      <td>2021-11-10 21:48:00</td>\n",
       "      <td>0.104</td>\n",
       "      <td>2021</td>\n",
       "      <td>11</td>\n",
       "    </tr>\n",
       "    <tr>\n",
       "      <th>11234</th>\n",
       "      <td>62e5fda4cafe4dfeb7a223f10ed34cf8-1</td>\n",
       "      <td>Watsons Singapore</td>\n",
       "      <td>Approved</td>\n",
       "      <td>2021-11-10 12:16:00</td>\n",
       "      <td>0.794</td>\n",
       "      <td>2021</td>\n",
       "      <td>11</td>\n",
       "    </tr>\n",
       "  </tbody>\n",
       "</table>\n",
       "<p>11235 rows × 7 columns</p>\n",
       "</div>"
      ],
      "text/plain": [
       "                            Conversion ID         Advertiser    Status  \\\n",
       "0      4ce2be5b098a4122b60c5959890b61dc-1   Shopee Singapore   Pending   \n",
       "1      98d7396291e1428497d4fe2ff632a432-1   Shopee Singapore   Pending   \n",
       "2      ff89a960824142ce8db6e24fac773abb-1   Shopee Singapore   Pending   \n",
       "3      992fb4ca916f450fac0c3a7bf8e65709-1   Shopee Singapore   Pending   \n",
       "4      02a9552ad3b34b5690c5656c1b2440c8-1   Shopee Singapore   Pending   \n",
       "...                                   ...                ...       ...   \n",
       "11230  e7fc921a109d47bfb7425b8a3cf8b7a4-1  Watsons Singapore  Approved   \n",
       "11231  de54d92e124d4b3296ee4ba8e52c457a-1  Watsons Singapore  Approved   \n",
       "11232  3a2694a088af4072a730f06b2571913c-1  Watsons Singapore  Approved   \n",
       "11233  17c74deaa4564c5a94e92e5084498231-1  Watsons Singapore  Approved   \n",
       "11234  62e5fda4cafe4dfeb7a223f10ed34cf8-1  Watsons Singapore  Approved   \n",
       "\n",
       "          Conversion Time  Estimate M1 Cashback Value  Year  Month  \n",
       "0     2024-06-10 23:35:00                      20.448  2024      6  \n",
       "1     2024-06-10 21:58:00                      34.272  2024      6  \n",
       "2     2024-06-10 21:58:00                       5.728  2024      6  \n",
       "3     2024-06-10 14:34:00                       2.799  2024      6  \n",
       "4     2024-06-10 14:34:00                       2.790  2024      6  \n",
       "...                   ...                         ...   ...    ...  \n",
       "11230 2021-11-16 21:05:00                       0.401  2021     11  \n",
       "11231 2021-11-13 09:23:00                       0.471  2021     11  \n",
       "11232 2021-11-11 11:09:00                       0.096  2021     11  \n",
       "11233 2021-11-10 21:48:00                       0.104  2021     11  \n",
       "11234 2021-11-10 12:16:00                       0.794  2021     11  \n",
       "\n",
       "[11235 rows x 7 columns]"
      ]
     },
     "execution_count": 93,
     "metadata": {},
     "output_type": "execute_result"
    }
   ],
   "source": [
    "df"
   ]
  },
  {
   "cell_type": "markdown",
   "metadata": {},
   "source": [
    "### Monthly Cashback Trends"
   ]
  },
  {
   "cell_type": "code",
   "execution_count": null,
   "metadata": {},
   "outputs": [
    {
     "data": {
      "application/vnd.plotly.v1+json": {
       "config": {
        "plotlyServerURL": "https://plot.ly"
       },
       "data": [
        {
         "hovertemplate": "Year=2021<br>Month=%{x}<br>Total Cashback Value=%{y}<extra></extra>",
         "legendgroup": "2021",
         "line": {
          "color": "#636efa",
          "dash": "solid"
         },
         "marker": {
          "symbol": "circle"
         },
         "mode": "lines",
         "name": "2021",
         "orientation": "v",
         "showlegend": true,
         "type": "scatter",
         "x": [
          11,
          12
         ],
         "xaxis": "x",
         "y": [
          13.200000000000001,
          27.479
         ],
         "yaxis": "y"
        },
        {
         "hovertemplate": "Year=2022<br>Month=%{x}<br>Total Cashback Value=%{y}<extra></extra>",
         "legendgroup": "2022",
         "line": {
          "color": "#EF553B",
          "dash": "solid"
         },
         "marker": {
          "symbol": "circle"
         },
         "mode": "lines",
         "name": "2022",
         "orientation": "v",
         "showlegend": true,
         "type": "scatter",
         "x": [
          1,
          3,
          4,
          5,
          6,
          7,
          8,
          9,
          10,
          11,
          12
         ],
         "xaxis": "x",
         "y": [
          3.824,
          12.231,
          99.281,
          79.229,
          71.243,
          53.793,
          64.148,
          189.905,
          177.95100000000002,
          44.281,
          108.354
         ],
         "yaxis": "y"
        },
        {
         "hovertemplate": "Year=2023<br>Month=%{x}<br>Total Cashback Value=%{y}<extra></extra>",
         "legendgroup": "2023",
         "line": {
          "color": "#00cc96",
          "dash": "solid"
         },
         "marker": {
          "symbol": "circle"
         },
         "mode": "lines",
         "name": "2023",
         "orientation": "v",
         "showlegend": true,
         "type": "scatter",
         "x": [
          1,
          2,
          3,
          4,
          5,
          6,
          7,
          8,
          9,
          10,
          11,
          12
         ],
         "xaxis": "x",
         "y": [
          56.702,
          45.592,
          91.26,
          4.569,
          20.599,
          95.554,
          121.196,
          143.27100000000002,
          419.996,
          304.605,
          662.334,
          297.698
         ],
         "yaxis": "y"
        },
        {
         "hovertemplate": "Year=2024<br>Month=%{x}<br>Total Cashback Value=%{y}<extra></extra>",
         "legendgroup": "2024",
         "line": {
          "color": "#ab63fa",
          "dash": "solid"
         },
         "marker": {
          "symbol": "circle"
         },
         "mode": "lines",
         "name": "2024",
         "orientation": "v",
         "showlegend": true,
         "type": "scatter",
         "x": [
          1,
          2,
          3,
          4,
          5,
          6
         ],
         "xaxis": "x",
         "y": [
          163.043,
          109.42699999999999,
          162.041,
          270.419,
          200.327,
          1321.56
         ],
         "yaxis": "y"
        }
       ],
       "layout": {
        "legend": {
         "title": {
          "text": "Year"
         },
         "tracegroupgap": 0
        },
        "template": {
         "data": {
          "bar": [
           {
            "error_x": {
             "color": "#2a3f5f"
            },
            "error_y": {
             "color": "#2a3f5f"
            },
            "marker": {
             "line": {
              "color": "#E5ECF6",
              "width": 0.5
             },
             "pattern": {
              "fillmode": "overlay",
              "size": 10,
              "solidity": 0.2
             }
            },
            "type": "bar"
           }
          ],
          "barpolar": [
           {
            "marker": {
             "line": {
              "color": "#E5ECF6",
              "width": 0.5
             },
             "pattern": {
              "fillmode": "overlay",
              "size": 10,
              "solidity": 0.2
             }
            },
            "type": "barpolar"
           }
          ],
          "carpet": [
           {
            "aaxis": {
             "endlinecolor": "#2a3f5f",
             "gridcolor": "white",
             "linecolor": "white",
             "minorgridcolor": "white",
             "startlinecolor": "#2a3f5f"
            },
            "baxis": {
             "endlinecolor": "#2a3f5f",
             "gridcolor": "white",
             "linecolor": "white",
             "minorgridcolor": "white",
             "startlinecolor": "#2a3f5f"
            },
            "type": "carpet"
           }
          ],
          "choropleth": [
           {
            "colorbar": {
             "outlinewidth": 0,
             "ticks": ""
            },
            "type": "choropleth"
           }
          ],
          "contour": [
           {
            "colorbar": {
             "outlinewidth": 0,
             "ticks": ""
            },
            "colorscale": [
             [
              0,
              "#0d0887"
             ],
             [
              0.1111111111111111,
              "#46039f"
             ],
             [
              0.2222222222222222,
              "#7201a8"
             ],
             [
              0.3333333333333333,
              "#9c179e"
             ],
             [
              0.4444444444444444,
              "#bd3786"
             ],
             [
              0.5555555555555556,
              "#d8576b"
             ],
             [
              0.6666666666666666,
              "#ed7953"
             ],
             [
              0.7777777777777778,
              "#fb9f3a"
             ],
             [
              0.8888888888888888,
              "#fdca26"
             ],
             [
              1,
              "#f0f921"
             ]
            ],
            "type": "contour"
           }
          ],
          "contourcarpet": [
           {
            "colorbar": {
             "outlinewidth": 0,
             "ticks": ""
            },
            "type": "contourcarpet"
           }
          ],
          "heatmap": [
           {
            "colorbar": {
             "outlinewidth": 0,
             "ticks": ""
            },
            "colorscale": [
             [
              0,
              "#0d0887"
             ],
             [
              0.1111111111111111,
              "#46039f"
             ],
             [
              0.2222222222222222,
              "#7201a8"
             ],
             [
              0.3333333333333333,
              "#9c179e"
             ],
             [
              0.4444444444444444,
              "#bd3786"
             ],
             [
              0.5555555555555556,
              "#d8576b"
             ],
             [
              0.6666666666666666,
              "#ed7953"
             ],
             [
              0.7777777777777778,
              "#fb9f3a"
             ],
             [
              0.8888888888888888,
              "#fdca26"
             ],
             [
              1,
              "#f0f921"
             ]
            ],
            "type": "heatmap"
           }
          ],
          "heatmapgl": [
           {
            "colorbar": {
             "outlinewidth": 0,
             "ticks": ""
            },
            "colorscale": [
             [
              0,
              "#0d0887"
             ],
             [
              0.1111111111111111,
              "#46039f"
             ],
             [
              0.2222222222222222,
              "#7201a8"
             ],
             [
              0.3333333333333333,
              "#9c179e"
             ],
             [
              0.4444444444444444,
              "#bd3786"
             ],
             [
              0.5555555555555556,
              "#d8576b"
             ],
             [
              0.6666666666666666,
              "#ed7953"
             ],
             [
              0.7777777777777778,
              "#fb9f3a"
             ],
             [
              0.8888888888888888,
              "#fdca26"
             ],
             [
              1,
              "#f0f921"
             ]
            ],
            "type": "heatmapgl"
           }
          ],
          "histogram": [
           {
            "marker": {
             "pattern": {
              "fillmode": "overlay",
              "size": 10,
              "solidity": 0.2
             }
            },
            "type": "histogram"
           }
          ],
          "histogram2d": [
           {
            "colorbar": {
             "outlinewidth": 0,
             "ticks": ""
            },
            "colorscale": [
             [
              0,
              "#0d0887"
             ],
             [
              0.1111111111111111,
              "#46039f"
             ],
             [
              0.2222222222222222,
              "#7201a8"
             ],
             [
              0.3333333333333333,
              "#9c179e"
             ],
             [
              0.4444444444444444,
              "#bd3786"
             ],
             [
              0.5555555555555556,
              "#d8576b"
             ],
             [
              0.6666666666666666,
              "#ed7953"
             ],
             [
              0.7777777777777778,
              "#fb9f3a"
             ],
             [
              0.8888888888888888,
              "#fdca26"
             ],
             [
              1,
              "#f0f921"
             ]
            ],
            "type": "histogram2d"
           }
          ],
          "histogram2dcontour": [
           {
            "colorbar": {
             "outlinewidth": 0,
             "ticks": ""
            },
            "colorscale": [
             [
              0,
              "#0d0887"
             ],
             [
              0.1111111111111111,
              "#46039f"
             ],
             [
              0.2222222222222222,
              "#7201a8"
             ],
             [
              0.3333333333333333,
              "#9c179e"
             ],
             [
              0.4444444444444444,
              "#bd3786"
             ],
             [
              0.5555555555555556,
              "#d8576b"
             ],
             [
              0.6666666666666666,
              "#ed7953"
             ],
             [
              0.7777777777777778,
              "#fb9f3a"
             ],
             [
              0.8888888888888888,
              "#fdca26"
             ],
             [
              1,
              "#f0f921"
             ]
            ],
            "type": "histogram2dcontour"
           }
          ],
          "mesh3d": [
           {
            "colorbar": {
             "outlinewidth": 0,
             "ticks": ""
            },
            "type": "mesh3d"
           }
          ],
          "parcoords": [
           {
            "line": {
             "colorbar": {
              "outlinewidth": 0,
              "ticks": ""
             }
            },
            "type": "parcoords"
           }
          ],
          "pie": [
           {
            "automargin": true,
            "type": "pie"
           }
          ],
          "scatter": [
           {
            "fillpattern": {
             "fillmode": "overlay",
             "size": 10,
             "solidity": 0.2
            },
            "type": "scatter"
           }
          ],
          "scatter3d": [
           {
            "line": {
             "colorbar": {
              "outlinewidth": 0,
              "ticks": ""
             }
            },
            "marker": {
             "colorbar": {
              "outlinewidth": 0,
              "ticks": ""
             }
            },
            "type": "scatter3d"
           }
          ],
          "scattercarpet": [
           {
            "marker": {
             "colorbar": {
              "outlinewidth": 0,
              "ticks": ""
             }
            },
            "type": "scattercarpet"
           }
          ],
          "scattergeo": [
           {
            "marker": {
             "colorbar": {
              "outlinewidth": 0,
              "ticks": ""
             }
            },
            "type": "scattergeo"
           }
          ],
          "scattergl": [
           {
            "marker": {
             "colorbar": {
              "outlinewidth": 0,
              "ticks": ""
             }
            },
            "type": "scattergl"
           }
          ],
          "scattermapbox": [
           {
            "marker": {
             "colorbar": {
              "outlinewidth": 0,
              "ticks": ""
             }
            },
            "type": "scattermapbox"
           }
          ],
          "scatterpolar": [
           {
            "marker": {
             "colorbar": {
              "outlinewidth": 0,
              "ticks": ""
             }
            },
            "type": "scatterpolar"
           }
          ],
          "scatterpolargl": [
           {
            "marker": {
             "colorbar": {
              "outlinewidth": 0,
              "ticks": ""
             }
            },
            "type": "scatterpolargl"
           }
          ],
          "scatterternary": [
           {
            "marker": {
             "colorbar": {
              "outlinewidth": 0,
              "ticks": ""
             }
            },
            "type": "scatterternary"
           }
          ],
          "surface": [
           {
            "colorbar": {
             "outlinewidth": 0,
             "ticks": ""
            },
            "colorscale": [
             [
              0,
              "#0d0887"
             ],
             [
              0.1111111111111111,
              "#46039f"
             ],
             [
              0.2222222222222222,
              "#7201a8"
             ],
             [
              0.3333333333333333,
              "#9c179e"
             ],
             [
              0.4444444444444444,
              "#bd3786"
             ],
             [
              0.5555555555555556,
              "#d8576b"
             ],
             [
              0.6666666666666666,
              "#ed7953"
             ],
             [
              0.7777777777777778,
              "#fb9f3a"
             ],
             [
              0.8888888888888888,
              "#fdca26"
             ],
             [
              1,
              "#f0f921"
             ]
            ],
            "type": "surface"
           }
          ],
          "table": [
           {
            "cells": {
             "fill": {
              "color": "#EBF0F8"
             },
             "line": {
              "color": "white"
             }
            },
            "header": {
             "fill": {
              "color": "#C8D4E3"
             },
             "line": {
              "color": "white"
             }
            },
            "type": "table"
           }
          ]
         },
         "layout": {
          "annotationdefaults": {
           "arrowcolor": "#2a3f5f",
           "arrowhead": 0,
           "arrowwidth": 1
          },
          "autotypenumbers": "strict",
          "coloraxis": {
           "colorbar": {
            "outlinewidth": 0,
            "ticks": ""
           }
          },
          "colorscale": {
           "diverging": [
            [
             0,
             "#8e0152"
            ],
            [
             0.1,
             "#c51b7d"
            ],
            [
             0.2,
             "#de77ae"
            ],
            [
             0.3,
             "#f1b6da"
            ],
            [
             0.4,
             "#fde0ef"
            ],
            [
             0.5,
             "#f7f7f7"
            ],
            [
             0.6,
             "#e6f5d0"
            ],
            [
             0.7,
             "#b8e186"
            ],
            [
             0.8,
             "#7fbc41"
            ],
            [
             0.9,
             "#4d9221"
            ],
            [
             1,
             "#276419"
            ]
           ],
           "sequential": [
            [
             0,
             "#0d0887"
            ],
            [
             0.1111111111111111,
             "#46039f"
            ],
            [
             0.2222222222222222,
             "#7201a8"
            ],
            [
             0.3333333333333333,
             "#9c179e"
            ],
            [
             0.4444444444444444,
             "#bd3786"
            ],
            [
             0.5555555555555556,
             "#d8576b"
            ],
            [
             0.6666666666666666,
             "#ed7953"
            ],
            [
             0.7777777777777778,
             "#fb9f3a"
            ],
            [
             0.8888888888888888,
             "#fdca26"
            ],
            [
             1,
             "#f0f921"
            ]
           ],
           "sequentialminus": [
            [
             0,
             "#0d0887"
            ],
            [
             0.1111111111111111,
             "#46039f"
            ],
            [
             0.2222222222222222,
             "#7201a8"
            ],
            [
             0.3333333333333333,
             "#9c179e"
            ],
            [
             0.4444444444444444,
             "#bd3786"
            ],
            [
             0.5555555555555556,
             "#d8576b"
            ],
            [
             0.6666666666666666,
             "#ed7953"
            ],
            [
             0.7777777777777778,
             "#fb9f3a"
            ],
            [
             0.8888888888888888,
             "#fdca26"
            ],
            [
             1,
             "#f0f921"
            ]
           ]
          },
          "colorway": [
           "#636efa",
           "#EF553B",
           "#00cc96",
           "#ab63fa",
           "#FFA15A",
           "#19d3f3",
           "#FF6692",
           "#B6E880",
           "#FF97FF",
           "#FECB52"
          ],
          "font": {
           "color": "#2a3f5f"
          },
          "geo": {
           "bgcolor": "white",
           "lakecolor": "white",
           "landcolor": "#E5ECF6",
           "showlakes": true,
           "showland": true,
           "subunitcolor": "white"
          },
          "hoverlabel": {
           "align": "left"
          },
          "hovermode": "closest",
          "mapbox": {
           "style": "light"
          },
          "paper_bgcolor": "white",
          "plot_bgcolor": "#E5ECF6",
          "polar": {
           "angularaxis": {
            "gridcolor": "white",
            "linecolor": "white",
            "ticks": ""
           },
           "bgcolor": "#E5ECF6",
           "radialaxis": {
            "gridcolor": "white",
            "linecolor": "white",
            "ticks": ""
           }
          },
          "scene": {
           "xaxis": {
            "backgroundcolor": "#E5ECF6",
            "gridcolor": "white",
            "gridwidth": 2,
            "linecolor": "white",
            "showbackground": true,
            "ticks": "",
            "zerolinecolor": "white"
           },
           "yaxis": {
            "backgroundcolor": "#E5ECF6",
            "gridcolor": "white",
            "gridwidth": 2,
            "linecolor": "white",
            "showbackground": true,
            "ticks": "",
            "zerolinecolor": "white"
           },
           "zaxis": {
            "backgroundcolor": "#E5ECF6",
            "gridcolor": "white",
            "gridwidth": 2,
            "linecolor": "white",
            "showbackground": true,
            "ticks": "",
            "zerolinecolor": "white"
           }
          },
          "shapedefaults": {
           "line": {
            "color": "#2a3f5f"
           }
          },
          "ternary": {
           "aaxis": {
            "gridcolor": "white",
            "linecolor": "white",
            "ticks": ""
           },
           "baxis": {
            "gridcolor": "white",
            "linecolor": "white",
            "ticks": ""
           },
           "bgcolor": "#E5ECF6",
           "caxis": {
            "gridcolor": "white",
            "linecolor": "white",
            "ticks": ""
           }
          },
          "title": {
           "x": 0.05
          },
          "xaxis": {
           "automargin": true,
           "gridcolor": "white",
           "linecolor": "white",
           "ticks": "",
           "title": {
            "standoff": 15
           },
           "zerolinecolor": "white",
           "zerolinewidth": 2
          },
          "yaxis": {
           "automargin": true,
           "gridcolor": "white",
           "linecolor": "white",
           "ticks": "",
           "title": {
            "standoff": 15
           },
           "zerolinecolor": "white",
           "zerolinewidth": 2
          }
         }
        },
        "title": {
         "text": "Monthly Cashback Value Trends"
        },
        "xaxis": {
         "anchor": "y",
         "domain": [
          0,
          1
         ],
         "ticktext": [
          "Jan",
          "Feb",
          "Mar",
          "Apr",
          "May",
          "Jun",
          "Jul",
          "Aug",
          "Sep",
          "Oct",
          "Nov",
          "Dec"
         ],
         "tickvals": [
          1,
          2,
          3,
          4,
          5,
          6,
          7,
          8,
          9,
          10,
          11,
          12
         ],
         "title": {
          "text": "Month"
         }
        },
        "yaxis": {
         "anchor": "x",
         "domain": [
          0,
          1
         ],
         "title": {
          "text": "Total Cashback Value"
         }
        }
       }
      }
     },
     "metadata": {},
     "output_type": "display_data"
    },
    {
     "data": {
      "application/vnd.plotly.v1+json": {
       "config": {
        "plotlyServerURL": "https://plot.ly"
       },
       "data": [
        {
         "hovertemplate": "Month=%{x}<br>Average Cashback Value=%{y}<extra></extra>",
         "legendgroup": "",
         "line": {
          "color": "#636efa",
          "dash": "solid"
         },
         "marker": {
          "symbol": "circle"
         },
         "mode": "lines",
         "name": "",
         "orientation": "v",
         "showlegend": false,
         "type": "scatter",
         "x": [
          1,
          2,
          3,
          4,
          5,
          6,
          7,
          8,
          9,
          10,
          11,
          12
         ],
         "xaxis": "x",
         "y": [
          74.52300000000001,
          77.5095,
          88.51066666666667,
          124.75633333333333,
          100.05166666666666,
          496.11899999999997,
          87.4945,
          103.7095,
          304.9505,
          241.27800000000002,
          239.9383333333333,
          144.5103333333333
         ],
         "yaxis": "y"
        }
       ],
       "layout": {
        "legend": {
         "tracegroupgap": 0
        },
        "template": {
         "data": {
          "bar": [
           {
            "error_x": {
             "color": "#2a3f5f"
            },
            "error_y": {
             "color": "#2a3f5f"
            },
            "marker": {
             "line": {
              "color": "#E5ECF6",
              "width": 0.5
             },
             "pattern": {
              "fillmode": "overlay",
              "size": 10,
              "solidity": 0.2
             }
            },
            "type": "bar"
           }
          ],
          "barpolar": [
           {
            "marker": {
             "line": {
              "color": "#E5ECF6",
              "width": 0.5
             },
             "pattern": {
              "fillmode": "overlay",
              "size": 10,
              "solidity": 0.2
             }
            },
            "type": "barpolar"
           }
          ],
          "carpet": [
           {
            "aaxis": {
             "endlinecolor": "#2a3f5f",
             "gridcolor": "white",
             "linecolor": "white",
             "minorgridcolor": "white",
             "startlinecolor": "#2a3f5f"
            },
            "baxis": {
             "endlinecolor": "#2a3f5f",
             "gridcolor": "white",
             "linecolor": "white",
             "minorgridcolor": "white",
             "startlinecolor": "#2a3f5f"
            },
            "type": "carpet"
           }
          ],
          "choropleth": [
           {
            "colorbar": {
             "outlinewidth": 0,
             "ticks": ""
            },
            "type": "choropleth"
           }
          ],
          "contour": [
           {
            "colorbar": {
             "outlinewidth": 0,
             "ticks": ""
            },
            "colorscale": [
             [
              0,
              "#0d0887"
             ],
             [
              0.1111111111111111,
              "#46039f"
             ],
             [
              0.2222222222222222,
              "#7201a8"
             ],
             [
              0.3333333333333333,
              "#9c179e"
             ],
             [
              0.4444444444444444,
              "#bd3786"
             ],
             [
              0.5555555555555556,
              "#d8576b"
             ],
             [
              0.6666666666666666,
              "#ed7953"
             ],
             [
              0.7777777777777778,
              "#fb9f3a"
             ],
             [
              0.8888888888888888,
              "#fdca26"
             ],
             [
              1,
              "#f0f921"
             ]
            ],
            "type": "contour"
           }
          ],
          "contourcarpet": [
           {
            "colorbar": {
             "outlinewidth": 0,
             "ticks": ""
            },
            "type": "contourcarpet"
           }
          ],
          "heatmap": [
           {
            "colorbar": {
             "outlinewidth": 0,
             "ticks": ""
            },
            "colorscale": [
             [
              0,
              "#0d0887"
             ],
             [
              0.1111111111111111,
              "#46039f"
             ],
             [
              0.2222222222222222,
              "#7201a8"
             ],
             [
              0.3333333333333333,
              "#9c179e"
             ],
             [
              0.4444444444444444,
              "#bd3786"
             ],
             [
              0.5555555555555556,
              "#d8576b"
             ],
             [
              0.6666666666666666,
              "#ed7953"
             ],
             [
              0.7777777777777778,
              "#fb9f3a"
             ],
             [
              0.8888888888888888,
              "#fdca26"
             ],
             [
              1,
              "#f0f921"
             ]
            ],
            "type": "heatmap"
           }
          ],
          "heatmapgl": [
           {
            "colorbar": {
             "outlinewidth": 0,
             "ticks": ""
            },
            "colorscale": [
             [
              0,
              "#0d0887"
             ],
             [
              0.1111111111111111,
              "#46039f"
             ],
             [
              0.2222222222222222,
              "#7201a8"
             ],
             [
              0.3333333333333333,
              "#9c179e"
             ],
             [
              0.4444444444444444,
              "#bd3786"
             ],
             [
              0.5555555555555556,
              "#d8576b"
             ],
             [
              0.6666666666666666,
              "#ed7953"
             ],
             [
              0.7777777777777778,
              "#fb9f3a"
             ],
             [
              0.8888888888888888,
              "#fdca26"
             ],
             [
              1,
              "#f0f921"
             ]
            ],
            "type": "heatmapgl"
           }
          ],
          "histogram": [
           {
            "marker": {
             "pattern": {
              "fillmode": "overlay",
              "size": 10,
              "solidity": 0.2
             }
            },
            "type": "histogram"
           }
          ],
          "histogram2d": [
           {
            "colorbar": {
             "outlinewidth": 0,
             "ticks": ""
            },
            "colorscale": [
             [
              0,
              "#0d0887"
             ],
             [
              0.1111111111111111,
              "#46039f"
             ],
             [
              0.2222222222222222,
              "#7201a8"
             ],
             [
              0.3333333333333333,
              "#9c179e"
             ],
             [
              0.4444444444444444,
              "#bd3786"
             ],
             [
              0.5555555555555556,
              "#d8576b"
             ],
             [
              0.6666666666666666,
              "#ed7953"
             ],
             [
              0.7777777777777778,
              "#fb9f3a"
             ],
             [
              0.8888888888888888,
              "#fdca26"
             ],
             [
              1,
              "#f0f921"
             ]
            ],
            "type": "histogram2d"
           }
          ],
          "histogram2dcontour": [
           {
            "colorbar": {
             "outlinewidth": 0,
             "ticks": ""
            },
            "colorscale": [
             [
              0,
              "#0d0887"
             ],
             [
              0.1111111111111111,
              "#46039f"
             ],
             [
              0.2222222222222222,
              "#7201a8"
             ],
             [
              0.3333333333333333,
              "#9c179e"
             ],
             [
              0.4444444444444444,
              "#bd3786"
             ],
             [
              0.5555555555555556,
              "#d8576b"
             ],
             [
              0.6666666666666666,
              "#ed7953"
             ],
             [
              0.7777777777777778,
              "#fb9f3a"
             ],
             [
              0.8888888888888888,
              "#fdca26"
             ],
             [
              1,
              "#f0f921"
             ]
            ],
            "type": "histogram2dcontour"
           }
          ],
          "mesh3d": [
           {
            "colorbar": {
             "outlinewidth": 0,
             "ticks": ""
            },
            "type": "mesh3d"
           }
          ],
          "parcoords": [
           {
            "line": {
             "colorbar": {
              "outlinewidth": 0,
              "ticks": ""
             }
            },
            "type": "parcoords"
           }
          ],
          "pie": [
           {
            "automargin": true,
            "type": "pie"
           }
          ],
          "scatter": [
           {
            "fillpattern": {
             "fillmode": "overlay",
             "size": 10,
             "solidity": 0.2
            },
            "type": "scatter"
           }
          ],
          "scatter3d": [
           {
            "line": {
             "colorbar": {
              "outlinewidth": 0,
              "ticks": ""
             }
            },
            "marker": {
             "colorbar": {
              "outlinewidth": 0,
              "ticks": ""
             }
            },
            "type": "scatter3d"
           }
          ],
          "scattercarpet": [
           {
            "marker": {
             "colorbar": {
              "outlinewidth": 0,
              "ticks": ""
             }
            },
            "type": "scattercarpet"
           }
          ],
          "scattergeo": [
           {
            "marker": {
             "colorbar": {
              "outlinewidth": 0,
              "ticks": ""
             }
            },
            "type": "scattergeo"
           }
          ],
          "scattergl": [
           {
            "marker": {
             "colorbar": {
              "outlinewidth": 0,
              "ticks": ""
             }
            },
            "type": "scattergl"
           }
          ],
          "scattermapbox": [
           {
            "marker": {
             "colorbar": {
              "outlinewidth": 0,
              "ticks": ""
             }
            },
            "type": "scattermapbox"
           }
          ],
          "scatterpolar": [
           {
            "marker": {
             "colorbar": {
              "outlinewidth": 0,
              "ticks": ""
             }
            },
            "type": "scatterpolar"
           }
          ],
          "scatterpolargl": [
           {
            "marker": {
             "colorbar": {
              "outlinewidth": 0,
              "ticks": ""
             }
            },
            "type": "scatterpolargl"
           }
          ],
          "scatterternary": [
           {
            "marker": {
             "colorbar": {
              "outlinewidth": 0,
              "ticks": ""
             }
            },
            "type": "scatterternary"
           }
          ],
          "surface": [
           {
            "colorbar": {
             "outlinewidth": 0,
             "ticks": ""
            },
            "colorscale": [
             [
              0,
              "#0d0887"
             ],
             [
              0.1111111111111111,
              "#46039f"
             ],
             [
              0.2222222222222222,
              "#7201a8"
             ],
             [
              0.3333333333333333,
              "#9c179e"
             ],
             [
              0.4444444444444444,
              "#bd3786"
             ],
             [
              0.5555555555555556,
              "#d8576b"
             ],
             [
              0.6666666666666666,
              "#ed7953"
             ],
             [
              0.7777777777777778,
              "#fb9f3a"
             ],
             [
              0.8888888888888888,
              "#fdca26"
             ],
             [
              1,
              "#f0f921"
             ]
            ],
            "type": "surface"
           }
          ],
          "table": [
           {
            "cells": {
             "fill": {
              "color": "#EBF0F8"
             },
             "line": {
              "color": "white"
             }
            },
            "header": {
             "fill": {
              "color": "#C8D4E3"
             },
             "line": {
              "color": "white"
             }
            },
            "type": "table"
           }
          ]
         },
         "layout": {
          "annotationdefaults": {
           "arrowcolor": "#2a3f5f",
           "arrowhead": 0,
           "arrowwidth": 1
          },
          "autotypenumbers": "strict",
          "coloraxis": {
           "colorbar": {
            "outlinewidth": 0,
            "ticks": ""
           }
          },
          "colorscale": {
           "diverging": [
            [
             0,
             "#8e0152"
            ],
            [
             0.1,
             "#c51b7d"
            ],
            [
             0.2,
             "#de77ae"
            ],
            [
             0.3,
             "#f1b6da"
            ],
            [
             0.4,
             "#fde0ef"
            ],
            [
             0.5,
             "#f7f7f7"
            ],
            [
             0.6,
             "#e6f5d0"
            ],
            [
             0.7,
             "#b8e186"
            ],
            [
             0.8,
             "#7fbc41"
            ],
            [
             0.9,
             "#4d9221"
            ],
            [
             1,
             "#276419"
            ]
           ],
           "sequential": [
            [
             0,
             "#0d0887"
            ],
            [
             0.1111111111111111,
             "#46039f"
            ],
            [
             0.2222222222222222,
             "#7201a8"
            ],
            [
             0.3333333333333333,
             "#9c179e"
            ],
            [
             0.4444444444444444,
             "#bd3786"
            ],
            [
             0.5555555555555556,
             "#d8576b"
            ],
            [
             0.6666666666666666,
             "#ed7953"
            ],
            [
             0.7777777777777778,
             "#fb9f3a"
            ],
            [
             0.8888888888888888,
             "#fdca26"
            ],
            [
             1,
             "#f0f921"
            ]
           ],
           "sequentialminus": [
            [
             0,
             "#0d0887"
            ],
            [
             0.1111111111111111,
             "#46039f"
            ],
            [
             0.2222222222222222,
             "#7201a8"
            ],
            [
             0.3333333333333333,
             "#9c179e"
            ],
            [
             0.4444444444444444,
             "#bd3786"
            ],
            [
             0.5555555555555556,
             "#d8576b"
            ],
            [
             0.6666666666666666,
             "#ed7953"
            ],
            [
             0.7777777777777778,
             "#fb9f3a"
            ],
            [
             0.8888888888888888,
             "#fdca26"
            ],
            [
             1,
             "#f0f921"
            ]
           ]
          },
          "colorway": [
           "#636efa",
           "#EF553B",
           "#00cc96",
           "#ab63fa",
           "#FFA15A",
           "#19d3f3",
           "#FF6692",
           "#B6E880",
           "#FF97FF",
           "#FECB52"
          ],
          "font": {
           "color": "#2a3f5f"
          },
          "geo": {
           "bgcolor": "white",
           "lakecolor": "white",
           "landcolor": "#E5ECF6",
           "showlakes": true,
           "showland": true,
           "subunitcolor": "white"
          },
          "hoverlabel": {
           "align": "left"
          },
          "hovermode": "closest",
          "mapbox": {
           "style": "light"
          },
          "paper_bgcolor": "white",
          "plot_bgcolor": "#E5ECF6",
          "polar": {
           "angularaxis": {
            "gridcolor": "white",
            "linecolor": "white",
            "ticks": ""
           },
           "bgcolor": "#E5ECF6",
           "radialaxis": {
            "gridcolor": "white",
            "linecolor": "white",
            "ticks": ""
           }
          },
          "scene": {
           "xaxis": {
            "backgroundcolor": "#E5ECF6",
            "gridcolor": "white",
            "gridwidth": 2,
            "linecolor": "white",
            "showbackground": true,
            "ticks": "",
            "zerolinecolor": "white"
           },
           "yaxis": {
            "backgroundcolor": "#E5ECF6",
            "gridcolor": "white",
            "gridwidth": 2,
            "linecolor": "white",
            "showbackground": true,
            "ticks": "",
            "zerolinecolor": "white"
           },
           "zaxis": {
            "backgroundcolor": "#E5ECF6",
            "gridcolor": "white",
            "gridwidth": 2,
            "linecolor": "white",
            "showbackground": true,
            "ticks": "",
            "zerolinecolor": "white"
           }
          },
          "shapedefaults": {
           "line": {
            "color": "#2a3f5f"
           }
          },
          "ternary": {
           "aaxis": {
            "gridcolor": "white",
            "linecolor": "white",
            "ticks": ""
           },
           "baxis": {
            "gridcolor": "white",
            "linecolor": "white",
            "ticks": ""
           },
           "bgcolor": "#E5ECF6",
           "caxis": {
            "gridcolor": "white",
            "linecolor": "white",
            "ticks": ""
           }
          },
          "title": {
           "x": 0.05
          },
          "xaxis": {
           "automargin": true,
           "gridcolor": "white",
           "linecolor": "white",
           "ticks": "",
           "title": {
            "standoff": 15
           },
           "zerolinecolor": "white",
           "zerolinewidth": 2
          },
          "yaxis": {
           "automargin": true,
           "gridcolor": "white",
           "linecolor": "white",
           "ticks": "",
           "title": {
            "standoff": 15
           },
           "zerolinecolor": "white",
           "zerolinewidth": 2
          }
         }
        },
        "title": {
         "text": "Average Monthly Cashback Value Trends"
        },
        "xaxis": {
         "anchor": "y",
         "domain": [
          0,
          1
         ],
         "ticktext": [
          "Jan",
          "Feb",
          "Mar",
          "Apr",
          "May",
          "Jun",
          "Jul",
          "Aug",
          "Sep",
          "Oct",
          "Nov",
          "Dec"
         ],
         "tickvals": [
          1,
          2,
          3,
          4,
          5,
          6,
          7,
          8,
          9,
          10,
          11,
          12
         ],
         "title": {
          "text": "Month"
         }
        },
        "yaxis": {
         "anchor": "x",
         "domain": [
          0,
          1
         ],
         "title": {
          "text": "Average Cashback Value"
         }
        }
       }
      }
     },
     "metadata": {},
     "output_type": "display_data"
    }
   ],
   "source": [
    "import pandas as pd\n",
    "import plotly.express as px\n",
    "import plotly.graph_objects as go\n",
    "import calendar\n",
    "data = df\n",
    "# Perform monthly cashback analysis\n",
    "data['Month'] = data['Conversion Time'].dt.month\n",
    "monthly_cashback_analysis = data.groupby(['Year', 'Month'])['Estimate M1 Cashback Value'].sum().reset_index()\n",
    "\n",
    "# Step 1: Create a line plot for each year\n",
    "fig = px.line(\n",
    "    monthly_cashback_analysis,\n",
    "    x='Month',\n",
    "    y='Estimate M1 Cashback Value',\n",
    "    color='Year',\n",
    "    title='Monthly Cashback Value Trends',\n",
    "    labels={'Month': 'Month', 'Estimate M1 Cashback Value': 'Total Cashback Value'}\n",
    ")\n",
    "\n",
    "# Update x-axis labels to show month names\n",
    "fig.update_xaxes(tickvals=list(range(1, 13)), ticktext=[calendar.month_abbr[m] for m in range(1, 13)])\n",
    "\n",
    "fig.show()\n",
    "\n",
    "# Step 2: Calculate average monthly cashback values\n",
    "average_monthly_cashback = monthly_cashback_analysis.groupby('Month')['Estimate M1 Cashback Value'].mean().reset_index()\n",
    "\n",
    "# Step 3: Plot the average monthly values\n",
    "fig_avg = px.line(\n",
    "    average_monthly_cashback,\n",
    "    x='Month',\n",
    "    y='Estimate M1 Cashback Value',\n",
    "    title='Average Monthly Cashback Value Trends',\n",
    "    labels={'Month': 'Month', 'Estimate M1 Cashback Value': 'Average Cashback Value'}\n",
    ")\n",
    "\n",
    "# Update x-axis labels to show month names\n",
    "fig_avg.update_xaxes(tickvals=list(range(1, 13)), ticktext=[calendar.month_abbr[m] for m in range(1, 13)])\n",
    "\n",
    "fig_avg.show()\n"
   ]
  },
  {
   "cell_type": "code",
   "execution_count": null,
   "metadata": {},
   "outputs": [],
   "source": []
  },
  {
   "cell_type": "markdown",
   "metadata": {},
   "source": [
    "### Top Advertisers"
   ]
  },
  {
   "cell_type": "code",
   "execution_count": null,
   "metadata": {},
   "outputs": [
    {
     "data": {
      "text/html": [
       "<div>\n",
       "<style scoped>\n",
       "    .dataframe tbody tr th:only-of-type {\n",
       "        vertical-align: middle;\n",
       "    }\n",
       "\n",
       "    .dataframe tbody tr th {\n",
       "        vertical-align: top;\n",
       "    }\n",
       "\n",
       "    .dataframe thead th {\n",
       "        text-align: right;\n",
       "    }\n",
       "</style>\n",
       "<table border=\"1\" class=\"dataframe\">\n",
       "  <thead>\n",
       "    <tr style=\"text-align: right;\">\n",
       "      <th></th>\n",
       "      <th>Advertiser</th>\n",
       "      <th>Estimate M1 Cashback Value</th>\n",
       "    </tr>\n",
       "  </thead>\n",
       "  <tbody>\n",
       "    <tr>\n",
       "      <th>11</th>\n",
       "      <td>Lazada SG</td>\n",
       "      <td>1571.389</td>\n",
       "    </tr>\n",
       "    <tr>\n",
       "      <th>19</th>\n",
       "      <td>Shopee SG</td>\n",
       "      <td>1562.582</td>\n",
       "    </tr>\n",
       "    <tr>\n",
       "      <th>21</th>\n",
       "      <td>Shopee Singapore</td>\n",
       "      <td>1220.903</td>\n",
       "    </tr>\n",
       "    <tr>\n",
       "      <th>17</th>\n",
       "      <td>Samsung SG</td>\n",
       "      <td>215.241</td>\n",
       "    </tr>\n",
       "    <tr>\n",
       "      <th>27</th>\n",
       "      <td>Zalora SG</td>\n",
       "      <td>193.208</td>\n",
       "    </tr>\n",
       "    <tr>\n",
       "      <th>1</th>\n",
       "      <td>Agoda</td>\n",
       "      <td>129.319</td>\n",
       "    </tr>\n",
       "    <tr>\n",
       "      <th>7</th>\n",
       "      <td>Fairprice ON</td>\n",
       "      <td>119.281</td>\n",
       "    </tr>\n",
       "    <tr>\n",
       "      <th>29</th>\n",
       "      <td>tripcom</td>\n",
       "      <td>87.250</td>\n",
       "    </tr>\n",
       "    <tr>\n",
       "      <th>23</th>\n",
       "      <td>Trip.com</td>\n",
       "      <td>59.976</td>\n",
       "    </tr>\n",
       "    <tr>\n",
       "      <th>16</th>\n",
       "      <td>Puma</td>\n",
       "      <td>30.529</td>\n",
       "    </tr>\n",
       "  </tbody>\n",
       "</table>\n",
       "</div>"
      ],
      "text/plain": [
       "          Advertiser  Estimate M1 Cashback Value\n",
       "11         Lazada SG                    1571.389\n",
       "19         Shopee SG                    1562.582\n",
       "21  Shopee Singapore                    1220.903\n",
       "17        Samsung SG                     215.241\n",
       "27         Zalora SG                     193.208\n",
       "1              Agoda                     129.319\n",
       "7       Fairprice ON                     119.281\n",
       "29           tripcom                      87.250\n",
       "23          Trip.com                      59.976\n",
       "16              Puma                      30.529"
      ]
     },
     "execution_count": 96,
     "metadata": {},
     "output_type": "execute_result"
    }
   ],
   "source": [
    "# Calculate the total cashback values for each advertiser\n",
    "top_advertisers = data.groupby('Advertiser')['Estimate M1 Cashback Value'].sum().reset_index()\n",
    "\n",
    "# Identify the top advertisers\n",
    "top_advertisers = top_advertisers.sort_values(by='Estimate M1 Cashback Value', ascending=False).head(10)\n",
    "\n",
    "# Display the top advertisers\n",
    "top_advertisers\n"
   ]
  },
  {
   "cell_type": "code",
   "execution_count": null,
   "metadata": {},
   "outputs": [
    {
     "data": {
      "image/png": "[encoded data removed]",
      "text/plain": [
       "<Figure size 1000x600 with 1 Axes>"
      ]
     },
     "metadata": {},
     "output_type": "display_data"
    }
   ],
   "source": [
    "# Sort the top advertisers by cashback value\n",
    "top_advertisers = top_advertisers.sort_values(by='Estimate M1 Cashback Value', ascending=False).head(10)\n",
    "\n",
    "# Plotting\n",
    "plt.figure(figsize=(10, 6))\n",
    "plt.bar(top_advertisers['Advertiser'], top_advertisers['Estimate M1 Cashback Value'], color='skyblue')\n",
    "plt.xlabel('Advertiser')\n",
    "plt.ylabel('Total Cashback Value')\n",
    "plt.title('Top 10 Advertisers by Total Cashback Value')\n",
    "plt.xticks(rotation=45)\n",
    "plt.tight_layout()\n",
    "plt.show()"
   ]
  },
  {
   "cell_type": "code",
   "execution_count": null,
   "metadata": {},
   "outputs": [],
   "source": []
  },
  {
   "cell_type": "code",
   "execution_count": null,
   "metadata": {},
   "outputs": [],
   "source": []
  },
  {
   "cell_type": "markdown",
   "metadata": {},
   "source": [
    "### Monthly contribution\n",
    "\n",
    "\n",
    "The \"monthly contribution\" analysis helps determine the percentage contribution of each month to the total annual cashback values. "
   ]
  },
  {
   "cell_type": "code",
   "execution_count": null,
   "metadata": {},
   "outputs": [
    {
     "data": {
      "text/html": [
       "<div>\n",
       "<style scoped>\n",
       "    .dataframe tbody tr th:only-of-type {\n",
       "        vertical-align: middle;\n",
       "    }\n",
       "\n",
       "    .dataframe tbody tr th {\n",
       "        vertical-align: top;\n",
       "    }\n",
       "\n",
       "    .dataframe thead th {\n",
       "        text-align: right;\n",
       "    }\n",
       "</style>\n",
       "<table border=\"1\" class=\"dataframe\">\n",
       "  <thead>\n",
       "    <tr style=\"text-align: right;\">\n",
       "      <th></th>\n",
       "      <th>Year</th>\n",
       "      <th>Month</th>\n",
       "      <th>Estimate M1 Cashback Value</th>\n",
       "      <th>Annual Total</th>\n",
       "      <th>Monthly Contribution (%)</th>\n",
       "    </tr>\n",
       "  </thead>\n",
       "  <tbody>\n",
       "    <tr>\n",
       "      <th>0</th>\n",
       "      <td>2021</td>\n",
       "      <td>11</td>\n",
       "      <td>13.200</td>\n",
       "      <td>40.679</td>\n",
       "      <td>32.449175</td>\n",
       "    </tr>\n",
       "    <tr>\n",
       "      <th>1</th>\n",
       "      <td>2021</td>\n",
       "      <td>12</td>\n",
       "      <td>27.479</td>\n",
       "      <td>40.679</td>\n",
       "      <td>67.550825</td>\n",
       "    </tr>\n",
       "    <tr>\n",
       "      <th>2</th>\n",
       "      <td>2022</td>\n",
       "      <td>1</td>\n",
       "      <td>3.824</td>\n",
       "      <td>904.240</td>\n",
       "      <td>0.422897</td>\n",
       "    </tr>\n",
       "    <tr>\n",
       "      <th>3</th>\n",
       "      <td>2022</td>\n",
       "      <td>3</td>\n",
       "      <td>12.231</td>\n",
       "      <td>904.240</td>\n",
       "      <td>1.352628</td>\n",
       "    </tr>\n",
       "    <tr>\n",
       "      <th>4</th>\n",
       "      <td>2022</td>\n",
       "      <td>4</td>\n",
       "      <td>99.281</td>\n",
       "      <td>904.240</td>\n",
       "      <td>10.979497</td>\n",
       "    </tr>\n",
       "    <tr>\n",
       "      <th>5</th>\n",
       "      <td>2022</td>\n",
       "      <td>5</td>\n",
       "      <td>79.229</td>\n",
       "      <td>904.240</td>\n",
       "      <td>8.761944</td>\n",
       "    </tr>\n",
       "    <tr>\n",
       "      <th>6</th>\n",
       "      <td>2022</td>\n",
       "      <td>6</td>\n",
       "      <td>71.243</td>\n",
       "      <td>904.240</td>\n",
       "      <td>7.878771</td>\n",
       "    </tr>\n",
       "    <tr>\n",
       "      <th>7</th>\n",
       "      <td>2022</td>\n",
       "      <td>7</td>\n",
       "      <td>53.793</td>\n",
       "      <td>904.240</td>\n",
       "      <td>5.948974</td>\n",
       "    </tr>\n",
       "    <tr>\n",
       "      <th>8</th>\n",
       "      <td>2022</td>\n",
       "      <td>8</td>\n",
       "      <td>64.148</td>\n",
       "      <td>904.240</td>\n",
       "      <td>7.094134</td>\n",
       "    </tr>\n",
       "    <tr>\n",
       "      <th>9</th>\n",
       "      <td>2022</td>\n",
       "      <td>9</td>\n",
       "      <td>189.905</td>\n",
       "      <td>904.240</td>\n",
       "      <td>21.001615</td>\n",
       "    </tr>\n",
       "    <tr>\n",
       "      <th>10</th>\n",
       "      <td>2022</td>\n",
       "      <td>10</td>\n",
       "      <td>177.951</td>\n",
       "      <td>904.240</td>\n",
       "      <td>19.679620</td>\n",
       "    </tr>\n",
       "    <tr>\n",
       "      <th>11</th>\n",
       "      <td>2022</td>\n",
       "      <td>11</td>\n",
       "      <td>44.281</td>\n",
       "      <td>904.240</td>\n",
       "      <td>4.897041</td>\n",
       "    </tr>\n",
       "    <tr>\n",
       "      <th>12</th>\n",
       "      <td>2022</td>\n",
       "      <td>12</td>\n",
       "      <td>108.354</td>\n",
       "      <td>904.240</td>\n",
       "      <td>11.982881</td>\n",
       "    </tr>\n",
       "    <tr>\n",
       "      <th>13</th>\n",
       "      <td>2023</td>\n",
       "      <td>1</td>\n",
       "      <td>56.702</td>\n",
       "      <td>2263.376</td>\n",
       "      <td>2.505196</td>\n",
       "    </tr>\n",
       "    <tr>\n",
       "      <th>14</th>\n",
       "      <td>2023</td>\n",
       "      <td>2</td>\n",
       "      <td>45.592</td>\n",
       "      <td>2263.376</td>\n",
       "      <td>2.014336</td>\n",
       "    </tr>\n",
       "    <tr>\n",
       "      <th>15</th>\n",
       "      <td>2023</td>\n",
       "      <td>3</td>\n",
       "      <td>91.260</td>\n",
       "      <td>2263.376</td>\n",
       "      <td>4.032030</td>\n",
       "    </tr>\n",
       "    <tr>\n",
       "      <th>16</th>\n",
       "      <td>2023</td>\n",
       "      <td>4</td>\n",
       "      <td>4.569</td>\n",
       "      <td>2263.376</td>\n",
       "      <td>0.201867</td>\n",
       "    </tr>\n",
       "    <tr>\n",
       "      <th>17</th>\n",
       "      <td>2023</td>\n",
       "      <td>5</td>\n",
       "      <td>20.599</td>\n",
       "      <td>2263.376</td>\n",
       "      <td>0.910101</td>\n",
       "    </tr>\n",
       "    <tr>\n",
       "      <th>18</th>\n",
       "      <td>2023</td>\n",
       "      <td>6</td>\n",
       "      <td>95.554</td>\n",
       "      <td>2263.376</td>\n",
       "      <td>4.221747</td>\n",
       "    </tr>\n",
       "    <tr>\n",
       "      <th>19</th>\n",
       "      <td>2023</td>\n",
       "      <td>7</td>\n",
       "      <td>121.196</td>\n",
       "      <td>2263.376</td>\n",
       "      <td>5.354656</td>\n",
       "    </tr>\n",
       "    <tr>\n",
       "      <th>20</th>\n",
       "      <td>2023</td>\n",
       "      <td>8</td>\n",
       "      <td>143.271</td>\n",
       "      <td>2263.376</td>\n",
       "      <td>6.329969</td>\n",
       "    </tr>\n",
       "    <tr>\n",
       "      <th>21</th>\n",
       "      <td>2023</td>\n",
       "      <td>9</td>\n",
       "      <td>419.996</td>\n",
       "      <td>2263.376</td>\n",
       "      <td>18.556174</td>\n",
       "    </tr>\n",
       "    <tr>\n",
       "      <th>22</th>\n",
       "      <td>2023</td>\n",
       "      <td>10</td>\n",
       "      <td>304.605</td>\n",
       "      <td>2263.376</td>\n",
       "      <td>13.457994</td>\n",
       "    </tr>\n",
       "    <tr>\n",
       "      <th>23</th>\n",
       "      <td>2023</td>\n",
       "      <td>11</td>\n",
       "      <td>662.334</td>\n",
       "      <td>2263.376</td>\n",
       "      <td>29.263101</td>\n",
       "    </tr>\n",
       "    <tr>\n",
       "      <th>24</th>\n",
       "      <td>2023</td>\n",
       "      <td>12</td>\n",
       "      <td>297.698</td>\n",
       "      <td>2263.376</td>\n",
       "      <td>13.152830</td>\n",
       "    </tr>\n",
       "    <tr>\n",
       "      <th>25</th>\n",
       "      <td>2024</td>\n",
       "      <td>1</td>\n",
       "      <td>163.043</td>\n",
       "      <td>2226.817</td>\n",
       "      <td>7.321796</td>\n",
       "    </tr>\n",
       "    <tr>\n",
       "      <th>26</th>\n",
       "      <td>2024</td>\n",
       "      <td>2</td>\n",
       "      <td>109.427</td>\n",
       "      <td>2226.817</td>\n",
       "      <td>4.914054</td>\n",
       "    </tr>\n",
       "    <tr>\n",
       "      <th>27</th>\n",
       "      <td>2024</td>\n",
       "      <td>3</td>\n",
       "      <td>162.041</td>\n",
       "      <td>2226.817</td>\n",
       "      <td>7.276799</td>\n",
       "    </tr>\n",
       "    <tr>\n",
       "      <th>28</th>\n",
       "      <td>2024</td>\n",
       "      <td>4</td>\n",
       "      <td>270.419</td>\n",
       "      <td>2226.817</td>\n",
       "      <td>12.143746</td>\n",
       "    </tr>\n",
       "    <tr>\n",
       "      <th>29</th>\n",
       "      <td>2024</td>\n",
       "      <td>5</td>\n",
       "      <td>200.327</td>\n",
       "      <td>2226.817</td>\n",
       "      <td>8.996114</td>\n",
       "    </tr>\n",
       "    <tr>\n",
       "      <th>30</th>\n",
       "      <td>2024</td>\n",
       "      <td>6</td>\n",
       "      <td>1321.560</td>\n",
       "      <td>2226.817</td>\n",
       "      <td>59.347490</td>\n",
       "    </tr>\n",
       "  </tbody>\n",
       "</table>\n",
       "</div>"
      ],
      "text/plain": [
       "    Year  Month  Estimate M1 Cashback Value  Annual Total  \\\n",
       "0   2021     11                      13.200        40.679   \n",
       "1   2021     12                      27.479        40.679   \n",
       "2   2022      1                       3.824       904.240   \n",
       "3   2022      3                      12.231       904.240   \n",
       "4   2022      4                      99.281       904.240   \n",
       "5   2022      5                      79.229       904.240   \n",
       "6   2022      6                      71.243       904.240   \n",
       "7   2022      7                      53.793       904.240   \n",
       "8   2022      8                      64.148       904.240   \n",
       "9   2022      9                     189.905       904.240   \n",
       "10  2022     10                     177.951       904.240   \n",
       "11  2022     11                      44.281       904.240   \n",
       "12  2022     12                     108.354       904.240   \n",
       "13  2023      1                      56.702      2263.376   \n",
       "14  2023      2                      45.592      2263.376   \n",
       "15  2023      3                      91.260      2263.376   \n",
       "16  2023      4                       4.569      2263.376   \n",
       "17  2023      5                      20.599      2263.376   \n",
       "18  2023      6                      95.554      2263.376   \n",
       "19  2023      7                     121.196      2263.376   \n",
       "20  2023      8                     143.271      2263.376   \n",
       "21  2023      9                     419.996      2263.376   \n",
       "22  2023     10                     304.605      2263.376   \n",
       "23  2023     11                     662.334      2263.376   \n",
       "24  2023     12                     297.698      2263.376   \n",
       "25  2024      1                     163.043      2226.817   \n",
       "26  2024      2                     109.427      2226.817   \n",
       "27  2024      3                     162.041      2226.817   \n",
       "28  2024      4                     270.419      2226.817   \n",
       "29  2024      5                     200.327      2226.817   \n",
       "30  2024      6                    1321.560      2226.817   \n",
       "\n",
       "    Monthly Contribution (%)  \n",
       "0                  32.449175  \n",
       "1                  67.550825  \n",
       "2                   0.422897  \n",
       "3                   1.352628  \n",
       "4                  10.979497  \n",
       "5                   8.761944  \n",
       "6                   7.878771  \n",
       "7                   5.948974  \n",
       "8                   7.094134  \n",
       "9                  21.001615  \n",
       "10                 19.679620  \n",
       "11                  4.897041  \n",
       "12                 11.982881  \n",
       "13                  2.505196  \n",
       "14                  2.014336  \n",
       "15                  4.032030  \n",
       "16                  0.201867  \n",
       "17                  0.910101  \n",
       "18                  4.221747  \n",
       "19                  5.354656  \n",
       "20                  6.329969  \n",
       "21                 18.556174  \n",
       "22                 13.457994  \n",
       "23                 29.263101  \n",
       "24                 13.152830  \n",
       "25                  7.321796  \n",
       "26                  4.914054  \n",
       "27                  7.276799  \n",
       "28                 12.143746  \n",
       "29                  8.996114  \n",
       "30                 59.347490  "
      ]
     },
     "execution_count": 98,
     "metadata": {},
     "output_type": "execute_result"
    }
   ],
   "source": [
    "# Calculate the monthly contribution to the annual cashback values\n",
    "monthly_contribution = data.groupby(['Year', 'Month'])['Estimate M1 Cashback Value'].sum().reset_index()\n",
    "monthly_contribution['Annual Total'] = monthly_contribution.groupby('Year')['Estimate M1 Cashback Value'].transform('sum')\n",
    "monthly_contribution['Monthly Contribution (%)'] = (monthly_contribution['Estimate M1 Cashback Value'] / monthly_contribution['Annual Total']) * 100\n",
    "\n",
    "# Display the monthly contribution\n",
    "monthly_contribution\n"
   ]
  },
  {
   "cell_type": "code",
   "execution_count": null,
   "metadata": {},
   "outputs": [],
   "source": []
  },
  {
   "cell_type": "code",
   "execution_count": null,
   "metadata": {},
   "outputs": [],
   "source": []
  },
  {
   "cell_type": "markdown",
   "metadata": {},
   "source": [
    "### Monthly Peaks and Drops\n",
    "\n",
    "in every month from average cashback sum peaks and drops\n"
   ]
  },
  {
   "cell_type": "code",
   "execution_count": null,
   "metadata": {},
   "outputs": [
    {
     "data": {
      "application/vnd.plotly.v1+json": {
       "config": {
        "plotlyServerURL": "https://plot.ly"
       },
       "data": [
        {
         "hovertemplate": "Month=%{x}<br>Total Cashback Value=%{y}<extra></extra>",
         "legendgroup": "",
         "line": {
          "color": "#636efa",
          "dash": "solid"
         },
         "marker": {
          "symbol": "circle"
         },
         "mode": "lines",
         "name": "",
         "orientation": "v",
         "showlegend": false,
         "type": "scatter",
         "x": [
          1,
          2,
          3,
          4,
          5,
          6,
          7,
          8,
          9,
          10,
          11,
          12
         ],
         "xaxis": "x",
         "y": [
          223.569,
          155.019,
          265.532,
          374.269,
          300.155,
          1488.357,
          174.989,
          207.419,
          609.901,
          482.55600000000004,
          719.8149999999999,
          433.531
         ],
         "yaxis": "y"
        }
       ],
       "layout": {
        "legend": {
         "tracegroupgap": 0
        },
        "template": {
         "data": {
          "bar": [
           {
            "error_x": {
             "color": "#2a3f5f"
            },
            "error_y": {
             "color": "#2a3f5f"
            },
            "marker": {
             "line": {
              "color": "#E5ECF6",
              "width": 0.5
             },
             "pattern": {
              "fillmode": "overlay",
              "size": 10,
              "solidity": 0.2
             }
            },
            "type": "bar"
           }
          ],
          "barpolar": [
           {
            "marker": {
             "line": {
              "color": "#E5ECF6",
              "width": 0.5
             },
             "pattern": {
              "fillmode": "overlay",
              "size": 10,
              "solidity": 0.2
             }
            },
            "type": "barpolar"
           }
          ],
          "carpet": [
           {
            "aaxis": {
             "endlinecolor": "#2a3f5f",
             "gridcolor": "white",
             "linecolor": "white",
             "minorgridcolor": "white",
             "startlinecolor": "#2a3f5f"
            },
            "baxis": {
             "endlinecolor": "#2a3f5f",
             "gridcolor": "white",
             "linecolor": "white",
             "minorgridcolor": "white",
             "startlinecolor": "#2a3f5f"
            },
            "type": "carpet"
           }
          ],
          "choropleth": [
           {
            "colorbar": {
             "outlinewidth": 0,
             "ticks": ""
            },
            "type": "choropleth"
           }
          ],
          "contour": [
           {
            "colorbar": {
             "outlinewidth": 0,
             "ticks": ""
            },
            "colorscale": [
             [
              0,
              "#0d0887"
             ],
             [
              0.1111111111111111,
              "#46039f"
             ],
             [
              0.2222222222222222,
              "#7201a8"
             ],
             [
              0.3333333333333333,
              "#9c179e"
             ],
             [
              0.4444444444444444,
              "#bd3786"
             ],
             [
              0.5555555555555556,
              "#d8576b"
             ],
             [
              0.6666666666666666,
              "#ed7953"
             ],
             [
              0.7777777777777778,
              "#fb9f3a"
             ],
             [
              0.8888888888888888,
              "#fdca26"
             ],
             [
              1,
              "#f0f921"
             ]
            ],
            "type": "contour"
           }
          ],
          "contourcarpet": [
           {
            "colorbar": {
             "outlinewidth": 0,
             "ticks": ""
            },
            "type": "contourcarpet"
           }
          ],
          "heatmap": [
           {
            "colorbar": {
             "outlinewidth": 0,
             "ticks": ""
            },
            "colorscale": [
             [
              0,
              "#0d0887"
             ],
             [
              0.1111111111111111,
              "#46039f"
             ],
             [
              0.2222222222222222,
              "#7201a8"
             ],
             [
              0.3333333333333333,
              "#9c179e"
             ],
             [
              0.4444444444444444,
              "#bd3786"
             ],
             [
              0.5555555555555556,
              "#d8576b"
             ],
             [
              0.6666666666666666,
              "#ed7953"
             ],
             [
              0.7777777777777778,
              "#fb9f3a"
             ],
             [
              0.8888888888888888,
              "#fdca26"
             ],
             [
              1,
              "#f0f921"
             ]
            ],
            "type": "heatmap"
           }
          ],
          "heatmapgl": [
           {
            "colorbar": {
             "outlinewidth": 0,
             "ticks": ""
            },
            "colorscale": [
             [
              0,
              "#0d0887"
             ],
             [
              0.1111111111111111,
              "#46039f"
             ],
             [
              0.2222222222222222,
              "#7201a8"
             ],
             [
              0.3333333333333333,
              "#9c179e"
             ],
             [
              0.4444444444444444,
              "#bd3786"
             ],
             [
              0.5555555555555556,
              "#d8576b"
             ],
             [
              0.6666666666666666,
              "#ed7953"
             ],
             [
              0.7777777777777778,
              "#fb9f3a"
             ],
             [
              0.8888888888888888,
              "#fdca26"
             ],
             [
              1,
              "#f0f921"
             ]
            ],
            "type": "heatmapgl"
           }
          ],
          "histogram": [
           {
            "marker": {
             "pattern": {
              "fillmode": "overlay",
              "size": 10,
              "solidity": 0.2
             }
            },
            "type": "histogram"
           }
          ],
          "histogram2d": [
           {
            "colorbar": {
             "outlinewidth": 0,
             "ticks": ""
            },
            "colorscale": [
             [
              0,
              "#0d0887"
             ],
             [
              0.1111111111111111,
              "#46039f"
             ],
             [
              0.2222222222222222,
              "#7201a8"
             ],
             [
              0.3333333333333333,
              "#9c179e"
             ],
             [
              0.4444444444444444,
              "#bd3786"
             ],
             [
              0.5555555555555556,
              "#d8576b"
             ],
             [
              0.6666666666666666,
              "#ed7953"
             ],
             [
              0.7777777777777778,
              "#fb9f3a"
             ],
             [
              0.8888888888888888,
              "#fdca26"
             ],
             [
              1,
              "#f0f921"
             ]
            ],
            "type": "histogram2d"
           }
          ],
          "histogram2dcontour": [
           {
            "colorbar": {
             "outlinewidth": 0,
             "ticks": ""
            },
            "colorscale": [
             [
              0,
              "#0d0887"
             ],
             [
              0.1111111111111111,
              "#46039f"
             ],
             [
              0.2222222222222222,
              "#7201a8"
             ],
             [
              0.3333333333333333,
              "#9c179e"
             ],
             [
              0.4444444444444444,
              "#bd3786"
             ],
             [
              0.5555555555555556,
              "#d8576b"
             ],
             [
              0.6666666666666666,
              "#ed7953"
             ],
             [
              0.7777777777777778,
              "#fb9f3a"
             ],
             [
              0.8888888888888888,
              "#fdca26"
             ],
             [
              1,
              "#f0f921"
             ]
            ],
            "type": "histogram2dcontour"
           }
          ],
          "mesh3d": [
           {
            "colorbar": {
             "outlinewidth": 0,
             "ticks": ""
            },
            "type": "mesh3d"
           }
          ],
          "parcoords": [
           {
            "line": {
             "colorbar": {
              "outlinewidth": 0,
              "ticks": ""
             }
            },
            "type": "parcoords"
           }
          ],
          "pie": [
           {
            "automargin": true,
            "type": "pie"
           }
          ],
          "scatter": [
           {
            "fillpattern": {
             "fillmode": "overlay",
             "size": 10,
             "solidity": 0.2
            },
            "type": "scatter"
           }
          ],
          "scatter3d": [
           {
            "line": {
             "colorbar": {
              "outlinewidth": 0,
              "ticks": ""
             }
            },
            "marker": {
             "colorbar": {
              "outlinewidth": 0,
              "ticks": ""
             }
            },
            "type": "scatter3d"
           }
          ],
          "scattercarpet": [
           {
            "marker": {
             "colorbar": {
              "outlinewidth": 0,
              "ticks": ""
             }
            },
            "type": "scattercarpet"
           }
          ],
          "scattergeo": [
           {
            "marker": {
             "colorbar": {
              "outlinewidth": 0,
              "ticks": ""
             }
            },
            "type": "scattergeo"
           }
          ],
          "scattergl": [
           {
            "marker": {
             "colorbar": {
              "outlinewidth": 0,
              "ticks": ""
             }
            },
            "type": "scattergl"
           }
          ],
          "scattermapbox": [
           {
            "marker": {
             "colorbar": {
              "outlinewidth": 0,
              "ticks": ""
             }
            },
            "type": "scattermapbox"
           }
          ],
          "scatterpolar": [
           {
            "marker": {
             "colorbar": {
              "outlinewidth": 0,
              "ticks": ""
             }
            },
            "type": "scatterpolar"
           }
          ],
          "scatterpolargl": [
           {
            "marker": {
             "colorbar": {
              "outlinewidth": 0,
              "ticks": ""
             }
            },
            "type": "scatterpolargl"
           }
          ],
          "scatterternary": [
           {
            "marker": {
             "colorbar": {
              "outlinewidth": 0,
              "ticks": ""
             }
            },
            "type": "scatterternary"
           }
          ],
          "surface": [
           {
            "colorbar": {
             "outlinewidth": 0,
             "ticks": ""
            },
            "colorscale": [
             [
              0,
              "#0d0887"
             ],
             [
              0.1111111111111111,
              "#46039f"
             ],
             [
              0.2222222222222222,
              "#7201a8"
             ],
             [
              0.3333333333333333,
              "#9c179e"
             ],
             [
              0.4444444444444444,
              "#bd3786"
             ],
             [
              0.5555555555555556,
              "#d8576b"
             ],
             [
              0.6666666666666666,
              "#ed7953"
             ],
             [
              0.7777777777777778,
              "#fb9f3a"
             ],
             [
              0.8888888888888888,
              "#fdca26"
             ],
             [
              1,
              "#f0f921"
             ]
            ],
            "type": "surface"
           }
          ],
          "table": [
           {
            "cells": {
             "fill": {
              "color": "#EBF0F8"
             },
             "line": {
              "color": "white"
             }
            },
            "header": {
             "fill": {
              "color": "#C8D4E3"
             },
             "line": {
              "color": "white"
             }
            },
            "type": "table"
           }
          ]
         },
         "layout": {
          "annotationdefaults": {
           "arrowcolor": "#2a3f5f",
           "arrowhead": 0,
           "arrowwidth": 1
          },
          "autotypenumbers": "strict",
          "coloraxis": {
           "colorbar": {
            "outlinewidth": 0,
            "ticks": ""
           }
          },
          "colorscale": {
           "diverging": [
            [
             0,
             "#8e0152"
            ],
            [
             0.1,
             "#c51b7d"
            ],
            [
             0.2,
             "#de77ae"
            ],
            [
             0.3,
             "#f1b6da"
            ],
            [
             0.4,
             "#fde0ef"
            ],
            [
             0.5,
             "#f7f7f7"
            ],
            [
             0.6,
             "#e6f5d0"
            ],
            [
             0.7,
             "#b8e186"
            ],
            [
             0.8,
             "#7fbc41"
            ],
            [
             0.9,
             "#4d9221"
            ],
            [
             1,
             "#276419"
            ]
           ],
           "sequential": [
            [
             0,
             "#0d0887"
            ],
            [
             0.1111111111111111,
             "#46039f"
            ],
            [
             0.2222222222222222,
             "#7201a8"
            ],
            [
             0.3333333333333333,
             "#9c179e"
            ],
            [
             0.4444444444444444,
             "#bd3786"
            ],
            [
             0.5555555555555556,
             "#d8576b"
            ],
            [
             0.6666666666666666,
             "#ed7953"
            ],
            [
             0.7777777777777778,
             "#fb9f3a"
            ],
            [
             0.8888888888888888,
             "#fdca26"
            ],
            [
             1,
             "#f0f921"
            ]
           ],
           "sequentialminus": [
            [
             0,
             "#0d0887"
            ],
            [
             0.1111111111111111,
             "#46039f"
            ],
            [
             0.2222222222222222,
             "#7201a8"
            ],
            [
             0.3333333333333333,
             "#9c179e"
            ],
            [
             0.4444444444444444,
             "#bd3786"
            ],
            [
             0.5555555555555556,
             "#d8576b"
            ],
            [
             0.6666666666666666,
             "#ed7953"
            ],
            [
             0.7777777777777778,
             "#fb9f3a"
            ],
            [
             0.8888888888888888,
             "#fdca26"
            ],
            [
             1,
             "#f0f921"
            ]
           ]
          },
          "colorway": [
           "#636efa",
           "#EF553B",
           "#00cc96",
           "#ab63fa",
           "#FFA15A",
           "#19d3f3",
           "#FF6692",
           "#B6E880",
           "#FF97FF",
           "#FECB52"
          ],
          "font": {
           "color": "#2a3f5f"
          },
          "geo": {
           "bgcolor": "white",
           "lakecolor": "white",
           "landcolor": "#E5ECF6",
           "showlakes": true,
           "showland": true,
           "subunitcolor": "white"
          },
          "hoverlabel": {
           "align": "left"
          },
          "hovermode": "closest",
          "mapbox": {
           "style": "light"
          },
          "paper_bgcolor": "white",
          "plot_bgcolor": "#E5ECF6",
          "polar": {
           "angularaxis": {
            "gridcolor": "white",
            "linecolor": "white",
            "ticks": ""
           },
           "bgcolor": "#E5ECF6",
           "radialaxis": {
            "gridcolor": "white",
            "linecolor": "white",
            "ticks": ""
           }
          },
          "scene": {
           "xaxis": {
            "backgroundcolor": "#E5ECF6",
            "gridcolor": "white",
            "gridwidth": 2,
            "linecolor": "white",
            "showbackground": true,
            "ticks": "",
            "zerolinecolor": "white"
           },
           "yaxis": {
            "backgroundcolor": "#E5ECF6",
            "gridcolor": "white",
            "gridwidth": 2,
            "linecolor": "white",
            "showbackground": true,
            "ticks": "",
            "zerolinecolor": "white"
           },
           "zaxis": {
            "backgroundcolor": "#E5ECF6",
            "gridcolor": "white",
            "gridwidth": 2,
            "linecolor": "white",
            "showbackground": true,
            "ticks": "",
            "zerolinecolor": "white"
           }
          },
          "shapedefaults": {
           "line": {
            "color": "#2a3f5f"
           }
          },
          "ternary": {
           "aaxis": {
            "gridcolor": "white",
            "linecolor": "white",
            "ticks": ""
           },
           "baxis": {
            "gridcolor": "white",
            "linecolor": "white",
            "ticks": ""
           },
           "bgcolor": "#E5ECF6",
           "caxis": {
            "gridcolor": "white",
            "linecolor": "white",
            "ticks": ""
           }
          },
          "title": {
           "x": 0.05
          },
          "xaxis": {
           "automargin": true,
           "gridcolor": "white",
           "linecolor": "white",
           "ticks": "",
           "title": {
            "standoff": 15
           },
           "zerolinecolor": "white",
           "zerolinewidth": 2
          },
          "yaxis": {
           "automargin": true,
           "gridcolor": "white",
           "linecolor": "white",
           "ticks": "",
           "title": {
            "standoff": 15
           },
           "zerolinecolor": "white",
           "zerolinewidth": 2
          }
         }
        },
        "title": {
         "text": "Seasonal Peaks and Troughs"
        },
        "xaxis": {
         "anchor": "y",
         "domain": [
          0,
          1
         ],
         "ticktext": [
          "Jan",
          "Feb",
          "Mar",
          "Apr",
          "May",
          "Jun",
          "Jul",
          "Aug",
          "Sep",
          "Oct",
          "Nov",
          "Dec"
         ],
         "tickvals": [
          1,
          2,
          3,
          4,
          5,
          6,
          7,
          8,
          9,
          10,
          11,
          12
         ],
         "title": {
          "text": "Month"
         }
        },
        "yaxis": {
         "anchor": "x",
         "domain": [
          0,
          1
         ],
         "title": {
          "text": "Total Cashback Value"
         }
        }
       }
      }
     },
     "metadata": {},
     "output_type": "display_data"
    }
   ],
   "source": [
    "import plotly.express as px\n",
    "\n",
    "# Aggregate monthly data across all years\n",
    "monthly_trends = data.groupby('Month')['Estimate M1 Cashback Value'].sum().reset_index()\n",
    "\n",
    "# Plot the monthly trends\n",
    "fig = px.line(\n",
    "    monthly_trends,\n",
    "    x='Month',\n",
    "    y='Estimate M1 Cashback Value',\n",
    "    title='Seasonal Peaks and Troughs',\n",
    "    labels={'Month': 'Month', 'Estimate M1 Cashback Value': 'Total Cashback Value'}\n",
    ")\n",
    "\n",
    "# Update x-axis labels to show month names\n",
    "fig.update_xaxes(tickvals=list(range(1, 13)), ticktext=[calendar.month_abbr[m] for m in range(1, 13)])\n",
    "\n",
    "fig.show()\n"
   ]
  },
  {
   "cell_type": "code",
   "execution_count": null,
   "metadata": {},
   "outputs": [],
   "source": []
  }
 ],
 "metadata": {
  "kernelspec": {
   "display_name": ".venv",
   "language": "python",
   "name": "python3"
  },
  "language_info": {
   "codemirror_mode": {
    "name": "ipython",
    "version": 3
   },
   "file_extension": ".py",
   "mimetype": "text/x-python",
   "name": "python",
   "nbconvert_exporter": "python",
   "pygments_lexer": "ipython3",
   "version": "3.12.1"
  }
 },
 "nbformat": 4,
 "nbformat_minor": 2
}
