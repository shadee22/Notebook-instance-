{
 "cells": [
  {
   "cell_type": "code",
   "execution_count": 2,
   "metadata": {},
   "outputs": [
    {
     "name": "stdout",
     "output_type": "stream",
     "text": [
      "Requirement already satisfied: plotly in /Users/shadeer/Desktop/HOME/AI/PulseID/Notebook-instance/.venv/lib/python3.12/site-packages (5.22.0)\n",
      "Requirement already satisfied: tenacity>=6.2.0 in /Users/shadeer/Desktop/HOME/AI/PulseID/Notebook-instance/.venv/lib/python3.12/site-packages (from plotly) (8.2.3)\n",
      "Requirement already satisfied: packaging in /Users/shadeer/Desktop/HOME/AI/PulseID/Notebook-instance/.venv/lib/python3.12/site-packages (from plotly) (23.2)\n"
     ]
    }
   ],
   "source": [
    "!pip install plotly"
   ]
  },
  {
   "cell_type": "code",
   "execution_count": 2,
   "metadata": {},
   "outputs": [],
   "source": [
    "import pandas as pd\n",
    "import numpy as np\n",
    "import matplotlib.pyplot as plt\n",
    "\n",
    "\n",
    "import warnings\n",
    "warnings.filterwarnings(\"ignore\")\n"
   ]
  },
  {
   "cell_type": "code",
   "execution_count": 3,
   "metadata": {},
   "outputs": [
    {
     "data": {
      "text/plain": [
       "0        5.36\n",
       "1       33.80\n",
       "2       52.21\n",
       "3        4.50\n",
       "4        9.98\n",
       "        ...  \n",
       "7691     9.09\n",
       "7692    29.80\n",
       "7693    11.22\n",
       "7694    13.44\n",
       "7695     7.42\n",
       "Name: Original Order Value, Length: 7696, dtype: float64"
      ]
     },
     "execution_count": 3,
     "metadata": {},
     "output_type": "execute_result"
    }
   ],
   "source": [
    "# M1 Data integration\n",
    "file_path = '/Users/shadeer/Desktop/HOME/AI/PulseID/Notebook-instance/Shadeer/M1/ai-api/DataSources/Final_for_smart_pricing.csv'\n",
    "raw_data = pd.read_csv(file_path, encoding='latin1')\n",
    "raw_data[\"UID\"]\n",
    "raw_data[\"Original Order Value\"]"
   ]
  },
  {
   "cell_type": "markdown",
   "metadata": {},
   "source": [
    "### ABC anlaysis"
   ]
  },
  {
   "cell_type": "code",
   "execution_count": null,
   "metadata": {},
   "outputs": [],
   "source": []
  },
  {
   "cell_type": "code",
   "execution_count": 4,
   "metadata": {},
   "outputs": [],
   "source": [
    "import pandas as pd\n",
    "\n",
    "\n",
    "data = pd.read_csv(file_path, encoding='ISO-8859-1')\n",
    "\n",
    "# Drop rows where 'Order Value' is missing\n",
    "data_cleaned = data.dropna(subset=['Order Value'])\n",
    "\n",
    "# Calculate total order value per customer\n",
    "customer_order_totals = data_cleaned.groupby('UID')['Order Value'].sum()\n",
    "\n",
    "# Sort customers based on total order value\n",
    "customer_order_totals_sorted = customer_order_totals.sort_values(ascending=False)\n",
    "data_cleaned = data_cleaned.drop_duplicates(subset='UID')\n",
    "data_cleaned[\"total_spend\"] = customer_order_totals.values\n",
    "\n",
    "df = data_cleaned\n",
    "df['ABC_Category'] = pd.qcut(df['total_spend'], [0, 0.5, 0.8, 1], labels=['C', 'B', 'A'], duplicates='drop')\n",
    "\n",
    "df['is_premium'] = df['ABC_Category'].isin(['B', 'A'])\n"
   ]
  },
  {
   "cell_type": "code",
   "execution_count": 5,
   "metadata": {},
   "outputs": [],
   "source": [
    "# df[\"ABC_Category\"].value_counts() "
   ]
  },
  {
   "cell_type": "code",
   "execution_count": 6,
   "metadata": {},
   "outputs": [],
   "source": [
    "\n",
    "# df['is_premium'] = df['ABC_Category'].isin(['B', 'A'])\n",
    "# df['is_premium'].value_counts()\n",
    "\n"
   ]
  },
  {
   "cell_type": "code",
   "execution_count": null,
   "metadata": {},
   "outputs": [],
   "source": []
  },
  {
   "cell_type": "markdown",
   "metadata": {},
   "source": [
    "## Budget Allocation"
   ]
  },
  {
   "cell_type": "code",
   "execution_count": 4,
   "metadata": {},
   "outputs": [
    {
     "name": "stdout",
     "output_type": "stream",
     "text": [
      "Total Budget: $2000\n",
      "Base Budget: $1400.0\n",
      "Premium Budget: $600.0\n",
      "--------------------------------------------\n",
      "Number of Premium Customers: 656\n",
      "Number of Total Unique Customers: 1312\n",
      "--------------------------------------------\n",
      "Average Base Reward: $1.07\n",
      "Average Extra value for Premium Customer: $0.91\n",
      "Total Premium Reward: $1.981707317073171\n"
     ]
    },
    {
     "data": {
      "text/plain": [
       "{'Total Budget': '$2000',\n",
       " 'Base Budget': '$1400.0',\n",
       " 'Premium Budget': '$600.0',\n",
       " 'Number of Premium Customers': 656,\n",
       " 'Number of Total Unique Customers': 1312,\n",
       " 'Average Base Reward': '$1.07',\n",
       " 'Average Extra value for Premium Customer': '$0.91',\n",
       " 'Total Premium Reward': '$1.981707317073171'}"
      ]
     },
     "execution_count": 4,
     "metadata": {},
     "output_type": "execute_result"
    }
   ],
   "source": [
    "# Main function\n",
    "import pandas as pd\n",
    "import numpy as np\n",
    "import matplotlib.pyplot as plt\n",
    "\n",
    "\n",
    "import warnings\n",
    "warnings.filterwarnings(\"ignore\")\n",
    "\n",
    "\n",
    "class BudgetAllocation:\n",
    "    def __init__(self, total_budget, base_budget_percent, premium_budget_percent, abc_split):\n",
    "        self.total_budget = total_budget\n",
    "        self.base_percent = base_budget_percent\n",
    "        self.premium_percent = premium_budget_percent\n",
    "        self.abc_split = abc_split\n",
    "        self.df_path = \"/Users/shadeer/Desktop/HOME/AI/PulseID/Notebook-instance/Shadeer/M1/ai-api/DataSources/Final_for_smart_pricing.csv\"\n",
    "        self.customers = self.ABC_analysis_df()\n",
    "        self.redeemed_reward = 0\n",
    "\n",
    "    def ABC_analysis_df(self):    \n",
    "        data = pd.read_csv(self.df_path, encoding='ISO-8859-1')\n",
    "\n",
    "        # Drop rows where 'Order Value' is missing\n",
    "        data_cleaned = data.dropna(subset=['Order Value'])\n",
    "\n",
    "        # Calculate total order value per customer\n",
    "        customer_order_totals = data_cleaned.groupby('UID')['Order Value'].sum()\n",
    "\n",
    "        # Sort customers based on total order value\n",
    "        customer_order_totals_sorted = customer_order_totals.sort_values(ascending=False)\n",
    "        data_cleaned = data_cleaned.drop_duplicates(subset='UID')\n",
    "        data_cleaned[\"total_spend\"] = customer_order_totals.values\n",
    "\n",
    "        df = data_cleaned\n",
    "        abc = self.abc_split\n",
    "        # abc = [0, 0.8, 0.9, 1]\n",
    "        df['ABC_Category'] = pd.qcut(df['total_spend'], abc, labels=['C', 'B', 'A'], duplicates='drop')\n",
    "\n",
    "        df['is_premium'] = df['ABC_Category'].isin(['B', 'A'])\n",
    "        return df\n",
    "        \n",
    "    def calculate_rewards(self):\n",
    "        base_budget = self.total_budget * self.base_percent\n",
    "        premium_budget = self.total_budget * self.premium_percent\n",
    "        num_customers = len(self.customers)\n",
    "\n",
    "        self.customers['base_reward'] = base_budget / num_customers\n",
    "        premium_customers = self.customers['is_premium'].sum()\n",
    "        self.customers['premium_reward'] = 0\n",
    "        self.customers.loc[self.customers['is_premium'], 'premium_reward'] = premium_budget / premium_customers\n",
    "        self.customers['total_reward'] = self.customers['base_reward'] + self.customers['premium_reward']\n",
    "\n",
    "    def plot_rewards(self):\n",
    "        plt.figure(figsize=(10, 6))\n",
    "        plt.hist(self.customers['total_reward'], bins=30, alpha=0.7, label='Total Reward')\n",
    "        plt.hist(self.customers['base_reward'], bins=30, alpha=0.7, label='Base Reward', color='r')\n",
    "        plt.title('Distribution of Rewards')\n",
    "        plt.xlabel('Reward Amount ($)')\n",
    "        plt.ylabel('Number of Customers')\n",
    "        plt.legend()\n",
    "        plt.show()\n",
    "    \n",
    "    def summary(self):\n",
    "        max_base_reward = self.customers['base_reward'].max()\n",
    "        max_premium_reward = self.customers[self.customers['is_premium']]['premium_reward'].max()\n",
    "        total_reward = max_base_reward + max_premium_reward\n",
    "        print(f\"Total Budget: ${self.total_budget}\")\n",
    "        print(f\"Base Budget: ${self.total_budget * self.base_percent}\")\n",
    "        print(f\"Premium Budget: ${self.total_budget * self.premium_percent}\")\n",
    "        print(\"--------------------------------------------\")\n",
    "        print(f\"Number of Premium Customers: {self.customers['is_premium'].sum()}\")\n",
    "        print(f\"Number of Total Unique Customers: {len(self.customers)}\")\n",
    "        print(\"--------------------------------------------\")\n",
    "\n",
    "        print(f\"Average Base Reward: ${self.customers['base_reward'].mean():.2f}\")\n",
    "        print(f\"Average Extra value for Premium Customer: ${self.customers[self.customers['is_premium']]['premium_reward'].mean():.2f}\")\n",
    "        print(f\"Total Premium Reward: ${total_reward}\")\n",
    "        \n",
    "\n",
    "        max_base_reward = self.customers['base_reward'].max()\n",
    "        max_premium_reward = self.customers[self.customers['is_premium']]['premium_reward'].max()\n",
    "        total_reward = max_base_reward + max_premium_reward\n",
    "\n",
    "        summary_dict = {\n",
    "            \"Total Budget\": f\"${self.total_budget}\",\n",
    "            \"Base Budget\": f\"${self.total_budget * self.base_percent}\",\n",
    "            \"Premium Budget\": f\"${self.total_budget * self.premium_percent}\",\n",
    "            \"Number of Premium Customers\": self.customers['is_premium'].sum(),\n",
    "            \"Number of Total Unique Customers\": len(self.customers),\n",
    "            \"Average Base Reward\": f\"${self.customers['base_reward'].mean():.2f}\",\n",
    "            \"Average Extra value for Premium Customer\": f\"${self.customers[self.customers['is_premium']]['premium_reward'].mean():.2f}\",\n",
    "            \"Total Premium Reward\": f\"${total_reward}\"\n",
    "        }\n",
    "        \n",
    "        # print(\"TOAL BUDGET IS: \", self.total_budget)\n",
    "\n",
    "        return summary_dict\n",
    "        # print(\"--------------------------------------------\")\n",
    "        # print(self.customers['is_premium'].value_counts())\n",
    "        # print(\"--------------------------------------------\")\n",
    "        # print(self.customers['ABC_Category'].value_counts())\n",
    "\n",
    "\n",
    "\n",
    "\n",
    "\n",
    "BA = BudgetAllocation( total_budget=2000, base_budget_percent=0.7,\n",
    "                                 premium_budget_percent=0.3, abc_split=[0, 0.5, 0.8, 1])\n",
    "BA.calculate_rewards()\n",
    "BA.summary()"
   ]
  },
  {
   "cell_type": "markdown",
   "metadata": {},
   "source": [
    "## Commision\n"
   ]
  },
  {
   "cell_type": "code",
   "execution_count": null,
   "metadata": {},
   "outputs": [],
   "source": []
  },
  {
   "cell_type": "code",
   "execution_count": null,
   "metadata": {},
   "outputs": [],
   "source": []
  },
  {
   "cell_type": "code",
   "execution_count": 11,
   "metadata": {},
   "outputs": [
    {
     "name": "stdout",
     "output_type": "stream",
     "text": [
      "Total Budget: $4000.00\n",
      "Base Budget: $2800.00 (70.0% of total)\n",
      "Premium Budget: $1200.00 (30.0 % of total)\n",
      "---------------------------------------------------\n",
      "Number of Total Unique Customers: 1312\n",
      "Number of Premium Customers: 656\n",
      "---------------------------------------------------\n",
      "Base Reward Details:\n",
      "  - Base Reward : $2.13\n",
      "  - Pulse Commission on Base Reward: $0.32 (Pulse Commission: 15.0%)\n",
      "  - Partner Commission on Base Reward: $0.11 (Partner Commission: 5.0%)\n",
      "  - Base Reward after Pulse and Partner Commission: $1.72\n",
      "---------------------------------------------------\n",
      "Premium Reward Details:\n",
      "  - Extra Premium Reward: $1.83\n",
      "  - Total Premium Reward ( + Base ): $3.96\n",
      "  - Pulse Commission on Premium Reward: $0.59 (Pulse Commission: 15.00%)\n",
      "  - Partner Commission on Premium Reward: $0.20 (Partner Commission: 5.00%)\n",
      "  - Final Premium Reward (after Pulse and Partner Commissions): $3.20\n",
      "---------------------------------------------------\n",
      "Total Commissions Deducted:\n",
      "  - From Base Rewards (Pulse Commission): $420.00\n",
      "  - From Base Rewards (Partner Commission): $140.00\n",
      "  - From Premium Rewards (Pulse Commission): $180.00\n",
      "  - From Premium Rewards (Partner Commission): $60.00\n"
     ]
    }
   ],
   "source": [
    "class BudgetAllocation:\n",
    "    def __init__(self, total_budget, base_budget_percent, premium_budget_percent, abc_split, commission_type_1, commission_type_2):\n",
    "        self.total_budget = total_budget\n",
    "        self.base_percent = base_budget_percent\n",
    "        self.premium_percent = premium_budget_percent\n",
    "        self.abc_split = abc_split\n",
    "        self.commission_1 = commission_type_1\n",
    "        self.commission_2 = commission_type_2\n",
    "        self.df_path = '/Users/shadeer/Desktop/HOME/AI/PulseID/Notebook-instance/Shadeer/M1/ai-api/DataSources/Final_for_smart_pricing.csv'\n",
    "        self.customers = self.ABC_analysis_df()\n",
    "        self.redeemed_reward = 0\n",
    "\n",
    "    def ABC_analysis_df(self):\n",
    "        data = pd.read_csv(self.df_path, encoding='ISO-8859-1')\n",
    "        data_cleaned = data.dropna(subset=['Order Value'])\n",
    "        customer_order_totals = data_cleaned.groupby('UID')['Order Value'].sum()\n",
    "        data_cleaned = data_cleaned.drop_duplicates(subset='UID')\n",
    "        data_cleaned[\"total_spend\"] = customer_order_totals.values\n",
    "        df = data_cleaned\n",
    "        df['ABC_Category'] = pd.qcut(df['total_spend'], self.abc_split, labels=['C', 'B', 'A'], duplicates='drop')\n",
    "        df['is_premium'] = df['ABC_Category'].isin(['B', 'A'])\n",
    "        return df\n",
    "    \n",
    "    def calculate_rewards(self):\n",
    "        base_budget = self.total_budget * self.base_percent\n",
    "        premium_budget = self.total_budget * self.premium_percent\n",
    "        num_customers = len(self.customers)\n",
    "\n",
    "        # Calculate original rewards before commission\n",
    "        self.customers['original_base_reward'] = base_budget / num_customers\n",
    "        premium_customers = self.customers['is_premium'].sum()\n",
    "\n",
    "        self.customers['original_premium_reward'] = 0\n",
    "        if premium_customers > 0:\n",
    "            self.customers.loc[self.customers['is_premium'], 'original_premium_reward'] = premium_budget / premium_customers\n",
    "\n",
    "        # Calculate the total premium reward before applying any commission\n",
    "        self.customers['base_reward'] = self.customers['original_base_reward']  # Using original base reward without commission\n",
    "        self.customers['premium_reward'] = 0\n",
    "        if premium_customers > 0:\n",
    "            total_premium_reward = self.customers.loc[self.customers['is_premium'], 'original_premium_reward'] + self.customers.loc[self.customers['is_premium'], 'original_base_reward']\n",
    "            # Apply both commissions to the total premium reward\n",
    "            self.customers.loc[self.customers['is_premium'], 'premium_reward'] = total_premium_reward * (1 - self.commission_1 - self.commission_2)\n",
    "\n",
    "        self.customers['total_reward'] = self.customers['base_reward'] + self.customers['premium_reward']\n",
    "        self.total_base_commission = self.customers['original_base_reward'].sum() * self.commission_1\n",
    "        self.total_premium_commission = total_premium_reward.sum() * (self.commission_1 + self.commission_2) if premium_customers > 0 else 0\n",
    "\n",
    "\n",
    "\n",
    "\n",
    "    def plot_rewards(self):\n",
    "        plt.figure(figsize=(10, 6))\n",
    "        plt.hist(self.customers['total_reward'], bins=30, alpha=0.7, label='Total Reward')\n",
    "        plt.hist(self.customers['base_reward'], bins=30, alpha=0.7, label='Base Reward', color='r')\n",
    "        plt.title('Distribution of Rewards')\n",
    "        plt.xlabel('Reward Amount ($)')\n",
    "        plt.ylabel('Number of Customers')\n",
    "        plt.legend()\n",
    "        plt.show()\n",
    "\n",
    "    def summary(self):\n",
    "        print(f\"Total Budget: ${self.total_budget:.2f}\")\n",
    "        print(f\"Base Budget: ${self.total_budget * self.base_percent:.2f}\")\n",
    "        print(f\"Premium Budget: ${self.total_budget * self.premium_percent:.2f}\")\n",
    "        print(\"---------------------------------------------------\")\n",
    "        print(f\"Number of Premium Customers: {self.customers['is_premium'].sum()}\")\n",
    "        print(f\"Number of Total Unique Customers: {len(self.customers)}\")\n",
    "        print(\"---------------------------------------------------\")\n",
    "        print(f\"Base Reward: ${self.customers['original_base_reward'].mean():.2f}\")\n",
    "        print(f\"Reduced Commission from Base Reward : ${self.customers['original_base_reward'].mean() * (self.commission_1 + self.commission_2) :.2f}\")\n",
    "\n",
    "        print(f\"Base Reward Used for Premium Calculation: ${self.customers.loc[self.customers['is_premium'], 'original_base_reward'].mean() if self.customers['is_premium'].sum() > 0 else 0:.2f}\")\n",
    "\n",
    "        # Enhanced output for premium rewards\n",
    "        if 'original_premium_reward' in self.customers.columns and self.customers['is_premium'].sum() > 0:\n",
    "            print(\"Original Average Premium Reward (before adding base): ${:.2f}\".format(\n",
    "                self.customers.loc[self.customers['is_premium'], 'original_premium_reward'].mean()))\n",
    "            print(\"Total Average Premium Reward (before commission): ${:.2f}\".format(\n",
    "                (self.customers.loc[self.customers['is_premium'], 'original_premium_reward'] + self.customers.loc[self.customers['is_premium'], 'original_base_reward']).mean()))\n",
    "            print(\"Final Average Premium Reward (after commission): ${:.2f}\".format(\n",
    "                self.customers.loc[self.customers['is_premium'], 'premium_reward'].mean()))\n",
    "        else:\n",
    "            print(\"Original Average Premium Reward: $0.00\")\n",
    "            print(\"Total Average Premium Reward (before commission): $0.00\")\n",
    "            print(\"Final Average Premium Reward (after commission): $0.00\")\n",
    "\n",
    "        print(\"---------------------------------------------------\")\n",
    "        print(f\"Total Commission Deducted from Base Rewards: ${self.total_base_commission:.2f}\")\n",
    "        print(f\"Total Commission Deducted from Premium Rewards: ${self.total_premium_commission:.2f}\")\n",
    "        print(f\"Total Commission Deducted: ${self.total_base_commission + self.total_premium_commission:.2f}\")\n",
    "        print(\"---------------------------------------------------\")\n",
    "        \n",
    "    def detailed_summary(self):\n",
    "        original_base_reward_mean = self.customers['original_base_reward'].mean()\n",
    "        base_reward_after_commissions = original_base_reward_mean * (1 - self.commission_1) * (1 - self.commission_2)\n",
    "        \n",
    "        # Premium Reward details\n",
    "        premium_customers = self.customers[self.customers['is_premium']]\n",
    "        original_premium_reward_mean = premium_customers['original_premium_reward'].mean()\n",
    "        original_base_reward_mean = premium_customers['original_base_reward'].mean()\n",
    "        pulse_commission = self.commission_1\n",
    "        partner_commission = self.commission_2\n",
    "\n",
    "        # Calculate the Pulse commission on the premium reward\n",
    "        pulse_commission_on_premium = ( original_premium_reward_mean + original_base_reward_mean )  * pulse_commission\n",
    "\n",
    "        # Calculate the Partner commission on the premium reward\n",
    "        partner_commission_on_premium = ( original_premium_reward_mean + original_base_reward_mean ) * partner_commission\n",
    "\n",
    "        # Calculate the final premium reward after deducting both commissions\n",
    "        final_premium_reward_after_commissions =  ( original_premium_reward_mean + original_base_reward_mean ) * (1 - pulse_commission) * (1 - partner_commission)\n",
    "\n",
    "        print(f\"Total Budget: ${self.total_budget:.2f}\")\n",
    "        print(f\"Base Budget: ${self.total_budget * self.base_percent:.2f} ({self.base_percent * 100}% of total)\")\n",
    "        print(f\"Premium Budget: ${self.total_budget * self.premium_percent:.2f} ({self.premium_percent * 100 } % of total)\")\n",
    "        print(\"---------------------------------------------------\")\n",
    "        print(f\"Number of Total Unique Customers: {len(self.customers)}\")\n",
    "        print(f\"Number of Premium Customers: {self.customers['is_premium'].sum()}\")\n",
    "        print(\"---------------------------------------------------\")\n",
    "\n",
    "        # Base Reward details\n",
    "        print(\"Base Reward Details:\")\n",
    "        # (before Pulse Commission)\n",
    "        print(f\"  - Base Reward : ${self.customers['original_base_reward'].mean():.2f}\")\n",
    "        print(f\"  - Pulse Commission on Base Reward: ${self.customers['original_base_reward'].mean() * self.commission_1:.2f} (Pulse Commission: {self.commission_1*100}%)\")\n",
    "        print(f\"  - Partner Commission on Base Reward: ${self.customers['original_base_reward'].mean() * self.commission_2:.2f} (Partner Commission: {self.commission_2*100}%)\")\n",
    "        # print(f\"  - Base Reward after Pulse and Partner Commission: ${self.customers['base_reward'].mean():.2f}\")\n",
    "        print(f\"  - Base Reward after Pulse and Partner Commission: ${base_reward_after_commissions:.2f}\")\n",
    "\n",
    "        print(\"---------------------------------------------------\")\n",
    "\n",
    "        # Premium Reward details\n",
    "        if 'original_premium_reward' in self.customers.columns and self.customers['is_premium'].sum() > 0:\n",
    "            # Print the details\n",
    "            print(\"Premium Reward Details:\")\n",
    "            print(f\"  - Extra Premium Reward: ${original_premium_reward_mean:.2f}\")\n",
    "            print(f\"  - Total Premium Reward ( + Base ): ${original_premium_reward_mean + original_base_reward_mean:.2f}\")\n",
    "            print(f\"  - Pulse Commission on Premium Reward: ${pulse_commission_on_premium:.2f} (Pulse Commission: {pulse_commission * 100:.2f}%)\")\n",
    "            print(f\"  - Partner Commission on Premium Reward: ${partner_commission_on_premium:.2f} (Partner Commission: {partner_commission * 100:.2f}%)\")\n",
    "            print(f\"  - Final Premium Reward (after Pulse and Partner Commissions): ${final_premium_reward_after_commissions:.2f}\")\n",
    "        else:\n",
    "            print(\"Premium Reward Details:\")\n",
    "            print(\"  - No premium rewards calculated (No premium customers identified).\")\n",
    "\n",
    "        print(\"---------------------------------------------------\")\n",
    "        # Commission Summary\n",
    "        # print(f\"  - From Base Rewards (Pulse Commission): ${ (self.total_budget * self.base_percent ) * self.commission_1:.2f}\")\n",
    "        # print(f\"  - From Base Rewards (Partner Commission): ${ (self.total_budget * self.base_percent ) * self.commission_2:.2f}\")\n",
    "\n",
    "        # print(f\"  - From Premium Rewards (Pulse Commission): ${ (self.total_budget * self.premium_percent ) * self.commission_1:.2f}\")\n",
    "        # print(f\"  - From Premium Rewards (Partner Commission): ${ (self.total_budget * self.premium_percent ) * self.commission_2:.2f}\")\n",
    " \n",
    "        # # print(f\"  - From Premium Rewards (Pulse Commission): ${self.total_budget * self.commission_2:.2f}\")\n",
    "        # # print(f\"  - From Base Rewards (Pulse Commission): ${self.total_base_commission:.2f}\")\n",
    "        # # print(f\"  - From Premiumn Rewards (Pulse Commission): ${self.total_base_commission:.2f}\")\n",
    "\n",
    "        # print(f\"  - Total Commission Deducted: ${self.total_base_commission + self.total_premium_commission:.2f}\")\n",
    "        \n",
    "        pulse_base_reward = (self.total_budget * self.base_percent) * self.commission_1\n",
    "        partner_base_reward = (self.total_budget * self.base_percent) * self.commission_2\n",
    "        pulse_premium_reward = (self.total_budget * self.premium_percent) * self.commission_1\n",
    "        partner_premium_reward = (self.total_budget * self.premium_percent) * self.commission_2\n",
    "\n",
    "        # Print individual commission details\n",
    "        print(\"Total Commissions Deducted:\")\n",
    "        print(f\"  - From Base Rewards (Pulse Commission): ${pulse_base_reward:.2f}\")\n",
    "        print(f\"  - From Base Rewards (Partner Commission): ${partner_base_reward:.2f}\")\n",
    "        print(f\"  - From Premium Rewards (Pulse Commission): ${pulse_premium_reward:.2f}\")\n",
    "        print(f\"  - From Premium Rewards (Partner Commission): ${partner_premium_reward:.2f}\")\n",
    "\n",
    "        # Calculate and print the total commission\n",
    "        total_commission = pulse_base_reward + partner_base_reward + pulse_premium_reward + partner_premium_reward\n",
    "\n",
    "\n",
    "\n",
    "\n",
    "ba = BudgetAllocation(\n",
    "    total_budget=6000,\n",
    "    base_budget_percent=0.7,\n",
    "    premium_budget_percent=0.3,\n",
    "    abc_split=[0, 0.5, 0.8, 1],\n",
    "    commission_type_1=0.15, \n",
    "    commission_type_2=0.05  \n",
    ")\n",
    "\n",
    "ba.calculate_rewards()\n",
    "ba.detailed_summary()\n"
   ]
  },
  {
   "cell_type": "code",
   "execution_count": null,
   "metadata": {},
   "outputs": [],
   "source": []
  },
  {
   "cell_type": "code",
   "execution_count": null,
   "metadata": {},
   "outputs": [],
   "source": []
  },
  {
   "cell_type": "code",
   "execution_count": null,
   "metadata": {},
   "outputs": [],
   "source": []
  },
  {
   "cell_type": "code",
   "execution_count": null,
   "metadata": {},
   "outputs": [],
   "source": []
  },
  {
   "cell_type": "code",
   "execution_count": null,
   "metadata": {},
   "outputs": [],
   "source": []
  },
  {
   "cell_type": "code",
   "execution_count": null,
   "metadata": {},
   "outputs": [],
   "source": []
  },
  {
   "cell_type": "code",
   "execution_count": null,
   "metadata": {},
   "outputs": [],
   "source": []
  },
  {
   "cell_type": "markdown",
   "metadata": {},
   "source": [
    "## Redemption"
   ]
  },
  {
   "cell_type": "code",
   "execution_count": null,
   "metadata": {},
   "outputs": [],
   "source": [
    "  \n",
    "  \n",
    "    # def redemption(self, minimum_spent, reward_premium, base_reward):\n",
    "    #     import pandas as pd\n",
    "    #     df = self.ABC_analysis_df()\n",
    "    #     order_value = df['Order Value']\n",
    "        \n",
    "    #     is_prem = df[df['is_premium']== True].shape[0]\n",
    "    #     is_prem_claimed = df[(df['is_premium']== True) & (order_value > minimum_spent)].shape[0]\n",
    "    #     is_base_claimed = df[(df['is_premium']== False) & (order_value > minimum_spent)].shape[0]\n",
    "\n",
    "    #     total_reward = (is_prem_claimed * reward_premium) + (is_base_claimed * base_reward)\n",
    "    #     self.redeemed_amount += total_reward\n",
    "    #     self.total_budget -= self.redeemed_amount  # Update the total budget\n",
    "\n",
    "    #     print(f\"Redemption Summary:\")\n",
    "    #     print(f\"Total Premium Customers: {is_prem}\")\n",
    "    #     print(f\"Premium Customers Claimed: {is_prem_claimed}\")\n",
    "    #     print(f\"Base Customers Claimed: {is_base_claimed}\")\n",
    "    #     print(f\"Total Reward: {total_reward}\")\n",
    "    #     print(f\"Remaining Budget: {self.total_budget}\")\n",
    "    #     print(f\"---------------------------------------\")"
   ]
  },
  {
   "cell_type": "code",
   "execution_count": 24,
   "metadata": {},
   "outputs": [],
   "source": [
    "# minimum_spent = 20\n",
    "# budget = 2000\n",
    "# reduced_budget = 1200\n",
    "\n",
    "\n",
    "# BA = BudgetAllocation( total_budget=reduced_budget, base_budget_percent=0.7, premium_budget_percent=0.3, abc_split=[0, 0.5, 0.8, 1])\n",
    "# BA.calculate_rewards()\n",
    "# BA.summary()\n"
   ]
  },
  {
   "cell_type": "code",
   "execution_count": 48,
   "metadata": {},
   "outputs": [
    {
     "name": "stdout",
     "output_type": "stream",
     "text": [
      "Redemption Summary:\n",
      "Total Premium Customers: 656\n",
      "Premium Customers Claimed: 204\n",
      "Base Customers Claimed: 207\n",
      "Total Reward: 625.614\n",
      "---------------------------------------\n",
      "Total Budget: $1374.386\n",
      "Base Budget: $962.0701999999999\n",
      "Premium Budget: $412.31579999999997\n",
      "--------------------------------------------\n",
      "Number of Premium Customers: 656\n",
      "Number of Total Unique Customers: 1312\n",
      "--------------------------------------------\n",
      "Base Reward: $0.73\n",
      "Extra value for Premium Customer: $0.63\n",
      "Total Premium Reward: $1.3618153963414632\n",
      "____________REDEMPTION)__)_______________________\n",
      "Redemption Summary:\n",
      "Total Premium Customers: 656\n",
      "Premium Customers Claimed: 204\n",
      "Base Customers Claimed: 207\n",
      "Total Reward: 625.614\n",
      "---------------------------------------\n"
     ]
    },
    {
     "data": {
      "text/plain": [
       "(656, 204, 207, 625.614)"
      ]
     },
     "execution_count": 48,
     "metadata": {},
     "output_type": "execute_result"
    }
   ],
   "source": [
    "# df = BA.ABC_analysis_df()\n",
    "\n",
    "# # budget = 2000\n",
    "# minimum_spent = 20\n",
    "# reward_premium = 1.981\n",
    "# base_reward = 1.07\n",
    "# budget = 2000\n",
    "\n",
    "# def redemption():\n",
    "#     df = BA.ABC_analysis_df()\n",
    "#     order_value = df['Order Value']\n",
    "    \n",
    "#     is_prem = df[df['is_premium']== True].shape[0]\n",
    "#     is_prem_claimed = df[(df['is_premium']== True) & (order_value > minimum_spent)].shape[0]\n",
    "#     is_base_claimed = df[(df['is_premium']== False) & (order_value > minimum_spent)].shape[0]\n",
    "\n",
    "#     total_reward = (is_prem_claimed * reward_premium) + (is_base_claimed * base_reward)\n",
    "#     print(f\"Redemption Summary:\")\n",
    "#     print(f\"Total Premium Customers: {is_prem}\")\n",
    "#     print(f\"Premium Customers Claimed: {is_prem_claimed}\")\n",
    "#     print(f\"Base Customers Claimed: {is_base_claimed}\")\n",
    "#     print(f\"Total Reward: {total_reward}\")\n",
    "#     print(f\"---------------------------------------\")\n",
    "#     return is_prem, is_prem_claimed, is_base_claimed, total_reward\n",
    "    \n",
    "    \n",
    "# is_prem, is_prem_claimed, is_base_claimed, total_reward = redemption()\n",
    "\n",
    "# new_budget = budget - total_reward\n",
    "# BA = BudgetAllocation( total_budget=new_budget, base_budget_percent=0.7,\n",
    "#                                  premium_budget_percent=0.3, abc_split=[0, 0.5, 0.8, 1])\n",
    "\n",
    "# BA.calculate_rewards()\n",
    "# BA.summary()\n",
    "# print(\"____________REDEMPTION)__)_______________________\")\n",
    "\n",
    "# BA.redemption2(minimum_spent, reward_premium, base_reward)"
   ]
  },
  {
   "cell_type": "code",
   "execution_count": null,
   "metadata": {},
   "outputs": [],
   "source": []
  },
  {
   "cell_type": "code",
   "execution_count": 82,
   "metadata": {},
   "outputs": [
    {
     "name": "stdout",
     "output_type": "stream",
     "text": [
      "Total Budget: $2000\n",
      "Base Budget: $1400.0\n",
      "Premium Budget: $600.0\n",
      "--------------------------------------------\n",
      "Number of Premium Customers: 656\n",
      "Number of Total Unique Customers: 1312\n",
      "--------------------------------------------\n",
      "Base Reward: $1.07\n",
      "Extra value for Premium Customer: $0.91\n",
      "Total Premium Reward: $1.981707317073171\n"
     ]
    }
   ],
   "source": [
    "INITIAL_BUDGET = 2000\n",
    "BA = BudgetAllocation( total_budget=INITIAL_BUDGET, base_budget_percent=0.7,\n",
    "                                 premium_budget_percent=0.3, abc_split=[0, 0.5, 0.8, 1])\n",
    "\n",
    "BA.calculate_rewards()\n",
    "BA.summary()"
   ]
  },
  {
   "cell_type": "code",
   "execution_count": 83,
   "metadata": {},
   "outputs": [],
   "source": [
    "base_reward = 1.07\n",
    "reward_premium = 1.981"
   ]
  },
  {
   "cell_type": "code",
   "execution_count": 84,
   "metadata": {},
   "outputs": [
    {
     "name": "stdout",
     "output_type": "stream",
     "text": [
      "Redemption Summary:\n",
      "Total Premium Customers: 656\n",
      "Premium Customers Claimed: 106\n",
      "Base Customers Claimed: 113\n",
      "Total Reward: 330.896\n",
      "---------------------------------------\n",
      "total redeemed reward 330.896\n",
      "remaining budget 1669.104\n"
     ]
    }
   ],
   "source": [
    "# First round\n",
    "minimum_spent = 40\n",
    "BA.redemption2(minimum_spent, reward_premium, base_reward)\n",
    "print(\"total redeemed reward\", BA.redeemed_reward )\n",
    "print(\"remaining budget\", BA.total_budget - BA.redeemed_reward )"
   ]
  },
  {
   "cell_type": "code",
   "execution_count": 85,
   "metadata": {},
   "outputs": [
    {
     "name": "stdout",
     "output_type": "stream",
     "text": [
      "Redemption Summary:\n",
      "Total Premium Customers: 656\n",
      "Premium Customers Claimed: 106\n",
      "Base Customers Claimed: 113\n",
      "Total Reward: 330.896\n",
      "---------------------------------------\n",
      "total redeemed reward 661.792\n",
      "remaining budget 1338.208\n"
     ]
    }
   ],
   "source": [
    "# second round\n",
    "minimum_spent = 40\n",
    "BA.redemption2(minimum_spent, reward_premium, base_reward)\n",
    "print(\"total redeemed reward\", BA.redeemed_reward )\n",
    "print(\"remaining budget\", BA.total_budget - BA.redeemed_reward )"
   ]
  },
  {
   "cell_type": "code",
   "execution_count": 86,
   "metadata": {},
   "outputs": [
    {
     "name": "stdout",
     "output_type": "stream",
     "text": [
      "Redemption Summary:\n",
      "Total Premium Customers: 656\n",
      "Premium Customers Claimed: 106\n",
      "Base Customers Claimed: 113\n",
      "Total Reward: 330.896\n",
      "---------------------------------------\n",
      "total redeemed reward 992.6880000000001\n",
      "remaining budget 1007.3119999999999\n"
     ]
    }
   ],
   "source": [
    "# Third round\n",
    "minimum_spent = 40\n",
    "BA.redemption2(minimum_spent, reward_premium, base_reward)\n",
    "print(\"total redeemed reward\", BA.redeemed_reward )\n",
    "print(\"remaining budget\", BA.total_budget - BA.redeemed_reward )"
   ]
  },
  {
   "cell_type": "code",
   "execution_count": null,
   "metadata": {},
   "outputs": [],
   "source": []
  },
  {
   "cell_type": "code",
   "execution_count": null,
   "metadata": {},
   "outputs": [],
   "source": []
  },
  {
   "cell_type": "code",
   "execution_count": 47,
   "metadata": {},
   "outputs": [
    {
     "name": "stdout",
     "output_type": "stream",
     "text": [
      "Redemption Summary:\n",
      "Total Premium Customers: 656\n",
      "Premium Customers Claimed: 65\n",
      "Base Customers Claimed: 75\n",
      "Total Reward: 209.01500000000001\n",
      "---------------------------------------\n",
      "Total Budget: $1790.985\n",
      "Base Budget: $1253.6895\n",
      "Premium Budget: $537.2955\n",
      "--------------------------------------------\n",
      "Number of Premium Customers: 656\n",
      "Number of Total Unique Customers: 1312\n",
      "--------------------------------------------\n",
      "Base Reward: $0.96\n",
      "Extra value for Premium Customer: $0.82\n",
      "Total Premium Reward: $1.7746040396341463\n",
      "Redemption Summary:\n",
      "Total Premium Customers: 656\n",
      "Premium Customers Claimed: 65\n",
      "Base Customers Claimed: 75\n",
      "Total Reward: 209.01500000000001\n",
      "---------------------------------------\n"
     ]
    },
    {
     "data": {
      "text/plain": [
       "(656, 65, 75, 209.01500000000001)"
      ]
     },
     "execution_count": 47,
     "metadata": {},
     "output_type": "execute_result"
    }
   ],
   "source": [
    "is_prem, is_prem_claimed, is_base_claimed, total_reward = redemption()\n",
    "\n",
    "new_budget = budget - total_reward\n",
    "BA = BudgetAllocation( total_budget=new_budget, base_budget_percent=0.7,\n",
    "                                 premium_budget_percent=0.3, abc_split=[0, 0.5, 0.8, 1])\n",
    "\n",
    "BA.calculate_rewards()\n",
    "BA.summary()\n",
    "BA.redemption2(minimum_spent, reward_premium, base_reward)"
   ]
  },
  {
   "cell_type": "markdown",
   "metadata": {},
   "source": [
    "### Plotting Minimums with Redeeming value"
   ]
  },
  {
   "cell_type": "code",
   "execution_count": null,
   "metadata": {},
   "outputs": [],
   "source": []
  },
  {
   "cell_type": "code",
   "execution_count": 12,
   "metadata": {},
   "outputs": [
    {
     "data": {
      "application/vnd.plotly.v1+json": {
       "config": {
        "plotlyServerURL": "https://plot.ly"
       },
       "data": [
        {
         "hoverinfo": "text",
         "hovertemplate": "Minimum Spent ($)=%{x}<br>Total Reward ($)=%{y}<extra></extra>",
         "legendgroup": "",
         "line": {
          "color": "#636efa",
          "dash": "solid"
         },
         "marker": {
          "symbol": "circle"
         },
         "mode": "lines+markers",
         "name": "",
         "orientation": "v",
         "showlegend": false,
         "text": [
          "Premium Claims: 656<br>Base Claims: 656",
          "Premium Claims: 356<br>Base Claims: 356",
          "Premium Claims: 204<br>Base Claims: 207",
          "Premium Claims: 133<br>Base Claims: 152",
          "Premium Claims: 106<br>Base Claims: 113",
          "Premium Claims: 82<br>Base Claims: 89",
          "Premium Claims: 65<br>Base Claims: 75",
          "Premium Claims: 52<br>Base Claims: 63",
          "Premium Claims: 45<br>Base Claims: 54",
          "Premium Claims: 41<br>Base Claims: 45",
          "Premium Claims: 38<br>Base Claims: 38",
          "Premium Claims: 37<br>Base Claims: 32",
          "Premium Claims: 35<br>Base Claims: 30",
          "Premium Claims: 32<br>Base Claims: 28",
          "Premium Claims: 30<br>Base Claims: 26",
          "Premium Claims: 26<br>Base Claims: 23",
          "Premium Claims: 25<br>Base Claims: 22",
          "Premium Claims: 23<br>Base Claims: 20",
          "Premium Claims: 23<br>Base Claims: 16",
          "Premium Claims: 19<br>Base Claims: 16",
          "Premium Claims: 16<br>Base Claims: 16",
          "Premium Claims: 16<br>Base Claims: 12",
          "Premium Claims: 15<br>Base Claims: 12",
          "Premium Claims: 14<br>Base Claims: 11",
          "Premium Claims: 13<br>Base Claims: 10",
          "Premium Claims: 13<br>Base Claims: 10",
          "Premium Claims: 13<br>Base Claims: 9",
          "Premium Claims: 13<br>Base Claims: 9",
          "Premium Claims: 13<br>Base Claims: 8",
          "Premium Claims: 13<br>Base Claims: 7",
          "Premium Claims: 12<br>Base Claims: 7",
          "Premium Claims: 12<br>Base Claims: 7",
          "Premium Claims: 10<br>Base Claims: 7",
          "Premium Claims: 9<br>Base Claims: 7",
          "Premium Claims: 9<br>Base Claims: 7",
          "Premium Claims: 9<br>Base Claims: 7",
          "Premium Claims: 7<br>Base Claims: 7",
          "Premium Claims: 6<br>Base Claims: 7",
          "Premium Claims: 5<br>Base Claims: 7",
          "Premium Claims: 5<br>Base Claims: 6",
          "Premium Claims: 4<br>Base Claims: 4",
          "Premium Claims: 4<br>Base Claims: 4",
          "Premium Claims: 4<br>Base Claims: 4",
          "Premium Claims: 4<br>Base Claims: 4",
          "Premium Claims: 3<br>Base Claims: 4",
          "Premium Claims: 3<br>Base Claims: 4",
          "Premium Claims: 3<br>Base Claims: 4",
          "Premium Claims: 3<br>Base Claims: 4",
          "Premium Claims: 3<br>Base Claims: 4",
          "Premium Claims: 2<br>Base Claims: 4"
         ],
         "type": "scatter",
         "x": [
          0,
          10,
          20,
          30,
          40,
          50,
          60,
          70,
          80,
          90,
          100,
          110,
          120,
          130,
          140,
          150,
          160,
          170,
          180,
          190,
          200,
          210,
          220,
          230,
          240,
          250,
          260,
          270,
          280,
          290,
          300,
          310,
          320,
          330,
          340,
          350,
          360,
          370,
          380,
          390,
          400,
          410,
          420,
          430,
          440,
          450,
          460,
          470,
          480,
          490
         ],
         "xaxis": "x",
         "y": [
          2001.4560000000001,
          1086.156,
          625.614,
          426.11300000000006,
          330.896,
          257.672,
          209.01500000000001,
          170.42200000000003,
          146.925,
          129.371,
          115.93800000000002,
          107.537,
          101.435,
          93.352,
          87.25,
          76.116,
          73.06500000000001,
          66.96300000000001,
          62.68300000000001,
          54.759,
          48.816,
          44.536,
          42.555,
          39.504000000000005,
          36.453,
          36.453,
          35.383,
          35.383,
          34.313,
          33.243,
          31.262,
          31.262,
          27.300000000000004,
          25.319000000000003,
          25.319000000000003,
          25.319000000000003,
          21.357,
          19.376,
          17.395000000000003,
          16.325000000000003,
          12.204,
          12.204,
          12.204,
          12.204,
          10.223,
          10.223,
          10.223,
          10.223,
          10.223,
          8.242
         ],
         "yaxis": "y"
        }
       ],
       "layout": {
        "legend": {
         "tracegroupgap": 0
        },
        "template": {
         "data": {
          "bar": [
           {
            "error_x": {
             "color": "#2a3f5f"
            },
            "error_y": {
             "color": "#2a3f5f"
            },
            "marker": {
             "line": {
              "color": "#E5ECF6",
              "width": 0.5
             },
             "pattern": {
              "fillmode": "overlay",
              "size": 10,
              "solidity": 0.2
             }
            },
            "type": "bar"
           }
          ],
          "barpolar": [
           {
            "marker": {
             "line": {
              "color": "#E5ECF6",
              "width": 0.5
             },
             "pattern": {
              "fillmode": "overlay",
              "size": 10,
              "solidity": 0.2
             }
            },
            "type": "barpolar"
           }
          ],
          "carpet": [
           {
            "aaxis": {
             "endlinecolor": "#2a3f5f",
             "gridcolor": "white",
             "linecolor": "white",
             "minorgridcolor": "white",
             "startlinecolor": "#2a3f5f"
            },
            "baxis": {
             "endlinecolor": "#2a3f5f",
             "gridcolor": "white",
             "linecolor": "white",
             "minorgridcolor": "white",
             "startlinecolor": "#2a3f5f"
            },
            "type": "carpet"
           }
          ],
          "choropleth": [
           {
            "colorbar": {
             "outlinewidth": 0,
             "ticks": ""
            },
            "type": "choropleth"
           }
          ],
          "contour": [
           {
            "colorbar": {
             "outlinewidth": 0,
             "ticks": ""
            },
            "colorscale": [
             [
              0,
              "#0d0887"
             ],
             [
              0.1111111111111111,
              "#46039f"
             ],
             [
              0.2222222222222222,
              "#7201a8"
             ],
             [
              0.3333333333333333,
              "#9c179e"
             ],
             [
              0.4444444444444444,
              "#bd3786"
             ],
             [
              0.5555555555555556,
              "#d8576b"
             ],
             [
              0.6666666666666666,
              "#ed7953"
             ],
             [
              0.7777777777777778,
              "#fb9f3a"
             ],
             [
              0.8888888888888888,
              "#fdca26"
             ],
             [
              1,
              "#f0f921"
             ]
            ],
            "type": "contour"
           }
          ],
          "contourcarpet": [
           {
            "colorbar": {
             "outlinewidth": 0,
             "ticks": ""
            },
            "type": "contourcarpet"
           }
          ],
          "heatmap": [
           {
            "colorbar": {
             "outlinewidth": 0,
             "ticks": ""
            },
            "colorscale": [
             [
              0,
              "#0d0887"
             ],
             [
              0.1111111111111111,
              "#46039f"
             ],
             [
              0.2222222222222222,
              "#7201a8"
             ],
             [
              0.3333333333333333,
              "#9c179e"
             ],
             [
              0.4444444444444444,
              "#bd3786"
             ],
             [
              0.5555555555555556,
              "#d8576b"
             ],
             [
              0.6666666666666666,
              "#ed7953"
             ],
             [
              0.7777777777777778,
              "#fb9f3a"
             ],
             [
              0.8888888888888888,
              "#fdca26"
             ],
             [
              1,
              "#f0f921"
             ]
            ],
            "type": "heatmap"
           }
          ],
          "heatmapgl": [
           {
            "colorbar": {
             "outlinewidth": 0,
             "ticks": ""
            },
            "colorscale": [
             [
              0,
              "#0d0887"
             ],
             [
              0.1111111111111111,
              "#46039f"
             ],
             [
              0.2222222222222222,
              "#7201a8"
             ],
             [
              0.3333333333333333,
              "#9c179e"
             ],
             [
              0.4444444444444444,
              "#bd3786"
             ],
             [
              0.5555555555555556,
              "#d8576b"
             ],
             [
              0.6666666666666666,
              "#ed7953"
             ],
             [
              0.7777777777777778,
              "#fb9f3a"
             ],
             [
              0.8888888888888888,
              "#fdca26"
             ],
             [
              1,
              "#f0f921"
             ]
            ],
            "type": "heatmapgl"
           }
          ],
          "histogram": [
           {
            "marker": {
             "pattern": {
              "fillmode": "overlay",
              "size": 10,
              "solidity": 0.2
             }
            },
            "type": "histogram"
           }
          ],
          "histogram2d": [
           {
            "colorbar": {
             "outlinewidth": 0,
             "ticks": ""
            },
            "colorscale": [
             [
              0,
              "#0d0887"
             ],
             [
              0.1111111111111111,
              "#46039f"
             ],
             [
              0.2222222222222222,
              "#7201a8"
             ],
             [
              0.3333333333333333,
              "#9c179e"
             ],
             [
              0.4444444444444444,
              "#bd3786"
             ],
             [
              0.5555555555555556,
              "#d8576b"
             ],
             [
              0.6666666666666666,
              "#ed7953"
             ],
             [
              0.7777777777777778,
              "#fb9f3a"
             ],
             [
              0.8888888888888888,
              "#fdca26"
             ],
             [
              1,
              "#f0f921"
             ]
            ],
            "type": "histogram2d"
           }
          ],
          "histogram2dcontour": [
           {
            "colorbar": {
             "outlinewidth": 0,
             "ticks": ""
            },
            "colorscale": [
             [
              0,
              "#0d0887"
             ],
             [
              0.1111111111111111,
              "#46039f"
             ],
             [
              0.2222222222222222,
              "#7201a8"
             ],
             [
              0.3333333333333333,
              "#9c179e"
             ],
             [
              0.4444444444444444,
              "#bd3786"
             ],
             [
              0.5555555555555556,
              "#d8576b"
             ],
             [
              0.6666666666666666,
              "#ed7953"
             ],
             [
              0.7777777777777778,
              "#fb9f3a"
             ],
             [
              0.8888888888888888,
              "#fdca26"
             ],
             [
              1,
              "#f0f921"
             ]
            ],
            "type": "histogram2dcontour"
           }
          ],
          "mesh3d": [
           {
            "colorbar": {
             "outlinewidth": 0,
             "ticks": ""
            },
            "type": "mesh3d"
           }
          ],
          "parcoords": [
           {
            "line": {
             "colorbar": {
              "outlinewidth": 0,
              "ticks": ""
             }
            },
            "type": "parcoords"
           }
          ],
          "pie": [
           {
            "automargin": true,
            "type": "pie"
           }
          ],
          "scatter": [
           {
            "fillpattern": {
             "fillmode": "overlay",
             "size": 10,
             "solidity": 0.2
            },
            "type": "scatter"
           }
          ],
          "scatter3d": [
           {
            "line": {
             "colorbar": {
              "outlinewidth": 0,
              "ticks": ""
             }
            },
            "marker": {
             "colorbar": {
              "outlinewidth": 0,
              "ticks": ""
             }
            },
            "type": "scatter3d"
           }
          ],
          "scattercarpet": [
           {
            "marker": {
             "colorbar": {
              "outlinewidth": 0,
              "ticks": ""
             }
            },
            "type": "scattercarpet"
           }
          ],
          "scattergeo": [
           {
            "marker": {
             "colorbar": {
              "outlinewidth": 0,
              "ticks": ""
             }
            },
            "type": "scattergeo"
           }
          ],
          "scattergl": [
           {
            "marker": {
             "colorbar": {
              "outlinewidth": 0,
              "ticks": ""
             }
            },
            "type": "scattergl"
           }
          ],
          "scattermapbox": [
           {
            "marker": {
             "colorbar": {
              "outlinewidth": 0,
              "ticks": ""
             }
            },
            "type": "scattermapbox"
           }
          ],
          "scatterpolar": [
           {
            "marker": {
             "colorbar": {
              "outlinewidth": 0,
              "ticks": ""
             }
            },
            "type": "scatterpolar"
           }
          ],
          "scatterpolargl": [
           {
            "marker": {
             "colorbar": {
              "outlinewidth": 0,
              "ticks": ""
             }
            },
            "type": "scatterpolargl"
           }
          ],
          "scatterternary": [
           {
            "marker": {
             "colorbar": {
              "outlinewidth": 0,
              "ticks": ""
             }
            },
            "type": "scatterternary"
           }
          ],
          "surface": [
           {
            "colorbar": {
             "outlinewidth": 0,
             "ticks": ""
            },
            "colorscale": [
             [
              0,
              "#0d0887"
             ],
             [
              0.1111111111111111,
              "#46039f"
             ],
             [
              0.2222222222222222,
              "#7201a8"
             ],
             [
              0.3333333333333333,
              "#9c179e"
             ],
             [
              0.4444444444444444,
              "#bd3786"
             ],
             [
              0.5555555555555556,
              "#d8576b"
             ],
             [
              0.6666666666666666,
              "#ed7953"
             ],
             [
              0.7777777777777778,
              "#fb9f3a"
             ],
             [
              0.8888888888888888,
              "#fdca26"
             ],
             [
              1,
              "#f0f921"
             ]
            ],
            "type": "surface"
           }
          ],
          "table": [
           {
            "cells": {
             "fill": {
              "color": "#EBF0F8"
             },
             "line": {
              "color": "white"
             }
            },
            "header": {
             "fill": {
              "color": "#C8D4E3"
             },
             "line": {
              "color": "white"
             }
            },
            "type": "table"
           }
          ]
         },
         "layout": {
          "annotationdefaults": {
           "arrowcolor": "#2a3f5f",
           "arrowhead": 0,
           "arrowwidth": 1
          },
          "autotypenumbers": "strict",
          "coloraxis": {
           "colorbar": {
            "outlinewidth": 0,
            "ticks": ""
           }
          },
          "colorscale": {
           "diverging": [
            [
             0,
             "#8e0152"
            ],
            [
             0.1,
             "#c51b7d"
            ],
            [
             0.2,
             "#de77ae"
            ],
            [
             0.3,
             "#f1b6da"
            ],
            [
             0.4,
             "#fde0ef"
            ],
            [
             0.5,
             "#f7f7f7"
            ],
            [
             0.6,
             "#e6f5d0"
            ],
            [
             0.7,
             "#b8e186"
            ],
            [
             0.8,
             "#7fbc41"
            ],
            [
             0.9,
             "#4d9221"
            ],
            [
             1,
             "#276419"
            ]
           ],
           "sequential": [
            [
             0,
             "#0d0887"
            ],
            [
             0.1111111111111111,
             "#46039f"
            ],
            [
             0.2222222222222222,
             "#7201a8"
            ],
            [
             0.3333333333333333,
             "#9c179e"
            ],
            [
             0.4444444444444444,
             "#bd3786"
            ],
            [
             0.5555555555555556,
             "#d8576b"
            ],
            [
             0.6666666666666666,
             "#ed7953"
            ],
            [
             0.7777777777777778,
             "#fb9f3a"
            ],
            [
             0.8888888888888888,
             "#fdca26"
            ],
            [
             1,
             "#f0f921"
            ]
           ],
           "sequentialminus": [
            [
             0,
             "#0d0887"
            ],
            [
             0.1111111111111111,
             "#46039f"
            ],
            [
             0.2222222222222222,
             "#7201a8"
            ],
            [
             0.3333333333333333,
             "#9c179e"
            ],
            [
             0.4444444444444444,
             "#bd3786"
            ],
            [
             0.5555555555555556,
             "#d8576b"
            ],
            [
             0.6666666666666666,
             "#ed7953"
            ],
            [
             0.7777777777777778,
             "#fb9f3a"
            ],
            [
             0.8888888888888888,
             "#fdca26"
            ],
            [
             1,
             "#f0f921"
            ]
           ]
          },
          "colorway": [
           "#636efa",
           "#EF553B",
           "#00cc96",
           "#ab63fa",
           "#FFA15A",
           "#19d3f3",
           "#FF6692",
           "#B6E880",
           "#FF97FF",
           "#FECB52"
          ],
          "font": {
           "color": "#2a3f5f"
          },
          "geo": {
           "bgcolor": "white",
           "lakecolor": "white",
           "landcolor": "#E5ECF6",
           "showlakes": true,
           "showland": true,
           "subunitcolor": "white"
          },
          "hoverlabel": {
           "align": "left"
          },
          "hovermode": "closest",
          "mapbox": {
           "style": "light"
          },
          "paper_bgcolor": "white",
          "plot_bgcolor": "#E5ECF6",
          "polar": {
           "angularaxis": {
            "gridcolor": "white",
            "linecolor": "white",
            "ticks": ""
           },
           "bgcolor": "#E5ECF6",
           "radialaxis": {
            "gridcolor": "white",
            "linecolor": "white",
            "ticks": ""
           }
          },
          "scene": {
           "xaxis": {
            "backgroundcolor": "#E5ECF6",
            "gridcolor": "white",
            "gridwidth": 2,
            "linecolor": "white",
            "showbackground": true,
            "ticks": "",
            "zerolinecolor": "white"
           },
           "yaxis": {
            "backgroundcolor": "#E5ECF6",
            "gridcolor": "white",
            "gridwidth": 2,
            "linecolor": "white",
            "showbackground": true,
            "ticks": "",
            "zerolinecolor": "white"
           },
           "zaxis": {
            "backgroundcolor": "#E5ECF6",
            "gridcolor": "white",
            "gridwidth": 2,
            "linecolor": "white",
            "showbackground": true,
            "ticks": "",
            "zerolinecolor": "white"
           }
          },
          "shapedefaults": {
           "line": {
            "color": "#2a3f5f"
           }
          },
          "ternary": {
           "aaxis": {
            "gridcolor": "white",
            "linecolor": "white",
            "ticks": ""
           },
           "baxis": {
            "gridcolor": "white",
            "linecolor": "white",
            "ticks": ""
           },
           "bgcolor": "#E5ECF6",
           "caxis": {
            "gridcolor": "white",
            "linecolor": "white",
            "ticks": ""
           }
          },
          "title": {
           "x": 0.05
          },
          "xaxis": {
           "automargin": true,
           "gridcolor": "white",
           "linecolor": "white",
           "ticks": "",
           "title": {
            "standoff": 15
           },
           "zerolinecolor": "white",
           "zerolinewidth": 2
          },
          "yaxis": {
           "automargin": true,
           "gridcolor": "white",
           "linecolor": "white",
           "ticks": "",
           "title": {
            "standoff": 15
           },
           "zerolinecolor": "white",
           "zerolinewidth": 2
          }
         }
        },
        "title": {
         "text": "Impact of Minimum Spent on Total Rewards"
        },
        "xaxis": {
         "anchor": "y",
         "domain": [
          0,
          1
         ],
         "title": {
          "text": "Minimum Spent ($)"
         }
        },
        "yaxis": {
         "anchor": "x",
         "domain": [
          0,
          1
         ],
         "title": {
          "text": "Total Reward ($)"
         }
        }
       }
      }
     },
     "metadata": {},
     "output_type": "display_data"
    }
   ],
   "source": [
    "# Plotting Redemption\n",
    "\n",
    "import pandas as pd\n",
    "import plotly.express as px\n",
    "\n",
    "# Assuming BA.ABC_analysis_df() returns your DataFrame\n",
    "df = BA.ABC_analysis_df()\n",
    "\n",
    "reward_premium = 1.981\n",
    "base_reward = 1.07\n",
    "\n",
    "def compute_reward(min_spent):\n",
    "    order_value = df['Order Value']\n",
    "    \n",
    "    is_prem_claimed = df[(df['is_premium'] == True) & (order_value > min_spent)].shape[0]\n",
    "    is_base_claimed = df[(df['is_premium'] == False) & (order_value > min_spent)].shape[0]\n",
    "\n",
    "    total_reward = (is_prem_claimed * reward_premium) + (is_base_claimed * base_reward)\n",
    "    \n",
    "    return total_reward, is_prem_claimed, is_base_claimed\n",
    "\n",
    "# Simulate different minimum spent values\n",
    "min_spent_values = range(0, 500, 10)  # Adjust the range and step as needed\n",
    "results = [compute_reward(min_spent) for min_spent in min_spent_values]\n",
    "\n",
    "# Create a DataFrame to store the results and additional data for hovering\n",
    "results_df = pd.DataFrame({\n",
    "    'Minimum Spent': min_spent_values,\n",
    "    'Total Reward': [result[0] for result in results],\n",
    "    'Premium Claims': [result[1] for result in results],\n",
    "    'Base Claims': [result[2] for result in results]\n",
    "})\n",
    "\n",
    "# Create an interactive plot\n",
    "fig = px.line(results_df, x='Minimum Spent', y='Total Reward', \n",
    "              title='Impact of Minimum Spent on Total Rewards',\n",
    "              labels={'Total Reward': 'Total Reward ($)', 'Minimum Spent': 'Minimum Spent ($)'})\n",
    "\n",
    "# Add hover data\n",
    "fig.update_traces(mode='lines+markers', hoverinfo='text')\n",
    "fig.update_traces(text=[\"Premium Claims: {}<br>Base Claims: {}\".format(p, b) for p, b in zip(results_df['Premium Claims'], results_df['Base Claims'])])\n",
    "\n",
    "fig.show()\n"
   ]
  },
  {
   "cell_type": "code",
   "execution_count": 41,
   "metadata": {},
   "outputs": [
    {
     "name": "stdout",
     "output_type": "stream",
     "text": [
      "Initial Total Budget: 2000\n",
      "Redemption Summary:\n",
      "Total Premium Customers: 656\n",
      "Premium Customers Claimed: 204\n",
      "Base Customers Claimed: 207\n",
      "Total Reward: 4929\n",
      "Remaining Budget: -2929\n",
      "---------------------------------------\n"
     ]
    }
   ],
   "source": [
    "import random\n",
    "\n",
    "# Initialize the BudgetAllocation with an initial budget\n",
    "BA = BudgetAllocation(total_budget=2000, base_budget_percent=0.7, premium_budget_percent=0.3, abc_split=[0, 0.5, 0.8, 1])\n",
    "\n",
    "minimum_spent = 20\n",
    "# Initial budget\n",
    "print(\"Initial Total Budget:\", BA.total_budget)\n",
    "\n",
    "    # Perform redemption\n",
    "BA.redemption(minimum_spent, reward_premium, base_reward)\n",
    "    \n",
    "    # Print remaining budget"
   ]
  },
  {
   "cell_type": "code",
   "execution_count": 36,
   "metadata": {},
   "outputs": [
    {
     "data": {
      "text/plain": [
       "0"
      ]
     },
     "execution_count": 36,
     "metadata": {},
     "output_type": "execute_result"
    }
   ],
   "source": [
    "BA = BudgetAllocation(total_budget=2000, base_budget_percent=0.7, premium_budget_percent=0.3, abc_split=[0, 0.5, 0.8, 1])\n",
    "BA.redemption(minimum_spent=20, reward_premium=1.981, base_reward=1.07)\n"
   ]
  },
  {
   "cell_type": "code",
   "execution_count": 37,
   "metadata": {},
   "outputs": [
    {
     "name": "stdout",
     "output_type": "stream",
     "text": [
      "Total Budget: $2000\n",
      "Base Budget: $1400.0\n",
      "Premium Budget: $600.0\n",
      "--------------------------------------------\n",
      "Number of Premium Customers: 656\n",
      "Number of Total Unique Customers: 1312\n",
      "--------------------------------------------\n",
      "Base Reward: $1.07\n",
      "Extra value for Premium Customer: $0.91\n",
      "Total Premium Reward: $1.981707317073171\n"
     ]
    }
   ],
   "source": [
    "BA = BudgetAllocation(total_budget=2000, base_budget_percent=0.7, premium_budget_percent=0.3, abc_split=[0, 0.5, 0.8, 1])\n",
    "BA.calculate_rewards()\n",
    "BA.summary()"
   ]
  },
  {
   "cell_type": "code",
   "execution_count": 38,
   "metadata": {},
   "outputs": [
    {
     "name": "stdout",
     "output_type": "stream",
     "text": [
      "Redemption Summary:\n",
      "Total Premium Customers: 656\n",
      "Premium Customers Claimed: 204\n",
      "Base Customers Claimed: 207\n",
      "Total Reward: 625.614\n",
      "Remaining Budget: 1374.386\n",
      "---------------------------------------\n"
     ]
    }
   ],
   "source": [
    "BA.redemption(minimum_spent=20, reward_premium=1.981, base_reward=1.07)\n",
    "\n",
    "\n"
   ]
  },
  {
   "cell_type": "code",
   "execution_count": 39,
   "metadata": {},
   "outputs": [
    {
     "name": "stdout",
     "output_type": "stream",
     "text": [
      "Total Budget: $1374.386\n",
      "Base Budget: $962.0701999999999\n",
      "Premium Budget: $412.31579999999997\n",
      "--------------------------------------------\n",
      "Number of Premium Customers: 656\n",
      "Number of Total Unique Customers: 1312\n",
      "--------------------------------------------\n",
      "Base Reward: $1.07\n",
      "Extra value for Premium Customer: $0.91\n",
      "Total Premium Reward: $1.981707317073171\n"
     ]
    }
   ],
   "source": [
    "BA.summary()"
   ]
  },
  {
   "cell_type": "code",
   "execution_count": 40,
   "metadata": {},
   "outputs": [
    {
     "name": "stdout",
     "output_type": "stream",
     "text": [
      "Redemption Summary:\n",
      "Total Premium Customers: 656\n",
      "Premium Customers Claimed: 204\n",
      "Base Customers Claimed: 207\n",
      "Total Reward: 625.614\n",
      "Remaining Budget: 123.1579999999999\n",
      "---------------------------------------\n"
     ]
    }
   ],
   "source": [
    "BA.redemption(minimum_spent=20, reward_premium=1.981, base_reward=1.07)"
   ]
  },
  {
   "cell_type": "code",
   "execution_count": null,
   "metadata": {},
   "outputs": [],
   "source": []
  },
  {
   "cell_type": "markdown",
   "metadata": {},
   "source": []
  }
 ],
 "metadata": {
  "kernelspec": {
   "display_name": ".venv",
   "language": "python",
   "name": "python3"
  },
  "language_info": {
   "codemirror_mode": {
    "name": "ipython",
    "version": 3
   },
   "file_extension": ".py",
   "mimetype": "text/x-python",
   "name": "python",
   "nbconvert_exporter": "python",
   "pygments_lexer": "ipython3",
   "version": "3.12.1"
  }
 },
 "nbformat": 4,
 "nbformat_minor": 2
}
