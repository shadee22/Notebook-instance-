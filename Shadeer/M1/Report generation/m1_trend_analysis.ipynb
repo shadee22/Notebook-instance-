{
 "cells": [
  {
   "cell_type": "markdown",
   "metadata": {},
   "source": [
    "# Requirements\n",
    "\n",
    "DataSource name: Shadeer/M1/Report generation/m1 latest/devnodes.csv \n",
    "(Newer data can be generated using report generation.ipynb)\n",
    "\n",
    "Offer Performance\n",
    "\n",
    "- Monthly Redemptions Data & Derived Trends\n",
    "- Merchant Offer Redemptions Data & Derived Trends\n",
    "- Activity Period Data & Derived Trends\n",
    "\n",
    "Financial Performance\n",
    "\n",
    "- Monthly Cashback Data & Derived Trends\n",
    "- Cashback Average Size\n",
    "- Projections / Forecast"
   ]
  },
  {
   "cell_type": "markdown",
   "metadata": {},
   "source": [
    "# Installing Deps and importing"
   ]
  },
  {
   "cell_type": "code",
   "execution_count": 1,
   "metadata": {},
   "outputs": [
    {
     "name": "stdout",
     "output_type": "stream",
     "text": [
      "Requirement already satisfied: pandas in /Users/shadeer/Desktop/HOME/AI/PulseID/Notebook-instance/.venv/lib/python3.12/site-packages (2.2.1)\n",
      "Requirement already satisfied: numpy in /Users/shadeer/Desktop/HOME/AI/PulseID/Notebook-instance/.venv/lib/python3.12/site-packages (1.26.4)\n",
      "Requirement already satisfied: matplotlib in /Users/shadeer/Desktop/HOME/AI/PulseID/Notebook-instance/.venv/lib/python3.12/site-packages (3.8.3)\n",
      "Requirement already satisfied: seaborn in /Users/shadeer/Desktop/HOME/AI/PulseID/Notebook-instance/.venv/lib/python3.12/site-packages (0.13.2)\n",
      "Requirement already satisfied: python-dateutil>=2.8.2 in /Users/shadeer/Desktop/HOME/AI/PulseID/Notebook-instance/.venv/lib/python3.12/site-packages (from pandas) (2.9.0.post0)\n",
      "Requirement already satisfied: pytz>=2020.1 in /Users/shadeer/Desktop/HOME/AI/PulseID/Notebook-instance/.venv/lib/python3.12/site-packages (from pandas) (2024.1)\n",
      "Requirement already satisfied: tzdata>=2022.7 in /Users/shadeer/Desktop/HOME/AI/PulseID/Notebook-instance/.venv/lib/python3.12/site-packages (from pandas) (2024.1)\n",
      "Requirement already satisfied: contourpy>=1.0.1 in /Users/shadeer/Desktop/HOME/AI/PulseID/Notebook-instance/.venv/lib/python3.12/site-packages (from matplotlib) (1.2.0)\n",
      "Requirement already satisfied: cycler>=0.10 in /Users/shadeer/Desktop/HOME/AI/PulseID/Notebook-instance/.venv/lib/python3.12/site-packages (from matplotlib) (0.12.1)\n",
      "Requirement already satisfied: fonttools>=4.22.0 in /Users/shadeer/Desktop/HOME/AI/PulseID/Notebook-instance/.venv/lib/python3.12/site-packages (from matplotlib) (4.50.0)\n",
      "Requirement already satisfied: kiwisolver>=1.3.1 in /Users/shadeer/Desktop/HOME/AI/PulseID/Notebook-instance/.venv/lib/python3.12/site-packages (from matplotlib) (1.4.5)\n",
      "Requirement already satisfied: packaging>=20.0 in /Users/shadeer/Desktop/HOME/AI/PulseID/Notebook-instance/.venv/lib/python3.12/site-packages (from matplotlib) (23.2)\n",
      "Requirement already satisfied: pillow>=8 in /Users/shadeer/Desktop/HOME/AI/PulseID/Notebook-instance/.venv/lib/python3.12/site-packages (from matplotlib) (10.2.0)\n",
      "Requirement already satisfied: pyparsing>=2.3.1 in /Users/shadeer/Desktop/HOME/AI/PulseID/Notebook-instance/.venv/lib/python3.12/site-packages (from matplotlib) (3.1.2)\n",
      "Requirement already satisfied: six>=1.5 in /Users/shadeer/Desktop/HOME/AI/PulseID/Notebook-instance/.venv/lib/python3.12/site-packages (from python-dateutil>=2.8.2->pandas) (1.16.0)\n",
      "Note: you may need to restart the kernel to use updated packages.\n"
     ]
    }
   ],
   "source": [
    "%pip install pandas numpy matplotlib seaborn"
   ]
  },
  {
   "cell_type": "code",
   "execution_count": 1,
   "metadata": {},
   "outputs": [],
   "source": [
    "import pandas as pd\n",
    "import numpy as np\n",
    "import matplotlib.pyplot as plt\n",
    "import seaborn as sns\n"
   ]
  },
  {
   "cell_type": "markdown",
   "metadata": {},
   "source": [
    "# Loading Dataset"
   ]
  },
  {
   "cell_type": "code",
   "execution_count": 39,
   "metadata": {},
   "outputs": [
    {
     "data": {
      "text/html": [
       "<div>\n",
       "<style scoped>\n",
       "    .dataframe tbody tr th:only-of-type {\n",
       "        vertical-align: middle;\n",
       "    }\n",
       "\n",
       "    .dataframe tbody tr th {\n",
       "        vertical-align: top;\n",
       "    }\n",
       "\n",
       "    .dataframe thead th {\n",
       "        text-align: right;\n",
       "    }\n",
       "</style>\n",
       "<table border=\"1\" class=\"dataframe\">\n",
       "  <thead>\n",
       "    <tr style=\"text-align: right;\">\n",
       "      <th></th>\n",
       "      <th>Conversion ID</th>\n",
       "      <th>Advertiser</th>\n",
       "      <th>Status</th>\n",
       "      <th>Order ID</th>\n",
       "      <th>Conversion Time</th>\n",
       "      <th>Click Time</th>\n",
       "      <th>Currency</th>\n",
       "      <th>EUID</th>\n",
       "      <th>Estimate Order Value</th>\n",
       "      <th>Estimate Optimise Cashback Value</th>\n",
       "      <th>Cashback % or Amount</th>\n",
       "      <th>Estimate M1 Cashback Value</th>\n",
       "      <th>Estimate Cashback Value\\n(Exclude GST)</th>\n",
       "      <th>Unnamed: 13</th>\n",
       "      <th>Settlement Date</th>\n",
       "      <th>Partner Approved but payment not received. But pulseid have done the settlement</th>\n",
       "    </tr>\n",
       "  </thead>\n",
       "  <tbody>\n",
       "    <tr>\n",
       "      <th>0</th>\n",
       "      <td>1011l2129173556</td>\n",
       "      <td>tripcom</td>\n",
       "      <td>pending</td>\n",
       "      <td>32904810193</td>\n",
       "      <td>11/6/2024 9:32</td>\n",
       "      <td>11/6/2024 9:21</td>\n",
       "      <td>USD</td>\n",
       "      <td>7b4ad912-c947-4dec-b725-eb695605cf3d</td>\n",
       "      <td>237.17</td>\n",
       "      <td>2.37</td>\n",
       "      <td>0.01</td>\n",
       "      <td>NaN</td>\n",
       "      <td>NaN</td>\n",
       "      <td>NaN</td>\n",
       "      <td>NaN</td>\n",
       "      <td>NaN</td>\n",
       "    </tr>\n",
       "    <tr>\n",
       "      <th>1</th>\n",
       "      <td>4ce2be5b098a4122b60c5959890b61dc-1</td>\n",
       "      <td>Shopee Singapore</td>\n",
       "      <td>Pending</td>\n",
       "      <td>240610NAKUEKCW_25772727027_1</td>\n",
       "      <td>10/6/2024 23:35</td>\n",
       "      <td>10/6/2024 19:13</td>\n",
       "      <td>SGD</td>\n",
       "      <td>2c495845-1dd9-41f9-8211-c626d11d3f1c</td>\n",
       "      <td>22.72</td>\n",
       "      <td>0.36</td>\n",
       "      <td>0.9</td>\n",
       "      <td>20.448</td>\n",
       "      <td>19.017</td>\n",
       "      <td>NaN</td>\n",
       "      <td>NaN</td>\n",
       "      <td>NaN</td>\n",
       "    </tr>\n",
       "    <tr>\n",
       "      <th>2</th>\n",
       "      <td>98d7396291e1428497d4fe2ff632a432-1</td>\n",
       "      <td>Shopee Singapore</td>\n",
       "      <td>Pending</td>\n",
       "      <td>240610N55XQBPN_24931109126_2</td>\n",
       "      <td>10/6/2024 21:58</td>\n",
       "      <td>10/6/2024 21:54</td>\n",
       "      <td>SGD</td>\n",
       "      <td>a575aea7-1438-47a5-93fe-17d735dc21f9</td>\n",
       "      <td>21.42</td>\n",
       "      <td>0.34</td>\n",
       "      <td>1.6</td>\n",
       "      <td>34.272</td>\n",
       "      <td>31.873</td>\n",
       "      <td>NaN</td>\n",
       "      <td>NaN</td>\n",
       "      <td>NaN</td>\n",
       "    </tr>\n",
       "    <tr>\n",
       "      <th>3</th>\n",
       "      <td>ff89a960824142ce8db6e24fac773abb-1</td>\n",
       "      <td>Shopee Singapore</td>\n",
       "      <td>Pending</td>\n",
       "      <td>240610N55XQBPN_24781116439_1</td>\n",
       "      <td>10/6/2024 21:58</td>\n",
       "      <td>10/6/2024 21:54</td>\n",
       "      <td>SGD</td>\n",
       "      <td>a575aea7-1438-47a5-93fe-17d735dc21f9</td>\n",
       "      <td>3.58</td>\n",
       "      <td>0.06</td>\n",
       "      <td>1.6</td>\n",
       "      <td>5.728</td>\n",
       "      <td>5.327</td>\n",
       "      <td>NaN</td>\n",
       "      <td>NaN</td>\n",
       "      <td>NaN</td>\n",
       "    </tr>\n",
       "    <tr>\n",
       "      <th>4</th>\n",
       "      <td>992fb4ca916f450fac0c3a7bf8e65709-1</td>\n",
       "      <td>Shopee Singapore</td>\n",
       "      <td>Pending</td>\n",
       "      <td>240610MCBMF93J_21684968148_1</td>\n",
       "      <td>10/6/2024 14:34</td>\n",
       "      <td>10/6/2024 14:33</td>\n",
       "      <td>SGD</td>\n",
       "      <td>a3717324-15d4-4597-8491-4d8ff2f6fd4c</td>\n",
       "      <td>3.11</td>\n",
       "      <td>0.05</td>\n",
       "      <td>0.9</td>\n",
       "      <td>2.799</td>\n",
       "      <td>2.603</td>\n",
       "      <td>NaN</td>\n",
       "      <td>NaN</td>\n",
       "      <td>NaN</td>\n",
       "    </tr>\n",
       "    <tr>\n",
       "      <th>...</th>\n",
       "      <td>...</td>\n",
       "      <td>...</td>\n",
       "      <td>...</td>\n",
       "      <td>...</td>\n",
       "      <td>...</td>\n",
       "      <td>...</td>\n",
       "      <td>...</td>\n",
       "      <td>...</td>\n",
       "      <td>...</td>\n",
       "      <td>...</td>\n",
       "      <td>...</td>\n",
       "      <td>...</td>\n",
       "      <td>...</td>\n",
       "      <td>...</td>\n",
       "      <td>...</td>\n",
       "      <td>...</td>\n",
       "    </tr>\n",
       "    <tr>\n",
       "      <th>11233</th>\n",
       "      <td>e7fc921a109d47bfb7425b8a3cf8b7a4-1</td>\n",
       "      <td>Watsons Singapore</td>\n",
       "      <td>Approved</td>\n",
       "      <td>12787829</td>\n",
       "      <td>16/11/2021 21:05</td>\n",
       "      <td>16/11/2021 20:52</td>\n",
       "      <td>SGD</td>\n",
       "      <td>bfa0f620-2c0d-4ddf-8101-eca58c67d92a</td>\n",
       "      <td>26.75</td>\n",
       "      <td>0.56</td>\n",
       "      <td>1.50%</td>\n",
       "      <td>0.401</td>\n",
       "      <td>0.373</td>\n",
       "      <td>NaN</td>\n",
       "      <td>22/02/2022</td>\n",
       "      <td>NaN</td>\n",
       "    </tr>\n",
       "    <tr>\n",
       "      <th>11234</th>\n",
       "      <td>de54d92e124d4b3296ee4ba8e52c457a-1</td>\n",
       "      <td>Watsons Singapore</td>\n",
       "      <td>Approved</td>\n",
       "      <td>12745972</td>\n",
       "      <td>13/11/2021 09:23</td>\n",
       "      <td>13/11/2021 09:00</td>\n",
       "      <td>SGD</td>\n",
       "      <td>71ca7990-95a1-4031-a2d4-29c2e382fef1</td>\n",
       "      <td>31.4</td>\n",
       "      <td>0.66</td>\n",
       "      <td>1.50%</td>\n",
       "      <td>0.471</td>\n",
       "      <td>0.438</td>\n",
       "      <td>NaN</td>\n",
       "      <td>22/02/2022</td>\n",
       "      <td>NaN</td>\n",
       "    </tr>\n",
       "    <tr>\n",
       "      <th>11235</th>\n",
       "      <td>3a2694a088af4072a730f06b2571913c-1</td>\n",
       "      <td>Watsons Singapore</td>\n",
       "      <td>Approved</td>\n",
       "      <td>12736834</td>\n",
       "      <td>11/11/2021 11:09</td>\n",
       "      <td>11/11/2021 11:03</td>\n",
       "      <td>SGD</td>\n",
       "      <td>1f2b3a8f-996b-4bdf-baf3-c881566091de</td>\n",
       "      <td>6.4</td>\n",
       "      <td>0.13</td>\n",
       "      <td>1.50%</td>\n",
       "      <td>0.096</td>\n",
       "      <td>0.089</td>\n",
       "      <td>NaN</td>\n",
       "      <td>22/02/2022</td>\n",
       "      <td>NaN</td>\n",
       "    </tr>\n",
       "    <tr>\n",
       "      <th>11236</th>\n",
       "      <td>17c74deaa4564c5a94e92e5084498231-1</td>\n",
       "      <td>Watsons Singapore</td>\n",
       "      <td>Approved</td>\n",
       "      <td>12753395</td>\n",
       "      <td>10/11/2021 21:48</td>\n",
       "      <td>10/11/2021 21:41</td>\n",
       "      <td>SGD</td>\n",
       "      <td>1f2b3a8f-996b-4bdf-baf3-c881566091de</td>\n",
       "      <td>6.9</td>\n",
       "      <td>0.14</td>\n",
       "      <td>1.50%</td>\n",
       "      <td>0.104</td>\n",
       "      <td>0.096</td>\n",
       "      <td>NaN</td>\n",
       "      <td>22/02/2022</td>\n",
       "      <td>NaN</td>\n",
       "    </tr>\n",
       "    <tr>\n",
       "      <th>11237</th>\n",
       "      <td>62e5fda4cafe4dfeb7a223f10ed34cf8-1</td>\n",
       "      <td>Watsons Singapore</td>\n",
       "      <td>Approved</td>\n",
       "      <td>12701599</td>\n",
       "      <td>10/11/2021 12:16</td>\n",
       "      <td>10/11/2021 11:59</td>\n",
       "      <td>SGD</td>\n",
       "      <td>1f2b3a8f-996b-4bdf-baf3-c881566091de</td>\n",
       "      <td>52.9</td>\n",
       "      <td>1.11</td>\n",
       "      <td>1.50%</td>\n",
       "      <td>0.794</td>\n",
       "      <td>0.738</td>\n",
       "      <td>NaN</td>\n",
       "      <td>22/02/2022</td>\n",
       "      <td>NaN</td>\n",
       "    </tr>\n",
       "  </tbody>\n",
       "</table>\n",
       "<p>11238 rows × 16 columns</p>\n",
       "</div>"
      ],
      "text/plain": [
       "                            Conversion ID         Advertiser    Status  \\\n",
       "0                         1011l2129173556            tripcom   pending   \n",
       "1      4ce2be5b098a4122b60c5959890b61dc-1   Shopee Singapore   Pending   \n",
       "2      98d7396291e1428497d4fe2ff632a432-1   Shopee Singapore   Pending   \n",
       "3      ff89a960824142ce8db6e24fac773abb-1   Shopee Singapore   Pending   \n",
       "4      992fb4ca916f450fac0c3a7bf8e65709-1   Shopee Singapore   Pending   \n",
       "...                                   ...                ...       ...   \n",
       "11233  e7fc921a109d47bfb7425b8a3cf8b7a4-1  Watsons Singapore  Approved   \n",
       "11234  de54d92e124d4b3296ee4ba8e52c457a-1  Watsons Singapore  Approved   \n",
       "11235  3a2694a088af4072a730f06b2571913c-1  Watsons Singapore  Approved   \n",
       "11236  17c74deaa4564c5a94e92e5084498231-1  Watsons Singapore  Approved   \n",
       "11237  62e5fda4cafe4dfeb7a223f10ed34cf8-1  Watsons Singapore  Approved   \n",
       "\n",
       "                           Order ID   Conversion Time        Click Time  \\\n",
       "0                       32904810193    11/6/2024 9:32    11/6/2024 9:21   \n",
       "1      240610NAKUEKCW_25772727027_1   10/6/2024 23:35   10/6/2024 19:13   \n",
       "2      240610N55XQBPN_24931109126_2   10/6/2024 21:58   10/6/2024 21:54   \n",
       "3      240610N55XQBPN_24781116439_1   10/6/2024 21:58   10/6/2024 21:54   \n",
       "4      240610MCBMF93J_21684968148_1   10/6/2024 14:34   10/6/2024 14:33   \n",
       "...                             ...               ...               ...   \n",
       "11233                      12787829  16/11/2021 21:05  16/11/2021 20:52   \n",
       "11234                      12745972  13/11/2021 09:23  13/11/2021 09:00   \n",
       "11235                      12736834  11/11/2021 11:09  11/11/2021 11:03   \n",
       "11236                      12753395  10/11/2021 21:48  10/11/2021 21:41   \n",
       "11237                      12701599  10/11/2021 12:16  10/11/2021 11:59   \n",
       "\n",
       "      Currency                                  EUID Estimate Order Value  \\\n",
       "0          USD  7b4ad912-c947-4dec-b725-eb695605cf3d               237.17   \n",
       "1          SGD  2c495845-1dd9-41f9-8211-c626d11d3f1c                22.72   \n",
       "2          SGD  a575aea7-1438-47a5-93fe-17d735dc21f9                21.42   \n",
       "3          SGD  a575aea7-1438-47a5-93fe-17d735dc21f9                 3.58   \n",
       "4          SGD  a3717324-15d4-4597-8491-4d8ff2f6fd4c                 3.11   \n",
       "...        ...                                   ...                  ...   \n",
       "11233      SGD  bfa0f620-2c0d-4ddf-8101-eca58c67d92a                26.75   \n",
       "11234      SGD  71ca7990-95a1-4031-a2d4-29c2e382fef1                 31.4   \n",
       "11235      SGD  1f2b3a8f-996b-4bdf-baf3-c881566091de                  6.4   \n",
       "11236      SGD  1f2b3a8f-996b-4bdf-baf3-c881566091de                  6.9   \n",
       "11237      SGD  1f2b3a8f-996b-4bdf-baf3-c881566091de                 52.9   \n",
       "\n",
       "       Estimate Optimise Cashback Value Cashback % or Amount  \\\n",
       "0                                  2.37                 0.01   \n",
       "1                                  0.36                  0.9   \n",
       "2                                  0.34                  1.6   \n",
       "3                                  0.06                  1.6   \n",
       "4                                  0.05                  0.9   \n",
       "...                                 ...                  ...   \n",
       "11233                              0.56                1.50%   \n",
       "11234                              0.66                1.50%   \n",
       "11235                              0.13                1.50%   \n",
       "11236                              0.14                1.50%   \n",
       "11237                              1.11                1.50%   \n",
       "\n",
       "      Estimate M1 Cashback Value Estimate Cashback Value\\n(Exclude GST)  \\\n",
       "0                            NaN                                    NaN   \n",
       "1                         20.448                                 19.017   \n",
       "2                         34.272                                 31.873   \n",
       "3                          5.728                                  5.327   \n",
       "4                          2.799                                  2.603   \n",
       "...                          ...                                    ...   \n",
       "11233                      0.401                                  0.373   \n",
       "11234                      0.471                                  0.438   \n",
       "11235                      0.096                                  0.089   \n",
       "11236                      0.104                                  0.096   \n",
       "11237                      0.794                                  0.738   \n",
       "\n",
       "       Unnamed: 13 Settlement Date  \\\n",
       "0              NaN             NaN   \n",
       "1              NaN             NaN   \n",
       "2              NaN             NaN   \n",
       "3              NaN             NaN   \n",
       "4              NaN             NaN   \n",
       "...            ...             ...   \n",
       "11233          NaN     22/02/2022    \n",
       "11234          NaN     22/02/2022    \n",
       "11235          NaN     22/02/2022    \n",
       "11236          NaN     22/02/2022    \n",
       "11237          NaN     22/02/2022    \n",
       "\n",
       "      Partner Approved but payment not received. But pulseid have done the settlement  \n",
       "0                                                    NaN                               \n",
       "1                                                    NaN                               \n",
       "2                                                    NaN                               \n",
       "3                                                    NaN                               \n",
       "4                                                    NaN                               \n",
       "...                                                  ...                               \n",
       "11233                                                NaN                               \n",
       "11234                                                NaN                               \n",
       "11235                                                NaN                               \n",
       "11236                                                NaN                               \n",
       "11237                                                NaN                               \n",
       "\n",
       "[11238 rows x 16 columns]"
      ]
     },
     "execution_count": 39,
     "metadata": {},
     "output_type": "execute_result"
    }
   ],
   "source": [
    "df = pd.read_csv('./cleaned_m1/Kavinash Req.csv')\n",
    "df"
   ]
  },
  {
   "cell_type": "markdown",
   "metadata": {},
   "source": [
    "# Data Cleaning\n",
    "- Filter by \"Approved\" status\n",
    "- Fix date format errors\n"
   ]
  },
  {
   "cell_type": "code",
   "execution_count": 44,
   "metadata": {},
   "outputs": [
    {
     "data": {
      "text/plain": [
       "((1465, 16), (6127, 16))"
      ]
     },
     "execution_count": 44,
     "metadata": {},
     "output_type": "execute_result"
    }
   ],
   "source": []
  },
  {
   "cell_type": "code",
   "execution_count": 51,
   "metadata": {},
   "outputs": [
    {
     "data": {
      "text/plain": [
       "(3387, 16)"
      ]
     },
     "execution_count": 51,
     "metadata": {},
     "output_type": "execute_result"
    }
   ],
   "source": []
  },
  {
   "cell_type": "code",
   "execution_count": 50,
   "metadata": {},
   "outputs": [
    {
     "data": {
      "text/plain": [
       "(6163, 16)"
      ]
     },
     "execution_count": 50,
     "metadata": {},
     "output_type": "execute_result"
    }
   ],
   "source": [
    "approved_status = (df['Status'] == 'Approved') | (df['Status'] == 'APR')\n",
    "approved_df = df[approved_status]\n",
    "approved_df.shape\n"
   ]
  },
  {
   "cell_type": "code",
   "execution_count": 54,
   "metadata": {},
   "outputs": [],
   "source": [
    "approved_df.to_csv('approved_transactions.csv', index=False)"
   ]
  },
  {
   "cell_type": "markdown",
   "metadata": {},
   "source": [
    "## Fixing the Date format errors"
   ]
  },
  {
   "cell_type": "code",
   "execution_count": 15,
   "metadata": {},
   "outputs": [
    {
     "name": "stderr",
     "output_type": "stream",
     "text": [
      "/var/folders/20/rv098dm17pn4rlbzdlsk2c240000gn/T/ipykernel_1472/771196163.py:1: SettingWithCopyWarning: \n",
      "A value is trying to be set on a copy of a slice from a DataFrame\n",
      "\n",
      "See the caveats in the documentation: https://pandas.pydata.org/pandas-docs/stable/user_guide/indexing.html#returning-a-view-versus-a-copy\n",
      "  approved_df.sort_values(by='Conversion Time', inplace=True, ascending=False)\n"
     ]
    },
    {
     "data": {
      "text/html": [
       "<div>\n",
       "<style scoped>\n",
       "    .dataframe tbody tr th:only-of-type {\n",
       "        vertical-align: middle;\n",
       "    }\n",
       "\n",
       "    .dataframe tbody tr th {\n",
       "        vertical-align: top;\n",
       "    }\n",
       "\n",
       "    .dataframe thead th {\n",
       "        text-align: right;\n",
       "    }\n",
       "</style>\n",
       "<table border=\"1\" class=\"dataframe\">\n",
       "  <thead>\n",
       "    <tr style=\"text-align: right;\">\n",
       "      <th></th>\n",
       "      <th>Conversion ID</th>\n",
       "      <th>Advertiser</th>\n",
       "      <th>Status</th>\n",
       "      <th>Order ID</th>\n",
       "      <th>Conversion Time</th>\n",
       "      <th>Click Time</th>\n",
       "      <th>Currency</th>\n",
       "      <th>EUID</th>\n",
       "      <th>Estimate Order Value</th>\n",
       "      <th>Estimate Optimise Cashback Value</th>\n",
       "      <th>Cashback % or Amount</th>\n",
       "      <th>Estimate M1 Cashback Value</th>\n",
       "      <th>Estimate Cashback Value\\n(Exclude GST)</th>\n",
       "      <th></th>\n",
       "      <th>Settlement Date</th>\n",
       "      <th>Partner Approved but payment not received. But pulseid have done the settlement</th>\n",
       "    </tr>\n",
       "  </thead>\n",
       "  <tbody>\n",
       "    <tr>\n",
       "      <th>1752</th>\n",
       "      <td>1101l2054923153</td>\n",
       "      <td>iHerb</td>\n",
       "      <td>Approved</td>\n",
       "      <td>728329998</td>\n",
       "      <td>2024-02-27</td>\n",
       "      <td>27/02/2024 13:58</td>\n",
       "      <td>SGD</td>\n",
       "      <td>bd25df63-d3a5-42d7-8787-399eb7a6df3e</td>\n",
       "      <td>164.85</td>\n",
       "      <td>8.242</td>\n",
       "      <td>4.00%</td>\n",
       "      <td>6.594</td>\n",
       "      <td>6.132</td>\n",
       "      <td>NaN</td>\n",
       "      <td>NaN</td>\n",
       "      <td>NaN</td>\n",
       "    </tr>\n",
       "    <tr>\n",
       "      <th>1854</th>\n",
       "      <td>31c9406ffdf14426aec4346eb2a2d524-1</td>\n",
       "      <td>Fairprice ON</td>\n",
       "      <td>Approved</td>\n",
       "      <td>167759383</td>\n",
       "      <td>2024-02-16</td>\n",
       "      <td>16/02/2024 16:29</td>\n",
       "      <td>SGD</td>\n",
       "      <td>7cbbfaad-60d2-489a-aa56-006c2d9351ad</td>\n",
       "      <td>77.88</td>\n",
       "      <td>0.800</td>\n",
       "      <td>1.00%</td>\n",
       "      <td>0.779</td>\n",
       "      <td>0.724</td>\n",
       "      <td>NaN</td>\n",
       "      <td>NaN</td>\n",
       "      <td>NaN</td>\n",
       "    </tr>\n",
       "    <tr>\n",
       "      <th>1876</th>\n",
       "      <td>30129de16a234582b00b5126c76ad1f5-1</td>\n",
       "      <td>Fairprice ON</td>\n",
       "      <td>Approved</td>\n",
       "      <td>167474904</td>\n",
       "      <td>2024-02-13</td>\n",
       "      <td>13/02/2024 22:57</td>\n",
       "      <td>SGD</td>\n",
       "      <td>62503e76-1026-4d88-a11c-ac8643bee0e0</td>\n",
       "      <td>120.09</td>\n",
       "      <td>0.800</td>\n",
       "      <td>1.00%</td>\n",
       "      <td>1.201</td>\n",
       "      <td>1.117</td>\n",
       "      <td>NaN</td>\n",
       "      <td>NaN</td>\n",
       "      <td>NaN</td>\n",
       "    </tr>\n",
       "    <tr>\n",
       "      <th>1879</th>\n",
       "      <td>b8845632d4934b61aba14eebbbe8b355-1</td>\n",
       "      <td>Fairprice ON</td>\n",
       "      <td>Approved</td>\n",
       "      <td>167382286</td>\n",
       "      <td>2024-02-13</td>\n",
       "      <td>12/02/2024 13:11</td>\n",
       "      <td>SGD</td>\n",
       "      <td>50a477e3-e176-4ad0-ab1b-83b0a21e9529</td>\n",
       "      <td>210.47</td>\n",
       "      <td>0.800</td>\n",
       "      <td>1.00%</td>\n",
       "      <td>2.105</td>\n",
       "      <td>1.957</td>\n",
       "      <td>NaN</td>\n",
       "      <td>NaN</td>\n",
       "      <td>NaN</td>\n",
       "    </tr>\n",
       "    <tr>\n",
       "      <th>2015</th>\n",
       "      <td>044d156956194192b050e38bec2b640c-1</td>\n",
       "      <td>Fairprice ON</td>\n",
       "      <td>Approved</td>\n",
       "      <td>165759922</td>\n",
       "      <td>2024-02-01</td>\n",
       "      <td>01/02/2024 10:29</td>\n",
       "      <td>SGD</td>\n",
       "      <td>1e7992c5-c22a-4533-9838-bb1c01b4ec41</td>\n",
       "      <td>57.06</td>\n",
       "      <td>0.800</td>\n",
       "      <td>1.00%</td>\n",
       "      <td>0.571</td>\n",
       "      <td>0.531</td>\n",
       "      <td>NaN</td>\n",
       "      <td>NaN</td>\n",
       "      <td>NaN</td>\n",
       "    </tr>\n",
       "    <tr>\n",
       "      <th>...</th>\n",
       "      <td>...</td>\n",
       "      <td>...</td>\n",
       "      <td>...</td>\n",
       "      <td>...</td>\n",
       "      <td>...</td>\n",
       "      <td>...</td>\n",
       "      <td>...</td>\n",
       "      <td>...</td>\n",
       "      <td>...</td>\n",
       "      <td>...</td>\n",
       "      <td>...</td>\n",
       "      <td>...</td>\n",
       "      <td>...</td>\n",
       "      <td>...</td>\n",
       "      <td>...</td>\n",
       "      <td>...</td>\n",
       "    </tr>\n",
       "    <tr>\n",
       "      <th>11005</th>\n",
       "      <td>e7fc921a109d47bfb7425b8a3cf8b7a4-1</td>\n",
       "      <td>Watsons Singapore</td>\n",
       "      <td>Approved</td>\n",
       "      <td>12787829</td>\n",
       "      <td>2021-11-16</td>\n",
       "      <td>16/11/2021 20:52</td>\n",
       "      <td>SGD</td>\n",
       "      <td>bfa0f620-2c0d-4ddf-8101-eca58c67d92a</td>\n",
       "      <td>26.75</td>\n",
       "      <td>0.560</td>\n",
       "      <td>1.50%</td>\n",
       "      <td>0.401</td>\n",
       "      <td>0.373</td>\n",
       "      <td>NaN</td>\n",
       "      <td>22/02/2022</td>\n",
       "      <td>NaN</td>\n",
       "    </tr>\n",
       "    <tr>\n",
       "      <th>11006</th>\n",
       "      <td>de54d92e124d4b3296ee4ba8e52c457a-1</td>\n",
       "      <td>Watsons Singapore</td>\n",
       "      <td>Approved</td>\n",
       "      <td>12745972</td>\n",
       "      <td>2021-11-13</td>\n",
       "      <td>13/11/2021 09:00</td>\n",
       "      <td>SGD</td>\n",
       "      <td>71ca7990-95a1-4031-a2d4-29c2e382fef1</td>\n",
       "      <td>31.40</td>\n",
       "      <td>0.660</td>\n",
       "      <td>1.50%</td>\n",
       "      <td>0.471</td>\n",
       "      <td>0.438</td>\n",
       "      <td>NaN</td>\n",
       "      <td>22/02/2022</td>\n",
       "      <td>NaN</td>\n",
       "    </tr>\n",
       "    <tr>\n",
       "      <th>11007</th>\n",
       "      <td>3a2694a088af4072a730f06b2571913c-1</td>\n",
       "      <td>Watsons Singapore</td>\n",
       "      <td>Approved</td>\n",
       "      <td>12736834</td>\n",
       "      <td>2021-11-11</td>\n",
       "      <td>11/11/2021 11:03</td>\n",
       "      <td>SGD</td>\n",
       "      <td>1f2b3a8f-996b-4bdf-baf3-c881566091de</td>\n",
       "      <td>6.40</td>\n",
       "      <td>0.130</td>\n",
       "      <td>1.50%</td>\n",
       "      <td>0.096</td>\n",
       "      <td>0.089</td>\n",
       "      <td>NaN</td>\n",
       "      <td>22/02/2022</td>\n",
       "      <td>NaN</td>\n",
       "    </tr>\n",
       "    <tr>\n",
       "      <th>11008</th>\n",
       "      <td>17c74deaa4564c5a94e92e5084498231-1</td>\n",
       "      <td>Watsons Singapore</td>\n",
       "      <td>Approved</td>\n",
       "      <td>12753395</td>\n",
       "      <td>2021-11-10</td>\n",
       "      <td>10/11/2021 21:41</td>\n",
       "      <td>SGD</td>\n",
       "      <td>1f2b3a8f-996b-4bdf-baf3-c881566091de</td>\n",
       "      <td>6.90</td>\n",
       "      <td>0.140</td>\n",
       "      <td>1.50%</td>\n",
       "      <td>0.104</td>\n",
       "      <td>0.096</td>\n",
       "      <td>NaN</td>\n",
       "      <td>22/02/2022</td>\n",
       "      <td>NaN</td>\n",
       "    </tr>\n",
       "    <tr>\n",
       "      <th>11009</th>\n",
       "      <td>62e5fda4cafe4dfeb7a223f10ed34cf8-1</td>\n",
       "      <td>Watsons Singapore</td>\n",
       "      <td>Approved</td>\n",
       "      <td>12701599</td>\n",
       "      <td>2021-11-10</td>\n",
       "      <td>10/11/2021 11:59</td>\n",
       "      <td>SGD</td>\n",
       "      <td>1f2b3a8f-996b-4bdf-baf3-c881566091de</td>\n",
       "      <td>52.90</td>\n",
       "      <td>1.110</td>\n",
       "      <td>1.50%</td>\n",
       "      <td>0.794</td>\n",
       "      <td>0.738</td>\n",
       "      <td>NaN</td>\n",
       "      <td>22/02/2022</td>\n",
       "      <td>NaN</td>\n",
       "    </tr>\n",
       "  </tbody>\n",
       "</table>\n",
       "<p>6127 rows × 16 columns</p>\n",
       "</div>"
      ],
      "text/plain": [
       "                            Conversion ID         Advertiser    Status  \\\n",
       "1752                      1101l2054923153              iHerb  Approved   \n",
       "1854   31c9406ffdf14426aec4346eb2a2d524-1       Fairprice ON  Approved   \n",
       "1876   30129de16a234582b00b5126c76ad1f5-1       Fairprice ON  Approved   \n",
       "1879   b8845632d4934b61aba14eebbbe8b355-1       Fairprice ON  Approved   \n",
       "2015   044d156956194192b050e38bec2b640c-1       Fairprice ON  Approved   \n",
       "...                                   ...                ...       ...   \n",
       "11005  e7fc921a109d47bfb7425b8a3cf8b7a4-1  Watsons Singapore  Approved   \n",
       "11006  de54d92e124d4b3296ee4ba8e52c457a-1  Watsons Singapore  Approved   \n",
       "11007  3a2694a088af4072a730f06b2571913c-1  Watsons Singapore  Approved   \n",
       "11008  17c74deaa4564c5a94e92e5084498231-1  Watsons Singapore  Approved   \n",
       "11009  62e5fda4cafe4dfeb7a223f10ed34cf8-1  Watsons Singapore  Approved   \n",
       "\n",
       "        Order ID Conversion Time        Click Time Currency  \\\n",
       "1752   728329998      2024-02-27  27/02/2024 13:58      SGD   \n",
       "1854   167759383      2024-02-16  16/02/2024 16:29      SGD   \n",
       "1876   167474904      2024-02-13  13/02/2024 22:57      SGD   \n",
       "1879   167382286      2024-02-13  12/02/2024 13:11      SGD   \n",
       "2015   165759922      2024-02-01  01/02/2024 10:29      SGD   \n",
       "...          ...             ...               ...      ...   \n",
       "11005   12787829      2021-11-16  16/11/2021 20:52      SGD   \n",
       "11006   12745972      2021-11-13  13/11/2021 09:00      SGD   \n",
       "11007   12736834      2021-11-11  11/11/2021 11:03      SGD   \n",
       "11008   12753395      2021-11-10  10/11/2021 21:41      SGD   \n",
       "11009   12701599      2021-11-10  10/11/2021 11:59      SGD   \n",
       "\n",
       "                                       EUID Estimate Order Value  \\\n",
       "1752   bd25df63-d3a5-42d7-8787-399eb7a6df3e               164.85   \n",
       "1854   7cbbfaad-60d2-489a-aa56-006c2d9351ad                77.88   \n",
       "1876   62503e76-1026-4d88-a11c-ac8643bee0e0               120.09   \n",
       "1879   50a477e3-e176-4ad0-ab1b-83b0a21e9529               210.47   \n",
       "2015   1e7992c5-c22a-4533-9838-bb1c01b4ec41                57.06   \n",
       "...                                     ...                  ...   \n",
       "11005  bfa0f620-2c0d-4ddf-8101-eca58c67d92a                26.75   \n",
       "11006  71ca7990-95a1-4031-a2d4-29c2e382fef1                31.40   \n",
       "11007  1f2b3a8f-996b-4bdf-baf3-c881566091de                 6.40   \n",
       "11008  1f2b3a8f-996b-4bdf-baf3-c881566091de                 6.90   \n",
       "11009  1f2b3a8f-996b-4bdf-baf3-c881566091de                52.90   \n",
       "\n",
       "       Estimate Optimise Cashback Value Cashback % or Amount  \\\n",
       "1752                              8.242                4.00%   \n",
       "1854                              0.800                1.00%   \n",
       "1876                              0.800                1.00%   \n",
       "1879                              0.800                1.00%   \n",
       "2015                              0.800                1.00%   \n",
       "...                                 ...                  ...   \n",
       "11005                             0.560                1.50%   \n",
       "11006                             0.660                1.50%   \n",
       "11007                             0.130                1.50%   \n",
       "11008                             0.140                1.50%   \n",
       "11009                             1.110                1.50%   \n",
       "\n",
       "      Estimate M1 Cashback Value Estimate Cashback Value\\n(Exclude GST)      \\\n",
       "1752                       6.594                                  6.132 NaN   \n",
       "1854                       0.779                                  0.724 NaN   \n",
       "1876                       1.201                                  1.117 NaN   \n",
       "1879                       2.105                                  1.957 NaN   \n",
       "2015                       0.571                                  0.531 NaN   \n",
       "...                          ...                                    ...  ..   \n",
       "11005                      0.401                                  0.373 NaN   \n",
       "11006                      0.471                                  0.438 NaN   \n",
       "11007                      0.096                                  0.089 NaN   \n",
       "11008                      0.104                                  0.096 NaN   \n",
       "11009                      0.794                                  0.738 NaN   \n",
       "\n",
       "      Settlement Date  \\\n",
       "1752              NaN   \n",
       "1854              NaN   \n",
       "1876              NaN   \n",
       "1879              NaN   \n",
       "2015              NaN   \n",
       "...               ...   \n",
       "11005     22/02/2022    \n",
       "11006     22/02/2022    \n",
       "11007     22/02/2022    \n",
       "11008     22/02/2022    \n",
       "11009     22/02/2022    \n",
       "\n",
       "      Partner Approved but payment not received. But pulseid have done the settlement  \n",
       "1752                                                 NaN                               \n",
       "1854                                                 NaN                               \n",
       "1876                                                 NaN                               \n",
       "1879                                                 NaN                               \n",
       "2015                                                 NaN                               \n",
       "...                                                  ...                               \n",
       "11005                                                NaN                               \n",
       "11006                                                NaN                               \n",
       "11007                                                NaN                               \n",
       "11008                                                NaN                               \n",
       "11009                                                NaN                               \n",
       "\n",
       "[6127 rows x 16 columns]"
      ]
     },
     "execution_count": 15,
     "metadata": {},
     "output_type": "execute_result"
    }
   ],
   "source": [
    "# approved_df.sort_values(by='Conversion Time', inplace=True, ascending=False)\n",
    "# approved_df"
   ]
  },
  {
   "cell_type": "code",
   "execution_count": 13,
   "metadata": {},
   "outputs": [
    {
     "name": "stdout",
     "output_type": "stream",
     "text": [
      "The latest date is: 2024-02-27\n"
     ]
    }
   ],
   "source": [
    "latest_date = approved_df['Conversion Time'].max()\n",
    "print(\"The latest date is:\", latest_date)\n"
   ]
  },
  {
   "cell_type": "code",
   "execution_count": 21,
   "metadata": {},
   "outputs": [
    {
     "data": {
      "text/html": [
       "<div>\n",
       "<style scoped>\n",
       "    .dataframe tbody tr th:only-of-type {\n",
       "        vertical-align: middle;\n",
       "    }\n",
       "\n",
       "    .dataframe tbody tr th {\n",
       "        vertical-align: top;\n",
       "    }\n",
       "\n",
       "    .dataframe thead th {\n",
       "        text-align: right;\n",
       "    }\n",
       "</style>\n",
       "<table border=\"1\" class=\"dataframe\">\n",
       "  <thead>\n",
       "    <tr style=\"text-align: right;\">\n",
       "      <th></th>\n",
       "      <th>Conversion ID</th>\n",
       "      <th>Advertiser</th>\n",
       "      <th>Status</th>\n",
       "      <th>Order ID</th>\n",
       "      <th>Conversion Time</th>\n",
       "      <th>Click Time</th>\n",
       "      <th>Currency</th>\n",
       "      <th>EUID</th>\n",
       "      <th>Estimate Order Value</th>\n",
       "      <th>Estimate Optimise Cashback Value</th>\n",
       "      <th>Cashback % or Amount</th>\n",
       "      <th>Estimate M1 Cashback Value</th>\n",
       "      <th>Estimate Cashback Value\\n(Exclude GST)</th>\n",
       "      <th></th>\n",
       "      <th>Settlement Date</th>\n",
       "      <th>Partner Approved but payment not received. But pulseid have done the settlement</th>\n",
       "    </tr>\n",
       "  </thead>\n",
       "  <tbody>\n",
       "    <tr>\n",
       "      <th>3</th>\n",
       "      <td>cf86acb687da4840a90354630870b651-1</td>\n",
       "      <td>Shopee SG</td>\n",
       "      <td>Pending</td>\n",
       "      <td>240412J6U1DMMX_19684223859_1</td>\n",
       "      <td>2024-12-04 20:57:00</td>\n",
       "      <td>04/12/2024 20:54</td>\n",
       "      <td>SGD</td>\n",
       "      <td>bd62c2f0-929b-48d6-891a-e9c210c68b10</td>\n",
       "      <td>29.36</td>\n",
       "      <td>0.68</td>\n",
       "      <td>1.60%</td>\n",
       "      <td>0.470</td>\n",
       "      <td>0.437</td>\n",
       "      <td>NaN</td>\n",
       "      <td>NaN</td>\n",
       "      <td>NaN</td>\n",
       "    </tr>\n",
       "    <tr>\n",
       "      <th>4</th>\n",
       "      <td>c2587a626efc4fd4a36e7f725e37a70b-1</td>\n",
       "      <td>Shopee SG</td>\n",
       "      <td>Pending</td>\n",
       "      <td>240412J5G27R82_24872442510_1</td>\n",
       "      <td>2024-12-04 20:33:00</td>\n",
       "      <td>04/12/2024 20:32</td>\n",
       "      <td>SGD</td>\n",
       "      <td>a575aea7-1438-47a5-93fe-17d735dc21f9</td>\n",
       "      <td>39.05</td>\n",
       "      <td>0.90</td>\n",
       "      <td>1.60%</td>\n",
       "      <td>0.625</td>\n",
       "      <td>0.581</td>\n",
       "      <td>NaN</td>\n",
       "      <td>NaN</td>\n",
       "      <td>NaN</td>\n",
       "    </tr>\n",
       "    <tr>\n",
       "      <th>5</th>\n",
       "      <td>9222f5a610524c2bb03201c54cd9e51f-1</td>\n",
       "      <td>Shopee SG</td>\n",
       "      <td>Pending</td>\n",
       "      <td>240412J4CWW77S_16607128003_1</td>\n",
       "      <td>2024-12-04 20:13:00</td>\n",
       "      <td>04/12/2024 20:10</td>\n",
       "      <td>SGD</td>\n",
       "      <td>b7bb0e0b-c997-4af5-9555-2c29cee5d9a9</td>\n",
       "      <td>18.95</td>\n",
       "      <td>0.44</td>\n",
       "      <td>1.60%</td>\n",
       "      <td>0.303</td>\n",
       "      <td>0.282</td>\n",
       "      <td>NaN</td>\n",
       "      <td>NaN</td>\n",
       "      <td>NaN</td>\n",
       "    </tr>\n",
       "    <tr>\n",
       "      <th>6</th>\n",
       "      <td>490557b541a343e496c09d30fcf1ebb0-1</td>\n",
       "      <td>Shopee SG</td>\n",
       "      <td>Pending</td>\n",
       "      <td>240412J4CWW77S_23189763728_3</td>\n",
       "      <td>2024-12-04 20:13:00</td>\n",
       "      <td>04/12/2024 20:10</td>\n",
       "      <td>SGD</td>\n",
       "      <td>b7bb0e0b-c997-4af5-9555-2c29cee5d9a9</td>\n",
       "      <td>13.12</td>\n",
       "      <td>0.30</td>\n",
       "      <td>1.60%</td>\n",
       "      <td>0.210</td>\n",
       "      <td>0.195</td>\n",
       "      <td>NaN</td>\n",
       "      <td>NaN</td>\n",
       "      <td>NaN</td>\n",
       "    </tr>\n",
       "    <tr>\n",
       "      <th>7</th>\n",
       "      <td>770ee56257674ed1b4cbfcb9c977b06f-1</td>\n",
       "      <td>Shopee SG</td>\n",
       "      <td>Pending</td>\n",
       "      <td>240412J4CWW77S_16607128003_2</td>\n",
       "      <td>2024-12-04 20:13:00</td>\n",
       "      <td>04/12/2024 20:10</td>\n",
       "      <td>SGD</td>\n",
       "      <td>b7bb0e0b-c997-4af5-9555-2c29cee5d9a9</td>\n",
       "      <td>7.29</td>\n",
       "      <td>0.17</td>\n",
       "      <td>1.60%</td>\n",
       "      <td>0.117</td>\n",
       "      <td>0.108</td>\n",
       "      <td>NaN</td>\n",
       "      <td>NaN</td>\n",
       "      <td>NaN</td>\n",
       "    </tr>\n",
       "    <tr>\n",
       "      <th>...</th>\n",
       "      <td>...</td>\n",
       "      <td>...</td>\n",
       "      <td>...</td>\n",
       "      <td>...</td>\n",
       "      <td>...</td>\n",
       "      <td>...</td>\n",
       "      <td>...</td>\n",
       "      <td>...</td>\n",
       "      <td>...</td>\n",
       "      <td>...</td>\n",
       "      <td>...</td>\n",
       "      <td>...</td>\n",
       "      <td>...</td>\n",
       "      <td>...</td>\n",
       "      <td>...</td>\n",
       "      <td>...</td>\n",
       "    </tr>\n",
       "    <tr>\n",
       "      <th>692</th>\n",
       "      <td>2b1c39734eb04a57b4f40fc248bc5e1f</td>\n",
       "      <td>Shopee SG</td>\n",
       "      <td>Pending</td>\n",
       "      <td>2404075QM1B36V_21806490074_1</td>\n",
       "      <td>2024-07-04 21:52:00</td>\n",
       "      <td>04/05/2024 07:32</td>\n",
       "      <td>SGD</td>\n",
       "      <td>6518faa7-3301-4c33-b7b3-58ba405cfaa2</td>\n",
       "      <td>28.78</td>\n",
       "      <td>0.66</td>\n",
       "      <td>1.60%</td>\n",
       "      <td>0.460</td>\n",
       "      <td>0.428</td>\n",
       "      <td>NaN</td>\n",
       "      <td>NaN</td>\n",
       "      <td>NaN</td>\n",
       "    </tr>\n",
       "    <tr>\n",
       "      <th>694</th>\n",
       "      <td>e3f48de65cd54eb198fc27af1aa26645-1</td>\n",
       "      <td>Shopee SG</td>\n",
       "      <td>Pending</td>\n",
       "      <td>2404088085MNR9_22723731422_1</td>\n",
       "      <td>2024-08-04 19:32:00</td>\n",
       "      <td>04/05/2024 06:00</td>\n",
       "      <td>SGD</td>\n",
       "      <td>bcdb009a-7b73-4b8a-b2ce-a3bc4e0059b5</td>\n",
       "      <td>7.79</td>\n",
       "      <td>0.18</td>\n",
       "      <td>1.60%</td>\n",
       "      <td>0.125</td>\n",
       "      <td>0.116</td>\n",
       "      <td>NaN</td>\n",
       "      <td>NaN</td>\n",
       "      <td>NaN</td>\n",
       "    </tr>\n",
       "    <tr>\n",
       "      <th>695</th>\n",
       "      <td>0965887ac676436781183ac235cc63e5-1</td>\n",
       "      <td>Shopee SG</td>\n",
       "      <td>Pending</td>\n",
       "      <td>2404088085MNR9_22923734043_2</td>\n",
       "      <td>2024-08-04 19:32:00</td>\n",
       "      <td>04/05/2024 06:00</td>\n",
       "      <td>SGD</td>\n",
       "      <td>bcdb009a-7b73-4b8a-b2ce-a3bc4e0059b5</td>\n",
       "      <td>11.21</td>\n",
       "      <td>0.26</td>\n",
       "      <td>1.60%</td>\n",
       "      <td>0.179</td>\n",
       "      <td>0.167</td>\n",
       "      <td>NaN</td>\n",
       "      <td>NaN</td>\n",
       "      <td>NaN</td>\n",
       "    </tr>\n",
       "    <tr>\n",
       "      <th>1945</th>\n",
       "      <td>438ca706f08d400b90e63069a7d58669-1</td>\n",
       "      <td>Shopee SG</td>\n",
       "      <td>Pending</td>\n",
       "      <td>2404073F8CVDNV_21584629347_2</td>\n",
       "      <td>2024-07-04 00:17:00</td>\n",
       "      <td>04/02/2024 10:14</td>\n",
       "      <td>SGD</td>\n",
       "      <td>ba640a2d-b4ba-4e6e-a4af-1e41e93215f1</td>\n",
       "      <td>4.38</td>\n",
       "      <td>0.10</td>\n",
       "      <td>1.60%</td>\n",
       "      <td>0.070</td>\n",
       "      <td>0.065</td>\n",
       "      <td>NaN</td>\n",
       "      <td>NaN</td>\n",
       "      <td>NaN</td>\n",
       "    </tr>\n",
       "    <tr>\n",
       "      <th>1946</th>\n",
       "      <td>1636ebc033934f6b88114b3c4a020f4e-1</td>\n",
       "      <td>Shopee SG</td>\n",
       "      <td>Pending</td>\n",
       "      <td>2404073F8CVDNV_21584629347_1</td>\n",
       "      <td>2024-07-04 00:17:00</td>\n",
       "      <td>04/02/2024 10:14</td>\n",
       "      <td>SGD</td>\n",
       "      <td>ba640a2d-b4ba-4e6e-a4af-1e41e93215f1</td>\n",
       "      <td>3.83</td>\n",
       "      <td>0.09</td>\n",
       "      <td>1.60%</td>\n",
       "      <td>0.061</td>\n",
       "      <td>0.057</td>\n",
       "      <td>NaN</td>\n",
       "      <td>NaN</td>\n",
       "      <td>NaN</td>\n",
       "    </tr>\n",
       "  </tbody>\n",
       "</table>\n",
       "<p>107 rows × 16 columns</p>\n",
       "</div>"
      ],
      "text/plain": [
       "                           Conversion ID Advertiser   Status  \\\n",
       "3     cf86acb687da4840a90354630870b651-1  Shopee SG  Pending   \n",
       "4     c2587a626efc4fd4a36e7f725e37a70b-1  Shopee SG  Pending   \n",
       "5     9222f5a610524c2bb03201c54cd9e51f-1  Shopee SG  Pending   \n",
       "6     490557b541a343e496c09d30fcf1ebb0-1  Shopee SG  Pending   \n",
       "7     770ee56257674ed1b4cbfcb9c977b06f-1  Shopee SG  Pending   \n",
       "...                                  ...        ...      ...   \n",
       "692     2b1c39734eb04a57b4f40fc248bc5e1f  Shopee SG  Pending   \n",
       "694   e3f48de65cd54eb198fc27af1aa26645-1  Shopee SG  Pending   \n",
       "695   0965887ac676436781183ac235cc63e5-1  Shopee SG  Pending   \n",
       "1945  438ca706f08d400b90e63069a7d58669-1  Shopee SG  Pending   \n",
       "1946  1636ebc033934f6b88114b3c4a020f4e-1  Shopee SG  Pending   \n",
       "\n",
       "                          Order ID     Conversion Time        Click Time  \\\n",
       "3     240412J6U1DMMX_19684223859_1 2024-12-04 20:57:00  04/12/2024 20:54   \n",
       "4     240412J5G27R82_24872442510_1 2024-12-04 20:33:00  04/12/2024 20:32   \n",
       "5     240412J4CWW77S_16607128003_1 2024-12-04 20:13:00  04/12/2024 20:10   \n",
       "6     240412J4CWW77S_23189763728_3 2024-12-04 20:13:00  04/12/2024 20:10   \n",
       "7     240412J4CWW77S_16607128003_2 2024-12-04 20:13:00  04/12/2024 20:10   \n",
       "...                            ...                 ...               ...   \n",
       "692   2404075QM1B36V_21806490074_1 2024-07-04 21:52:00  04/05/2024 07:32   \n",
       "694   2404088085MNR9_22723731422_1 2024-08-04 19:32:00  04/05/2024 06:00   \n",
       "695   2404088085MNR9_22923734043_2 2024-08-04 19:32:00  04/05/2024 06:00   \n",
       "1945  2404073F8CVDNV_21584629347_2 2024-07-04 00:17:00  04/02/2024 10:14   \n",
       "1946  2404073F8CVDNV_21584629347_1 2024-07-04 00:17:00  04/02/2024 10:14   \n",
       "\n",
       "     Currency                                  EUID Estimate Order Value  \\\n",
       "3         SGD  bd62c2f0-929b-48d6-891a-e9c210c68b10                29.36   \n",
       "4         SGD  a575aea7-1438-47a5-93fe-17d735dc21f9                39.05   \n",
       "5         SGD  b7bb0e0b-c997-4af5-9555-2c29cee5d9a9                18.95   \n",
       "6         SGD  b7bb0e0b-c997-4af5-9555-2c29cee5d9a9                13.12   \n",
       "7         SGD  b7bb0e0b-c997-4af5-9555-2c29cee5d9a9                 7.29   \n",
       "...       ...                                   ...                  ...   \n",
       "692       SGD  6518faa7-3301-4c33-b7b3-58ba405cfaa2                28.78   \n",
       "694       SGD  bcdb009a-7b73-4b8a-b2ce-a3bc4e0059b5                 7.79   \n",
       "695       SGD  bcdb009a-7b73-4b8a-b2ce-a3bc4e0059b5                11.21   \n",
       "1945      SGD  ba640a2d-b4ba-4e6e-a4af-1e41e93215f1                 4.38   \n",
       "1946      SGD  ba640a2d-b4ba-4e6e-a4af-1e41e93215f1                 3.83   \n",
       "\n",
       "      Estimate Optimise Cashback Value Cashback % or Amount  \\\n",
       "3                                 0.68                1.60%   \n",
       "4                                 0.90                1.60%   \n",
       "5                                 0.44                1.60%   \n",
       "6                                 0.30                1.60%   \n",
       "7                                 0.17                1.60%   \n",
       "...                                ...                  ...   \n",
       "692                               0.66                1.60%   \n",
       "694                               0.18                1.60%   \n",
       "695                               0.26                1.60%   \n",
       "1945                              0.10                1.60%   \n",
       "1946                              0.09                1.60%   \n",
       "\n",
       "     Estimate M1 Cashback Value Estimate Cashback Value\\n(Exclude GST)      \\\n",
       "3                         0.470                                  0.437 NaN   \n",
       "4                         0.625                                  0.581 NaN   \n",
       "5                         0.303                                  0.282 NaN   \n",
       "6                         0.210                                  0.195 NaN   \n",
       "7                         0.117                                  0.108 NaN   \n",
       "...                         ...                                    ...  ..   \n",
       "692                       0.460                                  0.428 NaN   \n",
       "694                       0.125                                  0.116 NaN   \n",
       "695                       0.179                                  0.167 NaN   \n",
       "1945                      0.070                                  0.065 NaN   \n",
       "1946                      0.061                                  0.057 NaN   \n",
       "\n",
       "     Settlement Date  \\\n",
       "3                NaN   \n",
       "4                NaN   \n",
       "5                NaN   \n",
       "6                NaN   \n",
       "7                NaN   \n",
       "...              ...   \n",
       "692              NaN   \n",
       "694              NaN   \n",
       "695              NaN   \n",
       "1945             NaN   \n",
       "1946             NaN   \n",
       "\n",
       "     Partner Approved but payment not received. But pulseid have done the settlement  \n",
       "3                                                   NaN                               \n",
       "4                                                   NaN                               \n",
       "5                                                   NaN                               \n",
       "6                                                   NaN                               \n",
       "7                                                   NaN                               \n",
       "...                                                 ...                               \n",
       "692                                                 NaN                               \n",
       "694                                                 NaN                               \n",
       "695                                                 NaN                               \n",
       "1945                                                NaN                               \n",
       "1946                                                NaN                               \n",
       "\n",
       "[107 rows x 16 columns]"
      ]
     },
     "execution_count": 21,
     "metadata": {},
     "output_type": "execute_result"
    }
   ],
   "source": [
    "from datetime import datetime\n",
    "\n",
    "today = datetime.today().date()\n",
    "df['Conversion Time'] = pd.to_datetime(df['Conversion Time'])\n",
    "df_after_today = df[df['Conversion Time'].dt.date > today]\n",
    "df_after_today \n"
   ]
  },
  {
   "cell_type": "code",
   "execution_count": 23,
   "metadata": {},
   "outputs": [
    {
     "name": "stderr",
     "output_type": "stream",
     "text": [
      "/var/folders/20/rv098dm17pn4rlbzdlsk2c240000gn/T/ipykernel_1472/1512622249.py:1: SettingWithCopyWarning: \n",
      "A value is trying to be set on a copy of a slice from a DataFrame.\n",
      "Try using .loc[row_indexer,col_indexer] = value instead\n",
      "\n",
      "See the caveats in the documentation: https://pandas.pydata.org/pandas-docs/stable/user_guide/indexing.html#returning-a-view-versus-a-copy\n",
      "  df_after_today['Conversion Time'] = df_after_today['Conversion Time'].dt.strftime('%m/%d/%Y')\n"
     ]
    },
    {
     "data": {
      "text/html": [
       "<div>\n",
       "<style scoped>\n",
       "    .dataframe tbody tr th:only-of-type {\n",
       "        vertical-align: middle;\n",
       "    }\n",
       "\n",
       "    .dataframe tbody tr th {\n",
       "        vertical-align: top;\n",
       "    }\n",
       "\n",
       "    .dataframe thead th {\n",
       "        text-align: right;\n",
       "    }\n",
       "</style>\n",
       "<table border=\"1\" class=\"dataframe\">\n",
       "  <thead>\n",
       "    <tr style=\"text-align: right;\">\n",
       "      <th></th>\n",
       "      <th>Conversion ID</th>\n",
       "      <th>Advertiser</th>\n",
       "      <th>Status</th>\n",
       "      <th>Order ID</th>\n",
       "      <th>Conversion Time</th>\n",
       "      <th>Click Time</th>\n",
       "      <th>Currency</th>\n",
       "      <th>EUID</th>\n",
       "      <th>Estimate Order Value</th>\n",
       "      <th>Estimate Optimise Cashback Value</th>\n",
       "      <th>Cashback % or Amount</th>\n",
       "      <th>Estimate M1 Cashback Value</th>\n",
       "      <th>Estimate Cashback Value\\n(Exclude GST)</th>\n",
       "      <th></th>\n",
       "      <th>Settlement Date</th>\n",
       "      <th>Partner Approved but payment not received. But pulseid have done the settlement</th>\n",
       "    </tr>\n",
       "  </thead>\n",
       "  <tbody>\n",
       "    <tr>\n",
       "      <th>3</th>\n",
       "      <td>cf86acb687da4840a90354630870b651-1</td>\n",
       "      <td>Shopee SG</td>\n",
       "      <td>Pending</td>\n",
       "      <td>240412J6U1DMMX_19684223859_1</td>\n",
       "      <td>12/04/2024</td>\n",
       "      <td>04/12/2024 20:54</td>\n",
       "      <td>SGD</td>\n",
       "      <td>bd62c2f0-929b-48d6-891a-e9c210c68b10</td>\n",
       "      <td>29.36</td>\n",
       "      <td>0.68</td>\n",
       "      <td>1.60%</td>\n",
       "      <td>0.470</td>\n",
       "      <td>0.437</td>\n",
       "      <td>NaN</td>\n",
       "      <td>NaN</td>\n",
       "      <td>NaN</td>\n",
       "    </tr>\n",
       "    <tr>\n",
       "      <th>4</th>\n",
       "      <td>c2587a626efc4fd4a36e7f725e37a70b-1</td>\n",
       "      <td>Shopee SG</td>\n",
       "      <td>Pending</td>\n",
       "      <td>240412J5G27R82_24872442510_1</td>\n",
       "      <td>12/04/2024</td>\n",
       "      <td>04/12/2024 20:32</td>\n",
       "      <td>SGD</td>\n",
       "      <td>a575aea7-1438-47a5-93fe-17d735dc21f9</td>\n",
       "      <td>39.05</td>\n",
       "      <td>0.90</td>\n",
       "      <td>1.60%</td>\n",
       "      <td>0.625</td>\n",
       "      <td>0.581</td>\n",
       "      <td>NaN</td>\n",
       "      <td>NaN</td>\n",
       "      <td>NaN</td>\n",
       "    </tr>\n",
       "    <tr>\n",
       "      <th>5</th>\n",
       "      <td>9222f5a610524c2bb03201c54cd9e51f-1</td>\n",
       "      <td>Shopee SG</td>\n",
       "      <td>Pending</td>\n",
       "      <td>240412J4CWW77S_16607128003_1</td>\n",
       "      <td>12/04/2024</td>\n",
       "      <td>04/12/2024 20:10</td>\n",
       "      <td>SGD</td>\n",
       "      <td>b7bb0e0b-c997-4af5-9555-2c29cee5d9a9</td>\n",
       "      <td>18.95</td>\n",
       "      <td>0.44</td>\n",
       "      <td>1.60%</td>\n",
       "      <td>0.303</td>\n",
       "      <td>0.282</td>\n",
       "      <td>NaN</td>\n",
       "      <td>NaN</td>\n",
       "      <td>NaN</td>\n",
       "    </tr>\n",
       "    <tr>\n",
       "      <th>6</th>\n",
       "      <td>490557b541a343e496c09d30fcf1ebb0-1</td>\n",
       "      <td>Shopee SG</td>\n",
       "      <td>Pending</td>\n",
       "      <td>240412J4CWW77S_23189763728_3</td>\n",
       "      <td>12/04/2024</td>\n",
       "      <td>04/12/2024 20:10</td>\n",
       "      <td>SGD</td>\n",
       "      <td>b7bb0e0b-c997-4af5-9555-2c29cee5d9a9</td>\n",
       "      <td>13.12</td>\n",
       "      <td>0.30</td>\n",
       "      <td>1.60%</td>\n",
       "      <td>0.210</td>\n",
       "      <td>0.195</td>\n",
       "      <td>NaN</td>\n",
       "      <td>NaN</td>\n",
       "      <td>NaN</td>\n",
       "    </tr>\n",
       "    <tr>\n",
       "      <th>7</th>\n",
       "      <td>770ee56257674ed1b4cbfcb9c977b06f-1</td>\n",
       "      <td>Shopee SG</td>\n",
       "      <td>Pending</td>\n",
       "      <td>240412J4CWW77S_16607128003_2</td>\n",
       "      <td>12/04/2024</td>\n",
       "      <td>04/12/2024 20:10</td>\n",
       "      <td>SGD</td>\n",
       "      <td>b7bb0e0b-c997-4af5-9555-2c29cee5d9a9</td>\n",
       "      <td>7.29</td>\n",
       "      <td>0.17</td>\n",
       "      <td>1.60%</td>\n",
       "      <td>0.117</td>\n",
       "      <td>0.108</td>\n",
       "      <td>NaN</td>\n",
       "      <td>NaN</td>\n",
       "      <td>NaN</td>\n",
       "    </tr>\n",
       "    <tr>\n",
       "      <th>...</th>\n",
       "      <td>...</td>\n",
       "      <td>...</td>\n",
       "      <td>...</td>\n",
       "      <td>...</td>\n",
       "      <td>...</td>\n",
       "      <td>...</td>\n",
       "      <td>...</td>\n",
       "      <td>...</td>\n",
       "      <td>...</td>\n",
       "      <td>...</td>\n",
       "      <td>...</td>\n",
       "      <td>...</td>\n",
       "      <td>...</td>\n",
       "      <td>...</td>\n",
       "      <td>...</td>\n",
       "      <td>...</td>\n",
       "    </tr>\n",
       "    <tr>\n",
       "      <th>692</th>\n",
       "      <td>2b1c39734eb04a57b4f40fc248bc5e1f</td>\n",
       "      <td>Shopee SG</td>\n",
       "      <td>Pending</td>\n",
       "      <td>2404075QM1B36V_21806490074_1</td>\n",
       "      <td>07/04/2024</td>\n",
       "      <td>04/05/2024 07:32</td>\n",
       "      <td>SGD</td>\n",
       "      <td>6518faa7-3301-4c33-b7b3-58ba405cfaa2</td>\n",
       "      <td>28.78</td>\n",
       "      <td>0.66</td>\n",
       "      <td>1.60%</td>\n",
       "      <td>0.460</td>\n",
       "      <td>0.428</td>\n",
       "      <td>NaN</td>\n",
       "      <td>NaN</td>\n",
       "      <td>NaN</td>\n",
       "    </tr>\n",
       "    <tr>\n",
       "      <th>694</th>\n",
       "      <td>e3f48de65cd54eb198fc27af1aa26645-1</td>\n",
       "      <td>Shopee SG</td>\n",
       "      <td>Pending</td>\n",
       "      <td>2404088085MNR9_22723731422_1</td>\n",
       "      <td>08/04/2024</td>\n",
       "      <td>04/05/2024 06:00</td>\n",
       "      <td>SGD</td>\n",
       "      <td>bcdb009a-7b73-4b8a-b2ce-a3bc4e0059b5</td>\n",
       "      <td>7.79</td>\n",
       "      <td>0.18</td>\n",
       "      <td>1.60%</td>\n",
       "      <td>0.125</td>\n",
       "      <td>0.116</td>\n",
       "      <td>NaN</td>\n",
       "      <td>NaN</td>\n",
       "      <td>NaN</td>\n",
       "    </tr>\n",
       "    <tr>\n",
       "      <th>695</th>\n",
       "      <td>0965887ac676436781183ac235cc63e5-1</td>\n",
       "      <td>Shopee SG</td>\n",
       "      <td>Pending</td>\n",
       "      <td>2404088085MNR9_22923734043_2</td>\n",
       "      <td>08/04/2024</td>\n",
       "      <td>04/05/2024 06:00</td>\n",
       "      <td>SGD</td>\n",
       "      <td>bcdb009a-7b73-4b8a-b2ce-a3bc4e0059b5</td>\n",
       "      <td>11.21</td>\n",
       "      <td>0.26</td>\n",
       "      <td>1.60%</td>\n",
       "      <td>0.179</td>\n",
       "      <td>0.167</td>\n",
       "      <td>NaN</td>\n",
       "      <td>NaN</td>\n",
       "      <td>NaN</td>\n",
       "    </tr>\n",
       "    <tr>\n",
       "      <th>1945</th>\n",
       "      <td>438ca706f08d400b90e63069a7d58669-1</td>\n",
       "      <td>Shopee SG</td>\n",
       "      <td>Pending</td>\n",
       "      <td>2404073F8CVDNV_21584629347_2</td>\n",
       "      <td>07/04/2024</td>\n",
       "      <td>04/02/2024 10:14</td>\n",
       "      <td>SGD</td>\n",
       "      <td>ba640a2d-b4ba-4e6e-a4af-1e41e93215f1</td>\n",
       "      <td>4.38</td>\n",
       "      <td>0.10</td>\n",
       "      <td>1.60%</td>\n",
       "      <td>0.070</td>\n",
       "      <td>0.065</td>\n",
       "      <td>NaN</td>\n",
       "      <td>NaN</td>\n",
       "      <td>NaN</td>\n",
       "    </tr>\n",
       "    <tr>\n",
       "      <th>1946</th>\n",
       "      <td>1636ebc033934f6b88114b3c4a020f4e-1</td>\n",
       "      <td>Shopee SG</td>\n",
       "      <td>Pending</td>\n",
       "      <td>2404073F8CVDNV_21584629347_1</td>\n",
       "      <td>07/04/2024</td>\n",
       "      <td>04/02/2024 10:14</td>\n",
       "      <td>SGD</td>\n",
       "      <td>ba640a2d-b4ba-4e6e-a4af-1e41e93215f1</td>\n",
       "      <td>3.83</td>\n",
       "      <td>0.09</td>\n",
       "      <td>1.60%</td>\n",
       "      <td>0.061</td>\n",
       "      <td>0.057</td>\n",
       "      <td>NaN</td>\n",
       "      <td>NaN</td>\n",
       "      <td>NaN</td>\n",
       "    </tr>\n",
       "  </tbody>\n",
       "</table>\n",
       "<p>107 rows × 16 columns</p>\n",
       "</div>"
      ],
      "text/plain": [
       "                           Conversion ID Advertiser   Status  \\\n",
       "3     cf86acb687da4840a90354630870b651-1  Shopee SG  Pending   \n",
       "4     c2587a626efc4fd4a36e7f725e37a70b-1  Shopee SG  Pending   \n",
       "5     9222f5a610524c2bb03201c54cd9e51f-1  Shopee SG  Pending   \n",
       "6     490557b541a343e496c09d30fcf1ebb0-1  Shopee SG  Pending   \n",
       "7     770ee56257674ed1b4cbfcb9c977b06f-1  Shopee SG  Pending   \n",
       "...                                  ...        ...      ...   \n",
       "692     2b1c39734eb04a57b4f40fc248bc5e1f  Shopee SG  Pending   \n",
       "694   e3f48de65cd54eb198fc27af1aa26645-1  Shopee SG  Pending   \n",
       "695   0965887ac676436781183ac235cc63e5-1  Shopee SG  Pending   \n",
       "1945  438ca706f08d400b90e63069a7d58669-1  Shopee SG  Pending   \n",
       "1946  1636ebc033934f6b88114b3c4a020f4e-1  Shopee SG  Pending   \n",
       "\n",
       "                          Order ID Conversion Time        Click Time Currency  \\\n",
       "3     240412J6U1DMMX_19684223859_1      12/04/2024  04/12/2024 20:54      SGD   \n",
       "4     240412J5G27R82_24872442510_1      12/04/2024  04/12/2024 20:32      SGD   \n",
       "5     240412J4CWW77S_16607128003_1      12/04/2024  04/12/2024 20:10      SGD   \n",
       "6     240412J4CWW77S_23189763728_3      12/04/2024  04/12/2024 20:10      SGD   \n",
       "7     240412J4CWW77S_16607128003_2      12/04/2024  04/12/2024 20:10      SGD   \n",
       "...                            ...             ...               ...      ...   \n",
       "692   2404075QM1B36V_21806490074_1      07/04/2024  04/05/2024 07:32      SGD   \n",
       "694   2404088085MNR9_22723731422_1      08/04/2024  04/05/2024 06:00      SGD   \n",
       "695   2404088085MNR9_22923734043_2      08/04/2024  04/05/2024 06:00      SGD   \n",
       "1945  2404073F8CVDNV_21584629347_2      07/04/2024  04/02/2024 10:14      SGD   \n",
       "1946  2404073F8CVDNV_21584629347_1      07/04/2024  04/02/2024 10:14      SGD   \n",
       "\n",
       "                                      EUID Estimate Order Value  \\\n",
       "3     bd62c2f0-929b-48d6-891a-e9c210c68b10                29.36   \n",
       "4     a575aea7-1438-47a5-93fe-17d735dc21f9                39.05   \n",
       "5     b7bb0e0b-c997-4af5-9555-2c29cee5d9a9                18.95   \n",
       "6     b7bb0e0b-c997-4af5-9555-2c29cee5d9a9                13.12   \n",
       "7     b7bb0e0b-c997-4af5-9555-2c29cee5d9a9                 7.29   \n",
       "...                                    ...                  ...   \n",
       "692   6518faa7-3301-4c33-b7b3-58ba405cfaa2                28.78   \n",
       "694   bcdb009a-7b73-4b8a-b2ce-a3bc4e0059b5                 7.79   \n",
       "695   bcdb009a-7b73-4b8a-b2ce-a3bc4e0059b5                11.21   \n",
       "1945  ba640a2d-b4ba-4e6e-a4af-1e41e93215f1                 4.38   \n",
       "1946  ba640a2d-b4ba-4e6e-a4af-1e41e93215f1                 3.83   \n",
       "\n",
       "      Estimate Optimise Cashback Value Cashback % or Amount  \\\n",
       "3                                 0.68                1.60%   \n",
       "4                                 0.90                1.60%   \n",
       "5                                 0.44                1.60%   \n",
       "6                                 0.30                1.60%   \n",
       "7                                 0.17                1.60%   \n",
       "...                                ...                  ...   \n",
       "692                               0.66                1.60%   \n",
       "694                               0.18                1.60%   \n",
       "695                               0.26                1.60%   \n",
       "1945                              0.10                1.60%   \n",
       "1946                              0.09                1.60%   \n",
       "\n",
       "     Estimate M1 Cashback Value Estimate Cashback Value\\n(Exclude GST)      \\\n",
       "3                         0.470                                  0.437 NaN   \n",
       "4                         0.625                                  0.581 NaN   \n",
       "5                         0.303                                  0.282 NaN   \n",
       "6                         0.210                                  0.195 NaN   \n",
       "7                         0.117                                  0.108 NaN   \n",
       "...                         ...                                    ...  ..   \n",
       "692                       0.460                                  0.428 NaN   \n",
       "694                       0.125                                  0.116 NaN   \n",
       "695                       0.179                                  0.167 NaN   \n",
       "1945                      0.070                                  0.065 NaN   \n",
       "1946                      0.061                                  0.057 NaN   \n",
       "\n",
       "     Settlement Date  \\\n",
       "3                NaN   \n",
       "4                NaN   \n",
       "5                NaN   \n",
       "6                NaN   \n",
       "7                NaN   \n",
       "...              ...   \n",
       "692              NaN   \n",
       "694              NaN   \n",
       "695              NaN   \n",
       "1945             NaN   \n",
       "1946             NaN   \n",
       "\n",
       "     Partner Approved but payment not received. But pulseid have done the settlement  \n",
       "3                                                   NaN                               \n",
       "4                                                   NaN                               \n",
       "5                                                   NaN                               \n",
       "6                                                   NaN                               \n",
       "7                                                   NaN                               \n",
       "...                                                 ...                               \n",
       "692                                                 NaN                               \n",
       "694                                                 NaN                               \n",
       "695                                                 NaN                               \n",
       "1945                                                NaN                               \n",
       "1946                                                NaN                               \n",
       "\n",
       "[107 rows x 16 columns]"
      ]
     },
     "execution_count": 23,
     "metadata": {},
     "output_type": "execute_result"
    }
   ],
   "source": [
    "df_after_today['Conversion Time'] = df_after_today['Conversion Time'].dt.strftime('%m/%d/%Y')\n",
    "df_after_today\n"
   ]
  },
  {
   "cell_type": "code",
   "execution_count": null,
   "metadata": {},
   "outputs": [],
   "source": []
  },
  {
   "cell_type": "markdown",
   "metadata": {},
   "source": [
    "# Trend analysis with different values"
   ]
  },
  {
   "cell_type": "code",
   "execution_count": 27,
   "metadata": {},
   "outputs": [
    {
     "name": "stderr",
     "output_type": "stream",
     "text": [
      "/var/folders/20/rv098dm17pn4rlbzdlsk2c240000gn/T/ipykernel_1472/32961357.py:15: UserWarning:\n",
      "\n",
      "Could not infer format, so each element will be parsed individually, falling back to `dateutil`. To ensure parsing is consistent and as-expected, please specify a format.\n",
      "\n"
     ]
    },
    {
     "data": {
      "application/vnd.plotly.v1+json": {
       "config": {
        "plotlyServerURL": "https://plot.ly"
       },
       "data": [
        {
         "hovertemplate": "Month=%{x}<br>Redemptions=%{y}<extra></extra>",
         "legendgroup": "",
         "line": {
          "color": "#636efa",
          "dash": "solid"
         },
         "marker": {
          "symbol": "circle"
         },
         "mode": "lines+markers",
         "name": "",
         "orientation": "v",
         "showlegend": false,
         "type": "scatter",
         "x": [
          "2021-11-01T00:00:00",
          "2021-12-01T00:00:00",
          "2022-01-01T00:00:00",
          "2022-03-01T00:00:00",
          "2022-04-01T00:00:00",
          "2022-05-01T00:00:00",
          "2022-06-01T00:00:00",
          "2022-07-01T00:00:00",
          "2022-08-01T00:00:00",
          "2022-09-01T00:00:00",
          "2022-10-01T00:00:00",
          "2022-11-01T00:00:00",
          "2022-12-01T00:00:00",
          "2023-01-01T00:00:00",
          "2023-02-01T00:00:00",
          "2023-03-01T00:00:00",
          "2023-04-01T00:00:00",
          "2023-05-01T00:00:00",
          "2023-06-01T00:00:00",
          "2023-07-01T00:00:00",
          "2023-08-01T00:00:00",
          "2023-09-01T00:00:00",
          "2023-10-01T00:00:00",
          "2023-11-01T00:00:00",
          "2023-12-01T00:00:00",
          "2024-01-01T00:00:00",
          "2024-02-01T00:00:00"
         ],
         "xaxis": "x",
         "y": [
          11,
          8,
          3,
          9,
          114,
          94,
          54,
          107,
          93,
          164,
          265,
          132,
          328,
          168,
          154,
          156,
          16,
          77,
          150,
          157,
          441,
          944,
          679,
          766,
          982,
          50,
          5
         ],
         "yaxis": "y"
        }
       ],
       "layout": {
        "legend": {
         "tracegroupgap": 0
        },
        "template": {
         "data": {
          "bar": [
           {
            "error_x": {
             "color": "#2a3f5f"
            },
            "error_y": {
             "color": "#2a3f5f"
            },
            "marker": {
             "line": {
              "color": "white",
              "width": 0.5
             },
             "pattern": {
              "fillmode": "overlay",
              "size": 10,
              "solidity": 0.2
             }
            },
            "type": "bar"
           }
          ],
          "barpolar": [
           {
            "marker": {
             "line": {
              "color": "white",
              "width": 0.5
             },
             "pattern": {
              "fillmode": "overlay",
              "size": 10,
              "solidity": 0.2
             }
            },
            "type": "barpolar"
           }
          ],
          "carpet": [
           {
            "aaxis": {
             "endlinecolor": "#2a3f5f",
             "gridcolor": "#C8D4E3",
             "linecolor": "#C8D4E3",
             "minorgridcolor": "#C8D4E3",
             "startlinecolor": "#2a3f5f"
            },
            "baxis": {
             "endlinecolor": "#2a3f5f",
             "gridcolor": "#C8D4E3",
             "linecolor": "#C8D4E3",
             "minorgridcolor": "#C8D4E3",
             "startlinecolor": "#2a3f5f"
            },
            "type": "carpet"
           }
          ],
          "choropleth": [
           {
            "colorbar": {
             "outlinewidth": 0,
             "ticks": ""
            },
            "type": "choropleth"
           }
          ],
          "contour": [
           {
            "colorbar": {
             "outlinewidth": 0,
             "ticks": ""
            },
            "colorscale": [
             [
              0,
              "#0d0887"
             ],
             [
              0.1111111111111111,
              "#46039f"
             ],
             [
              0.2222222222222222,
              "#7201a8"
             ],
             [
              0.3333333333333333,
              "#9c179e"
             ],
             [
              0.4444444444444444,
              "#bd3786"
             ],
             [
              0.5555555555555556,
              "#d8576b"
             ],
             [
              0.6666666666666666,
              "#ed7953"
             ],
             [
              0.7777777777777778,
              "#fb9f3a"
             ],
             [
              0.8888888888888888,
              "#fdca26"
             ],
             [
              1,
              "#f0f921"
             ]
            ],
            "type": "contour"
           }
          ],
          "contourcarpet": [
           {
            "colorbar": {
             "outlinewidth": 0,
             "ticks": ""
            },
            "type": "contourcarpet"
           }
          ],
          "heatmap": [
           {
            "colorbar": {
             "outlinewidth": 0,
             "ticks": ""
            },
            "colorscale": [
             [
              0,
              "#0d0887"
             ],
             [
              0.1111111111111111,
              "#46039f"
             ],
             [
              0.2222222222222222,
              "#7201a8"
             ],
             [
              0.3333333333333333,
              "#9c179e"
             ],
             [
              0.4444444444444444,
              "#bd3786"
             ],
             [
              0.5555555555555556,
              "#d8576b"
             ],
             [
              0.6666666666666666,
              "#ed7953"
             ],
             [
              0.7777777777777778,
              "#fb9f3a"
             ],
             [
              0.8888888888888888,
              "#fdca26"
             ],
             [
              1,
              "#f0f921"
             ]
            ],
            "type": "heatmap"
           }
          ],
          "heatmapgl": [
           {
            "colorbar": {
             "outlinewidth": 0,
             "ticks": ""
            },
            "colorscale": [
             [
              0,
              "#0d0887"
             ],
             [
              0.1111111111111111,
              "#46039f"
             ],
             [
              0.2222222222222222,
              "#7201a8"
             ],
             [
              0.3333333333333333,
              "#9c179e"
             ],
             [
              0.4444444444444444,
              "#bd3786"
             ],
             [
              0.5555555555555556,
              "#d8576b"
             ],
             [
              0.6666666666666666,
              "#ed7953"
             ],
             [
              0.7777777777777778,
              "#fb9f3a"
             ],
             [
              0.8888888888888888,
              "#fdca26"
             ],
             [
              1,
              "#f0f921"
             ]
            ],
            "type": "heatmapgl"
           }
          ],
          "histogram": [
           {
            "marker": {
             "pattern": {
              "fillmode": "overlay",
              "size": 10,
              "solidity": 0.2
             }
            },
            "type": "histogram"
           }
          ],
          "histogram2d": [
           {
            "colorbar": {
             "outlinewidth": 0,
             "ticks": ""
            },
            "colorscale": [
             [
              0,
              "#0d0887"
             ],
             [
              0.1111111111111111,
              "#46039f"
             ],
             [
              0.2222222222222222,
              "#7201a8"
             ],
             [
              0.3333333333333333,
              "#9c179e"
             ],
             [
              0.4444444444444444,
              "#bd3786"
             ],
             [
              0.5555555555555556,
              "#d8576b"
             ],
             [
              0.6666666666666666,
              "#ed7953"
             ],
             [
              0.7777777777777778,
              "#fb9f3a"
             ],
             [
              0.8888888888888888,
              "#fdca26"
             ],
             [
              1,
              "#f0f921"
             ]
            ],
            "type": "histogram2d"
           }
          ],
          "histogram2dcontour": [
           {
            "colorbar": {
             "outlinewidth": 0,
             "ticks": ""
            },
            "colorscale": [
             [
              0,
              "#0d0887"
             ],
             [
              0.1111111111111111,
              "#46039f"
             ],
             [
              0.2222222222222222,
              "#7201a8"
             ],
             [
              0.3333333333333333,
              "#9c179e"
             ],
             [
              0.4444444444444444,
              "#bd3786"
             ],
             [
              0.5555555555555556,
              "#d8576b"
             ],
             [
              0.6666666666666666,
              "#ed7953"
             ],
             [
              0.7777777777777778,
              "#fb9f3a"
             ],
             [
              0.8888888888888888,
              "#fdca26"
             ],
             [
              1,
              "#f0f921"
             ]
            ],
            "type": "histogram2dcontour"
           }
          ],
          "mesh3d": [
           {
            "colorbar": {
             "outlinewidth": 0,
             "ticks": ""
            },
            "type": "mesh3d"
           }
          ],
          "parcoords": [
           {
            "line": {
             "colorbar": {
              "outlinewidth": 0,
              "ticks": ""
             }
            },
            "type": "parcoords"
           }
          ],
          "pie": [
           {
            "automargin": true,
            "type": "pie"
           }
          ],
          "scatter": [
           {
            "fillpattern": {
             "fillmode": "overlay",
             "size": 10,
             "solidity": 0.2
            },
            "type": "scatter"
           }
          ],
          "scatter3d": [
           {
            "line": {
             "colorbar": {
              "outlinewidth": 0,
              "ticks": ""
             }
            },
            "marker": {
             "colorbar": {
              "outlinewidth": 0,
              "ticks": ""
             }
            },
            "type": "scatter3d"
           }
          ],
          "scattercarpet": [
           {
            "marker": {
             "colorbar": {
              "outlinewidth": 0,
              "ticks": ""
             }
            },
            "type": "scattercarpet"
           }
          ],
          "scattergeo": [
           {
            "marker": {
             "colorbar": {
              "outlinewidth": 0,
              "ticks": ""
             }
            },
            "type": "scattergeo"
           }
          ],
          "scattergl": [
           {
            "marker": {
             "colorbar": {
              "outlinewidth": 0,
              "ticks": ""
             }
            },
            "type": "scattergl"
           }
          ],
          "scattermapbox": [
           {
            "marker": {
             "colorbar": {
              "outlinewidth": 0,
              "ticks": ""
             }
            },
            "type": "scattermapbox"
           }
          ],
          "scatterpolar": [
           {
            "marker": {
             "colorbar": {
              "outlinewidth": 0,
              "ticks": ""
             }
            },
            "type": "scatterpolar"
           }
          ],
          "scatterpolargl": [
           {
            "marker": {
             "colorbar": {
              "outlinewidth": 0,
              "ticks": ""
             }
            },
            "type": "scatterpolargl"
           }
          ],
          "scatterternary": [
           {
            "marker": {
             "colorbar": {
              "outlinewidth": 0,
              "ticks": ""
             }
            },
            "type": "scatterternary"
           }
          ],
          "surface": [
           {
            "colorbar": {
             "outlinewidth": 0,
             "ticks": ""
            },
            "colorscale": [
             [
              0,
              "#0d0887"
             ],
             [
              0.1111111111111111,
              "#46039f"
             ],
             [
              0.2222222222222222,
              "#7201a8"
             ],
             [
              0.3333333333333333,
              "#9c179e"
             ],
             [
              0.4444444444444444,
              "#bd3786"
             ],
             [
              0.5555555555555556,
              "#d8576b"
             ],
             [
              0.6666666666666666,
              "#ed7953"
             ],
             [
              0.7777777777777778,
              "#fb9f3a"
             ],
             [
              0.8888888888888888,
              "#fdca26"
             ],
             [
              1,
              "#f0f921"
             ]
            ],
            "type": "surface"
           }
          ],
          "table": [
           {
            "cells": {
             "fill": {
              "color": "#EBF0F8"
             },
             "line": {
              "color": "white"
             }
            },
            "header": {
             "fill": {
              "color": "#C8D4E3"
             },
             "line": {
              "color": "white"
             }
            },
            "type": "table"
           }
          ]
         },
         "layout": {
          "annotationdefaults": {
           "arrowcolor": "#2a3f5f",
           "arrowhead": 0,
           "arrowwidth": 1
          },
          "autotypenumbers": "strict",
          "coloraxis": {
           "colorbar": {
            "outlinewidth": 0,
            "ticks": ""
           }
          },
          "colorscale": {
           "diverging": [
            [
             0,
             "#8e0152"
            ],
            [
             0.1,
             "#c51b7d"
            ],
            [
             0.2,
             "#de77ae"
            ],
            [
             0.3,
             "#f1b6da"
            ],
            [
             0.4,
             "#fde0ef"
            ],
            [
             0.5,
             "#f7f7f7"
            ],
            [
             0.6,
             "#e6f5d0"
            ],
            [
             0.7,
             "#b8e186"
            ],
            [
             0.8,
             "#7fbc41"
            ],
            [
             0.9,
             "#4d9221"
            ],
            [
             1,
             "#276419"
            ]
           ],
           "sequential": [
            [
             0,
             "#0d0887"
            ],
            [
             0.1111111111111111,
             "#46039f"
            ],
            [
             0.2222222222222222,
             "#7201a8"
            ],
            [
             0.3333333333333333,
             "#9c179e"
            ],
            [
             0.4444444444444444,
             "#bd3786"
            ],
            [
             0.5555555555555556,
             "#d8576b"
            ],
            [
             0.6666666666666666,
             "#ed7953"
            ],
            [
             0.7777777777777778,
             "#fb9f3a"
            ],
            [
             0.8888888888888888,
             "#fdca26"
            ],
            [
             1,
             "#f0f921"
            ]
           ],
           "sequentialminus": [
            [
             0,
             "#0d0887"
            ],
            [
             0.1111111111111111,
             "#46039f"
            ],
            [
             0.2222222222222222,
             "#7201a8"
            ],
            [
             0.3333333333333333,
             "#9c179e"
            ],
            [
             0.4444444444444444,
             "#bd3786"
            ],
            [
             0.5555555555555556,
             "#d8576b"
            ],
            [
             0.6666666666666666,
             "#ed7953"
            ],
            [
             0.7777777777777778,
             "#fb9f3a"
            ],
            [
             0.8888888888888888,
             "#fdca26"
            ],
            [
             1,
             "#f0f921"
            ]
           ]
          },
          "colorway": [
           "#636efa",
           "#EF553B",
           "#00cc96",
           "#ab63fa",
           "#FFA15A",
           "#19d3f3",
           "#FF6692",
           "#B6E880",
           "#FF97FF",
           "#FECB52"
          ],
          "font": {
           "color": "#2a3f5f"
          },
          "geo": {
           "bgcolor": "white",
           "lakecolor": "white",
           "landcolor": "white",
           "showlakes": true,
           "showland": true,
           "subunitcolor": "#C8D4E3"
          },
          "hoverlabel": {
           "align": "left"
          },
          "hovermode": "closest",
          "mapbox": {
           "style": "light"
          },
          "paper_bgcolor": "white",
          "plot_bgcolor": "white",
          "polar": {
           "angularaxis": {
            "gridcolor": "#EBF0F8",
            "linecolor": "#EBF0F8",
            "ticks": ""
           },
           "bgcolor": "white",
           "radialaxis": {
            "gridcolor": "#EBF0F8",
            "linecolor": "#EBF0F8",
            "ticks": ""
           }
          },
          "scene": {
           "xaxis": {
            "backgroundcolor": "white",
            "gridcolor": "#DFE8F3",
            "gridwidth": 2,
            "linecolor": "#EBF0F8",
            "showbackground": true,
            "ticks": "",
            "zerolinecolor": "#EBF0F8"
           },
           "yaxis": {
            "backgroundcolor": "white",
            "gridcolor": "#DFE8F3",
            "gridwidth": 2,
            "linecolor": "#EBF0F8",
            "showbackground": true,
            "ticks": "",
            "zerolinecolor": "#EBF0F8"
           },
           "zaxis": {
            "backgroundcolor": "white",
            "gridcolor": "#DFE8F3",
            "gridwidth": 2,
            "linecolor": "#EBF0F8",
            "showbackground": true,
            "ticks": "",
            "zerolinecolor": "#EBF0F8"
           }
          },
          "shapedefaults": {
           "line": {
            "color": "#2a3f5f"
           }
          },
          "ternary": {
           "aaxis": {
            "gridcolor": "#DFE8F3",
            "linecolor": "#A2B1C6",
            "ticks": ""
           },
           "baxis": {
            "gridcolor": "#DFE8F3",
            "linecolor": "#A2B1C6",
            "ticks": ""
           },
           "bgcolor": "white",
           "caxis": {
            "gridcolor": "#DFE8F3",
            "linecolor": "#A2B1C6",
            "ticks": ""
           }
          },
          "title": {
           "x": 0.05
          },
          "xaxis": {
           "automargin": true,
           "gridcolor": "#EBF0F8",
           "linecolor": "#EBF0F8",
           "ticks": "",
           "title": {
            "standoff": 15
           },
           "zerolinecolor": "#EBF0F8",
           "zerolinewidth": 2
          },
          "yaxis": {
           "automargin": true,
           "gridcolor": "#EBF0F8",
           "linecolor": "#EBF0F8",
           "ticks": "",
           "title": {
            "standoff": 15
           },
           "zerolinecolor": "#EBF0F8",
           "zerolinewidth": 2
          }
         }
        },
        "title": {
         "text": "Monthly Redemptions Trend"
        },
        "xaxis": {
         "anchor": "y",
         "domain": [
          0,
          1
         ],
         "tickangle": 45,
         "title": {
          "text": "Month"
         }
        },
        "yaxis": {
         "anchor": "x",
         "domain": [
          0,
          1
         ],
         "title": {
          "text": "Redemptions"
         }
        }
       }
      }
     },
     "metadata": {},
     "output_type": "display_data"
    }
   ],
   "source": [
    "import pandas as pd\n",
    "import plotly.express as px\n",
    "\n",
    "data = {\n",
    "    'Year': [2021, 2021, 2022, 2022, 2022, 2022, 2022, 2022, 2022, 2022, 2022, 2022, 2022, 2023, 2023, 2023, 2023, 2023, 2023, 2023, 2023, 2023, 2023, 2023, 2023, 2024, 2024],\n",
    "    'MonthName': ['November', 'December', 'January', 'March', 'April', 'May', 'June', 'July', 'August', 'September', 'October', 'November', 'December', 'January', 'February', 'March', 'April', 'May', 'June', 'July', 'August', 'September', 'October', 'November', 'December', 'January', 'February'],\n",
    "    'Redemptions': [11, 8, 3, 9, 114, 94, 54, 107, 93, 164, 265, 132, 328, 168, 154, 156, 16, 77, 150, 157, 441, 944, 679, 766, 982, 50, 5]\n",
    "}\n",
    "\n",
    "df = pd.DataFrame(data)\n",
    "\n",
    "df['Month'] = pd.to_datetime(df['Year'].astype(str) + '-' + df['MonthName'])\n",
    "\n",
    "# Sorting the DataFrame by 'Month'\n",
    "df = df.sort_values('Month')\n",
    "\n",
    "fig = px.line(df, x='Month', y='Redemptions', title='Monthly Redemptions Trend', markers=True)\n",
    "\n",
    "# Formatting the plot\n",
    "fig.update_layout(\n",
    "    xaxis_title='Month',\n",
    "    yaxis_title='Redemptions',\n",
    "    xaxis_tickangle=45,\n",
    "    template='plotly_white'\n",
    ")\n",
    "\n",
    "# Show the interactive plot\n",
    "fig.show()"
   ]
  },
  {
   "cell_type": "code",
   "execution_count": 29,
   "metadata": {},
   "outputs": [
    {
     "name": "stderr",
     "output_type": "stream",
     "text": [
      "/var/folders/20/rv098dm17pn4rlbzdlsk2c240000gn/T/ipykernel_1472/1979135981.py:12: SettingWithCopyWarning:\n",
      "\n",
      "\n",
      "A value is trying to be set on a copy of a slice from a DataFrame.\n",
      "Try using .loc[row_indexer,col_indexer] = value instead\n",
      "\n",
      "See the caveats in the documentation: https://pandas.pydata.org/pandas-docs/stable/user_guide/indexing.html#returning-a-view-versus-a-copy\n",
      "\n",
      "/var/folders/20/rv098dm17pn4rlbzdlsk2c240000gn/T/ipykernel_1472/1979135981.py:15: SettingWithCopyWarning:\n",
      "\n",
      "\n",
      "A value is trying to be set on a copy of a slice from a DataFrame.\n",
      "Try using .loc[row_indexer,col_indexer] = value instead\n",
      "\n",
      "See the caveats in the documentation: https://pandas.pydata.org/pandas-docs/stable/user_guide/indexing.html#returning-a-view-versus-a-copy\n",
      "\n"
     ]
    },
    {
     "data": {
      "text/html": [
       "<div>\n",
       "<style scoped>\n",
       "    .dataframe tbody tr th:only-of-type {\n",
       "        vertical-align: middle;\n",
       "    }\n",
       "\n",
       "    .dataframe tbody tr th {\n",
       "        vertical-align: top;\n",
       "    }\n",
       "\n",
       "    .dataframe thead th {\n",
       "        text-align: right;\n",
       "    }\n",
       "</style>\n",
       "<table border=\"1\" class=\"dataframe\">\n",
       "  <thead>\n",
       "    <tr style=\"text-align: right;\">\n",
       "      <th></th>\n",
       "      <th>Month</th>\n",
       "      <th>Total Redemption Value</th>\n",
       "    </tr>\n",
       "  </thead>\n",
       "  <tbody>\n",
       "    <tr>\n",
       "      <th>0</th>\n",
       "      <td>2021-11-01</td>\n",
       "      <td>1.0059.59123.9430.9851.1528.5026.7531.406.406....</td>\n",
       "    </tr>\n",
       "    <tr>\n",
       "      <th>1</th>\n",
       "      <td>2021-12-01</td>\n",
       "      <td>163.3013.90348.004.501.0044.7496.9463.00</td>\n",
       "    </tr>\n",
       "    <tr>\n",
       "      <th>2</th>\n",
       "      <td>2022-01-01</td>\n",
       "      <td>32.7124.5082.50</td>\n",
       "    </tr>\n",
       "    <tr>\n",
       "      <th>3</th>\n",
       "      <td>2022-03-01</td>\n",
       "      <td>15.7569.399.0929.8011.2213.447.42257.0058.20</td>\n",
       "    </tr>\n",
       "    <tr>\n",
       "      <th>4</th>\n",
       "      <td>2022-04-01</td>\n",
       "      <td>203.908.9012.355.9183.49166.8744.7669.9928.812...</td>\n",
       "    </tr>\n",
       "  </tbody>\n",
       "</table>\n",
       "</div>"
      ],
      "text/plain": [
       "       Month                             Total Redemption Value\n",
       "0 2021-11-01  1.0059.59123.9430.9851.1528.5026.7531.406.406....\n",
       "1 2021-12-01           163.3013.90348.004.501.0044.7496.9463.00\n",
       "2 2022-01-01                                    32.7124.5082.50\n",
       "3 2022-03-01       15.7569.399.0929.8011.2213.447.42257.0058.20\n",
       "4 2022-04-01  203.908.9012.355.9183.49166.8744.7669.9928.812..."
      ]
     },
     "execution_count": 29,
     "metadata": {},
     "output_type": "execute_result"
    }
   ],
   "source": [
    "import pandas as pd\n",
    "import plotly.express as px\n",
    "\n",
    "# Load the data\n",
    "devnodes_csv_path = './m1 latest/devnodes.csv'\n",
    "df = pd.read_csv(devnodes_csv_path)\n",
    "\n",
    "# Filter approved transactions (assuming 'Approved' is the status for approved transactions)\n",
    "approved_df = df[df['Status'] == 'Approved']\n",
    "\n",
    "# Convert 'Conversion Time' to datetime format\n",
    "approved_df['Conversion Time'] = pd.to_datetime(approved_df['Conversion Time'], format='%d/%m/%Y %H:%M')\n",
    "\n",
    "# Extract Year-Month for aggregation\n",
    "approved_df['YearMonth'] = approved_df['Conversion Time'].dt.to_period('M')\n",
    "\n",
    "# Calculate the total redemption value for each month\n",
    "monthly_redemption_value = approved_df.groupby('YearMonth')['Estimate Order Value'].sum().reset_index()\n",
    "\n",
    "# Rename columns for clarity\n",
    "monthly_redemption_value.columns = ['Month', 'Total Redemption Value']\n",
    "\n",
    "# Convert 'Month' to datetime for plotting\n",
    "monthly_redemption_value['Month'] = monthly_redemption_value['Month'].dt.to_timestamp()\n",
    "\n",
    "# Display the DataFrame for verification\n",
    "monthly_redemption_value.head()"
   ]
  },
  {
   "cell_type": "code",
   "execution_count": 31,
   "metadata": {},
   "outputs": [
    {
     "data": {
      "application/vnd.plotly.v1+json": {
       "config": {
        "plotlyServerURL": "https://plot.ly"
       },
       "data": [
        {
         "hovertemplate": "Date=%{x}<br>Total Redemption Value (SGD)=%{y}<extra></extra>",
         "legendgroup": "",
         "line": {
          "color": "#636efa",
          "dash": "solid"
         },
         "marker": {
          "symbol": "circle"
         },
         "mode": "lines+markers",
         "name": "",
         "orientation": "v",
         "showlegend": false,
         "type": "scatter",
         "x": [
          "2021-11-01T00:00:00",
          "2021-12-01T00:00:00",
          "2022-01-01T00:00:00",
          "2022-03-01T00:00:00",
          "2022-04-01T00:00:00",
          "2022-05-01T00:00:00",
          "2022-06-01T00:00:00",
          "2022-07-01T00:00:00",
          "2022-08-01T00:00:00",
          "2022-09-01T00:00:00",
          "2022-10-01T00:00:00",
          "2022-11-01T00:00:00",
          "2022-12-01T00:00:00",
          "2023-01-01T00:00:00",
          "2023-02-01T00:00:00",
          "2023-03-01T00:00:00",
          "2023-04-01T00:00:00",
          "2023-05-01T00:00:00",
          "2023-06-01T00:00:00",
          "2023-07-01T00:00:00",
          "2023-08-01T00:00:00",
          "2023-09-01T00:00:00",
          "2023-10-01T00:00:00",
          "2023-11-01T00:00:00",
          "2023-12-01T00:00:00",
          "2024-01-01T00:00:00",
          "2024-02-01T00:00:00"
         ],
         "xaxis": "x",
         "y": [
          "1.0059.59123.9430.9851.1528.5026.7531.406.406.9052.90",
          "163.3013.90348.004.501.0044.7496.9463.00",
          "32.7124.5082.50",
          "15.7569.399.0929.8011.2213.447.42257.0058.20",
          "203.908.9012.355.9183.49166.8744.7669.9928.81256.343.8843.26112.471.7032.0658.3623.2915.1215.121.003.883.886.552.547.99125.3475.033.913.913.916.547.9515.1714.7314.711.741.741.741.741.481.485.3111.5212.572.702.7020.1420.143.354.9572.1071.0428.988.1481.134.805.955.851.8012.902.506.955.9516.956.206.203.743.741.2012.801.452.052.052.252.251.201.201.451.451.452.972.9615.842.052.0518.4518.454.274.274.28125.986.998.7116.239.456.902.405.453.801.851.857.8017.513.206.9517.519.7862.1063.35171.5265.947.6625.05218.00",
          "46.3512.2423.602.002.0016.55178.0021.0086.5086.506.896.896.896.8911.6210.8410.8418.0018.005.90106.31203.69108.0094.6918.396.3011.3919.9019.9010.8839.907.9019.909.80263.087.323.033.033.0213.839.876.126.126.1116.5119.0713.876.164.426.1620.24227.00226.5013.00232.79231.42133.822.7610.6454.837.1918.9010.694.174.175.905.007.8242.16408.0580.9537.90161.9093.551.532.922.922.912.918.491.351.350.900.902.451.741.747.007.002.324.632.851.4816.00",
          "66.00234.9049.708.8015.1078.524.913.603.603.603.605.825.8226.0616.1897.7211.8711.88183.96184.8010.7583.245.40436.005.914.814.8212.7323.7128.9823.7123.7024.9022.6517.6817.6723.8223.8249.8025.32390.97177.007.9019.569.9014.906.9018.9014.4019.5625.221.957.007.00",
          "42.797.2678.22121.49117.33111.4043.1415.76208.4716.509.409.405.955.955.9563.7016.4116.410.1017.5922.1822.1822.1715.5515.5537.50134.409.4110.453.233.233.008.0012.5025.9919.7340.0923.4922.4510.8310.8326.1210.9357.804.031.780.688.584.085.3624.517.667.665.218.759.977.596.78433.0052.6924.8516.394.954.959.756.356.348.2715.414.244.244.036.106.9912.597.718.006.8019.2017.7627.9529.2527.3727.3827.3727.3815.4638.765.665.6645.8345.831.731.721.7332.1563.7344.984.594.593.772.5622.223.893.893.893.89",
          "18.9822.2622.2522.257.007.0020.988.4024.0411.1620.1921.8119.4679.7819.388.626.5964.2116.5816.578.63119.2722.20159.1329.8037.1078.613.905.5089.4513.4513.4513.4513.455.6712.6112.622.992.992.982.989.5022.1313.7213.715.215.904.694.6917.1212.169.599.609.607.277.287.2833.168.849.7313.309.73103.61206.291.621.621.628.344.991.6245.9127.0026.9011.90101.523.903.9012.948.9413.6532.7358.4955.9892.52121.5516.5816.5811.057.338.7147.096.1310.76",
          "68.3684.5013.4811.5018.479.249.2423.007.167.167.1621.497.1878.902039.0627.99117.3828.651.793.980.106.90118.53135.000.9934.7574.86116.983.983.984.003.983.3043.9939.908.909.990.790.770.7719.953.840.709.5413.1359.590.720.710.71259.65168.97138.5023.904.4479.006.704.8931.0094.1970.00114.7735.15127.1634.97151.945.718.198.188.198.185.6816.995.377.561.591.581.587.547.543.083.083.085.545.544.348.604.338.598.598.595.384.5011.156.421.308.408.404.4612.1520.4221.0024.008.704.778.3019.698.5114.084.929.459.9819.464.917.2711.798.298.6242.4615.7237.6115.71123.646.814.6718.838.1810.0717.3610.738.8710.1442.5242.5242.5142.5242.5142.5212.0016.1718.798.5129.578.51587.0238.5020.228.267.876.236.666.316.405.355.365.3673.524.409.4718.814.414.41111.40298.2123.00",
          "529.0023.806.935.904.9827.896.005.003.203.203.203.203.20171.5085.136.904.474.478.368.364.568.378.378.388.3812.32169.085.584.505.575.574.906.90119.0614.6113.6526.90171.00184.002.042.806.070.068.062.812.8128.932.5512.753.473.474.874.876.885.255.256.172.443.526.882.394.265.764.595.086.023.013.015.0569.674.986.9017.076.0038.2536.0035.444.8163.207.1635.4073.584.7417.6729.90198.0417.045.9518.4516.779.593.253.254.5912.6212.968.8522.336.505.281.886.015.032.2411.0313.6611.7719.184.605.6719.5518.3521.175.315.305.315.315.3118.69133.20142.5658.8527.2921.7011.665.095.075.075.085.0812.322.244.2216.2751.015.4043.0015.0015.0015.0023.432.099.8510.8512.7512.752.0810.836.266.266.2610.2810.286.266.266.2613.1813.1616.2816.282.853.0639.8037.0115.07116.97175.1838.6629.5729.577.90376.86150.661.6012.295.341.591.592.203.1016.80137.7761.0012.259.139.1310.9010.888.3935.7019.920.980.9015.6014.6527.071.766.972.4936.9536.9520.96146.07122.6913.9911.4011.4011.4011.4056.00300.0015.1015.1058.6512.055.9850.808.928.499.664.354.354.354.355.504.807.798.258.257.997.997.997.997.997.997.997.998.008.007.997.997.997.997.997.997.998.008.007.997.997.997.997.997.997.997.997.998.008.008.947.372146.3110.032.7145.90",
          "3.743.743.748.505.675.69143.678.203.691.1349.0471.0212.6013.901.031.995.991.361.500.980.988.888.883.5510.885.995.992.182.902.903.498.9072.801.996.234.002.500.880.890.909.409.403.803.793.793.7911.2316.954.674.678.3945.67263.265.761.0126.678.5836.3527.803.502.882.823.711.821.853.0043.0343.0243.030.880.880.880.880.8845.008.608.608.6122.14108.005.236.086.0755.257.9048.061.634.2714.061.011.018.4063.5818.048.751.777.736.806.806.806.796.771.4427.3711.9310.7612.1526.5826.586.111.501.5012.8048.7615.0014.9914.995.577.85212.8111.008.3613.219.906.716.716.85237.683.654.64433.0076.51",
          "1.722.5944.5344.5211.3511.71125.002.662.6610.924.009.909.901.581.581.722.111.721.725.183.372.101.312.881.321.421.321.3210.555.0637.731.1233.695.241.495.995.995.625.995.9926.1010.9022.9918.196.0538.0038.007.2810.868.052.071820.004.778.663.533.523.5242.3942.39224.114.644.62115.149.1046.8713.6919.904.003.2421.956.286.286.277.6017.888.828.8262.7017.6179.9551.7951.8016.927.990.107.9931.960.162.863.742.8959.0013.906.9969.00105.4329.7525.204.477.276.105.993.163.163.163.167.564.7432.309.849.949.944.994.997.667.667.667.0514.231.771.761.771.771.764.661.786.294.657.067.067.9544.907.9525.0025.004.854.856.7015.807.357.354.304.604.253.603.6029.854.355.126.957.485.112.5510.806.809.203.203.203.205.125.1110.952.357.4824.904.184.184.184.184.502.512.512.519.115.694.7966.7713.500.690.371.1819.743.90189.716.005.305.3018.6929.0014.16119.753.743.0340.8340.833.039.8089.9016.607.687.6848.987.6948.9717.627.718.902.9316.4916.4958.9758.976.796.793.933.933.933.933.931.993.989.509.5070.68145.0070.0911.4410.2710.279.243.7413.498.4838.536.2915.0089.35218.88160.3724.403.316.4177.00106.87484.57363.432.2670.0018.554.054.050.947.704.384.061.231.342.967.957.967.967.970.845.5915.5517.3914.5025.2939.9011.8526.711.2926.5812.471.3012.4815.0715.0729.4011.9312.9011.9112.725.5113.0513.055.7746.9419.9018.900.731.581.461.071.301.531.281.282.291.181.090.700.674.412.261.80114.2028.064.131.901.8943.0041.9541.953.363.5713.0526.0814.5718.8718.8718.8718.8642.8942.903.242.471.24",
          "12.9019.0023.6020.5420.002.072.075.538.708.70143.459.0613.7513.3510.7411.3311.3929.613.78207.0018.256.015.1113.30130.005.6811.4222.3022.214.533.1213.9427.463.633.643.405.705.9518.907.67113.793.733.7237.0837.0714.8416.945.755.409.006.906.908.458.4512.699.0275.0080.0415.3925.3714.187.111.9311.1811.1924.923.0013.507.721.6570.432.312.2020.51273.9045.727.957.955.825.825.825.835.835.835.835.835.830.6210.5510.5510.5610.561.031.020.991.301.057.704.7262.0040.893.2010.5810.6811.0027.9030.697.5911.1213.195.642.762.762.765.005.002.5011.444.994.997.407.409.873.202.772.7512.0712.072.983.653.663.662.972.9724.0023.9823.9897.513.228.004.9513.571.101.091.091.0918.6213.0079.4615.2643.541.9239.4039.4039.4116.545.078.548.542.568.8515.3018.4282.6482.6382.6371.9017.78",
          "57.724.1870.209.929.926.466.4625.993.063.103.897.907.902.4417.332.472.472.472.472.4732.056.925.263.2320.6418.733.753.993.9941.585.0010.758.034.079.9531.8631.867.507.5019.447.907.9936.334.1911.7836.0022.851.247.198.0949.9220.2817.2814.021.934.411.375.9425.491.401.401.401.251.395.905.905.901.951.951.9419.5019.503.233.239.919.939.759.9325.3320.637.917.903.244.266.376.376.376.3740.2242.009.602.851.921.911.915.2212.9918.781.2919.849.4687.3523.191.894.269.7326.1016.6017.554.759.2412.929.4729.9929.9829.9914.587.396.4770.845.787.2745.019.4157.662.342.3446.7646.7626.5539.0018.9518.9518.9518.951.531.442.152.1524.952.5251.2410.8714.807.865.995.9922.761.251.253.101.248.5250.55",
          "5.372.526.351.236.016.0126.601.441.431.431.431.431.433.872.672.682.6842.3693.07263.1920.1221.6120.0028.341.2212.0366.47100.2579.9974.3874.3874.3874.3874.3874.3874.3874.3818.91139.8066.4572.96167.9010.348.4513.30780.002.722.3088.652.2334.204.704.70101.6029.5018.5018.4818.48110.0525.0021.907.94135.824.7638.185.964.035.287.0221.021.7513.034.141.774.391.921.911.927.147.137.145.5479.0051.6828.962.163.403.401.631.631.634.677.071.6427.1627.1671.0214.404.142.800.061.5122.201.311.325.6133.3652.53108.8069.2212.243.8736.2636.265.0524.996.9927.209.328.364.3931.517.911.7531.504.3829.006.909.0021.3911.4422.647.247.245.2645.750.069.839.839.8429.7029.7129.7143.2343.2494.091.311.3174.803.789.192.202.136.698.4227.66",
          "8.409.7410.711.701.176.531.285.825.822.8818.9516.809.472.322.322.31",
          "2.8611.371.0312.5033.886.583.783.0418.246.0837.741.631.631.631.641.641.641.333.794.7537.4483.68103.5415.184.974.474.614.6113.1913.195.607.157.157.167.165.6119.094.534.536.0310.2328.9819.903.839.409.5810.4510.026.853.593.6015.1013.7219.7212.089.785.999.008.8219.554.712.152.162.1610.682.152.1643.42891.1918.347.958.558.5411.9314.905.401.50",
          "1.761.7870.6035.3059.001.903.962.042.5211.4519.0034.0155.68187.868.821.3910.7910.7912.8512.8512.4212.4212.338.5018.8033.408.706.998.218.218.218.218.785.889.5018.361.2128.953.552.481.521.5331.002.273.2211.7789.4715.5311.6920.4111.4241.755.902.808.891.2629.6010.8813.907.908.9024.9916.881.411.332.3722.0012.2818.5439.167.9919.8022.8717.8921.352.6624.8423.992.663.013.807.987.991.8756.136.5013.5013.5014.1511.649.9419.5136.7920.2966.481.381.3824.499.649.64118.5629.6758.1726.5919.4788.4728.556.295.6818.799.937.3124.635.6642.843.023.7812.903.219.292.869.864.404.121.442.522.412.922.111.826.3327.573.660.971.684.331.6412.9011.5054.7536.092.003.943.942.718.694.2916.8216.8149.83",
          "35.2615.012.575.142.572.576.866.071.6019.8812.315.158.8654.311.723.9041.8542.0019.1123.6550.6182.7511.6818.3815.6216.315.605.595.5960.973.883.528.0531.6331.152.738.728.728.728.7114.2810.7217.702.712.855.175.1812.3212.069.826.58167.0014.994.282.401.731.7322.507.6820.1120.1120.1120.1120.1120.1620.1756.574.951.933.234.213.823.9914.9012.647.5221.386.204.1420.5946.8168.7611.261.931.922.0073.0049.9910.40366.001.9367.511676.292.582.595.1726.828.326.388.004.8114.413.407.3311.7915.8518.73244.917.5813.3422.5054.5040.4214.6710.2459.7333.01137.8833.021.381.461.301.551.461.601.581.582.0929.206.6511.902.557.556.806.0844.9323.117.9011.992.460.380.384.3851.6638.5219.791.4828.5958.1018.497.5817.3428.3061.2918.8853.1712.90",
          "112.5511.344.5888.7838.1632.1316.943.085.808.419.391.042.732.732.732.7313.502.902.902.902.902.9011.408.408.227.5911.7412.178.691.587.476.814.691.511.525.935.935.4710.291.584.2910.5210.520.3436.2145.5026.921.751.754.446.408.89108.187.417.417.411.362.993.640.850.840.820.840.821.3823.450.8512.926.9912.527.5814.25248.426.085.5816.408.245.872.506.488.668.648.645.3311.222.1416.14151.047.458.107.458.108.108.108.1032.2621.0026.8724.9926.8724.9919.551.0811.1411.148.261.967.285.277.385.866.225.902.415.805.8021.4521.4522.483.415.935.92126.89113.382.914.341.472.892.892.8911.34104.2611.0711.0711.078.9215.7911.3667.488.9267.4815.7911.3612.426.3712.426.3731.321.404.476.1012.6010.2274.6211.6213.4011.5518.523.9213.2120.5620.5620.557.904.5011.776.866.865.0444.9529.1949.4857.3252.6333.336.4715.90682.0013.921.251.251.251.251.231.231.251.2314.367.787.777.777.7832.9615.1819.4211.118.9155.640.9625.655.6051.202.0719.723.805.839.8816.6514.7312.0033.155.075.061.622.995.955.6349.806.9724.2215.005.415.425.4312.004.298.0212.0315.8825.774.744.741.4945.725.293.303.0919.6322.0819.6336.1845.9645.9645.986.896.8920.8120.8120.8120.814.884.864.884.866.406.4010.084.034.034.039.415.415.415.415.415.416.634.5523.603.773.363.457.1322.5322.536.974.604.5521.7714.584.294.554.5511.935.955.3214.6610.1720.002.235.803.104.405.0814.0825.4923.4631.322.782.202.215.858.7710.629.6011.708.991.101.672.137.424.2311.315.9312.4213.502.642.643.302.643.302.682.813.8910.4123.003.963.911.0770.1490.9045.7749.9814.360.515.5610.55313.009.336.228.7520.241.845.601.803.9923.3848.154.437.6822.762.0224.475.615.615.614.314.471.541.5436.7836.3657.4955.0353.4013.1513.0825.00216.923.1862.7416.167.043.473.4712.069.094.6414.008.673.933.4113.1716.0514.5714.0617.826.456.456.456.4738.3219.278.863.666.1910.5613.0914.020.7412.006.748.421.871.587.516.9251.20192.0055.004.504.484.486.567.399.22145.342.0026.83106.253.743.4215.7946.9910.0310.0310.039.475.9414.587.4516.749.4710.641.601.601.5716.805.4410.4424.60",
          "7.8455.3917.5018.7724.5027.2915.6018.7618.7618.7618.7659.015.2543.6024.756.4616.0213.327.646.5751.0220.3020.3020.3130.0430.0420.3020.3020.316.5751.0230.0430.0456.036.285.401.611.611.945.8811.8513.218.968.964.5812.1231.7615.8815.8861.9924.8424.8426.1912.515.1110.181.891.893.781.8911.3613.343.665.010.790.918.808.8021.0021.0021.0012.384.9012.6021.4927.020.971.2716.3612.257.507.500.660.660.660.660.660.6674.355.94104.6561.8815.9015.907.72131.0014.0012.2812.284.3323.602.6517.4816.8265.131.8716.005.3922.4556.906.456.456.4517.757.449.618.6220.7857.6026.7432.9231.1211.2125.0014.765.562.2726.005.018.935.718.9318.8218.8218.8221.3016.092.233.300.662.23323.8810.6931.9094.301880.9312.9412.9413.505.76212.1113.0395.9923.9910.514.622.739.7313.843.4027.9512.837.9127.10127.7828.625.683.893.883.8936.2819.8919.896.972.222.222.962.963.2218.001.073.105.262.143.051.3452.3230.268.874.0616.9918.3813.0713.073.303.302.22156.0022.350.180.180.180.180.180.180.180.180.180.180.180.180.180.180.180.180.180.180.180.180.180.160.180.160.180.160.160.180.160.180.180.180.180.160.180.180.180.160.180.1614.5514.5513.573.5210.708.5510.708.558.548.5425.606.938.19157.403.913.914.472.208.6923.684.346.513.782.503.504.416.309.804.9021.5823.261.053.783.233.083.232.992.095.4614.872.8640.083.493.492.708.0921.0093.9457.4758.9858.985.9729.8541.7319.9061.692.302.302.3255.0013.262.185.6697.921.831.522.766.531.262.582.773.493.492.285.9215.721.891.711.719.714.817.154.653.645.956.306.995.5011.0535.7611.836.878.208.457.2415.586.4357.5010.481.073.233.4948.9260.378.4021.8032.39131.4614.057.487.487.487.487.487.477.487.487.487.477.487.4826.053.6520.2228.1928.2228.2128.2238.921.389.7319.521.3917.854.966.460.647.353.4712.003.692.742.7449.535.9549.535.953.770.951.000.9710.942.860.832.692.142.231.009.221.141.621.620.971.6610.942.860.836.362.852.691.452.142.232.818.527.881.801.8021.649.843.873.8711.702.841.461.465.791.851.853.651.511.517.056.496.4818.3010.924.1010.919.839.918.71134.0325.002.748.1911.7811.784.888.198.198.197.892.7815.902.782.282.2816.0618.9918.9916.0646.032.245.485.4958.056.115.1715.028.232.749.9113.939.248.008.0013.8113.814.112.322.3410.899.524.508.5112.444.4710.7610.765.445.448.727.381.201.181.181.185.971.9926.9116.3113.8213.8416.25180.3916.9011.9824.2122.4629.0918.5010.6123.0024.2919.4317.1914.963.5312.6715.689.978.008.635.905.909.013.675.7310.888.248.808.808.8118.0014.0034.501.921.921.921.351.341.349.2917.6010.7919.4316.101.731.731.7316.006.901.773.53153.660.670.670.670.670.650.6525.441.361.382.922.925.5322.4722.4722.4718.765.625.605.6264.723.794.864.2517.9512.554.2646.0836.1142.325.39365.659.885.7856.6288.3588.980.891.551.4928.8930.2925.052.003.478.7527.2711.049.889.881.611.131.605.6220.2681.07110.294.467.654.476.3812.7512.7689.8815.1515.1514.1113.3520.8318.870.7718.877.767.768.424.7418.0035.7753.4224.3214.709.801.371.370.843.633.638.516.939.963.113.113.113.111.370.780.770.780.7713.993.1115.5417.5568.9010.7012.5712.578.922.439.858.924.459.5017.886.888.926.022.439.858.924.458.2610.3317.1856.072.695.3739.1735.2050.293.7445.3615.832.672.672.672.672.7016.6217.495.5731.648.038.038.911.508.322.8215.631.622.991.626.325.335.321.881.884.184.1616.182.991.881.886.472.9915.083.3469.0018.8012.941.261.261.261.261.261.263.143.123.143.124.7325.7825.789.979.979.979.974.734.734.734.734.734.734.7313.9916.326.2016.7956.8710.6912.7418.934.3210.035.475.4718.786.074.505.1211.852.167.827.827.822.122.129.289.289.2822.849.619.2166.8916.6010.9994.9814.469.411.5451.4351.432.082.082.082.0734.9225.87258.8834.7916.53186.1911.441.4047.205.751.017.824.144.527.5155.6857.125.062.010.9524.325.379.524.037.8312.853.003.253.455.302.4621.6221.606.9310.4811.63211.4013.131.9519.899.859.862.9384.0027.358.648.644.214.212.692.676.376.365.364.473.003.147.604.372.706.856.8512.526.7223.06140.97128.0775.8359.7358.989.3619.348.827.7731.842.744.384.384.374.374.37140.008.357.958.628.628.6216.6382.807.9011.851.251.251.257.0235.0047.761.3678.603.103.070.996.806.7814.0014.00142.891.721.722.156.4656.2722.819.229.212.732.7414.0041.4611.224.044.007.077.077.077.0711.1910.1116.1811.034.3511.2811.284.885.4811.772.263.340.6712.8515.4312.2413.8916.523.043.6410.4919.112.993.253.013.256.5623.43",
          "12.304.212.9010.449.6211.2310.829.357.4716.0011.002.492.495.3213.7824.8432.7840.30100.1819.3323.1054.002.121.457.467.467.484.383.570.465.90117.075.255.25179.1064.053.022.803.498.728.727.357.357.555.511.992.002.20142.8018.1727.3927.3921.4022.184.732.792.791.832.0312.1512.3017.4722.5743.523.339.0820.666.6925.9315.0815.878.0010.0059.3170.6913.763.506.8459.895.585.586.556.5561.4967.2123.2129.7512.304.064.0629.451.501.501.501.504.134.134.134.134.1331.5343.715.209.2028.2017.5525.335.233.874.2328.2017.5525.335.233.874.2310.006.49132.8959.9744.986.5321.8314.7511.421.295.905.905.8510.7110.842.362.3524.9811.0711.076.087.088.4511.9012.2913.6218.437.4723.6523.6619.961.472.212.033.212.405.533.522.518.150.660.660.665.6713.461.231.242.452.455.113.945.241.927.348.001.506.576.573.5020.401.222.282.234.9128.6028.604.215.042.006.9718.411.830.660.660.660.662.223.290.883.2942.1213.7513.744.648.103.553.545.945.945.242.832.813.832.182.532.532.718.304.162.372.377.605.936.5878.327.5926.4926.4926.4979.4527.00216.0064.801.4231.131.730.688.7710.607.246.1432.7026.9126.132.143.133.173.173.143.123.16140.29122.5834.501.5226.0822.545.055.837.007.1512.1042.006.255.0411.7112.8912.7117.250.7911.2011.2011.2044.2696.05109.88500.2421.0611.438.428.4138.5752.966.566.62346.3014.997.8915.615.605.6013.6512.853.7728.914.4410.746.744.622.361.791.381.3722.901.7211.904.911.728.506.305.5039.492.892.063.012.595.005.0020.958.278.291.621.6237.0310.202.898.206.242.621.991.991.991.995.173.503.962.183.876.882.966.535.622.323.853.855.509.509.503.503.5017.057.8127.4315.114.201.041.041.043.805.615.625.299.616.058.661.891.291.891.891.891.890.590.590.590.590.590.590.590.590.590.5922.8636.8712.8424.0724.0624.0719.0014.9025.0214.9025.0222.510.950.950.9521.50145.77175.9625.1522.7518.8888.90176.8021.023.998.126.29104.9634.5528.7611.181.352.592.590.751.681.651.661.681.661.681.682.7324.556.031.011.032.342.344.804.804.804.804.804.802.544.451.372.212.217.740.9916.51129.555.8717.7175.1021.668.104.6929.750.4914.1114.0914.0914.0914.099.669.6553.92152.6010.3411.287.062.842.582.582.5813.601.062.251.3287.9411.367.869.1312.1018.9965.6333.0210.9910.9910.9910.999.3229.5412.0733.7317.0919.4519.3019.3015.8810.701.727.7694.6410.724.2939.7623.4321.8527.3321.7413.7011.7211.7128.9336.4836.4019.895.8315.323.842.321.4810.1032.412.154.634.6318.902.224.184.407.431.044.274.254.4172.8872.88220.003.6411.8844.6050.6014.8539.897.677.67168.0116.0855.2238.646.8012.587.3164.956.541.121.121.121.121.121.121.121.121.121.1269.795.3921.569.949.953.7715.902.112.112.112.113.763.762.083.152.412.412.412.412.412.412.085.752.512.514.9021.167.5634.801.9414.9010.226.336.2916.3049.228.029.507.499.3664.4672.0011.21111.66111.66111.66111.663.343.334.014.014.014.014.014.0125.565.1015.1015.9911.3831.0115.0647.7410.9110.912.8121.8140.368.623.053.038.7810.5221.587.201.2610.870.663.306.632.522.521.031.031.031.030.960.960.960.962.956.8360.5738.1620.80125.16127.77119.35101.3716.7010.8910.5010.5016.0144.4516.204.462.492.820.540.520.520.521.061.081.091.081.068.9111.6011.6016.50",
          "36.908.9719.8060.103.8269.0016.9122.9816.1116.1113.973.0515.713.9811.824.206.106.660.640.630.643.165.701.2510.26139.004.584.588.948.938.948.938.948.9321.1329.9975.0057.481.441.4426.5318.9818.9820.22130.449.219.853.7625.001.611.491.495.991.722.586.464.114.1124.89282.2817.927.935.032.3291.703.77120.7313.7117.177.2211.284.878.1018.786.3225.2436.0028.8038.712.9974.392.9853.768.8516.871.862.373.9958.276.343.521.634.665.252.5569.9910.7715.4615.4615.9713.932.8416.5930.927.1811.3545.0910.503.773.776.303.183.183.183.183.183.181.781.331.311.331.334.233.853.851.231.231.221.2321.5723.7112.892.844.5642.979.379.349.3764.247.997.417.4131.343.303.307.400.66132.003.953.9536.00164.9016.881.711.6218.6741.5748.495.739.003.3226.054.8422.7147.9456.5039.8915.056.321.101.404.671.005.503.825.905.901.8816.624.041.675.7478.0593.242.502.507.0122.312.323.724.3216.843.053.0030.262.523.993.9962.5551.692.596.5556.908.132.672.692.312.302.3027.6927.6918.2618.2635.6416.8416.8321.114.903.8118.0713.931.6114.50878.076.386.383.5010.921.091.091.090.980.980.98144.3614.9934.0615.9024.9628.8716.4548.111.722.656.886.876.876.8710.3510.3510.3410.3524.901.441.431.471.392.291.311.311.315.339.5487.144.322.6550.6610.9110.931071.252.151.434.301.431.671.431.421.431.421.423.124.794.794.794.7932.5310.416.845.7487.53109.5531.3210.537.147.147.146.526.524.429.059.0511.364.744.743.624.744.744.744.743.616.273.623.613.623.613.6210.8822.2919.609.802.710.670.674.361.180.631.180.650.650.650.671.3111.311.491.394.053.618.6410.256.76101.09725.6544.591.361.3625.3328.5631.1421.33310.1613.1912.1511.0513.704.133.281.171.171.171.183.4614.4042.2879.9710.2318.1818.8527.3027.3029.6117.7917.7976.7620.2212.1311.13152.03152.03145.578.0879.97309.28899.03620.81620.81407.60407.60214.27214.2713.7413.7314.3114.3114.3114.3114.3114.3114.3014.3014.3014.3014.302.102.082.5749.398.0079.000.460.4780.326.993.007.8915.797.263.441.726.723.065.185.186.417.345.175.665.481.561.56190.5636.1316.7524.8713.7410.5712.3222.464.774.754.474.484.4743.6527.846.827.015.821.813.8033.7329.020.908.081.511.513.821.511.5113.363.763.163.166.797.177.17128.0011.6711.6689.4013.1263.9022.1865.5920.6630.0829.592.701.062.191.582.704.081.5818.20142.021.6620.291.061.062.121.061.061.063.182.352.192.073.078.377.7410.527.7610.6230.726.8540.4314.327.0589.6386.1667.939.548.701.471.472.822.822.8216.0514.3412.4514.255.291.203.606.486.481.782.671.781.781.781.781.78101.484.531.485.645.648.4733.822.4416.911.741.7410.2711.6812.115.953.2837.6537.658.99133.5532.9820.306.176.176.174.668.636.507.5492.707.0022.823.5716.01120.39175.0527.0029.8213.3852.0051.7037.871.363.552.032.024.951.99108.105.535.533.364.154.153.364.154.150.750.750.750.830.830.831.221.221.222.782.781.441.4615.321.441.441.441.441.441.441.440.660.660.660.660.660.660.660.660.6615.776.016.0112.0012.662.742.725.6711.8936.2011.778.5914.0414.8612.0012.0053.6415.8515.004.2112.833.807.297.317.3118.2218.2218.2218.2218.2231.8233.7464.583.884.655.5817.8229.7313.9393.064.994.9957.8053.6020.9223.3411.1631.484.081.201.171.171.1928.85233.8237.6711.9011.8911.921.552.622.626.126.124.875.125.1216.142.532.512.532.512.371.554.614.234.607.082.534.193.438.602.538.5810.0021.783.442.132.671.7723.002.353.0321.051.981.482.762.762.023.044.0226.4037.3422.75202.804.997.5514.561.341.349.9961.568.0011.0013.6014.909.503.367.4513.937.007.0038.0012.9018.4518.4521.9719.115.845.9945.8145.8145.8145.813.773.778.14358.2038.6111.5812.284.657.1816.7337.90",
          "15.4077.331.5011.3542.166.0321.604.7511.4492.3245.774.803.663.663.661.951.961.961.381.964.793.773.7711.782.632.635.124.492.7016.3116.318.1510.2311.029.018.9958.001.591.992.9831.904.431.000.990.972.7729.165.186.0117.364.814.7929.4329.4378.361.461.461.461.4611.3114.5417.0913.8710.444.0163.67171.997.973.045.622.478.155.3514.638.328.328.328.3216.567.243.623.6212.9321.0666.503.231.741.7420.0024.692.912.822.822.823.645.933.782.874.162.325.5422.25138.9772.0160.452.311.6426.7530.2217.4730.2229.299.8017.2023.848.049.209.217.959.0210.819.919.911.871.8722.103.487.712.182.201.3417.984.146.581.001.381.381.381.462.692.842.326.023.548.998.151.250.791.552.364.513.643.272.721.192.402.402.402.392.392.392.392.392.392.3712.8239.8814.6314.639.286.706.703.9629.7923.892.8612.1612.1428.348.6338.887.4617.293.1610.353.1813.9021.0611.0924.3310.1934.663.324.654.6580.079.142.512.512.511.488.998.991.738.8814.138.5610.1114.203.200.640.645.452.222.444.050.0024.1430.8641.1558.072.402.679.4623.8919.425.375.260.950.533.595.535.535.535.533.391.321.322.402.403.653.653.651.671.161.151.151.151.431.431.431.431.431.431.437.033.396.006.001.711.711.711.712.993.013.01166.524.294.293.59846.0013.871.871.874.947.172.991.430.730.730.735.095.095.095.096.335.095.095.095.096.496.496.332.354.536.005.057.877.871.962.272.272.272.272.272.2765.308.0821.5321.5365.1665.1617.3866.57167.65367.381.501.502.0011.545.955.955.954.174.184.18148.0333.58372.559.2714.987.5811.305.495.494.684.684.684.684.689.513.403.353.3511.523.833.833.833.830.960.931.899.050.9412.853.990.650.652.1813.694.134.111.751.741.743.5722.1815.4290.1725.579.549.5427.795.6515.073.0021.199.5333.97111.6511.198.9516.3821.3136.2412.7412.7612.740.770.770.770.770.770.770.770.770.770.770.790.770.790.770.770.770.770.770.770.7710.2113.7479.7790.402.3713.1824.1214.3914.3712.933.2944.0010.579.998.9628.2317.5313.1081.25104.6225.872.056.752.1116.6351.502.006.076.0916.388.6817.856.75113.2116.5918.9219.3312.6414.7010.1844.832.042.2025.422.152.1511.3046.8111.3727.35114.0412.124.869.6314.4835.603.9415.4021.67106.2091.56290.0055.302.002.002.002.001.9324.243.1634.062.013.905.002.5944.2813.442.822.8120.4127.812.749.1615.8417.491.4742.2416.6421.1315.5912.774.855.73204.556.408.1812.1028.232.8216.8010.901.211.211.211.211.211.211.211.211.211.211.211.211.211.211.211.211.211.211.211.211.211.211.211.211.211.211.211.211.211.211.211.211.211.211.211.211.211.211.211.211.211.211.211.211.211.211.211.211.211.2115.7326.5244.1020.3332.1121.0712.497.0041.836.8515.7923.841.951.9612.8813.423.7612.791.621.623.4617.491.131.766.982.302.772.772.772.772.308.564.964.977.546.14120.0724.2157.238.544.4475.0982.8862.804.4227.748.148.148.148.128.148.128.148.128.148.1256.852.042.042.04240.658.007.998.007.998.007.997.997.990.8612.4813.5019.9060.166.9917.171.401.381.381.421.381.394.836.2311.1155.8511.781.613.853.8640.6121.0526.343.498.4714.3425.6813.0826.141.406.806.806.806.806.806.8025.803.503.503.5018.0037.001.26173.271.520.810.9438.453.385.9120.351.749.796.726.689.6613.3713.1747.6312.6716.499.516.3917.725.297.178.3811.0211.831.7911.151.4365.7393.1913.3338.4016.964.2810.614.774.639.6415.736.3117.109.609.6119.915.507.9920.3525.7729.8038.605.873.2413.4813.4810.678.5310.3216.725.40132.9424.2724.2724.3024.2719.9027.397.9054.1438.276.473.303.55197.906.186.834.23104.98107.83223.89108.189.9612.9511.8011.8011.8011.803.465.915.917.761.3819.726.701.751.4121.101.751.751.201.1512.0554.9811.9244.7014.254.534.528.585.885.88380.86146.4223.405.943.9625.8425.8425.8414.9114.915.835.832.603.1811.5337.925.918.342.342.327.377.877.874.5616.4424.723.893.8918.277.4061.198.747.0412.6118.517.8416.561.445.3618.8510.9067.920.660.662.993.002.993.002.993.002.993.003.002.992.993.003.002.993.003.002.993.002.992.992.993.003.003.003.003.003.003.003.003.003.003.003.003.003.003.003.003.003.003.003.002.993.002.993.002.993.003.003.003.0020.9520.951.563.813.8143.894.2916.0512.0514.6010.6424.7213.5741.7010.504.245.953.1832.405.525.905.405.4015.6012.9013.8624.744.984.264.2524.5123.0018.4023.0023.023.2617.8620.2738.7238.726.7028.075.6612.0018.5018.502.752.593.132.928.312.992.9914.006.296.2920.8020.7920.8025.9625.967.435.4215.9812.4923.5717.8911.498.0014.637.0077.38190.62159.281.762.508.5023.181.601.602.2578.2414.9814.2014.1953.778.814.794.7912.844.955.324.627.263.9439.6817.343.693.69178.936.676.661.2179.383.10",
          "75.0356.3867.52167.3256.5417.862.179.6218.4215.672.426.844.7616.1910.891.231.051.551.0843.3519.912.813.891.5216.386.399.946.427.3419.2210.9212.4142.225.7022.2120.3932.6515.265.6148.9027.2815.5415.259.007.646.439.9031.3015.04120.50",
          "164.8577.88120.09210.4757.06"
         ],
         "yaxis": "y"
        }
       ],
       "layout": {
        "annotations": [
         {
          "arrowhead": 2,
          "showarrow": true,
          "text": "Peak in Dec 2022",
          "x": "2022-12-01",
          "y": "1.722.5944.5344.5211.3511.71125.002.662.6610.924.009.909.901.581.581.722.111.721.725.183.372.101.312.881.321.421.321.3210.555.0637.731.1233.695.241.495.995.995.625.995.9926.1010.9022.9918.196.0538.0038.007.2810.868.052.071820.004.778.663.533.523.5242.3942.39224.114.644.62115.149.1046.8713.6919.904.003.2421.956.286.286.277.6017.888.828.8262.7017.6179.9551.7951.8016.927.990.107.9931.960.162.863.742.8959.0013.906.9969.00105.4329.7525.204.477.276.105.993.163.163.163.167.564.7432.309.849.949.944.994.997.667.667.667.0514.231.771.761.771.771.764.661.786.294.657.067.067.9544.907.9525.0025.004.854.856.7015.807.357.354.304.604.253.603.6029.854.355.126.957.485.112.5510.806.809.203.203.203.205.125.1110.952.357.4824.904.184.184.184.184.502.512.512.519.115.694.7966.7713.500.690.371.1819.743.90189.716.005.305.3018.6929.0014.16119.753.743.0340.8340.833.039.8089.9016.607.687.6848.987.6948.9717.627.718.902.9316.4916.4958.9758.976.796.793.933.933.933.933.931.993.989.509.5070.68145.0070.0911.4410.2710.279.243.7413.498.4838.536.2915.0089.35218.88160.3724.403.316.4177.00106.87484.57363.432.2670.0018.554.054.050.947.704.384.061.231.342.967.957.967.967.970.845.5915.5517.3914.5025.2939.9011.8526.711.2926.5812.471.3012.4815.0715.0729.4011.9312.9011.9112.725.5113.0513.055.7746.9419.9018.900.731.581.461.071.301.531.281.282.291.181.090.700.674.412.261.80114.2028.064.131.901.8943.0041.9541.953.363.5713.0526.0814.5718.8718.8718.8718.8642.8942.903.242.471.24"
         },
         {
          "arrowhead": 2,
          "showarrow": true,
          "text": "High in Sep 2023",
          "x": "2023-09-01",
          "y": "7.8455.3917.5018.7724.5027.2915.6018.7618.7618.7618.7659.015.2543.6024.756.4616.0213.327.646.5751.0220.3020.3020.3130.0430.0420.3020.3020.316.5751.0230.0430.0456.036.285.401.611.611.945.8811.8513.218.968.964.5812.1231.7615.8815.8861.9924.8424.8426.1912.515.1110.181.891.893.781.8911.3613.343.665.010.790.918.808.8021.0021.0021.0012.384.9012.6021.4927.020.971.2716.3612.257.507.500.660.660.660.660.660.6674.355.94104.6561.8815.9015.907.72131.0014.0012.2812.284.3323.602.6517.4816.8265.131.8716.005.3922.4556.906.456.456.4517.757.449.618.6220.7857.6026.7432.9231.1211.2125.0014.765.562.2726.005.018.935.718.9318.8218.8218.8221.3016.092.233.300.662.23323.8810.6931.9094.301880.9312.9412.9413.505.76212.1113.0395.9923.9910.514.622.739.7313.843.4027.9512.837.9127.10127.7828.625.683.893.883.8936.2819.8919.896.972.222.222.962.963.2218.001.073.105.262.143.051.3452.3230.268.874.0616.9918.3813.0713.073.303.302.22156.0022.350.180.180.180.180.180.180.180.180.180.180.180.180.180.180.180.180.180.180.180.180.180.160.180.160.180.160.160.180.160.180.180.180.180.160.180.180.180.160.180.1614.5514.5513.573.5210.708.5510.708.558.548.5425.606.938.19157.403.913.914.472.208.6923.684.346.513.782.503.504.416.309.804.9021.5823.261.053.783.233.083.232.992.095.4614.872.8640.083.493.492.708.0921.0093.9457.4758.9858.985.9729.8541.7319.9061.692.302.302.3255.0013.262.185.6697.921.831.522.766.531.262.582.773.493.492.285.9215.721.891.711.719.714.817.154.653.645.956.306.995.5011.0535.7611.836.878.208.457.2415.586.4357.5010.481.073.233.4948.9260.378.4021.8032.39131.4614.057.487.487.487.487.487.477.487.487.487.477.487.4826.053.6520.2228.1928.2228.2128.2238.921.389.7319.521.3917.854.966.460.647.353.4712.003.692.742.7449.535.9549.535.953.770.951.000.9710.942.860.832.692.142.231.009.221.141.621.620.971.6610.942.860.836.362.852.691.452.142.232.818.527.881.801.8021.649.843.873.8711.702.841.461.465.791.851.853.651.511.517.056.496.4818.3010.924.1010.919.839.918.71134.0325.002.748.1911.7811.784.888.198.198.197.892.7815.902.782.282.2816.0618.9918.9916.0646.032.245.485.4958.056.115.1715.028.232.749.9113.939.248.008.0013.8113.814.112.322.3410.899.524.508.5112.444.4710.7610.765.445.448.727.381.201.181.181.185.971.9926.9116.3113.8213.8416.25180.3916.9011.9824.2122.4629.0918.5010.6123.0024.2919.4317.1914.963.5312.6715.689.978.008.635.905.909.013.675.7310.888.248.808.808.8118.0014.0034.501.921.921.921.351.341.349.2917.6010.7919.4316.101.731.731.7316.006.901.773.53153.660.670.670.670.670.650.6525.441.361.382.922.925.5322.4722.4722.4718.765.625.605.6264.723.794.864.2517.9512.554.2646.0836.1142.325.39365.659.885.7856.6288.3588.980.891.551.4928.8930.2925.052.003.478.7527.2711.049.889.881.611.131.605.6220.2681.07110.294.467.654.476.3812.7512.7689.8815.1515.1514.1113.3520.8318.870.7718.877.767.768.424.7418.0035.7753.4224.3214.709.801.371.370.843.633.638.516.939.963.113.113.113.111.370.780.770.780.7713.993.1115.5417.5568.9010.7012.5712.578.922.439.858.924.459.5017.886.888.926.022.439.858.924.458.2610.3317.1856.072.695.3739.1735.2050.293.7445.3615.832.672.672.672.672.7016.6217.495.5731.648.038.038.911.508.322.8215.631.622.991.626.325.335.321.881.884.184.1616.182.991.881.886.472.9915.083.3469.0018.8012.941.261.261.261.261.261.263.143.123.143.124.7325.7825.789.979.979.979.974.734.734.734.734.734.734.7313.9916.326.2016.7956.8710.6912.7418.934.3210.035.475.4718.786.074.505.1211.852.167.827.827.822.122.129.289.289.2822.849.619.2166.8916.6010.9994.9814.469.411.5451.4351.432.082.082.082.0734.9225.87258.8834.7916.53186.1911.441.4047.205.751.017.824.144.527.5155.6857.125.062.010.9524.325.379.524.037.8312.853.003.253.455.302.4621.6221.606.9310.4811.63211.4013.131.9519.899.859.862.9384.0027.358.648.644.214.212.692.676.376.365.364.473.003.147.604.372.706.856.8512.526.7223.06140.97128.0775.8359.7358.989.3619.348.827.7731.842.744.384.384.374.374.37140.008.357.958.628.628.6216.6382.807.9011.851.251.251.257.0235.0047.761.3678.603.103.070.996.806.7814.0014.00142.891.721.722.156.4656.2722.819.229.212.732.7414.0041.4611.224.044.007.077.077.077.0711.1910.1116.1811.034.3511.2811.284.885.4811.772.263.340.6712.8515.4312.2413.8916.523.043.6410.4919.112.993.253.013.256.5623.43"
         }
        ],
        "hovermode": "x unified",
        "legend": {
         "tracegroupgap": 0
        },
        "template": {
         "data": {
          "bar": [
           {
            "error_x": {
             "color": "#2a3f5f"
            },
            "error_y": {
             "color": "#2a3f5f"
            },
            "marker": {
             "line": {
              "color": "white",
              "width": 0.5
             },
             "pattern": {
              "fillmode": "overlay",
              "size": 10,
              "solidity": 0.2
             }
            },
            "type": "bar"
           }
          ],
          "barpolar": [
           {
            "marker": {
             "line": {
              "color": "white",
              "width": 0.5
             },
             "pattern": {
              "fillmode": "overlay",
              "size": 10,
              "solidity": 0.2
             }
            },
            "type": "barpolar"
           }
          ],
          "carpet": [
           {
            "aaxis": {
             "endlinecolor": "#2a3f5f",
             "gridcolor": "#C8D4E3",
             "linecolor": "#C8D4E3",
             "minorgridcolor": "#C8D4E3",
             "startlinecolor": "#2a3f5f"
            },
            "baxis": {
             "endlinecolor": "#2a3f5f",
             "gridcolor": "#C8D4E3",
             "linecolor": "#C8D4E3",
             "minorgridcolor": "#C8D4E3",
             "startlinecolor": "#2a3f5f"
            },
            "type": "carpet"
           }
          ],
          "choropleth": [
           {
            "colorbar": {
             "outlinewidth": 0,
             "ticks": ""
            },
            "type": "choropleth"
           }
          ],
          "contour": [
           {
            "colorbar": {
             "outlinewidth": 0,
             "ticks": ""
            },
            "colorscale": [
             [
              0,
              "#0d0887"
             ],
             [
              0.1111111111111111,
              "#46039f"
             ],
             [
              0.2222222222222222,
              "#7201a8"
             ],
             [
              0.3333333333333333,
              "#9c179e"
             ],
             [
              0.4444444444444444,
              "#bd3786"
             ],
             [
              0.5555555555555556,
              "#d8576b"
             ],
             [
              0.6666666666666666,
              "#ed7953"
             ],
             [
              0.7777777777777778,
              "#fb9f3a"
             ],
             [
              0.8888888888888888,
              "#fdca26"
             ],
             [
              1,
              "#f0f921"
             ]
            ],
            "type": "contour"
           }
          ],
          "contourcarpet": [
           {
            "colorbar": {
             "outlinewidth": 0,
             "ticks": ""
            },
            "type": "contourcarpet"
           }
          ],
          "heatmap": [
           {
            "colorbar": {
             "outlinewidth": 0,
             "ticks": ""
            },
            "colorscale": [
             [
              0,
              "#0d0887"
             ],
             [
              0.1111111111111111,
              "#46039f"
             ],
             [
              0.2222222222222222,
              "#7201a8"
             ],
             [
              0.3333333333333333,
              "#9c179e"
             ],
             [
              0.4444444444444444,
              "#bd3786"
             ],
             [
              0.5555555555555556,
              "#d8576b"
             ],
             [
              0.6666666666666666,
              "#ed7953"
             ],
             [
              0.7777777777777778,
              "#fb9f3a"
             ],
             [
              0.8888888888888888,
              "#fdca26"
             ],
             [
              1,
              "#f0f921"
             ]
            ],
            "type": "heatmap"
           }
          ],
          "heatmapgl": [
           {
            "colorbar": {
             "outlinewidth": 0,
             "ticks": ""
            },
            "colorscale": [
             [
              0,
              "#0d0887"
             ],
             [
              0.1111111111111111,
              "#46039f"
             ],
             [
              0.2222222222222222,
              "#7201a8"
             ],
             [
              0.3333333333333333,
              "#9c179e"
             ],
             [
              0.4444444444444444,
              "#bd3786"
             ],
             [
              0.5555555555555556,
              "#d8576b"
             ],
             [
              0.6666666666666666,
              "#ed7953"
             ],
             [
              0.7777777777777778,
              "#fb9f3a"
             ],
             [
              0.8888888888888888,
              "#fdca26"
             ],
             [
              1,
              "#f0f921"
             ]
            ],
            "type": "heatmapgl"
           }
          ],
          "histogram": [
           {
            "marker": {
             "pattern": {
              "fillmode": "overlay",
              "size": 10,
              "solidity": 0.2
             }
            },
            "type": "histogram"
           }
          ],
          "histogram2d": [
           {
            "colorbar": {
             "outlinewidth": 0,
             "ticks": ""
            },
            "colorscale": [
             [
              0,
              "#0d0887"
             ],
             [
              0.1111111111111111,
              "#46039f"
             ],
             [
              0.2222222222222222,
              "#7201a8"
             ],
             [
              0.3333333333333333,
              "#9c179e"
             ],
             [
              0.4444444444444444,
              "#bd3786"
             ],
             [
              0.5555555555555556,
              "#d8576b"
             ],
             [
              0.6666666666666666,
              "#ed7953"
             ],
             [
              0.7777777777777778,
              "#fb9f3a"
             ],
             [
              0.8888888888888888,
              "#fdca26"
             ],
             [
              1,
              "#f0f921"
             ]
            ],
            "type": "histogram2d"
           }
          ],
          "histogram2dcontour": [
           {
            "colorbar": {
             "outlinewidth": 0,
             "ticks": ""
            },
            "colorscale": [
             [
              0,
              "#0d0887"
             ],
             [
              0.1111111111111111,
              "#46039f"
             ],
             [
              0.2222222222222222,
              "#7201a8"
             ],
             [
              0.3333333333333333,
              "#9c179e"
             ],
             [
              0.4444444444444444,
              "#bd3786"
             ],
             [
              0.5555555555555556,
              "#d8576b"
             ],
             [
              0.6666666666666666,
              "#ed7953"
             ],
             [
              0.7777777777777778,
              "#fb9f3a"
             ],
             [
              0.8888888888888888,
              "#fdca26"
             ],
             [
              1,
              "#f0f921"
             ]
            ],
            "type": "histogram2dcontour"
           }
          ],
          "mesh3d": [
           {
            "colorbar": {
             "outlinewidth": 0,
             "ticks": ""
            },
            "type": "mesh3d"
           }
          ],
          "parcoords": [
           {
            "line": {
             "colorbar": {
              "outlinewidth": 0,
              "ticks": ""
             }
            },
            "type": "parcoords"
           }
          ],
          "pie": [
           {
            "automargin": true,
            "type": "pie"
           }
          ],
          "scatter": [
           {
            "fillpattern": {
             "fillmode": "overlay",
             "size": 10,
             "solidity": 0.2
            },
            "type": "scatter"
           }
          ],
          "scatter3d": [
           {
            "line": {
             "colorbar": {
              "outlinewidth": 0,
              "ticks": ""
             }
            },
            "marker": {
             "colorbar": {
              "outlinewidth": 0,
              "ticks": ""
             }
            },
            "type": "scatter3d"
           }
          ],
          "scattercarpet": [
           {
            "marker": {
             "colorbar": {
              "outlinewidth": 0,
              "ticks": ""
             }
            },
            "type": "scattercarpet"
           }
          ],
          "scattergeo": [
           {
            "marker": {
             "colorbar": {
              "outlinewidth": 0,
              "ticks": ""
             }
            },
            "type": "scattergeo"
           }
          ],
          "scattergl": [
           {
            "marker": {
             "colorbar": {
              "outlinewidth": 0,
              "ticks": ""
             }
            },
            "type": "scattergl"
           }
          ],
          "scattermapbox": [
           {
            "marker": {
             "colorbar": {
              "outlinewidth": 0,
              "ticks": ""
             }
            },
            "type": "scattermapbox"
           }
          ],
          "scatterpolar": [
           {
            "marker": {
             "colorbar": {
              "outlinewidth": 0,
              "ticks": ""
             }
            },
            "type": "scatterpolar"
           }
          ],
          "scatterpolargl": [
           {
            "marker": {
             "colorbar": {
              "outlinewidth": 0,
              "ticks": ""
             }
            },
            "type": "scatterpolargl"
           }
          ],
          "scatterternary": [
           {
            "marker": {
             "colorbar": {
              "outlinewidth": 0,
              "ticks": ""
             }
            },
            "type": "scatterternary"
           }
          ],
          "surface": [
           {
            "colorbar": {
             "outlinewidth": 0,
             "ticks": ""
            },
            "colorscale": [
             [
              0,
              "#0d0887"
             ],
             [
              0.1111111111111111,
              "#46039f"
             ],
             [
              0.2222222222222222,
              "#7201a8"
             ],
             [
              0.3333333333333333,
              "#9c179e"
             ],
             [
              0.4444444444444444,
              "#bd3786"
             ],
             [
              0.5555555555555556,
              "#d8576b"
             ],
             [
              0.6666666666666666,
              "#ed7953"
             ],
             [
              0.7777777777777778,
              "#fb9f3a"
             ],
             [
              0.8888888888888888,
              "#fdca26"
             ],
             [
              1,
              "#f0f921"
             ]
            ],
            "type": "surface"
           }
          ],
          "table": [
           {
            "cells": {
             "fill": {
              "color": "#EBF0F8"
             },
             "line": {
              "color": "white"
             }
            },
            "header": {
             "fill": {
              "color": "#C8D4E3"
             },
             "line": {
              "color": "white"
             }
            },
            "type": "table"
           }
          ]
         },
         "layout": {
          "annotationdefaults": {
           "arrowcolor": "#2a3f5f",
           "arrowhead": 0,
           "arrowwidth": 1
          },
          "autotypenumbers": "strict",
          "coloraxis": {
           "colorbar": {
            "outlinewidth": 0,
            "ticks": ""
           }
          },
          "colorscale": {
           "diverging": [
            [
             0,
             "#8e0152"
            ],
            [
             0.1,
             "#c51b7d"
            ],
            [
             0.2,
             "#de77ae"
            ],
            [
             0.3,
             "#f1b6da"
            ],
            [
             0.4,
             "#fde0ef"
            ],
            [
             0.5,
             "#f7f7f7"
            ],
            [
             0.6,
             "#e6f5d0"
            ],
            [
             0.7,
             "#b8e186"
            ],
            [
             0.8,
             "#7fbc41"
            ],
            [
             0.9,
             "#4d9221"
            ],
            [
             1,
             "#276419"
            ]
           ],
           "sequential": [
            [
             0,
             "#0d0887"
            ],
            [
             0.1111111111111111,
             "#46039f"
            ],
            [
             0.2222222222222222,
             "#7201a8"
            ],
            [
             0.3333333333333333,
             "#9c179e"
            ],
            [
             0.4444444444444444,
             "#bd3786"
            ],
            [
             0.5555555555555556,
             "#d8576b"
            ],
            [
             0.6666666666666666,
             "#ed7953"
            ],
            [
             0.7777777777777778,
             "#fb9f3a"
            ],
            [
             0.8888888888888888,
             "#fdca26"
            ],
            [
             1,
             "#f0f921"
            ]
           ],
           "sequentialminus": [
            [
             0,
             "#0d0887"
            ],
            [
             0.1111111111111111,
             "#46039f"
            ],
            [
             0.2222222222222222,
             "#7201a8"
            ],
            [
             0.3333333333333333,
             "#9c179e"
            ],
            [
             0.4444444444444444,
             "#bd3786"
            ],
            [
             0.5555555555555556,
             "#d8576b"
            ],
            [
             0.6666666666666666,
             "#ed7953"
            ],
            [
             0.7777777777777778,
             "#fb9f3a"
            ],
            [
             0.8888888888888888,
             "#fdca26"
            ],
            [
             1,
             "#f0f921"
            ]
           ]
          },
          "colorway": [
           "#636efa",
           "#EF553B",
           "#00cc96",
           "#ab63fa",
           "#FFA15A",
           "#19d3f3",
           "#FF6692",
           "#B6E880",
           "#FF97FF",
           "#FECB52"
          ],
          "font": {
           "color": "#2a3f5f"
          },
          "geo": {
           "bgcolor": "white",
           "lakecolor": "white",
           "landcolor": "white",
           "showlakes": true,
           "showland": true,
           "subunitcolor": "#C8D4E3"
          },
          "hoverlabel": {
           "align": "left"
          },
          "hovermode": "closest",
          "mapbox": {
           "style": "light"
          },
          "paper_bgcolor": "white",
          "plot_bgcolor": "white",
          "polar": {
           "angularaxis": {
            "gridcolor": "#EBF0F8",
            "linecolor": "#EBF0F8",
            "ticks": ""
           },
           "bgcolor": "white",
           "radialaxis": {
            "gridcolor": "#EBF0F8",
            "linecolor": "#EBF0F8",
            "ticks": ""
           }
          },
          "scene": {
           "xaxis": {
            "backgroundcolor": "white",
            "gridcolor": "#DFE8F3",
            "gridwidth": 2,
            "linecolor": "#EBF0F8",
            "showbackground": true,
            "ticks": "",
            "zerolinecolor": "#EBF0F8"
           },
           "yaxis": {
            "backgroundcolor": "white",
            "gridcolor": "#DFE8F3",
            "gridwidth": 2,
            "linecolor": "#EBF0F8",
            "showbackground": true,
            "ticks": "",
            "zerolinecolor": "#EBF0F8"
           },
           "zaxis": {
            "backgroundcolor": "white",
            "gridcolor": "#DFE8F3",
            "gridwidth": 2,
            "linecolor": "#EBF0F8",
            "showbackground": true,
            "ticks": "",
            "zerolinecolor": "#EBF0F8"
           }
          },
          "shapedefaults": {
           "line": {
            "color": "#2a3f5f"
           }
          },
          "ternary": {
           "aaxis": {
            "gridcolor": "#DFE8F3",
            "linecolor": "#A2B1C6",
            "ticks": ""
           },
           "baxis": {
            "gridcolor": "#DFE8F3",
            "linecolor": "#A2B1C6",
            "ticks": ""
           },
           "bgcolor": "white",
           "caxis": {
            "gridcolor": "#DFE8F3",
            "linecolor": "#A2B1C6",
            "ticks": ""
           }
          },
          "title": {
           "x": 0.05
          },
          "xaxis": {
           "automargin": true,
           "gridcolor": "#EBF0F8",
           "linecolor": "#EBF0F8",
           "ticks": "",
           "title": {
            "standoff": 15
           },
           "zerolinecolor": "#EBF0F8",
           "zerolinewidth": 2
          },
          "yaxis": {
           "automargin": true,
           "gridcolor": "#EBF0F8",
           "linecolor": "#EBF0F8",
           "ticks": "",
           "title": {
            "standoff": 15
           },
           "zerolinecolor": "#EBF0F8",
           "zerolinewidth": 2
          }
         }
        },
        "title": {
         "text": "Monthly Redemption Value Trend"
        },
        "xaxis": {
         "anchor": "y",
         "domain": [
          0,
          1
         ],
         "rangeselector": {
          "buttons": [
           {
            "count": 1,
            "label": "1m",
            "step": "month",
            "stepmode": "backward"
           },
           {
            "count": 6,
            "label": "6m",
            "step": "month",
            "stepmode": "backward"
           },
           {
            "count": 1,
            "label": "YTD",
            "step": "year",
            "stepmode": "todate"
           },
           {
            "count": 1,
            "label": "1y",
            "step": "year",
            "stepmode": "backward"
           },
           {
            "step": "all"
           }
          ]
         },
         "rangeslider": {
          "visible": true
         },
         "tickangle": 45,
         "title": {
          "text": "Month"
         },
         "type": "date"
        },
        "yaxis": {
         "anchor": "x",
         "domain": [
          0,
          1
         ],
         "title": {
          "text": "Total Redemption Value (SGD)"
         }
        }
       }
      }
     },
     "metadata": {},
     "output_type": "display_data"
    }
   ],
   "source": [
    "# Plotting the trend of monthly redemption values using Plotly\n",
    "fig = px.line(monthly_redemption_value, x='Month', y='Total Redemption Value', title='Monthly Redemption Value Trend', markers=True, \n",
    "              labels={'Total Redemption Value':'Total Redemption Value (SGD)', 'Month':'Date'})\n",
    "\n",
    "# Add annotations for key points (if any, based on significant changes or peaks)\n",
    "# Example annotations, adjust as needed\n",
    "fig.add_annotation(x='2022-12-01', y=monthly_redemption_value.loc[monthly_redemption_value['Month'] == '2022-12-01', 'Total Redemption Value'].values[0],\n",
    "                   text='Peak in Dec 2022', showarrow=True, arrowhead=2)\n",
    "fig.add_annotation(x='2023-09-01', y=monthly_redemption_value.loc[monthly_redemption_value['Month'] == '2023-09-01', 'Total Redemption Value'].values[0],\n",
    "                   text='High in Sep 2023', showarrow=True, arrowhead=2)\n",
    "\n",
    "# Adding range slider and range buttons\n",
    "fig.update_xaxes(\n",
    "    rangeselector=dict(\n",
    "        buttons=list([\n",
    "            dict(count=1, label=\"1m\", step=\"month\", stepmode=\"backward\"),\n",
    "            dict(count=6, label=\"6m\", step=\"month\", stepmode=\"backward\"),\n",
    "            dict(count=1, label=\"YTD\", step=\"year\", stepmode=\"todate\"),\n",
    "            dict(count=1, label=\"1y\", step=\"year\", stepmode=\"backward\"),\n",
    "            dict(step=\"all\")\n",
    "        ])\n",
    "    ),\n",
    "    rangeslider=dict(visible=True),\n",
    "    type=\"date\"\n",
    ")\n",
    "\n",
    "# Formatting the plot\n",
    "fig.update_layout(\n",
    "    xaxis_title='Month',\n",
    "    yaxis_title='Total Redemption Value (SGD)',\n",
    "    xaxis_tickangle=45,\n",
    "    template='plotly_white',\n",
    "    hovermode='x unified'\n",
    ")\n",
    "\n",
    "# Show the interactive plot\n",
    "fig.show()"
   ]
  },
  {
   "cell_type": "code",
   "execution_count": null,
   "metadata": {},
   "outputs": [],
   "source": []
  }
 ],
 "metadata": {
  "kernelspec": {
   "display_name": ".venv",
   "language": "python",
   "name": "python3"
  },
  "language_info": {
   "codemirror_mode": {
    "name": "ipython",
    "version": 3
   },
   "file_extension": ".py",
   "mimetype": "text/x-python",
   "name": "python",
   "nbconvert_exporter": "python",
   "pygments_lexer": "ipython3",
   "version": "3.12.1"
  }
 },
 "nbformat": 4,
 "nbformat_minor": 2
}
